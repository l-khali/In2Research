{
 "cells": [
  {
   "cell_type": "code",
   "execution_count": 3,
   "metadata": {},
   "outputs": [],
   "source": [
    "import numpy as np\n",
    "import pandas as pd\n",
    "from visits import Visit"
   ]
  },
  {
   "cell_type": "code",
   "execution_count": 4,
   "metadata": {},
   "outputs": [],
   "source": [
    "cohort_1_details = pd.read_csv(\"cohort_1_details.csv\", sep=',')\n",
    "cohort_2_details = pd.read_csv(\"cohort_2_details.csv\", sep=',')\n",
    "cohort_3_details = pd.read_csv(\"cohort_3_details.csv\", sep=',')\n",
    "cohort_4_details = pd.read_csv(\"cohort_4_details.csv\", sep=',')\n"
   ]
  },
  {
   "cell_type": "code",
   "execution_count": 5,
   "metadata": {},
   "outputs": [],
   "source": [
    "test1 = Visit(\"../In2Research_data/data/P/C/PC0600\", cohort_1_details, cohort_2_details, cohort_3_details, cohort_4_details)"
   ]
  },
  {
   "cell_type": "code",
   "execution_count": 6,
   "metadata": {},
   "outputs": [
    {
     "data": {
      "text/html": [
       "<div>\n",
       "<style scoped>\n",
       "    .dataframe tbody tr th:only-of-type {\n",
       "        vertical-align: middle;\n",
       "    }\n",
       "\n",
       "    .dataframe tbody tr th {\n",
       "        vertical-align: top;\n",
       "    }\n",
       "\n",
       "    .dataframe thead th {\n",
       "        text-align: right;\n",
       "    }\n",
       "</style>\n",
       "<table border=\"1\" class=\"dataframe\">\n",
       "  <thead>\n",
       "    <tr style=\"text-align: right;\">\n",
       "      <th></th>\n",
       "      <th>Unnamed: 0</th>\n",
       "      <th>Project ID</th>\n",
       "      <th>birth_deid_date</th>\n",
       "      <th>death_deid_date</th>\n",
       "      <th>sex</th>\n",
       "      <th>icu_visit</th>\n",
       "      <th>icu_start_deid_dttm</th>\n",
       "      <th>icu_end_deid_dttm</th>\n",
       "      <th>failed_extubation_flag</th>\n",
       "      <th>failed_extubation_deid_date</th>\n",
       "      <th>intubation_flag</th>\n",
       "      <th>extubation_flag</th>\n",
       "      <th>extubation_deid_date</th>\n",
       "      <th>extubation_score</th>\n",
       "      <th>re_intubation_deid_date</th>\n",
       "      <th>icu_ward</th>\n",
       "      <th>extubation_duration</th>\n",
       "      <th>age (days)</th>\n",
       "    </tr>\n",
       "  </thead>\n",
       "  <tbody>\n",
       "    <tr>\n",
       "      <th>14</th>\n",
       "      <td>740</td>\n",
       "      <td>PC0600</td>\n",
       "      <td>2013-06-15 00:00:00</td>\n",
       "      <td>NaN</td>\n",
       "      <td>Male</td>\n",
       "      <td>1</td>\n",
       "      <td>2017-08-11 17:23:00</td>\n",
       "      <td>2017-08-23 18:50:00</td>\n",
       "      <td>1.0</td>\n",
       "      <td>2017-08-12 13:45:00</td>\n",
       "      <td>1</td>\n",
       "      <td>1.0</td>\n",
       "      <td>2017-08-12 13:45:00</td>\n",
       "      <td>5.0</td>\n",
       "      <td>2017-08-14 19:00:00</td>\n",
       "      <td>FLAMI</td>\n",
       "      <td>315.0</td>\n",
       "      <td>1519.572917</td>\n",
       "    </tr>\n",
       "  </tbody>\n",
       "</table>\n",
       "</div>"
      ],
      "text/plain": [
       "    Unnamed: 0 Project ID      birth_deid_date  death_deid_date   sex  \\\n",
       "14         740     PC0600  2013-06-15 00:00:00              NaN  Male   \n",
       "\n",
       "    icu_visit  icu_start_deid_dttm    icu_end_deid_dttm  \\\n",
       "14          1  2017-08-11 17:23:00  2017-08-23 18:50:00   \n",
       "\n",
       "    failed_extubation_flag failed_extubation_deid_date  intubation_flag  \\\n",
       "14                     1.0         2017-08-12 13:45:00                1   \n",
       "\n",
       "    extubation_flag extubation_deid_date  extubation_score  \\\n",
       "14              1.0  2017-08-12 13:45:00               5.0   \n",
       "\n",
       "   re_intubation_deid_date icu_ward  extubation_duration   age (days)  \n",
       "14     2017-08-14 19:00:00    FLAMI                315.0  1519.572917  "
      ]
     },
     "execution_count": 6,
     "metadata": {},
     "output_type": "execute_result"
    }
   ],
   "source": [
    "test1.details"
   ]
  },
  {
   "cell_type": "code",
   "execution_count": null,
   "metadata": {},
   "outputs": [],
   "source": []
  }
 ],
 "metadata": {
  "language_info": {
   "name": "python"
  },
  "orig_nbformat": 4
 },
 "nbformat": 4,
 "nbformat_minor": 2
}
