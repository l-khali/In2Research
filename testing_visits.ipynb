{
 "cells": [
  {
   "cell_type": "code",
   "execution_count": 1,
   "metadata": {},
   "outputs": [],
   "source": [
    "import numpy as np\n",
    "import pandas as pd\n",
    "from visits import Visit\n",
    "import glob"
   ]
  },
  {
   "cell_type": "code",
   "execution_count": 2,
   "metadata": {},
   "outputs": [],
   "source": [
    "cohort_1_details = pd.read_csv(\"cohort_1_details.csv\", sep=',')\n",
    "cohort_2_details = pd.read_csv(\"cohort_2_details.csv\", sep=',')\n",
    "cohort_3_details = pd.read_csv(\"cohort_3_details.csv\", sep=',')\n",
    "cohort_4_details = pd.read_csv(\"cohort_4_details.csv\", sep=',')\n"
   ]
  },
  {
   "cell_type": "code",
   "execution_count": 3,
   "metadata": {},
   "outputs": [],
   "source": [
    "test1 = Visit(\"../In2Research_data/data/P/C/WP0322\", cohort_1_details, cohort_2_details, cohort_3_details, cohort_4_details)"
   ]
  },
  {
   "cell_type": "code",
   "execution_count": 4,
   "metadata": {},
   "outputs": [
    {
     "data": {
      "text/plain": [
       "1"
      ]
     },
     "execution_count": 4,
     "metadata": {},
     "output_type": "execute_result"
    }
   ],
   "source": [
    "test1.cohort"
   ]
  },
  {
   "cell_type": "code",
   "execution_count": 5,
   "metadata": {},
   "outputs": [],
   "source": [
    "test2 = Visit(\"../In2Research_data/data/P/C/PC0600\", cohort_1_details, cohort_2_details, cohort_3_details, cohort_4_details)"
   ]
  },
  {
   "cell_type": "code",
   "execution_count": 6,
   "metadata": {},
   "outputs": [
    {
     "data": {
      "text/html": [
       "<div>\n",
       "<style scoped>\n",
       "    .dataframe tbody tr th:only-of-type {\n",
       "        vertical-align: middle;\n",
       "    }\n",
       "\n",
       "    .dataframe tbody tr th {\n",
       "        vertical-align: top;\n",
       "    }\n",
       "\n",
       "    .dataframe thead th {\n",
       "        text-align: right;\n",
       "    }\n",
       "</style>\n",
       "<table border=\"1\" class=\"dataframe\">\n",
       "  <thead>\n",
       "    <tr style=\"text-align: right;\">\n",
       "      <th></th>\n",
       "      <th>Unnamed: 0</th>\n",
       "      <th>Project ID</th>\n",
       "      <th>birth_deid_date</th>\n",
       "      <th>death_deid_date</th>\n",
       "      <th>sex</th>\n",
       "      <th>icu_visit</th>\n",
       "      <th>icu_start_deid_dttm</th>\n",
       "      <th>icu_end_deid_dttm</th>\n",
       "      <th>failed_extubation_flag</th>\n",
       "      <th>failed_extubation_deid_date</th>\n",
       "      <th>intubation_flag</th>\n",
       "      <th>extubation_flag</th>\n",
       "      <th>extubation_deid_date</th>\n",
       "      <th>extubation_score</th>\n",
       "      <th>re_intubation_deid_date</th>\n",
       "      <th>icu_ward</th>\n",
       "      <th>extubation_duration</th>\n",
       "      <th>age (days)</th>\n",
       "    </tr>\n",
       "  </thead>\n",
       "  <tbody>\n",
       "    <tr>\n",
       "      <th>14</th>\n",
       "      <td>740</td>\n",
       "      <td>PC0600</td>\n",
       "      <td>2013-06-15 00:00:00</td>\n",
       "      <td>NaN</td>\n",
       "      <td>Male</td>\n",
       "      <td>1</td>\n",
       "      <td>2017-08-11 17:23:00</td>\n",
       "      <td>2017-08-23 18:50:00</td>\n",
       "      <td>1.0</td>\n",
       "      <td>2017-08-12 13:45:00</td>\n",
       "      <td>1</td>\n",
       "      <td>1.0</td>\n",
       "      <td>2017-08-12 13:45:00</td>\n",
       "      <td>5.0</td>\n",
       "      <td>2017-08-14 19:00:00</td>\n",
       "      <td>FLAMI</td>\n",
       "      <td>315.0</td>\n",
       "      <td>1519.572917</td>\n",
       "    </tr>\n",
       "  </tbody>\n",
       "</table>\n",
       "</div>"
      ],
      "text/plain": [
       "    Unnamed: 0 Project ID      birth_deid_date  death_deid_date   sex  \\\n",
       "14         740     PC0600  2013-06-15 00:00:00              NaN  Male   \n",
       "\n",
       "    icu_visit  icu_start_deid_dttm    icu_end_deid_dttm  \\\n",
       "14          1  2017-08-11 17:23:00  2017-08-23 18:50:00   \n",
       "\n",
       "    failed_extubation_flag failed_extubation_deid_date  intubation_flag  \\\n",
       "14                     1.0         2017-08-12 13:45:00                1   \n",
       "\n",
       "    extubation_flag extubation_deid_date  extubation_score  \\\n",
       "14              1.0  2017-08-12 13:45:00               5.0   \n",
       "\n",
       "   re_intubation_deid_date icu_ward  extubation_duration   age (days)  \n",
       "14     2017-08-14 19:00:00    FLAMI                315.0  1519.572917  "
      ]
     },
     "execution_count": 6,
     "metadata": {},
     "output_type": "execute_result"
    }
   ],
   "source": [
    "test2.details"
   ]
  },
  {
   "cell_type": "code",
   "execution_count": 7,
   "metadata": {},
   "outputs": [
    {
     "data": {
      "text/plain": [
       "'2016-08-02 14:30:00'"
      ]
     },
     "execution_count": 7,
     "metadata": {},
     "output_type": "execute_result"
    }
   ],
   "source": [
    "test1.start_time"
   ]
  },
  {
   "cell_type": "code",
   "execution_count": 8,
   "metadata": {},
   "outputs": [
    {
     "data": {
      "text/plain": [
       "'2017-08-12 13:45:00'"
      ]
     },
     "execution_count": 8,
     "metadata": {},
     "output_type": "execute_result"
    }
   ],
   "source": [
    "test2.start_time"
   ]
  },
  {
   "cell_type": "code",
   "execution_count": 9,
   "metadata": {},
   "outputs": [
    {
     "data": {
      "text/plain": [
       "6    2016-07-25 14:00:00\n",
       "Name: extubation_deid_date, dtype: object"
      ]
     },
     "execution_count": 9,
     "metadata": {},
     "output_type": "execute_result"
    }
   ],
   "source": [
    "test1.details[\"extubation_deid_date\"]"
   ]
  },
  {
   "cell_type": "code",
   "execution_count": 10,
   "metadata": {},
   "outputs": [
    {
     "data": {
      "text/plain": [
       "'2016-08-02 14:30:00'"
      ]
     },
     "execution_count": 10,
     "metadata": {},
     "output_type": "execute_result"
    }
   ],
   "source": [
    "test1.start_time"
   ]
  },
  {
   "cell_type": "code",
   "execution_count": 11,
   "metadata": {},
   "outputs": [
    {
     "name": "stdout",
     "output_type": "stream",
     "text": [
      "../In2Research_data/data/P/C/PC0600/PC0600_1_HR.csv\n"
     ]
    }
   ],
   "source": [
    "for file in glob.glob(\"../In2Research_data/data/P/C/PC0600\" + \"/*\"):\n",
    "    if \"_HR\" in file:\n",
    "        print(file)"
   ]
  },
  {
   "cell_type": "code",
   "execution_count": 12,
   "metadata": {},
   "outputs": [
    {
     "data": {
      "text/plain": [
       "'../In2Research_data/data/P/C/WP0322'"
      ]
     },
     "execution_count": 12,
     "metadata": {},
     "output_type": "execute_result"
    }
   ],
   "source": [
    "test1.directory"
   ]
  },
  {
   "cell_type": "code",
   "execution_count": 13,
   "metadata": {},
   "outputs": [
    {
     "name": "stdout",
     "output_type": "stream",
     "text": [
      "['../In2Research_data/data/P/C/PC0600/PC0600_1_HR.csv']\n"
     ]
    },
    {
     "data": {
      "text/html": [
       "<div>\n",
       "<style scoped>\n",
       "    .dataframe tbody tr th:only-of-type {\n",
       "        vertical-align: middle;\n",
       "    }\n",
       "\n",
       "    .dataframe tbody tr th {\n",
       "        vertical-align: top;\n",
       "    }\n",
       "\n",
       "    .dataframe thead th {\n",
       "        text-align: right;\n",
       "    }\n",
       "</style>\n",
       "<table border=\"1\" class=\"dataframe\">\n",
       "  <thead>\n",
       "    <tr style=\"text-align: right;\">\n",
       "      <th></th>\n",
       "      <th>monitor</th>\n",
       "      <th>record_date_time</th>\n",
       "      <th>num_value</th>\n",
       "    </tr>\n",
       "  </thead>\n",
       "  <tbody>\n",
       "    <tr>\n",
       "      <th>15140</th>\n",
       "      <td>HR</td>\n",
       "      <td>2017-08-12 13:45:09</td>\n",
       "      <td>82</td>\n",
       "    </tr>\n",
       "    <tr>\n",
       "      <th>15141</th>\n",
       "      <td>HR</td>\n",
       "      <td>2017-08-12 13:45:14</td>\n",
       "      <td>80</td>\n",
       "    </tr>\n",
       "    <tr>\n",
       "      <th>15142</th>\n",
       "      <td>HR</td>\n",
       "      <td>2017-08-12 13:45:19</td>\n",
       "      <td>79</td>\n",
       "    </tr>\n",
       "    <tr>\n",
       "      <th>15143</th>\n",
       "      <td>HR</td>\n",
       "      <td>2017-08-12 13:45:25</td>\n",
       "      <td>78</td>\n",
       "    </tr>\n",
       "    <tr>\n",
       "      <th>15144</th>\n",
       "      <td>HR</td>\n",
       "      <td>2017-08-12 13:45:29</td>\n",
       "      <td>80</td>\n",
       "    </tr>\n",
       "    <tr>\n",
       "      <th>...</th>\n",
       "      <td>...</td>\n",
       "      <td>...</td>\n",
       "      <td>...</td>\n",
       "    </tr>\n",
       "    <tr>\n",
       "      <th>52726</th>\n",
       "      <td>HR</td>\n",
       "      <td>2017-08-14 18:59:30</td>\n",
       "      <td>84</td>\n",
       "    </tr>\n",
       "    <tr>\n",
       "      <th>52727</th>\n",
       "      <td>HR</td>\n",
       "      <td>2017-08-14 18:59:35</td>\n",
       "      <td>83</td>\n",
       "    </tr>\n",
       "    <tr>\n",
       "      <th>52728</th>\n",
       "      <td>HR</td>\n",
       "      <td>2017-08-14 18:59:40</td>\n",
       "      <td>84</td>\n",
       "    </tr>\n",
       "    <tr>\n",
       "      <th>52729</th>\n",
       "      <td>HR</td>\n",
       "      <td>2017-08-14 18:59:45</td>\n",
       "      <td>85</td>\n",
       "    </tr>\n",
       "    <tr>\n",
       "      <th>52730</th>\n",
       "      <td>HR</td>\n",
       "      <td>2017-08-14 18:59:50</td>\n",
       "      <td>85</td>\n",
       "    </tr>\n",
       "  </tbody>\n",
       "</table>\n",
       "<p>37591 rows × 3 columns</p>\n",
       "</div>"
      ],
      "text/plain": [
       "      monitor    record_date_time  num_value\n",
       "15140      HR 2017-08-12 13:45:09         82\n",
       "15141      HR 2017-08-12 13:45:14         80\n",
       "15142      HR 2017-08-12 13:45:19         79\n",
       "15143      HR 2017-08-12 13:45:25         78\n",
       "15144      HR 2017-08-12 13:45:29         80\n",
       "...       ...                 ...        ...\n",
       "52726      HR 2017-08-14 18:59:30         84\n",
       "52727      HR 2017-08-14 18:59:35         83\n",
       "52728      HR 2017-08-14 18:59:40         84\n",
       "52729      HR 2017-08-14 18:59:45         85\n",
       "52730      HR 2017-08-14 18:59:50         85\n",
       "\n",
       "[37591 rows x 3 columns]"
      ]
     },
     "execution_count": 13,
     "metadata": {},
     "output_type": "execute_result"
    }
   ],
   "source": [
    "test2.hr()"
   ]
  },
  {
   "cell_type": "code",
   "execution_count": 14,
   "metadata": {},
   "outputs": [
    {
     "data": {
      "text/plain": [
       "'2017-08-12 13:45:00'"
      ]
     },
     "execution_count": 14,
     "metadata": {},
     "output_type": "execute_result"
    }
   ],
   "source": [
    "test2.start_time"
   ]
  },
  {
   "cell_type": "code",
   "execution_count": 15,
   "metadata": {},
   "outputs": [],
   "source": [
    "path = \"../In2Research_data/data/\"\n",
    "\n",
    "all_files = glob.glob(path + \"/*\")\n",
    "\n",
    "cohort_dict = {1: [], 2: [], 3: [], 4: [],}\n",
    "\n",
    "for letter1 in all_files:\n",
    "    for letter2 in glob.glob(letter1 + \"/*\"):\n",
    "        for id in glob.glob(letter2 + \"/*\"):\n",
    "            visit = Visit(id, cohort_1_details, cohort_2_details, cohort_3_details, cohort_4_details)\n",
    "            if visit.cohort:\n",
    "                cohort_dict[visit.cohort].append(visit)\n"
   ]
  },
  {
   "cell_type": "code",
   "execution_count": 18,
   "metadata": {},
   "outputs": [
    {
     "name": "stdout",
     "output_type": "stream",
     "text": [
      "['../In2Research_data/data/I/Z/IZ2966/IZ2966_1_HR.csv']\n"
     ]
    },
    {
     "data": {
      "text/html": [
       "<div>\n",
       "<style scoped>\n",
       "    .dataframe tbody tr th:only-of-type {\n",
       "        vertical-align: middle;\n",
       "    }\n",
       "\n",
       "    .dataframe tbody tr th {\n",
       "        vertical-align: top;\n",
       "    }\n",
       "\n",
       "    .dataframe thead th {\n",
       "        text-align: right;\n",
       "    }\n",
       "</style>\n",
       "<table border=\"1\" class=\"dataframe\">\n",
       "  <thead>\n",
       "    <tr style=\"text-align: right;\">\n",
       "      <th></th>\n",
       "      <th>monitor</th>\n",
       "      <th>record_date_time</th>\n",
       "      <th>num_value</th>\n",
       "    </tr>\n",
       "  </thead>\n",
       "  <tbody>\n",
       "    <tr>\n",
       "      <th>309933</th>\n",
       "      <td>HR</td>\n",
       "      <td>2017-10-08 15:00:07</td>\n",
       "      <td>134</td>\n",
       "    </tr>\n",
       "    <tr>\n",
       "      <th>309934</th>\n",
       "      <td>HR</td>\n",
       "      <td>2017-10-08 15:00:12</td>\n",
       "      <td>132</td>\n",
       "    </tr>\n",
       "    <tr>\n",
       "      <th>309935</th>\n",
       "      <td>HR</td>\n",
       "      <td>2017-10-08 15:00:17</td>\n",
       "      <td>133</td>\n",
       "    </tr>\n",
       "    <tr>\n",
       "      <th>309936</th>\n",
       "      <td>HR</td>\n",
       "      <td>2017-10-08 15:00:22</td>\n",
       "      <td>136</td>\n",
       "    </tr>\n",
       "    <tr>\n",
       "      <th>309937</th>\n",
       "      <td>HR</td>\n",
       "      <td>2017-10-08 15:00:27</td>\n",
       "      <td>141</td>\n",
       "    </tr>\n",
       "    <tr>\n",
       "      <th>...</th>\n",
       "      <td>...</td>\n",
       "      <td>...</td>\n",
       "      <td>...</td>\n",
       "    </tr>\n",
       "    <tr>\n",
       "      <th>312856</th>\n",
       "      <td>HR</td>\n",
       "      <td>2017-10-08 19:19:31</td>\n",
       "      <td>86</td>\n",
       "    </tr>\n",
       "    <tr>\n",
       "      <th>312857</th>\n",
       "      <td>HR</td>\n",
       "      <td>2017-10-08 19:19:36</td>\n",
       "      <td>87</td>\n",
       "    </tr>\n",
       "    <tr>\n",
       "      <th>312858</th>\n",
       "      <td>HR</td>\n",
       "      <td>2017-10-08 19:19:41</td>\n",
       "      <td>88</td>\n",
       "    </tr>\n",
       "    <tr>\n",
       "      <th>312859</th>\n",
       "      <td>HR</td>\n",
       "      <td>2017-10-08 19:19:46</td>\n",
       "      <td>89</td>\n",
       "    </tr>\n",
       "    <tr>\n",
       "      <th>312860</th>\n",
       "      <td>HR</td>\n",
       "      <td>2017-10-08 19:19:51</td>\n",
       "      <td>90</td>\n",
       "    </tr>\n",
       "  </tbody>\n",
       "</table>\n",
       "<p>2928 rows × 3 columns</p>\n",
       "</div>"
      ],
      "text/plain": [
       "       monitor    record_date_time  num_value\n",
       "309933      HR 2017-10-08 15:00:07        134\n",
       "309934      HR 2017-10-08 15:00:12        132\n",
       "309935      HR 2017-10-08 15:00:17        133\n",
       "309936      HR 2017-10-08 15:00:22        136\n",
       "309937      HR 2017-10-08 15:00:27        141\n",
       "...        ...                 ...        ...\n",
       "312856      HR 2017-10-08 19:19:31         86\n",
       "312857      HR 2017-10-08 19:19:36         87\n",
       "312858      HR 2017-10-08 19:19:41         88\n",
       "312859      HR 2017-10-08 19:19:46         89\n",
       "312860      HR 2017-10-08 19:19:51         90\n",
       "\n",
       "[2928 rows x 3 columns]"
      ]
     },
     "execution_count": 18,
     "metadata": {},
     "output_type": "execute_result"
    }
   ],
   "source": [
    "cohort_dict[1][8].hr()"
   ]
  },
  {
   "cell_type": "code",
   "execution_count": null,
   "metadata": {},
   "outputs": [],
   "source": []
  }
 ],
 "metadata": {
  "language_info": {
   "name": "python"
  },
  "orig_nbformat": 4
 },
 "nbformat": 4,
 "nbformat_minor": 2
}
