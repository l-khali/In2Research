{
 "cells": [
  {
   "cell_type": "code",
   "execution_count": 1,
   "metadata": {},
   "outputs": [],
   "source": [
    "import numpy as np\n",
    "import pandas as pd\n",
    "from visits import Visit, Cohort, MissingDataError\n",
    "import glob\n",
    "import pymannkendall as mk\n",
    "from datetime import datetime, timedelta"
   ]
  },
  {
   "cell_type": "code",
   "execution_count": 2,
   "metadata": {},
   "outputs": [],
   "source": [
    "cohort_1_details = pd.read_csv(\"cohort_1_details_v5.csv\", sep=',')\n",
    "cohort_2_details = pd.read_csv(\"cohort_2_details_v5.csv\", sep=',')\n",
    "cohort_3_details = pd.read_csv(\"cohort_3_details_v5.csv\", sep=',')\n",
    "cohort_4_details = pd.read_csv(\"cohort_4_details_v5.csv\", sep=',')\n"
   ]
  },
  {
   "cell_type": "code",
   "execution_count": 50,
   "metadata": {},
   "outputs": [],
   "source": [
    "test1 = Visit(\"../In2Research_data/data/W/P/WP0322\", 1, cohort_1_details, cohort_2_details, cohort_3_details, cohort_4_details)"
   ]
  },
  {
   "cell_type": "code",
   "execution_count": 4,
   "metadata": {},
   "outputs": [
    {
     "name": "stdout",
     "output_type": "stream",
     "text": [
      "      Unnamed: 0 Project ID birth_deid_date  death_deid_date     sex  \\\n",
      "1741         397     WP0322      2009-09-17              NaN  Female   \n",
      "\n",
      "      icu_visit  icu_start_deid_dttm    icu_end_deid_dttm  \\\n",
      "1741          1  2016-02-24 19:50:00  2016-03-07 12:00:00   \n",
      "\n",
      "      failed_extubation_flag  failed_extubation_deid_date  ...  \\\n",
      "1741                     NaN                          NaN  ...   \n",
      "\n",
      "      extubation_flag  extubation_deid_date extubation_score  \\\n",
      "1741              1.0   2016-02-27 15:51:00              5.0   \n",
      "\n",
      "      re_intubation_deid_date  icu_ward total_visits      final_datapoint  \\\n",
      "1741                      NaN      PICU            2  2016-03-07 05:54:16   \n",
      "\n",
      "     available_data_duration   age (days)  age_category  \n",
      "1741         8 days 14:03:16  2354.660417             9  \n",
      "\n",
      "[1 rows x 21 columns]\n"
     ]
    }
   ],
   "source": [
    "print(test1.details)"
   ]
  },
  {
   "cell_type": "code",
   "execution_count": 5,
   "metadata": {},
   "outputs": [
    {
     "name": "stdout",
     "output_type": "stream",
     "text": [
      "KH0067 2\n",
      "JJ0136 2\n",
      "SZ0162 1\n",
      "PC0192 1\n",
      "GP0251 1\n",
      "WP0322 2\n",
      "GF0332 1\n",
      "XG0429 1\n",
      "XE0430 1\n",
      "NE0450 1\n",
      "ZK0529 1\n",
      "YY0580 2\n",
      "PC0600 1\n",
      "HW0601 1\n",
      "NX0632 1\n",
      "DS0690 1\n",
      "ST0725 5\n",
      "JZ0818 1\n",
      "ZR0822 1\n",
      "SZ0828 4\n",
      "WS0898 1\n",
      "CQ0905 1\n",
      "QD0938 1\n",
      "RP0984 1\n",
      "RB0988 2\n",
      "NP1006 1\n",
      "YV1012 1\n",
      "SP1040 1\n",
      "CS1062 1\n",
      "GF1065 1\n",
      "TR1110 1\n",
      "JB1116 1\n",
      "LC1129 3\n",
      "JO1154 1\n",
      "CN1187 4\n",
      "FG1244 1\n",
      "ML1270 1\n",
      "ZW1285 1\n",
      "YK1293 1\n",
      "CA1303 1\n",
      "UX1362 1\n",
      "MV1402 1\n",
      "IZ1435 1\n",
      "JT1469 1\n",
      "CG1503 2\n",
      "SE1569 1\n",
      "YC1602 1\n",
      "SQ1612 1\n",
      "FN1648 1\n",
      "OH1674 1\n",
      "LJ1685 1\n",
      "UD1688 1\n",
      "OS1758 1\n",
      "DD1778 4\n",
      "UB1799 1\n",
      "RX1828 1\n",
      "ZD1853 1\n",
      "TG1861 1\n",
      "LC1900 2\n",
      "MF2056 2\n",
      "ZD2068 1\n",
      "CM2086 2\n",
      "MX2102 1\n",
      "MV2170 1\n",
      "DR2183 1\n",
      "OL2236 1\n",
      "PM2241 2\n",
      "LW2245 1\n",
      "UY2351 1\n",
      "AS2377 1\n",
      "MG2402 1\n",
      "UD2443 1\n",
      "QW2457 1\n",
      "JA2458 1\n",
      "JA2458 3\n",
      "QD2469 2\n",
      "CR2546 2\n",
      "HU2552 1\n",
      "KZ2558 1\n",
      "LG2586 1\n",
      "QT2598 1\n",
      "IJ2643 1\n",
      "ZN2706 1\n",
      "WF2826 1\n",
      "WM2916 3\n",
      "IZ2966 1\n",
      "VJ3003 1\n",
      "RZ3023 2\n",
      "DF3079 1\n",
      "OX3102 1\n",
      "OX3102 2\n",
      "DM3147 1\n",
      "YE3158 1\n",
      "HN3190 1\n",
      "TP3224 1\n",
      "WX3231 1\n",
      "QY3232 5\n",
      "FN3246 1\n",
      "NQ3290 1\n",
      "AY3292 1\n",
      "LD3298 2\n",
      "OQ3385 1\n",
      "QH3453 1\n",
      "XO3508 1\n",
      "NF3544 1\n",
      "AX3634 1\n",
      "IC3651 4\n",
      "FE3652 1\n",
      "WV3677 1\n",
      "DQ3738 1\n",
      "YR3770 3\n",
      "LX3781 1\n",
      "TI3785 1\n",
      "DE3827 1\n",
      "IF3856 1\n",
      "VV3912 2\n",
      "PL3964 1\n",
      "RD3976 1\n",
      "TV4037 1\n",
      "UI4061 1\n"
     ]
    }
   ],
   "source": [
    "for id, v in zip(list(cohort_1_details[\"Project ID\"]), list(cohort_1_details[\"icu_visit\"])):\n",
    "    print(id, v)"
   ]
  },
  {
   "cell_type": "code",
   "execution_count": 6,
   "metadata": {},
   "outputs": [],
   "source": [
    "test2 = Visit(\"../In2Research_data/data/P/C/PC0600\", 1, cohort_1_details, cohort_2_details, cohort_3_details, cohort_4_details)"
   ]
  },
  {
   "cell_type": "code",
   "execution_count": 7,
   "metadata": {},
   "outputs": [
    {
     "data": {
      "text/html": [
       "<div>\n",
       "<style scoped>\n",
       "    .dataframe tbody tr th:only-of-type {\n",
       "        vertical-align: middle;\n",
       "    }\n",
       "\n",
       "    .dataframe tbody tr th {\n",
       "        vertical-align: top;\n",
       "    }\n",
       "\n",
       "    .dataframe thead th {\n",
       "        text-align: right;\n",
       "    }\n",
       "</style>\n",
       "<table border=\"1\" class=\"dataframe\">\n",
       "  <thead>\n",
       "    <tr style=\"text-align: right;\">\n",
       "      <th></th>\n",
       "      <th>Unnamed: 0</th>\n",
       "      <th>Project ID</th>\n",
       "      <th>birth_deid_date</th>\n",
       "      <th>death_deid_date</th>\n",
       "      <th>sex</th>\n",
       "      <th>icu_visit</th>\n",
       "      <th>icu_start_deid_dttm</th>\n",
       "      <th>icu_end_deid_dttm</th>\n",
       "      <th>failed_extubation_flag</th>\n",
       "      <th>failed_extubation_deid_date</th>\n",
       "      <th>intubation_flag</th>\n",
       "      <th>extubation_flag</th>\n",
       "      <th>extubation_deid_date</th>\n",
       "      <th>extubation_score</th>\n",
       "      <th>re_intubation_deid_date</th>\n",
       "      <th>icu_ward</th>\n",
       "      <th>total_visits</th>\n",
       "      <th>extubation_duration</th>\n",
       "      <th>age (days)</th>\n",
       "    </tr>\n",
       "  </thead>\n",
       "  <tbody>\n",
       "    <tr>\n",
       "      <th>12</th>\n",
       "      <td>740</td>\n",
       "      <td>PC0600</td>\n",
       "      <td>2013-06-15 00:00:00</td>\n",
       "      <td>NaN</td>\n",
       "      <td>Male</td>\n",
       "      <td>1</td>\n",
       "      <td>2017-08-11 17:23:00</td>\n",
       "      <td>2017-08-23 18:50:00</td>\n",
       "      <td>1.0</td>\n",
       "      <td>2017-08-12 13:45:00</td>\n",
       "      <td>1</td>\n",
       "      <td>1.0</td>\n",
       "      <td>2017-08-12 13:45:00</td>\n",
       "      <td>5.0</td>\n",
       "      <td>2017-08-14 19:00:00</td>\n",
       "      <td>FLAMI</td>\n",
       "      <td>1</td>\n",
       "      <td>315.0</td>\n",
       "      <td>1519.572917</td>\n",
       "    </tr>\n",
       "  </tbody>\n",
       "</table>\n",
       "</div>"
      ],
      "text/plain": [
       "    Unnamed: 0 Project ID      birth_deid_date  death_deid_date   sex  \\\n",
       "12         740     PC0600  2013-06-15 00:00:00              NaN  Male   \n",
       "\n",
       "    icu_visit  icu_start_deid_dttm    icu_end_deid_dttm  \\\n",
       "12          1  2017-08-11 17:23:00  2017-08-23 18:50:00   \n",
       "\n",
       "    failed_extubation_flag failed_extubation_deid_date  intubation_flag  \\\n",
       "12                     1.0         2017-08-12 13:45:00                1   \n",
       "\n",
       "    extubation_flag extubation_deid_date  extubation_score  \\\n",
       "12              1.0  2017-08-12 13:45:00               5.0   \n",
       "\n",
       "   re_intubation_deid_date icu_ward  total_visits  extubation_duration  \\\n",
       "12     2017-08-14 19:00:00    FLAMI             1                315.0   \n",
       "\n",
       "     age (days)  \n",
       "12  1519.572917  "
      ]
     },
     "execution_count": 7,
     "metadata": {},
     "output_type": "execute_result"
    }
   ],
   "source": [
    "test2.details"
   ]
  },
  {
   "cell_type": "code",
   "execution_count": 8,
   "metadata": {},
   "outputs": [],
   "source": [
    "test1.end_time"
   ]
  },
  {
   "cell_type": "code",
   "execution_count": 9,
   "metadata": {},
   "outputs": [
    {
     "data": {
      "text/plain": [
       "Timestamp('2017-08-12 13:45:00')"
      ]
     },
     "execution_count": 9,
     "metadata": {},
     "output_type": "execute_result"
    }
   ],
   "source": [
    "test2.start_time"
   ]
  },
  {
   "cell_type": "code",
   "execution_count": 10,
   "metadata": {},
   "outputs": [
    {
     "data": {
      "text/plain": [
       "1741    2016-02-27 15:51:00\n",
       "Name: extubation_deid_date, dtype: object"
      ]
     },
     "execution_count": 10,
     "metadata": {},
     "output_type": "execute_result"
    }
   ],
   "source": [
    "test1.details[\"extubation_deid_date\"]"
   ]
  },
  {
   "cell_type": "code",
   "execution_count": 11,
   "metadata": {},
   "outputs": [
    {
     "data": {
      "text/plain": [
       "NaT"
      ]
     },
     "execution_count": 11,
     "metadata": {},
     "output_type": "execute_result"
    }
   ],
   "source": [
    "test1.start_time"
   ]
  },
  {
   "cell_type": "code",
   "execution_count": 12,
   "metadata": {},
   "outputs": [
    {
     "name": "stdout",
     "output_type": "stream",
     "text": [
      "../In2Research_data/data/P/C/PC0600/PC0600_1_HR.csv\n"
     ]
    }
   ],
   "source": [
    "for file in glob.glob(\"../In2Research_data/data/P/C/PC0600\" + \"/*\"):\n",
    "    if \"_HR\" in file:\n",
    "        print(file)"
   ]
  },
  {
   "cell_type": "code",
   "execution_count": 13,
   "metadata": {},
   "outputs": [
    {
     "data": {
      "text/plain": [
       "'../In2Research_data/data/W/P/WP0322'"
      ]
     },
     "execution_count": 13,
     "metadata": {},
     "output_type": "execute_result"
    }
   ],
   "source": [
    "test1.directory"
   ]
  },
  {
   "cell_type": "code",
   "execution_count": 14,
   "metadata": {},
   "outputs": [
    {
     "data": {
      "text/html": [
       "<div>\n",
       "<style scoped>\n",
       "    .dataframe tbody tr th:only-of-type {\n",
       "        vertical-align: middle;\n",
       "    }\n",
       "\n",
       "    .dataframe tbody tr th {\n",
       "        vertical-align: top;\n",
       "    }\n",
       "\n",
       "    .dataframe thead th {\n",
       "        text-align: right;\n",
       "    }\n",
       "</style>\n",
       "<table border=\"1\" class=\"dataframe\">\n",
       "  <thead>\n",
       "    <tr style=\"text-align: right;\">\n",
       "      <th></th>\n",
       "      <th>monitor</th>\n",
       "      <th>record_date_time</th>\n",
       "      <th>num_value</th>\n",
       "    </tr>\n",
       "  </thead>\n",
       "  <tbody>\n",
       "    <tr>\n",
       "      <th>0</th>\n",
       "      <td>HR</td>\n",
       "      <td>2017-08-12 13:45:09</td>\n",
       "      <td>82</td>\n",
       "    </tr>\n",
       "    <tr>\n",
       "      <th>1</th>\n",
       "      <td>HR</td>\n",
       "      <td>2017-08-12 13:45:14</td>\n",
       "      <td>80</td>\n",
       "    </tr>\n",
       "    <tr>\n",
       "      <th>2</th>\n",
       "      <td>HR</td>\n",
       "      <td>2017-08-12 13:45:19</td>\n",
       "      <td>79</td>\n",
       "    </tr>\n",
       "    <tr>\n",
       "      <th>3</th>\n",
       "      <td>HR</td>\n",
       "      <td>2017-08-12 13:45:25</td>\n",
       "      <td>78</td>\n",
       "    </tr>\n",
       "    <tr>\n",
       "      <th>4</th>\n",
       "      <td>HR</td>\n",
       "      <td>2017-08-12 13:45:29</td>\n",
       "      <td>80</td>\n",
       "    </tr>\n",
       "    <tr>\n",
       "      <th>...</th>\n",
       "      <td>...</td>\n",
       "      <td>...</td>\n",
       "      <td>...</td>\n",
       "    </tr>\n",
       "    <tr>\n",
       "      <th>37586</th>\n",
       "      <td>HR</td>\n",
       "      <td>2017-08-14 18:59:30</td>\n",
       "      <td>84</td>\n",
       "    </tr>\n",
       "    <tr>\n",
       "      <th>37587</th>\n",
       "      <td>HR</td>\n",
       "      <td>2017-08-14 18:59:35</td>\n",
       "      <td>83</td>\n",
       "    </tr>\n",
       "    <tr>\n",
       "      <th>37588</th>\n",
       "      <td>HR</td>\n",
       "      <td>2017-08-14 18:59:40</td>\n",
       "      <td>84</td>\n",
       "    </tr>\n",
       "    <tr>\n",
       "      <th>37589</th>\n",
       "      <td>HR</td>\n",
       "      <td>2017-08-14 18:59:45</td>\n",
       "      <td>85</td>\n",
       "    </tr>\n",
       "    <tr>\n",
       "      <th>37590</th>\n",
       "      <td>HR</td>\n",
       "      <td>2017-08-14 18:59:50</td>\n",
       "      <td>85</td>\n",
       "    </tr>\n",
       "  </tbody>\n",
       "</table>\n",
       "<p>37591 rows × 3 columns</p>\n",
       "</div>"
      ],
      "text/plain": [
       "      monitor    record_date_time  num_value\n",
       "0          HR 2017-08-12 13:45:09         82\n",
       "1          HR 2017-08-12 13:45:14         80\n",
       "2          HR 2017-08-12 13:45:19         79\n",
       "3          HR 2017-08-12 13:45:25         78\n",
       "4          HR 2017-08-12 13:45:29         80\n",
       "...       ...                 ...        ...\n",
       "37586      HR 2017-08-14 18:59:30         84\n",
       "37587      HR 2017-08-14 18:59:35         83\n",
       "37588      HR 2017-08-14 18:59:40         84\n",
       "37589      HR 2017-08-14 18:59:45         85\n",
       "37590      HR 2017-08-14 18:59:50         85\n",
       "\n",
       "[37591 rows x 3 columns]"
      ]
     },
     "execution_count": 14,
     "metadata": {},
     "output_type": "execute_result"
    }
   ],
   "source": [
    "test2.hr()"
   ]
  },
  {
   "cell_type": "code",
   "execution_count": 15,
   "metadata": {},
   "outputs": [
    {
     "data": {
      "text/plain": [
       "Timestamp('2017-08-12 13:45:00')"
      ]
     },
     "execution_count": 15,
     "metadata": {},
     "output_type": "execute_result"
    }
   ],
   "source": [
    "test2.start_time"
   ]
  },
  {
   "cell_type": "code",
   "execution_count": 6,
   "metadata": {},
   "outputs": [],
   "source": [
    "path = \"../In2Research_data/data/\"\n",
    "\n",
    "all_files = glob.glob(path + \"/*\")\n",
    "\n",
    "cohort_dict = {1: [], 2: [], 3: [], 4: [],}\n",
    "\n",
    "for letter1 in all_files:\n",
    "    for letter2 in glob.glob(letter1 + \"/*\"):\n",
    "        for id in glob.glob(letter2 + \"/*\"):\n",
    "            if any(\"_1_\" in file for file in glob.glob(id + \"/*\")):\n",
    "                visit = Visit(id, 1, cohort_1_details, cohort_2_details, cohort_3_details, cohort_4_details)\n",
    "                if visit.cohort:\n",
    "                    cohort_dict[visit.cohort].append(visit)\n",
    "\n",
    "for letter1 in all_files:\n",
    "    for letter2 in glob.glob(letter1 + \"/*\"):\n",
    "        for id in glob.glob(letter2 + \"/*\"):\n",
    "            if any(\"_2_\" in file for file in glob.glob(id + \"/*\")):\n",
    "                visit = Visit(id, 2, cohort_1_details, cohort_2_details, cohort_3_details, cohort_4_details)\n",
    "                if visit.cohort:\n",
    "                    cohort_dict[visit.cohort].append(visit)\n",
    "\n",
    "for letter1 in all_files:\n",
    "    for letter2 in glob.glob(letter1 + \"/*\"):\n",
    "        for id in glob.glob(letter2 + \"/*\"):\n",
    "            if any(\"_3_\" in file for file in glob.glob(id + \"/*\")):\n",
    "                visit = Visit(id, 3, cohort_1_details, cohort_2_details, cohort_3_details, cohort_4_details)\n",
    "                if visit.cohort:\n",
    "                    cohort_dict[visit.cohort].append(visit)\n",
    "\n",
    "for letter1 in all_files:\n",
    "    for letter2 in glob.glob(letter1 + \"/*\"):\n",
    "        for id in glob.glob(letter2 + \"/*\"):\n",
    "            if any(\"_4_\" in file for file in glob.glob(id + \"/*\")):\n",
    "                visit = Visit(id, 4, cohort_1_details, cohort_2_details, cohort_3_details, cohort_4_details)\n",
    "                if visit.cohort:\n",
    "                    cohort_dict[visit.cohort].append(visit)\n",
    "\n",
    "for letter1 in all_files:\n",
    "    for letter2 in glob.glob(letter1 + \"/*\"):\n",
    "        for id in glob.glob(letter2 + \"/*\"):\n",
    "            if any(\"_5_\" in file for file in glob.glob(id + \"/*\")):\n",
    "                visit = Visit(id, 5, cohort_1_details, cohort_2_details, cohort_3_details, cohort_4_details)\n",
    "                if visit.cohort:\n",
    "                    cohort_dict[visit.cohort].append(visit)\n"
   ]
  },
  {
   "cell_type": "code",
   "execution_count": 17,
   "metadata": {},
   "outputs": [
    {
     "name": "stdout",
     "output_type": "stream",
     "text": [
      "0 14 2 0\n"
     ]
    }
   ],
   "source": [
    "print(len(cohort_1_details)-len(cohort_dict[1]), len(cohort_2_details)-len(cohort_dict[2]), len(cohort_3_details)-len(cohort_dict[3]), len(cohort_4_details)-len(cohort_dict[4]))"
   ]
  },
  {
   "cell_type": "markdown",
   "metadata": {},
   "source": [
    "# still 14 in cohort 2 and 2 in cohort 3 to be accounted for"
   ]
  },
  {
   "cell_type": "code",
   "execution_count": 18,
   "metadata": {},
   "outputs": [
    {
     "name": "stdout",
     "output_type": "stream",
     "text": [
      "120 1996 212 26\n"
     ]
    }
   ],
   "source": [
    "print(len(cohort_dict[1]), len(cohort_dict[2]), len(cohort_dict[3]), len(cohort_dict[4]))"
   ]
  },
  {
   "cell_type": "code",
   "execution_count": 19,
   "metadata": {},
   "outputs": [],
   "source": [
    "list_of_ids_in_cohort_1 = [v.project_id for v in cohort_dict[1]]"
   ]
  },
  {
   "cell_type": "code",
   "execution_count": 20,
   "metadata": {},
   "outputs": [
    {
     "data": {
      "text/plain": [
       "set()"
      ]
     },
     "execution_count": 20,
     "metadata": {},
     "output_type": "execute_result"
    }
   ],
   "source": [
    "set(cohort_1_details[\"Project ID\"]).symmetric_difference(list_of_ids_in_cohort_1)"
   ]
  },
  {
   "cell_type": "code",
   "execution_count": 21,
   "metadata": {},
   "outputs": [
    {
     "name": "stdout",
     "output_type": "stream",
     "text": [
      "<visits.visit.Visit object at 0x7ff260ccfb20>\n",
      "<visits.visit.Visit object at 0x7ff266bd8040>\n",
      "<visits.visit.Visit object at 0x7ff263c15df0>\n",
      "<visits.visit.Visit object at 0x7ff2652396a0>\n",
      "<visits.visit.Visit object at 0x7ff266bd8400>\n",
      "<visits.visit.Visit object at 0x7ff26bb91dc0>\n",
      "<visits.visit.Visit object at 0x7ff26bb91b80>\n",
      "<visits.visit.Visit object at 0x7ff26bb91eb0>\n",
      "<visits.visit.Visit object at 0x7ff260ccf9d0>\n",
      "<visits.visit.Visit object at 0x7ff26bbaf520>\n",
      "<visits.visit.Visit object at 0x7ff26bbaf8b0>\n",
      "<visits.visit.Visit object at 0x7ff26bbafe80>\n",
      "<visits.visit.Visit object at 0x7ff26bbafe20>\n",
      "<visits.visit.Visit object at 0x7ff26bbafd00>\n",
      "<visits.visit.Visit object at 0x7ff26bbafbe0>\n",
      "<visits.visit.Visit object at 0x7ff26bbaff70>\n",
      "<visits.visit.Visit object at 0x7ff26bbaf220>\n",
      "<visits.visit.Visit object at 0x7ff26bba5a60>\n",
      "<visits.visit.Visit object at 0x7ff26bba5e50>\n",
      "<visits.visit.Visit object at 0x7ff26bba5f70>\n",
      "<visits.visit.Visit object at 0x7ff26bba5850>\n",
      "<visits.visit.Visit object at 0x7ff26bba5970>\n",
      "<visits.visit.Visit object at 0x7ff26bb9fc40>\n",
      "<visits.visit.Visit object at 0x7ff26bba5fd0>\n",
      "<visits.visit.Visit object at 0x7ff26bba5b50>\n",
      "<visits.visit.Visit object at 0x7ff264439e80>\n",
      "<visits.visit.Visit object at 0x7ff26bb95fd0>\n",
      "<visits.visit.Visit object at 0x7ff26bb95730>\n",
      "<visits.visit.Visit object at 0x7ff26bb95af0>\n",
      "<visits.visit.Visit object at 0x7ff26bb953a0>\n",
      "<visits.visit.Visit object at 0x7ff26bb89eb0>\n",
      "<visits.visit.Visit object at 0x7ff26bb89430>\n",
      "<visits.visit.Visit object at 0x7ff26bb89af0>\n",
      "<visits.visit.Visit object at 0x7ff26bb89e80>\n",
      "<visits.visit.Visit object at 0x7ff26bb89cd0>\n",
      "<visits.visit.Visit object at 0x7ff26bb82fd0>\n",
      "<visits.visit.Visit object at 0x7ff26bb82f70>\n",
      "<visits.visit.Visit object at 0x7ff26bb82c10>\n",
      "<visits.visit.Visit object at 0x7ff26bb82c40>\n",
      "<visits.visit.Visit object at 0x7ff26bb42c40>\n",
      "<visits.visit.Visit object at 0x7ff26bb42f70>\n",
      "<visits.visit.Visit object at 0x7ff26bb42a00>\n",
      "<visits.visit.Visit object at 0x7ff26bb424f0>\n",
      "<visits.visit.Visit object at 0x7ff26bb42df0>\n",
      "<visits.visit.Visit object at 0x7ff26bb42c10>\n",
      "<visits.visit.Visit object at 0x7ff26bb49fd0>\n",
      "<visits.visit.Visit object at 0x7ff26bb49d90>\n",
      "<visits.visit.Visit object at 0x7ff26bba5580>\n",
      "<visits.visit.Visit object at 0x7ff26bb49880>\n",
      "<visits.visit.Visit object at 0x7ff26bb49f70>\n",
      "<visits.visit.Visit object at 0x7ff26bb49250>\n",
      "<visits.visit.Visit object at 0x7ff26bb49460>\n",
      "<visits.visit.Visit object at 0x7ff26bb49a90>\n",
      "<visits.visit.Visit object at 0x7ff26bb49fa0>\n",
      "<visits.visit.Visit object at 0x7ff26bb50820>\n",
      "<visits.visit.Visit object at 0x7ff26bb50f70>\n",
      "<visits.visit.Visit object at 0x7ff26bb509d0>\n",
      "<visits.visit.Visit object at 0x7ff26bb5aeb0>\n",
      "<visits.visit.Visit object at 0x7ff26bb5acd0>\n",
      "<visits.visit.Visit object at 0x7ff26bb5ae80>\n",
      "<visits.visit.Visit object at 0x7ff26bb42250>\n",
      "<visits.visit.Visit object at 0x7ff26bb5a8b0>\n",
      "<visits.visit.Visit object at 0x7ff26bb5aee0>\n",
      "<visits.visit.Visit object at 0x7ff26bb5aa90>\n",
      "<visits.visit.Visit object at 0x7ff26bb603d0>\n",
      "<visits.visit.Visit object at 0x7ff26bb60250>\n",
      "<visits.visit.Visit object at 0x7ff26bb66940>\n",
      "<visits.visit.Visit object at 0x7ff26bb66a30>\n",
      "<visits.visit.Visit object at 0x7ff26bb66340>\n",
      "<visits.visit.Visit object at 0x7ff26bb66eb0>\n",
      "<visits.visit.Visit object at 0x7ff26bb66cd0>\n",
      "<visits.visit.Visit object at 0x7ff26bb667f0>\n",
      "<visits.visit.Visit object at 0x7ff26bb66fa0>\n",
      "<visits.visit.Visit object at 0x7ff26bb6dac0>\n",
      "<visits.visit.Visit object at 0x7ff26bb6d7f0>\n",
      "<visits.visit.Visit object at 0x7ff26bb6d4c0>\n",
      "<visits.visit.Visit object at 0x7ff26bb6dc40>\n",
      "<visits.visit.Visit object at 0x7ff26bb75d30>\n",
      "<visits.visit.Visit object at 0x7ff26bb75730>\n",
      "<visits.visit.Visit object at 0x7ff26bb757c0>\n",
      "<visits.visit.Visit object at 0x7ff26bb75e50>\n",
      "<visits.visit.Visit object at 0x7ff26bb751c0>\n",
      "<visits.visit.Visit object at 0x7ff26bb759a0>\n",
      "<visits.visit.Visit object at 0x7ff26bb7be80>\n",
      "<visits.visit.Visit object at 0x7ff26bb75460>\n",
      "<visits.visit.Visit object at 0x7ff26bb7bcd0>\n",
      "<visits.visit.Visit object at 0x7ff26bb7bac0>\n",
      "<visits.visit.Visit object at 0x7ff26bb7bd30>\n",
      "<visits.visit.Visit object at 0x7ff26bb7b7c0>\n",
      "<visits.visit.Visit object at 0x7ff26bb7b130>\n",
      "<visits.visit.Visit object at 0x7ff26bb03fa0>\n",
      "<visits.visit.Visit object at 0x7ff26bb7beb0>\n",
      "<visits.visit.Visit object at 0x7ff26bb03e80>\n",
      "<visits.visit.Visit object at 0x7ff26bb03820>\n",
      "<visits.visit.Visit object at 0x7ff26bb7be50>\n",
      "<visits.visit.Visit object at 0x7ff26bb03d60>\n",
      "<visits.visit.Visit object at 0x7ff26bb0bd90>\n",
      "<visits.visit.Visit object at 0x7ff26bb03c10>\n",
      "<visits.visit.Visit object at 0x7ff26bb03bb0>\n",
      "<visits.visit.Visit object at 0x7ff26bb0b280>\n",
      "<visits.visit.Visit object at 0x7ff26bb0bd30>\n",
      "<visits.visit.Visit object at 0x7ff26bb0b760>\n",
      "<visits.visit.Visit object at 0x7ff26bb0bc70>\n",
      "<visits.visit.Visit object at 0x7ff26bb128e0>\n",
      "<visits.visit.Visit object at 0x7ff26bb1bb50>\n",
      "<visits.visit.Visit object at 0x7ff26bb12dc0>\n",
      "<visits.visit.Visit object at 0x7ff26bb1bd00>\n",
      "<visits.visit.Visit object at 0x7ff26bb1b610>\n",
      "<visits.visit.Visit object at 0x7ff26bb1be80>\n",
      "<visits.visit.Visit object at 0x7ff26bb1beb0>\n",
      "<visits.visit.Visit object at 0x7ff26bb1bb20>\n",
      "<visits.visit.Visit object at 0x7ff26bb20d90>\n",
      "<visits.visit.Visit object at 0x7ff26bb1b9a0>\n",
      "<visits.visit.Visit object at 0x7ff26bb1bf70>\n",
      "<visits.visit.Visit object at 0x7ff26bb20ca0>\n",
      "<visits.visit.Visit object at 0x7ff26bb20a00>\n",
      "<visits.visit.Visit object at 0x7ff26bb27b20>\n",
      "<visits.visit.Visit object at 0x7ff26bb27e50>\n",
      "<visits.visit.Visit object at 0x7ff26bb27fd0>\n",
      "<visits.visit.Visit object at 0x7ff26bb276a0>\n",
      "<visits.visit.Visit object at 0x7ff26bb27f40>\n",
      "<visits.visit.Visit object at 0x7ff26bb2fc70>\n",
      "<visits.visit.Visit object at 0x7ff26bb2f8e0>\n",
      "<visits.visit.Visit object at 0x7ff26bb2f640>\n",
      "<visits.visit.Visit object at 0x7ff26bb2f670>\n",
      "<visits.visit.Visit object at 0x7ff26bb37b80>\n",
      "<visits.visit.Visit object at 0x7ff26bb37d90>\n",
      "<visits.visit.Visit object at 0x7ff26bb37670>\n",
      "<visits.visit.Visit object at 0x7ff26bb37160>\n",
      "<visits.visit.Visit object at 0x7ff26bb37400>\n",
      "<visits.visit.Visit object at 0x7ff26bb37790>\n",
      "<visits.visit.Visit object at 0x7ff26bb3ecd0>\n",
      "<visits.visit.Visit object at 0x7ff26bb3efa0>\n",
      "<visits.visit.Visit object at 0x7ff26bb37fd0>\n",
      "<visits.visit.Visit object at 0x7ff26bb3ec70>\n",
      "<visits.visit.Visit object at 0x7ff26bac48e0>\n",
      "<visits.visit.Visit object at 0x7ff26bac4430>\n",
      "<visits.visit.Visit object at 0x7ff26bac4dc0>\n",
      "<visits.visit.Visit object at 0x7ff26bacbfa0>\n",
      "<visits.visit.Visit object at 0x7ff26bacb610>\n",
      "<visits.visit.Visit object at 0x7ff26bacb8e0>\n",
      "<visits.visit.Visit object at 0x7ff26bacbb20>\n",
      "<visits.visit.Visit object at 0x7ff26bacbe20>\n",
      "<visits.visit.Visit object at 0x7ff26bacb3a0>\n",
      "<visits.visit.Visit object at 0x7ff26bad3400>\n",
      "<visits.visit.Visit object at 0x7ff26bad34c0>\n",
      "<visits.visit.Visit object at 0x7ff26bad3f40>\n",
      "<visits.visit.Visit object at 0x7ff26bad3730>\n",
      "<visits.visit.Visit object at 0x7ff26bad7b80>\n",
      "<visits.visit.Visit object at 0x7ff26bad76a0>\n",
      "<visits.visit.Visit object at 0x7ff26bb0bfd0>\n",
      "<visits.visit.Visit object at 0x7ff26bad7e20>\n",
      "<visits.visit.Visit object at 0x7ff26bad79d0>\n",
      "<visits.visit.Visit object at 0x7ff26bae2be0>\n",
      "<visits.visit.Visit object at 0x7ff26bae2f10>\n",
      "<visits.visit.Visit object at 0x7ff26bae2940>\n",
      "<visits.visit.Visit object at 0x7ff26bae2cd0>\n",
      "<visits.visit.Visit object at 0x7ff26bae2370>\n",
      "<visits.visit.Visit object at 0x7ff26bae2a90>\n",
      "<visits.visit.Visit object at 0x7ff26bae7cd0>\n",
      "<visits.visit.Visit object at 0x7ff26bae2100>\n",
      "<visits.visit.Visit object at 0x7ff26bae72e0>\n",
      "<visits.visit.Visit object at 0x7ff26bae79d0>\n",
      "<visits.visit.Visit object at 0x7ff26bae7940>\n",
      "<visits.visit.Visit object at 0x7ff26bae76d0>\n",
      "<visits.visit.Visit object at 0x7ff26bae7df0>\n",
      "<visits.visit.Visit object at 0x7ff26bae7760>\n",
      "<visits.visit.Visit object at 0x7ff26baf1d00>\n",
      "<visits.visit.Visit object at 0x7ff26baf1f70>\n",
      "<visits.visit.Visit object at 0x7ff26baf1f40>\n",
      "<visits.visit.Visit object at 0x7ff26baf1bb0>\n",
      "<visits.visit.Visit object at 0x7ff26baf17c0>\n",
      "<visits.visit.Visit object at 0x7ff26baf1ac0>\n",
      "<visits.visit.Visit object at 0x7ff26baf6700>\n",
      "<visits.visit.Visit object at 0x7ff26baf1f10>\n",
      "<visits.visit.Visit object at 0x7ff26baf6be0>\n",
      "<visits.visit.Visit object at 0x7ff26baffe80>\n",
      "<visits.visit.Visit object at 0x7ff26baf6490>\n",
      "<visits.visit.Visit object at 0x7ff26baf6f70>\n",
      "<visits.visit.Visit object at 0x7ff26baff460>\n",
      "<visits.visit.Visit object at 0x7ff26baff820>\n",
      "<visits.visit.Visit object at 0x7ff26baffca0>\n",
      "<visits.visit.Visit object at 0x7ff26ba83cd0>\n",
      "<visits.visit.Visit object at 0x7ff26baff100>\n",
      "<visits.visit.Visit object at 0x7ff26bafff70>\n",
      "<visits.visit.Visit object at 0x7ff26ba83c70>\n",
      "<visits.visit.Visit object at 0x7ff26ba83bb0>\n",
      "<visits.visit.Visit object at 0x7ff26ba8cb50>\n",
      "<visits.visit.Visit object at 0x7ff26ba8c700>\n",
      "<visits.visit.Visit object at 0x7ff26ba8c970>\n",
      "<visits.visit.Visit object at 0x7ff26ba8ce50>\n",
      "<visits.visit.Visit object at 0x7ff26ba8cf70>\n",
      "<visits.visit.Visit object at 0x7ff26ba8cd30>\n",
      "<visits.visit.Visit object at 0x7ff26ba8cd60>\n",
      "<visits.visit.Visit object at 0x7ff26ba92f70>\n",
      "<visits.visit.Visit object at 0x7ff26ba92fa0>\n",
      "<visits.visit.Visit object at 0x7ff26ba92970>\n",
      "<visits.visit.Visit object at 0x7ff26ba92a60>\n",
      "<visits.visit.Visit object at 0x7ff26ba92df0>\n",
      "<visits.visit.Visit object at 0x7ff26ba92850>\n",
      "<visits.visit.Visit object at 0x7ff26bad3e20>\n",
      "<visits.visit.Visit object at 0x7ff26ba921f0>\n",
      "<visits.visit.Visit object at 0x7ff26ba9ad60>\n",
      "<visits.visit.Visit object at 0x7ff26ba9afd0>\n",
      "<visits.visit.Visit object at 0x7ff26ba92d60>\n",
      "<visits.visit.Visit object at 0x7ff26baa3fa0>\n",
      "<visits.visit.Visit object at 0x7ff26ba9aeb0>\n",
      "<visits.visit.Visit object at 0x7ff26baa3850>\n",
      "<visits.visit.Visit object at 0x7ff26baa3be0>\n",
      "<visits.visit.Visit object at 0x7ff26baa3b20>\n",
      "<visits.visit.Visit object at 0x7ff26baa3eb0>\n",
      "<visits.visit.Visit object at 0x7ff26ba8c850>\n",
      "<visits.visit.Visit object at 0x7ff26baaa8b0>\n",
      "<visits.visit.Visit object at 0x7ff26baaa280>\n",
      "<visits.visit.Visit object at 0x7ff26baaaac0>\n",
      "<visits.visit.Visit object at 0x7ff26baaa610>\n",
      "<visits.visit.Visit object at 0x7ff26baaa2b0>\n",
      "<visits.visit.Visit object at 0x7ff26baaa9a0>\n",
      "<visits.visit.Visit object at 0x7ff26baaa490>\n",
      "<visits.visit.Visit object at 0x7ff26baaafa0>\n",
      "<visits.visit.Visit object at 0x7ff26bab03a0>\n",
      "<visits.visit.Visit object at 0x7ff26bab0d00>\n",
      "<visits.visit.Visit object at 0x7ff26bab0ee0>\n",
      "<visits.visit.Visit object at 0x7ff26bab0b20>\n",
      "<visits.visit.Visit object at 0x7ff26bab6c40>\n",
      "<visits.visit.Visit object at 0x7ff26bab0e80>\n",
      "<visits.visit.Visit object at 0x7ff26bab6b80>\n",
      "<visits.visit.Visit object at 0x7ff26bab04f0>\n",
      "<visits.visit.Visit object at 0x7ff26bab6ca0>\n",
      "<visits.visit.Visit object at 0x7ff26babfaf0>\n",
      "<visits.visit.Visit object at 0x7ff26babff10>\n",
      "<visits.visit.Visit object at 0x7ff26ba46df0>\n",
      "<visits.visit.Visit object at 0x7ff26ba466a0>\n",
      "<visits.visit.Visit object at 0x7ff26ba461c0>\n",
      "<visits.visit.Visit object at 0x7ff26ba46eb0>\n",
      "<visits.visit.Visit object at 0x7ff26ba4ec70>\n",
      "<visits.visit.Visit object at 0x7ff26ba4e880>\n",
      "<visits.visit.Visit object at 0x7ff26ba4e2b0>\n",
      "<visits.visit.Visit object at 0x7ff26ba4e040>\n",
      "<visits.visit.Visit object at 0x7ff26ba4efd0>\n",
      "<visits.visit.Visit object at 0x7ff26ba4e550>\n",
      "<visits.visit.Visit object at 0x7ff26ba53910>\n",
      "<visits.visit.Visit object at 0x7ff26baa34f0>\n",
      "<visits.visit.Visit object at 0x7ff26ba4ee50>\n",
      "<visits.visit.Visit object at 0x7ff26ba53b20>\n",
      "<visits.visit.Visit object at 0x7ff26ba5ae20>\n",
      "<visits.visit.Visit object at 0x7ff26ba5a310>\n",
      "<visits.visit.Visit object at 0x7ff26ba5aeb0>\n",
      "<visits.visit.Visit object at 0x7ff26ba5ac70>\n",
      "<visits.visit.Visit object at 0x7ff26ba5aee0>\n",
      "<visits.visit.Visit object at 0x7ff26ba5a190>\n",
      "<visits.visit.Visit object at 0x7ff26ba60c70>\n",
      "<visits.visit.Visit object at 0x7ff26ba60670>\n",
      "<visits.visit.Visit object at 0x7ff26ba604c0>\n",
      "<visits.visit.Visit object at 0x7ff26ba60790>\n",
      "<visits.visit.Visit object at 0x7ff26ba60fd0>\n",
      "<visits.visit.Visit object at 0x7ff26ba60970>\n",
      "<visits.visit.Visit object at 0x7ff26ba5aca0>\n",
      "<visits.visit.Visit object at 0x7ff26ba608e0>\n",
      "<visits.visit.Visit object at 0x7ff26ba60d90>\n",
      "<visits.visit.Visit object at 0x7ff26ba66af0>\n",
      "<visits.visit.Visit object at 0x7ff26ba66d60>\n",
      "<visits.visit.Visit object at 0x7ff26ba66a30>\n",
      "<visits.visit.Visit object at 0x7ff26ba6edf0>\n",
      "<visits.visit.Visit object at 0x7ff26ba6ea30>\n",
      "<visits.visit.Visit object at 0x7ff26ba66b50>\n",
      "<visits.visit.Visit object at 0x7ff26ba46af0>\n",
      "<visits.visit.Visit object at 0x7ff26ba75f40>\n",
      "<visits.visit.Visit object at 0x7ff26ba75a60>\n",
      "<visits.visit.Visit object at 0x7ff26ba758b0>\n",
      "<visits.visit.Visit object at 0x7ff26ba756a0>\n",
      "<visits.visit.Visit object at 0x7ff26ba75550>\n",
      "<visits.visit.Visit object at 0x7ff26ba7c7c0>\n",
      "<visits.visit.Visit object at 0x7ff26ba75ca0>\n",
      "<visits.visit.Visit object at 0x7ff26ba7c9a0>\n",
      "<visits.visit.Visit object at 0x7ff26ba75a00>\n",
      "<visits.visit.Visit object at 0x7ff26ba7cfa0>\n",
      "<visits.visit.Visit object at 0x7ff26ba7c8e0>\n",
      "<visits.visit.Visit object at 0x7ff26ba7cf40>\n",
      "<visits.visit.Visit object at 0x7ff26ba02b50>\n",
      "<visits.visit.Visit object at 0x7ff26ba02c10>\n",
      "<visits.visit.Visit object at 0x7ff26ba02ee0>\n",
      "<visits.visit.Visit object at 0x7ff26ba02df0>\n",
      "<visits.visit.Visit object at 0x7ff26ba02e80>\n",
      "<visits.visit.Visit object at 0x7ff26ba09b20>\n",
      "<visits.visit.Visit object at 0x7ff26ba09790>\n",
      "<visits.visit.Visit object at 0x7ff26ba09f10>\n",
      "<visits.visit.Visit object at 0x7ff26ba021c0>\n",
      "<visits.visit.Visit object at 0x7ff26ba09550>\n",
      "<visits.visit.Visit object at 0x7ff26ba0ff40>\n",
      "<visits.visit.Visit object at 0x7ff26ba0fa60>\n",
      "<visits.visit.Visit object at 0x7ff26ba6ee80>\n",
      "<visits.visit.Visit object at 0x7ff26ba0fa30>\n",
      "<visits.visit.Visit object at 0x7ff26ba0ffa0>\n",
      "<visits.visit.Visit object at 0x7ff26ba0fc70>\n",
      "<visits.visit.Visit object at 0x7ff26ba167f0>\n",
      "<visits.visit.Visit object at 0x7ff26ba16a60>\n",
      "<visits.visit.Visit object at 0x7ff26ba16fa0>\n",
      "<visits.visit.Visit object at 0x7ff26ba16f10>\n",
      "<visits.visit.Visit object at 0x7ff26ba1df40>\n",
      "<visits.visit.Visit object at 0x7ff26ba1d1c0>\n",
      "<visits.visit.Visit object at 0x7ff26ba25bb0>\n",
      "<visits.visit.Visit object at 0x7ff26ba09b80>\n",
      "<visits.visit.Visit object at 0x7ff26ba25d60>\n",
      "<visits.visit.Visit object at 0x7ff26ba25f10>\n",
      "<visits.visit.Visit object at 0x7ff26ba25ee0>\n",
      "<visits.visit.Visit object at 0x7ff26ba25dc0>\n",
      "<visits.visit.Visit object at 0x7ff26ba25fd0>\n",
      "<visits.visit.Visit object at 0x7ff26ba25130>\n",
      "<visits.visit.Visit object at 0x7ff26ba2bee0>\n",
      "<visits.visit.Visit object at 0x7ff26ba2bd90>\n",
      "<visits.visit.Visit object at 0x7ff26ba2bf40>\n",
      "<visits.visit.Visit object at 0x7ff26ba2b430>\n",
      "<visits.visit.Visit object at 0x7ff26ba338e0>\n",
      "<visits.visit.Visit object at 0x7ff26ba33d00>\n",
      "<visits.visit.Visit object at 0x7ff26ba33670>\n",
      "<visits.visit.Visit object at 0x7ff26ba33f10>\n",
      "<visits.visit.Visit object at 0x7ff26ba33b50>\n",
      "<visits.visit.Visit object at 0x7ff26ba33730>\n",
      "<visits.visit.Visit object at 0x7ff26ba33550>\n",
      "<visits.visit.Visit object at 0x7ff26ba33460>\n",
      "<visits.visit.Visit object at 0x7ff26ba39df0>\n",
      "<visits.visit.Visit object at 0x7ff26ba3f6a0>\n",
      "<visits.visit.Visit object at 0x7ff26ba3f310>\n",
      "<visits.visit.Visit object at 0x7ff26ba3f7f0>\n",
      "<visits.visit.Visit object at 0x7ff26ba3fca0>\n",
      "<visits.visit.Visit object at 0x7ff26ba3f070>\n",
      "<visits.visit.Visit object at 0x7ff26ba3fcd0>\n",
      "<visits.visit.Visit object at 0x7ff26b9c75e0>\n",
      "<visits.visit.Visit object at 0x7ff26b9c7dc0>\n",
      "<visits.visit.Visit object at 0x7ff26b9c7ca0>\n",
      "<visits.visit.Visit object at 0x7ff26b9c7f40>\n",
      "<visits.visit.Visit object at 0x7ff26b9c79d0>\n",
      "<visits.visit.Visit object at 0x7ff26b9c7fd0>\n",
      "<visits.visit.Visit object at 0x7ff26b9ceb80>\n",
      "<visits.visit.Visit object at 0x7ff26b9c7850>\n",
      "<visits.visit.Visit object at 0x7ff26b9ce940>\n",
      "<visits.visit.Visit object at 0x7ff26b9cedc0>\n",
      "<visits.visit.Visit object at 0x7ff26b9cee20>\n",
      "<visits.visit.Visit object at 0x7ff26b9ce760>\n",
      "<visits.visit.Visit object at 0x7ff26b9d5dc0>\n",
      "<visits.visit.Visit object at 0x7ff26b9d5c40>\n",
      "<visits.visit.Visit object at 0x7ff26b9d5bb0>\n",
      "<visits.visit.Visit object at 0x7ff26b9ce1c0>\n",
      "<visits.visit.Visit object at 0x7ff26b9d5910>\n",
      "<visits.visit.Visit object at 0x7ff26b9dcf40>\n",
      "<visits.visit.Visit object at 0x7ff26b9dcf70>\n",
      "<visits.visit.Visit object at 0x7ff26b9dcd30>\n",
      "<visits.visit.Visit object at 0x7ff26b9dce20>\n",
      "<visits.visit.Visit object at 0x7ff26b9e1490>\n",
      "<visits.visit.Visit object at 0x7ff26b9e1f10>\n",
      "<visits.visit.Visit object at 0x7ff26b9e7c70>\n",
      "<visits.visit.Visit object at 0x7ff26b9e7f40>\n",
      "<visits.visit.Visit object at 0x7ff26b9e7d60>\n",
      "<visits.visit.Visit object at 0x7ff26b9e70a0>\n",
      "<visits.visit.Visit object at 0x7ff26b9e7d90>\n",
      "<visits.visit.Visit object at 0x7ff26b9e7f70>\n",
      "<visits.visit.Visit object at 0x7ff26b9e7a00>\n",
      "<visits.visit.Visit object at 0x7ff26b9e7bb0>\n",
      "<visits.visit.Visit object at 0x7ff26b9effa0>\n",
      "<visits.visit.Visit object at 0x7ff26b9ef6d0>\n",
      "<visits.visit.Visit object at 0x7ff26b9efb80>\n",
      "<visits.visit.Visit object at 0x7ff26b9ef910>\n",
      "<visits.visit.Visit object at 0x7ff26b9f6f40>\n",
      "<visits.visit.Visit object at 0x7ff26b9f6a30>\n",
      "<visits.visit.Visit object at 0x7ff26b9f6d00>\n",
      "<visits.visit.Visit object at 0x7ff26b9f6430>\n",
      "<visits.visit.Visit object at 0x7ff26b9fddc0>\n",
      "<visits.visit.Visit object at 0x7ff26b9fd1f0>\n",
      "<visits.visit.Visit object at 0x7ff26b9fd850>\n",
      "<visits.visit.Visit object at 0x7ff26b9fdee0>\n",
      "<visits.visit.Visit object at 0x7ff26b9fd6a0>\n",
      "<visits.visit.Visit object at 0x7ff26b9fdf70>\n",
      "<visits.visit.Visit object at 0x7ff26b9fdd60>\n",
      "<visits.visit.Visit object at 0x7ff26b984f70>\n",
      "<visits.visit.Visit object at 0x7ff26b984c70>\n",
      "<visits.visit.Visit object at 0x7ff26b9847c0>\n",
      "<visits.visit.Visit object at 0x7ff26b989f40>\n",
      "<visits.visit.Visit object at 0x7ff26b991b50>\n",
      "<visits.visit.Visit object at 0x7ff26b989940>\n",
      "<visits.visit.Visit object at 0x7ff26b991bb0>\n",
      "<visits.visit.Visit object at 0x7ff26b991820>\n",
      "<visits.visit.Visit object at 0x7ff26b9918e0>\n",
      "<visits.visit.Visit object at 0x7ff26b991a00>\n",
      "<visits.visit.Visit object at 0x7ff26b9914c0>\n",
      "<visits.visit.Visit object at 0x7ff26b997f70>\n",
      "<visits.visit.Visit object at 0x7ff26b997ee0>\n",
      "<visits.visit.Visit object at 0x7ff26b997970>\n",
      "<visits.visit.Visit object at 0x7ff26b99ec40>\n",
      "<visits.visit.Visit object at 0x7ff26b99ed90>\n",
      "<visits.visit.Visit object at 0x7ff26b99ea00>\n",
      "<visits.visit.Visit object at 0x7ff26b99ea60>\n",
      "<visits.visit.Visit object at 0x7ff26b99eaf0>\n",
      "<visits.visit.Visit object at 0x7ff26b99e8e0>\n",
      "<visits.visit.Visit object at 0x7ff26b99e790>\n",
      "<visits.visit.Visit object at 0x7ff26b99edf0>\n",
      "<visits.visit.Visit object at 0x7ff26b9a6f70>\n",
      "<visits.visit.Visit object at 0x7ff26b9a63d0>\n",
      "<visits.visit.Visit object at 0x7ff26b9adb80>\n",
      "<visits.visit.Visit object at 0x7ff26b9ad4c0>\n",
      "<visits.visit.Visit object at 0x7ff26b9ada00>\n",
      "<visits.visit.Visit object at 0x7ff26b9a6b80>\n",
      "<visits.visit.Visit object at 0x7ff26b9ad6d0>\n",
      "<visits.visit.Visit object at 0x7ff26b9ad1f0>\n",
      "<visits.visit.Visit object at 0x7ff26b9b6670>\n",
      "<visits.visit.Visit object at 0x7ff26b9b6bb0>\n",
      "<visits.visit.Visit object at 0x7ff26b9b6cd0>\n",
      "<visits.visit.Visit object at 0x7ff26b9b61f0>\n",
      "<visits.visit.Visit object at 0x7ff26b9be5e0>\n",
      "<visits.visit.Visit object at 0x7ff26b9459a0>\n",
      "<visits.visit.Visit object at 0x7ff26b9bea90>\n",
      "<visits.visit.Visit object at 0x7ff26ba1df10>\n",
      "<visits.visit.Visit object at 0x7ff26b945dc0>\n",
      "<visits.visit.Visit object at 0x7ff26b945fd0>\n",
      "<visits.visit.Visit object at 0x7ff26b945b80>\n",
      "<visits.visit.Visit object at 0x7ff26b945520>\n",
      "<visits.visit.Visit object at 0x7ff26b945d00>\n",
      "<visits.visit.Visit object at 0x7ff26b945970>\n",
      "<visits.visit.Visit object at 0x7ff26b945f70>\n",
      "<visits.visit.Visit object at 0x7ff26b945940>\n",
      "<visits.visit.Visit object at 0x7ff26b94aa60>\n",
      "<visits.visit.Visit object at 0x7ff26b94a9d0>\n",
      "<visits.visit.Visit object at 0x7ff26b94a250>\n",
      "<visits.visit.Visit object at 0x7ff26b94a730>\n",
      "<visits.visit.Visit object at 0x7ff26b952100>\n",
      "<visits.visit.Visit object at 0x7ff26b952610>\n",
      "<visits.visit.Visit object at 0x7ff26b9528b0>\n",
      "<visits.visit.Visit object at 0x7ff26b952b50>\n",
      "<visits.visit.Visit object at 0x7ff26b952ee0>\n",
      "<visits.visit.Visit object at 0x7ff26b959940>\n",
      "<visits.visit.Visit object at 0x7ff26b959ac0>\n",
      "<visits.visit.Visit object at 0x7ff26b959fd0>\n",
      "<visits.visit.Visit object at 0x7ff26b9598b0>\n",
      "<visits.visit.Visit object at 0x7ff26b9593d0>\n",
      "<visits.visit.Visit object at 0x7ff26b961dc0>\n",
      "<visits.visit.Visit object at 0x7ff26b9613d0>\n",
      "<visits.visit.Visit object at 0x7ff26b961b50>\n",
      "<visits.visit.Visit object at 0x7ff26b961940>\n",
      "<visits.visit.Visit object at 0x7ff26b961d60>\n",
      "<visits.visit.Visit object at 0x7ff26b968e80>\n",
      "<visits.visit.Visit object at 0x7ff26b968ee0>\n",
      "<visits.visit.Visit object at 0x7ff26b952460>\n",
      "<visits.visit.Visit object at 0x7ff26b968cd0>\n",
      "<visits.visit.Visit object at 0x7ff26b9689d0>\n",
      "<visits.visit.Visit object at 0x7ff26b968ac0>\n",
      "<visits.visit.Visit object at 0x7ff26b9684c0>\n",
      "<visits.visit.Visit object at 0x7ff26b96d130>\n",
      "<visits.visit.Visit object at 0x7ff26b96d4f0>\n",
      "<visits.visit.Visit object at 0x7ff26b96da90>\n",
      "<visits.visit.Visit object at 0x7ff26b96de80>\n",
      "<visits.visit.Visit object at 0x7ff26b96dc70>\n",
      "<visits.visit.Visit object at 0x7ff26b974610>\n",
      "<visits.visit.Visit object at 0x7ff26b974d30>\n",
      "<visits.visit.Visit object at 0x7ff26b97b9a0>\n",
      "<visits.visit.Visit object at 0x7ff26b97bb20>\n",
      "<visits.visit.Visit object at 0x7ff26b97b970>\n",
      "<visits.visit.Visit object at 0x7ff26b97bf40>\n",
      "<visits.visit.Visit object at 0x7ff26b97bac0>\n",
      "<visits.visit.Visit object at 0x7ff26b97baf0>\n",
      "<visits.visit.Visit object at 0x7ff26b97be50>\n",
      "<visits.visit.Visit object at 0x7ff26b902a90>\n",
      "<visits.visit.Visit object at 0x7ff26b9029d0>\n",
      "<visits.visit.Visit object at 0x7ff26b902d60>\n",
      "<visits.visit.Visit object at 0x7ff26b97b790>\n",
      "<visits.visit.Visit object at 0x7ff26b9024f0>\n",
      "<visits.visit.Visit object at 0x7ff26b902f40>\n",
      "<visits.visit.Visit object at 0x7ff26b90adc0>\n",
      "<visits.visit.Visit object at 0x7ff26b902e80>\n",
      "<visits.visit.Visit object at 0x7ff26b90a640>\n",
      "<visits.visit.Visit object at 0x7ff26b90afa0>\n",
      "<visits.visit.Visit object at 0x7ff26b90ab20>\n",
      "<visits.visit.Visit object at 0x7ff26b9108b0>\n",
      "<visits.visit.Visit object at 0x7ff26b910c70>\n",
      "<visits.visit.Visit object at 0x7ff26b910ca0>\n",
      "<visits.visit.Visit object at 0x7ff26b910eb0>\n",
      "<visits.visit.Visit object at 0x7ff26b9104c0>\n",
      "<visits.visit.Visit object at 0x7ff26b917d00>\n",
      "<visits.visit.Visit object at 0x7ff26b9178b0>\n",
      "<visits.visit.Visit object at 0x7ff26b917c70>\n",
      "<visits.visit.Visit object at 0x7ff26b917fd0>\n",
      "<visits.visit.Visit object at 0x7ff26b917b20>\n",
      "<visits.visit.Visit object at 0x7ff26b91ca30>\n",
      "<visits.visit.Visit object at 0x7ff26b91c370>\n",
      "<visits.visit.Visit object at 0x7ff26b91cee0>\n",
      "<visits.visit.Visit object at 0x7ff26b91cf10>\n",
      "<visits.visit.Visit object at 0x7ff26b91cc70>\n",
      "<visits.visit.Visit object at 0x7ff26b91c3a0>\n",
      "<visits.visit.Visit object at 0x7ff26b91ceb0>\n",
      "<visits.visit.Visit object at 0x7ff26b9247f0>\n",
      "<visits.visit.Visit object at 0x7ff26b924d00>\n",
      "<visits.visit.Visit object at 0x7ff26b924160>\n",
      "<visits.visit.Visit object at 0x7ff26b924ca0>\n",
      "<visits.visit.Visit object at 0x7ff26b92bf10>\n",
      "<visits.visit.Visit object at 0x7ff26b92bf40>\n",
      "<visits.visit.Visit object at 0x7ff26b92bc40>\n",
      "<visits.visit.Visit object at 0x7ff26b92bd30>\n",
      "<visits.visit.Visit object at 0x7ff26b933ee0>\n",
      "<visits.visit.Visit object at 0x7ff26b933f10>\n",
      "<visits.visit.Visit object at 0x7ff26b933fa0>\n",
      "<visits.visit.Visit object at 0x7ff26b92bee0>\n",
      "<visits.visit.Visit object at 0x7ff26b933b50>\n",
      "<visits.visit.Visit object at 0x7ff26b933190>\n",
      "<visits.visit.Visit object at 0x7ff26b937ee0>\n",
      "<visits.visit.Visit object at 0x7ff26b9377c0>\n",
      "<visits.visit.Visit object at 0x7ff26b937a30>\n",
      "<visits.visit.Visit object at 0x7ff26b937190>\n",
      "<visits.visit.Visit object at 0x7ff26b9379d0>\n",
      "<visits.visit.Visit object at 0x7ff26b937fa0>\n",
      "<visits.visit.Visit object at 0x7ff26b93fca0>\n",
      "<visits.visit.Visit object at 0x7ff26b93f1c0>\n",
      "<visits.visit.Visit object at 0x7ff26b93ffd0>\n",
      "<visits.visit.Visit object at 0x7ff26b93f6a0>\n",
      "<visits.visit.Visit object at 0x7ff26b93f8e0>\n",
      "<visits.visit.Visit object at 0x7ff26b93fd60>\n",
      "<visits.visit.Visit object at 0x7ff26b93f8b0>\n",
      "<visits.visit.Visit object at 0x7ff26b8c6e80>\n",
      "<visits.visit.Visit object at 0x7ff26b8c6c10>\n",
      "<visits.visit.Visit object at 0x7ff26b8cd910>\n",
      "<visits.visit.Visit object at 0x7ff26b8c6550>\n",
      "<visits.visit.Visit object at 0x7ff26b8cddc0>\n",
      "<visits.visit.Visit object at 0x7ff26b8cda30>\n",
      "<visits.visit.Visit object at 0x7ff26b8cd520>\n",
      "<visits.visit.Visit object at 0x7ff26b8d3d90>\n",
      "<visits.visit.Visit object at 0x7ff26b8d3610>\n",
      "<visits.visit.Visit object at 0x7ff26b8d3df0>\n",
      "<visits.visit.Visit object at 0x7ff26b8d3a60>\n",
      "<visits.visit.Visit object at 0x7ff26b8cdee0>\n",
      "<visits.visit.Visit object at 0x7ff26b8d3c10>\n",
      "<visits.visit.Visit object at 0x7ff26b8d3880>\n",
      "<visits.visit.Visit object at 0x7ff26b8e4bb0>\n",
      "<visits.visit.Visit object at 0x7ff26b8e4f40>\n",
      "<visits.visit.Visit object at 0x7ff26b8e4ee0>\n",
      "<visits.visit.Visit object at 0x7ff26b8e9dc0>\n",
      "<visits.visit.Visit object at 0x7ff26b8e9760>\n",
      "<visits.visit.Visit object at 0x7ff26b8e9e80>\n",
      "<visits.visit.Visit object at 0x7ff26b8e9f70>\n",
      "<visits.visit.Visit object at 0x7ff26b8e9400>\n",
      "<visits.visit.Visit object at 0x7ff26b8e9100>\n",
      "<visits.visit.Visit object at 0x7ff26b8e9d90>\n",
      "<visits.visit.Visit object at 0x7ff26b8f0310>\n",
      "<visits.visit.Visit object at 0x7ff26b8f0eb0>\n",
      "<visits.visit.Visit object at 0x7ff26b8f0c10>\n",
      "<visits.visit.Visit object at 0x7ff26b8e9520>\n",
      "<visits.visit.Visit object at 0x7ff26b8f0640>\n",
      "<visits.visit.Visit object at 0x7ff26b8f0af0>\n",
      "<visits.visit.Visit object at 0x7ff26b8f0d60>\n",
      "<visits.visit.Visit object at 0x7ff26b8f7eb0>\n",
      "<visits.visit.Visit object at 0x7ff26b8f0c70>\n",
      "<visits.visit.Visit object at 0x7ff26b8f0a90>\n",
      "<visits.visit.Visit object at 0x7ff26b8f7b20>\n",
      "<visits.visit.Visit object at 0x7ff26b8f7190>\n",
      "<visits.visit.Visit object at 0x7ff26b8fec70>\n",
      "<visits.visit.Visit object at 0x7ff26b8feeb0>\n",
      "<visits.visit.Visit object at 0x7ff26b8feac0>\n",
      "<visits.visit.Visit object at 0x7ff26b8fe790>\n",
      "<visits.visit.Visit object at 0x7ff26b883ac0>\n",
      "<visits.visit.Visit object at 0x7ff26b883dc0>\n",
      "<visits.visit.Visit object at 0x7ff26b883cd0>\n",
      "<visits.visit.Visit object at 0x7ff26b883a30>\n",
      "<visits.visit.Visit object at 0x7ff26b88b7f0>\n",
      "<visits.visit.Visit object at 0x7ff26b88bf40>\n",
      "<visits.visit.Visit object at 0x7ff26b88bd60>\n",
      "<visits.visit.Visit object at 0x7ff26b8835e0>\n",
      "<visits.visit.Visit object at 0x7ff26b88bac0>\n",
      "<visits.visit.Visit object at 0x7ff26b88bdc0>\n",
      "<visits.visit.Visit object at 0x7ff26b88bca0>\n",
      "<visits.visit.Visit object at 0x7ff26b88bf10>\n",
      "<visits.visit.Visit object at 0x7ff26b88ba30>\n",
      "<visits.visit.Visit object at 0x7ff26b893ca0>\n",
      "<visits.visit.Visit object at 0x7ff26b8937c0>\n",
      "<visits.visit.Visit object at 0x7ff26b8939d0>\n",
      "<visits.visit.Visit object at 0x7ff26b8937f0>\n",
      "<visits.visit.Visit object at 0x7ff26b893d60>\n",
      "<visits.visit.Visit object at 0x7ff26b8999d0>\n",
      "<visits.visit.Visit object at 0x7ff26b899f10>\n",
      "<visits.visit.Visit object at 0x7ff26b8994f0>\n",
      "<visits.visit.Visit object at 0x7ff26b899fd0>\n",
      "<visits.visit.Visit object at 0x7ff26b899ac0>\n",
      "<visits.visit.Visit object at 0x7ff26b899ee0>\n",
      "<visits.visit.Visit object at 0x7ff26b8a06a0>\n",
      "<visits.visit.Visit object at 0x7ff26b8a0b80>\n",
      "<visits.visit.Visit object at 0x7ff26b8a0bb0>\n",
      "<visits.visit.Visit object at 0x7ff26b961b20>\n",
      "<visits.visit.Visit object at 0x7ff26b8a0a30>\n",
      "<visits.visit.Visit object at 0x7ff26b8a7a00>\n",
      "<visits.visit.Visit object at 0x7ff26b8a79d0>\n",
      "<visits.visit.Visit object at 0x7ff26b8a7580>\n",
      "<visits.visit.Visit object at 0x7ff26b8a7eb0>\n",
      "<visits.visit.Visit object at 0x7ff26b8a7c40>\n",
      "<visits.visit.Visit object at 0x7ff26b8addc0>\n",
      "<visits.visit.Visit object at 0x7ff26b8adb20>\n",
      "<visits.visit.Visit object at 0x7ff26b8ad7f0>\n",
      "<visits.visit.Visit object at 0x7ff26b8adc10>\n",
      "<visits.visit.Visit object at 0x7ff26b8b58b0>\n",
      "<visits.visit.Visit object at 0x7ff26b8b5580>\n",
      "<visits.visit.Visit object at 0x7ff26b8baee0>\n",
      "<visits.visit.Visit object at 0x7ff26b8bafd0>\n",
      "<visits.visit.Visit object at 0x7ff26b8ba190>\n",
      "<visits.visit.Visit object at 0x7ff26b8ba8b0>\n",
      "<visits.visit.Visit object at 0x7ff26b842c70>\n",
      "<visits.visit.Visit object at 0x7ff26b842ca0>\n",
      "<visits.visit.Visit object at 0x7ff26b842190>\n",
      "<visits.visit.Visit object at 0x7ff26b842820>\n",
      "<visits.visit.Visit object at 0x7ff26b842ee0>\n",
      "<visits.visit.Visit object at 0x7ff26b842a00>\n",
      "<visits.visit.Visit object at 0x7ff26b848790>\n",
      "<visits.visit.Visit object at 0x7ff26b8421c0>\n",
      "<visits.visit.Visit object at 0x7ff26b848730>\n",
      "<visits.visit.Visit object at 0x7ff26b848b50>\n",
      "<visits.visit.Visit object at 0x7ff26b848ee0>\n",
      "<visits.visit.Visit object at 0x7ff26b848040>\n",
      "<visits.visit.Visit object at 0x7ff26b848520>\n",
      "<visits.visit.Visit object at 0x7ff26b84ea30>\n",
      "<visits.visit.Visit object at 0x7ff26b84efd0>\n",
      "<visits.visit.Visit object at 0x7ff26b856ca0>\n",
      "<visits.visit.Visit object at 0x7ff26b856940>\n",
      "<visits.visit.Visit object at 0x7ff26b856d60>\n",
      "<visits.visit.Visit object at 0x7ff26b856190>\n",
      "<visits.visit.Visit object at 0x7ff26b8563d0>\n",
      "<visits.visit.Visit object at 0x7ff26b8996a0>\n",
      "<visits.visit.Visit object at 0x7ff26b856b20>\n",
      "<visits.visit.Visit object at 0x7ff26b85d520>\n",
      "<visits.visit.Visit object at 0x7ff26b85d7f0>\n",
      "<visits.visit.Visit object at 0x7ff26b85db20>\n",
      "<visits.visit.Visit object at 0x7ff26b863bb0>\n",
      "<visits.visit.Visit object at 0x7ff26b856eb0>\n",
      "<visits.visit.Visit object at 0x7ff26b863850>\n",
      "<visits.visit.Visit object at 0x7ff26b863a00>\n",
      "<visits.visit.Visit object at 0x7ff26b868eb0>\n",
      "<visits.visit.Visit object at 0x7ff26b8635e0>\n",
      "<visits.visit.Visit object at 0x7ff26b868fa0>\n",
      "<visits.visit.Visit object at 0x7ff26b868670>\n",
      "<visits.visit.Visit object at 0x7ff26b868520>\n",
      "<visits.visit.Visit object at 0x7ff26b868d30>\n",
      "<visits.visit.Visit object at 0x7ff26b870400>\n",
      "<visits.visit.Visit object at 0x7ff26b870cd0>\n",
      "<visits.visit.Visit object at 0x7ff26b870b20>\n",
      "<visits.visit.Visit object at 0x7ff26b870160>\n",
      "<visits.visit.Visit object at 0x7ff26b870fd0>\n",
      "<visits.visit.Visit object at 0x7ff26b870be0>\n",
      "<visits.visit.Visit object at 0x7ff26b878ee0>\n",
      "<visits.visit.Visit object at 0x7ff26b8788e0>\n",
      "<visits.visit.Visit object at 0x7ff26b878ca0>\n",
      "<visits.visit.Visit object at 0x7ff26b878fd0>\n",
      "<visits.visit.Visit object at 0x7ff26b87ad00>\n",
      "<visits.visit.Visit object at 0x7ff26b878160>\n",
      "<visits.visit.Visit object at 0x7ff26b878730>\n",
      "<visits.visit.Visit object at 0x7ff26b87ac70>\n",
      "<visits.visit.Visit object at 0x7ff26b87afd0>\n",
      "<visits.visit.Visit object at 0x7ff25ea8d640>\n",
      "<visits.visit.Visit object at 0x7ff25ea8dd90>\n",
      "<visits.visit.Visit object at 0x7ff25ea8d190>\n",
      "<visits.visit.Visit object at 0x7ff25ea93eb0>\n",
      "<visits.visit.Visit object at 0x7ff25ea8db50>\n",
      "<visits.visit.Visit object at 0x7ff25ea938b0>\n",
      "<visits.visit.Visit object at 0x7ff25ea93af0>\n",
      "<visits.visit.Visit object at 0x7ff25ea93f70>\n",
      "<visits.visit.Visit object at 0x7ff25ea93b20>\n",
      "<visits.visit.Visit object at 0x7ff25ea93640>\n",
      "<visits.visit.Visit object at 0x7ff25ea93be0>\n",
      "<visits.visit.Visit object at 0x7ff25ea93e80>\n",
      "<visits.visit.Visit object at 0x7ff25ea99fa0>\n",
      "<visits.visit.Visit object at 0x7ff25ea99ee0>\n",
      "<visits.visit.Visit object at 0x7ff25ea99a00>\n",
      "<visits.visit.Visit object at 0x7ff25eaa0640>\n",
      "<visits.visit.Visit object at 0x7ff25eaa0be0>\n",
      "<visits.visit.Visit object at 0x7ff25eaa0700>\n",
      "<visits.visit.Visit object at 0x7ff25eaa0dc0>\n",
      "<visits.visit.Visit object at 0x7ff25eaa0f70>\n",
      "<visits.visit.Visit object at 0x7ff25eaa9a90>\n",
      "<visits.visit.Visit object at 0x7ff25eaa9760>\n",
      "<visits.visit.Visit object at 0x7ff25eaa9eb0>\n",
      "<visits.visit.Visit object at 0x7ff25eaaf370>\n",
      "<visits.visit.Visit object at 0x7ff25eaa9820>\n",
      "<visits.visit.Visit object at 0x7ff25eaafd00>\n",
      "<visits.visit.Visit object at 0x7ff25eaafc70>\n",
      "<visits.visit.Visit object at 0x7ff25eaafdf0>\n",
      "<visits.visit.Visit object at 0x7ff25eaaf4c0>\n",
      "<visits.visit.Visit object at 0x7ff25eaafc40>\n",
      "<visits.visit.Visit object at 0x7ff25eab6790>\n",
      "<visits.visit.Visit object at 0x7ff25eabdd90>\n",
      "<visits.visit.Visit object at 0x7ff25eabd5b0>\n",
      "<visits.visit.Visit object at 0x7ff25eabdc40>\n",
      "<visits.visit.Visit object at 0x7ff25eabdeb0>\n",
      "<visits.visit.Visit object at 0x7ff25eabd9d0>\n",
      "<visits.visit.Visit object at 0x7ff25eabdfd0>\n",
      "<visits.visit.Visit object at 0x7ff25eabd730>\n",
      "<visits.visit.Visit object at 0x7ff25eabda00>\n",
      "<visits.visit.Visit object at 0x7ff25eabd3d0>\n",
      "<visits.visit.Visit object at 0x7ff25eac2400>\n",
      "<visits.visit.Visit object at 0x7ff25eac2970>\n",
      "<visits.visit.Visit object at 0x7ff25eac2d90>\n",
      "<visits.visit.Visit object at 0x7ff25eac25e0>\n",
      "<visits.visit.Visit object at 0x7ff25eacaca0>\n",
      "<visits.visit.Visit object at 0x7ff25eaca4f0>\n",
      "<visits.visit.Visit object at 0x7ff25eacaa00>\n",
      "<visits.visit.Visit object at 0x7ff25eaca9a0>\n",
      "<visits.visit.Visit object at 0x7ff25ead0ac0>\n",
      "<visits.visit.Visit object at 0x7ff25ead0fa0>\n",
      "<visits.visit.Visit object at 0x7ff25ead05b0>\n",
      "<visits.visit.Visit object at 0x7ff25ead9e50>\n",
      "<visits.visit.Visit object at 0x7ff25ead9be0>\n",
      "<visits.visit.Visit object at 0x7ff25ead9fa0>\n",
      "<visits.visit.Visit object at 0x7ff25ead9640>\n",
      "<visits.visit.Visit object at 0x7ff25ead95e0>\n",
      "<visits.visit.Visit object at 0x7ff25ead9f40>\n",
      "<visits.visit.Visit object at 0x7ff25ead9760>\n",
      "<visits.visit.Visit object at 0x7ff25ead9eb0>\n",
      "<visits.visit.Visit object at 0x7ff25eaded90>\n",
      "<visits.visit.Visit object at 0x7ff26b85dca0>\n",
      "<visits.visit.Visit object at 0x7ff25eade610>\n",
      "<visits.visit.Visit object at 0x7ff25eadec40>\n",
      "<visits.visit.Visit object at 0x7ff25eadefd0>\n",
      "<visits.visit.Visit object at 0x7ff25eadeeb0>\n",
      "<visits.visit.Visit object at 0x7ff25eae6d30>\n",
      "<visits.visit.Visit object at 0x7ff25eae6a00>\n",
      "<visits.visit.Visit object at 0x7ff25eae6400>\n",
      "<visits.visit.Visit object at 0x7ff25eae6790>\n",
      "<visits.visit.Visit object at 0x7ff25eaebaf0>\n",
      "<visits.visit.Visit object at 0x7ff25eaeb9a0>\n",
      "<visits.visit.Visit object at 0x7ff25eaeb400>\n",
      "<visits.visit.Visit object at 0x7ff25eaeb9d0>\n",
      "<visits.visit.Visit object at 0x7ff25eaf2d90>\n",
      "<visits.visit.Visit object at 0x7ff25eaf2730>\n",
      "<visits.visit.Visit object at 0x7ff25eaf2610>\n",
      "<visits.visit.Visit object at 0x7ff25eaf2e50>\n",
      "<visits.visit.Visit object at 0x7ff25eaf2820>\n",
      "<visits.visit.Visit object at 0x7ff25eaf8640>\n",
      "<visits.visit.Visit object at 0x7ff25eaf8d90>\n",
      "<visits.visit.Visit object at 0x7ff25eaf86d0>\n",
      "<visits.visit.Visit object at 0x7ff25eaf8460>\n",
      "<visits.visit.Visit object at 0x7ff25eb00f40>\n",
      "<visits.visit.Visit object at 0x7ff25eb00eb0>\n",
      "<visits.visit.Visit object at 0x7ff25eb00a30>\n",
      "<visits.visit.Visit object at 0x7ff25eb00040>\n",
      "<visits.visit.Visit object at 0x7ff25eb00c10>\n",
      "<visits.visit.Visit object at 0x7ff25eb06d60>\n",
      "<visits.visit.Visit object at 0x7ff25eb00e50>\n",
      "<visits.visit.Visit object at 0x7ff25eb005e0>\n",
      "<visits.visit.Visit object at 0x7ff25eb06c40>\n",
      "<visits.visit.Visit object at 0x7ff25eb067c0>\n",
      "<visits.visit.Visit object at 0x7ff25eb06f70>\n",
      "<visits.visit.Visit object at 0x7ff260be0a30>\n",
      "<visits.visit.Visit object at 0x7ff25eb06ee0>\n",
      "<visits.visit.Visit object at 0x7ff25ead99d0>\n",
      "<visits.visit.Visit object at 0x7ff260be07c0>\n",
      "<visits.visit.Visit object at 0x7ff260be08e0>\n",
      "<visits.visit.Visit object at 0x7ff260be0b50>\n",
      "<visits.visit.Visit object at 0x7ff260be6730>\n",
      "<visits.visit.Visit object at 0x7ff260be60d0>\n",
      "<visits.visit.Visit object at 0x7ff260beebe0>\n",
      "<visits.visit.Visit object at 0x7ff260beed90>\n",
      "<visits.visit.Visit object at 0x7ff260beef40>\n",
      "<visits.visit.Visit object at 0x7ff260beef10>\n",
      "<visits.visit.Visit object at 0x7ff260beebb0>\n",
      "<visits.visit.Visit object at 0x7ff260bf3fd0>\n",
      "<visits.visit.Visit object at 0x7ff260bf36a0>\n",
      "<visits.visit.Visit object at 0x7ff260beedc0>\n",
      "<visits.visit.Visit object at 0x7ff260bf3e20>\n",
      "<visits.visit.Visit object at 0x7ff26b8d8820>\n",
      "<visits.visit.Visit object at 0x7ff26b8d8f40>\n",
      "<visits.visit.Visit object at 0x7ff25eb06d00>\n",
      "<visits.visit.Visit object at 0x7ff260bf3a30>\n",
      "<visits.visit.Visit object at 0x7ff26b8d8040>\n",
      "<visits.visit.Visit object at 0x7ff26b8d8cd0>\n",
      "<visits.visit.Visit object at 0x7ff26b8d8b80>\n",
      "<visits.visit.Visit object at 0x7ff26b8d8df0>\n",
      "<visits.visit.Visit object at 0x7ff260c01d00>\n",
      "<visits.visit.Visit object at 0x7ff26b8d8fa0>\n",
      "<visits.visit.Visit object at 0x7ff260c01490>\n",
      "<visits.visit.Visit object at 0x7ff26b8d8d90>\n",
      "<visits.visit.Visit object at 0x7ff260c01c10>\n",
      "<visits.visit.Visit object at 0x7ff260c01bb0>\n",
      "<visits.visit.Visit object at 0x7ff260c01ee0>\n",
      "<visits.visit.Visit object at 0x7ff260c01be0>\n",
      "<visits.visit.Visit object at 0x7ff260c09bb0>\n",
      "<visits.visit.Visit object at 0x7ff260c09d00>\n",
      "<visits.visit.Visit object at 0x7ff260c09f40>\n",
      "<visits.visit.Visit object at 0x7ff260c090d0>\n",
      "<visits.visit.Visit object at 0x7ff260c098e0>\n",
      "<visits.visit.Visit object at 0x7ff260c0da90>\n",
      "<visits.visit.Visit object at 0x7ff260c0dcd0>\n",
      "<visits.visit.Visit object at 0x7ff260c0df70>\n",
      "<visits.visit.Visit object at 0x7ff260c0d490>\n",
      "<visits.visit.Visit object at 0x7ff260c0dbb0>\n",
      "<visits.visit.Visit object at 0x7ff260c16ca0>\n",
      "<visits.visit.Visit object at 0x7ff260c0ddc0>\n",
      "<visits.visit.Visit object at 0x7ff260c1da90>\n",
      "<visits.visit.Visit object at 0x7ff260c1df70>\n",
      "<visits.visit.Visit object at 0x7ff260c1dfd0>\n",
      "<visits.visit.Visit object at 0x7ff260c1dc10>\n",
      "<visits.visit.Visit object at 0x7ff260c1d8b0>\n",
      "<visits.visit.Visit object at 0x7ff260c1dfa0>\n",
      "<visits.visit.Visit object at 0x7ff260c1d6a0>\n",
      "<visits.visit.Visit object at 0x7ff260c1d850>\n",
      "<visits.visit.Visit object at 0x7ff260c1ddf0>\n",
      "<visits.visit.Visit object at 0x7ff260c1d880>\n",
      "<visits.visit.Visit object at 0x7ff260c23730>\n",
      "<visits.visit.Visit object at 0x7ff260c239a0>\n",
      "<visits.visit.Visit object at 0x7ff260c23fa0>\n",
      "<visits.visit.Visit object at 0x7ff260c23970>\n",
      "<visits.visit.Visit object at 0x7ff260c23e50>\n",
      "<visits.visit.Visit object at 0x7ff260c2bbb0>\n",
      "<visits.visit.Visit object at 0x7ff260c2bd60>\n",
      "<visits.visit.Visit object at 0x7ff260c2b940>\n",
      "<visits.visit.Visit object at 0x7ff260c2bfd0>\n",
      "<visits.visit.Visit object at 0x7ff260c2be20>\n",
      "<visits.visit.Visit object at 0x7ff260c30fa0>\n",
      "<visits.visit.Visit object at 0x7ff260c30880>\n",
      "<visits.visit.Visit object at 0x7ff260c3bc70>\n",
      "<visits.visit.Visit object at 0x7ff260c2b880>\n",
      "<visits.visit.Visit object at 0x7ff260c3be20>\n",
      "<visits.visit.Visit object at 0x7ff260c3bc10>\n",
      "<visits.visit.Visit object at 0x7ff260c3be50>\n",
      "<visits.visit.Visit object at 0x7ff260c3bc40>\n",
      "<visits.visit.Visit object at 0x7ff260c3be80>\n",
      "<visits.visit.Visit object at 0x7ff260c40940>\n",
      "<visits.visit.Visit object at 0x7ff260c40e80>\n",
      "<visits.visit.Visit object at 0x7ff260c40b20>\n",
      "<visits.visit.Visit object at 0x7ff260c40d30>\n",
      "<visits.visit.Visit object at 0x7ff260c46d30>\n",
      "<visits.visit.Visit object at 0x7ff260c46af0>\n",
      "<visits.visit.Visit object at 0x7ff260c469a0>\n",
      "<visits.visit.Visit object at 0x7ff260c46e20>\n",
      "<visits.visit.Visit object at 0x7ff260c46d60>\n",
      "<visits.visit.Visit object at 0x7ff260c4c850>\n",
      "<visits.visit.Visit object at 0x7ff260c4cfa0>\n",
      "<visits.visit.Visit object at 0x7ff260c4cd90>\n",
      "<visits.visit.Visit object at 0x7ff260c4c430>\n",
      "<visits.visit.Visit object at 0x7ff260c4c880>\n",
      "<visits.visit.Visit object at 0x7ff260c531f0>\n",
      "<visits.visit.Visit object at 0x7ff260c4cfd0>\n",
      "<visits.visit.Visit object at 0x7ff260c53cd0>\n",
      "<visits.visit.Visit object at 0x7ff260c533a0>\n",
      "<visits.visit.Visit object at 0x7ff260c53640>\n",
      "<visits.visit.Visit object at 0x7ff260c59d60>\n",
      "<visits.visit.Visit object at 0x7ff260c59fa0>\n",
      "<visits.visit.Visit object at 0x7ff260c59820>\n",
      "<visits.visit.Visit object at 0x7ff260c59880>\n",
      "<visits.visit.Visit object at 0x7ff260c627c0>\n",
      "<visits.visit.Visit object at 0x7ff260c62820>\n",
      "<visits.visit.Visit object at 0x7ff260c62f40>\n",
      "<visits.visit.Visit object at 0x7ff260c62e80>\n",
      "<visits.visit.Visit object at 0x7ff260c62940>\n",
      "<visits.visit.Visit object at 0x7ff260c68d30>\n",
      "<visits.visit.Visit object at 0x7ff260c68100>\n",
      "<visits.visit.Visit object at 0x7ff260c68fa0>\n",
      "<visits.visit.Visit object at 0x7ff260c68df0>\n",
      "<visits.visit.Visit object at 0x7ff260c68820>\n",
      "<visits.visit.Visit object at 0x7ff260c6ec40>\n",
      "<visits.visit.Visit object at 0x7ff260c75760>\n",
      "<visits.visit.Visit object at 0x7ff260c75e20>\n",
      "<visits.visit.Visit object at 0x7ff260c75ca0>\n",
      "<visits.visit.Visit object at 0x7ff260c75f70>\n",
      "<visits.visit.Visit object at 0x7ff260c75a90>\n",
      "<visits.visit.Visit object at 0x7ff260c755b0>\n",
      "<visits.visit.Visit object at 0x7ff260bf3220>\n",
      "<visits.visit.Visit object at 0x7ff260c7b7f0>\n",
      "<visits.visit.Visit object at 0x7ff260c7bd90>\n",
      "<visits.visit.Visit object at 0x7ff260c7bf70>\n",
      "<visits.visit.Visit object at 0x7ff260c7bfd0>\n",
      "<visits.visit.Visit object at 0x7ff260c7bd30>\n",
      "<visits.visit.Visit object at 0x7ff260c7ba90>\n",
      "<visits.visit.Visit object at 0x7ff260c7be80>\n",
      "<visits.visit.Visit object at 0x7ff260c7b0a0>\n",
      "<visits.visit.Visit object at 0x7ff260c82e20>\n",
      "<visits.visit.Visit object at 0x7ff260c7bb80>\n",
      "<visits.visit.Visit object at 0x7ff260c8af70>\n",
      "<visits.visit.Visit object at 0x7ff260c8adc0>\n",
      "<visits.visit.Visit object at 0x7ff260c8ae80>\n",
      "<visits.visit.Visit object at 0x7ff260c8ac40>\n",
      "<visits.visit.Visit object at 0x7ff260c8afd0>\n",
      "<visits.visit.Visit object at 0x7ff260c90f70>\n",
      "<visits.visit.Visit object at 0x7ff260c90d60>\n",
      "<visits.visit.Visit object at 0x7ff260c908b0>\n",
      "<visits.visit.Visit object at 0x7ff260c90880>\n",
      "<visits.visit.Visit object at 0x7ff260c909d0>\n",
      "<visits.visit.Visit object at 0x7ff260c90d90>\n",
      "<visits.visit.Visit object at 0x7ff260c96490>\n",
      "<visits.visit.Visit object at 0x7ff260c96b50>\n",
      "<visits.visit.Visit object at 0x7ff260c96d90>\n",
      "<visits.visit.Visit object at 0x7ff263a3d940>\n",
      "<visits.visit.Visit object at 0x7ff263a3dfa0>\n",
      "<visits.visit.Visit object at 0x7ff263a3dd60>\n",
      "<visits.visit.Visit object at 0x7ff260c96d30>\n",
      "<visits.visit.Visit object at 0x7ff263a3d610>\n",
      "<visits.visit.Visit object at 0x7ff263a3de20>\n",
      "<visits.visit.Visit object at 0x7ff263a45c10>\n",
      "<visits.visit.Visit object at 0x7ff263a45fd0>\n",
      "<visits.visit.Visit object at 0x7ff263a45640>\n",
      "<visits.visit.Visit object at 0x7ff263a45e20>\n",
      "<visits.visit.Visit object at 0x7ff263a459d0>\n",
      "<visits.visit.Visit object at 0x7ff263a45880>\n",
      "<visits.visit.Visit object at 0x7ff263a4adc0>\n",
      "<visits.visit.Visit object at 0x7ff263a4a850>\n",
      "<visits.visit.Visit object at 0x7ff263a4a760>\n",
      "<visits.visit.Visit object at 0x7ff263a4ac40>\n",
      "<visits.visit.Visit object at 0x7ff263a4ad60>\n",
      "<visits.visit.Visit object at 0x7ff263a4afd0>\n",
      "<visits.visit.Visit object at 0x7ff263a4a940>\n",
      "<visits.visit.Visit object at 0x7ff263a50520>\n",
      "<visits.visit.Visit object at 0x7ff263a500d0>\n",
      "<visits.visit.Visit object at 0x7ff263a509d0>\n",
      "<visits.visit.Visit object at 0x7ff263a50bb0>\n",
      "<visits.visit.Visit object at 0x7ff263a50880>\n",
      "<visits.visit.Visit object at 0x7ff263a59d90>\n",
      "<visits.visit.Visit object at 0x7ff263a50d30>\n",
      "<visits.visit.Visit object at 0x7ff263a59fd0>\n",
      "<visits.visit.Visit object at 0x7ff263a50fd0>\n",
      "<visits.visit.Visit object at 0x7ff263a59f10>\n",
      "<visits.visit.Visit object at 0x7ff263a59ac0>\n",
      "<visits.visit.Visit object at 0x7ff263a59c70>\n",
      "<visits.visit.Visit object at 0x7ff263a59730>\n",
      "<visits.visit.Visit object at 0x7ff263a5feb0>\n",
      "<visits.visit.Visit object at 0x7ff263a5fc70>\n",
      "<visits.visit.Visit object at 0x7ff263a5f3a0>\n",
      "<visits.visit.Visit object at 0x7ff263a5f9a0>\n",
      "<visits.visit.Visit object at 0x7ff260c75700>\n",
      "<visits.visit.Visit object at 0x7ff263a5ffd0>\n",
      "<visits.visit.Visit object at 0x7ff263a67ac0>\n",
      "<visits.visit.Visit object at 0x7ff263a67ca0>\n",
      "<visits.visit.Visit object at 0x7ff263a67520>\n",
      "<visits.visit.Visit object at 0x7ff263a67a30>\n",
      "<visits.visit.Visit object at 0x7ff263a673d0>\n",
      "<visits.visit.Visit object at 0x7ff263a67fd0>\n",
      "<visits.visit.Visit object at 0x7ff263a67c40>\n",
      "<visits.visit.Visit object at 0x7ff263a6ef10>\n",
      "<visits.visit.Visit object at 0x7ff263a6e730>\n",
      "<visits.visit.Visit object at 0x7ff263a6e8e0>\n",
      "<visits.visit.Visit object at 0x7ff263a6e9a0>\n",
      "<visits.visit.Visit object at 0x7ff263a6edc0>\n",
      "<visits.visit.Visit object at 0x7ff263a75b50>\n",
      "<visits.visit.Visit object at 0x7ff263a6e670>\n",
      "<visits.visit.Visit object at 0x7ff263a75cd0>\n",
      "<visits.visit.Visit object at 0x7ff263a758e0>\n",
      "<visits.visit.Visit object at 0x7ff263a75d30>\n",
      "<visits.visit.Visit object at 0x7ff263a6edf0>\n",
      "<visits.visit.Visit object at 0x7ff263a75f70>\n",
      "<visits.visit.Visit object at 0x7ff263a75fa0>\n",
      "<visits.visit.Visit object at 0x7ff263a7be50>\n",
      "<visits.visit.Visit object at 0x7ff263a7bdf0>\n",
      "<visits.visit.Visit object at 0x7ff263a7bbb0>\n",
      "<visits.visit.Visit object at 0x7ff263a7b430>\n",
      "<visits.visit.Visit object at 0x7ff263a82340>\n",
      "<visits.visit.Visit object at 0x7ff263a82cd0>\n",
      "<visits.visit.Visit object at 0x7ff263a82e20>\n",
      "<visits.visit.Visit object at 0x7ff263a82580>\n",
      "<visits.visit.Visit object at 0x7ff263a82df0>\n",
      "<visits.visit.Visit object at 0x7ff263a82910>\n",
      "<visits.visit.Visit object at 0x7ff263a82e50>\n",
      "<visits.visit.Visit object at 0x7ff263a82ca0>\n",
      "<visits.visit.Visit object at 0x7ff263a8a5b0>\n",
      "<visits.visit.Visit object at 0x7ff263a8aa60>\n",
      "<visits.visit.Visit object at 0x7ff263a8af40>\n",
      "<visits.visit.Visit object at 0x7ff263a8abb0>\n",
      "<visits.visit.Visit object at 0x7ff263a8adf0>\n",
      "<visits.visit.Visit object at 0x7ff263a5fb80>\n",
      "<visits.visit.Visit object at 0x7ff263a8fa90>\n",
      "<visits.visit.Visit object at 0x7ff263a99e20>\n",
      "<visits.visit.Visit object at 0x7ff263a99610>\n",
      "<visits.visit.Visit object at 0x7ff263a8ad90>\n",
      "<visits.visit.Visit object at 0x7ff263a99910>\n",
      "<visits.visit.Visit object at 0x7ff263a99cd0>\n",
      "<visits.visit.Visit object at 0x7ff263a993d0>\n",
      "<visits.visit.Visit object at 0x7ff263a99e80>\n",
      "<visits.visit.Visit object at 0x7ff263a99af0>\n",
      "<visits.visit.Visit object at 0x7ff263a99d00>\n",
      "<visits.visit.Visit object at 0x7ff263a9efd0>\n",
      "<visits.visit.Visit object at 0x7ff263a9e100>\n",
      "<visits.visit.Visit object at 0x7ff263a9e9d0>\n",
      "<visits.visit.Visit object at 0x7ff263a9e4c0>\n",
      "<visits.visit.Visit object at 0x7ff263a9ee80>\n",
      "<visits.visit.Visit object at 0x7ff263a9ec40>\n",
      "<visits.visit.Visit object at 0x7ff263aa4d90>\n",
      "<visits.visit.Visit object at 0x7ff263aa4a90>\n",
      "<visits.visit.Visit object at 0x7ff263aa4970>\n",
      "<visits.visit.Visit object at 0x7ff263aa4fd0>\n",
      "<visits.visit.Visit object at 0x7ff263aa4100>\n",
      "<visits.visit.Visit object at 0x7ff263aaacd0>\n",
      "<visits.visit.Visit object at 0x7ff263aa4e20>\n",
      "<visits.visit.Visit object at 0x7ff263aaa2e0>\n",
      "<visits.visit.Visit object at 0x7ff263aa4d30>\n",
      "<visits.visit.Visit object at 0x7ff263aaa880>\n",
      "<visits.visit.Visit object at 0x7ff263aaac40>\n",
      "<visits.visit.Visit object at 0x7ff263ab2d60>\n",
      "<visits.visit.Visit object at 0x7ff263ab25e0>\n",
      "<visits.visit.Visit object at 0x7ff263ab9b20>\n",
      "<visits.visit.Visit object at 0x7ff263ab2fa0>\n",
      "<visits.visit.Visit object at 0x7ff263ab9d00>\n",
      "<visits.visit.Visit object at 0x7ff263ab9e50>\n",
      "<visits.visit.Visit object at 0x7ff263ab9d30>\n",
      "<visits.visit.Visit object at 0x7ff263ab9cd0>\n",
      "<visits.visit.Visit object at 0x7ff263ab9ac0>\n",
      "<visits.visit.Visit object at 0x7ff263ac0b20>\n",
      "<visits.visit.Visit object at 0x7ff263ac08e0>\n",
      "<visits.visit.Visit object at 0x7ff263ac0e50>\n",
      "<visits.visit.Visit object at 0x7ff263ac08b0>\n",
      "<visits.visit.Visit object at 0x7ff263ac09d0>\n",
      "<visits.visit.Visit object at 0x7ff263ac7b20>\n",
      "<visits.visit.Visit object at 0x7ff263ac7fa0>\n",
      "<visits.visit.Visit object at 0x7ff263ac7f40>\n",
      "<visits.visit.Visit object at 0x7ff263ac78b0>\n",
      "<visits.visit.Visit object at 0x7ff263ac7f70>\n",
      "<visits.visit.Visit object at 0x7ff263acdd00>\n",
      "<visits.visit.Visit object at 0x7ff263ac7d60>\n",
      "<visits.visit.Visit object at 0x7ff263ac7640>\n",
      "<visits.visit.Visit object at 0x7ff263acda90>\n",
      "<visits.visit.Visit object at 0x7ff263acdfd0>\n",
      "<visits.visit.Visit object at 0x7ff263acdd60>\n",
      "<visits.visit.Visit object at 0x7ff263acd7c0>\n",
      "<visits.visit.Visit object at 0x7ff263acdee0>\n",
      "<visits.visit.Visit object at 0x7ff263ad4fd0>\n",
      "<visits.visit.Visit object at 0x7ff263ad4e50>\n",
      "<visits.visit.Visit object at 0x7ff263ad4eb0>\n",
      "<visits.visit.Visit object at 0x7ff263ad4880>\n",
      "<visits.visit.Visit object at 0x7ff263adbfd0>\n",
      "<visits.visit.Visit object at 0x7ff263adb250>\n",
      "<visits.visit.Visit object at 0x7ff263adba30>\n",
      "<visits.visit.Visit object at 0x7ff263adb520>\n",
      "<visits.visit.Visit object at 0x7ff263adbd90>\n",
      "<visits.visit.Visit object at 0x7ff263adbeb0>\n",
      "<visits.visit.Visit object at 0x7ff263adbbe0>\n",
      "<visits.visit.Visit object at 0x7ff263ae0fa0>\n",
      "<visits.visit.Visit object at 0x7ff263ae0a00>\n",
      "<visits.visit.Visit object at 0x7ff263ae8ee0>\n",
      "<visits.visit.Visit object at 0x7ff263ae8160>\n",
      "<visits.visit.Visit object at 0x7ff263ae8d00>\n",
      "<visits.visit.Visit object at 0x7ff263ae8430>\n",
      "<visits.visit.Visit object at 0x7ff263ae8c10>\n",
      "<visits.visit.Visit object at 0x7ff263aefaf0>\n",
      "<visits.visit.Visit object at 0x7ff263aefeb0>\n",
      "<visits.visit.Visit object at 0x7ff263aefd60>\n",
      "<visits.visit.Visit object at 0x7ff263aefa90>\n",
      "<visits.visit.Visit object at 0x7ff263aefd00>\n",
      "<visits.visit.Visit object at 0x7ff263aef760>\n",
      "<visits.visit.Visit object at 0x7ff263aeffd0>\n",
      "<visits.visit.Visit object at 0x7ff263af69d0>\n",
      "<visits.visit.Visit object at 0x7ff263aef4c0>\n",
      "<visits.visit.Visit object at 0x7ff263af67c0>\n",
      "<visits.visit.Visit object at 0x7ff263c66eb0>\n",
      "<visits.visit.Visit object at 0x7ff263af6c70>\n",
      "<visits.visit.Visit object at 0x7ff263c66f10>\n",
      "<visits.visit.Visit object at 0x7ff263c66730>\n",
      "<visits.visit.Visit object at 0x7ff263c66fa0>\n",
      "<visits.visit.Visit object at 0x7ff263c664c0>\n",
      "<visits.visit.Visit object at 0x7ff263c66fd0>\n",
      "<visits.visit.Visit object at 0x7ff263c6e4f0>\n",
      "<visits.visit.Visit object at 0x7ff263c6ea90>\n",
      "<visits.visit.Visit object at 0x7ff263c6e3d0>\n",
      "<visits.visit.Visit object at 0x7ff263c6ec10>\n",
      "<visits.visit.Visit object at 0x7ff263c74a30>\n",
      "<visits.visit.Visit object at 0x7ff263c745e0>\n",
      "<visits.visit.Visit object at 0x7ff263c6ec70>\n",
      "<visits.visit.Visit object at 0x7ff263c74f70>\n",
      "<visits.visit.Visit object at 0x7ff263c7bb50>\n",
      "<visits.visit.Visit object at 0x7ff263c7bf70>\n",
      "<visits.visit.Visit object at 0x7ff263c7beb0>\n",
      "<visits.visit.Visit object at 0x7ff263c7bd00>\n",
      "<visits.visit.Visit object at 0x7ff263c7bd60>\n",
      "<visits.visit.Visit object at 0x7ff263c7bb20>\n",
      "<visits.visit.Visit object at 0x7ff263c7b970>\n",
      "<visits.visit.Visit object at 0x7ff263c7b8e0>\n",
      "<visits.visit.Visit object at 0x7ff263c7bc10>\n",
      "<visits.visit.Visit object at 0x7ff263c82ca0>\n",
      "<visits.visit.Visit object at 0x7ff263c82f70>\n",
      "<visits.visit.Visit object at 0x7ff263c822b0>\n",
      "<visits.visit.Visit object at 0x7ff263c82640>\n",
      "<visits.visit.Visit object at 0x7ff263c82e80>\n",
      "<visits.visit.Visit object at 0x7ff263c82d90>\n",
      "<visits.visit.Visit object at 0x7ff263c82a00>\n",
      "<visits.visit.Visit object at 0x7ff263c89dc0>\n",
      "<visits.visit.Visit object at 0x7ff263c89e80>\n",
      "<visits.visit.Visit object at 0x7ff263c898e0>\n",
      "<visits.visit.Visit object at 0x7ff263c89c10>\n",
      "<visits.visit.Visit object at 0x7ff263c89b50>\n",
      "<visits.visit.Visit object at 0x7ff263c8f550>\n",
      "<visits.visit.Visit object at 0x7ff263c8fd30>\n",
      "<visits.visit.Visit object at 0x7ff263c8ff10>\n",
      "<visits.visit.Visit object at 0x7ff263c96430>\n",
      "<visits.visit.Visit object at 0x7ff263c968e0>\n",
      "<visits.visit.Visit object at 0x7ff263c96fd0>\n",
      "<visits.visit.Visit object at 0x7ff263c8ff40>\n",
      "<visits.visit.Visit object at 0x7ff263c96190>\n",
      "<visits.visit.Visit object at 0x7ff263c9fdc0>\n",
      "<visits.visit.Visit object at 0x7ff263c96b80>\n",
      "<visits.visit.Visit object at 0x7ff263c9feb0>\n",
      "<visits.visit.Visit object at 0x7ff263c9f850>\n",
      "<visits.visit.Visit object at 0x7ff263ca0f10>\n",
      "<visits.visit.Visit object at 0x7ff263ca0dc0>\n",
      "<visits.visit.Visit object at 0x7ff263ca0670>\n",
      "<visits.visit.Visit object at 0x7ff263ca0ca0>\n",
      "<visits.visit.Visit object at 0x7ff263ca07c0>\n",
      "<visits.visit.Visit object at 0x7ff263ca0460>\n",
      "<visits.visit.Visit object at 0x7ff263ca0f40>\n",
      "<visits.visit.Visit object at 0x7ff263caba30>\n",
      "<visits.visit.Visit object at 0x7ff263ca0ee0>\n",
      "<visits.visit.Visit object at 0x7ff263cab2e0>\n",
      "<visits.visit.Visit object at 0x7ff263cabee0>\n",
      "<visits.visit.Visit object at 0x7ff263cabc40>\n",
      "<visits.visit.Visit object at 0x7ff263cab520>\n",
      "<visits.visit.Visit object at 0x7ff263cab3d0>\n",
      "<visits.visit.Visit object at 0x7ff263cb1e80>\n",
      "<visits.visit.Visit object at 0x7ff263a8f940>\n",
      "<visits.visit.Visit object at 0x7ff263cb19d0>\n",
      "<visits.visit.Visit object at 0x7ff263cb1910>\n",
      "<visits.visit.Visit object at 0x7ff263cb87f0>\n",
      "<visits.visit.Visit object at 0x7ff263cb1430>\n",
      "<visits.visit.Visit object at 0x7ff263cb8f10>\n",
      "<visits.visit.Visit object at 0x7ff263cb8df0>\n",
      "<visits.visit.Visit object at 0x7ff263cb8fa0>\n",
      "<visits.visit.Visit object at 0x7ff263cbcdc0>\n",
      "<visits.visit.Visit object at 0x7ff263cbce20>\n",
      "<visits.visit.Visit object at 0x7ff263cbcc70>\n",
      "<visits.visit.Visit object at 0x7ff263cbc1c0>\n",
      "<visits.visit.Visit object at 0x7ff263cbc910>\n",
      "<visits.visit.Visit object at 0x7ff263cbceb0>\n",
      "<visits.visit.Visit object at 0x7ff263cbca30>\n",
      "<visits.visit.Visit object at 0x7ff263cbcf10>\n",
      "<visits.visit.Visit object at 0x7ff263cc7f40>\n",
      "<visits.visit.Visit object at 0x7ff263cc7ca0>\n",
      "<visits.visit.Visit object at 0x7ff263cc7d60>\n",
      "<visits.visit.Visit object at 0x7ff263cc7b50>\n",
      "<visits.visit.Visit object at 0x7ff263cc7ee0>\n",
      "<visits.visit.Visit object at 0x7ff263ccc940>\n",
      "<visits.visit.Visit object at 0x7ff263cccc40>\n",
      "<visits.visit.Visit object at 0x7ff263cccf40>\n",
      "<visits.visit.Visit object at 0x7ff263cc7910>\n",
      "<visits.visit.Visit object at 0x7ff263ccca30>\n",
      "<visits.visit.Visit object at 0x7ff263ccc910>\n",
      "<visits.visit.Visit object at 0x7ff263cccee0>\n",
      "<visits.visit.Visit object at 0x7ff263cd1790>\n",
      "<visits.visit.Visit object at 0x7ff263cd1970>\n",
      "<visits.visit.Visit object at 0x7ff263cd1e20>\n",
      "<visits.visit.Visit object at 0x7ff263cd17f0>\n",
      "<visits.visit.Visit object at 0x7ff263cd1f40>\n",
      "<visits.visit.Visit object at 0x7ff263cdb460>\n",
      "<visits.visit.Visit object at 0x7ff263cdba90>\n",
      "<visits.visit.Visit object at 0x7ff263cd1670>\n",
      "<visits.visit.Visit object at 0x7ff263cdbb20>\n",
      "<visits.visit.Visit object at 0x7ff263cdbf70>\n",
      "<visits.visit.Visit object at 0x7ff263cdb580>\n",
      "<visits.visit.Visit object at 0x7ff263ce1700>\n",
      "<visits.visit.Visit object at 0x7ff263ce1910>\n",
      "<visits.visit.Visit object at 0x7ff263ce1d00>\n",
      "<visits.visit.Visit object at 0x7ff263ce1940>\n",
      "<visits.visit.Visit object at 0x7ff263ce1dc0>\n",
      "<visits.visit.Visit object at 0x7ff263dec970>\n",
      "<visits.visit.Visit object at 0x7ff263ce1b50>\n",
      "<visits.visit.Visit object at 0x7ff263ce1f70>\n",
      "<visits.visit.Visit object at 0x7ff263decbe0>\n",
      "<visits.visit.Visit object at 0x7ff263decc70>\n",
      "<visits.visit.Visit object at 0x7ff263decf70>\n",
      "<visits.visit.Visit object at 0x7ff263dec820>\n",
      "<visits.visit.Visit object at 0x7ff263df3f70>\n",
      "<visits.visit.Visit object at 0x7ff263dece80>\n",
      "<visits.visit.Visit object at 0x7ff263df3dc0>\n",
      "<visits.visit.Visit object at 0x7ff263df3310>\n",
      "<visits.visit.Visit object at 0x7ff263df3bb0>\n",
      "<visits.visit.Visit object at 0x7ff263df3f40>\n",
      "<visits.visit.Visit object at 0x7ff263df3b50>\n",
      "<visits.visit.Visit object at 0x7ff263df3fa0>\n",
      "<visits.visit.Visit object at 0x7ff263dfae80>\n",
      "<visits.visit.Visit object at 0x7ff263dfaa30>\n",
      "<visits.visit.Visit object at 0x7ff263dfaf40>\n",
      "<visits.visit.Visit object at 0x7ff263dfa700>\n",
      "<visits.visit.Visit object at 0x7ff263dfa730>\n",
      "<visits.visit.Visit object at 0x7ff263dfacd0>\n",
      "<visits.visit.Visit object at 0x7ff263dfffa0>\n",
      "<visits.visit.Visit object at 0x7ff263dffd90>\n",
      "<visits.visit.Visit object at 0x7ff263dffd30>\n",
      "<visits.visit.Visit object at 0x7ff263dfa9a0>\n",
      "<visits.visit.Visit object at 0x7ff263dff5e0>\n",
      "<visits.visit.Visit object at 0x7ff263e08d60>\n",
      "<visits.visit.Visit object at 0x7ff263dffaf0>\n",
      "<visits.visit.Visit object at 0x7ff263dffe80>\n",
      "<visits.visit.Visit object at 0x7ff263e08f70>\n",
      "<visits.visit.Visit object at 0x7ff263e089d0>\n",
      "<visits.visit.Visit object at 0x7ff263dffbb0>\n",
      "<visits.visit.Visit object at 0x7ff263e08760>\n",
      "<visits.visit.Visit object at 0x7ff263e08a90>\n",
      "<visits.visit.Visit object at 0x7ff263e0eac0>\n",
      "<visits.visit.Visit object at 0x7ff263e0ee50>\n",
      "<visits.visit.Visit object at 0x7ff263e0e5e0>\n",
      "<visits.visit.Visit object at 0x7ff263e0efd0>\n",
      "<visits.visit.Visit object at 0x7ff263e0e8e0>\n",
      "<visits.visit.Visit object at 0x7ff263e0ebb0>\n",
      "<visits.visit.Visit object at 0x7ff263e0e880>\n",
      "<visits.visit.Visit object at 0x7ff263e16c70>\n",
      "<visits.visit.Visit object at 0x7ff263e16d00>\n",
      "<visits.visit.Visit object at 0x7ff263e16e80>\n",
      "<visits.visit.Visit object at 0x7ff263e16a90>\n",
      "<visits.visit.Visit object at 0x7ff263e16ee0>\n",
      "<visits.visit.Visit object at 0x7ff263e1cbe0>\n",
      "<visits.visit.Visit object at 0x7ff263e164f0>\n",
      "<visits.visit.Visit object at 0x7ff263e1ce50>\n",
      "<visits.visit.Visit object at 0x7ff263e1cc40>\n",
      "<visits.visit.Visit object at 0x7ff263e1cd90>\n",
      "<visits.visit.Visit object at 0x7ff263e1cfd0>\n",
      "<visits.visit.Visit object at 0x7ff263e1c160>\n",
      "<visits.visit.Visit object at 0x7ff263e23ac0>\n",
      "<visits.visit.Visit object at 0x7ff263e23550>\n",
      "<visits.visit.Visit object at 0x7ff263e23040>\n",
      "<visits.visit.Visit object at 0x7ff263e23790>\n",
      "<visits.visit.Visit object at 0x7ff263e2bd90>\n",
      "<visits.visit.Visit object at 0x7ff263e2bf40>\n",
      "<visits.visit.Visit object at 0x7ff263e2b400>\n",
      "<visits.visit.Visit object at 0x7ff263e30c70>\n",
      "<visits.visit.Visit object at 0x7ff263e30fd0>\n",
      "<visits.visit.Visit object at 0x7ff263e304f0>\n",
      "<visits.visit.Visit object at 0x7ff263e30e50>\n",
      "<visits.visit.Visit object at 0x7ff263e30e80>\n",
      "<visits.visit.Visit object at 0x7ff263e30c40>\n",
      "<visits.visit.Visit object at 0x7ff263e30a00>\n",
      "<visits.visit.Visit object at 0x7ff263e30850>\n",
      "<visits.visit.Visit object at 0x7ff263e38eb0>\n",
      "<visits.visit.Visit object at 0x7ff263e388e0>\n",
      "<visits.visit.Visit object at 0x7ff263e38d30>\n",
      "<visits.visit.Visit object at 0x7ff263e3ef10>\n",
      "<visits.visit.Visit object at 0x7ff263e38fa0>\n",
      "<visits.visit.Visit object at 0x7ff263e3e8e0>\n",
      "<visits.visit.Visit object at 0x7ff263e3ef40>\n",
      "<visits.visit.Visit object at 0x7ff263e3eb80>\n",
      "<visits.visit.Visit object at 0x7ff263e3e6a0>\n",
      "<visits.visit.Visit object at 0x7ff263e3e760>\n",
      "<visits.visit.Visit object at 0x7ff263e3edc0>\n",
      "<visits.visit.Visit object at 0x7ff263e46790>\n",
      "<visits.visit.Visit object at 0x7ff263e46dc0>\n",
      "<visits.visit.Visit object at 0x7ff263e46e20>\n",
      "<visits.visit.Visit object at 0x7ff263e3efd0>\n",
      "<visits.visit.Visit object at 0x7ff263e4adf0>\n",
      "<visits.visit.Visit object at 0x7ff263e3e4f0>\n",
      "<visits.visit.Visit object at 0x7ff263e4a400>\n",
      "<visits.visit.Visit object at 0x7ff263e4ac40>\n",
      "<visits.visit.Visit object at 0x7ff263e4ae20>\n",
      "<visits.visit.Visit object at 0x7ff263e4aca0>\n",
      "<visits.visit.Visit object at 0x7ff263e53c10>\n",
      "<visits.visit.Visit object at 0x7ff263e53880>\n",
      "<visits.visit.Visit object at 0x7ff263e53c70>\n",
      "<visits.visit.Visit object at 0x7ff263e53e80>\n",
      "<visits.visit.Visit object at 0x7ff263e58ee0>\n",
      "<visits.visit.Visit object at 0x7ff263e53580>\n",
      "<visits.visit.Visit object at 0x7ff263e58f70>\n",
      "<visits.visit.Visit object at 0x7ff263e58880>\n",
      "<visits.visit.Visit object at 0x7ff263e58cd0>\n",
      "<visits.visit.Visit object at 0x7ff263e58f40>\n",
      "<visits.visit.Visit object at 0x7ff263e58af0>\n",
      "<visits.visit.Visit object at 0x7ff263e58df0>\n",
      "<visits.visit.Visit object at 0x7ff263e587f0>\n",
      "<visits.visit.Visit object at 0x7ff263e60f40>\n",
      "<visits.visit.Visit object at 0x7ff263e60fa0>\n",
      "<visits.visit.Visit object at 0x7ff263e60a60>\n",
      "<visits.visit.Visit object at 0x7ff263e60b20>\n",
      "<visits.visit.Visit object at 0x7ff263e67c40>\n",
      "<visits.visit.Visit object at 0x7ff263e60f10>\n",
      "<visits.visit.Visit object at 0x7ff263e679d0>\n",
      "<visits.visit.Visit object at 0x7ff263cab790>\n",
      "<visits.visit.Visit object at 0x7ff263e677f0>\n",
      "<visits.visit.Visit object at 0x7ff263e67f40>\n",
      "<visits.visit.Visit object at 0x7ff263e67bb0>\n",
      "<visits.visit.Visit object at 0x7ff263e676a0>\n",
      "<visits.visit.Visit object at 0x7ff263e6fa90>\n",
      "<visits.visit.Visit object at 0x7ff263e6f8e0>\n",
      "<visits.visit.Visit object at 0x7ff263e6fac0>\n",
      "<visits.visit.Visit object at 0x7ff263e6fd30>\n",
      "<visits.visit.Visit object at 0x7ff263e6f550>\n",
      "<visits.visit.Visit object at 0x7ff263e6fcd0>\n",
      "<visits.visit.Visit object at 0x7ff263e6f5b0>\n",
      "<visits.visit.Visit object at 0x7ff263e75e20>\n",
      "<visits.visit.Visit object at 0x7ff263e75f70>\n",
      "<visits.visit.Visit object at 0x7ff263e75700>\n",
      "<visits.visit.Visit object at 0x7ff263e75970>\n",
      "<visits.visit.Visit object at 0x7ff263e7cbe0>\n",
      "<visits.visit.Visit object at 0x7ff263e7cf70>\n",
      "<visits.visit.Visit object at 0x7ff263e7c5b0>\n",
      "<visits.visit.Visit object at 0x7ff263e7ca90>\n",
      "<visits.visit.Visit object at 0x7ff263e7c8e0>\n",
      "<visits.visit.Visit object at 0x7ff263e7cdc0>\n",
      "<visits.visit.Visit object at 0x7ff263e7ce20>\n",
      "<visits.visit.Visit object at 0x7ff263e83f70>\n",
      "<visits.visit.Visit object at 0x7ff263e83550>\n",
      "<visits.visit.Visit object at 0x7ff263e83970>\n",
      "<visits.visit.Visit object at 0x7ff263e83fd0>\n",
      "<visits.visit.Visit object at 0x7ff263e83850>\n",
      "<visits.visit.Visit object at 0x7ff263e83880>\n",
      "<visits.visit.Visit object at 0x7ff263e83e50>\n",
      "<visits.visit.Visit object at 0x7ff263e89f40>\n",
      "<visits.visit.Visit object at 0x7ff263e89e80>\n",
      "<visits.visit.Visit object at 0x7ff263e916d0>\n",
      "<visits.visit.Visit object at 0x7ff263e91eb0>\n",
      "<visits.visit.Visit object at 0x7ff263e89c10>\n",
      "<visits.visit.Visit object at 0x7ff263e91d30>\n",
      "<visits.visit.Visit object at 0x7ff263e91e80>\n",
      "<visits.visit.Visit object at 0x7ff263e91af0>\n",
      "<visits.visit.Visit object at 0x7ff263e91430>\n",
      "<visits.visit.Visit object at 0x7ff263e91100>\n",
      "<visits.visit.Visit object at 0x7ff263e97880>\n",
      "<visits.visit.Visit object at 0x7ff263e91b80>\n",
      "<visits.visit.Visit object at 0x7ff263e97a90>\n",
      "<visits.visit.Visit object at 0x7ff263e97e20>\n",
      "<visits.visit.Visit object at 0x7ff263e97b80>\n",
      "<visits.visit.Visit object at 0x7ff263e97fa0>\n",
      "<visits.visit.Visit object at 0x7ff263e9fd60>\n",
      "<visits.visit.Visit object at 0x7ff263e97e80>\n",
      "<visits.visit.Visit object at 0x7ff263e97100>\n",
      "<visits.visit.Visit object at 0x7ff263e9f370>\n",
      "<visits.visit.Visit object at 0x7ff263e9ffd0>\n",
      "<visits.visit.Visit object at 0x7ff263e9fc40>\n",
      "<visits.visit.Visit object at 0x7ff263e9fa90>\n",
      "<visits.visit.Visit object at 0x7ff263e9f760>\n",
      "<visits.visit.Visit object at 0x7ff263ea5bb0>\n",
      "<visits.visit.Visit object at 0x7ff263ea5e20>\n",
      "<visits.visit.Visit object at 0x7ff263ea5640>\n",
      "<visits.visit.Visit object at 0x7ff263ea5d60>\n",
      "<visits.visit.Visit object at 0x7ff263ea53a0>\n",
      "<visits.visit.Visit object at 0x7ff263ea5fa0>\n",
      "<visits.visit.Visit object at 0x7ff264c5ab20>\n",
      "<visits.visit.Visit object at 0x7ff264c60880>\n",
      "<visits.visit.Visit object at 0x7ff264c5aa30>\n",
      "<visits.visit.Visit object at 0x7ff264c60c40>\n",
      "<visits.visit.Visit object at 0x7ff264c60d60>\n",
      "<visits.visit.Visit object at 0x7ff264c609d0>\n",
      "<visits.visit.Visit object at 0x7ff264c60f70>\n",
      "<visits.visit.Visit object at 0x7ff264c60670>\n",
      "<visits.visit.Visit object at 0x7ff264c60af0>\n",
      "<visits.visit.Visit object at 0x7ff264c60400>\n",
      "<visits.visit.Visit object at 0x7ff264c66ee0>\n",
      "<visits.visit.Visit object at 0x7ff264c660d0>\n",
      "<visits.visit.Visit object at 0x7ff264c66dc0>\n",
      "<visits.visit.Visit object at 0x7ff264c669d0>\n",
      "<visits.visit.Visit object at 0x7ff264c66c70>\n",
      "<visits.visit.Visit object at 0x7ff264c667c0>\n",
      "<visits.visit.Visit object at 0x7ff264c66a30>\n",
      "<visits.visit.Visit object at 0x7ff264c71d60>\n",
      "<visits.visit.Visit object at 0x7ff264c71520>\n",
      "<visits.visit.Visit object at 0x7ff264c71e50>\n",
      "<visits.visit.Visit object at 0x7ff264c77af0>\n",
      "<visits.visit.Visit object at 0x7ff264c71640>\n",
      "<visits.visit.Visit object at 0x7ff264c77fa0>\n",
      "<visits.visit.Visit object at 0x7ff264c77cd0>\n",
      "<visits.visit.Visit object at 0x7ff264c77640>\n",
      "<visits.visit.Visit object at 0x7ff264c77520>\n",
      "<visits.visit.Visit object at 0x7ff264c77ee0>\n",
      "<visits.visit.Visit object at 0x7ff264c77c70>\n",
      "<visits.visit.Visit object at 0x7ff264c7deb0>\n",
      "<visits.visit.Visit object at 0x7ff264c7d8b0>\n",
      "<visits.visit.Visit object at 0x7ff264c7db80>\n",
      "<visits.visit.Visit object at 0x7ff264c7da90>\n",
      "<visits.visit.Visit object at 0x7ff264c7df10>\n",
      "<visits.visit.Visit object at 0x7ff264c8acd0>\n",
      "<visits.visit.Visit object at 0x7ff264c8a910>\n",
      "<visits.visit.Visit object at 0x7ff264c83c40>\n",
      "<visits.visit.Visit object at 0x7ff264c8ae80>\n",
      "<visits.visit.Visit object at 0x7ff264c8aca0>\n",
      "<visits.visit.Visit object at 0x7ff264c8aeb0>\n",
      "<visits.visit.Visit object at 0x7ff264c8ab20>\n",
      "<visits.visit.Visit object at 0x7ff264c8ac70>\n",
      "<visits.visit.Visit object at 0x7ff264c90970>\n",
      "<visits.visit.Visit object at 0x7ff264c90790>\n",
      "<visits.visit.Visit object at 0x7ff264c90400>\n",
      "<visits.visit.Visit object at 0x7ff264c902b0>\n",
      "<visits.visit.Visit object at 0x7ff264c90dc0>\n",
      "<visits.visit.Visit object at 0x7ff264c90640>\n",
      "<visits.visit.Visit object at 0x7ff264c90af0>\n",
      "<visits.visit.Visit object at 0x7ff264c97640>\n",
      "<visits.visit.Visit object at 0x7ff264c90e80>\n",
      "<visits.visit.Visit object at 0x7ff264c97b50>\n",
      "<visits.visit.Visit object at 0x7ff264c97f10>\n",
      "<visits.visit.Visit object at 0x7ff264c977c0>\n",
      "<visits.visit.Visit object at 0x7ff264c973d0>\n",
      "<visits.visit.Visit object at 0x7ff264ca7d30>\n",
      "<visits.visit.Visit object at 0x7ff264ca7b80>\n",
      "<visits.visit.Visit object at 0x7ff264ca7c40>\n",
      "<visits.visit.Visit object at 0x7ff264ca77c0>\n",
      "<visits.visit.Visit object at 0x7ff264ca72e0>\n",
      "<visits.visit.Visit object at 0x7ff264ca7fa0>\n",
      "<visits.visit.Visit object at 0x7ff264ca7b50>\n",
      "<visits.visit.Visit object at 0x7ff264ca7a30>\n",
      "<visits.visit.Visit object at 0x7ff264ca7ee0>\n",
      "<visits.visit.Visit object at 0x7ff264cab9d0>\n",
      "<visits.visit.Visit object at 0x7ff264cb2d00>\n",
      "<visits.visit.Visit object at 0x7ff264cb2f40>\n",
      "<visits.visit.Visit object at 0x7ff264cb2d90>\n",
      "<visits.visit.Visit object at 0x7ff264cabf10>\n",
      "<visits.visit.Visit object at 0x7ff264cb2190>\n",
      "<visits.visit.Visit object at 0x7ff264cb9610>\n",
      "<visits.visit.Visit object at 0x7ff264cb9dc0>\n",
      "<visits.visit.Visit object at 0x7ff264cb9550>\n",
      "<visits.visit.Visit object at 0x7ff264cb9cd0>\n",
      "<visits.visit.Visit object at 0x7ff264cbf5e0>\n",
      "<visits.visit.Visit object at 0x7ff264cb9790>\n",
      "<visits.visit.Visit object at 0x7ff264cbfee0>\n",
      "<visits.visit.Visit object at 0x7ff264cbf8e0>\n",
      "<visits.visit.Visit object at 0x7ff264cc5ee0>\n",
      "<visits.visit.Visit object at 0x7ff264cc5610>\n",
      "<visits.visit.Visit object at 0x7ff264cc5eb0>\n",
      "<visits.visit.Visit object at 0x7ff264cc5c70>\n",
      "<visits.visit.Visit object at 0x7ff264cc5520>\n",
      "<visits.visit.Visit object at 0x7ff264cc5f10>\n",
      "<visits.visit.Visit object at 0x7ff264cc5c10>\n",
      "<visits.visit.Visit object at 0x7ff264cced90>\n",
      "<visits.visit.Visit object at 0x7ff264cc53d0>\n",
      "<visits.visit.Visit object at 0x7ff264cc5d00>\n",
      "<visits.visit.Visit object at 0x7ff264cce250>\n",
      "<visits.visit.Visit object at 0x7ff264ccefd0>\n",
      "<visits.visit.Visit object at 0x7ff264cceac0>\n",
      "<visits.visit.Visit object at 0x7ff264ccec70>\n",
      "<visits.visit.Visit object at 0x7ff264cce790>\n",
      "<visits.visit.Visit object at 0x7ff264cd5b50>\n",
      "<visits.visit.Visit object at 0x7ff264cd5be0>\n",
      "<visits.visit.Visit object at 0x7ff264cd5d60>\n",
      "<visits.visit.Visit object at 0x7ff264cdbc40>\n",
      "<visits.visit.Visit object at 0x7ff264cdbd30>\n",
      "<visits.visit.Visit object at 0x7ff264cdbf40>\n",
      "<visits.visit.Visit object at 0x7ff264cdba30>\n",
      "<visits.visit.Visit object at 0x7ff264cdbee0>\n",
      "<visits.visit.Visit object at 0x7ff264ce3850>\n",
      "<visits.visit.Visit object at 0x7ff264ce37c0>\n",
      "<visits.visit.Visit object at 0x7ff264cdbca0>\n",
      "<visits.visit.Visit object at 0x7ff264ce3eb0>\n",
      "<visits.visit.Visit object at 0x7ff264ce3d90>\n",
      "<visits.visit.Visit object at 0x7ff264ce3a30>\n",
      "<visits.visit.Visit object at 0x7ff264ce3af0>\n",
      "<visits.visit.Visit object at 0x7ff264ce8a30>\n",
      "<visits.visit.Visit object at 0x7ff264ce8610>\n",
      "<visits.visit.Visit object at 0x7ff264ce8c10>\n",
      "<visits.visit.Visit object at 0x7ff264ce8dc0>\n",
      "<visits.visit.Visit object at 0x7ff264cf0d90>\n",
      "<visits.visit.Visit object at 0x7ff264cf02b0>\n",
      "<visits.visit.Visit object at 0x7ff264cf0a60>\n",
      "<visits.visit.Visit object at 0x7ff264cf0fd0>\n",
      "<visits.visit.Visit object at 0x7ff264cf9a00>\n",
      "<visits.visit.Visit object at 0x7ff264cf9b20>\n",
      "<visits.visit.Visit object at 0x7ff264cf0c40>\n",
      "<visits.visit.Visit object at 0x7ff264cf97c0>\n",
      "<visits.visit.Visit object at 0x7ff264cff370>\n",
      "<visits.visit.Visit object at 0x7ff264cffa60>\n",
      "<visits.visit.Visit object at 0x7ff264cffa30>\n",
      "<visits.visit.Visit object at 0x7ff264d04c40>\n",
      "<visits.visit.Visit object at 0x7ff264d04ca0>\n",
      "<visits.visit.Visit object at 0x7ff264d04eb0>\n",
      "<visits.visit.Visit object at 0x7ff264d042b0>\n",
      "<visits.visit.Visit object at 0x7ff264d04d90>\n",
      "<visits.visit.Visit object at 0x7ff264d04040>\n",
      "<visits.visit.Visit object at 0x7ff264d048b0>\n",
      "<visits.visit.Visit object at 0x7ff264d042e0>\n",
      "<visits.visit.Visit object at 0x7ff264d0bf70>\n",
      "<visits.visit.Visit object at 0x7ff264d0be80>\n",
      "<visits.visit.Visit object at 0x7ff264d0b8b0>\n",
      "<visits.visit.Visit object at 0x7ff264d0b3d0>\n",
      "<visits.visit.Visit object at 0x7ff264d0bc40>\n",
      "<visits.visit.Visit object at 0x7ff264d0bd90>\n",
      "<visits.visit.Visit object at 0x7ff264d0bee0>\n",
      "<visits.visit.Visit object at 0x7ff264d11fd0>\n",
      "<visits.visit.Visit object at 0x7ff264d11b50>\n",
      "<visits.visit.Visit object at 0x7ff264d11400>\n",
      "<visits.visit.Visit object at 0x7ff264d18f10>\n",
      "<visits.visit.Visit object at 0x7ff264d11df0>\n",
      "<visits.visit.Visit object at 0x7ff264d18ee0>\n",
      "<visits.visit.Visit object at 0x7ff264d18a00>\n",
      "<visits.visit.Visit object at 0x7ff264d18040>\n",
      "<visits.visit.Visit object at 0x7ff264d1ec70>\n",
      "<visits.visit.Visit object at 0x7ff264d1efd0>\n",
      "<visits.visit.Visit object at 0x7ff264d1ea00>\n",
      "<visits.visit.Visit object at 0x7ff264d1e100>\n",
      "<visits.visit.Visit object at 0x7ff264d1ec40>\n",
      "<visits.visit.Visit object at 0x7ff264d1ee50>\n",
      "<visits.visit.Visit object at 0x7ff264d1e790>\n",
      "<visits.visit.Visit object at 0x7ff264d1eca0>\n",
      "<visits.visit.Visit object at 0x7ff264d277c0>\n",
      "<visits.visit.Visit object at 0x7ff264d27ca0>\n",
      "<visits.visit.Visit object at 0x7ff264d27d60>\n",
      "<visits.visit.Visit object at 0x7ff264d2b550>\n",
      "<visits.visit.Visit object at 0x7ff264d2b460>\n",
      "<visits.visit.Visit object at 0x7ff264d2bfd0>\n",
      "<visits.visit.Visit object at 0x7ff264d2bd00>\n",
      "<visits.visit.Visit object at 0x7ff264d2bb80>\n",
      "<visits.visit.Visit object at 0x7ff264d2b730>\n",
      "<visits.visit.Visit object at 0x7ff264d2bf40>\n",
      "<visits.visit.Visit object at 0x7ff264d2bdc0>\n",
      "<visits.visit.Visit object at 0x7ff264d33fd0>\n",
      "<visits.visit.Visit object at 0x7ff264d33df0>\n",
      "<visits.visit.Visit object at 0x7ff264d33af0>\n",
      "<visits.visit.Visit object at 0x7ff264d399a0>\n",
      "<visits.visit.Visit object at 0x7ff264d39eb0>\n",
      "<visits.visit.Visit object at 0x7ff264d39790>\n",
      "<visits.visit.Visit object at 0x7ff264d39b50>\n",
      "<visits.visit.Visit object at 0x7ff264d40df0>\n",
      "<visits.visit.Visit object at 0x7ff264d40d90>\n",
      "<visits.visit.Visit object at 0x7ff264d45550>\n",
      "<visits.visit.Visit object at 0x7ff264d40a60>\n",
      "<visits.visit.Visit object at 0x7ff264d45a00>\n",
      "<visits.visit.Visit object at 0x7ff264d454f0>\n",
      "<visits.visit.Visit object at 0x7ff264d45400>\n",
      "<visits.visit.Visit object at 0x7ff264d27790>\n",
      "<visits.visit.Visit object at 0x7ff264d45e20>\n",
      "<visits.visit.Visit object at 0x7ff264d45b20>\n",
      "<visits.visit.Visit object at 0x7ff264d4d550>\n",
      "<visits.visit.Visit object at 0x7ff264d4db50>\n",
      "<visits.visit.Visit object at 0x7ff264d56e80>\n",
      "<visits.visit.Visit object at 0x7ff264d4ddf0>\n",
      "<visits.visit.Visit object at 0x7ff264d56ee0>\n",
      "<visits.visit.Visit object at 0x7ff264d56af0>\n",
      "<visits.visit.Visit object at 0x7ff264d56910>\n",
      "<visits.visit.Visit object at 0x7ff264d563d0>\n",
      "<visits.visit.Visit object at 0x7ff266c87c70>\n",
      "<visits.visit.Visit object at 0x7ff264d56f70>\n",
      "<visits.visit.Visit object at 0x7ff266c87670>\n",
      "<visits.visit.Visit object at 0x7ff266c87d90>\n",
      "<visits.visit.Visit object at 0x7ff266c87520>\n",
      "<visits.visit.Visit object at 0x7ff266c8c970>\n",
      "<visits.visit.Visit object at 0x7ff266c8c8b0>\n",
      "<visits.visit.Visit object at 0x7ff266c8cbe0>\n",
      "<visits.visit.Visit object at 0x7ff266c8ce80>\n",
      "<visits.visit.Visit object at 0x7ff266c946a0>\n",
      "<visits.visit.Visit object at 0x7ff266c943d0>\n",
      "<visits.visit.Visit object at 0x7ff264d40670>\n",
      "<visits.visit.Visit object at 0x7ff266c94e80>\n",
      "<visits.visit.Visit object at 0x7ff266c94ee0>\n",
      "<visits.visit.Visit object at 0x7ff266c94b50>\n",
      "<visits.visit.Visit object at 0x7ff266c94ca0>\n",
      "<visits.visit.Visit object at 0x7ff266c94460>\n",
      "<visits.visit.Visit object at 0x7ff266c948b0>\n",
      "<visits.visit.Visit object at 0x7ff266c99fd0>\n",
      "<visits.visit.Visit object at 0x7ff266c99be0>\n",
      "<visits.visit.Visit object at 0x7ff266c99c40>\n",
      "<visits.visit.Visit object at 0x7ff264439d60>\n",
      "<visits.visit.Visit object at 0x7ff266c8cee0>\n",
      "<visits.visit.Visit object at 0x7ff266c99e50>\n",
      "<visits.visit.Visit object at 0x7ff266ca12b0>\n",
      "<visits.visit.Visit object at 0x7ff266ca1a30>\n",
      "<visits.visit.Visit object at 0x7ff266ca1d60>\n",
      "<visits.visit.Visit object at 0x7ff266ca9d60>\n",
      "<visits.visit.Visit object at 0x7ff266ca9f10>\n",
      "<visits.visit.Visit object at 0x7ff266ca98e0>\n",
      "<visits.visit.Visit object at 0x7ff266ca9730>\n",
      "<visits.visit.Visit object at 0x7ff266ca9dc0>\n",
      "<visits.visit.Visit object at 0x7ff266ca9f70>\n",
      "<visits.visit.Visit object at 0x7ff266ca9b50>\n",
      "<visits.visit.Visit object at 0x7ff266cb2ca0>\n",
      "<visits.visit.Visit object at 0x7ff266cb27f0>\n",
      "<visits.visit.Visit object at 0x7ff266cb29d0>\n",
      "<visits.visit.Visit object at 0x7ff266cb8670>\n",
      "<visits.visit.Visit object at 0x7ff266cb8b50>\n",
      "<visits.visit.Visit object at 0x7ff266cb8c70>\n",
      "<visits.visit.Visit object at 0x7ff266cb8910>\n",
      "<visits.visit.Visit object at 0x7ff266cb8730>\n",
      "<visits.visit.Visit object at 0x7ff266cb8ca0>\n",
      "<visits.visit.Visit object at 0x7ff266cbf520>\n",
      "<visits.visit.Visit object at 0x7ff266cb8b20>\n",
      "<visits.visit.Visit object at 0x7ff266cbfca0>\n",
      "<visits.visit.Visit object at 0x7ff266cbf9d0>\n",
      "<visits.visit.Visit object at 0x7ff266cbf400>\n",
      "<visits.visit.Visit object at 0x7ff266cbf8e0>\n",
      "<visits.visit.Visit object at 0x7ff266cbf7c0>\n",
      "<visits.visit.Visit object at 0x7ff266cc6df0>\n",
      "<visits.visit.Visit object at 0x7ff266cbf790>\n",
      "<visits.visit.Visit object at 0x7ff266cbf7f0>\n",
      "<visits.visit.Visit object at 0x7ff266cc6ca0>\n",
      "<visits.visit.Visit object at 0x7ff266cc6b80>\n",
      "<visits.visit.Visit object at 0x7ff266cc68b0>\n",
      "<visits.visit.Visit object at 0x7ff266ccbd00>\n",
      "<visits.visit.Visit object at 0x7ff266ccba60>\n",
      "<visits.visit.Visit object at 0x7ff266ccbdf0>\n",
      "<visits.visit.Visit object at 0x7ff266cd2ac0>\n",
      "<visits.visit.Visit object at 0x7ff266cd2430>\n",
      "<visits.visit.Visit object at 0x7ff266cd2f40>\n",
      "<visits.visit.Visit object at 0x7ff266cd21f0>\n",
      "<visits.visit.Visit object at 0x7ff266cd29d0>\n",
      "<visits.visit.Visit object at 0x7ff266cd2fa0>\n",
      "<visits.visit.Visit object at 0x7ff266cd2910>\n",
      "<visits.visit.Visit object at 0x7ff266cd2d90>\n",
      "<visits.visit.Visit object at 0x7ff266cdaf10>\n",
      "<visits.visit.Visit object at 0x7ff266cdae20>\n",
      "<visits.visit.Visit object at 0x7ff266cdafa0>\n",
      "<visits.visit.Visit object at 0x7ff266cdab50>\n",
      "<visits.visit.Visit object at 0x7ff266cda820>\n",
      "<visits.visit.Visit object at 0x7ff266cda430>\n",
      "<visits.visit.Visit object at 0x7ff266cdcc70>\n",
      "<visits.visit.Visit object at 0x7ff266cdc940>\n",
      "<visits.visit.Visit object at 0x7ff266cdc9d0>\n",
      "<visits.visit.Visit object at 0x7ff266cdcee0>\n",
      "<visits.visit.Visit object at 0x7ff266ce4a90>\n",
      "<visits.visit.Visit object at 0x7ff266ce4820>\n",
      "<visits.visit.Visit object at 0x7ff266ce4e20>\n",
      "<visits.visit.Visit object at 0x7ff264439f10>\n",
      "<visits.visit.Visit object at 0x7ff266ceed90>\n",
      "<visits.visit.Visit object at 0x7ff266ceef40>\n",
      "<visits.visit.Visit object at 0x7ff266cdcf40>\n",
      "<visits.visit.Visit object at 0x7ff266ce4f10>\n",
      "<visits.visit.Visit object at 0x7ff266ceea90>\n",
      "<visits.visit.Visit object at 0x7ff266ceefa0>\n",
      "<visits.visit.Visit object at 0x7ff266ceea60>\n",
      "<visits.visit.Visit object at 0x7ff266cee940>\n",
      "<visits.visit.Visit object at 0x7ff266ceed00>\n",
      "<visits.visit.Visit object at 0x7ff266cf3f40>\n",
      "<visits.visit.Visit object at 0x7ff266cf3dc0>\n",
      "<visits.visit.Visit object at 0x7ff266cf3e20>\n",
      "<visits.visit.Visit object at 0x7ff266cf3d30>\n",
      "<visits.visit.Visit object at 0x7ff266ceef70>\n",
      "<visits.visit.Visit object at 0x7ff266cf3bb0>\n",
      "<visits.visit.Visit object at 0x7ff266cfbf70>\n",
      "<visits.visit.Visit object at 0x7ff266ce4df0>\n",
      "<visits.visit.Visit object at 0x7ff266cf3430>\n",
      "<visits.visit.Visit object at 0x7ff266cfbd00>\n",
      "<visits.visit.Visit object at 0x7ff266cfb460>\n",
      "<visits.visit.Visit object at 0x7ff266d03df0>\n",
      "<visits.visit.Visit object at 0x7ff266d03850>\n",
      "<visits.visit.Visit object at 0x7ff266d035e0>\n",
      "<visits.visit.Visit object at 0x7ff266d09d00>\n",
      "<visits.visit.Visit object at 0x7ff266d035b0>\n",
      "<visits.visit.Visit object at 0x7ff266d09e20>\n",
      "<visits.visit.Visit object at 0x7ff266d09f70>\n",
      "<visits.visit.Visit object at 0x7ff266d09670>\n",
      "<visits.visit.Visit object at 0x7ff266d09f40>\n",
      "<visits.visit.Visit object at 0x7ff266d09bb0>\n",
      "<visits.visit.Visit object at 0x7ff266d09250>\n",
      "<visits.visit.Visit object at 0x7ff266d10fa0>\n",
      "<visits.visit.Visit object at 0x7ff266d10850>\n",
      "<visits.visit.Visit object at 0x7ff266d10370>\n",
      "<visits.visit.Visit object at 0x7ff266d15df0>\n",
      "<visits.visit.Visit object at 0x7ff266d15f70>\n",
      "<visits.visit.Visit object at 0x7ff266d15c10>\n",
      "<visits.visit.Visit object at 0x7ff266d15fa0>\n",
      "<visits.visit.Visit object at 0x7ff266d15fd0>\n",
      "<visits.visit.Visit object at 0x7ff266d1edf0>\n",
      "<visits.visit.Visit object at 0x7ff266d1ebe0>\n",
      "<visits.visit.Visit object at 0x7ff266d1ea30>\n",
      "<visits.visit.Visit object at 0x7ff266d1e820>\n",
      "<visits.visit.Visit object at 0x7ff266d1ee50>\n",
      "<visits.visit.Visit object at 0x7ff266d23bb0>\n",
      "<visits.visit.Visit object at 0x7ff266d23970>\n",
      "<visits.visit.Visit object at 0x7ff266d23a60>\n",
      "<visits.visit.Visit object at 0x7ff266d23e80>\n",
      "<visits.visit.Visit object at 0x7ff266d23c10>\n",
      "<visits.visit.Visit object at 0x7ff266d23580>\n",
      "<visits.visit.Visit object at 0x7ff266d2a910>\n",
      "<visits.visit.Visit object at 0x7ff266d2a700>\n",
      "<visits.visit.Visit object at 0x7ff266d2a7f0>\n",
      "<visits.visit.Visit object at 0x7ff266d2af70>\n",
      "<visits.visit.Visit object at 0x7ff266d2fd30>\n",
      "<visits.visit.Visit object at 0x7ff266d2fb50>\n",
      "<visits.visit.Visit object at 0x7ff266d2f6a0>\n",
      "<visits.visit.Visit object at 0x7ff266d2f850>\n",
      "<visits.visit.Visit object at 0x7ff266d2fac0>\n",
      "<visits.visit.Visit object at 0x7ff266d2f5e0>\n",
      "<visits.visit.Visit object at 0x7ff266d2fd60>\n",
      "<visits.visit.Visit object at 0x7ff266d37fa0>\n",
      "<visits.visit.Visit object at 0x7ff266d37e50>\n",
      "<visits.visit.Visit object at 0x7ff266d37970>\n",
      "<visits.visit.Visit object at 0x7ff266d37ac0>\n",
      "<visits.visit.Visit object at 0x7ff266d3dac0>\n",
      "<visits.visit.Visit object at 0x7ff266d3d700>\n",
      "<visits.visit.Visit object at 0x7ff266d3de20>\n",
      "<visits.visit.Visit object at 0x7ff266d44e20>\n",
      "<visits.visit.Visit object at 0x7ff266d3d580>\n",
      "<visits.visit.Visit object at 0x7ff266d44f70>\n",
      "<visits.visit.Visit object at 0x7ff266d44cd0>\n",
      "<visits.visit.Visit object at 0x7ff266d44910>\n",
      "<visits.visit.Visit object at 0x7ff266d44e80>\n",
      "<visits.visit.Visit object at 0x7ff266d44220>\n",
      "<visits.visit.Visit object at 0x7ff266d1ecd0>\n",
      "<visits.visit.Visit object at 0x7ff266d4cdc0>\n",
      "<visits.visit.Visit object at 0x7ff266d4cf70>\n",
      "<visits.visit.Visit object at 0x7ff266d51ac0>\n",
      "<visits.visit.Visit object at 0x7ff266d51880>\n",
      "<visits.visit.Visit object at 0x7ff266d51970>\n",
      "<visits.visit.Visit object at 0x7ff266d51850>\n",
      "<visits.visit.Visit object at 0x7ff266d58700>\n",
      "<visits.visit.Visit object at 0x7ff266d5e700>\n",
      "<visits.visit.Visit object at 0x7ff266d5eca0>\n",
      "<visits.visit.Visit object at 0x7ff266d44370>\n",
      "<visits.visit.Visit object at 0x7ff266d63910>\n",
      "<visits.visit.Visit object at 0x7ff266d5e2b0>\n",
      "<visits.visit.Visit object at 0x7ff266d63790>\n",
      "<visits.visit.Visit object at 0x7ff266d63df0>\n",
      "<visits.visit.Visit object at 0x7ff266d63a30>\n",
      "<visits.visit.Visit object at 0x7ff266d6efd0>\n",
      "<visits.visit.Visit object at 0x7ff266d6ebb0>\n",
      "<visits.visit.Visit object at 0x7ff266d6ef10>\n",
      "<visits.visit.Visit object at 0x7ff266d6e4c0>\n",
      "<visits.visit.Visit object at 0x7ff266d6eb80>\n",
      "<visits.visit.Visit object at 0x7ff266d6ed90>\n",
      "<visits.visit.Visit object at 0x7ff266d6ea30>\n",
      "<visits.visit.Visit object at 0x7ff266d71910>\n",
      "<visits.visit.Visit object at 0x7ff266d6eee0>\n",
      "<visits.visit.Visit object at 0x7ff266d71dc0>\n",
      "<visits.visit.Visit object at 0x7ff266d79e80>\n",
      "<visits.visit.Visit object at 0x7ff266d79df0>\n",
      "<visits.visit.Visit object at 0x7ff266d80940>\n",
      "<visits.visit.Visit object at 0x7ff266d71ca0>\n",
      "<visits.visit.Visit object at 0x7ff266d80af0>\n",
      "<visits.visit.Visit object at 0x7ff266d80cd0>\n",
      "<visits.visit.Visit object at 0x7ff266d80c70>\n",
      "<visits.visit.Visit object at 0x7ff266d80b50>\n",
      "<visits.visit.Visit object at 0x7ff266d80910>\n",
      "<visits.visit.Visit object at 0x7ff267086eb0>\n",
      "<visits.visit.Visit object at 0x7ff267086f10>\n",
      "<visits.visit.Visit object at 0x7ff266d5e6d0>\n",
      "<visits.visit.Visit object at 0x7ff26708dd60>\n",
      "<visits.visit.Visit object at 0x7ff26708d2e0>\n",
      "<visits.visit.Visit object at 0x7ff26708d520>\n",
      "<visits.visit.Visit object at 0x7ff267094c10>\n",
      "<visits.visit.Visit object at 0x7ff267094fd0>\n",
      "<visits.visit.Visit object at 0x7ff267094580>\n",
      "<visits.visit.Visit object at 0x7ff267094bb0>\n",
      "<visits.visit.Visit object at 0x7ff26709ae80>\n",
      "<visits.visit.Visit object at 0x7ff267086c70>\n",
      "<visits.visit.Visit object at 0x7ff26709aa90>\n",
      "<visits.visit.Visit object at 0x7ff26709aee0>\n",
      "<visits.visit.Visit object at 0x7ff26709af70>\n",
      "<visits.visit.Visit object at 0x7ff26709a520>\n",
      "<visits.visit.Visit object at 0x7ff2670a1610>\n",
      "<visits.visit.Visit object at 0x7ff2670a1c40>\n",
      "<visits.visit.Visit object at 0x7ff2670a1eb0>\n",
      "<visits.visit.Visit object at 0x7ff2670a1be0>\n",
      "<visits.visit.Visit object at 0x7ff2670a19d0>\n",
      "<visits.visit.Visit object at 0x7ff2670a17f0>\n",
      "<visits.visit.Visit object at 0x7ff2670a19a0>\n",
      "<visits.visit.Visit object at 0x7ff2670a6af0>\n",
      "<visits.visit.Visit object at 0x7ff2670a6be0>\n",
      "<visits.visit.Visit object at 0x7ff2670a69d0>\n",
      "<visits.visit.Visit object at 0x7ff2670aebe0>\n",
      "<visits.visit.Visit object at 0x7ff2670a69a0>\n",
      "<visits.visit.Visit object at 0x7ff2670ae640>\n",
      "<visits.visit.Visit object at 0x7ff2670aeee0>\n",
      "<visits.visit.Visit object at 0x7ff2670b48b0>\n",
      "<visits.visit.Visit object at 0x7ff2670b4fd0>\n",
      "<visits.visit.Visit object at 0x7ff2670b4fa0>\n",
      "<visits.visit.Visit object at 0x7ff2670b4df0>\n",
      "<visits.visit.Visit object at 0x7ff2670b49a0>\n",
      "<visits.visit.Visit object at 0x7ff2670b4be0>\n",
      "<visits.visit.Visit object at 0x7ff2670bb4f0>\n",
      "<visits.visit.Visit object at 0x7ff2670bbac0>\n",
      "<visits.visit.Visit object at 0x7ff2670bb880>\n",
      "<visits.visit.Visit object at 0x7ff2670bb940>\n",
      "<visits.visit.Visit object at 0x7ff2670bb9a0>\n",
      "<visits.visit.Visit object at 0x7ff2670bbd90>\n",
      "<visits.visit.Visit object at 0x7ff2670c2e20>\n",
      "<visits.visit.Visit object at 0x7ff2670c2d90>\n",
      "<visits.visit.Visit object at 0x7ff2670c2b50>\n",
      "<visits.visit.Visit object at 0x7ff2670c2850>\n",
      "<visits.visit.Visit object at 0x7ff26708d700>\n",
      "<visits.visit.Visit object at 0x7ff2670cabb0>\n",
      "<visits.visit.Visit object at 0x7ff2670ca5b0>\n",
      "<visits.visit.Visit object at 0x7ff2670cac10>\n",
      "<visits.visit.Visit object at 0x7ff2670cafa0>\n",
      "<visits.visit.Visit object at 0x7ff2670ca880>\n",
      "<visits.visit.Visit object at 0x7ff2670cad60>\n",
      "<visits.visit.Visit object at 0x7ff2670cfeb0>\n",
      "<visits.visit.Visit object at 0x7ff2670cf760>\n",
      "<visits.visit.Visit object at 0x7ff2670cf9d0>\n",
      "<visits.visit.Visit object at 0x7ff2670cfdc0>\n",
      "<visits.visit.Visit object at 0x7ff2670cffa0>\n",
      "<visits.visit.Visit object at 0x7ff2670cf280>\n",
      "<visits.visit.Visit object at 0x7ff2670d69d0>\n",
      "<visits.visit.Visit object at 0x7ff2670d6fa0>\n",
      "<visits.visit.Visit object at 0x7ff2670d6c10>\n",
      "<visits.visit.Visit object at 0x7ff2670d6e20>\n",
      "<visits.visit.Visit object at 0x7ff2670dbf40>\n",
      "<visits.visit.Visit object at 0x7ff2670dbe50>\n",
      "<visits.visit.Visit object at 0x7ff2670dbeb0>\n",
      "<visits.visit.Visit object at 0x7ff2670dbaf0>\n",
      "<visits.visit.Visit object at 0x7ff2670db5b0>\n",
      "<visits.visit.Visit object at 0x7ff2670e3b50>\n",
      "<visits.visit.Visit object at 0x7ff2670e3730>\n",
      "<visits.visit.Visit object at 0x7ff2670e3f10>\n",
      "<visits.visit.Visit object at 0x7ff2670e3a00>\n",
      "<visits.visit.Visit object at 0x7ff2670e37c0>\n",
      "<visits.visit.Visit object at 0x7ff2670e7c10>\n",
      "<visits.visit.Visit object at 0x7ff2670e7790>\n",
      "<visits.visit.Visit object at 0x7ff2670e7c70>\n",
      "<visits.visit.Visit object at 0x7ff2670e7a00>\n",
      "<visits.visit.Visit object at 0x7ff2670e7f10>\n",
      "<visits.visit.Visit object at 0x7ff2670e79d0>\n",
      "<visits.visit.Visit object at 0x7ff2670edd00>\n",
      "<visits.visit.Visit object at 0x7ff2670e7ee0>\n",
      "<visits.visit.Visit object at 0x7ff2670e7b20>\n",
      "<visits.visit.Visit object at 0x7ff2670ed790>\n",
      "<visits.visit.Visit object at 0x7ff2670ed9d0>\n",
      "<visits.visit.Visit object at 0x7ff2670edc40>\n",
      "<visits.visit.Visit object at 0x7ff2670edf70>\n",
      "<visits.visit.Visit object at 0x7ff2670f0970>\n",
      "<visits.visit.Visit object at 0x7ff2670edd60>\n",
      "<visits.visit.Visit object at 0x7ff2670f0be0>\n",
      "<visits.visit.Visit object at 0x7ff2670f0dc0>\n",
      "<visits.visit.Visit object at 0x7ff2670f03a0>\n",
      "<visits.visit.Visit object at 0x7ff2670f0b50>\n",
      "<visits.visit.Visit object at 0x7ff2670f06a0>\n",
      "<visits.visit.Visit object at 0x7ff2670f44f0>\n",
      "<visits.visit.Visit object at 0x7ff2670f4ee0>\n",
      "<visits.visit.Visit object at 0x7ff2670f4790>\n",
      "<visits.visit.Visit object at 0x7ff2670f48e0>\n",
      "<visits.visit.Visit object at 0x7ff2670f8160>\n",
      "<visits.visit.Visit object at 0x7ff2670f8ee0>\n",
      "<visits.visit.Visit object at 0x7ff2670f8dc0>\n",
      "<visits.visit.Visit object at 0x7ff2670f8fd0>\n",
      "<visits.visit.Visit object at 0x7ff2670ffa30>\n",
      "<visits.visit.Visit object at 0x7ff2670ffdc0>\n",
      "<visits.visit.Visit object at 0x7ff2670ff910>\n",
      "<visits.visit.Visit object at 0x7ff2670ff6a0>\n",
      "<visits.visit.Visit object at 0x7ff2670ffe80>\n",
      "<visits.visit.Visit object at 0x7ff267104f10>\n",
      "<visits.visit.Visit object at 0x7ff267104670>\n",
      "<visits.visit.Visit object at 0x7ff2671048b0>\n",
      "<visits.visit.Visit object at 0x7ff267109670>\n",
      "<visits.visit.Visit object at 0x7ff267109f10>\n",
      "<visits.visit.Visit object at 0x7ff267109b50>\n",
      "<visits.visit.Visit object at 0x7ff267109ee0>\n",
      "<visits.visit.Visit object at 0x7ff2670c2220>\n",
      "<visits.visit.Visit object at 0x7ff26710e550>\n",
      "<visits.visit.Visit object at 0x7ff26710ef10>\n",
      "<visits.visit.Visit object at 0x7ff26710eeb0>\n",
      "<visits.visit.Visit object at 0x7ff26710ea00>\n",
      "<visits.visit.Visit object at 0x7ff26710efd0>\n",
      "<visits.visit.Visit object at 0x7ff267113ee0>\n",
      "<visits.visit.Visit object at 0x7ff267113ca0>\n",
      "<visits.visit.Visit object at 0x7ff267113fd0>\n",
      "<visits.visit.Visit object at 0x7ff2671194c0>\n",
      "<visits.visit.Visit object at 0x7ff267119a00>\n",
      "<visits.visit.Visit object at 0x7ff267119f10>\n",
      "<visits.visit.Visit object at 0x7ff267119af0>\n",
      "<visits.visit.Visit object at 0x7ff267119d00>\n",
      "<visits.visit.Visit object at 0x7ff2671193d0>\n",
      "<visits.visit.Visit object at 0x7ff26711aa90>\n",
      "<visits.visit.Visit object at 0x7ff26711a820>\n",
      "<visits.visit.Visit object at 0x7ff26711aaf0>\n",
      "<visits.visit.Visit object at 0x7ff267121d60>\n",
      "<visits.visit.Visit object at 0x7ff267109dc0>\n",
      "<visits.visit.Visit object at 0x7ff267121eb0>\n",
      "<visits.visit.Visit object at 0x7ff267121400>\n",
      "<visits.visit.Visit object at 0x7ff267121e50>\n",
      "<visits.visit.Visit object at 0x7ff2671211c0>\n",
      "<visits.visit.Visit object at 0x7ff267121ac0>\n",
      "<visits.visit.Visit object at 0x7ff2671269d0>\n",
      "<visits.visit.Visit object at 0x7ff26711a4f0>\n",
      "<visits.visit.Visit object at 0x7ff267126be0>\n",
      "<visits.visit.Visit object at 0x7ff267126fd0>\n",
      "<visits.visit.Visit object at 0x7ff2671219a0>\n",
      "<visits.visit.Visit object at 0x7ff26712dd90>\n",
      "<visits.visit.Visit object at 0x7ff26712dbb0>\n",
      "<visits.visit.Visit object at 0x7ff26712d2b0>\n",
      "<visits.visit.Visit object at 0x7ff2671358b0>\n",
      "<visits.visit.Visit object at 0x7ff267135040>\n",
      "<visits.visit.Visit object at 0x7ff267135c10>\n",
      "<visits.visit.Visit object at 0x7ff26713bfa0>\n",
      "<visits.visit.Visit object at 0x7ff26713bc70>\n",
      "<visits.visit.Visit object at 0x7ff26713bfd0>\n",
      "<visits.visit.Visit object at 0x7ff26713bc40>\n",
      "<visits.visit.Visit object at 0x7ff26713be20>\n",
      "<visits.visit.Visit object at 0x7ff26713bd00>\n",
      "<visits.visit.Visit object at 0x7ff26713b1f0>\n",
      "<visits.visit.Visit object at 0x7ff2671434f0>\n",
      "<visits.visit.Visit object at 0x7ff267143f40>\n",
      "<visits.visit.Visit object at 0x7ff26713b3d0>\n",
      "<visits.visit.Visit object at 0x7ff26714aa60>\n",
      "<visits.visit.Visit object at 0x7ff26714ae20>\n",
      "<visits.visit.Visit object at 0x7ff26714afa0>\n",
      "<visits.visit.Visit object at 0x7ff26714ad90>\n",
      "<visits.visit.Visit object at 0x7ff26714afd0>\n",
      "<visits.visit.Visit object at 0x7ff26714a9a0>\n",
      "<visits.visit.Visit object at 0x7ff26714ad30>\n",
      "<visits.visit.Visit object at 0x7ff26714a610>\n",
      "<visits.visit.Visit object at 0x7ff26714fe80>\n",
      "<visits.visit.Visit object at 0x7ff267143c40>\n",
      "<visits.visit.Visit object at 0x7ff26714f880>\n",
      "<visits.visit.Visit object at 0x7ff26714fa60>\n",
      "<visits.visit.Visit object at 0x7ff26714f9a0>\n",
      "<visits.visit.Visit object at 0x7ff26714a640>\n",
      "<visits.visit.Visit object at 0x7ff267158130>\n",
      "<visits.visit.Visit object at 0x7ff267158c40>\n",
      "<visits.visit.Visit object at 0x7ff267158d60>\n",
      "<visits.visit.Visit object at 0x7ff267160280>\n",
      "<visits.visit.Visit object at 0x7ff267160970>\n",
      "<visits.visit.Visit object at 0x7ff2671608b0>\n",
      "<visits.visit.Visit object at 0x7ff2671609d0>\n",
      "<visits.visit.Visit object at 0x7ff267160700>\n",
      "<visits.visit.Visit object at 0x7ff267167c40>\n",
      "<visits.visit.Visit object at 0x7ff2671678b0>\n",
      "<visits.visit.Visit object at 0x7ff267167490>\n",
      "<visits.visit.Visit object at 0x7ff26716eeb0>\n",
      "<visits.visit.Visit object at 0x7ff26716e6a0>\n",
      "<visits.visit.Visit object at 0x7ff26716ee80>\n",
      "<visits.visit.Visit object at 0x7ff267174d60>\n",
      "<visits.visit.Visit object at 0x7ff267174a00>\n",
      "<visits.visit.Visit object at 0x7ff2671744c0>\n",
      "<visits.visit.Visit object at 0x7ff267174bb0>\n",
      "<visits.visit.Visit object at 0x7ff26717afa0>\n",
      "<visits.visit.Visit object at 0x7ff26717aa30>\n",
      "<visits.visit.Visit object at 0x7ff26717af70>\n",
      "<visits.visit.Visit object at 0x7ff26717adc0>\n",
      "<visits.visit.Visit object at 0x7ff26717abe0>\n",
      "<visits.visit.Visit object at 0x7ff267180a60>\n",
      "<visits.visit.Visit object at 0x7ff2671807f0>\n",
      "<visits.visit.Visit object at 0x7ff26714f9d0>\n",
      "<visits.visit.Visit object at 0x7ff2671809a0>\n",
      "<visits.visit.Visit object at 0x7ff267180eb0>\n",
      "<visits.visit.Visit object at 0x7ff26717a370>\n",
      "<visits.visit.Visit object at 0x7ff267180c10>\n",
      "<visits.visit.Visit object at 0x7ff267188dc0>\n",
      "<visits.visit.Visit object at 0x7ff267188fd0>\n",
      "<visits.visit.Visit object at 0x7ff267188af0>\n",
      "<visits.visit.Visit object at 0x7ff2671884f0>\n",
      "<visits.visit.Visit object at 0x7ff267180cd0>\n",
      "<visits.visit.Visit object at 0x7ff267190f40>\n",
      "<visits.visit.Visit object at 0x7ff267190940>\n",
      "<visits.visit.Visit object at 0x7ff267190d60>\n",
      "<visits.visit.Visit object at 0x7ff267190e50>\n",
      "<visits.visit.Visit object at 0x7ff267190340>\n",
      "<visits.visit.Visit object at 0x7ff267188f70>\n",
      "<visits.visit.Visit object at 0x7ff2671908e0>\n",
      "<visits.visit.Visit object at 0x7ff267196970>\n",
      "<visits.visit.Visit object at 0x7ff2671966d0>\n",
      "<visits.visit.Visit object at 0x7ff267196220>\n",
      "<visits.visit.Visit object at 0x7ff267196e50>\n",
      "<visits.visit.Visit object at 0x7ff26719fc10>\n",
      "<visits.visit.Visit object at 0x7ff26719ffd0>\n",
      "<visits.visit.Visit object at 0x7ff26719fac0>\n",
      "<visits.visit.Visit object at 0x7ff26719fdf0>\n",
      "<visits.visit.Visit object at 0x7ff2671a4280>\n",
      "<visits.visit.Visit object at 0x7ff2671a4910>\n",
      "<visits.visit.Visit object at 0x7ff2671a4fd0>\n",
      "<visits.visit.Visit object at 0x7ff2671a4f70>\n",
      "<visits.visit.Visit object at 0x7ff2671ab250>\n",
      "<visits.visit.Visit object at 0x7ff2671abf70>\n",
      "<visits.visit.Visit object at 0x7ff2671abe80>\n",
      "<visits.visit.Visit object at 0x7ff2671abb80>\n",
      "<visits.visit.Visit object at 0x7ff2671abaf0>\n",
      "<visits.visit.Visit object at 0x7ff2671b0ac0>\n",
      "<visits.visit.Visit object at 0x7ff2671b9e50>\n",
      "<visits.visit.Visit object at 0x7ff2671b0d30>\n",
      "<visits.visit.Visit object at 0x7ff2671b9a90>\n",
      "<visits.visit.Visit object at 0x7ff2671b9ac0>\n",
      "<visits.visit.Visit object at 0x7ff2671b9f10>\n",
      "<visits.visit.Visit object at 0x7ff2671b9e20>\n",
      "<visits.visit.Visit object at 0x7ff2671bbe80>\n",
      "<visits.visit.Visit object at 0x7ff2671bb460>\n",
      "<visits.visit.Visit object at 0x7ff2671c7ca0>\n",
      "<visits.visit.Visit object at 0x7ff2671c7fa0>\n",
      "<visits.visit.Visit object at 0x7ff26bb91700>\n",
      "<visits.visit.Visit object at 0x7ff2671c7f70>\n",
      "<visits.visit.Visit object at 0x7ff267190b50>\n",
      "<visits.visit.Visit object at 0x7ff2671c7a90>\n",
      "<visits.visit.Visit object at 0x7ff26713b250>\n",
      "<visits.visit.Visit object at 0x7ff2671ce820>\n",
      "<visits.visit.Visit object at 0x7ff2671c7520>\n",
      "<visits.visit.Visit object at 0x7ff2671cef40>\n",
      "<visits.visit.Visit object at 0x7ff2671ced30>\n",
      "<visits.visit.Visit object at 0x7ff2671cedc0>\n",
      "<visits.visit.Visit object at 0x7ff2671ce8b0>\n",
      "<visits.visit.Visit object at 0x7ff2671dca90>\n",
      "<visits.visit.Visit object at 0x7ff2671d7d00>\n",
      "<visits.visit.Visit object at 0x7ff2671dcb50>\n",
      "<visits.visit.Visit object at 0x7ff2671dcfa0>\n",
      "<visits.visit.Visit object at 0x7ff2671dcc40>\n",
      "<visits.visit.Visit object at 0x7ff2671deca0>\n",
      "<visits.visit.Visit object at 0x7ff2671deb50>\n",
      "<visits.visit.Visit object at 0x7ff2671dea00>\n",
      "<visits.visit.Visit object at 0x7ff2671cefa0>\n",
      "<visits.visit.Visit object at 0x7ff2671e8f70>\n",
      "<visits.visit.Visit object at 0x7ff2671de6d0>\n",
      "<visits.visit.Visit object at 0x7ff2671e8910>\n",
      "<visits.visit.Visit object at 0x7ff2671f25e0>\n",
      "<visits.visit.Visit object at 0x7ff2671f2ca0>\n",
      "<visits.visit.Visit object at 0x7ff2671e8b50>\n",
      "<visits.visit.Visit object at 0x7ff2671f84c0>\n",
      "<visits.visit.Visit object at 0x7ff2671f2400>\n",
      "<visits.visit.Visit object at 0x7ff2671f8f70>\n",
      "<visits.visit.Visit object at 0x7ff2671f88e0>\n",
      "<visits.visit.Visit object at 0x7ff2671f80a0>\n",
      "<visits.visit.Visit object at 0x7ff2671f8f40>\n",
      "<visits.visit.Visit object at 0x7ff2671f8e50>\n",
      "<visits.visit.Visit object at 0x7ff2671f8fd0>\n",
      "<visits.visit.Visit object at 0x7ff2671ffd90>\n",
      "<visits.visit.Visit object at 0x7ff2671f89a0>\n",
      "<visits.visit.Visit object at 0x7ff2671fffd0>\n",
      "<visits.visit.Visit object at 0x7ff2671ffe50>\n",
      "<visits.visit.Visit object at 0x7ff267203430>\n",
      "<visits.visit.Visit object at 0x7ff267203cd0>\n",
      "<visits.visit.Visit object at 0x7ff2672039d0>\n",
      "<visits.visit.Visit object at 0x7ff267203a30>\n",
      "<visits.visit.Visit object at 0x7ff266ca17f0>\n",
      "<visits.visit.Visit object at 0x7ff2671ce400>\n",
      "<visits.visit.Visit object at 0x7ff26720c8b0>\n",
      "<visits.visit.Visit object at 0x7ff267203eb0>\n",
      "<visits.visit.Visit object at 0x7ff26720cdf0>\n",
      "<visits.visit.Visit object at 0x7ff26720cee0>\n",
      "<visits.visit.Visit object at 0x7ff267210ee0>\n",
      "<visits.visit.Visit object at 0x7ff267210c70>\n",
      "<visits.visit.Visit object at 0x7ff267203dc0>\n",
      "<visits.visit.Visit object at 0x7ff267218a30>\n",
      "<visits.visit.Visit object at 0x7ff267218c10>\n",
      "<visits.visit.Visit object at 0x7ff267221b20>\n",
      "<visits.visit.Visit object at 0x7ff267218550>\n",
      "<visits.visit.Visit object at 0x7ff26720cfd0>\n",
      "<visits.visit.Visit object at 0x7ff267221c40>\n",
      "<visits.visit.Visit object at 0x7ff267221be0>\n"
     ]
    }
   ],
   "source": [
    "for visit in cohort_dict[2]:\n",
    "    print(visit)"
   ]
  },
  {
   "cell_type": "code",
   "execution_count": 22,
   "metadata": {},
   "outputs": [
    {
     "data": {
      "text/html": [
       "<div>\n",
       "<style scoped>\n",
       "    .dataframe tbody tr th:only-of-type {\n",
       "        vertical-align: middle;\n",
       "    }\n",
       "\n",
       "    .dataframe tbody tr th {\n",
       "        vertical-align: top;\n",
       "    }\n",
       "\n",
       "    .dataframe thead th {\n",
       "        text-align: right;\n",
       "    }\n",
       "</style>\n",
       "<table border=\"1\" class=\"dataframe\">\n",
       "  <thead>\n",
       "    <tr style=\"text-align: right;\">\n",
       "      <th></th>\n",
       "      <th>monitor</th>\n",
       "      <th>record_date_time</th>\n",
       "      <th>num_value</th>\n",
       "    </tr>\n",
       "  </thead>\n",
       "  <tbody>\n",
       "    <tr>\n",
       "      <th>0</th>\n",
       "      <td>HR</td>\n",
       "      <td>2017-10-15 15:00:05</td>\n",
       "      <td>163</td>\n",
       "    </tr>\n",
       "    <tr>\n",
       "      <th>1</th>\n",
       "      <td>HR</td>\n",
       "      <td>2017-10-15 15:00:10</td>\n",
       "      <td>164</td>\n",
       "    </tr>\n",
       "    <tr>\n",
       "      <th>2</th>\n",
       "      <td>HR</td>\n",
       "      <td>2017-10-15 15:00:15</td>\n",
       "      <td>164</td>\n",
       "    </tr>\n",
       "    <tr>\n",
       "      <th>3</th>\n",
       "      <td>HR</td>\n",
       "      <td>2017-10-15 15:00:20</td>\n",
       "      <td>161</td>\n",
       "    </tr>\n",
       "    <tr>\n",
       "      <th>4</th>\n",
       "      <td>HR</td>\n",
       "      <td>2017-10-15 15:00:25</td>\n",
       "      <td>155</td>\n",
       "    </tr>\n",
       "    <tr>\n",
       "      <th>...</th>\n",
       "      <td>...</td>\n",
       "      <td>...</td>\n",
       "      <td>...</td>\n",
       "    </tr>\n",
       "    <tr>\n",
       "      <th>2118</th>\n",
       "      <td>HR</td>\n",
       "      <td>2017-10-15 17:59:31</td>\n",
       "      <td>161</td>\n",
       "    </tr>\n",
       "    <tr>\n",
       "      <th>2119</th>\n",
       "      <td>HR</td>\n",
       "      <td>2017-10-15 17:59:36</td>\n",
       "      <td>161</td>\n",
       "    </tr>\n",
       "    <tr>\n",
       "      <th>2120</th>\n",
       "      <td>HR</td>\n",
       "      <td>2017-10-15 17:59:41</td>\n",
       "      <td>161</td>\n",
       "    </tr>\n",
       "    <tr>\n",
       "      <th>2121</th>\n",
       "      <td>HR</td>\n",
       "      <td>2017-10-15 17:59:46</td>\n",
       "      <td>161</td>\n",
       "    </tr>\n",
       "    <tr>\n",
       "      <th>2122</th>\n",
       "      <td>HR</td>\n",
       "      <td>2017-10-15 17:59:51</td>\n",
       "      <td>161</td>\n",
       "    </tr>\n",
       "  </tbody>\n",
       "</table>\n",
       "<p>2123 rows × 3 columns</p>\n",
       "</div>"
      ],
      "text/plain": [
       "     monitor    record_date_time  num_value\n",
       "0         HR 2017-10-15 15:00:05        163\n",
       "1         HR 2017-10-15 15:00:10        164\n",
       "2         HR 2017-10-15 15:00:15        164\n",
       "3         HR 2017-10-15 15:00:20        161\n",
       "4         HR 2017-10-15 15:00:25        155\n",
       "...      ...                 ...        ...\n",
       "2118      HR 2017-10-15 17:59:31        161\n",
       "2119      HR 2017-10-15 17:59:36        161\n",
       "2120      HR 2017-10-15 17:59:41        161\n",
       "2121      HR 2017-10-15 17:59:46        161\n",
       "2122      HR 2017-10-15 17:59:51        161\n",
       "\n",
       "[2123 rows x 3 columns]"
      ]
     },
     "execution_count": 22,
     "metadata": {},
     "output_type": "execute_result"
    }
   ],
   "source": [
    "cohort_dict[1][100].hr()"
   ]
  },
  {
   "cell_type": "code",
   "execution_count": 23,
   "metadata": {},
   "outputs": [
    {
     "data": {
      "text/plain": [
       "{1: [<visits.visit.Visit at 0x7ff26bb896d0>,\n",
       "  <visits.visit.Visit at 0x7ff26bb82760>,\n",
       "  <visits.visit.Visit at 0x7ff26bb50af0>,\n",
       "  <visits.visit.Visit at 0x7ff26bb5a970>,\n",
       "  <visits.visit.Visit at 0x7ff26bb129d0>,\n",
       "  <visits.visit.Visit at 0x7ff26bb509a0>,\n",
       "  <visits.visit.Visit at 0x7ff26bb1bd60>,\n",
       "  <visits.visit.Visit at 0x7ff26bb204f0>,\n",
       "  <visits.visit.Visit at 0x7ff26bb278b0>,\n",
       "  <visits.visit.Visit at 0x7ff26bb3e9d0>,\n",
       "  <visits.visit.Visit at 0x7ff26bac46d0>,\n",
       "  <visits.visit.Visit at 0x7ff26bacbc10>,\n",
       "  <visits.visit.Visit at 0x7ff26bad7760>,\n",
       "  <visits.visit.Visit at 0x7ff26ba9a760>,\n",
       "  <visits.visit.Visit at 0x7ff26bab6eb0>,\n",
       "  <visits.visit.Visit at 0x7ff26babf550>,\n",
       "  <visits.visit.Visit at 0x7ff26babf880>,\n",
       "  <visits.visit.Visit at 0x7ff26ba532e0>,\n",
       "  <visits.visit.Visit at 0x7ff26ba667c0>,\n",
       "  <visits.visit.Visit at 0x7ff26ba6e550>,\n",
       "  <visits.visit.Visit at 0x7ff26ba0fa90>,\n",
       "  <visits.visit.Visit at 0x7ff26ba16df0>,\n",
       "  <visits.visit.Visit at 0x7ff26ba1d550>,\n",
       "  <visits.visit.Visit at 0x7ff26ba39eb0>,\n",
       "  <visits.visit.Visit at 0x7ff26ba393d0>,\n",
       "  <visits.visit.Visit at 0x7ff26b9cea30>,\n",
       "  <visits.visit.Visit at 0x7ff26b9d5e20>,\n",
       "  <visits.visit.Visit at 0x7ff26b9d5430>,\n",
       "  <visits.visit.Visit at 0x7ff26b9e1c40>,\n",
       "  <visits.visit.Visit at 0x7ff26b9e7dc0>,\n",
       "  <visits.visit.Visit at 0x7ff26b984b50>,\n",
       "  <visits.visit.Visit at 0x7ff26b99e1f0>,\n",
       "  <visits.visit.Visit at 0x7ff26b9b6820>,\n",
       "  <visits.visit.Visit at 0x7ff26b9be100>,\n",
       "  <visits.visit.Visit at 0x7ff26b968eb0>,\n",
       "  <visits.visit.Visit at 0x7ff26b974bb0>,\n",
       "  <visits.visit.Visit at 0x7ff26b902580>,\n",
       "  <visits.visit.Visit at 0x7ff26b933760>,\n",
       "  <visits.visit.Visit at 0x7ff26b8c6b80>,\n",
       "  <visits.visit.Visit at 0x7ff26b8dbd90>,\n",
       "  <visits.visit.Visit at 0x7ff26b8dbca0>,\n",
       "  <visits.visit.Visit at 0x7ff26b8e4d60>,\n",
       "  <visits.visit.Visit at 0x7ff26b893fd0>,\n",
       "  <visits.visit.Visit at 0x7ff26b8b5cd0>,\n",
       "  <visits.visit.Visit at 0x7ff26b8ba8e0>,\n",
       "  <visits.visit.Visit at 0x7ff26b8489a0>,\n",
       "  <visits.visit.Visit at 0x7ff26b848c10>,\n",
       "  <visits.visit.Visit at 0x7ff26b85df40>,\n",
       "  <visits.visit.Visit at 0x7ff26b863310>,\n",
       "  <visits.visit.Visit at 0x7ff26b868f10>,\n",
       "  <visits.visit.Visit at 0x7ff25eab6ee0>,\n",
       "  <visits.visit.Visit at 0x7ff25eac2b20>,\n",
       "  <visits.visit.Visit at 0x7ff25eade640>,\n",
       "  <visits.visit.Visit at 0x7ff25eae6ee0>,\n",
       "  <visits.visit.Visit at 0x7ff25eaebd60>,\n",
       "  <visits.visit.Visit at 0x7ff25eaf2940>,\n",
       "  <visits.visit.Visit at 0x7ff260be0190>,\n",
       "  <visits.visit.Visit at 0x7ff260be6eb0>,\n",
       "  <visits.visit.Visit at 0x7ff260beec70>,\n",
       "  <visits.visit.Visit at 0x7ff260bf3460>,\n",
       "  <visits.visit.Visit at 0x7ff260c16850>,\n",
       "  <visits.visit.Visit at 0x7ff260c30d60>,\n",
       "  <visits.visit.Visit at 0x7ff260c3baf0>,\n",
       "  <visits.visit.Visit at 0x7ff260c53ac0>,\n",
       "  <visits.visit.Visit at 0x7ff260c6e490>,\n",
       "  <visits.visit.Visit at 0x7ff260c82e80>,\n",
       "  <visits.visit.Visit at 0x7ff260c8a520>,\n",
       "  <visits.visit.Visit at 0x7ff260c90f40>,\n",
       "  <visits.visit.Visit at 0x7ff263a3de80>,\n",
       "  <visits.visit.Visit at 0x7ff263a45af0>,\n",
       "  <visits.visit.Visit at 0x7ff263a7ba00>,\n",
       "  <visits.visit.Visit at 0x7ff263ab2970>,\n",
       "  <visits.visit.Visit at 0x7ff263ab93d0>,\n",
       "  <visits.visit.Visit at 0x7ff263ac7e50>,\n",
       "  <visits.visit.Visit at 0x7ff263ae8eb0>,\n",
       "  <visits.visit.Visit at 0x7ff263af6ee0>,\n",
       "  <visits.visit.Visit at 0x7ff263c74d60>,\n",
       "  <visits.visit.Visit at 0x7ff263c96f40>,\n",
       "  <visits.visit.Visit at 0x7ff263e46c40>,\n",
       "  <visits.visit.Visit at 0x7ff263e83a60>,\n",
       "  <visits.visit.Visit at 0x7ff263ea5fd0>,\n",
       "  <visits.visit.Visit at 0x7ff264c71b50>,\n",
       "  <visits.visit.Visit at 0x7ff264c8aaf0>,\n",
       "  <visits.visit.Visit at 0x7ff264cabee0>,\n",
       "  <visits.visit.Visit at 0x7ff264cb2ee0>,\n",
       "  <visits.visit.Visit at 0x7ff264cb9c70>,\n",
       "  <visits.visit.Visit at 0x7ff264cbff10>,\n",
       "  <visits.visit.Visit at 0x7ff264cf9d60>,\n",
       "  <visits.visit.Visit at 0x7ff264cff550>,\n",
       "  <visits.visit.Visit at 0x7ff264d118e0>,\n",
       "  <visits.visit.Visit at 0x7ff264d33f70>,\n",
       "  <visits.visit.Visit at 0x7ff264d40fd0>,\n",
       "  <visits.visit.Visit at 0x7ff264d56be0>,\n",
       "  <visits.visit.Visit at 0x7ff266c87dc0>,\n",
       "  <visits.visit.Visit at 0x7ff266ca1fd0>,\n",
       "  <visits.visit.Visit at 0x7ff266cb2f10>,\n",
       "  <visits.visit.Visit at 0x7ff266d37880>,\n",
       "  <visits.visit.Visit at 0x7ff266d5ee20>,\n",
       "  <visits.visit.Visit at 0x7ff266d6ef70>,\n",
       "  <visits.visit.Visit at 0x7ff266d80eb0>,\n",
       "  <visits.visit.Visit at 0x7ff2670864f0>,\n",
       "  <visits.visit.Visit at 0x7ff26708db20>,\n",
       "  <visits.visit.Visit at 0x7ff2670a6a00>,\n",
       "  <visits.visit.Visit at 0x7ff2670bbeb0>,\n",
       "  <visits.visit.Visit at 0x7ff2670f88e0>,\n",
       "  <visits.visit.Visit at 0x7ff267104d00>,\n",
       "  <visits.visit.Visit at 0x7ff2671097c0>,\n",
       "  <visits.visit.Visit at 0x7ff26711a760>,\n",
       "  <visits.visit.Visit at 0x7ff267121dc0>,\n",
       "  <visits.visit.Visit at 0x7ff26712dc10>,\n",
       "  <visits.visit.Visit at 0x7ff26717aca0>,\n",
       "  <visits.visit.Visit at 0x7ff2671b05b0>,\n",
       "  <visits.visit.Visit at 0x7ff2671b9ca0>,\n",
       "  <visits.visit.Visit at 0x7ff2671bbe50>,\n",
       "  <visits.visit.Visit at 0x7ff2671c7d90>,\n",
       "  <visits.visit.Visit at 0x7ff2671bba90>,\n",
       "  <visits.visit.Visit at 0x7ff2671e8ee0>,\n",
       "  <visits.visit.Visit at 0x7ff2671f2ee0>,\n",
       "  <visits.visit.Visit at 0x7ff2671ce610>,\n",
       "  <visits.visit.Visit at 0x7ff2672104f0>],\n",
       " 2: [<visits.visit.Visit at 0x7ff260ccfb20>,\n",
       "  <visits.visit.Visit at 0x7ff266bd8040>,\n",
       "  <visits.visit.Visit at 0x7ff263c15df0>,\n",
       "  <visits.visit.Visit at 0x7ff2652396a0>,\n",
       "  <visits.visit.Visit at 0x7ff266bd8400>,\n",
       "  <visits.visit.Visit at 0x7ff26bb91dc0>,\n",
       "  <visits.visit.Visit at 0x7ff26bb91b80>,\n",
       "  <visits.visit.Visit at 0x7ff26bb91eb0>,\n",
       "  <visits.visit.Visit at 0x7ff260ccf9d0>,\n",
       "  <visits.visit.Visit at 0x7ff26bbaf520>,\n",
       "  <visits.visit.Visit at 0x7ff26bbaf8b0>,\n",
       "  <visits.visit.Visit at 0x7ff26bbafe80>,\n",
       "  <visits.visit.Visit at 0x7ff26bbafe20>,\n",
       "  <visits.visit.Visit at 0x7ff26bbafd00>,\n",
       "  <visits.visit.Visit at 0x7ff26bbafbe0>,\n",
       "  <visits.visit.Visit at 0x7ff26bbaff70>,\n",
       "  <visits.visit.Visit at 0x7ff26bbaf220>,\n",
       "  <visits.visit.Visit at 0x7ff26bba5a60>,\n",
       "  <visits.visit.Visit at 0x7ff26bba5e50>,\n",
       "  <visits.visit.Visit at 0x7ff26bba5f70>,\n",
       "  <visits.visit.Visit at 0x7ff26bba5850>,\n",
       "  <visits.visit.Visit at 0x7ff26bba5970>,\n",
       "  <visits.visit.Visit at 0x7ff26bb9fc40>,\n",
       "  <visits.visit.Visit at 0x7ff26bba5fd0>,\n",
       "  <visits.visit.Visit at 0x7ff26bba5b50>,\n",
       "  <visits.visit.Visit at 0x7ff264439e80>,\n",
       "  <visits.visit.Visit at 0x7ff26bb95fd0>,\n",
       "  <visits.visit.Visit at 0x7ff26bb95730>,\n",
       "  <visits.visit.Visit at 0x7ff26bb95af0>,\n",
       "  <visits.visit.Visit at 0x7ff26bb953a0>,\n",
       "  <visits.visit.Visit at 0x7ff26bb89eb0>,\n",
       "  <visits.visit.Visit at 0x7ff26bb89430>,\n",
       "  <visits.visit.Visit at 0x7ff26bb89af0>,\n",
       "  <visits.visit.Visit at 0x7ff26bb89e80>,\n",
       "  <visits.visit.Visit at 0x7ff26bb89cd0>,\n",
       "  <visits.visit.Visit at 0x7ff26bb82fd0>,\n",
       "  <visits.visit.Visit at 0x7ff26bb82f70>,\n",
       "  <visits.visit.Visit at 0x7ff26bb82c10>,\n",
       "  <visits.visit.Visit at 0x7ff26bb82c40>,\n",
       "  <visits.visit.Visit at 0x7ff26bb42c40>,\n",
       "  <visits.visit.Visit at 0x7ff26bb42f70>,\n",
       "  <visits.visit.Visit at 0x7ff26bb42a00>,\n",
       "  <visits.visit.Visit at 0x7ff26bb424f0>,\n",
       "  <visits.visit.Visit at 0x7ff26bb42df0>,\n",
       "  <visits.visit.Visit at 0x7ff26bb42c10>,\n",
       "  <visits.visit.Visit at 0x7ff26bb49fd0>,\n",
       "  <visits.visit.Visit at 0x7ff26bb49d90>,\n",
       "  <visits.visit.Visit at 0x7ff26bba5580>,\n",
       "  <visits.visit.Visit at 0x7ff26bb49880>,\n",
       "  <visits.visit.Visit at 0x7ff26bb49f70>,\n",
       "  <visits.visit.Visit at 0x7ff26bb49250>,\n",
       "  <visits.visit.Visit at 0x7ff26bb49460>,\n",
       "  <visits.visit.Visit at 0x7ff26bb49a90>,\n",
       "  <visits.visit.Visit at 0x7ff26bb49fa0>,\n",
       "  <visits.visit.Visit at 0x7ff26bb50820>,\n",
       "  <visits.visit.Visit at 0x7ff26bb50f70>,\n",
       "  <visits.visit.Visit at 0x7ff26bb509d0>,\n",
       "  <visits.visit.Visit at 0x7ff26bb5aeb0>,\n",
       "  <visits.visit.Visit at 0x7ff26bb5acd0>,\n",
       "  <visits.visit.Visit at 0x7ff26bb5ae80>,\n",
       "  <visits.visit.Visit at 0x7ff26bb42250>,\n",
       "  <visits.visit.Visit at 0x7ff26bb5a8b0>,\n",
       "  <visits.visit.Visit at 0x7ff26bb5aee0>,\n",
       "  <visits.visit.Visit at 0x7ff26bb5aa90>,\n",
       "  <visits.visit.Visit at 0x7ff26bb603d0>,\n",
       "  <visits.visit.Visit at 0x7ff26bb60250>,\n",
       "  <visits.visit.Visit at 0x7ff26bb66940>,\n",
       "  <visits.visit.Visit at 0x7ff26bb66a30>,\n",
       "  <visits.visit.Visit at 0x7ff26bb66340>,\n",
       "  <visits.visit.Visit at 0x7ff26bb66eb0>,\n",
       "  <visits.visit.Visit at 0x7ff26bb66cd0>,\n",
       "  <visits.visit.Visit at 0x7ff26bb667f0>,\n",
       "  <visits.visit.Visit at 0x7ff26bb66fa0>,\n",
       "  <visits.visit.Visit at 0x7ff26bb6dac0>,\n",
       "  <visits.visit.Visit at 0x7ff26bb6d7f0>,\n",
       "  <visits.visit.Visit at 0x7ff26bb6d4c0>,\n",
       "  <visits.visit.Visit at 0x7ff26bb6dc40>,\n",
       "  <visits.visit.Visit at 0x7ff26bb75d30>,\n",
       "  <visits.visit.Visit at 0x7ff26bb75730>,\n",
       "  <visits.visit.Visit at 0x7ff26bb757c0>,\n",
       "  <visits.visit.Visit at 0x7ff26bb75e50>,\n",
       "  <visits.visit.Visit at 0x7ff26bb751c0>,\n",
       "  <visits.visit.Visit at 0x7ff26bb759a0>,\n",
       "  <visits.visit.Visit at 0x7ff26bb7be80>,\n",
       "  <visits.visit.Visit at 0x7ff26bb75460>,\n",
       "  <visits.visit.Visit at 0x7ff26bb7bcd0>,\n",
       "  <visits.visit.Visit at 0x7ff26bb7bac0>,\n",
       "  <visits.visit.Visit at 0x7ff26bb7bd30>,\n",
       "  <visits.visit.Visit at 0x7ff26bb7b7c0>,\n",
       "  <visits.visit.Visit at 0x7ff26bb7b130>,\n",
       "  <visits.visit.Visit at 0x7ff26bb03fa0>,\n",
       "  <visits.visit.Visit at 0x7ff26bb7beb0>,\n",
       "  <visits.visit.Visit at 0x7ff26bb03e80>,\n",
       "  <visits.visit.Visit at 0x7ff26bb03820>,\n",
       "  <visits.visit.Visit at 0x7ff26bb7be50>,\n",
       "  <visits.visit.Visit at 0x7ff26bb03d60>,\n",
       "  <visits.visit.Visit at 0x7ff26bb0bd90>,\n",
       "  <visits.visit.Visit at 0x7ff26bb03c10>,\n",
       "  <visits.visit.Visit at 0x7ff26bb03bb0>,\n",
       "  <visits.visit.Visit at 0x7ff26bb0b280>,\n",
       "  <visits.visit.Visit at 0x7ff26bb0bd30>,\n",
       "  <visits.visit.Visit at 0x7ff26bb0b760>,\n",
       "  <visits.visit.Visit at 0x7ff26bb0bc70>,\n",
       "  <visits.visit.Visit at 0x7ff26bb128e0>,\n",
       "  <visits.visit.Visit at 0x7ff26bb1bb50>,\n",
       "  <visits.visit.Visit at 0x7ff26bb12dc0>,\n",
       "  <visits.visit.Visit at 0x7ff26bb1bd00>,\n",
       "  <visits.visit.Visit at 0x7ff26bb1b610>,\n",
       "  <visits.visit.Visit at 0x7ff26bb1be80>,\n",
       "  <visits.visit.Visit at 0x7ff26bb1beb0>,\n",
       "  <visits.visit.Visit at 0x7ff26bb1bb20>,\n",
       "  <visits.visit.Visit at 0x7ff26bb20d90>,\n",
       "  <visits.visit.Visit at 0x7ff26bb1b9a0>,\n",
       "  <visits.visit.Visit at 0x7ff26bb1bf70>,\n",
       "  <visits.visit.Visit at 0x7ff26bb20ca0>,\n",
       "  <visits.visit.Visit at 0x7ff26bb20a00>,\n",
       "  <visits.visit.Visit at 0x7ff26bb27b20>,\n",
       "  <visits.visit.Visit at 0x7ff26bb27e50>,\n",
       "  <visits.visit.Visit at 0x7ff26bb27fd0>,\n",
       "  <visits.visit.Visit at 0x7ff26bb276a0>,\n",
       "  <visits.visit.Visit at 0x7ff26bb27f40>,\n",
       "  <visits.visit.Visit at 0x7ff26bb2fc70>,\n",
       "  <visits.visit.Visit at 0x7ff26bb2f8e0>,\n",
       "  <visits.visit.Visit at 0x7ff26bb2f640>,\n",
       "  <visits.visit.Visit at 0x7ff26bb2f670>,\n",
       "  <visits.visit.Visit at 0x7ff26bb37b80>,\n",
       "  <visits.visit.Visit at 0x7ff26bb37d90>,\n",
       "  <visits.visit.Visit at 0x7ff26bb37670>,\n",
       "  <visits.visit.Visit at 0x7ff26bb37160>,\n",
       "  <visits.visit.Visit at 0x7ff26bb37400>,\n",
       "  <visits.visit.Visit at 0x7ff26bb37790>,\n",
       "  <visits.visit.Visit at 0x7ff26bb3ecd0>,\n",
       "  <visits.visit.Visit at 0x7ff26bb3efa0>,\n",
       "  <visits.visit.Visit at 0x7ff26bb37fd0>,\n",
       "  <visits.visit.Visit at 0x7ff26bb3ec70>,\n",
       "  <visits.visit.Visit at 0x7ff26bac48e0>,\n",
       "  <visits.visit.Visit at 0x7ff26bac4430>,\n",
       "  <visits.visit.Visit at 0x7ff26bac4dc0>,\n",
       "  <visits.visit.Visit at 0x7ff26bacbfa0>,\n",
       "  <visits.visit.Visit at 0x7ff26bacb610>,\n",
       "  <visits.visit.Visit at 0x7ff26bacb8e0>,\n",
       "  <visits.visit.Visit at 0x7ff26bacbb20>,\n",
       "  <visits.visit.Visit at 0x7ff26bacbe20>,\n",
       "  <visits.visit.Visit at 0x7ff26bacb3a0>,\n",
       "  <visits.visit.Visit at 0x7ff26bad3400>,\n",
       "  <visits.visit.Visit at 0x7ff26bad34c0>,\n",
       "  <visits.visit.Visit at 0x7ff26bad3f40>,\n",
       "  <visits.visit.Visit at 0x7ff26bad3730>,\n",
       "  <visits.visit.Visit at 0x7ff26bad7b80>,\n",
       "  <visits.visit.Visit at 0x7ff26bad76a0>,\n",
       "  <visits.visit.Visit at 0x7ff26bb0bfd0>,\n",
       "  <visits.visit.Visit at 0x7ff26bad7e20>,\n",
       "  <visits.visit.Visit at 0x7ff26bad79d0>,\n",
       "  <visits.visit.Visit at 0x7ff26bae2be0>,\n",
       "  <visits.visit.Visit at 0x7ff26bae2f10>,\n",
       "  <visits.visit.Visit at 0x7ff26bae2940>,\n",
       "  <visits.visit.Visit at 0x7ff26bae2cd0>,\n",
       "  <visits.visit.Visit at 0x7ff26bae2370>,\n",
       "  <visits.visit.Visit at 0x7ff26bae2a90>,\n",
       "  <visits.visit.Visit at 0x7ff26bae7cd0>,\n",
       "  <visits.visit.Visit at 0x7ff26bae2100>,\n",
       "  <visits.visit.Visit at 0x7ff26bae72e0>,\n",
       "  <visits.visit.Visit at 0x7ff26bae79d0>,\n",
       "  <visits.visit.Visit at 0x7ff26bae7940>,\n",
       "  <visits.visit.Visit at 0x7ff26bae76d0>,\n",
       "  <visits.visit.Visit at 0x7ff26bae7df0>,\n",
       "  <visits.visit.Visit at 0x7ff26bae7760>,\n",
       "  <visits.visit.Visit at 0x7ff26baf1d00>,\n",
       "  <visits.visit.Visit at 0x7ff26baf1f70>,\n",
       "  <visits.visit.Visit at 0x7ff26baf1f40>,\n",
       "  <visits.visit.Visit at 0x7ff26baf1bb0>,\n",
       "  <visits.visit.Visit at 0x7ff26baf17c0>,\n",
       "  <visits.visit.Visit at 0x7ff26baf1ac0>,\n",
       "  <visits.visit.Visit at 0x7ff26baf6700>,\n",
       "  <visits.visit.Visit at 0x7ff26baf1f10>,\n",
       "  <visits.visit.Visit at 0x7ff26baf6be0>,\n",
       "  <visits.visit.Visit at 0x7ff26baffe80>,\n",
       "  <visits.visit.Visit at 0x7ff26baf6490>,\n",
       "  <visits.visit.Visit at 0x7ff26baf6f70>,\n",
       "  <visits.visit.Visit at 0x7ff26baff460>,\n",
       "  <visits.visit.Visit at 0x7ff26baff820>,\n",
       "  <visits.visit.Visit at 0x7ff26baffca0>,\n",
       "  <visits.visit.Visit at 0x7ff26ba83cd0>,\n",
       "  <visits.visit.Visit at 0x7ff26baff100>,\n",
       "  <visits.visit.Visit at 0x7ff26bafff70>,\n",
       "  <visits.visit.Visit at 0x7ff26ba83c70>,\n",
       "  <visits.visit.Visit at 0x7ff26ba83bb0>,\n",
       "  <visits.visit.Visit at 0x7ff26ba8cb50>,\n",
       "  <visits.visit.Visit at 0x7ff26ba8c700>,\n",
       "  <visits.visit.Visit at 0x7ff26ba8c970>,\n",
       "  <visits.visit.Visit at 0x7ff26ba8ce50>,\n",
       "  <visits.visit.Visit at 0x7ff26ba8cf70>,\n",
       "  <visits.visit.Visit at 0x7ff26ba8cd30>,\n",
       "  <visits.visit.Visit at 0x7ff26ba8cd60>,\n",
       "  <visits.visit.Visit at 0x7ff26ba92f70>,\n",
       "  <visits.visit.Visit at 0x7ff26ba92fa0>,\n",
       "  <visits.visit.Visit at 0x7ff26ba92970>,\n",
       "  <visits.visit.Visit at 0x7ff26ba92a60>,\n",
       "  <visits.visit.Visit at 0x7ff26ba92df0>,\n",
       "  <visits.visit.Visit at 0x7ff26ba92850>,\n",
       "  <visits.visit.Visit at 0x7ff26bad3e20>,\n",
       "  <visits.visit.Visit at 0x7ff26ba921f0>,\n",
       "  <visits.visit.Visit at 0x7ff26ba9ad60>,\n",
       "  <visits.visit.Visit at 0x7ff26ba9afd0>,\n",
       "  <visits.visit.Visit at 0x7ff26ba92d60>,\n",
       "  <visits.visit.Visit at 0x7ff26baa3fa0>,\n",
       "  <visits.visit.Visit at 0x7ff26ba9aeb0>,\n",
       "  <visits.visit.Visit at 0x7ff26baa3850>,\n",
       "  <visits.visit.Visit at 0x7ff26baa3be0>,\n",
       "  <visits.visit.Visit at 0x7ff26baa3b20>,\n",
       "  <visits.visit.Visit at 0x7ff26baa3eb0>,\n",
       "  <visits.visit.Visit at 0x7ff26ba8c850>,\n",
       "  <visits.visit.Visit at 0x7ff26baaa8b0>,\n",
       "  <visits.visit.Visit at 0x7ff26baaa280>,\n",
       "  <visits.visit.Visit at 0x7ff26baaaac0>,\n",
       "  <visits.visit.Visit at 0x7ff26baaa610>,\n",
       "  <visits.visit.Visit at 0x7ff26baaa2b0>,\n",
       "  <visits.visit.Visit at 0x7ff26baaa9a0>,\n",
       "  <visits.visit.Visit at 0x7ff26baaa490>,\n",
       "  <visits.visit.Visit at 0x7ff26baaafa0>,\n",
       "  <visits.visit.Visit at 0x7ff26bab03a0>,\n",
       "  <visits.visit.Visit at 0x7ff26bab0d00>,\n",
       "  <visits.visit.Visit at 0x7ff26bab0ee0>,\n",
       "  <visits.visit.Visit at 0x7ff26bab0b20>,\n",
       "  <visits.visit.Visit at 0x7ff26bab6c40>,\n",
       "  <visits.visit.Visit at 0x7ff26bab0e80>,\n",
       "  <visits.visit.Visit at 0x7ff26bab6b80>,\n",
       "  <visits.visit.Visit at 0x7ff26bab04f0>,\n",
       "  <visits.visit.Visit at 0x7ff26bab6ca0>,\n",
       "  <visits.visit.Visit at 0x7ff26babfaf0>,\n",
       "  <visits.visit.Visit at 0x7ff26babff10>,\n",
       "  <visits.visit.Visit at 0x7ff26ba46df0>,\n",
       "  <visits.visit.Visit at 0x7ff26ba466a0>,\n",
       "  <visits.visit.Visit at 0x7ff26ba461c0>,\n",
       "  <visits.visit.Visit at 0x7ff26ba46eb0>,\n",
       "  <visits.visit.Visit at 0x7ff26ba4ec70>,\n",
       "  <visits.visit.Visit at 0x7ff26ba4e880>,\n",
       "  <visits.visit.Visit at 0x7ff26ba4e2b0>,\n",
       "  <visits.visit.Visit at 0x7ff26ba4e040>,\n",
       "  <visits.visit.Visit at 0x7ff26ba4efd0>,\n",
       "  <visits.visit.Visit at 0x7ff26ba4e550>,\n",
       "  <visits.visit.Visit at 0x7ff26ba53910>,\n",
       "  <visits.visit.Visit at 0x7ff26baa34f0>,\n",
       "  <visits.visit.Visit at 0x7ff26ba4ee50>,\n",
       "  <visits.visit.Visit at 0x7ff26ba53b20>,\n",
       "  <visits.visit.Visit at 0x7ff26ba5ae20>,\n",
       "  <visits.visit.Visit at 0x7ff26ba5a310>,\n",
       "  <visits.visit.Visit at 0x7ff26ba5aeb0>,\n",
       "  <visits.visit.Visit at 0x7ff26ba5ac70>,\n",
       "  <visits.visit.Visit at 0x7ff26ba5aee0>,\n",
       "  <visits.visit.Visit at 0x7ff26ba5a190>,\n",
       "  <visits.visit.Visit at 0x7ff26ba60c70>,\n",
       "  <visits.visit.Visit at 0x7ff26ba60670>,\n",
       "  <visits.visit.Visit at 0x7ff26ba604c0>,\n",
       "  <visits.visit.Visit at 0x7ff26ba60790>,\n",
       "  <visits.visit.Visit at 0x7ff26ba60fd0>,\n",
       "  <visits.visit.Visit at 0x7ff26ba60970>,\n",
       "  <visits.visit.Visit at 0x7ff26ba5aca0>,\n",
       "  <visits.visit.Visit at 0x7ff26ba608e0>,\n",
       "  <visits.visit.Visit at 0x7ff26ba60d90>,\n",
       "  <visits.visit.Visit at 0x7ff26ba66af0>,\n",
       "  <visits.visit.Visit at 0x7ff26ba66d60>,\n",
       "  <visits.visit.Visit at 0x7ff26ba66a30>,\n",
       "  <visits.visit.Visit at 0x7ff26ba6edf0>,\n",
       "  <visits.visit.Visit at 0x7ff26ba6ea30>,\n",
       "  <visits.visit.Visit at 0x7ff26ba66b50>,\n",
       "  <visits.visit.Visit at 0x7ff26ba46af0>,\n",
       "  <visits.visit.Visit at 0x7ff26ba75f40>,\n",
       "  <visits.visit.Visit at 0x7ff26ba75a60>,\n",
       "  <visits.visit.Visit at 0x7ff26ba758b0>,\n",
       "  <visits.visit.Visit at 0x7ff26ba756a0>,\n",
       "  <visits.visit.Visit at 0x7ff26ba75550>,\n",
       "  <visits.visit.Visit at 0x7ff26ba7c7c0>,\n",
       "  <visits.visit.Visit at 0x7ff26ba75ca0>,\n",
       "  <visits.visit.Visit at 0x7ff26ba7c9a0>,\n",
       "  <visits.visit.Visit at 0x7ff26ba75a00>,\n",
       "  <visits.visit.Visit at 0x7ff26ba7cfa0>,\n",
       "  <visits.visit.Visit at 0x7ff26ba7c8e0>,\n",
       "  <visits.visit.Visit at 0x7ff26ba7cf40>,\n",
       "  <visits.visit.Visit at 0x7ff26ba02b50>,\n",
       "  <visits.visit.Visit at 0x7ff26ba02c10>,\n",
       "  <visits.visit.Visit at 0x7ff26ba02ee0>,\n",
       "  <visits.visit.Visit at 0x7ff26ba02df0>,\n",
       "  <visits.visit.Visit at 0x7ff26ba02e80>,\n",
       "  <visits.visit.Visit at 0x7ff26ba09b20>,\n",
       "  <visits.visit.Visit at 0x7ff26ba09790>,\n",
       "  <visits.visit.Visit at 0x7ff26ba09f10>,\n",
       "  <visits.visit.Visit at 0x7ff26ba021c0>,\n",
       "  <visits.visit.Visit at 0x7ff26ba09550>,\n",
       "  <visits.visit.Visit at 0x7ff26ba0ff40>,\n",
       "  <visits.visit.Visit at 0x7ff26ba0fa60>,\n",
       "  <visits.visit.Visit at 0x7ff26ba6ee80>,\n",
       "  <visits.visit.Visit at 0x7ff26ba0fa30>,\n",
       "  <visits.visit.Visit at 0x7ff26ba0ffa0>,\n",
       "  <visits.visit.Visit at 0x7ff26ba0fc70>,\n",
       "  <visits.visit.Visit at 0x7ff26ba167f0>,\n",
       "  <visits.visit.Visit at 0x7ff26ba16a60>,\n",
       "  <visits.visit.Visit at 0x7ff26ba16fa0>,\n",
       "  <visits.visit.Visit at 0x7ff26ba16f10>,\n",
       "  <visits.visit.Visit at 0x7ff26ba1df40>,\n",
       "  <visits.visit.Visit at 0x7ff26ba1d1c0>,\n",
       "  <visits.visit.Visit at 0x7ff26ba25bb0>,\n",
       "  <visits.visit.Visit at 0x7ff26ba09b80>,\n",
       "  <visits.visit.Visit at 0x7ff26ba25d60>,\n",
       "  <visits.visit.Visit at 0x7ff26ba25f10>,\n",
       "  <visits.visit.Visit at 0x7ff26ba25ee0>,\n",
       "  <visits.visit.Visit at 0x7ff26ba25dc0>,\n",
       "  <visits.visit.Visit at 0x7ff26ba25fd0>,\n",
       "  <visits.visit.Visit at 0x7ff26ba25130>,\n",
       "  <visits.visit.Visit at 0x7ff26ba2bee0>,\n",
       "  <visits.visit.Visit at 0x7ff26ba2bd90>,\n",
       "  <visits.visit.Visit at 0x7ff26ba2bf40>,\n",
       "  <visits.visit.Visit at 0x7ff26ba2b430>,\n",
       "  <visits.visit.Visit at 0x7ff26ba338e0>,\n",
       "  <visits.visit.Visit at 0x7ff26ba33d00>,\n",
       "  <visits.visit.Visit at 0x7ff26ba33670>,\n",
       "  <visits.visit.Visit at 0x7ff26ba33f10>,\n",
       "  <visits.visit.Visit at 0x7ff26ba33b50>,\n",
       "  <visits.visit.Visit at 0x7ff26ba33730>,\n",
       "  <visits.visit.Visit at 0x7ff26ba33550>,\n",
       "  <visits.visit.Visit at 0x7ff26ba33460>,\n",
       "  <visits.visit.Visit at 0x7ff26ba39df0>,\n",
       "  <visits.visit.Visit at 0x7ff26ba3f6a0>,\n",
       "  <visits.visit.Visit at 0x7ff26ba3f310>,\n",
       "  <visits.visit.Visit at 0x7ff26ba3f7f0>,\n",
       "  <visits.visit.Visit at 0x7ff26ba3fca0>,\n",
       "  <visits.visit.Visit at 0x7ff26ba3f070>,\n",
       "  <visits.visit.Visit at 0x7ff26ba3fcd0>,\n",
       "  <visits.visit.Visit at 0x7ff26b9c75e0>,\n",
       "  <visits.visit.Visit at 0x7ff26b9c7dc0>,\n",
       "  <visits.visit.Visit at 0x7ff26b9c7ca0>,\n",
       "  <visits.visit.Visit at 0x7ff26b9c7f40>,\n",
       "  <visits.visit.Visit at 0x7ff26b9c79d0>,\n",
       "  <visits.visit.Visit at 0x7ff26b9c7fd0>,\n",
       "  <visits.visit.Visit at 0x7ff26b9ceb80>,\n",
       "  <visits.visit.Visit at 0x7ff26b9c7850>,\n",
       "  <visits.visit.Visit at 0x7ff26b9ce940>,\n",
       "  <visits.visit.Visit at 0x7ff26b9cedc0>,\n",
       "  <visits.visit.Visit at 0x7ff26b9cee20>,\n",
       "  <visits.visit.Visit at 0x7ff26b9ce760>,\n",
       "  <visits.visit.Visit at 0x7ff26b9d5dc0>,\n",
       "  <visits.visit.Visit at 0x7ff26b9d5c40>,\n",
       "  <visits.visit.Visit at 0x7ff26b9d5bb0>,\n",
       "  <visits.visit.Visit at 0x7ff26b9ce1c0>,\n",
       "  <visits.visit.Visit at 0x7ff26b9d5910>,\n",
       "  <visits.visit.Visit at 0x7ff26b9dcf40>,\n",
       "  <visits.visit.Visit at 0x7ff26b9dcf70>,\n",
       "  <visits.visit.Visit at 0x7ff26b9dcd30>,\n",
       "  <visits.visit.Visit at 0x7ff26b9dce20>,\n",
       "  <visits.visit.Visit at 0x7ff26b9e1490>,\n",
       "  <visits.visit.Visit at 0x7ff26b9e1f10>,\n",
       "  <visits.visit.Visit at 0x7ff26b9e7c70>,\n",
       "  <visits.visit.Visit at 0x7ff26b9e7f40>,\n",
       "  <visits.visit.Visit at 0x7ff26b9e7d60>,\n",
       "  <visits.visit.Visit at 0x7ff26b9e70a0>,\n",
       "  <visits.visit.Visit at 0x7ff26b9e7d90>,\n",
       "  <visits.visit.Visit at 0x7ff26b9e7f70>,\n",
       "  <visits.visit.Visit at 0x7ff26b9e7a00>,\n",
       "  <visits.visit.Visit at 0x7ff26b9e7bb0>,\n",
       "  <visits.visit.Visit at 0x7ff26b9effa0>,\n",
       "  <visits.visit.Visit at 0x7ff26b9ef6d0>,\n",
       "  <visits.visit.Visit at 0x7ff26b9efb80>,\n",
       "  <visits.visit.Visit at 0x7ff26b9ef910>,\n",
       "  <visits.visit.Visit at 0x7ff26b9f6f40>,\n",
       "  <visits.visit.Visit at 0x7ff26b9f6a30>,\n",
       "  <visits.visit.Visit at 0x7ff26b9f6d00>,\n",
       "  <visits.visit.Visit at 0x7ff26b9f6430>,\n",
       "  <visits.visit.Visit at 0x7ff26b9fddc0>,\n",
       "  <visits.visit.Visit at 0x7ff26b9fd1f0>,\n",
       "  <visits.visit.Visit at 0x7ff26b9fd850>,\n",
       "  <visits.visit.Visit at 0x7ff26b9fdee0>,\n",
       "  <visits.visit.Visit at 0x7ff26b9fd6a0>,\n",
       "  <visits.visit.Visit at 0x7ff26b9fdf70>,\n",
       "  <visits.visit.Visit at 0x7ff26b9fdd60>,\n",
       "  <visits.visit.Visit at 0x7ff26b984f70>,\n",
       "  <visits.visit.Visit at 0x7ff26b984c70>,\n",
       "  <visits.visit.Visit at 0x7ff26b9847c0>,\n",
       "  <visits.visit.Visit at 0x7ff26b989f40>,\n",
       "  <visits.visit.Visit at 0x7ff26b991b50>,\n",
       "  <visits.visit.Visit at 0x7ff26b989940>,\n",
       "  <visits.visit.Visit at 0x7ff26b991bb0>,\n",
       "  <visits.visit.Visit at 0x7ff26b991820>,\n",
       "  <visits.visit.Visit at 0x7ff26b9918e0>,\n",
       "  <visits.visit.Visit at 0x7ff26b991a00>,\n",
       "  <visits.visit.Visit at 0x7ff26b9914c0>,\n",
       "  <visits.visit.Visit at 0x7ff26b997f70>,\n",
       "  <visits.visit.Visit at 0x7ff26b997ee0>,\n",
       "  <visits.visit.Visit at 0x7ff26b997970>,\n",
       "  <visits.visit.Visit at 0x7ff26b99ec40>,\n",
       "  <visits.visit.Visit at 0x7ff26b99ed90>,\n",
       "  <visits.visit.Visit at 0x7ff26b99ea00>,\n",
       "  <visits.visit.Visit at 0x7ff26b99ea60>,\n",
       "  <visits.visit.Visit at 0x7ff26b99eaf0>,\n",
       "  <visits.visit.Visit at 0x7ff26b99e8e0>,\n",
       "  <visits.visit.Visit at 0x7ff26b99e790>,\n",
       "  <visits.visit.Visit at 0x7ff26b99edf0>,\n",
       "  <visits.visit.Visit at 0x7ff26b9a6f70>,\n",
       "  <visits.visit.Visit at 0x7ff26b9a63d0>,\n",
       "  <visits.visit.Visit at 0x7ff26b9adb80>,\n",
       "  <visits.visit.Visit at 0x7ff26b9ad4c0>,\n",
       "  <visits.visit.Visit at 0x7ff26b9ada00>,\n",
       "  <visits.visit.Visit at 0x7ff26b9a6b80>,\n",
       "  <visits.visit.Visit at 0x7ff26b9ad6d0>,\n",
       "  <visits.visit.Visit at 0x7ff26b9ad1f0>,\n",
       "  <visits.visit.Visit at 0x7ff26b9b6670>,\n",
       "  <visits.visit.Visit at 0x7ff26b9b6bb0>,\n",
       "  <visits.visit.Visit at 0x7ff26b9b6cd0>,\n",
       "  <visits.visit.Visit at 0x7ff26b9b61f0>,\n",
       "  <visits.visit.Visit at 0x7ff26b9be5e0>,\n",
       "  <visits.visit.Visit at 0x7ff26b9459a0>,\n",
       "  <visits.visit.Visit at 0x7ff26b9bea90>,\n",
       "  <visits.visit.Visit at 0x7ff26ba1df10>,\n",
       "  <visits.visit.Visit at 0x7ff26b945dc0>,\n",
       "  <visits.visit.Visit at 0x7ff26b945fd0>,\n",
       "  <visits.visit.Visit at 0x7ff26b945b80>,\n",
       "  <visits.visit.Visit at 0x7ff26b945520>,\n",
       "  <visits.visit.Visit at 0x7ff26b945d00>,\n",
       "  <visits.visit.Visit at 0x7ff26b945970>,\n",
       "  <visits.visit.Visit at 0x7ff26b945f70>,\n",
       "  <visits.visit.Visit at 0x7ff26b945940>,\n",
       "  <visits.visit.Visit at 0x7ff26b94aa60>,\n",
       "  <visits.visit.Visit at 0x7ff26b94a9d0>,\n",
       "  <visits.visit.Visit at 0x7ff26b94a250>,\n",
       "  <visits.visit.Visit at 0x7ff26b94a730>,\n",
       "  <visits.visit.Visit at 0x7ff26b952100>,\n",
       "  <visits.visit.Visit at 0x7ff26b952610>,\n",
       "  <visits.visit.Visit at 0x7ff26b9528b0>,\n",
       "  <visits.visit.Visit at 0x7ff26b952b50>,\n",
       "  <visits.visit.Visit at 0x7ff26b952ee0>,\n",
       "  <visits.visit.Visit at 0x7ff26b959940>,\n",
       "  <visits.visit.Visit at 0x7ff26b959ac0>,\n",
       "  <visits.visit.Visit at 0x7ff26b959fd0>,\n",
       "  <visits.visit.Visit at 0x7ff26b9598b0>,\n",
       "  <visits.visit.Visit at 0x7ff26b9593d0>,\n",
       "  <visits.visit.Visit at 0x7ff26b961dc0>,\n",
       "  <visits.visit.Visit at 0x7ff26b9613d0>,\n",
       "  <visits.visit.Visit at 0x7ff26b961b50>,\n",
       "  <visits.visit.Visit at 0x7ff26b961940>,\n",
       "  <visits.visit.Visit at 0x7ff26b961d60>,\n",
       "  <visits.visit.Visit at 0x7ff26b968e80>,\n",
       "  <visits.visit.Visit at 0x7ff26b968ee0>,\n",
       "  <visits.visit.Visit at 0x7ff26b952460>,\n",
       "  <visits.visit.Visit at 0x7ff26b968cd0>,\n",
       "  <visits.visit.Visit at 0x7ff26b9689d0>,\n",
       "  <visits.visit.Visit at 0x7ff26b968ac0>,\n",
       "  <visits.visit.Visit at 0x7ff26b9684c0>,\n",
       "  <visits.visit.Visit at 0x7ff26b96d130>,\n",
       "  <visits.visit.Visit at 0x7ff26b96d4f0>,\n",
       "  <visits.visit.Visit at 0x7ff26b96da90>,\n",
       "  <visits.visit.Visit at 0x7ff26b96de80>,\n",
       "  <visits.visit.Visit at 0x7ff26b96dc70>,\n",
       "  <visits.visit.Visit at 0x7ff26b974610>,\n",
       "  <visits.visit.Visit at 0x7ff26b974d30>,\n",
       "  <visits.visit.Visit at 0x7ff26b97b9a0>,\n",
       "  <visits.visit.Visit at 0x7ff26b97bb20>,\n",
       "  <visits.visit.Visit at 0x7ff26b97b970>,\n",
       "  <visits.visit.Visit at 0x7ff26b97bf40>,\n",
       "  <visits.visit.Visit at 0x7ff26b97bac0>,\n",
       "  <visits.visit.Visit at 0x7ff26b97baf0>,\n",
       "  <visits.visit.Visit at 0x7ff26b97be50>,\n",
       "  <visits.visit.Visit at 0x7ff26b902a90>,\n",
       "  <visits.visit.Visit at 0x7ff26b9029d0>,\n",
       "  <visits.visit.Visit at 0x7ff26b902d60>,\n",
       "  <visits.visit.Visit at 0x7ff26b97b790>,\n",
       "  <visits.visit.Visit at 0x7ff26b9024f0>,\n",
       "  <visits.visit.Visit at 0x7ff26b902f40>,\n",
       "  <visits.visit.Visit at 0x7ff26b90adc0>,\n",
       "  <visits.visit.Visit at 0x7ff26b902e80>,\n",
       "  <visits.visit.Visit at 0x7ff26b90a640>,\n",
       "  <visits.visit.Visit at 0x7ff26b90afa0>,\n",
       "  <visits.visit.Visit at 0x7ff26b90ab20>,\n",
       "  <visits.visit.Visit at 0x7ff26b9108b0>,\n",
       "  <visits.visit.Visit at 0x7ff26b910c70>,\n",
       "  <visits.visit.Visit at 0x7ff26b910ca0>,\n",
       "  <visits.visit.Visit at 0x7ff26b910eb0>,\n",
       "  <visits.visit.Visit at 0x7ff26b9104c0>,\n",
       "  <visits.visit.Visit at 0x7ff26b917d00>,\n",
       "  <visits.visit.Visit at 0x7ff26b9178b0>,\n",
       "  <visits.visit.Visit at 0x7ff26b917c70>,\n",
       "  <visits.visit.Visit at 0x7ff26b917fd0>,\n",
       "  <visits.visit.Visit at 0x7ff26b917b20>,\n",
       "  <visits.visit.Visit at 0x7ff26b91ca30>,\n",
       "  <visits.visit.Visit at 0x7ff26b91c370>,\n",
       "  <visits.visit.Visit at 0x7ff26b91cee0>,\n",
       "  <visits.visit.Visit at 0x7ff26b91cf10>,\n",
       "  <visits.visit.Visit at 0x7ff26b91cc70>,\n",
       "  <visits.visit.Visit at 0x7ff26b91c3a0>,\n",
       "  <visits.visit.Visit at 0x7ff26b91ceb0>,\n",
       "  <visits.visit.Visit at 0x7ff26b9247f0>,\n",
       "  <visits.visit.Visit at 0x7ff26b924d00>,\n",
       "  <visits.visit.Visit at 0x7ff26b924160>,\n",
       "  <visits.visit.Visit at 0x7ff26b924ca0>,\n",
       "  <visits.visit.Visit at 0x7ff26b92bf10>,\n",
       "  <visits.visit.Visit at 0x7ff26b92bf40>,\n",
       "  <visits.visit.Visit at 0x7ff26b92bc40>,\n",
       "  <visits.visit.Visit at 0x7ff26b92bd30>,\n",
       "  <visits.visit.Visit at 0x7ff26b933ee0>,\n",
       "  <visits.visit.Visit at 0x7ff26b933f10>,\n",
       "  <visits.visit.Visit at 0x7ff26b933fa0>,\n",
       "  <visits.visit.Visit at 0x7ff26b92bee0>,\n",
       "  <visits.visit.Visit at 0x7ff26b933b50>,\n",
       "  <visits.visit.Visit at 0x7ff26b933190>,\n",
       "  <visits.visit.Visit at 0x7ff26b937ee0>,\n",
       "  <visits.visit.Visit at 0x7ff26b9377c0>,\n",
       "  <visits.visit.Visit at 0x7ff26b937a30>,\n",
       "  <visits.visit.Visit at 0x7ff26b937190>,\n",
       "  <visits.visit.Visit at 0x7ff26b9379d0>,\n",
       "  <visits.visit.Visit at 0x7ff26b937fa0>,\n",
       "  <visits.visit.Visit at 0x7ff26b93fca0>,\n",
       "  <visits.visit.Visit at 0x7ff26b93f1c0>,\n",
       "  <visits.visit.Visit at 0x7ff26b93ffd0>,\n",
       "  <visits.visit.Visit at 0x7ff26b93f6a0>,\n",
       "  <visits.visit.Visit at 0x7ff26b93f8e0>,\n",
       "  <visits.visit.Visit at 0x7ff26b93fd60>,\n",
       "  <visits.visit.Visit at 0x7ff26b93f8b0>,\n",
       "  <visits.visit.Visit at 0x7ff26b8c6e80>,\n",
       "  <visits.visit.Visit at 0x7ff26b8c6c10>,\n",
       "  <visits.visit.Visit at 0x7ff26b8cd910>,\n",
       "  <visits.visit.Visit at 0x7ff26b8c6550>,\n",
       "  <visits.visit.Visit at 0x7ff26b8cddc0>,\n",
       "  <visits.visit.Visit at 0x7ff26b8cda30>,\n",
       "  <visits.visit.Visit at 0x7ff26b8cd520>,\n",
       "  <visits.visit.Visit at 0x7ff26b8d3d90>,\n",
       "  <visits.visit.Visit at 0x7ff26b8d3610>,\n",
       "  <visits.visit.Visit at 0x7ff26b8d3df0>,\n",
       "  <visits.visit.Visit at 0x7ff26b8d3a60>,\n",
       "  <visits.visit.Visit at 0x7ff26b8cdee0>,\n",
       "  <visits.visit.Visit at 0x7ff26b8d3c10>,\n",
       "  <visits.visit.Visit at 0x7ff26b8d3880>,\n",
       "  <visits.visit.Visit at 0x7ff26b8e4bb0>,\n",
       "  <visits.visit.Visit at 0x7ff26b8e4f40>,\n",
       "  <visits.visit.Visit at 0x7ff26b8e4ee0>,\n",
       "  <visits.visit.Visit at 0x7ff26b8e9dc0>,\n",
       "  <visits.visit.Visit at 0x7ff26b8e9760>,\n",
       "  <visits.visit.Visit at 0x7ff26b8e9e80>,\n",
       "  <visits.visit.Visit at 0x7ff26b8e9f70>,\n",
       "  <visits.visit.Visit at 0x7ff26b8e9400>,\n",
       "  <visits.visit.Visit at 0x7ff26b8e9100>,\n",
       "  <visits.visit.Visit at 0x7ff26b8e9d90>,\n",
       "  <visits.visit.Visit at 0x7ff26b8f0310>,\n",
       "  <visits.visit.Visit at 0x7ff26b8f0eb0>,\n",
       "  <visits.visit.Visit at 0x7ff26b8f0c10>,\n",
       "  <visits.visit.Visit at 0x7ff26b8e9520>,\n",
       "  <visits.visit.Visit at 0x7ff26b8f0640>,\n",
       "  <visits.visit.Visit at 0x7ff26b8f0af0>,\n",
       "  <visits.visit.Visit at 0x7ff26b8f0d60>,\n",
       "  <visits.visit.Visit at 0x7ff26b8f7eb0>,\n",
       "  <visits.visit.Visit at 0x7ff26b8f0c70>,\n",
       "  <visits.visit.Visit at 0x7ff26b8f0a90>,\n",
       "  <visits.visit.Visit at 0x7ff26b8f7b20>,\n",
       "  <visits.visit.Visit at 0x7ff26b8f7190>,\n",
       "  <visits.visit.Visit at 0x7ff26b8fec70>,\n",
       "  <visits.visit.Visit at 0x7ff26b8feeb0>,\n",
       "  <visits.visit.Visit at 0x7ff26b8feac0>,\n",
       "  <visits.visit.Visit at 0x7ff26b8fe790>,\n",
       "  <visits.visit.Visit at 0x7ff26b883ac0>,\n",
       "  <visits.visit.Visit at 0x7ff26b883dc0>,\n",
       "  <visits.visit.Visit at 0x7ff26b883cd0>,\n",
       "  <visits.visit.Visit at 0x7ff26b883a30>,\n",
       "  <visits.visit.Visit at 0x7ff26b88b7f0>,\n",
       "  <visits.visit.Visit at 0x7ff26b88bf40>,\n",
       "  <visits.visit.Visit at 0x7ff26b88bd60>,\n",
       "  <visits.visit.Visit at 0x7ff26b8835e0>,\n",
       "  <visits.visit.Visit at 0x7ff26b88bac0>,\n",
       "  <visits.visit.Visit at 0x7ff26b88bdc0>,\n",
       "  <visits.visit.Visit at 0x7ff26b88bca0>,\n",
       "  <visits.visit.Visit at 0x7ff26b88bf10>,\n",
       "  <visits.visit.Visit at 0x7ff26b88ba30>,\n",
       "  <visits.visit.Visit at 0x7ff26b893ca0>,\n",
       "  <visits.visit.Visit at 0x7ff26b8937c0>,\n",
       "  <visits.visit.Visit at 0x7ff26b8939d0>,\n",
       "  <visits.visit.Visit at 0x7ff26b8937f0>,\n",
       "  <visits.visit.Visit at 0x7ff26b893d60>,\n",
       "  <visits.visit.Visit at 0x7ff26b8999d0>,\n",
       "  <visits.visit.Visit at 0x7ff26b899f10>,\n",
       "  <visits.visit.Visit at 0x7ff26b8994f0>,\n",
       "  <visits.visit.Visit at 0x7ff26b899fd0>,\n",
       "  <visits.visit.Visit at 0x7ff26b899ac0>,\n",
       "  <visits.visit.Visit at 0x7ff26b899ee0>,\n",
       "  <visits.visit.Visit at 0x7ff26b8a06a0>,\n",
       "  <visits.visit.Visit at 0x7ff26b8a0b80>,\n",
       "  <visits.visit.Visit at 0x7ff26b8a0bb0>,\n",
       "  <visits.visit.Visit at 0x7ff26b961b20>,\n",
       "  <visits.visit.Visit at 0x7ff26b8a0a30>,\n",
       "  <visits.visit.Visit at 0x7ff26b8a7a00>,\n",
       "  <visits.visit.Visit at 0x7ff26b8a79d0>,\n",
       "  <visits.visit.Visit at 0x7ff26b8a7580>,\n",
       "  <visits.visit.Visit at 0x7ff26b8a7eb0>,\n",
       "  <visits.visit.Visit at 0x7ff26b8a7c40>,\n",
       "  <visits.visit.Visit at 0x7ff26b8addc0>,\n",
       "  <visits.visit.Visit at 0x7ff26b8adb20>,\n",
       "  <visits.visit.Visit at 0x7ff26b8ad7f0>,\n",
       "  <visits.visit.Visit at 0x7ff26b8adc10>,\n",
       "  <visits.visit.Visit at 0x7ff26b8b58b0>,\n",
       "  <visits.visit.Visit at 0x7ff26b8b5580>,\n",
       "  <visits.visit.Visit at 0x7ff26b8baee0>,\n",
       "  <visits.visit.Visit at 0x7ff26b8bafd0>,\n",
       "  <visits.visit.Visit at 0x7ff26b8ba190>,\n",
       "  <visits.visit.Visit at 0x7ff26b8ba8b0>,\n",
       "  <visits.visit.Visit at 0x7ff26b842c70>,\n",
       "  <visits.visit.Visit at 0x7ff26b842ca0>,\n",
       "  <visits.visit.Visit at 0x7ff26b842190>,\n",
       "  <visits.visit.Visit at 0x7ff26b842820>,\n",
       "  <visits.visit.Visit at 0x7ff26b842ee0>,\n",
       "  <visits.visit.Visit at 0x7ff26b842a00>,\n",
       "  <visits.visit.Visit at 0x7ff26b848790>,\n",
       "  <visits.visit.Visit at 0x7ff26b8421c0>,\n",
       "  <visits.visit.Visit at 0x7ff26b848730>,\n",
       "  <visits.visit.Visit at 0x7ff26b848b50>,\n",
       "  <visits.visit.Visit at 0x7ff26b848ee0>,\n",
       "  <visits.visit.Visit at 0x7ff26b848040>,\n",
       "  <visits.visit.Visit at 0x7ff26b848520>,\n",
       "  <visits.visit.Visit at 0x7ff26b84ea30>,\n",
       "  <visits.visit.Visit at 0x7ff26b84efd0>,\n",
       "  <visits.visit.Visit at 0x7ff26b856ca0>,\n",
       "  <visits.visit.Visit at 0x7ff26b856940>,\n",
       "  <visits.visit.Visit at 0x7ff26b856d60>,\n",
       "  <visits.visit.Visit at 0x7ff26b856190>,\n",
       "  <visits.visit.Visit at 0x7ff26b8563d0>,\n",
       "  <visits.visit.Visit at 0x7ff26b8996a0>,\n",
       "  <visits.visit.Visit at 0x7ff26b856b20>,\n",
       "  <visits.visit.Visit at 0x7ff26b85d520>,\n",
       "  <visits.visit.Visit at 0x7ff26b85d7f0>,\n",
       "  <visits.visit.Visit at 0x7ff26b85db20>,\n",
       "  <visits.visit.Visit at 0x7ff26b863bb0>,\n",
       "  <visits.visit.Visit at 0x7ff26b856eb0>,\n",
       "  <visits.visit.Visit at 0x7ff26b863850>,\n",
       "  <visits.visit.Visit at 0x7ff26b863a00>,\n",
       "  <visits.visit.Visit at 0x7ff26b868eb0>,\n",
       "  <visits.visit.Visit at 0x7ff26b8635e0>,\n",
       "  <visits.visit.Visit at 0x7ff26b868fa0>,\n",
       "  <visits.visit.Visit at 0x7ff26b868670>,\n",
       "  <visits.visit.Visit at 0x7ff26b868520>,\n",
       "  <visits.visit.Visit at 0x7ff26b868d30>,\n",
       "  <visits.visit.Visit at 0x7ff26b870400>,\n",
       "  <visits.visit.Visit at 0x7ff26b870cd0>,\n",
       "  <visits.visit.Visit at 0x7ff26b870b20>,\n",
       "  <visits.visit.Visit at 0x7ff26b870160>,\n",
       "  <visits.visit.Visit at 0x7ff26b870fd0>,\n",
       "  <visits.visit.Visit at 0x7ff26b870be0>,\n",
       "  <visits.visit.Visit at 0x7ff26b878ee0>,\n",
       "  <visits.visit.Visit at 0x7ff26b8788e0>,\n",
       "  <visits.visit.Visit at 0x7ff26b878ca0>,\n",
       "  <visits.visit.Visit at 0x7ff26b878fd0>,\n",
       "  <visits.visit.Visit at 0x7ff26b87ad00>,\n",
       "  <visits.visit.Visit at 0x7ff26b878160>,\n",
       "  <visits.visit.Visit at 0x7ff26b878730>,\n",
       "  <visits.visit.Visit at 0x7ff26b87ac70>,\n",
       "  <visits.visit.Visit at 0x7ff26b87afd0>,\n",
       "  <visits.visit.Visit at 0x7ff25ea8d640>,\n",
       "  <visits.visit.Visit at 0x7ff25ea8dd90>,\n",
       "  <visits.visit.Visit at 0x7ff25ea8d190>,\n",
       "  <visits.visit.Visit at 0x7ff25ea93eb0>,\n",
       "  <visits.visit.Visit at 0x7ff25ea8db50>,\n",
       "  <visits.visit.Visit at 0x7ff25ea938b0>,\n",
       "  <visits.visit.Visit at 0x7ff25ea93af0>,\n",
       "  <visits.visit.Visit at 0x7ff25ea93f70>,\n",
       "  <visits.visit.Visit at 0x7ff25ea93b20>,\n",
       "  <visits.visit.Visit at 0x7ff25ea93640>,\n",
       "  <visits.visit.Visit at 0x7ff25ea93be0>,\n",
       "  <visits.visit.Visit at 0x7ff25ea93e80>,\n",
       "  <visits.visit.Visit at 0x7ff25ea99fa0>,\n",
       "  <visits.visit.Visit at 0x7ff25ea99ee0>,\n",
       "  <visits.visit.Visit at 0x7ff25ea99a00>,\n",
       "  <visits.visit.Visit at 0x7ff25eaa0640>,\n",
       "  <visits.visit.Visit at 0x7ff25eaa0be0>,\n",
       "  <visits.visit.Visit at 0x7ff25eaa0700>,\n",
       "  <visits.visit.Visit at 0x7ff25eaa0dc0>,\n",
       "  <visits.visit.Visit at 0x7ff25eaa0f70>,\n",
       "  <visits.visit.Visit at 0x7ff25eaa9a90>,\n",
       "  <visits.visit.Visit at 0x7ff25eaa9760>,\n",
       "  <visits.visit.Visit at 0x7ff25eaa9eb0>,\n",
       "  <visits.visit.Visit at 0x7ff25eaaf370>,\n",
       "  <visits.visit.Visit at 0x7ff25eaa9820>,\n",
       "  <visits.visit.Visit at 0x7ff25eaafd00>,\n",
       "  <visits.visit.Visit at 0x7ff25eaafc70>,\n",
       "  <visits.visit.Visit at 0x7ff25eaafdf0>,\n",
       "  <visits.visit.Visit at 0x7ff25eaaf4c0>,\n",
       "  <visits.visit.Visit at 0x7ff25eaafc40>,\n",
       "  <visits.visit.Visit at 0x7ff25eab6790>,\n",
       "  <visits.visit.Visit at 0x7ff25eabdd90>,\n",
       "  <visits.visit.Visit at 0x7ff25eabd5b0>,\n",
       "  <visits.visit.Visit at 0x7ff25eabdc40>,\n",
       "  <visits.visit.Visit at 0x7ff25eabdeb0>,\n",
       "  <visits.visit.Visit at 0x7ff25eabd9d0>,\n",
       "  <visits.visit.Visit at 0x7ff25eabdfd0>,\n",
       "  <visits.visit.Visit at 0x7ff25eabd730>,\n",
       "  <visits.visit.Visit at 0x7ff25eabda00>,\n",
       "  <visits.visit.Visit at 0x7ff25eabd3d0>,\n",
       "  <visits.visit.Visit at 0x7ff25eac2400>,\n",
       "  <visits.visit.Visit at 0x7ff25eac2970>,\n",
       "  <visits.visit.Visit at 0x7ff25eac2d90>,\n",
       "  <visits.visit.Visit at 0x7ff25eac25e0>,\n",
       "  <visits.visit.Visit at 0x7ff25eacaca0>,\n",
       "  <visits.visit.Visit at 0x7ff25eaca4f0>,\n",
       "  <visits.visit.Visit at 0x7ff25eacaa00>,\n",
       "  <visits.visit.Visit at 0x7ff25eaca9a0>,\n",
       "  <visits.visit.Visit at 0x7ff25ead0ac0>,\n",
       "  <visits.visit.Visit at 0x7ff25ead0fa0>,\n",
       "  <visits.visit.Visit at 0x7ff25ead05b0>,\n",
       "  <visits.visit.Visit at 0x7ff25ead9e50>,\n",
       "  <visits.visit.Visit at 0x7ff25ead9be0>,\n",
       "  <visits.visit.Visit at 0x7ff25ead9fa0>,\n",
       "  <visits.visit.Visit at 0x7ff25ead9640>,\n",
       "  <visits.visit.Visit at 0x7ff25ead95e0>,\n",
       "  <visits.visit.Visit at 0x7ff25ead9f40>,\n",
       "  <visits.visit.Visit at 0x7ff25ead9760>,\n",
       "  <visits.visit.Visit at 0x7ff25ead9eb0>,\n",
       "  <visits.visit.Visit at 0x7ff25eaded90>,\n",
       "  <visits.visit.Visit at 0x7ff26b85dca0>,\n",
       "  <visits.visit.Visit at 0x7ff25eade610>,\n",
       "  <visits.visit.Visit at 0x7ff25eadec40>,\n",
       "  <visits.visit.Visit at 0x7ff25eadefd0>,\n",
       "  <visits.visit.Visit at 0x7ff25eadeeb0>,\n",
       "  <visits.visit.Visit at 0x7ff25eae6d30>,\n",
       "  <visits.visit.Visit at 0x7ff25eae6a00>,\n",
       "  <visits.visit.Visit at 0x7ff25eae6400>,\n",
       "  <visits.visit.Visit at 0x7ff25eae6790>,\n",
       "  <visits.visit.Visit at 0x7ff25eaebaf0>,\n",
       "  <visits.visit.Visit at 0x7ff25eaeb9a0>,\n",
       "  <visits.visit.Visit at 0x7ff25eaeb400>,\n",
       "  <visits.visit.Visit at 0x7ff25eaeb9d0>,\n",
       "  <visits.visit.Visit at 0x7ff25eaf2d90>,\n",
       "  <visits.visit.Visit at 0x7ff25eaf2730>,\n",
       "  <visits.visit.Visit at 0x7ff25eaf2610>,\n",
       "  <visits.visit.Visit at 0x7ff25eaf2e50>,\n",
       "  <visits.visit.Visit at 0x7ff25eaf2820>,\n",
       "  <visits.visit.Visit at 0x7ff25eaf8640>,\n",
       "  <visits.visit.Visit at 0x7ff25eaf8d90>,\n",
       "  <visits.visit.Visit at 0x7ff25eaf86d0>,\n",
       "  <visits.visit.Visit at 0x7ff25eaf8460>,\n",
       "  <visits.visit.Visit at 0x7ff25eb00f40>,\n",
       "  <visits.visit.Visit at 0x7ff25eb00eb0>,\n",
       "  <visits.visit.Visit at 0x7ff25eb00a30>,\n",
       "  <visits.visit.Visit at 0x7ff25eb00040>,\n",
       "  <visits.visit.Visit at 0x7ff25eb00c10>,\n",
       "  <visits.visit.Visit at 0x7ff25eb06d60>,\n",
       "  <visits.visit.Visit at 0x7ff25eb00e50>,\n",
       "  <visits.visit.Visit at 0x7ff25eb005e0>,\n",
       "  <visits.visit.Visit at 0x7ff25eb06c40>,\n",
       "  <visits.visit.Visit at 0x7ff25eb067c0>,\n",
       "  <visits.visit.Visit at 0x7ff25eb06f70>,\n",
       "  <visits.visit.Visit at 0x7ff260be0a30>,\n",
       "  <visits.visit.Visit at 0x7ff25eb06ee0>,\n",
       "  <visits.visit.Visit at 0x7ff25ead99d0>,\n",
       "  <visits.visit.Visit at 0x7ff260be07c0>,\n",
       "  <visits.visit.Visit at 0x7ff260be08e0>,\n",
       "  <visits.visit.Visit at 0x7ff260be0b50>,\n",
       "  <visits.visit.Visit at 0x7ff260be6730>,\n",
       "  <visits.visit.Visit at 0x7ff260be60d0>,\n",
       "  <visits.visit.Visit at 0x7ff260beebe0>,\n",
       "  <visits.visit.Visit at 0x7ff260beed90>,\n",
       "  <visits.visit.Visit at 0x7ff260beef40>,\n",
       "  <visits.visit.Visit at 0x7ff260beef10>,\n",
       "  <visits.visit.Visit at 0x7ff260beebb0>,\n",
       "  <visits.visit.Visit at 0x7ff260bf3fd0>,\n",
       "  <visits.visit.Visit at 0x7ff260bf36a0>,\n",
       "  <visits.visit.Visit at 0x7ff260beedc0>,\n",
       "  <visits.visit.Visit at 0x7ff260bf3e20>,\n",
       "  <visits.visit.Visit at 0x7ff26b8d8820>,\n",
       "  <visits.visit.Visit at 0x7ff26b8d8f40>,\n",
       "  <visits.visit.Visit at 0x7ff25eb06d00>,\n",
       "  <visits.visit.Visit at 0x7ff260bf3a30>,\n",
       "  <visits.visit.Visit at 0x7ff26b8d8040>,\n",
       "  <visits.visit.Visit at 0x7ff26b8d8cd0>,\n",
       "  <visits.visit.Visit at 0x7ff26b8d8b80>,\n",
       "  <visits.visit.Visit at 0x7ff26b8d8df0>,\n",
       "  <visits.visit.Visit at 0x7ff260c01d00>,\n",
       "  <visits.visit.Visit at 0x7ff26b8d8fa0>,\n",
       "  <visits.visit.Visit at 0x7ff260c01490>,\n",
       "  <visits.visit.Visit at 0x7ff26b8d8d90>,\n",
       "  <visits.visit.Visit at 0x7ff260c01c10>,\n",
       "  <visits.visit.Visit at 0x7ff260c01bb0>,\n",
       "  <visits.visit.Visit at 0x7ff260c01ee0>,\n",
       "  <visits.visit.Visit at 0x7ff260c01be0>,\n",
       "  <visits.visit.Visit at 0x7ff260c09bb0>,\n",
       "  <visits.visit.Visit at 0x7ff260c09d00>,\n",
       "  <visits.visit.Visit at 0x7ff260c09f40>,\n",
       "  <visits.visit.Visit at 0x7ff260c090d0>,\n",
       "  <visits.visit.Visit at 0x7ff260c098e0>,\n",
       "  <visits.visit.Visit at 0x7ff260c0da90>,\n",
       "  <visits.visit.Visit at 0x7ff260c0dcd0>,\n",
       "  <visits.visit.Visit at 0x7ff260c0df70>,\n",
       "  <visits.visit.Visit at 0x7ff260c0d490>,\n",
       "  <visits.visit.Visit at 0x7ff260c0dbb0>,\n",
       "  <visits.visit.Visit at 0x7ff260c16ca0>,\n",
       "  <visits.visit.Visit at 0x7ff260c0ddc0>,\n",
       "  <visits.visit.Visit at 0x7ff260c1da90>,\n",
       "  <visits.visit.Visit at 0x7ff260c1df70>,\n",
       "  <visits.visit.Visit at 0x7ff260c1dfd0>,\n",
       "  <visits.visit.Visit at 0x7ff260c1dc10>,\n",
       "  <visits.visit.Visit at 0x7ff260c1d8b0>,\n",
       "  <visits.visit.Visit at 0x7ff260c1dfa0>,\n",
       "  <visits.visit.Visit at 0x7ff260c1d6a0>,\n",
       "  <visits.visit.Visit at 0x7ff260c1d850>,\n",
       "  <visits.visit.Visit at 0x7ff260c1ddf0>,\n",
       "  <visits.visit.Visit at 0x7ff260c1d880>,\n",
       "  <visits.visit.Visit at 0x7ff260c23730>,\n",
       "  <visits.visit.Visit at 0x7ff260c239a0>,\n",
       "  <visits.visit.Visit at 0x7ff260c23fa0>,\n",
       "  <visits.visit.Visit at 0x7ff260c23970>,\n",
       "  <visits.visit.Visit at 0x7ff260c23e50>,\n",
       "  <visits.visit.Visit at 0x7ff260c2bbb0>,\n",
       "  <visits.visit.Visit at 0x7ff260c2bd60>,\n",
       "  <visits.visit.Visit at 0x7ff260c2b940>,\n",
       "  <visits.visit.Visit at 0x7ff260c2bfd0>,\n",
       "  <visits.visit.Visit at 0x7ff260c2be20>,\n",
       "  <visits.visit.Visit at 0x7ff260c30fa0>,\n",
       "  <visits.visit.Visit at 0x7ff260c30880>,\n",
       "  <visits.visit.Visit at 0x7ff260c3bc70>,\n",
       "  <visits.visit.Visit at 0x7ff260c2b880>,\n",
       "  <visits.visit.Visit at 0x7ff260c3be20>,\n",
       "  <visits.visit.Visit at 0x7ff260c3bc10>,\n",
       "  <visits.visit.Visit at 0x7ff260c3be50>,\n",
       "  <visits.visit.Visit at 0x7ff260c3bc40>,\n",
       "  <visits.visit.Visit at 0x7ff260c3be80>,\n",
       "  <visits.visit.Visit at 0x7ff260c40940>,\n",
       "  <visits.visit.Visit at 0x7ff260c40e80>,\n",
       "  <visits.visit.Visit at 0x7ff260c40b20>,\n",
       "  <visits.visit.Visit at 0x7ff260c40d30>,\n",
       "  <visits.visit.Visit at 0x7ff260c46d30>,\n",
       "  <visits.visit.Visit at 0x7ff260c46af0>,\n",
       "  <visits.visit.Visit at 0x7ff260c469a0>,\n",
       "  <visits.visit.Visit at 0x7ff260c46e20>,\n",
       "  <visits.visit.Visit at 0x7ff260c46d60>,\n",
       "  <visits.visit.Visit at 0x7ff260c4c850>,\n",
       "  <visits.visit.Visit at 0x7ff260c4cfa0>,\n",
       "  <visits.visit.Visit at 0x7ff260c4cd90>,\n",
       "  <visits.visit.Visit at 0x7ff260c4c430>,\n",
       "  <visits.visit.Visit at 0x7ff260c4c880>,\n",
       "  <visits.visit.Visit at 0x7ff260c531f0>,\n",
       "  <visits.visit.Visit at 0x7ff260c4cfd0>,\n",
       "  <visits.visit.Visit at 0x7ff260c53cd0>,\n",
       "  <visits.visit.Visit at 0x7ff260c533a0>,\n",
       "  <visits.visit.Visit at 0x7ff260c53640>,\n",
       "  <visits.visit.Visit at 0x7ff260c59d60>,\n",
       "  <visits.visit.Visit at 0x7ff260c59fa0>,\n",
       "  <visits.visit.Visit at 0x7ff260c59820>,\n",
       "  <visits.visit.Visit at 0x7ff260c59880>,\n",
       "  <visits.visit.Visit at 0x7ff260c627c0>,\n",
       "  <visits.visit.Visit at 0x7ff260c62820>,\n",
       "  <visits.visit.Visit at 0x7ff260c62f40>,\n",
       "  <visits.visit.Visit at 0x7ff260c62e80>,\n",
       "  <visits.visit.Visit at 0x7ff260c62940>,\n",
       "  <visits.visit.Visit at 0x7ff260c68d30>,\n",
       "  <visits.visit.Visit at 0x7ff260c68100>,\n",
       "  <visits.visit.Visit at 0x7ff260c68fa0>,\n",
       "  <visits.visit.Visit at 0x7ff260c68df0>,\n",
       "  <visits.visit.Visit at 0x7ff260c68820>,\n",
       "  <visits.visit.Visit at 0x7ff260c6ec40>,\n",
       "  <visits.visit.Visit at 0x7ff260c75760>,\n",
       "  <visits.visit.Visit at 0x7ff260c75e20>,\n",
       "  <visits.visit.Visit at 0x7ff260c75ca0>,\n",
       "  <visits.visit.Visit at 0x7ff260c75f70>,\n",
       "  <visits.visit.Visit at 0x7ff260c75a90>,\n",
       "  <visits.visit.Visit at 0x7ff260c755b0>,\n",
       "  <visits.visit.Visit at 0x7ff260bf3220>,\n",
       "  <visits.visit.Visit at 0x7ff260c7b7f0>,\n",
       "  <visits.visit.Visit at 0x7ff260c7bd90>,\n",
       "  <visits.visit.Visit at 0x7ff260c7bf70>,\n",
       "  <visits.visit.Visit at 0x7ff260c7bfd0>,\n",
       "  <visits.visit.Visit at 0x7ff260c7bd30>,\n",
       "  <visits.visit.Visit at 0x7ff260c7ba90>,\n",
       "  <visits.visit.Visit at 0x7ff260c7be80>,\n",
       "  <visits.visit.Visit at 0x7ff260c7b0a0>,\n",
       "  <visits.visit.Visit at 0x7ff260c82e20>,\n",
       "  <visits.visit.Visit at 0x7ff260c7bb80>,\n",
       "  <visits.visit.Visit at 0x7ff260c8af70>,\n",
       "  <visits.visit.Visit at 0x7ff260c8adc0>,\n",
       "  <visits.visit.Visit at 0x7ff260c8ae80>,\n",
       "  <visits.visit.Visit at 0x7ff260c8ac40>,\n",
       "  <visits.visit.Visit at 0x7ff260c8afd0>,\n",
       "  <visits.visit.Visit at 0x7ff260c90f70>,\n",
       "  <visits.visit.Visit at 0x7ff260c90d60>,\n",
       "  <visits.visit.Visit at 0x7ff260c908b0>,\n",
       "  <visits.visit.Visit at 0x7ff260c90880>,\n",
       "  <visits.visit.Visit at 0x7ff260c909d0>,\n",
       "  <visits.visit.Visit at 0x7ff260c90d90>,\n",
       "  <visits.visit.Visit at 0x7ff260c96490>,\n",
       "  <visits.visit.Visit at 0x7ff260c96b50>,\n",
       "  <visits.visit.Visit at 0x7ff260c96d90>,\n",
       "  <visits.visit.Visit at 0x7ff263a3d940>,\n",
       "  <visits.visit.Visit at 0x7ff263a3dfa0>,\n",
       "  <visits.visit.Visit at 0x7ff263a3dd60>,\n",
       "  <visits.visit.Visit at 0x7ff260c96d30>,\n",
       "  <visits.visit.Visit at 0x7ff263a3d610>,\n",
       "  <visits.visit.Visit at 0x7ff263a3de20>,\n",
       "  <visits.visit.Visit at 0x7ff263a45c10>,\n",
       "  <visits.visit.Visit at 0x7ff263a45fd0>,\n",
       "  <visits.visit.Visit at 0x7ff263a45640>,\n",
       "  <visits.visit.Visit at 0x7ff263a45e20>,\n",
       "  <visits.visit.Visit at 0x7ff263a459d0>,\n",
       "  <visits.visit.Visit at 0x7ff263a45880>,\n",
       "  <visits.visit.Visit at 0x7ff263a4adc0>,\n",
       "  <visits.visit.Visit at 0x7ff263a4a850>,\n",
       "  <visits.visit.Visit at 0x7ff263a4a760>,\n",
       "  <visits.visit.Visit at 0x7ff263a4ac40>,\n",
       "  <visits.visit.Visit at 0x7ff263a4ad60>,\n",
       "  <visits.visit.Visit at 0x7ff263a4afd0>,\n",
       "  <visits.visit.Visit at 0x7ff263a4a940>,\n",
       "  <visits.visit.Visit at 0x7ff263a50520>,\n",
       "  <visits.visit.Visit at 0x7ff263a500d0>,\n",
       "  <visits.visit.Visit at 0x7ff263a509d0>,\n",
       "  <visits.visit.Visit at 0x7ff263a50bb0>,\n",
       "  <visits.visit.Visit at 0x7ff263a50880>,\n",
       "  <visits.visit.Visit at 0x7ff263a59d90>,\n",
       "  <visits.visit.Visit at 0x7ff263a50d30>,\n",
       "  <visits.visit.Visit at 0x7ff263a59fd0>,\n",
       "  <visits.visit.Visit at 0x7ff263a50fd0>,\n",
       "  <visits.visit.Visit at 0x7ff263a59f10>,\n",
       "  <visits.visit.Visit at 0x7ff263a59ac0>,\n",
       "  <visits.visit.Visit at 0x7ff263a59c70>,\n",
       "  <visits.visit.Visit at 0x7ff263a59730>,\n",
       "  <visits.visit.Visit at 0x7ff263a5feb0>,\n",
       "  <visits.visit.Visit at 0x7ff263a5fc70>,\n",
       "  <visits.visit.Visit at 0x7ff263a5f3a0>,\n",
       "  <visits.visit.Visit at 0x7ff263a5f9a0>,\n",
       "  <visits.visit.Visit at 0x7ff260c75700>,\n",
       "  <visits.visit.Visit at 0x7ff263a5ffd0>,\n",
       "  <visits.visit.Visit at 0x7ff263a67ac0>,\n",
       "  <visits.visit.Visit at 0x7ff263a67ca0>,\n",
       "  <visits.visit.Visit at 0x7ff263a67520>,\n",
       "  <visits.visit.Visit at 0x7ff263a67a30>,\n",
       "  <visits.visit.Visit at 0x7ff263a673d0>,\n",
       "  <visits.visit.Visit at 0x7ff263a67fd0>,\n",
       "  <visits.visit.Visit at 0x7ff263a67c40>,\n",
       "  <visits.visit.Visit at 0x7ff263a6ef10>,\n",
       "  <visits.visit.Visit at 0x7ff263a6e730>,\n",
       "  <visits.visit.Visit at 0x7ff263a6e8e0>,\n",
       "  <visits.visit.Visit at 0x7ff263a6e9a0>,\n",
       "  <visits.visit.Visit at 0x7ff263a6edc0>,\n",
       "  <visits.visit.Visit at 0x7ff263a75b50>,\n",
       "  <visits.visit.Visit at 0x7ff263a6e670>,\n",
       "  <visits.visit.Visit at 0x7ff263a75cd0>,\n",
       "  <visits.visit.Visit at 0x7ff263a758e0>,\n",
       "  <visits.visit.Visit at 0x7ff263a75d30>,\n",
       "  <visits.visit.Visit at 0x7ff263a6edf0>,\n",
       "  <visits.visit.Visit at 0x7ff263a75f70>,\n",
       "  <visits.visit.Visit at 0x7ff263a75fa0>,\n",
       "  <visits.visit.Visit at 0x7ff263a7be50>,\n",
       "  <visits.visit.Visit at 0x7ff263a7bdf0>,\n",
       "  <visits.visit.Visit at 0x7ff263a7bbb0>,\n",
       "  <visits.visit.Visit at 0x7ff263a7b430>,\n",
       "  <visits.visit.Visit at 0x7ff263a82340>,\n",
       "  <visits.visit.Visit at 0x7ff263a82cd0>,\n",
       "  <visits.visit.Visit at 0x7ff263a82e20>,\n",
       "  <visits.visit.Visit at 0x7ff263a82580>,\n",
       "  <visits.visit.Visit at 0x7ff263a82df0>,\n",
       "  <visits.visit.Visit at 0x7ff263a82910>,\n",
       "  <visits.visit.Visit at 0x7ff263a82e50>,\n",
       "  <visits.visit.Visit at 0x7ff263a82ca0>,\n",
       "  <visits.visit.Visit at 0x7ff263a8a5b0>,\n",
       "  <visits.visit.Visit at 0x7ff263a8aa60>,\n",
       "  <visits.visit.Visit at 0x7ff263a8af40>,\n",
       "  <visits.visit.Visit at 0x7ff263a8abb0>,\n",
       "  <visits.visit.Visit at 0x7ff263a8adf0>,\n",
       "  <visits.visit.Visit at 0x7ff263a5fb80>,\n",
       "  <visits.visit.Visit at 0x7ff263a8fa90>,\n",
       "  <visits.visit.Visit at 0x7ff263a99e20>,\n",
       "  <visits.visit.Visit at 0x7ff263a99610>,\n",
       "  <visits.visit.Visit at 0x7ff263a8ad90>,\n",
       "  <visits.visit.Visit at 0x7ff263a99910>,\n",
       "  <visits.visit.Visit at 0x7ff263a99cd0>,\n",
       "  <visits.visit.Visit at 0x7ff263a993d0>,\n",
       "  <visits.visit.Visit at 0x7ff263a99e80>,\n",
       "  <visits.visit.Visit at 0x7ff263a99af0>,\n",
       "  <visits.visit.Visit at 0x7ff263a99d00>,\n",
       "  <visits.visit.Visit at 0x7ff263a9efd0>,\n",
       "  <visits.visit.Visit at 0x7ff263a9e100>,\n",
       "  <visits.visit.Visit at 0x7ff263a9e9d0>,\n",
       "  <visits.visit.Visit at 0x7ff263a9e4c0>,\n",
       "  <visits.visit.Visit at 0x7ff263a9ee80>,\n",
       "  <visits.visit.Visit at 0x7ff263a9ec40>,\n",
       "  <visits.visit.Visit at 0x7ff263aa4d90>,\n",
       "  <visits.visit.Visit at 0x7ff263aa4a90>,\n",
       "  <visits.visit.Visit at 0x7ff263aa4970>,\n",
       "  <visits.visit.Visit at 0x7ff263aa4fd0>,\n",
       "  <visits.visit.Visit at 0x7ff263aa4100>,\n",
       "  <visits.visit.Visit at 0x7ff263aaacd0>,\n",
       "  <visits.visit.Visit at 0x7ff263aa4e20>,\n",
       "  <visits.visit.Visit at 0x7ff263aaa2e0>,\n",
       "  <visits.visit.Visit at 0x7ff263aa4d30>,\n",
       "  <visits.visit.Visit at 0x7ff263aaa880>,\n",
       "  <visits.visit.Visit at 0x7ff263aaac40>,\n",
       "  <visits.visit.Visit at 0x7ff263ab2d60>,\n",
       "  <visits.visit.Visit at 0x7ff263ab25e0>,\n",
       "  <visits.visit.Visit at 0x7ff263ab9b20>,\n",
       "  <visits.visit.Visit at 0x7ff263ab2fa0>,\n",
       "  <visits.visit.Visit at 0x7ff263ab9d00>,\n",
       "  <visits.visit.Visit at 0x7ff263ab9e50>,\n",
       "  <visits.visit.Visit at 0x7ff263ab9d30>,\n",
       "  <visits.visit.Visit at 0x7ff263ab9cd0>,\n",
       "  <visits.visit.Visit at 0x7ff263ab9ac0>,\n",
       "  <visits.visit.Visit at 0x7ff263ac0b20>,\n",
       "  <visits.visit.Visit at 0x7ff263ac08e0>,\n",
       "  <visits.visit.Visit at 0x7ff263ac0e50>,\n",
       "  <visits.visit.Visit at 0x7ff263ac08b0>,\n",
       "  <visits.visit.Visit at 0x7ff263ac09d0>,\n",
       "  <visits.visit.Visit at 0x7ff263ac7b20>,\n",
       "  <visits.visit.Visit at 0x7ff263ac7fa0>,\n",
       "  ...],\n",
       " 3: [<visits.visit.Visit at 0x7ff263c15dc0>,\n",
       "  <visits.visit.Visit at 0x7ff260ccfe80>,\n",
       "  <visits.visit.Visit at 0x7ff26bb9fee0>,\n",
       "  <visits.visit.Visit at 0x7ff26bb9f220>,\n",
       "  <visits.visit.Visit at 0x7ff26bb95fa0>,\n",
       "  <visits.visit.Visit at 0x7ff26bb82e20>,\n",
       "  <visits.visit.Visit at 0x7ff26bb66d30>,\n",
       "  <visits.visit.Visit at 0x7ff26bb6de80>,\n",
       "  <visits.visit.Visit at 0x7ff26bb2fc10>,\n",
       "  <visits.visit.Visit at 0x7ff26bb37dc0>,\n",
       "  <visits.visit.Visit at 0x7ff26bb3e7c0>,\n",
       "  <visits.visit.Visit at 0x7ff26bac4d60>,\n",
       "  <visits.visit.Visit at 0x7ff26bad36a0>,\n",
       "  <visits.visit.Visit at 0x7ff26baf6c70>,\n",
       "  <visits.visit.Visit at 0x7ff26baffa30>,\n",
       "  <visits.visit.Visit at 0x7ff26ba83220>,\n",
       "  <visits.visit.Visit at 0x7ff26babf7f0>,\n",
       "  <visits.visit.Visit at 0x7ff26ba46fa0>,\n",
       "  <visits.visit.Visit at 0x7ff26ba4e730>,\n",
       "  <visits.visit.Visit at 0x7ff26ba53670>,\n",
       "  <visits.visit.Visit at 0x7ff26ba75ee0>,\n",
       "  <visits.visit.Visit at 0x7ff26ba09880>,\n",
       "  <visits.visit.Visit at 0x7ff26ba1d7f0>,\n",
       "  <visits.visit.Visit at 0x7ff26ba25b80>,\n",
       "  <visits.visit.Visit at 0x7ff26ba2bf10>,\n",
       "  <visits.visit.Visit at 0x7ff26ba39a30>,\n",
       "  <visits.visit.Visit at 0x7ff26b9e1940>,\n",
       "  <visits.visit.Visit at 0x7ff26b9efd90>,\n",
       "  <visits.visit.Visit at 0x7ff26b984f10>,\n",
       "  <visits.visit.Visit at 0x7ff26b984640>,\n",
       "  <visits.visit.Visit at 0x7ff26b989760>,\n",
       "  <visits.visit.Visit at 0x7ff26b991c40>,\n",
       "  <visits.visit.Visit at 0x7ff26b997b80>,\n",
       "  <visits.visit.Visit at 0x7ff26b9a67f0>,\n",
       "  <visits.visit.Visit at 0x7ff26b9adb20>,\n",
       "  <visits.visit.Visit at 0x7ff26b9be970>,\n",
       "  <visits.visit.Visit at 0x7ff26b9beee0>,\n",
       "  <visits.visit.Visit at 0x7ff26b94a4c0>,\n",
       "  <visits.visit.Visit at 0x7ff26b959040>,\n",
       "  <visits.visit.Visit at 0x7ff26b96dd60>,\n",
       "  <visits.visit.Visit at 0x7ff26b974880>,\n",
       "  <visits.visit.Visit at 0x7ff26b910760>,\n",
       "  <visits.visit.Visit at 0x7ff26b9179d0>,\n",
       "  <visits.visit.Visit at 0x7ff26b924fd0>,\n",
       "  <visits.visit.Visit at 0x7ff26b924df0>,\n",
       "  <visits.visit.Visit at 0x7ff26b933d90>,\n",
       "  <visits.visit.Visit at 0x7ff26b8cddf0>,\n",
       "  <visits.visit.Visit at 0x7ff26b8d38e0>,\n",
       "  <visits.visit.Visit at 0x7ff26b8dbcd0>,\n",
       "  <visits.visit.Visit at 0x7ff26b8dbe80>,\n",
       "  <visits.visit.Visit at 0x7ff26b8e4f10>,\n",
       "  <visits.visit.Visit at 0x7ff26b8fefa0>,\n",
       "  <visits.visit.Visit at 0x7ff26b899d90>,\n",
       "  <visits.visit.Visit at 0x7ff26b8a04f0>,\n",
       "  <visits.visit.Visit at 0x7ff26b8ad580>,\n",
       "  <visits.visit.Visit at 0x7ff26b8ade20>,\n",
       "  <visits.visit.Visit at 0x7ff26b8b5f70>,\n",
       "  <visits.visit.Visit at 0x7ff26b8ba580>,\n",
       "  <visits.visit.Visit at 0x7ff26b856fd0>,\n",
       "  <visits.visit.Visit at 0x7ff26b863d90>,\n",
       "  <visits.visit.Visit at 0x7ff26b870d60>,\n",
       "  <visits.visit.Visit at 0x7ff26b878af0>,\n",
       "  <visits.visit.Visit at 0x7ff26b87a640>,\n",
       "  <visits.visit.Visit at 0x7ff25ea8d8e0>,\n",
       "  <visits.visit.Visit at 0x7ff25ea99790>,\n",
       "  <visits.visit.Visit at 0x7ff25eaa0df0>,\n",
       "  <visits.visit.Visit at 0x7ff25eaa0af0>,\n",
       "  <visits.visit.Visit at 0x7ff25eaa92b0>,\n",
       "  <visits.visit.Visit at 0x7ff25eab6fd0>,\n",
       "  <visits.visit.Visit at 0x7ff25eacafd0>,\n",
       "  <visits.visit.Visit at 0x7ff25eacad90>,\n",
       "  <visits.visit.Visit at 0x7ff25ead0520>,\n",
       "  <visits.visit.Visit at 0x7ff25eaebd30>,\n",
       "  <visits.visit.Visit at 0x7ff25eaf8fd0>,\n",
       "  <visits.visit.Visit at 0x7ff25eb00520>,\n",
       "  <visits.visit.Visit at 0x7ff260be6dc0>,\n",
       "  <visits.visit.Visit at 0x7ff260c0db80>,\n",
       "  <visits.visit.Visit at 0x7ff260c234c0>,\n",
       "  <visits.visit.Visit at 0x7ff260c30730>,\n",
       "  <visits.visit.Visit at 0x7ff260c40fa0>,\n",
       "  <visits.visit.Visit at 0x7ff260c46f10>,\n",
       "  <visits.visit.Visit at 0x7ff260c4cd30>,\n",
       "  <visits.visit.Visit at 0x7ff260c539d0>,\n",
       "  <visits.visit.Visit at 0x7ff260c59c10>,\n",
       "  <visits.visit.Visit at 0x7ff260c62cd0>,\n",
       "  <visits.visit.Visit at 0x7ff260c68490>,\n",
       "  <visits.visit.Visit at 0x7ff260c6e9a0>,\n",
       "  <visits.visit.Visit at 0x7ff260c75970>,\n",
       "  <visits.visit.Visit at 0x7ff260c96c40>,\n",
       "  <visits.visit.Visit at 0x7ff263a8fe50>,\n",
       "  <visits.visit.Visit at 0x7ff263a8fc70>,\n",
       "  <visits.visit.Visit at 0x7ff263aaafd0>,\n",
       "  <visits.visit.Visit at 0x7ff263ac0ac0>,\n",
       "  <visits.visit.Visit at 0x7ff263ad4ac0>,\n",
       "  <visits.visit.Visit at 0x7ff263adb730>,\n",
       "  <visits.visit.Visit at 0x7ff263ae0d30>,\n",
       "  <visits.visit.Visit at 0x7ff263c66160>,\n",
       "  <visits.visit.Visit at 0x7ff263c6ea00>,\n",
       "  <visits.visit.Visit at 0x7ff263c8fee0>,\n",
       "  <visits.visit.Visit at 0x7ff263c96dc0>,\n",
       "  <visits.visit.Visit at 0x7ff263c9fa30>,\n",
       "  <visits.visit.Visit at 0x7ff263cb13d0>,\n",
       "  <visits.visit.Visit at 0x7ff263cb8cd0>,\n",
       "  <visits.visit.Visit at 0x7ff263cc70d0>,\n",
       "  <visits.visit.Visit at 0x7ff263e23f10>,\n",
       "  <visits.visit.Visit at 0x7ff263e2bfd0>,\n",
       "  <visits.visit.Visit at 0x7ff263e38c70>,\n",
       "  <visits.visit.Visit at 0x7ff263e4a760>,\n",
       "  <visits.visit.Visit at 0x7ff263e53a60>,\n",
       "  <visits.visit.Visit at 0x7ff264c5aee0>,\n",
       "  <visits.visit.Visit at 0x7ff264c7dca0>,\n",
       "  <visits.visit.Visit at 0x7ff264c839d0>,\n",
       "  <visits.visit.Visit at 0x7ff264c97760>,\n",
       "  <visits.visit.Visit at 0x7ff264ca08e0>,\n",
       "  <visits.visit.Visit at 0x7ff264ca0b80>,\n",
       "  <visits.visit.Visit at 0x7ff264cabf40>,\n",
       "  <visits.visit.Visit at 0x7ff264cb2f10>,\n",
       "  <visits.visit.Visit at 0x7ff264cbffd0>,\n",
       "  <visits.visit.Visit at 0x7ff264cd53d0>,\n",
       "  <visits.visit.Visit at 0x7ff264cdbb20>,\n",
       "  <visits.visit.Visit at 0x7ff264ce3400>,\n",
       "  <visits.visit.Visit at 0x7ff264ce88e0>,\n",
       "  <visits.visit.Visit at 0x7ff264cf0df0>,\n",
       "  <visits.visit.Visit at 0x7ff264cf9040>,\n",
       "  <visits.visit.Visit at 0x7ff264cffe80>,\n",
       "  <visits.visit.Visit at 0x7ff264d188e0>,\n",
       "  <visits.visit.Visit at 0x7ff263e60790>,\n",
       "  <visits.visit.Visit at 0x7ff264d33b50>,\n",
       "  <visits.visit.Visit at 0x7ff264d45ee0>,\n",
       "  <visits.visit.Visit at 0x7ff264d4dfd0>,\n",
       "  <visits.visit.Visit at 0x7ff266c8caf0>,\n",
       "  <visits.visit.Visit at 0x7ff266c99a00>,\n",
       "  <visits.visit.Visit at 0x7ff266cb2d60>,\n",
       "  <visits.visit.Visit at 0x7ff266cc6f10>,\n",
       "  <visits.visit.Visit at 0x7ff266ccb580>,\n",
       "  <visits.visit.Visit at 0x7ff266cda6a0>,\n",
       "  <visits.visit.Visit at 0x7ff266ce40d0>,\n",
       "  <visits.visit.Visit at 0x7ff266d03be0>,\n",
       "  <visits.visit.Visit at 0x7ff266d10b50>,\n",
       "  <visits.visit.Visit at 0x7ff266cf3a90>,\n",
       "  <visits.visit.Visit at 0x7ff266d15a60>,\n",
       "  <visits.visit.Visit at 0x7ff266d15e20>,\n",
       "  <visits.visit.Visit at 0x7ff266d10f70>,\n",
       "  <visits.visit.Visit at 0x7ff266d2a520>,\n",
       "  <visits.visit.Visit at 0x7ff266d2ff70>,\n",
       "  <visits.visit.Visit at 0x7ff266d3d8e0>,\n",
       "  <visits.visit.Visit at 0x7ff266d44a90>,\n",
       "  <visits.visit.Visit at 0x7ff266d4c8e0>,\n",
       "  <visits.visit.Visit at 0x7ff266d4c0d0>,\n",
       "  <visits.visit.Visit at 0x7ff266d51df0>,\n",
       "  <visits.visit.Visit at 0x7ff266d58e50>,\n",
       "  <visits.visit.Visit at 0x7ff266d58790>,\n",
       "  <visits.visit.Visit at 0x7ff266d58e20>,\n",
       "  <visits.visit.Visit at 0x7ff266d58d00>,\n",
       "  <visits.visit.Visit at 0x7ff266d63e20>,\n",
       "  <visits.visit.Visit at 0x7ff266d637c0>,\n",
       "  <visits.visit.Visit at 0x7ff266d71b50>,\n",
       "  <visits.visit.Visit at 0x7ff266d798b0>,\n",
       "  <visits.visit.Visit at 0x7ff26708deb0>,\n",
       "  <visits.visit.Visit at 0x7ff26708dcd0>,\n",
       "  <visits.visit.Visit at 0x7ff2670948e0>,\n",
       "  <visits.visit.Visit at 0x7ff26709ad60>,\n",
       "  <visits.visit.Visit at 0x7ff26709afd0>,\n",
       "  <visits.visit.Visit at 0x7ff2670aeb50>,\n",
       "  <visits.visit.Visit at 0x7ff2670c2c40>,\n",
       "  <visits.visit.Visit at 0x7ff2670ca250>,\n",
       "  <visits.visit.Visit at 0x7ff2670d6fd0>,\n",
       "  <visits.visit.Visit at 0x7ff2670e3c70>,\n",
       "  <visits.visit.Visit at 0x7ff2670f49d0>,\n",
       "  <visits.visit.Visit at 0x7ff2670f8940>,\n",
       "  <visits.visit.Visit at 0x7ff267104ca0>,\n",
       "  <visits.visit.Visit at 0x7ff26710e8b0>,\n",
       "  <visits.visit.Visit at 0x7ff26710e280>,\n",
       "  <visits.visit.Visit at 0x7ff267113670>,\n",
       "  <visits.visit.Visit at 0x7ff267119c10>,\n",
       "  <visits.visit.Visit at 0x7ff267126d90>,\n",
       "  <visits.visit.Visit at 0x7ff26712d8b0>,\n",
       "  <visits.visit.Visit at 0x7ff2630ddf40>,\n",
       "  <visits.visit.Visit at 0x7ff267135d90>,\n",
       "  <visits.visit.Visit at 0x7ff26713b5e0>,\n",
       "  <visits.visit.Visit at 0x7ff266ca1f70>,\n",
       "  <visits.visit.Visit at 0x7ff26714ffd0>,\n",
       "  <visits.visit.Visit at 0x7ff2671589d0>,\n",
       "  <visits.visit.Visit at 0x7ff267158b20>,\n",
       "  <visits.visit.Visit at 0x7ff267167970>,\n",
       "  <visits.visit.Visit at 0x7ff267167fd0>,\n",
       "  <visits.visit.Visit at 0x7ff26716e4f0>,\n",
       "  <visits.visit.Visit at 0x7ff26716ebe0>,\n",
       "  <visits.visit.Visit at 0x7ff267174f10>,\n",
       "  <visits.visit.Visit at 0x7ff267174e20>,\n",
       "  <visits.visit.Visit at 0x7ff267180e80>,\n",
       "  <visits.visit.Visit at 0x7ff267188be0>,\n",
       "  <visits.visit.Visit at 0x7ff267196f10>,\n",
       "  <visits.visit.Visit at 0x7ff26719f5e0>,\n",
       "  <visits.visit.Visit at 0x7ff2671a4b80>,\n",
       "  <visits.visit.Visit at 0x7ff2671a4d30>,\n",
       "  <visits.visit.Visit at 0x7ff2671abfa0>,\n",
       "  <visits.visit.Visit at 0x7ff2671b0e80>,\n",
       "  <visits.visit.Visit at 0x7ff2671b9760>,\n",
       "  <visits.visit.Visit at 0x7ff2671bb490>,\n",
       "  <visits.visit.Visit at 0x7ff2671d7940>,\n",
       "  <visits.visit.Visit at 0x7ff2671dcfd0>,\n",
       "  <visits.visit.Visit at 0x7ff2671dca60>,\n",
       "  <visits.visit.Visit at 0x7ff2671dc820>,\n",
       "  <visits.visit.Visit at 0x7ff2671de940>,\n",
       "  <visits.visit.Visit at 0x7ff2671e8580>,\n",
       "  <visits.visit.Visit at 0x7ff2671f24f0>,\n",
       "  <visits.visit.Visit at 0x7ff2671f8c70>,\n",
       "  <visits.visit.Visit at 0x7ff2671ffb20>,\n",
       "  <visits.visit.Visit at 0x7ff267210f10>,\n",
       "  <visits.visit.Visit at 0x7ff2672102e0>,\n",
       "  <visits.visit.Visit at 0x7ff2672187c0>],\n",
       " 4: [<visits.visit.Visit at 0x7ff26bb60fd0>,\n",
       "  <visits.visit.Visit at 0x7ff26ba7caf0>,\n",
       "  <visits.visit.Visit at 0x7ff26b9ef970>,\n",
       "  <visits.visit.Visit at 0x7ff26b9fd910>,\n",
       "  <visits.visit.Visit at 0x7ff26b997ca0>,\n",
       "  <visits.visit.Visit at 0x7ff26b8f7d90>,\n",
       "  <visits.visit.Visit at 0x7ff26b883850>,\n",
       "  <visits.visit.Visit at 0x7ff25ea93b50>,\n",
       "  <visits.visit.Visit at 0x7ff25eaaffd0>,\n",
       "  <visits.visit.Visit at 0x7ff260c09dc0>,\n",
       "  <visits.visit.Visit at 0x7ff260c82fa0>,\n",
       "  <visits.visit.Visit at 0x7ff263af6dc0>,\n",
       "  <visits.visit.Visit at 0x7ff263cdbca0>,\n",
       "  <visits.visit.Visit at 0x7ff263e2bee0>,\n",
       "  <visits.visit.Visit at 0x7ff263e75e50>,\n",
       "  <visits.visit.Visit at 0x7ff264c836a0>,\n",
       "  <visits.visit.Visit at 0x7ff264d278b0>,\n",
       "  <visits.visit.Visit at 0x7ff264d39f10>,\n",
       "  <visits.visit.Visit at 0x7ff264d45e80>,\n",
       "  <visits.visit.Visit at 0x7ff266cfbbe0>,\n",
       "  <visits.visit.Visit at 0x7ff266d79d90>,\n",
       "  <visits.visit.Visit at 0x7ff267086040>,\n",
       "  <visits.visit.Visit at 0x7ff2670b42e0>,\n",
       "  <visits.visit.Visit at 0x7ff2670dbd60>,\n",
       "  <visits.visit.Visit at 0x7ff267104a00>,\n",
       "  <visits.visit.Visit at 0x7ff2671d77f0>]}"
      ]
     },
     "execution_count": 23,
     "metadata": {},
     "output_type": "execute_result"
    }
   ],
   "source": [
    "cohort_dict"
   ]
  },
  {
   "cell_type": "code",
   "execution_count": 24,
   "metadata": {},
   "outputs": [],
   "source": [
    "v = Visit(\"../In2Research_data/data/K/H/KH0067\", 2, cohort_1_details, cohort_2_details, cohort_3_details, cohort_4_details)"
   ]
  },
  {
   "cell_type": "code",
   "execution_count": 25,
   "metadata": {},
   "outputs": [
    {
     "data": {
      "text/plain": [
       "1"
      ]
     },
     "execution_count": 25,
     "metadata": {},
     "output_type": "execute_result"
    }
   ],
   "source": [
    "v.cohort"
   ]
  },
  {
   "cell_type": "code",
   "execution_count": 26,
   "metadata": {},
   "outputs": [
    {
     "data": {
      "text/plain": [
       "120"
      ]
     },
     "execution_count": 26,
     "metadata": {},
     "output_type": "execute_result"
    }
   ],
   "source": [
    "len(cohort_dict[1])"
   ]
  },
  {
   "cell_type": "code",
   "execution_count": 27,
   "metadata": {},
   "outputs": [],
   "source": [
    "# v.mean_trends()"
   ]
  },
  {
   "cell_type": "code",
   "execution_count": 28,
   "metadata": {},
   "outputs": [
    {
     "data": {
      "text/html": [
       "<div>\n",
       "<style scoped>\n",
       "    .dataframe tbody tr th:only-of-type {\n",
       "        vertical-align: middle;\n",
       "    }\n",
       "\n",
       "    .dataframe tbody tr th {\n",
       "        vertical-align: top;\n",
       "    }\n",
       "\n",
       "    .dataframe thead th {\n",
       "        text-align: right;\n",
       "    }\n",
       "</style>\n",
       "<table border=\"1\" class=\"dataframe\">\n",
       "  <thead>\n",
       "    <tr style=\"text-align: right;\">\n",
       "      <th></th>\n",
       "      <th>Unnamed: 0</th>\n",
       "      <th>Project ID</th>\n",
       "      <th>birth_deid_date</th>\n",
       "      <th>death_deid_date</th>\n",
       "      <th>sex</th>\n",
       "      <th>icu_visit</th>\n",
       "      <th>icu_start_deid_dttm</th>\n",
       "      <th>icu_end_deid_dttm</th>\n",
       "      <th>failed_extubation_flag</th>\n",
       "      <th>failed_extubation_deid_date</th>\n",
       "      <th>intubation_flag</th>\n",
       "      <th>extubation_flag</th>\n",
       "      <th>extubation_deid_date</th>\n",
       "      <th>extubation_score</th>\n",
       "      <th>re_intubation_deid_date</th>\n",
       "      <th>icu_ward</th>\n",
       "      <th>total_visits</th>\n",
       "      <th>extubation_duration</th>\n",
       "      <th>age (days)</th>\n",
       "    </tr>\n",
       "  </thead>\n",
       "  <tbody>\n",
       "    <tr>\n",
       "      <th>0</th>\n",
       "      <td>85</td>\n",
       "      <td>KH0067</td>\n",
       "      <td>2003-01-22 00:00:00</td>\n",
       "      <td>NaN</td>\n",
       "      <td>Female</td>\n",
       "      <td>2</td>\n",
       "      <td>2016-10-13 22:30:00</td>\n",
       "      <td>2016-12-03 15:54:00</td>\n",
       "      <td>1.0</td>\n",
       "      <td>2016-10-16 10:30:00</td>\n",
       "      <td>1</td>\n",
       "      <td>1.0</td>\n",
       "      <td>2016-10-16 11:00:00</td>\n",
       "      <td>4.0</td>\n",
       "      <td>2016-10-16 16:30:00</td>\n",
       "      <td>PICU</td>\n",
       "      <td>2</td>\n",
       "      <td>360.0</td>\n",
       "      <td>5016.458333</td>\n",
       "    </tr>\n",
       "  </tbody>\n",
       "</table>\n",
       "</div>"
      ],
      "text/plain": [
       "   Unnamed: 0 Project ID      birth_deid_date  death_deid_date     sex  \\\n",
       "0          85     KH0067  2003-01-22 00:00:00              NaN  Female   \n",
       "\n",
       "   icu_visit  icu_start_deid_dttm    icu_end_deid_dttm  \\\n",
       "0          2  2016-10-13 22:30:00  2016-12-03 15:54:00   \n",
       "\n",
       "   failed_extubation_flag failed_extubation_deid_date  intubation_flag  \\\n",
       "0                     1.0         2016-10-16 10:30:00                1   \n",
       "\n",
       "   extubation_flag extubation_deid_date  extubation_score  \\\n",
       "0              1.0  2016-10-16 11:00:00               4.0   \n",
       "\n",
       "  re_intubation_deid_date icu_ward  total_visits  extubation_duration  \\\n",
       "0     2016-10-16 16:30:00     PICU             2                360.0   \n",
       "\n",
       "    age (days)  \n",
       "0  5016.458333  "
      ]
     },
     "execution_count": 28,
     "metadata": {},
     "output_type": "execute_result"
    }
   ],
   "source": [
    "v.details"
   ]
  },
  {
   "cell_type": "code",
   "execution_count": 29,
   "metadata": {},
   "outputs": [
    {
     "name": "stdout",
     "output_type": "stream",
     "text": [
      "<pandas.core.groupby.generic.SeriesGroupBy object at 0x7ff267234370>\n"
     ]
    }
   ],
   "source": [
    "print(cohort_1_details.groupby(\"Project ID\")[\"icu_visit\"])\n"
   ]
  },
  {
   "cell_type": "code",
   "execution_count": 30,
   "metadata": {},
   "outputs": [],
   "source": [
    "# for letter1 in all_files:\n",
    "#     for letter2 in glob.glob(letter1 + \"/*\"):\n",
    "#         for id in glob.glob(letter2 + \"/*\"):\n",
    "#             for file in glob.glob(id + \"/*\"):\n",
    "#                 print(file)"
   ]
  },
  {
   "cell_type": "code",
   "execution_count": 31,
   "metadata": {},
   "outputs": [
    {
     "data": {
      "text/html": [
       "<div>\n",
       "<style scoped>\n",
       "    .dataframe tbody tr th:only-of-type {\n",
       "        vertical-align: middle;\n",
       "    }\n",
       "\n",
       "    .dataframe tbody tr th {\n",
       "        vertical-align: top;\n",
       "    }\n",
       "\n",
       "    .dataframe thead th {\n",
       "        text-align: right;\n",
       "    }\n",
       "</style>\n",
       "<table border=\"1\" class=\"dataframe\">\n",
       "  <thead>\n",
       "    <tr style=\"text-align: right;\">\n",
       "      <th></th>\n",
       "      <th>monitor</th>\n",
       "      <th>record_date_time</th>\n",
       "      <th>num_value</th>\n",
       "    </tr>\n",
       "  </thead>\n",
       "  <tbody>\n",
       "    <tr>\n",
       "      <th>0</th>\n",
       "      <td>HR</td>\n",
       "      <td>2016-10-16 10:30:06</td>\n",
       "      <td>73</td>\n",
       "    </tr>\n",
       "    <tr>\n",
       "      <th>1</th>\n",
       "      <td>HR</td>\n",
       "      <td>2016-10-16 10:30:11</td>\n",
       "      <td>77</td>\n",
       "    </tr>\n",
       "    <tr>\n",
       "      <th>2</th>\n",
       "      <td>HR</td>\n",
       "      <td>2016-10-16 10:30:15</td>\n",
       "      <td>78</td>\n",
       "    </tr>\n",
       "    <tr>\n",
       "      <th>3</th>\n",
       "      <td>HR</td>\n",
       "      <td>2016-10-16 10:30:21</td>\n",
       "      <td>79</td>\n",
       "    </tr>\n",
       "    <tr>\n",
       "      <th>4</th>\n",
       "      <td>HR</td>\n",
       "      <td>2016-10-16 10:30:25</td>\n",
       "      <td>78</td>\n",
       "    </tr>\n",
       "    <tr>\n",
       "      <th>...</th>\n",
       "      <td>...</td>\n",
       "      <td>...</td>\n",
       "      <td>...</td>\n",
       "    </tr>\n",
       "    <tr>\n",
       "      <th>4213</th>\n",
       "      <td>HR</td>\n",
       "      <td>2016-10-16 16:29:33</td>\n",
       "      <td>124</td>\n",
       "    </tr>\n",
       "    <tr>\n",
       "      <th>4214</th>\n",
       "      <td>HR</td>\n",
       "      <td>2016-10-16 16:29:38</td>\n",
       "      <td>123</td>\n",
       "    </tr>\n",
       "    <tr>\n",
       "      <th>4215</th>\n",
       "      <td>HR</td>\n",
       "      <td>2016-10-16 16:29:43</td>\n",
       "      <td>123</td>\n",
       "    </tr>\n",
       "    <tr>\n",
       "      <th>4216</th>\n",
       "      <td>HR</td>\n",
       "      <td>2016-10-16 16:29:48</td>\n",
       "      <td>123</td>\n",
       "    </tr>\n",
       "    <tr>\n",
       "      <th>4217</th>\n",
       "      <td>HR</td>\n",
       "      <td>2016-10-16 16:29:53</td>\n",
       "      <td>122</td>\n",
       "    </tr>\n",
       "  </tbody>\n",
       "</table>\n",
       "<p>4218 rows × 3 columns</p>\n",
       "</div>"
      ],
      "text/plain": [
       "     monitor    record_date_time  num_value\n",
       "0         HR 2016-10-16 10:30:06         73\n",
       "1         HR 2016-10-16 10:30:11         77\n",
       "2         HR 2016-10-16 10:30:15         78\n",
       "3         HR 2016-10-16 10:30:21         79\n",
       "4         HR 2016-10-16 10:30:25         78\n",
       "...      ...                 ...        ...\n",
       "4213      HR 2016-10-16 16:29:33        124\n",
       "4214      HR 2016-10-16 16:29:38        123\n",
       "4215      HR 2016-10-16 16:29:43        123\n",
       "4216      HR 2016-10-16 16:29:48        123\n",
       "4217      HR 2016-10-16 16:29:53        122\n",
       "\n",
       "[4218 rows x 3 columns]"
      ]
     },
     "execution_count": 31,
     "metadata": {},
     "output_type": "execute_result"
    }
   ],
   "source": [
    "v.hr()"
   ]
  },
  {
   "cell_type": "code",
   "execution_count": 32,
   "metadata": {},
   "outputs": [
    {
     "data": {
      "text/plain": [
       "1"
      ]
     },
     "execution_count": 32,
     "metadata": {},
     "output_type": "execute_result"
    }
   ],
   "source": [
    "v.cohort"
   ]
  },
  {
   "cell_type": "code",
   "execution_count": 33,
   "metadata": {},
   "outputs": [
    {
     "name": "stderr",
     "output_type": "stream",
     "text": [
      "/Users/lucindakhalil/opt/anaconda3/lib/python3.8/site-packages/pandas/core/indexing.py:1732: SettingWithCopyWarning: \n",
      "A value is trying to be set on a copy of a slice from a DataFrame\n",
      "\n",
      "See the caveats in the documentation: https://pandas.pydata.org/pandas-docs/stable/user_guide/indexing.html#returning-a-view-versus-a-copy\n",
      "  self._setitem_single_block(indexer, value, name)\n"
     ]
    },
    {
     "data": {
      "text/html": [
       "<div>\n",
       "<style scoped>\n",
       "    .dataframe tbody tr th:only-of-type {\n",
       "        vertical-align: middle;\n",
       "    }\n",
       "\n",
       "    .dataframe tbody tr th {\n",
       "        vertical-align: top;\n",
       "    }\n",
       "\n",
       "    .dataframe thead th {\n",
       "        text-align: right;\n",
       "    }\n",
       "</style>\n",
       "<table border=\"1\" class=\"dataframe\">\n",
       "  <thead>\n",
       "    <tr style=\"text-align: right;\">\n",
       "      <th></th>\n",
       "      <th>monitor</th>\n",
       "      <th>record_date_time</th>\n",
       "      <th>num_value</th>\n",
       "    </tr>\n",
       "  </thead>\n",
       "  <tbody>\n",
       "    <tr>\n",
       "      <th>0</th>\n",
       "      <td>RR</td>\n",
       "      <td>2017-10-15 15:00:05</td>\n",
       "      <td>18.0</td>\n",
       "    </tr>\n",
       "    <tr>\n",
       "      <th>1</th>\n",
       "      <td>RR</td>\n",
       "      <td>2017-10-15 15:00:10</td>\n",
       "      <td>19.0</td>\n",
       "    </tr>\n",
       "    <tr>\n",
       "      <th>2</th>\n",
       "      <td>RR</td>\n",
       "      <td>2017-10-15 15:00:15</td>\n",
       "      <td>23.0</td>\n",
       "    </tr>\n",
       "    <tr>\n",
       "      <th>3</th>\n",
       "      <td>RR</td>\n",
       "      <td>2017-10-15 15:00:20</td>\n",
       "      <td>24.0</td>\n",
       "    </tr>\n",
       "    <tr>\n",
       "      <th>4</th>\n",
       "      <td>RR</td>\n",
       "      <td>2017-10-15 15:00:25</td>\n",
       "      <td>24.0</td>\n",
       "    </tr>\n",
       "    <tr>\n",
       "      <th>...</th>\n",
       "      <td>...</td>\n",
       "      <td>...</td>\n",
       "      <td>...</td>\n",
       "    </tr>\n",
       "    <tr>\n",
       "      <th>2155</th>\n",
       "      <td>combination</td>\n",
       "      <td>2017-10-15 17:59:36</td>\n",
       "      <td>30.0</td>\n",
       "    </tr>\n",
       "    <tr>\n",
       "      <th>2156</th>\n",
       "      <td>combination</td>\n",
       "      <td>2017-10-15 17:59:41</td>\n",
       "      <td>31.0</td>\n",
       "    </tr>\n",
       "    <tr>\n",
       "      <th>2157</th>\n",
       "      <td>combination</td>\n",
       "      <td>2017-10-15 17:59:46</td>\n",
       "      <td>30.0</td>\n",
       "    </tr>\n",
       "    <tr>\n",
       "      <th>2158</th>\n",
       "      <td>combination</td>\n",
       "      <td>2017-10-15 17:59:51</td>\n",
       "      <td>30.0</td>\n",
       "    </tr>\n",
       "    <tr>\n",
       "      <th>2159</th>\n",
       "      <td>RR</td>\n",
       "      <td>2017-10-15 17:59:56</td>\n",
       "      <td>30.0</td>\n",
       "    </tr>\n",
       "  </tbody>\n",
       "</table>\n",
       "<p>2160 rows × 3 columns</p>\n",
       "</div>"
      ],
      "text/plain": [
       "          monitor    record_date_time  num_value\n",
       "0              RR 2017-10-15 15:00:05       18.0\n",
       "1              RR 2017-10-15 15:00:10       19.0\n",
       "2              RR 2017-10-15 15:00:15       23.0\n",
       "3              RR 2017-10-15 15:00:20       24.0\n",
       "4              RR 2017-10-15 15:00:25       24.0\n",
       "...           ...                 ...        ...\n",
       "2155  combination 2017-10-15 17:59:36       30.0\n",
       "2156  combination 2017-10-15 17:59:41       31.0\n",
       "2157  combination 2017-10-15 17:59:46       30.0\n",
       "2158  combination 2017-10-15 17:59:51       30.0\n",
       "2159           RR 2017-10-15 17:59:56       30.0\n",
       "\n",
       "[2160 rows x 3 columns]"
      ]
     },
     "execution_count": 33,
     "metadata": {},
     "output_type": "execute_result"
    }
   ],
   "source": [
    "cohort_dict[1][100].rr()"
   ]
  },
  {
   "cell_type": "code",
   "execution_count": 34,
   "metadata": {},
   "outputs": [
    {
     "name": "stdout",
     "output_type": "stream",
     "text": [
      "True\n"
     ]
    }
   ],
   "source": [
    "print(\"2\" in (f\"_{v.visit_no}_HR\"))"
   ]
  },
  {
   "cell_type": "code",
   "execution_count": 35,
   "metadata": {},
   "outputs": [],
   "source": [
    "test1.abf()"
   ]
  },
  {
   "cell_type": "code",
   "execution_count": 36,
   "metadata": {},
   "outputs": [
    {
     "data": {
      "text/plain": [
       "'../In2Research_data/data/W/P/WP0322'"
      ]
     },
     "execution_count": 36,
     "metadata": {},
     "output_type": "execute_result"
    }
   ],
   "source": [
    "test1.directory"
   ]
  },
  {
   "cell_type": "code",
   "execution_count": 37,
   "metadata": {},
   "outputs": [
    {
     "data": {
      "text/plain": [
       "1"
      ]
     },
     "execution_count": 37,
     "metadata": {},
     "output_type": "execute_result"
    }
   ],
   "source": [
    "test1.visit_no\n"
   ]
  },
  {
   "cell_type": "code",
   "execution_count": 38,
   "metadata": {},
   "outputs": [
    {
     "data": {
      "text/plain": [
       "NaT"
      ]
     },
     "execution_count": 38,
     "metadata": {},
     "output_type": "execute_result"
    }
   ],
   "source": [
    "test1.start_time"
   ]
  },
  {
   "cell_type": "code",
   "execution_count": 39,
   "metadata": {},
   "outputs": [
    {
     "data": {
      "text/html": [
       "<div>\n",
       "<style scoped>\n",
       "    .dataframe tbody tr th:only-of-type {\n",
       "        vertical-align: middle;\n",
       "    }\n",
       "\n",
       "    .dataframe tbody tr th {\n",
       "        vertical-align: top;\n",
       "    }\n",
       "\n",
       "    .dataframe thead th {\n",
       "        text-align: right;\n",
       "    }\n",
       "</style>\n",
       "<table border=\"1\" class=\"dataframe\">\n",
       "  <thead>\n",
       "    <tr style=\"text-align: right;\">\n",
       "      <th></th>\n",
       "      <th>Unnamed: 0</th>\n",
       "      <th>Project ID</th>\n",
       "      <th>birth_deid_date</th>\n",
       "      <th>death_deid_date</th>\n",
       "      <th>sex</th>\n",
       "      <th>icu_visit</th>\n",
       "      <th>icu_start_deid_dttm</th>\n",
       "      <th>icu_end_deid_dttm</th>\n",
       "      <th>failed_extubation_flag</th>\n",
       "      <th>failed_extubation_deid_date</th>\n",
       "      <th>...</th>\n",
       "      <th>extubation_flag</th>\n",
       "      <th>extubation_deid_date</th>\n",
       "      <th>extubation_score</th>\n",
       "      <th>re_intubation_deid_date</th>\n",
       "      <th>icu_ward</th>\n",
       "      <th>total_visits</th>\n",
       "      <th>final_datapoint</th>\n",
       "      <th>available_data_duration</th>\n",
       "      <th>age (days)</th>\n",
       "      <th>age_category</th>\n",
       "    </tr>\n",
       "  </thead>\n",
       "  <tbody>\n",
       "    <tr>\n",
       "      <th>1741</th>\n",
       "      <td>397</td>\n",
       "      <td>WP0322</td>\n",
       "      <td>2009-09-17</td>\n",
       "      <td>NaN</td>\n",
       "      <td>Female</td>\n",
       "      <td>1</td>\n",
       "      <td>2016-02-24 19:50:00</td>\n",
       "      <td>2016-03-07 12:00:00</td>\n",
       "      <td>NaN</td>\n",
       "      <td>NaN</td>\n",
       "      <td>...</td>\n",
       "      <td>1.0</td>\n",
       "      <td>2016-02-27 15:51:00</td>\n",
       "      <td>5.0</td>\n",
       "      <td>NaN</td>\n",
       "      <td>PICU</td>\n",
       "      <td>2</td>\n",
       "      <td>2016-03-07 05:54:16</td>\n",
       "      <td>8 days 14:03:16</td>\n",
       "      <td>2354.660417</td>\n",
       "      <td>9</td>\n",
       "    </tr>\n",
       "  </tbody>\n",
       "</table>\n",
       "<p>1 rows × 21 columns</p>\n",
       "</div>"
      ],
      "text/plain": [
       "      Unnamed: 0 Project ID birth_deid_date  death_deid_date     sex  \\\n",
       "1741         397     WP0322      2009-09-17              NaN  Female   \n",
       "\n",
       "      icu_visit  icu_start_deid_dttm    icu_end_deid_dttm  \\\n",
       "1741          1  2016-02-24 19:50:00  2016-03-07 12:00:00   \n",
       "\n",
       "      failed_extubation_flag  failed_extubation_deid_date  ...  \\\n",
       "1741                     NaN                          NaN  ...   \n",
       "\n",
       "      extubation_flag  extubation_deid_date extubation_score  \\\n",
       "1741              1.0   2016-02-27 15:51:00              5.0   \n",
       "\n",
       "      re_intubation_deid_date  icu_ward total_visits      final_datapoint  \\\n",
       "1741                      NaN      PICU            2  2016-03-07 05:54:16   \n",
       "\n",
       "     available_data_duration   age (days)  age_category  \n",
       "1741         8 days 14:03:16  2354.660417             9  \n",
       "\n",
       "[1 rows x 21 columns]"
      ]
     },
     "execution_count": 39,
     "metadata": {},
     "output_type": "execute_result"
    }
   ],
   "source": [
    "test1.details"
   ]
  },
  {
   "cell_type": "code",
   "execution_count": 40,
   "metadata": {},
   "outputs": [
    {
     "data": {
      "text/html": [
       "<div>\n",
       "<style scoped>\n",
       "    .dataframe tbody tr th:only-of-type {\n",
       "        vertical-align: middle;\n",
       "    }\n",
       "\n",
       "    .dataframe tbody tr th {\n",
       "        vertical-align: top;\n",
       "    }\n",
       "\n",
       "    .dataframe thead th {\n",
       "        text-align: right;\n",
       "    }\n",
       "</style>\n",
       "<table border=\"1\" class=\"dataframe\">\n",
       "  <thead>\n",
       "    <tr style=\"text-align: right;\">\n",
       "      <th></th>\n",
       "      <th>monitor</th>\n",
       "      <th>record_date_time</th>\n",
       "      <th>num_value</th>\n",
       "    </tr>\n",
       "  </thead>\n",
       "  <tbody>\n",
       "    <tr>\n",
       "      <th>0</th>\n",
       "      <td>ARTm</td>\n",
       "      <td>2017-08-12 13:45:04</td>\n",
       "      <td>68</td>\n",
       "    </tr>\n",
       "    <tr>\n",
       "      <th>1</th>\n",
       "      <td>ARTm</td>\n",
       "      <td>2017-08-12 13:45:09</td>\n",
       "      <td>67</td>\n",
       "    </tr>\n",
       "    <tr>\n",
       "      <th>2</th>\n",
       "      <td>ARTm</td>\n",
       "      <td>2017-08-12 13:45:14</td>\n",
       "      <td>65</td>\n",
       "    </tr>\n",
       "    <tr>\n",
       "      <th>3</th>\n",
       "      <td>ARTm</td>\n",
       "      <td>2017-08-12 13:45:19</td>\n",
       "      <td>64</td>\n",
       "    </tr>\n",
       "    <tr>\n",
       "      <th>4</th>\n",
       "      <td>ARTm</td>\n",
       "      <td>2017-08-12 13:45:25</td>\n",
       "      <td>64</td>\n",
       "    </tr>\n",
       "    <tr>\n",
       "      <th>...</th>\n",
       "      <td>...</td>\n",
       "      <td>...</td>\n",
       "      <td>...</td>\n",
       "    </tr>\n",
       "    <tr>\n",
       "      <th>6776</th>\n",
       "      <td>ARTm</td>\n",
       "      <td>2017-08-12 23:13:08</td>\n",
       "      <td>15</td>\n",
       "    </tr>\n",
       "    <tr>\n",
       "      <th>6777</th>\n",
       "      <td>ARTm</td>\n",
       "      <td>2017-08-12 23:13:13</td>\n",
       "      <td>15</td>\n",
       "    </tr>\n",
       "    <tr>\n",
       "      <th>6778</th>\n",
       "      <td>ARTm</td>\n",
       "      <td>2017-08-12 23:13:18</td>\n",
       "      <td>10</td>\n",
       "    </tr>\n",
       "    <tr>\n",
       "      <th>6779</th>\n",
       "      <td>ARTm</td>\n",
       "      <td>2017-08-12 23:13:23</td>\n",
       "      <td>6</td>\n",
       "    </tr>\n",
       "    <tr>\n",
       "      <th>6780</th>\n",
       "      <td>ARTm</td>\n",
       "      <td>2017-08-12 23:13:28</td>\n",
       "      <td>4</td>\n",
       "    </tr>\n",
       "  </tbody>\n",
       "</table>\n",
       "<p>6781 rows × 3 columns</p>\n",
       "</div>"
      ],
      "text/plain": [
       "     monitor    record_date_time  num_value\n",
       "0       ARTm 2017-08-12 13:45:04         68\n",
       "1       ARTm 2017-08-12 13:45:09         67\n",
       "2       ARTm 2017-08-12 13:45:14         65\n",
       "3       ARTm 2017-08-12 13:45:19         64\n",
       "4       ARTm 2017-08-12 13:45:25         64\n",
       "...      ...                 ...        ...\n",
       "6776    ARTm 2017-08-12 23:13:08         15\n",
       "6777    ARTm 2017-08-12 23:13:13         15\n",
       "6778    ARTm 2017-08-12 23:13:18         10\n",
       "6779    ARTm 2017-08-12 23:13:23          6\n",
       "6780    ARTm 2017-08-12 23:13:28          4\n",
       "\n",
       "[6781 rows x 3 columns]"
      ]
     },
     "execution_count": 40,
     "metadata": {},
     "output_type": "execute_result"
    }
   ],
   "source": [
    "test2.abf()"
   ]
  },
  {
   "cell_type": "code",
   "execution_count": 41,
   "metadata": {},
   "outputs": [],
   "source": [
    "cohort1 = Cohort(cohort_dict[1], 1)"
   ]
  },
  {
   "cell_type": "code",
   "execution_count": 42,
   "metadata": {},
   "outputs": [
    {
     "name": "stderr",
     "output_type": "stream",
     "text": [
      "ZW1285 visit 1 failed: 'NoneType' object is not subscriptable\n"
     ]
    },
    {
     "name": "stdout",
     "output_type": "stream",
     "text": [
      "There is no heart rate data available during the extubated period.\n"
     ]
    },
    {
     "name": "stderr",
     "output_type": "stream",
     "text": [
      "TG1861 visit 1 failed: 'NoneType' object is not subscriptable\n"
     ]
    },
    {
     "name": "stdout",
     "output_type": "stream",
     "text": [
      "There is no heart rate data available during the extubated period.\n"
     ]
    },
    {
     "name": "stderr",
     "output_type": "stream",
     "text": [
      "AS2377 visit 1 failed: 'NoneType' object is not subscriptable\n"
     ]
    },
    {
     "name": "stdout",
     "output_type": "stream",
     "text": [
      "There is no heart rate data available during the extubated period.\n"
     ]
    },
    {
     "name": "stderr",
     "output_type": "stream",
     "text": [
      "DM3147 visit 1 failed: 'NoneType' object is not subscriptable\n"
     ]
    },
    {
     "name": "stdout",
     "output_type": "stream",
     "text": [
      "There is no heart rate data available during the extubated period.\n"
     ]
    },
    {
     "name": "stderr",
     "output_type": "stream",
     "text": [
      "XO3508 visit 1 failed: 'NoneType' object is not subscriptable\n"
     ]
    },
    {
     "name": "stdout",
     "output_type": "stream",
     "text": [
      "There is no heart rate data available during the extubated period.\n"
     ]
    },
    {
     "name": "stderr",
     "output_type": "stream",
     "text": [
      "WV3677 visit 1 failed: 'NoneType' object is not subscriptable\n"
     ]
    },
    {
     "name": "stdout",
     "output_type": "stream",
     "text": [
      "There is no heart rate data available during the extubated period.\n"
     ]
    },
    {
     "name": "stderr",
     "output_type": "stream",
     "text": [
      "MF2056 visit 2 failed: 'NoneType' object is not subscriptable\n"
     ]
    },
    {
     "name": "stdout",
     "output_type": "stream",
     "text": [
      "There is no heart rate data available during the extubated period.\n"
     ]
    },
    {
     "name": "stderr",
     "output_type": "stream",
     "text": [
      "JA2458 visit 3 failed: 'NoneType' object is not subscriptable\n"
     ]
    },
    {
     "name": "stdout",
     "output_type": "stream",
     "text": [
      "There is no heart rate data available during the extubated period.\n"
     ]
    },
    {
     "data": {
      "text/plain": [
       "(35, 54, 23, 8)"
      ]
     },
     "execution_count": 42,
     "metadata": {},
     "output_type": "execute_result"
    }
   ],
   "source": [
    "cohort1.mean_trend_count(hr = True)"
   ]
  },
  {
   "cell_type": "code",
   "execution_count": 43,
   "metadata": {},
   "outputs": [
    {
     "name": "stderr",
     "output_type": "stream",
     "text": [
      "/Users/lucindakhalil/opt/anaconda3/lib/python3.8/site-packages/pandas/core/indexing.py:1732: SettingWithCopyWarning: \n",
      "A value is trying to be set on a copy of a slice from a DataFrame\n",
      "\n",
      "See the caveats in the documentation: https://pandas.pydata.org/pandas-docs/stable/user_guide/indexing.html#returning-a-view-versus-a-copy\n",
      "  self._setitem_single_block(indexer, value, name)\n",
      "NP1006 visit 1 failed: float division by zero\n",
      "GF0332 visit 1 failed: 'NoneType' object is not subscriptable\n"
     ]
    },
    {
     "name": "stdout",
     "output_type": "stream",
     "text": [
      "There is no respiration rate data available during the extubated period.\n"
     ]
    },
    {
     "name": "stderr",
     "output_type": "stream",
     "text": [
      "/Users/lucindakhalil/opt/anaconda3/lib/python3.8/site-packages/pymannkendall/pymannkendall.py:60: RuntimeWarning: invalid value encountered in true_divide\n",
      "  return acov[:nlags+1]/acov[0]\n",
      "ZW1285 visit 1 failed: 'NoneType' object is not subscriptable\n"
     ]
    },
    {
     "name": "stdout",
     "output_type": "stream",
     "text": [
      "There is no respiration rate data available during the extubated period.\n"
     ]
    },
    {
     "name": "stderr",
     "output_type": "stream",
     "text": [
      "TG1861 visit 1 failed: 'NoneType' object is not subscriptable\n"
     ]
    },
    {
     "name": "stdout",
     "output_type": "stream",
     "text": [
      "There is no respiration rate data available during the extubated period.\n"
     ]
    },
    {
     "name": "stderr",
     "output_type": "stream",
     "text": [
      "SQ1612 visit 1 failed: float division by zero\n",
      "SE1569 visit 1 failed: float division by zero\n",
      "AS2377 visit 1 failed: 'NoneType' object is not subscriptable\n"
     ]
    },
    {
     "name": "stdout",
     "output_type": "stream",
     "text": [
      "There is no respiration rate data available during the extubated period.\n"
     ]
    },
    {
     "name": "stderr",
     "output_type": "stream",
     "text": [
      "FG1244 visit 1 failed: float division by zero\n",
      "MV1402 visit 1 failed: 'NoneType' object is not subscriptable\n"
     ]
    },
    {
     "name": "stdout",
     "output_type": "stream",
     "text": [
      "There is no respiration rate data available during the extubated period.\n"
     ]
    },
    {
     "name": "stderr",
     "output_type": "stream",
     "text": [
      "CA1303 visit 1 failed: 'NoneType' object is not subscriptable\n",
      "CQ0905 visit 1 failed: float division by zero\n"
     ]
    },
    {
     "name": "stdout",
     "output_type": "stream",
     "text": [
      "There is no respiration rate data available during the extubated period.\n"
     ]
    },
    {
     "name": "stderr",
     "output_type": "stream",
     "text": [
      "DM3147 visit 1 failed: 'NoneType' object is not subscriptable\n"
     ]
    },
    {
     "name": "stdout",
     "output_type": "stream",
     "text": [
      "There is no respiration rate data available during the extubated period.\n"
     ]
    },
    {
     "name": "stderr",
     "output_type": "stream",
     "text": [
      "XO3508 visit 1 failed: 'NoneType' object is not subscriptable\n"
     ]
    },
    {
     "name": "stdout",
     "output_type": "stream",
     "text": [
      "There is no respiration rate data available during the extubated period.\n"
     ]
    },
    {
     "name": "stderr",
     "output_type": "stream",
     "text": [
      "YK1293 visit 1 failed: float division by zero\n",
      "WV3677 visit 1 failed: 'NoneType' object is not subscriptable\n"
     ]
    },
    {
     "name": "stdout",
     "output_type": "stream",
     "text": [
      "There is no respiration rate data available during the extubated period.\n"
     ]
    },
    {
     "name": "stderr",
     "output_type": "stream",
     "text": [
      "RB0988 visit 2 failed: 'NoneType' object is not subscriptable\n"
     ]
    },
    {
     "name": "stdout",
     "output_type": "stream",
     "text": [
      "There is no respiration rate data available during the extubated period.\n"
     ]
    },
    {
     "name": "stderr",
     "output_type": "stream",
     "text": [
      "MF2056 visit 2 failed: 'NoneType' object is not subscriptable\n"
     ]
    },
    {
     "name": "stdout",
     "output_type": "stream",
     "text": [
      "There is no respiration rate data available during the extubated period.\n"
     ]
    },
    {
     "name": "stderr",
     "output_type": "stream",
     "text": [
      "VV3912 visit 2 failed: float division by zero\n",
      "JA2458 visit 3 failed: 'NoneType' object is not subscriptable\n"
     ]
    },
    {
     "name": "stdout",
     "output_type": "stream",
     "text": [
      "There is no respiration rate data available during the extubated period.\n"
     ]
    },
    {
     "name": "stderr",
     "output_type": "stream",
     "text": [
      "CN1187 visit 4 failed: float division by zero\n"
     ]
    },
    {
     "data": {
      "text/plain": [
       "(33, 50, 17, 20)"
      ]
     },
     "execution_count": 43,
     "metadata": {},
     "output_type": "execute_result"
    }
   ],
   "source": [
    "cohort1.mean_trend_count(rr = True)"
   ]
  },
  {
   "cell_type": "code",
   "execution_count": 44,
   "metadata": {},
   "outputs": [
    {
     "name": "stderr",
     "output_type": "stream",
     "text": [
      "RD3976 visit 1 failed: 'NoneType' object is not subscriptable\n"
     ]
    },
    {
     "name": "stdout",
     "output_type": "stream",
     "text": [
      "There is no blood pressure data available during the extubated period.\n"
     ]
    },
    {
     "name": "stderr",
     "output_type": "stream",
     "text": [
      "RP0984 visit 1 failed: 'NoneType' object is not subscriptable\n",
      "UI4061 visit 1 failed: float division by zero\n"
     ]
    },
    {
     "name": "stdout",
     "output_type": "stream",
     "text": [
      "There is no blood pressure data available during the extubated period.\n"
     ]
    },
    {
     "name": "stderr",
     "output_type": "stream",
     "text": [
      "UX1362 visit 1 failed: 'NoneType' object is not subscriptable\n"
     ]
    },
    {
     "name": "stdout",
     "output_type": "stream",
     "text": [
      "There is no blood pressure data available during the extubated period.\n"
     ]
    },
    {
     "name": "stderr",
     "output_type": "stream",
     "text": [
      "IZ2966 visit 1 failed: 'NoneType' object is not subscriptable\n"
     ]
    },
    {
     "name": "stdout",
     "output_type": "stream",
     "text": [
      "There is no blood pressure data available during the extubated period.\n"
     ]
    },
    {
     "name": "stderr",
     "output_type": "stream",
     "text": [
      "NQ3290 visit 1 failed: list index out of range\n",
      "NP1006 visit 1 failed: 'NoneType' object is not subscriptable\n"
     ]
    },
    {
     "name": "stdout",
     "output_type": "stream",
     "text": [
      "There is no blood pressure data available during the extubated period.\n"
     ]
    },
    {
     "name": "stderr",
     "output_type": "stream",
     "text": [
      "GF1065 visit 1 failed: 'NoneType' object is not subscriptable\n"
     ]
    },
    {
     "name": "stdout",
     "output_type": "stream",
     "text": [
      "There is no blood pressure data available during the extubated period.\n"
     ]
    },
    {
     "name": "stderr",
     "output_type": "stream",
     "text": [
      "ZW1285 visit 1 failed: 'NoneType' object is not subscriptable\n",
      "TR1110 visit 1 failed: float division by zero\n"
     ]
    },
    {
     "name": "stdout",
     "output_type": "stream",
     "text": [
      "There is no blood pressure data available during the extubated period.\n"
     ]
    },
    {
     "name": "stderr",
     "output_type": "stream",
     "text": [
      "TI3785 visit 1 failed: 'NoneType' object is not subscriptable\n",
      "TG1861 visit 1 failed: list index out of range\n",
      "TV4037 visit 1 failed: float division by zero\n"
     ]
    },
    {
     "name": "stdout",
     "output_type": "stream",
     "text": [
      "There is no blood pressure data available during the extubated period.\n"
     ]
    },
    {
     "name": "stderr",
     "output_type": "stream",
     "text": [
      "SZ0162 visit 1 failed: 'NoneType' object is not subscriptable\n",
      "SQ1612 visit 1 failed: 'NoneType' object is not subscriptable\n"
     ]
    },
    {
     "name": "stdout",
     "output_type": "stream",
     "text": [
      "There is no blood pressure data available during the extubated period.\n",
      "There is no blood pressure data available during the extubated period.\n"
     ]
    },
    {
     "name": "stderr",
     "output_type": "stream",
     "text": [
      "AS2377 visit 1 failed: list index out of range\n",
      "AY3292 visit 1 failed: list index out of range\n",
      "FN3246 visit 1 failed: float division by zero\n",
      "FE3652 visit 1 failed: 'NoneType' object is not subscriptable\n"
     ]
    },
    {
     "name": "stdout",
     "output_type": "stream",
     "text": [
      "There is no blood pressure data available during the extubated period.\n"
     ]
    },
    {
     "name": "stderr",
     "output_type": "stream",
     "text": [
      "MG2402 visit 1 failed: list index out of range\n",
      "MV2170 visit 1 failed: 'NoneType' object is not subscriptable\n"
     ]
    },
    {
     "name": "stdout",
     "output_type": "stream",
     "text": [
      "There is no blood pressure data available during the extubated period.\n"
     ]
    },
    {
     "name": "stderr",
     "output_type": "stream",
     "text": [
      "JZ0818 visit 1 failed: 'NoneType' object is not subscriptable\n"
     ]
    },
    {
     "name": "stdout",
     "output_type": "stream",
     "text": [
      "There is no blood pressure data available during the extubated period.\n"
     ]
    },
    {
     "name": "stderr",
     "output_type": "stream",
     "text": [
      "JT1469 visit 1 failed: 'NoneType' object is not subscriptable\n",
      "JA2458 visit 1 failed: 'NoneType' object is not subscriptable\n"
     ]
    },
    {
     "name": "stdout",
     "output_type": "stream",
     "text": [
      "There is no blood pressure data available during the extubated period.\n",
      "There is no blood pressure data available during the extubated period.\n"
     ]
    },
    {
     "name": "stderr",
     "output_type": "stream",
     "text": [
      "DF3079 visit 1 failed: 'NoneType' object is not subscriptable\n",
      "DM3147 visit 1 failed: 'NoneType' object is not subscriptable\n",
      "DQ3738 visit 1 failed: 'NoneType' object is not subscriptable\n"
     ]
    },
    {
     "name": "stdout",
     "output_type": "stream",
     "text": [
      "There is no blood pressure data available during the extubated period.\n",
      "There is no blood pressure data available during the extubated period.\n",
      "There is no blood pressure data available during the extubated period.\n"
     ]
    },
    {
     "name": "stderr",
     "output_type": "stream",
     "text": [
      "DE3827 visit 1 failed: 'NoneType' object is not subscriptable\n"
     ]
    },
    {
     "name": "stdout",
     "output_type": "stream",
     "text": [
      "There is no blood pressure data available during the extubated period.\n"
     ]
    },
    {
     "name": "stderr",
     "output_type": "stream",
     "text": [
      "KZ2558 visit 1 failed: 'NoneType' object is not subscriptable\n"
     ]
    },
    {
     "name": "stdout",
     "output_type": "stream",
     "text": [
      "There is no blood pressure data available during the extubated period.\n"
     ]
    },
    {
     "name": "stderr",
     "output_type": "stream",
     "text": [
      "LJ1685 visit 1 failed: 'NoneType' object is not subscriptable\n",
      "LX3781 visit 1 failed: 'NoneType' object is not subscriptable\n"
     ]
    },
    {
     "name": "stdout",
     "output_type": "stream",
     "text": [
      "There is no blood pressure data available during the extubated period.\n",
      "There is no blood pressure data available during the extubated period.\n"
     ]
    },
    {
     "name": "stderr",
     "output_type": "stream",
     "text": [
      "YE3158 visit 1 failed: 'NoneType' object is not subscriptable\n",
      "YK1293 visit 1 failed: float division by zero\n"
     ]
    },
    {
     "name": "stdout",
     "output_type": "stream",
     "text": [
      "There is no blood pressure data available during the extubated period.\n"
     ]
    },
    {
     "name": "stderr",
     "output_type": "stream",
     "text": [
      "PL3964 visit 1 failed: 'NoneType' object is not subscriptable\n",
      "WS0898 visit 1 failed: 'NoneType' object is not subscriptable\n"
     ]
    },
    {
     "name": "stdout",
     "output_type": "stream",
     "text": [
      "There is no blood pressure data available during the extubated period.\n",
      "There is no blood pressure data available during the extubated period.\n"
     ]
    },
    {
     "name": "stderr",
     "output_type": "stream",
     "text": [
      "WF2826 visit 1 failed: list index out of range\n",
      "WV3677 visit 1 failed: list index out of range\n",
      "RZ3023 visit 2 failed: 'NoneType' object is not subscriptable\n"
     ]
    },
    {
     "name": "stdout",
     "output_type": "stream",
     "text": [
      "There is no blood pressure data available during the extubated period.\n"
     ]
    },
    {
     "name": "stderr",
     "output_type": "stream",
     "text": [
      "MF2056 visit 2 failed: 'NoneType' object is not subscriptable\n"
     ]
    },
    {
     "name": "stdout",
     "output_type": "stream",
     "text": [
      "There is no blood pressure data available during the extubated period.\n"
     ]
    },
    {
     "name": "stderr",
     "output_type": "stream",
     "text": [
      "VV3912 visit 2 failed: list index out of range\n",
      "QD2469 visit 2 failed: 'NoneType' object is not subscriptable\n"
     ]
    },
    {
     "name": "stdout",
     "output_type": "stream",
     "text": [
      "There is no blood pressure data available during the extubated period.\n"
     ]
    },
    {
     "name": "stderr",
     "output_type": "stream",
     "text": [
      "LD3298 visit 2 failed: 'NoneType' object is not subscriptable\n"
     ]
    },
    {
     "name": "stdout",
     "output_type": "stream",
     "text": [
      "There is no blood pressure data available during the extubated period.\n"
     ]
    },
    {
     "name": "stderr",
     "output_type": "stream",
     "text": [
      "PM2241 visit 2 failed: list index out of range\n",
      "WP0322 visit 2 failed: 'NoneType' object is not subscriptable\n",
      "JA2458 visit 3 failed: 'NoneType' object is not subscriptable\n",
      "LC1129 visit 3 failed: list index out of range\n",
      "YR3770 visit 3 failed: list index out of range\n",
      "WM2916 visit 3 failed: 'NoneType' object is not subscriptable\n",
      "IC3651 visit 4 failed: 'NoneType' object is not subscriptable\n"
     ]
    },
    {
     "name": "stdout",
     "output_type": "stream",
     "text": [
      "There is no blood pressure data available during the extubated period.\n",
      "There is no blood pressure data available during the extubated period.\n",
      "There is no blood pressure data available during the extubated period.\n",
      "There is no blood pressure data available during the extubated period.\n"
     ]
    },
    {
     "name": "stderr",
     "output_type": "stream",
     "text": [
      "SZ0828 visit 4 failed: 'NoneType' object is not subscriptable\n",
      "CN1187 visit 4 failed: 'NoneType' object is not subscriptable\n",
      "DD1778 visit 4 failed: 'NoneType' object is not subscriptable\n",
      "ST0725 visit 5 failed: 'NoneType' object is not subscriptable\n",
      "QY3232 visit 5 failed: 'NoneType' object is not subscriptable\n"
     ]
    },
    {
     "name": "stdout",
     "output_type": "stream",
     "text": [
      "There is no blood pressure data available during the extubated period.\n",
      "There is no blood pressure data available during the extubated period.\n",
      "There is no blood pressure data available during the extubated period.\n",
      "There is no blood pressure data available during the extubated period.\n",
      "There is no blood pressure data available during the extubated period.\n"
     ]
    },
    {
     "data": {
      "text/plain": [
       "(29, 28, 9, 54)"
      ]
     },
     "execution_count": 44,
     "metadata": {},
     "output_type": "execute_result"
    }
   ],
   "source": [
    "cohort1.mean_trend_count(abf = True)"
   ]
  },
  {
   "cell_type": "code",
   "execution_count": 45,
   "metadata": {},
   "outputs": [],
   "source": [
    "RD3976 = Visit(\"../In2Research_data/data/R/D/RD3976\", 1, cohort_1_details, cohort_2_details, cohort_3_details, cohort_4_details)"
   ]
  },
  {
   "cell_type": "code",
   "execution_count": 46,
   "metadata": {},
   "outputs": [
    {
     "ename": "NameError",
     "evalue": "name 'MV2170' is not defined",
     "output_type": "error",
     "traceback": [
      "\u001b[0;31m---------------------------------------------------------------------------\u001b[0m",
      "\u001b[0;31mNameError\u001b[0m                                 Traceback (most recent call last)",
      "\u001b[0;32m/var/folders/rg/6x4tlzs16c76vmthv_nxc63r0000gn/T/ipykernel_10135/2001324961.py\u001b[0m in \u001b[0;36m<module>\u001b[0;34m\u001b[0m\n\u001b[0;32m----> 1\u001b[0;31m \u001b[0mprint\u001b[0m\u001b[0;34m(\u001b[0m\u001b[0mMV2170\u001b[0m\u001b[0;34m.\u001b[0m\u001b[0mstart_time\u001b[0m\u001b[0;34m,\u001b[0m \u001b[0mMV2170\u001b[0m\u001b[0;34m.\u001b[0m\u001b[0mend_time\u001b[0m\u001b[0;34m)\u001b[0m\u001b[0;34m\u001b[0m\u001b[0;34m\u001b[0m\u001b[0m\n\u001b[0m",
      "\u001b[0;31mNameError\u001b[0m: name 'MV2170' is not defined"
     ]
    }
   ],
   "source": [
    "print(MV2170.start_time, MV2170.end_time)"
   ]
  },
  {
   "cell_type": "code",
   "execution_count": null,
   "metadata": {},
   "outputs": [
    {
     "data": {
      "text/html": [
       "<div>\n",
       "<style scoped>\n",
       "    .dataframe tbody tr th:only-of-type {\n",
       "        vertical-align: middle;\n",
       "    }\n",
       "\n",
       "    .dataframe tbody tr th {\n",
       "        vertical-align: top;\n",
       "    }\n",
       "\n",
       "    .dataframe thead th {\n",
       "        text-align: right;\n",
       "    }\n",
       "</style>\n",
       "<table border=\"1\" class=\"dataframe\">\n",
       "  <thead>\n",
       "    <tr style=\"text-align: right;\">\n",
       "      <th></th>\n",
       "      <th>Unnamed: 0</th>\n",
       "      <th>Project ID</th>\n",
       "      <th>birth_deid_date</th>\n",
       "      <th>death_deid_date</th>\n",
       "      <th>sex</th>\n",
       "      <th>icu_visit</th>\n",
       "      <th>icu_start_deid_dttm</th>\n",
       "      <th>icu_end_deid_dttm</th>\n",
       "      <th>failed_extubation_flag</th>\n",
       "      <th>failed_extubation_deid_date</th>\n",
       "      <th>intubation_flag</th>\n",
       "      <th>extubation_flag</th>\n",
       "      <th>extubation_deid_date</th>\n",
       "      <th>extubation_score</th>\n",
       "      <th>re_intubation_deid_date</th>\n",
       "      <th>icu_ward</th>\n",
       "      <th>total_visits</th>\n",
       "      <th>extubation_duration</th>\n",
       "      <th>age (days)</th>\n",
       "    </tr>\n",
       "  </thead>\n",
       "  <tbody>\n",
       "    <tr>\n",
       "      <th>117</th>\n",
       "      <td>5496</td>\n",
       "      <td>RD3976</td>\n",
       "      <td>2018-10-14 00:00:00</td>\n",
       "      <td>NaN</td>\n",
       "      <td>Male</td>\n",
       "      <td>1</td>\n",
       "      <td>2018-10-16 05:45:00</td>\n",
       "      <td>2018-10-23 19:09:00</td>\n",
       "      <td>1.0</td>\n",
       "      <td>2018-10-19 11:00:00</td>\n",
       "      <td>1</td>\n",
       "      <td>1.0</td>\n",
       "      <td>2018-10-19 11:00:00</td>\n",
       "      <td>5.0</td>\n",
       "      <td>2018-10-19 21:00:00</td>\n",
       "      <td>NICU</td>\n",
       "      <td>1</td>\n",
       "      <td>600.0</td>\n",
       "      <td>5.458333</td>\n",
       "    </tr>\n",
       "  </tbody>\n",
       "</table>\n",
       "</div>"
      ],
      "text/plain": [
       "     Unnamed: 0 Project ID      birth_deid_date  death_deid_date   sex  \\\n",
       "117        5496     RD3976  2018-10-14 00:00:00              NaN  Male   \n",
       "\n",
       "     icu_visit  icu_start_deid_dttm    icu_end_deid_dttm  \\\n",
       "117          1  2018-10-16 05:45:00  2018-10-23 19:09:00   \n",
       "\n",
       "     failed_extubation_flag failed_extubation_deid_date  intubation_flag  \\\n",
       "117                     1.0         2018-10-19 11:00:00                1   \n",
       "\n",
       "     extubation_flag extubation_deid_date  extubation_score  \\\n",
       "117              1.0  2018-10-19 11:00:00               5.0   \n",
       "\n",
       "    re_intubation_deid_date icu_ward  total_visits  extubation_duration  \\\n",
       "117     2018-10-19 21:00:00     NICU             1                600.0   \n",
       "\n",
       "     age (days)  \n",
       "117    5.458333  "
      ]
     },
     "execution_count": 30,
     "metadata": {},
     "output_type": "execute_result"
    }
   ],
   "source": [
    "RD3976.details"
   ]
  },
  {
   "cell_type": "code",
   "execution_count": null,
   "metadata": {},
   "outputs": [
    {
     "name": "stderr",
     "output_type": "stream",
     "text": [
      "/Users/lucindakhalil/opt/anaconda3/lib/python3.8/site-packages/pandas/core/indexing.py:1732: SettingWithCopyWarning: \n",
      "A value is trying to be set on a copy of a slice from a DataFrame\n",
      "\n",
      "See the caveats in the documentation: https://pandas.pydata.org/pandas-docs/stable/user_guide/indexing.html#returning-a-view-versus-a-copy\n",
      "  self._setitem_single_block(indexer, value, name)\n"
     ]
    },
    {
     "name": "stdout",
     "output_type": "stream",
     "text": [
      "There is no blood pressure data available during the extubated period.\n"
     ]
    },
    {
     "ename": "TypeError",
     "evalue": "'NoneType' object is not subscriptable",
     "output_type": "error",
     "traceback": [
      "\u001b[0;31m---------------------------------------------------------------------------\u001b[0m",
      "\u001b[0;31mTypeError\u001b[0m                                 Traceback (most recent call last)",
      "\u001b[0;32m/var/folders/rg/6x4tlzs16c76vmthv_nxc63r0000gn/T/ipykernel_89003/1411255052.py\u001b[0m in \u001b[0;36m<module>\u001b[0;34m\u001b[0m\n\u001b[0;32m----> 1\u001b[0;31m \u001b[0mRD3976\u001b[0m\u001b[0;34m.\u001b[0m\u001b[0mmean_trends\u001b[0m\u001b[0;34m(\u001b[0m\u001b[0;34m)\u001b[0m\u001b[0;34m\u001b[0m\u001b[0;34m\u001b[0m\u001b[0m\n\u001b[0m",
      "\u001b[0;32m~/Documents/In2Research/visits/visit.py\u001b[0m in \u001b[0;36mmean_trends\u001b[0;34m(self)\u001b[0m\n\u001b[1;32m    212\u001b[0m \u001b[0;34m\u001b[0m\u001b[0m\n\u001b[1;32m    213\u001b[0m     \u001b[0;32mdef\u001b[0m \u001b[0mmean_trends\u001b[0m\u001b[0;34m(\u001b[0m\u001b[0mself\u001b[0m\u001b[0;34m)\u001b[0m\u001b[0;34m:\u001b[0m\u001b[0;34m\u001b[0m\u001b[0;34m\u001b[0m\u001b[0m\n\u001b[0;32m--> 214\u001b[0;31m         \u001b[0;32mreturn\u001b[0m \u001b[0;34m[\u001b[0m\u001b[0mrolling_mean\u001b[0m\u001b[0;34m(\u001b[0m\u001b[0mself\u001b[0m\u001b[0;34m.\u001b[0m\u001b[0mhr\u001b[0m\u001b[0;34m(\u001b[0m\u001b[0;34m)\u001b[0m\u001b[0;34m)\u001b[0m\u001b[0;34m.\u001b[0m\u001b[0mtrend\u001b[0m\u001b[0;34m,\u001b[0m \u001b[0mrolling_mean\u001b[0m\u001b[0;34m(\u001b[0m\u001b[0mself\u001b[0m\u001b[0;34m.\u001b[0m\u001b[0mrr\u001b[0m\u001b[0;34m(\u001b[0m\u001b[0;34m)\u001b[0m\u001b[0;34m)\u001b[0m\u001b[0;34m.\u001b[0m\u001b[0mtrend\u001b[0m\u001b[0;34m,\u001b[0m \u001b[0mrolling_mean\u001b[0m\u001b[0;34m(\u001b[0m\u001b[0mself\u001b[0m\u001b[0;34m.\u001b[0m\u001b[0mabf\u001b[0m\u001b[0;34m(\u001b[0m\u001b[0;34m)\u001b[0m\u001b[0;34m)\u001b[0m\u001b[0;34m.\u001b[0m\u001b[0mtrend\u001b[0m\u001b[0;34m]\u001b[0m\u001b[0;34m\u001b[0m\u001b[0;34m\u001b[0m\u001b[0m\n\u001b[0m\u001b[1;32m    215\u001b[0m \u001b[0;34m\u001b[0m\u001b[0m\n\u001b[1;32m    216\u001b[0m \u001b[0;34m\u001b[0m\u001b[0m\n",
      "\u001b[0;32m~/Documents/In2Research/visits/visit.py\u001b[0m in \u001b[0;36mrolling_mean\u001b[0;34m(df, window)\u001b[0m\n\u001b[1;32m     32\u001b[0m \u001b[0;32mdef\u001b[0m \u001b[0mrolling_mean\u001b[0m\u001b[0;34m(\u001b[0m\u001b[0mdf\u001b[0m\u001b[0;34m,\u001b[0m \u001b[0mwindow\u001b[0m\u001b[0;34m=\u001b[0m\u001b[0;36m60\u001b[0m\u001b[0;34m)\u001b[0m\u001b[0;34m:\u001b[0m\u001b[0;34m\u001b[0m\u001b[0;34m\u001b[0m\u001b[0m\n\u001b[1;32m     33\u001b[0m \u001b[0;34m\u001b[0m\u001b[0m\n\u001b[0;32m---> 34\u001b[0;31m     \u001b[0mdf\u001b[0m\u001b[0;34m[\u001b[0m\u001b[0;34m'num_value'\u001b[0m\u001b[0;34m]\u001b[0m \u001b[0;34m=\u001b[0m \u001b[0mdf\u001b[0m\u001b[0;34m[\u001b[0m\u001b[0;34m'num_value'\u001b[0m\u001b[0;34m]\u001b[0m\u001b[0;34m.\u001b[0m\u001b[0mfillna\u001b[0m\u001b[0;34m(\u001b[0m\u001b[0mdf\u001b[0m\u001b[0;34m[\u001b[0m\u001b[0;34m'num_value'\u001b[0m\u001b[0;34m]\u001b[0m\u001b[0;34m.\u001b[0m\u001b[0mmean\u001b[0m\u001b[0;34m(\u001b[0m\u001b[0;34m)\u001b[0m\u001b[0;34m)\u001b[0m\u001b[0;34m\u001b[0m\u001b[0;34m\u001b[0m\u001b[0m\n\u001b[0m\u001b[1;32m     35\u001b[0m \u001b[0;34m\u001b[0m\u001b[0m\n\u001b[1;32m     36\u001b[0m     \u001b[0mk\u001b[0m\u001b[0;34m=\u001b[0m\u001b[0;36m0\u001b[0m\u001b[0;34m\u001b[0m\u001b[0;34m\u001b[0m\u001b[0m\n",
      "\u001b[0;31mTypeError\u001b[0m: 'NoneType' object is not subscriptable"
     ]
    }
   ],
   "source": [
    "RD3976.mean_trends()"
   ]
  },
  {
   "cell_type": "code",
   "execution_count": null,
   "metadata": {},
   "outputs": [
    {
     "data": {
      "text/html": [
       "<div>\n",
       "<style scoped>\n",
       "    .dataframe tbody tr th:only-of-type {\n",
       "        vertical-align: middle;\n",
       "    }\n",
       "\n",
       "    .dataframe tbody tr th {\n",
       "        vertical-align: top;\n",
       "    }\n",
       "\n",
       "    .dataframe thead th {\n",
       "        text-align: right;\n",
       "    }\n",
       "</style>\n",
       "<table border=\"1\" class=\"dataframe\">\n",
       "  <thead>\n",
       "    <tr style=\"text-align: right;\">\n",
       "      <th></th>\n",
       "      <th>monitor</th>\n",
       "      <th>record_date_time</th>\n",
       "      <th>num_value</th>\n",
       "    </tr>\n",
       "  </thead>\n",
       "  <tbody>\n",
       "    <tr>\n",
       "      <th>0</th>\n",
       "      <td>HR</td>\n",
       "      <td>2018-10-19 11:00:08</td>\n",
       "      <td>139</td>\n",
       "    </tr>\n",
       "    <tr>\n",
       "      <th>1</th>\n",
       "      <td>HR</td>\n",
       "      <td>2018-10-19 11:00:13</td>\n",
       "      <td>139</td>\n",
       "    </tr>\n",
       "    <tr>\n",
       "      <th>2</th>\n",
       "      <td>HR</td>\n",
       "      <td>2018-10-19 11:00:18</td>\n",
       "      <td>139</td>\n",
       "    </tr>\n",
       "    <tr>\n",
       "      <th>3</th>\n",
       "      <td>HR</td>\n",
       "      <td>2018-10-19 11:00:28</td>\n",
       "      <td>143</td>\n",
       "    </tr>\n",
       "    <tr>\n",
       "      <th>4</th>\n",
       "      <td>HR</td>\n",
       "      <td>2018-10-19 11:00:33</td>\n",
       "      <td>142</td>\n",
       "    </tr>\n",
       "    <tr>\n",
       "      <th>...</th>\n",
       "      <td>...</td>\n",
       "      <td>...</td>\n",
       "      <td>...</td>\n",
       "    </tr>\n",
       "    <tr>\n",
       "      <th>6167</th>\n",
       "      <td>HR</td>\n",
       "      <td>2018-10-19 20:59:30</td>\n",
       "      <td>119</td>\n",
       "    </tr>\n",
       "    <tr>\n",
       "      <th>6168</th>\n",
       "      <td>HR</td>\n",
       "      <td>2018-10-19 20:59:35</td>\n",
       "      <td>116</td>\n",
       "    </tr>\n",
       "    <tr>\n",
       "      <th>6169</th>\n",
       "      <td>HR</td>\n",
       "      <td>2018-10-19 20:59:40</td>\n",
       "      <td>115</td>\n",
       "    </tr>\n",
       "    <tr>\n",
       "      <th>6170</th>\n",
       "      <td>HR</td>\n",
       "      <td>2018-10-19 20:59:45</td>\n",
       "      <td>116</td>\n",
       "    </tr>\n",
       "    <tr>\n",
       "      <th>6171</th>\n",
       "      <td>HR</td>\n",
       "      <td>2018-10-19 20:59:50</td>\n",
       "      <td>114</td>\n",
       "    </tr>\n",
       "  </tbody>\n",
       "</table>\n",
       "<p>6172 rows × 3 columns</p>\n",
       "</div>"
      ],
      "text/plain": [
       "     monitor    record_date_time  num_value\n",
       "0         HR 2018-10-19 11:00:08        139\n",
       "1         HR 2018-10-19 11:00:13        139\n",
       "2         HR 2018-10-19 11:00:18        139\n",
       "3         HR 2018-10-19 11:00:28        143\n",
       "4         HR 2018-10-19 11:00:33        142\n",
       "...      ...                 ...        ...\n",
       "6167      HR 2018-10-19 20:59:30        119\n",
       "6168      HR 2018-10-19 20:59:35        116\n",
       "6169      HR 2018-10-19 20:59:40        115\n",
       "6170      HR 2018-10-19 20:59:45        116\n",
       "6171      HR 2018-10-19 20:59:50        114\n",
       "\n",
       "[6172 rows x 3 columns]"
      ]
     },
     "execution_count": 32,
     "metadata": {},
     "output_type": "execute_result"
    }
   ],
   "source": [
    "RD3976.hr()"
   ]
  },
  {
   "cell_type": "code",
   "execution_count": null,
   "metadata": {},
   "outputs": [
    {
     "data": {
      "text/plain": [
       "Modified_Mann_Kendall_Test_Hamed_Rao_Approach(trend='no trend', h=False, p=0.08885335457311672, z=1.7014775253468848, Tau=0.18982770475452623, s=3615023.0, var_s=4514082119490.735, slope=0.002895403546869345, intercept=106.06623235613463)"
      ]
     },
     "execution_count": 33,
     "metadata": {},
     "output_type": "execute_result"
    }
   ],
   "source": [
    "mk.hamed_rao_modification_test(RD3976.hr()['num_value'])"
   ]
  },
  {
   "cell_type": "code",
   "execution_count": null,
   "metadata": {},
   "outputs": [
    {
     "data": {
      "text/plain": [
       "6173"
      ]
     },
     "execution_count": 15,
     "metadata": {},
     "output_type": "execute_result"
    }
   ],
   "source": [
    "len(RD3976.hr())"
   ]
  },
  {
   "cell_type": "code",
   "execution_count": null,
   "metadata": {},
   "outputs": [],
   "source": [
    "df = RD3976.hr()\n",
    "window = 60\n",
    "k=0\n",
    "mean_df = pd.DataFrame(columns=['start_time','end_time','mean'])\n",
    "\n",
    "while (df['record_date_time'].iloc[0] + timedelta(minutes=window+k)) < df['record_date_time'].iloc[-1]:\n",
    "    index_1 = df.record_date_time.searchsorted(df['record_date_time'].iloc[0] + timedelta(minutes=k))\n",
    "    index_2 = df.record_date_time.searchsorted(df['record_date_time'].iloc[0] + timedelta(minutes=window+k))\n",
    "\n",
    "    mean = df['num_value'][index_1:index_2].mean()\n",
    "\n",
    "    mean_df = mean_df.append({'start_time': df['record_date_time'].iloc[index_1], 'end_time':df['record_date_time'].iloc[index_2], 'mean':mean}, ignore_index=True)\n",
    "    k += 1"
   ]
  },
  {
   "cell_type": "code",
   "execution_count": null,
   "metadata": {},
   "outputs": [],
   "source": [
    "index1 = df.record_date_time.searchsorted(df['record_date_time'].iloc[0] + timedelta(minutes=8))"
   ]
  },
  {
   "cell_type": "code",
   "execution_count": null,
   "metadata": {},
   "outputs": [],
   "source": [
    "index2 = df.record_date_time.searchsorted(df['record_date_time'].iloc[0] + timedelta(minutes=window+k))"
   ]
  },
  {
   "cell_type": "code",
   "execution_count": null,
   "metadata": {},
   "outputs": [
    {
     "data": {
      "text/plain": [
       "55705    138\n",
       "55706    138\n",
       "55707    138\n",
       "55708    145\n",
       "55709    145\n",
       "        ... \n",
       "56333    127\n",
       "56334    127\n",
       "56335    126\n",
       "56336    126\n",
       "56337    126\n",
       "Name: num_value, Length: 633, dtype: int64"
      ]
     },
     "execution_count": 60,
     "metadata": {},
     "output_type": "execute_result"
    }
   ],
   "source": [
    " df['num_value'][index_1:index_2]"
   ]
  },
  {
   "cell_type": "code",
   "execution_count": null,
   "metadata": {},
   "outputs": [
    {
     "name": "stdout",
     "output_type": "stream",
     "text": [
      "138.35860979462876\n"
     ]
    }
   ],
   "source": [
    "mean = df['num_value'][index_1:index_2].mean()\n",
    "print(mean)"
   ]
  },
  {
   "cell_type": "code",
   "execution_count": null,
   "metadata": {},
   "outputs": [
    {
     "data": {
      "text/html": [
       "<div>\n",
       "<style scoped>\n",
       "    .dataframe tbody tr th:only-of-type {\n",
       "        vertical-align: middle;\n",
       "    }\n",
       "\n",
       "    .dataframe tbody tr th {\n",
       "        vertical-align: top;\n",
       "    }\n",
       "\n",
       "    .dataframe thead th {\n",
       "        text-align: right;\n",
       "    }\n",
       "</style>\n",
       "<table border=\"1\" class=\"dataframe\">\n",
       "  <thead>\n",
       "    <tr style=\"text-align: right;\">\n",
       "      <th></th>\n",
       "      <th>start_time</th>\n",
       "      <th>end_time</th>\n",
       "      <th>mean</th>\n",
       "    </tr>\n",
       "  </thead>\n",
       "  <tbody>\n",
       "    <tr>\n",
       "      <th>0</th>\n",
       "      <td>2018-10-19 11:00:08</td>\n",
       "      <td>2018-10-19 12:00:13</td>\n",
       "      <td>121.900164</td>\n",
       "    </tr>\n",
       "    <tr>\n",
       "      <th>1</th>\n",
       "      <td>2018-10-19 11:01:08</td>\n",
       "      <td>2018-10-19 12:01:12</td>\n",
       "      <td>121.736928</td>\n",
       "    </tr>\n",
       "    <tr>\n",
       "      <th>2</th>\n",
       "      <td>2018-10-19 11:02:08</td>\n",
       "      <td>2018-10-19 12:02:12</td>\n",
       "      <td>121.586601</td>\n",
       "    </tr>\n",
       "    <tr>\n",
       "      <th>3</th>\n",
       "      <td>2018-10-19 11:03:08</td>\n",
       "      <td>2018-10-19 12:03:12</td>\n",
       "      <td>121.636215</td>\n",
       "    </tr>\n",
       "    <tr>\n",
       "      <th>4</th>\n",
       "      <td>2018-10-19 11:04:08</td>\n",
       "      <td>2018-10-19 12:04:12</td>\n",
       "      <td>121.334421</td>\n",
       "    </tr>\n",
       "    <tr>\n",
       "      <th>...</th>\n",
       "      <td>...</td>\n",
       "      <td>...</td>\n",
       "      <td>...</td>\n",
       "    </tr>\n",
       "    <tr>\n",
       "      <th>535</th>\n",
       "      <td>2018-10-19 19:55:11</td>\n",
       "      <td>2018-10-19 20:55:10</td>\n",
       "      <td>139.033228</td>\n",
       "    </tr>\n",
       "    <tr>\n",
       "      <th>536</th>\n",
       "      <td>2018-10-19 19:56:11</td>\n",
       "      <td>2018-10-19 20:56:10</td>\n",
       "      <td>138.803797</td>\n",
       "    </tr>\n",
       "    <tr>\n",
       "      <th>537</th>\n",
       "      <td>2018-10-19 19:57:11</td>\n",
       "      <td>2018-10-19 20:57:10</td>\n",
       "      <td>138.763033</td>\n",
       "    </tr>\n",
       "    <tr>\n",
       "      <th>538</th>\n",
       "      <td>2018-10-19 19:58:11</td>\n",
       "      <td>2018-10-19 20:58:10</td>\n",
       "      <td>138.533965</td>\n",
       "    </tr>\n",
       "    <tr>\n",
       "      <th>539</th>\n",
       "      <td>2018-10-19 19:59:11</td>\n",
       "      <td>2018-10-19 20:59:10</td>\n",
       "      <td>138.358610</td>\n",
       "    </tr>\n",
       "  </tbody>\n",
       "</table>\n",
       "<p>540 rows × 3 columns</p>\n",
       "</div>"
      ],
      "text/plain": [
       "             start_time            end_time        mean\n",
       "0   2018-10-19 11:00:08 2018-10-19 12:00:13  121.900164\n",
       "1   2018-10-19 11:01:08 2018-10-19 12:01:12  121.736928\n",
       "2   2018-10-19 11:02:08 2018-10-19 12:02:12  121.586601\n",
       "3   2018-10-19 11:03:08 2018-10-19 12:03:12  121.636215\n",
       "4   2018-10-19 11:04:08 2018-10-19 12:04:12  121.334421\n",
       "..                  ...                 ...         ...\n",
       "535 2018-10-19 19:55:11 2018-10-19 20:55:10  139.033228\n",
       "536 2018-10-19 19:56:11 2018-10-19 20:56:10  138.803797\n",
       "537 2018-10-19 19:57:11 2018-10-19 20:57:10  138.763033\n",
       "538 2018-10-19 19:58:11 2018-10-19 20:58:10  138.533965\n",
       "539 2018-10-19 19:59:11 2018-10-19 20:59:10  138.358610\n",
       "\n",
       "[540 rows x 3 columns]"
      ]
     },
     "execution_count": 62,
     "metadata": {},
     "output_type": "execute_result"
    }
   ],
   "source": [
    "mean_df"
   ]
  },
  {
   "cell_type": "code",
   "execution_count": null,
   "metadata": {},
   "outputs": [
    {
     "data": {
      "text/plain": [
       "Modified_Mann_Kendall_Test_Hamed_Rao_Approach(trend='no trend', h=False, p=0.155446780493115, z=1.420552896303992, Tau=0.18581048581048581, s=27041.0, var_s=362325211.7393694, slope=0.023078546365776317, intercept=106.16117952723326)"
      ]
     },
     "execution_count": 63,
     "metadata": {},
     "output_type": "execute_result"
    }
   ],
   "source": [
    "mk.hamed_rao_modification_test(mean_df['mean'])"
   ]
  },
  {
   "cell_type": "code",
   "execution_count": null,
   "metadata": {},
   "outputs": [
    {
     "ename": "KeyError",
     "evalue": "6163",
     "output_type": "error",
     "traceback": [
      "\u001b[0;31m---------------------------------------------------------------------------\u001b[0m",
      "\u001b[0;31mValueError\u001b[0m                                Traceback (most recent call last)",
      "\u001b[0;32m~/opt/anaconda3/lib/python3.8/site-packages/pandas/core/indexes/range.py\u001b[0m in \u001b[0;36mget_loc\u001b[0;34m(self, key, method, tolerance)\u001b[0m\n\u001b[1;32m    384\u001b[0m                 \u001b[0;32mtry\u001b[0m\u001b[0;34m:\u001b[0m\u001b[0;34m\u001b[0m\u001b[0;34m\u001b[0m\u001b[0m\n\u001b[0;32m--> 385\u001b[0;31m                     \u001b[0;32mreturn\u001b[0m \u001b[0mself\u001b[0m\u001b[0;34m.\u001b[0m\u001b[0m_range\u001b[0m\u001b[0;34m.\u001b[0m\u001b[0mindex\u001b[0m\u001b[0;34m(\u001b[0m\u001b[0mnew_key\u001b[0m\u001b[0;34m)\u001b[0m\u001b[0;34m\u001b[0m\u001b[0;34m\u001b[0m\u001b[0m\n\u001b[0m\u001b[1;32m    386\u001b[0m                 \u001b[0;32mexcept\u001b[0m \u001b[0mValueError\u001b[0m \u001b[0;32mas\u001b[0m \u001b[0merr\u001b[0m\u001b[0;34m:\u001b[0m\u001b[0;34m\u001b[0m\u001b[0;34m\u001b[0m\u001b[0m\n",
      "\u001b[0;31mValueError\u001b[0m: 6163 is not in range",
      "\nThe above exception was the direct cause of the following exception:\n",
      "\u001b[0;31mKeyError\u001b[0m                                  Traceback (most recent call last)",
      "\u001b[0;32m/var/folders/rg/6x4tlzs16c76vmthv_nxc63r0000gn/T/ipykernel_78548/3857807203.py\u001b[0m in \u001b[0;36m<module>\u001b[0;34m\u001b[0m\n\u001b[0;32m----> 1\u001b[0;31m \u001b[0mpd\u001b[0m\u001b[0;34m.\u001b[0m\u001b[0misnull\u001b[0m\u001b[0;34m(\u001b[0m\u001b[0mdf\u001b[0m\u001b[0;34m[\u001b[0m\u001b[0;34m'num_value'\u001b[0m\u001b[0;34m]\u001b[0m\u001b[0;34m[\u001b[0m\u001b[0mindex_2\u001b[0m\u001b[0;34m]\u001b[0m\u001b[0;34m)\u001b[0m\u001b[0;34m\u001b[0m\u001b[0;34m\u001b[0m\u001b[0m\n\u001b[0m",
      "\u001b[0;32m~/opt/anaconda3/lib/python3.8/site-packages/pandas/core/series.py\u001b[0m in \u001b[0;36m__getitem__\u001b[0;34m(self, key)\u001b[0m\n\u001b[1;32m    940\u001b[0m \u001b[0;34m\u001b[0m\u001b[0m\n\u001b[1;32m    941\u001b[0m         \u001b[0;32melif\u001b[0m \u001b[0mkey_is_scalar\u001b[0m\u001b[0;34m:\u001b[0m\u001b[0;34m\u001b[0m\u001b[0;34m\u001b[0m\u001b[0m\n\u001b[0;32m--> 942\u001b[0;31m             \u001b[0;32mreturn\u001b[0m \u001b[0mself\u001b[0m\u001b[0;34m.\u001b[0m\u001b[0m_get_value\u001b[0m\u001b[0;34m(\u001b[0m\u001b[0mkey\u001b[0m\u001b[0;34m)\u001b[0m\u001b[0;34m\u001b[0m\u001b[0;34m\u001b[0m\u001b[0m\n\u001b[0m\u001b[1;32m    943\u001b[0m \u001b[0;34m\u001b[0m\u001b[0m\n\u001b[1;32m    944\u001b[0m         \u001b[0;32mif\u001b[0m \u001b[0mis_hashable\u001b[0m\u001b[0;34m(\u001b[0m\u001b[0mkey\u001b[0m\u001b[0;34m)\u001b[0m\u001b[0;34m:\u001b[0m\u001b[0;34m\u001b[0m\u001b[0;34m\u001b[0m\u001b[0m\n",
      "\u001b[0;32m~/opt/anaconda3/lib/python3.8/site-packages/pandas/core/series.py\u001b[0m in \u001b[0;36m_get_value\u001b[0;34m(self, label, takeable)\u001b[0m\n\u001b[1;32m   1049\u001b[0m \u001b[0;34m\u001b[0m\u001b[0m\n\u001b[1;32m   1050\u001b[0m         \u001b[0;31m# Similar to Index.get_value, but we do not fall back to positional\u001b[0m\u001b[0;34m\u001b[0m\u001b[0;34m\u001b[0m\u001b[0;34m\u001b[0m\u001b[0m\n\u001b[0;32m-> 1051\u001b[0;31m         \u001b[0mloc\u001b[0m \u001b[0;34m=\u001b[0m \u001b[0mself\u001b[0m\u001b[0;34m.\u001b[0m\u001b[0mindex\u001b[0m\u001b[0;34m.\u001b[0m\u001b[0mget_loc\u001b[0m\u001b[0;34m(\u001b[0m\u001b[0mlabel\u001b[0m\u001b[0;34m)\u001b[0m\u001b[0;34m\u001b[0m\u001b[0;34m\u001b[0m\u001b[0m\n\u001b[0m\u001b[1;32m   1052\u001b[0m         \u001b[0;32mreturn\u001b[0m \u001b[0mself\u001b[0m\u001b[0;34m.\u001b[0m\u001b[0mindex\u001b[0m\u001b[0;34m.\u001b[0m\u001b[0m_get_values_for_loc\u001b[0m\u001b[0;34m(\u001b[0m\u001b[0mself\u001b[0m\u001b[0;34m,\u001b[0m \u001b[0mloc\u001b[0m\u001b[0;34m,\u001b[0m \u001b[0mlabel\u001b[0m\u001b[0;34m)\u001b[0m\u001b[0;34m\u001b[0m\u001b[0;34m\u001b[0m\u001b[0m\n\u001b[1;32m   1053\u001b[0m \u001b[0;34m\u001b[0m\u001b[0m\n",
      "\u001b[0;32m~/opt/anaconda3/lib/python3.8/site-packages/pandas/core/indexes/range.py\u001b[0m in \u001b[0;36mget_loc\u001b[0;34m(self, key, method, tolerance)\u001b[0m\n\u001b[1;32m    385\u001b[0m                     \u001b[0;32mreturn\u001b[0m \u001b[0mself\u001b[0m\u001b[0;34m.\u001b[0m\u001b[0m_range\u001b[0m\u001b[0;34m.\u001b[0m\u001b[0mindex\u001b[0m\u001b[0;34m(\u001b[0m\u001b[0mnew_key\u001b[0m\u001b[0;34m)\u001b[0m\u001b[0;34m\u001b[0m\u001b[0;34m\u001b[0m\u001b[0m\n\u001b[1;32m    386\u001b[0m                 \u001b[0;32mexcept\u001b[0m \u001b[0mValueError\u001b[0m \u001b[0;32mas\u001b[0m \u001b[0merr\u001b[0m\u001b[0;34m:\u001b[0m\u001b[0;34m\u001b[0m\u001b[0;34m\u001b[0m\u001b[0m\n\u001b[0;32m--> 387\u001b[0;31m                     \u001b[0;32mraise\u001b[0m \u001b[0mKeyError\u001b[0m\u001b[0;34m(\u001b[0m\u001b[0mkey\u001b[0m\u001b[0;34m)\u001b[0m \u001b[0;32mfrom\u001b[0m \u001b[0merr\u001b[0m\u001b[0;34m\u001b[0m\u001b[0;34m\u001b[0m\u001b[0m\n\u001b[0m\u001b[1;32m    388\u001b[0m             \u001b[0;32mraise\u001b[0m \u001b[0mKeyError\u001b[0m\u001b[0;34m(\u001b[0m\u001b[0mkey\u001b[0m\u001b[0;34m)\u001b[0m\u001b[0;34m\u001b[0m\u001b[0;34m\u001b[0m\u001b[0m\n\u001b[1;32m    389\u001b[0m         \u001b[0;32mreturn\u001b[0m \u001b[0msuper\u001b[0m\u001b[0;34m(\u001b[0m\u001b[0;34m)\u001b[0m\u001b[0;34m.\u001b[0m\u001b[0mget_loc\u001b[0m\u001b[0;34m(\u001b[0m\u001b[0mkey\u001b[0m\u001b[0;34m,\u001b[0m \u001b[0mmethod\u001b[0m\u001b[0;34m=\u001b[0m\u001b[0mmethod\u001b[0m\u001b[0;34m,\u001b[0m \u001b[0mtolerance\u001b[0m\u001b[0;34m=\u001b[0m\u001b[0mtolerance\u001b[0m\u001b[0;34m)\u001b[0m\u001b[0;34m\u001b[0m\u001b[0;34m\u001b[0m\u001b[0m\n",
      "\u001b[0;31mKeyError\u001b[0m: 6163"
     ]
    }
   ],
   "source": [
    "pd.isnull(df['num_value'][index_2])"
   ]
  },
  {
   "cell_type": "code",
   "execution_count": null,
   "metadata": {},
   "outputs": [
    {
     "data": {
      "text/plain": [
       "91"
      ]
     },
     "execution_count": 65,
     "metadata": {},
     "output_type": "execute_result"
    }
   ],
   "source": [
    "index1"
   ]
  },
  {
   "cell_type": "code",
   "execution_count": null,
   "metadata": {},
   "outputs": [],
   "source": [
    "def rolling_mean(df, window=60):\n",
    "\n",
    "    global mean_df\n",
    "\n",
    "    df['num_value'] = df['num_value'].fillna(df['num_value'].mean())\n",
    "\n",
    "    k=0\n",
    "    mean_df = pd.DataFrame(columns=['start_time','end_time','mean'])\n",
    "\n",
    "    if not df.empty:\n",
    "        while (df['record_date_time'].iloc[0] + timedelta(minutes=window+k)) < (df['record_date_time'].iloc[-1]):\n",
    "            index_1 = df.record_date_time.searchsorted(df['record_date_time'].iloc[0] + timedelta(minutes=k))\n",
    "            index_2 = df.record_date_time.searchsorted(df['record_date_time'].iloc[0] + timedelta(minutes=window+k))\n",
    "\n",
    "            while pd.isnull(df['num_value'][index_1]):\n",
    "                index_1 += 1\n",
    "            \n",
    "            while pd.isnull(df['num_value'][index_2]):\n",
    "                index_2 -= 1\n",
    "\n",
    "            mean = df['num_value'][index_1:index_2].mean()\n",
    "\n",
    "            mean_df = mean_df.append({'start_time': df['record_date_time'].iloc[index_1], 'end_time':df['record_date_time'].iloc[index_2], 'mean':mean}, ignore_index=True)\n",
    "            k += 1\n",
    "    \n",
    "    for i, row in enumerate(mean_df['mean']):\n",
    "        if pd.isnull(row):\n",
    "            df = df.drop(i)\n",
    "    \n",
    "    if not mean_df.empty:\n",
    "        mean_df['mean'] = pd.to_numeric(mean_df['mean'])\n",
    "\n",
    "    return mk.hamed_rao_modification_test(mean_df['mean'])"
   ]
  },
  {
   "cell_type": "code",
   "execution_count": null,
   "metadata": {},
   "outputs": [],
   "source": [
    "ZW1285 = Visit(\"../In2Research_data/data/Z/W/ZW1285\", 1, cohort_1_details, cohort_2_details, cohort_3_details, cohort_4_details)"
   ]
  },
  {
   "cell_type": "code",
   "execution_count": null,
   "metadata": {},
   "outputs": [
    {
     "name": "stdout",
     "output_type": "stream",
     "text": [
      "2016-03-22 12:30:00 2016-03-22 04:00:00\n"
     ]
    }
   ],
   "source": [
    "print(ZW1285.start_time, ZW1285.end_time)"
   ]
  },
  {
   "cell_type": "code",
   "execution_count": null,
   "metadata": {},
   "outputs": [],
   "source": [
    "self = ZW1285\n",
    "hr = [file for file in glob.glob(self.directory + \"/*\") if (f\"_{self.visit_no}_HR\") in file]\n",
    "hr_temp_df = pd.read_csv(hr[0], sep=\",\")\n",
    "hr_temp_df['record_date_time'] = pd.to_datetime(hr_temp_df['record_date_time'], format='%Y-%m-%d %H:%M:%S')\n",
    "start_index = hr_temp_df.record_date_time.searchsorted(self.start_time)\n",
    "end_index = hr_temp_df.record_date_time.searchsorted(self.end_time, side=\"right\")\n",
    "# hr_df = hr_temp_df.iloc[start_index+1:end_index-1, :]\n",
    "# hr_df.index = range(len(hr_df))\n",
    "# hr_df"
   ]
  },
  {
   "cell_type": "code",
   "execution_count": null,
   "metadata": {},
   "outputs": [
    {
     "data": {
      "text/plain": [
       "True"
      ]
     },
     "execution_count": 24,
     "metadata": {},
     "output_type": "execute_result"
    }
   ],
   "source": [
    "(self.end_time - hr_temp_df['record_date_time'].iloc[end_index-1]).seconds/60 > 20"
   ]
  },
  {
   "cell_type": "code",
   "execution_count": null,
   "metadata": {},
   "outputs": [
    {
     "data": {
      "text/plain": [
       "Timestamp('2016-03-22 04:00:00')"
      ]
     },
     "execution_count": 25,
     "metadata": {},
     "output_type": "execute_result"
    }
   ],
   "source": [
    "self.end_time"
   ]
  },
  {
   "cell_type": "code",
   "execution_count": null,
   "metadata": {},
   "outputs": [
    {
     "data": {
      "text/html": [
       "<div>\n",
       "<style scoped>\n",
       "    .dataframe tbody tr th:only-of-type {\n",
       "        vertical-align: middle;\n",
       "    }\n",
       "\n",
       "    .dataframe tbody tr th {\n",
       "        vertical-align: top;\n",
       "    }\n",
       "\n",
       "    .dataframe thead th {\n",
       "        text-align: right;\n",
       "    }\n",
       "</style>\n",
       "<table border=\"1\" class=\"dataframe\">\n",
       "  <thead>\n",
       "    <tr style=\"text-align: right;\">\n",
       "      <th></th>\n",
       "      <th>monitor</th>\n",
       "      <th>record_date_time</th>\n",
       "      <th>num_value</th>\n",
       "    </tr>\n",
       "  </thead>\n",
       "  <tbody>\n",
       "    <tr>\n",
       "      <th>0</th>\n",
       "      <td>HR</td>\n",
       "      <td>2016-03-17 20:48:05</td>\n",
       "      <td>196</td>\n",
       "    </tr>\n",
       "    <tr>\n",
       "      <th>1</th>\n",
       "      <td>HR</td>\n",
       "      <td>2016-03-17 20:48:10</td>\n",
       "      <td>194</td>\n",
       "    </tr>\n",
       "    <tr>\n",
       "      <th>2</th>\n",
       "      <td>HR</td>\n",
       "      <td>2016-03-17 20:48:15</td>\n",
       "      <td>195</td>\n",
       "    </tr>\n",
       "    <tr>\n",
       "      <th>3</th>\n",
       "      <td>HR</td>\n",
       "      <td>2016-03-17 20:48:20</td>\n",
       "      <td>197</td>\n",
       "    </tr>\n",
       "    <tr>\n",
       "      <th>4</th>\n",
       "      <td>HR</td>\n",
       "      <td>2016-03-17 20:48:25</td>\n",
       "      <td>196</td>\n",
       "    </tr>\n",
       "    <tr>\n",
       "      <th>...</th>\n",
       "      <td>...</td>\n",
       "      <td>...</td>\n",
       "      <td>...</td>\n",
       "    </tr>\n",
       "    <tr>\n",
       "      <th>333947</th>\n",
       "      <td>HR</td>\n",
       "      <td>2016-05-08 07:10:40</td>\n",
       "      <td>163</td>\n",
       "    </tr>\n",
       "    <tr>\n",
       "      <th>333948</th>\n",
       "      <td>HR</td>\n",
       "      <td>2016-05-08 07:10:45</td>\n",
       "      <td>166</td>\n",
       "    </tr>\n",
       "    <tr>\n",
       "      <th>333949</th>\n",
       "      <td>HR</td>\n",
       "      <td>2016-05-08 07:10:50</td>\n",
       "      <td>160</td>\n",
       "    </tr>\n",
       "    <tr>\n",
       "      <th>333950</th>\n",
       "      <td>HR</td>\n",
       "      <td>2016-05-08 07:10:55</td>\n",
       "      <td>155</td>\n",
       "    </tr>\n",
       "    <tr>\n",
       "      <th>333951</th>\n",
       "      <td>HR</td>\n",
       "      <td>2016-05-08 07:11:00</td>\n",
       "      <td>156</td>\n",
       "    </tr>\n",
       "  </tbody>\n",
       "</table>\n",
       "<p>333952 rows × 3 columns</p>\n",
       "</div>"
      ],
      "text/plain": [
       "       monitor    record_date_time  num_value\n",
       "0           HR 2016-03-17 20:48:05        196\n",
       "1           HR 2016-03-17 20:48:10        194\n",
       "2           HR 2016-03-17 20:48:15        195\n",
       "3           HR 2016-03-17 20:48:20        197\n",
       "4           HR 2016-03-17 20:48:25        196\n",
       "...        ...                 ...        ...\n",
       "333947      HR 2016-05-08 07:10:40        163\n",
       "333948      HR 2016-05-08 07:10:45        166\n",
       "333949      HR 2016-05-08 07:10:50        160\n",
       "333950      HR 2016-05-08 07:10:55        155\n",
       "333951      HR 2016-05-08 07:11:00        156\n",
       "\n",
       "[333952 rows x 3 columns]"
      ]
     },
     "execution_count": 26,
     "metadata": {},
     "output_type": "execute_result"
    }
   ],
   "source": [
    "hr_temp_df"
   ]
  },
  {
   "cell_type": "code",
   "execution_count": null,
   "metadata": {},
   "outputs": [
    {
     "data": {
      "text/plain": [
       "69449"
      ]
     },
     "execution_count": 27,
     "metadata": {},
     "output_type": "execute_result"
    }
   ],
   "source": [
    "end_index"
   ]
  },
  {
   "cell_type": "markdown",
   "metadata": {},
   "source": [
    "# 8(?) visits like ZW1285 where no heart rate data is available during the period of extubation"
   ]
  },
  {
   "cell_type": "code",
   "execution_count": null,
   "metadata": {},
   "outputs": [
    {
     "ename": "MissingDataError",
     "evalue": "Time series data is not available close enough to the critical point",
     "output_type": "error",
     "traceback": [
      "\u001b[0;31m---------------------------------------------------------------------------\u001b[0m",
      "\u001b[0;31mMissingDataError\u001b[0m                          Traceback (most recent call last)",
      "\u001b[0;32m/var/folders/rg/6x4tlzs16c76vmthv_nxc63r0000gn/T/ipykernel_96881/3415891779.py\u001b[0m in \u001b[0;36m<module>\u001b[0;34m\u001b[0m\n\u001b[0;32m----> 1\u001b[0;31m \u001b[0mdf\u001b[0m \u001b[0;34m=\u001b[0m \u001b[0mZW1285\u001b[0m\u001b[0;34m.\u001b[0m\u001b[0mhr\u001b[0m\u001b[0;34m(\u001b[0m\u001b[0;34m)\u001b[0m\u001b[0;34m\u001b[0m\u001b[0;34m\u001b[0m\u001b[0m\n\u001b[0m\u001b[1;32m      2\u001b[0m \u001b[0mdf\u001b[0m\u001b[0;34m\u001b[0m\u001b[0;34m\u001b[0m\u001b[0m\n",
      "\u001b[0;32m~/Documents/In2Research/visits/visit.py\u001b[0m in \u001b[0;36mhr\u001b[0;34m(self)\u001b[0m\n\u001b[1;32m    153\u001b[0m \u001b[0;34m\u001b[0m\u001b[0m\n\u001b[1;32m    154\u001b[0m             \u001b[0;32mif\u001b[0m \u001b[0;34m(\u001b[0m\u001b[0mself\u001b[0m\u001b[0;34m.\u001b[0m\u001b[0mend_time\u001b[0m \u001b[0;34m-\u001b[0m \u001b[0mhr_temp_df\u001b[0m\u001b[0;34m[\u001b[0m\u001b[0;34m'record_date_time'\u001b[0m\u001b[0;34m]\u001b[0m\u001b[0;34m.\u001b[0m\u001b[0miloc\u001b[0m\u001b[0;34m[\u001b[0m\u001b[0mend_index\u001b[0m\u001b[0;34m-\u001b[0m\u001b[0;36m1\u001b[0m\u001b[0;34m]\u001b[0m\u001b[0;34m)\u001b[0m\u001b[0;34m.\u001b[0m\u001b[0mseconds\u001b[0m\u001b[0;34m/\u001b[0m\u001b[0;36m60\u001b[0m \u001b[0;34m>\u001b[0m \u001b[0;36m20\u001b[0m\u001b[0;34m:\u001b[0m\u001b[0;34m\u001b[0m\u001b[0;34m\u001b[0m\u001b[0m\n\u001b[0;32m--> 155\u001b[0;31m                 \u001b[0;32mraise\u001b[0m \u001b[0mMissingDataError\u001b[0m\u001b[0;34m(\u001b[0m\u001b[0;34m\"Time series data is not available close enough to the critical point\"\u001b[0m\u001b[0;34m)\u001b[0m\u001b[0;34m\u001b[0m\u001b[0;34m\u001b[0m\u001b[0m\n\u001b[0m\u001b[1;32m    156\u001b[0m \u001b[0;34m\u001b[0m\u001b[0m\n\u001b[1;32m    157\u001b[0m             \u001b[0mhr_df\u001b[0m \u001b[0;34m=\u001b[0m \u001b[0mhr_temp_df\u001b[0m\u001b[0;34m.\u001b[0m\u001b[0miloc\u001b[0m\u001b[0;34m[\u001b[0m\u001b[0mstart_index\u001b[0m\u001b[0;34m+\u001b[0m\u001b[0;36m1\u001b[0m\u001b[0;34m:\u001b[0m\u001b[0mend_index\u001b[0m\u001b[0;34m-\u001b[0m\u001b[0;36m1\u001b[0m\u001b[0;34m,\u001b[0m \u001b[0;34m:\u001b[0m\u001b[0;34m]\u001b[0m\u001b[0;34m\u001b[0m\u001b[0;34m\u001b[0m\u001b[0m\n",
      "\u001b[0;31mMissingDataError\u001b[0m: Time series data is not available close enough to the critical point"
     ]
    }
   ],
   "source": [
    "df = ZW1285.hr()\n",
    "df"
   ]
  },
  {
   "cell_type": "code",
   "execution_count": null,
   "metadata": {},
   "outputs": [
    {
     "ename": "NameError",
     "evalue": "name 'rolling_mean' is not defined",
     "output_type": "error",
     "traceback": [
      "\u001b[0;31m---------------------------------------------------------------------------\u001b[0m",
      "\u001b[0;31mNameError\u001b[0m                                 Traceback (most recent call last)",
      "\u001b[0;32m/var/folders/rg/6x4tlzs16c76vmthv_nxc63r0000gn/T/ipykernel_96881/3474101070.py\u001b[0m in \u001b[0;36m<module>\u001b[0;34m\u001b[0m\n\u001b[0;32m----> 1\u001b[0;31m \u001b[0mrolling_mean\u001b[0m\u001b[0;34m(\u001b[0m\u001b[0mdf\u001b[0m\u001b[0;34m)\u001b[0m\u001b[0;34m\u001b[0m\u001b[0;34m\u001b[0m\u001b[0m\n\u001b[0m",
      "\u001b[0;31mNameError\u001b[0m: name 'rolling_mean' is not defined"
     ]
    }
   ],
   "source": [
    "rolling_mean(df)"
   ]
  },
  {
   "cell_type": "code",
   "execution_count": null,
   "metadata": {},
   "outputs": [],
   "source": []
  },
  {
   "cell_type": "code",
   "execution_count": null,
   "metadata": {},
   "outputs": [
    {
     "ename": "NameError",
     "evalue": "name 'mean_df' is not defined",
     "output_type": "error",
     "traceback": [
      "\u001b[0;31m---------------------------------------------------------------------------\u001b[0m",
      "\u001b[0;31mNameError\u001b[0m                                 Traceback (most recent call last)",
      "\u001b[0;32m/var/folders/rg/6x4tlzs16c76vmthv_nxc63r0000gn/T/ipykernel_96881/3994863362.py\u001b[0m in \u001b[0;36m<module>\u001b[0;34m\u001b[0m\n\u001b[0;32m----> 1\u001b[0;31m \u001b[0mmean_df\u001b[0m\u001b[0;34m[\u001b[0m\u001b[0;34m'mean'\u001b[0m\u001b[0;34m]\u001b[0m\u001b[0;34m[\u001b[0m\u001b[0;36m1550\u001b[0m\u001b[0;34m]\u001b[0m\u001b[0;34m\u001b[0m\u001b[0;34m\u001b[0m\u001b[0m\n\u001b[0m",
      "\u001b[0;31mNameError\u001b[0m: name 'mean_df' is not defined"
     ]
    }
   ],
   "source": [
    "mean_df['mean'][1550]"
   ]
  },
  {
   "cell_type": "code",
   "execution_count": null,
   "metadata": {},
   "outputs": [
    {
     "data": {
      "text/plain": [
       "Timestamp('2016-05-08 07:11:00')"
      ]
     },
     "execution_count": 31,
     "metadata": {},
     "output_type": "execute_result"
    }
   ],
   "source": [
    "ZW1285.final_datapoint()"
   ]
  },
  {
   "cell_type": "code",
   "execution_count": null,
   "metadata": {},
   "outputs": [],
   "source": []
  },
  {
   "cell_type": "markdown",
   "metadata": {},
   "source": [
    "# cohort 3"
   ]
  },
  {
   "cell_type": "code",
   "execution_count": 7,
   "metadata": {},
   "outputs": [],
   "source": [
    "cohort3 = Cohort(cohort_dict[3], 1)"
   ]
  },
  {
   "cell_type": "code",
   "execution_count": 8,
   "metadata": {},
   "outputs": [
    {
     "name": "stderr",
     "output_type": "stream",
     "text": [
      "RJ3926 visit 1 failed: float division by zero\n"
     ]
    },
    {
     "name": "stdout",
     "output_type": "stream",
     "text": [
      "(1, 1, 1, 1)\n"
     ]
    },
    {
     "name": "stderr",
     "output_type": "stream",
     "text": [
      "IH2940 visit 1 failed: 'NoneType' object is not subscriptable\n"
     ]
    },
    {
     "name": "stdout",
     "output_type": "stream",
     "text": [
      "There is no heart rate data available during the extubated period.\n",
      "(2, 5, 4, 2)\n"
     ]
    },
    {
     "name": "stderr",
     "output_type": "stream",
     "text": [
      "NB2075 visit 1 failed: 'NoneType' object is not subscriptable\n"
     ]
    },
    {
     "name": "stdout",
     "output_type": "stream",
     "text": [
      "There is no heart rate data available during the extubated period.\n",
      "(4, 6, 5, 3)\n"
     ]
    },
    {
     "name": "stderr",
     "output_type": "stream",
     "text": [
      "ZI1827 visit 1 failed: 'NoneType' object is not subscriptable\n",
      "ZZ2313 visit 1 failed: 'NoneType' object is not subscriptable\n"
     ]
    },
    {
     "name": "stdout",
     "output_type": "stream",
     "text": [
      "There is no heart rate data available during the extubated period.\n",
      "(4, 8, 7, 4)\n",
      "There is no heart rate data available during the extubated period.\n",
      "(4, 8, 7, 5)\n"
     ]
    },
    {
     "name": "stderr",
     "output_type": "stream",
     "text": [
      "TU3358 visit 1 failed: 'NoneType' object is not subscriptable\n"
     ]
    },
    {
     "name": "stdout",
     "output_type": "stream",
     "text": [
      "There is no heart rate data available during the extubated period.\n",
      "(4, 10, 7, 6)\n"
     ]
    },
    {
     "name": "stderr",
     "output_type": "stream",
     "text": [
      "SI1526 visit 1 failed: 'NoneType' object is not subscriptable\n"
     ]
    },
    {
     "name": "stdout",
     "output_type": "stream",
     "text": [
      "There is no heart rate data available during the extubated period.\n",
      "(6, 14, 7, 7)\n"
     ]
    },
    {
     "name": "stderr",
     "output_type": "stream",
     "text": [
      "SD0959 visit 1 failed: 'NoneType' object is not subscriptable\n"
     ]
    },
    {
     "name": "stdout",
     "output_type": "stream",
     "text": [
      "There is no heart rate data available during the extubated period.\n",
      "(6, 16, 8, 8)\n"
     ]
    },
    {
     "name": "stderr",
     "output_type": "stream",
     "text": [
      "OT3362 visit 1 failed: 'NoneType' object is not subscriptable\n"
     ]
    },
    {
     "name": "stdout",
     "output_type": "stream",
     "text": [
      "There is no heart rate data available during the extubated period.\n",
      "(10, 26, 11, 9)\n"
     ]
    }
   ],
   "source": [
    "cohort3.mean_trend_count(hr = True)"
   ]
  },
  {
   "cell_type": "code",
   "execution_count": null,
   "metadata": {},
   "outputs": [
    {
     "ename": "NameError",
     "evalue": "name 'cohort3' is not defined",
     "output_type": "error",
     "traceback": [
      "\u001b[0;31m---------------------------------------------------------------------------\u001b[0m",
      "\u001b[0;31mNameError\u001b[0m                                 Traceback (most recent call last)",
      "\u001b[0;32m/var/folders/rg/6x4tlzs16c76vmthv_nxc63r0000gn/T/ipykernel_22429/1850907543.py\u001b[0m in \u001b[0;36m<module>\u001b[0;34m\u001b[0m\n\u001b[0;32m----> 1\u001b[0;31m \u001b[0mcohort3\u001b[0m\u001b[0;34m.\u001b[0m\u001b[0mmean_trend_count\u001b[0m\u001b[0;34m(\u001b[0m\u001b[0mrr\u001b[0m \u001b[0;34m=\u001b[0m \u001b[0;32mTrue\u001b[0m\u001b[0;34m)\u001b[0m\u001b[0;34m\u001b[0m\u001b[0;34m\u001b[0m\u001b[0m\n\u001b[0m",
      "\u001b[0;31mNameError\u001b[0m: name 'cohort3' is not defined"
     ]
    }
   ],
   "source": [
    "cohort3.mean_trend_count(rr = True)"
   ]
  },
  {
   "cell_type": "code",
   "execution_count": null,
   "metadata": {},
   "outputs": [
    {
     "name": "stderr",
     "output_type": "stream",
     "text": [
      "RU1595 visit 1 failed: 'NoneType' object is not subscriptable\n"
     ]
    },
    {
     "name": "stdout",
     "output_type": "stream",
     "text": [
      "There is no blood pressure data available during the extubated period.\n"
     ]
    },
    {
     "name": "stderr",
     "output_type": "stream",
     "text": [
      "RI3878 visit 1 failed: 'NoneType' object is not subscriptable\n",
      "RM2736 visit 1 failed: 'NoneType' object is not subscriptable\n",
      "RJ3926 visit 1 failed: 'NoneType' object is not subscriptable\n"
     ]
    },
    {
     "name": "stdout",
     "output_type": "stream",
     "text": [
      "There is no blood pressure data available during the extubated period.\n",
      "There is no blood pressure data available during the extubated period.\n",
      "There is no blood pressure data available during the extubated period.\n"
     ]
    },
    {
     "name": "stderr",
     "output_type": "stream",
     "text": [
      "RJ2174 visit 1 failed: 'NoneType' object is not subscriptable\n",
      "RV2225 visit 1 failed: list index out of range\n",
      "US2205 visit 1 failed: list index out of range\n"
     ]
    },
    {
     "name": "stdout",
     "output_type": "stream",
     "text": [
      "There is no blood pressure data available during the extubated period.\n"
     ]
    },
    {
     "name": "stderr",
     "output_type": "stream",
     "text": [
      "US0688 visit 1 failed: 'NoneType' object is not subscriptable\n"
     ]
    },
    {
     "name": "stdout",
     "output_type": "stream",
     "text": [
      "There is no blood pressure data available during the extubated period.\n"
     ]
    },
    {
     "name": "stderr",
     "output_type": "stream",
     "text": [
      "UP0787 visit 1 failed: 'NoneType' object is not subscriptable\n",
      "UP2386 visit 1 failed: 'NoneType' object is not subscriptable\n",
      "IG2110 visit 1 failed: 'NoneType' object is not subscriptable\n"
     ]
    },
    {
     "name": "stdout",
     "output_type": "stream",
     "text": [
      "There is no blood pressure data available during the extubated period.\n",
      "There is no blood pressure data available during the extubated period.\n",
      "There is no blood pressure data available during the extubated period.\n"
     ]
    },
    {
     "name": "stderr",
     "output_type": "stream",
     "text": [
      "IT2424 visit 1 failed: 'NoneType' object is not subscriptable\n",
      "IH2940 visit 1 failed: 'NoneType' object is not subscriptable\n"
     ]
    },
    {
     "name": "stdout",
     "output_type": "stream",
     "text": [
      "There is no blood pressure data available during the extubated period.\n",
      "There is no blood pressure data available during the extubated period.\n"
     ]
    },
    {
     "name": "stderr",
     "output_type": "stream",
     "text": [
      "IE3963 visit 1 failed: 'NoneType' object is not subscriptable\n",
      "IL0326 visit 1 failed: 'NoneType' object is not subscriptable\n",
      "NR0439 visit 1 failed: 'NoneType' object is not subscriptable\n"
     ]
    },
    {
     "name": "stdout",
     "output_type": "stream",
     "text": [
      "There is no blood pressure data available during the extubated period.\n",
      "There is no blood pressure data available during the extubated period.\n",
      "There is no blood pressure data available during the extubated period.\n"
     ]
    },
    {
     "name": "stderr",
     "output_type": "stream",
     "text": [
      "NE0910 visit 1 failed: 'NoneType' object is not subscriptable\n"
     ]
    },
    {
     "name": "stdout",
     "output_type": "stream",
     "text": [
      "There is no blood pressure data available during the extubated period.\n"
     ]
    },
    {
     "name": "stderr",
     "output_type": "stream",
     "text": [
      "NB2075 visit 1 failed: 'NoneType' object is not subscriptable\n",
      "NB1283 visit 1 failed: 'NoneType' object is not subscriptable\n"
     ]
    },
    {
     "name": "stdout",
     "output_type": "stream",
     "text": [
      "There is no blood pressure data available during the extubated period.\n",
      "There is no blood pressure data available during the extubated period.\n"
     ]
    },
    {
     "name": "stderr",
     "output_type": "stream",
     "text": [
      "NW0923 visit 1 failed: 'NoneType' object is not subscriptable\n",
      "GM3134 visit 1 failed: list index out of range\n"
     ]
    },
    {
     "name": "stdout",
     "output_type": "stream",
     "text": [
      "There is no blood pressure data available during the extubated period.\n"
     ]
    },
    {
     "name": "stderr",
     "output_type": "stream",
     "text": [
      "GK3908 visit 1 failed: 'NoneType' object is not subscriptable\n"
     ]
    },
    {
     "name": "stdout",
     "output_type": "stream",
     "text": [
      "There is no blood pressure data available during the extubated period.\n"
     ]
    },
    {
     "name": "stderr",
     "output_type": "stream",
     "text": [
      "ZI1827 visit 1 failed: 'NoneType' object is not subscriptable\n"
     ]
    },
    {
     "name": "stdout",
     "output_type": "stream",
     "text": [
      "There is no blood pressure data available during the extubated period.\n"
     ]
    },
    {
     "name": "stderr",
     "output_type": "stream",
     "text": [
      "ZZ2313 visit 1 failed: 'NoneType' object is not subscriptable\n",
      "ZS0567 visit 1 failed: 'NoneType' object is not subscriptable\n"
     ]
    },
    {
     "name": "stdout",
     "output_type": "stream",
     "text": [
      "There is no blood pressure data available during the extubated period.\n",
      "There is no blood pressure data available during the extubated period.\n"
     ]
    },
    {
     "name": "stderr",
     "output_type": "stream",
     "text": [
      "ZD2042 visit 1 failed: 'NoneType' object is not subscriptable\n",
      "TU3358 visit 1 failed: 'NoneType' object is not subscriptable\n"
     ]
    },
    {
     "name": "stdout",
     "output_type": "stream",
     "text": [
      "There is no blood pressure data available during the extubated period.\n",
      "There is no blood pressure data available during the extubated period.\n"
     ]
    },
    {
     "name": "stderr",
     "output_type": "stream",
     "text": [
      "TF3042 visit 1 failed: 'NoneType' object is not subscriptable\n",
      "TD2282 visit 1 failed: 'NoneType' object is not subscriptable\n",
      "TV1047 visit 1 failed: 'NoneType' object is not subscriptable\n"
     ]
    },
    {
     "name": "stdout",
     "output_type": "stream",
     "text": [
      "There is no blood pressure data available during the extubated period.\n",
      "There is no blood pressure data available during the extubated period.\n",
      "There is no blood pressure data available during the extubated period.\n"
     ]
    },
    {
     "name": "stderr",
     "output_type": "stream",
     "text": [
      "TQ0789 visit 1 failed: 'NoneType' object is not subscriptable\n",
      "TB2220 visit 1 failed: list index out of range\n"
     ]
    },
    {
     "name": "stdout",
     "output_type": "stream",
     "text": [
      "There is no blood pressure data available during the extubated period.\n"
     ]
    },
    {
     "name": "stderr",
     "output_type": "stream",
     "text": [
      "TL1776 visit 1 failed: 'NoneType' object is not subscriptable\n",
      "SI1526 visit 1 failed: 'NoneType' object is not subscriptable\n",
      "SG2149 visit 1 failed: list index out of range\n",
      "ST3173 visit 1 failed: 'NoneType' object is not subscriptable\n"
     ]
    },
    {
     "name": "stdout",
     "output_type": "stream",
     "text": [
      "There is no blood pressure data available during the extubated period.\n",
      "There is no blood pressure data available during the extubated period.\n",
      "There is no blood pressure data available during the extubated period.\n"
     ]
    },
    {
     "name": "stderr",
     "output_type": "stream",
     "text": [
      "SS0783 visit 1 failed: 'NoneType' object is not subscriptable\n",
      "SD0959 visit 1 failed: 'NoneType' object is not subscriptable\n",
      "SX1812 visit 1 failed: list index out of range\n"
     ]
    },
    {
     "name": "stdout",
     "output_type": "stream",
     "text": [
      "There is no blood pressure data available during the extubated period.\n",
      "There is no blood pressure data available during the extubated period.\n"
     ]
    },
    {
     "name": "stderr",
     "output_type": "stream",
     "text": [
      "SY1067 visit 1 failed: 'NoneType' object is not subscriptable\n",
      "SP0890 visit 1 failed: 'NoneType' object is not subscriptable\n",
      "AF1531 visit 1 failed: 'NoneType' object is not subscriptable\n",
      "AH3026 visit 1 failed: 'NoneType' object is not subscriptable\n",
      "AC0922 visit 1 failed: 'NoneType' object is not subscriptable\n",
      "AV2830 visit 1 failed: 'NoneType' object is not subscriptable\n"
     ]
    },
    {
     "name": "stdout",
     "output_type": "stream",
     "text": [
      "There is no blood pressure data available during the extubated period.\n",
      "There is no blood pressure data available during the extubated period.\n",
      "There is no blood pressure data available during the extubated period.\n",
      "There is no blood pressure data available during the extubated period.\n",
      "There is no blood pressure data available during the extubated period.\n",
      "There is no blood pressure data available during the extubated period.\n"
     ]
    },
    {
     "name": "stderr",
     "output_type": "stream",
     "text": [
      "AX3638 visit 1 failed: 'NoneType' object is not subscriptable\n",
      "AW3455 visit 1 failed: 'NoneType' object is not subscriptable\n",
      "FU1986 visit 1 failed: 'NoneType' object is not subscriptable\n"
     ]
    },
    {
     "name": "stdout",
     "output_type": "stream",
     "text": [
      "There is no blood pressure data available during the extubated period.\n",
      "There is no blood pressure data available during the extubated period.\n",
      "There is no blood pressure data available during the extubated period.\n"
     ]
    },
    {
     "name": "stderr",
     "output_type": "stream",
     "text": [
      "FI0513 visit 1 failed: 'NoneType' object is not subscriptable\n",
      "FN3327 visit 1 failed: 'NoneType' object is not subscriptable\n"
     ]
    },
    {
     "name": "stdout",
     "output_type": "stream",
     "text": [
      "There is no blood pressure data available during the extubated period.\n",
      "There is no blood pressure data available during the extubated period.\n"
     ]
    },
    {
     "name": "stderr",
     "output_type": "stream",
     "text": [
      "FG2140 visit 1 failed: 'NoneType' object is not subscriptable\n",
      "FJ2882 visit 1 failed: list index out of range\n",
      "FP0824 visit 1 failed: 'NoneType' object is not subscriptable\n"
     ]
    },
    {
     "name": "stdout",
     "output_type": "stream",
     "text": [
      "There is no blood pressure data available during the extubated period.\n",
      "There is no blood pressure data available during the extubated period.\n"
     ]
    },
    {
     "name": "stderr",
     "output_type": "stream",
     "text": [
      "OI1472 visit 1 failed: 'NoneType' object is not subscriptable\n"
     ]
    },
    {
     "name": "stdout",
     "output_type": "stream",
     "text": [
      "There is no blood pressure data available during the extubated period.\n"
     ]
    },
    {
     "name": "stderr",
     "output_type": "stream",
     "text": [
      "OZ1875 visit 1 failed: 'NoneType' object is not subscriptable\n",
      "OT3362 visit 1 failed: 'NoneType' object is not subscriptable\n",
      "OT3257 visit 1 failed: 'NoneType' object is not subscriptable\n",
      "OH0935 visit 1 failed: 'NoneType' object is not subscriptable\n"
     ]
    },
    {
     "name": "stdout",
     "output_type": "stream",
     "text": [
      "There is no blood pressure data available during the extubated period.\n",
      "There is no blood pressure data available during the extubated period.\n",
      "There is no blood pressure data available during the extubated period.\n",
      "There is no blood pressure data available during the extubated period.\n"
     ]
    },
    {
     "name": "stderr",
     "output_type": "stream",
     "text": [
      "OK2358 visit 1 failed: 'NoneType' object is not subscriptable\n",
      "OP0213 visit 1 failed: 'NoneType' object is not subscriptable\n"
     ]
    },
    {
     "name": "stdout",
     "output_type": "stream",
     "text": [
      "There is no blood pressure data available during the extubated period.\n",
      "There is no blood pressure data available during the extubated period.\n"
     ]
    },
    {
     "name": "stderr",
     "output_type": "stream",
     "text": [
      "HZ1184 visit 1 failed: 'NoneType' object is not subscriptable\n"
     ]
    },
    {
     "name": "stdout",
     "output_type": "stream",
     "text": [
      "There is no blood pressure data available during the extubated period.\n"
     ]
    },
    {
     "name": "stderr",
     "output_type": "stream",
     "text": [
      "HT3309 visit 1 failed: 'NoneType' object is not subscriptable\n",
      "HO2013 visit 1 failed: 'NoneType' object is not subscriptable\n"
     ]
    },
    {
     "name": "stdout",
     "output_type": "stream",
     "text": [
      "There is no blood pressure data available during the extubated period.\n",
      "There is no blood pressure data available during the extubated period.\n"
     ]
    },
    {
     "name": "stderr",
     "output_type": "stream",
     "text": [
      "HO3405 visit 1 failed: 'NoneType' object is not subscriptable\n"
     ]
    },
    {
     "name": "stdout",
     "output_type": "stream",
     "text": [
      "There is no blood pressure data available during the extubated period.\n"
     ]
    },
    {
     "name": "stderr",
     "output_type": "stream",
     "text": [
      "HD0362 visit 1 failed: 'NoneType' object is not subscriptable\n"
     ]
    },
    {
     "name": "stdout",
     "output_type": "stream",
     "text": [
      "There is no blood pressure data available during the extubated period.\n"
     ]
    },
    {
     "name": "stderr",
     "output_type": "stream",
     "text": [
      "HD1635 visit 1 failed: 'NoneType' object is not subscriptable\n",
      "HQ0742 visit 1 failed: 'NoneType' object is not subscriptable\n"
     ]
    },
    {
     "name": "stdout",
     "output_type": "stream",
     "text": [
      "There is no blood pressure data available during the extubated period.\n",
      "There is no blood pressure data available during the extubated period.\n"
     ]
    },
    {
     "name": "stderr",
     "output_type": "stream",
     "text": [
      "HX3033 visit 1 failed: 'NoneType' object is not subscriptable\n",
      "HW1998 visit 1 failed: 'NoneType' object is not subscriptable\n",
      "MS3375 visit 1 failed: 'NoneType' object is not subscriptable\n"
     ]
    },
    {
     "name": "stdout",
     "output_type": "stream",
     "text": [
      "There is no blood pressure data available during the extubated period.\n",
      "There is no blood pressure data available during the extubated period.\n",
      "There is no blood pressure data available during the extubated period.\n"
     ]
    },
    {
     "name": "stderr",
     "output_type": "stream",
     "text": [
      "MA0727 visit 1 failed: 'NoneType' object is not subscriptable\n",
      "MF2141 visit 1 failed: 'NoneType' object is not subscriptable\n"
     ]
    },
    {
     "name": "stdout",
     "output_type": "stream",
     "text": [
      "There is no blood pressure data available during the extubated period.\n",
      "There is no blood pressure data available during the extubated period.\n"
     ]
    },
    {
     "name": "stderr",
     "output_type": "stream",
     "text": [
      "ME0730 visit 1 failed: 'NoneType' object is not subscriptable\n",
      "ML3340 visit 1 failed: 'NoneType' object is not subscriptable\n"
     ]
    },
    {
     "name": "stdout",
     "output_type": "stream",
     "text": [
      "There is no blood pressure data available during the extubated period.\n",
      "There is no blood pressure data available during the extubated period.\n"
     ]
    },
    {
     "name": "stderr",
     "output_type": "stream",
     "text": [
      "MP2202 visit 1 failed: 'NoneType' object is not subscriptable\n",
      "JT0073 visit 1 failed: 'NoneType' object is not subscriptable\n"
     ]
    },
    {
     "name": "stdout",
     "output_type": "stream",
     "text": [
      "There is no blood pressure data available during the extubated period.\n",
      "There is no blood pressure data available during the extubated period.\n"
     ]
    },
    {
     "name": "stderr",
     "output_type": "stream",
     "text": [
      "JB3771 visit 1 failed: 'NoneType' object is not subscriptable\n",
      "CI1565 visit 1 failed: 'NoneType' object is not subscriptable\n",
      "CT1224 visit 1 failed: 'NoneType' object is not subscriptable\n",
      "CH2193 visit 1 failed: list index out of range\n",
      "CJ2790 visit 1 failed: 'NoneType' object is not subscriptable\n"
     ]
    },
    {
     "name": "stdout",
     "output_type": "stream",
     "text": [
      "There is no blood pressure data available during the extubated period.\n",
      "There is no blood pressure data available during the extubated period.\n",
      "There is no blood pressure data available during the extubated period.\n",
      "There is no blood pressure data available during the extubated period.\n"
     ]
    },
    {
     "name": "stderr",
     "output_type": "stream",
     "text": [
      "CD0102 visit 1 failed: 'NoneType' object is not subscriptable\n",
      "CQ0453 visit 1 failed: list index out of range\n"
     ]
    },
    {
     "name": "stdout",
     "output_type": "stream",
     "text": [
      "There is no blood pressure data available during the extubated period.\n"
     ]
    },
    {
     "name": "stderr",
     "output_type": "stream",
     "text": [
      "CE1410 visit 1 failed: 'NoneType' object is not subscriptable\n",
      "CK2017 visit 1 failed: 'NoneType' object is not subscriptable\n",
      "CW3829 visit 1 failed: 'NoneType' object is not subscriptable\n"
     ]
    },
    {
     "name": "stdout",
     "output_type": "stream",
     "text": [
      "There is no blood pressure data available during the extubated period.\n",
      "There is no blood pressure data available during the extubated period.\n",
      "There is no blood pressure data available during the extubated period.\n"
     ]
    },
    {
     "name": "stderr",
     "output_type": "stream",
     "text": [
      "DR1024 visit 1 failed: 'NoneType' object is not subscriptable\n",
      "DN0147 visit 1 failed: 'NoneType' object is not subscriptable\n",
      "DD2438 visit 1 failed: 'NoneType' object is not subscriptable\n",
      "VK2607 visit 1 failed: 'NoneType' object is not subscriptable\n"
     ]
    },
    {
     "name": "stdout",
     "output_type": "stream",
     "text": [
      "There is no blood pressure data available during the extubated period.\n",
      "There is no blood pressure data available during the extubated period.\n",
      "There is no blood pressure data available during the extubated period.\n",
      "There is no blood pressure data available during the extubated period.\n"
     ]
    },
    {
     "name": "stderr",
     "output_type": "stream",
     "text": [
      "VL1618 visit 1 failed: 'NoneType' object is not subscriptable\n",
      "QZ1790 visit 1 failed: 'NoneType' object is not subscriptable\n"
     ]
    },
    {
     "name": "stdout",
     "output_type": "stream",
     "text": [
      "There is no blood pressure data available during the extubated period.\n",
      "There is no blood pressure data available during the extubated period.\n"
     ]
    },
    {
     "name": "stderr",
     "output_type": "stream",
     "text": [
      "QJ4049 visit 1 failed: 'NoneType' object is not subscriptable\n"
     ]
    },
    {
     "name": "stdout",
     "output_type": "stream",
     "text": [
      "There is no blood pressure data available during the extubated period.\n"
     ]
    },
    {
     "name": "stderr",
     "output_type": "stream",
     "text": [
      "QE3528 visit 1 failed: 'NoneType' object is not subscriptable\n",
      "QP1689 visit 1 failed: 'NoneType' object is not subscriptable\n"
     ]
    },
    {
     "name": "stdout",
     "output_type": "stream",
     "text": [
      "There is no blood pressure data available during the extubated period.\n",
      "There is no blood pressure data available during the extubated period.\n"
     ]
    },
    {
     "name": "stderr",
     "output_type": "stream",
     "text": [
      "QP0868 visit 1 failed: 'NoneType' object is not subscriptable\n"
     ]
    },
    {
     "name": "stdout",
     "output_type": "stream",
     "text": [
      "There is no blood pressure data available during the extubated period.\n"
     ]
    },
    {
     "name": "stderr",
     "output_type": "stream",
     "text": [
      "XT0533 visit 1 failed: 'NoneType' object is not subscriptable\n",
      "XF2647 visit 1 failed: 'NoneType' object is not subscriptable\n"
     ]
    },
    {
     "name": "stdout",
     "output_type": "stream",
     "text": [
      "There is no blood pressure data available during the extubated period.\n",
      "There is no blood pressure data available during the extubated period.\n"
     ]
    },
    {
     "name": "stderr",
     "output_type": "stream",
     "text": [
      "XX0133 visit 1 failed: 'NoneType' object is not subscriptable\n"
     ]
    },
    {
     "name": "stdout",
     "output_type": "stream",
     "text": [
      "There is no blood pressure data available during the extubated period.\n"
     ]
    },
    {
     "name": "stderr",
     "output_type": "stream",
     "text": [
      "XL3477 visit 1 failed: 'NoneType' object is not subscriptable\n",
      "XP0759 visit 1 failed: 'NoneType' object is not subscriptable\n",
      "EA0217 visit 1 failed: 'NoneType' object is not subscriptable\n",
      "EF0811 visit 1 failed: 'NoneType' object is not subscriptable\n",
      "EV0947 visit 1 failed: 'NoneType' object is not subscriptable\n"
     ]
    },
    {
     "name": "stdout",
     "output_type": "stream",
     "text": [
      "There is no blood pressure data available during the extubated period.\n",
      "There is no blood pressure data available during the extubated period.\n",
      "There is no blood pressure data available during the extubated period.\n",
      "There is no blood pressure data available during the extubated period.\n",
      "There is no blood pressure data available during the extubated period.\n"
     ]
    },
    {
     "name": "stderr",
     "output_type": "stream",
     "text": [
      "BB4010 visit 1 failed: 'NoneType' object is not subscriptable\n",
      "BP0713 visit 1 failed: 'NoneType' object is not subscriptable\n"
     ]
    },
    {
     "name": "stdout",
     "output_type": "stream",
     "text": [
      "There is no blood pressure data available during the extubated period.\n",
      "There is no blood pressure data available during the extubated period.\n"
     ]
    },
    {
     "name": "stderr",
     "output_type": "stream",
     "text": [
      "KU0249 visit 1 failed: 'NoneType' object is not subscriptable\n",
      "KA2891 visit 1 failed: 'NoneType' object is not subscriptable\n"
     ]
    },
    {
     "name": "stdout",
     "output_type": "stream",
     "text": [
      "There is no blood pressure data available during the extubated period.\n",
      "There is no blood pressure data available during the extubated period.\n"
     ]
    },
    {
     "name": "stderr",
     "output_type": "stream",
     "text": [
      "KJ1016 visit 1 failed: 'NoneType' object is not subscriptable\n"
     ]
    },
    {
     "name": "stdout",
     "output_type": "stream",
     "text": [
      "There is no blood pressure data available during the extubated period.\n"
     ]
    },
    {
     "name": "stderr",
     "output_type": "stream",
     "text": [
      "LC2708 visit 1 failed: 'NoneType' object is not subscriptable\n",
      "LY2893 visit 1 failed: 'NoneType' object is not subscriptable\n"
     ]
    },
    {
     "name": "stdout",
     "output_type": "stream",
     "text": [
      "There is no blood pressure data available during the extubated period.\n",
      "There is no blood pressure data available during the extubated period.\n"
     ]
    },
    {
     "name": "stderr",
     "output_type": "stream",
     "text": [
      "LP1175 visit 1 failed: 'NoneType' object is not subscriptable\n",
      "YF0330 visit 1 failed: 'NoneType' object is not subscriptable\n"
     ]
    },
    {
     "name": "stdout",
     "output_type": "stream",
     "text": [
      "There is no blood pressure data available during the extubated period.\n",
      "There is no blood pressure data available during the extubated period.\n"
     ]
    },
    {
     "name": "stderr",
     "output_type": "stream",
     "text": [
      "YO3416 visit 1 failed: 'NoneType' object is not subscriptable\n"
     ]
    },
    {
     "name": "stdout",
     "output_type": "stream",
     "text": [
      "There is no blood pressure data available during the extubated period.\n"
     ]
    },
    {
     "name": "stderr",
     "output_type": "stream",
     "text": [
      "YO3343 visit 1 failed: 'NoneType' object is not subscriptable\n",
      "YD2695 visit 1 failed: 'NoneType' object is not subscriptable\n",
      "YX0518 visit 1 failed: 'NoneType' object is not subscriptable\n",
      "YB2167 visit 1 failed: 'NoneType' object is not subscriptable\n"
     ]
    },
    {
     "name": "stdout",
     "output_type": "stream",
     "text": [
      "There is no blood pressure data available during the extubated period.\n",
      "There is no blood pressure data available during the extubated period.\n",
      "There is no blood pressure data available during the extubated period.\n",
      "There is no blood pressure data available during the extubated period.\n"
     ]
    },
    {
     "name": "stderr",
     "output_type": "stream",
     "text": [
      "PU2398 visit 1 failed: 'NoneType' object is not subscriptable\n",
      "PN1857 visit 1 failed: 'NoneType' object is not subscriptable\n"
     ]
    },
    {
     "name": "stdout",
     "output_type": "stream",
     "text": [
      "There is no blood pressure data available during the extubated period.\n",
      "There is no blood pressure data available during the extubated period.\n"
     ]
    },
    {
     "name": "stderr",
     "output_type": "stream",
     "text": [
      "PG0939 visit 1 failed: 'NoneType' object is not subscriptable\n",
      "PA1017 visit 1 failed: 'NoneType' object is not subscriptable\n",
      "PF1876 visit 1 failed: 'NoneType' object is not subscriptable\n"
     ]
    },
    {
     "name": "stdout",
     "output_type": "stream",
     "text": [
      "There is no blood pressure data available during the extubated period.\n",
      "There is no blood pressure data available during the extubated period.\n",
      "There is no blood pressure data available during the extubated period.\n"
     ]
    },
    {
     "name": "stderr",
     "output_type": "stream",
     "text": [
      "PM3943 visit 1 failed: 'NoneType' object is not subscriptable\n"
     ]
    },
    {
     "name": "stdout",
     "output_type": "stream",
     "text": [
      "There is no blood pressure data available during the extubated period.\n"
     ]
    },
    {
     "name": "stderr",
     "output_type": "stream",
     "text": [
      "PD0263 visit 1 failed: 'NoneType' object is not subscriptable\n",
      "PY1252 visit 1 failed: 'NoneType' object is not subscriptable\n"
     ]
    },
    {
     "name": "stdout",
     "output_type": "stream",
     "text": [
      "There is no blood pressure data available during the extubated period.\n",
      "There is no blood pressure data available during the extubated period.\n"
     ]
    },
    {
     "name": "stderr",
     "output_type": "stream",
     "text": [
      "WN1855 visit 1 failed: 'NoneType' object is not subscriptable\n"
     ]
    },
    {
     "name": "stdout",
     "output_type": "stream",
     "text": [
      "There is no blood pressure data available during the extubated period.\n"
     ]
    },
    {
     "name": "stderr",
     "output_type": "stream",
     "text": [
      "WT1564 visit 1 failed: 'NoneType' object is not subscriptable\n",
      "WM1952 visit 1 failed: list index out of range\n"
     ]
    },
    {
     "name": "stdout",
     "output_type": "stream",
     "text": [
      "There is no blood pressure data available during the extubated period.\n"
     ]
    },
    {
     "name": "stderr",
     "output_type": "stream",
     "text": [
      "WJ3130 visit 1 failed: 'NoneType' object is not subscriptable\n",
      "WB0703 visit 1 failed: 'NoneType' object is not subscriptable\n"
     ]
    },
    {
     "name": "stdout",
     "output_type": "stream",
     "text": [
      "There is no blood pressure data available during the extubated period.\n",
      "There is no blood pressure data available during the extubated period.\n"
     ]
    },
    {
     "name": "stderr",
     "output_type": "stream",
     "text": [
      "RU1595 visit 2 failed: 'NoneType' object is not subscriptable\n",
      "RP0214 visit 2 failed: list index out of range\n",
      "UP2386 visit 2 failed: 'NoneType' object is not subscriptable\n"
     ]
    },
    {
     "name": "stdout",
     "output_type": "stream",
     "text": [
      "There is no blood pressure data available during the extubated period.\n",
      "There is no blood pressure data available during the extubated period.\n"
     ]
    },
    {
     "name": "stderr",
     "output_type": "stream",
     "text": [
      "IH3697 visit 2 failed: 'NoneType' object is not subscriptable\n"
     ]
    },
    {
     "name": "stdout",
     "output_type": "stream",
     "text": [
      "There is no blood pressure data available during the extubated period.\n"
     ]
    },
    {
     "name": "stderr",
     "output_type": "stream",
     "text": [
      "NW2380 visit 2 failed: 'NoneType' object is not subscriptable\n",
      "GM3134 visit 2 failed: 'NoneType' object is not subscriptable\n",
      "TD2282 visit 2 failed: 'NoneType' object is not subscriptable\n",
      "SZ1124 visit 2 failed: 'NoneType' object is not subscriptable\n"
     ]
    },
    {
     "name": "stdout",
     "output_type": "stream",
     "text": [
      "There is no blood pressure data available during the extubated period.\n",
      "There is no blood pressure data available during the extubated period.\n",
      "There is no blood pressure data available during the extubated period.\n",
      "There is no blood pressure data available during the extubated period.\n"
     ]
    },
    {
     "name": "stderr",
     "output_type": "stream",
     "text": [
      "SF1882 visit 2 failed: 'NoneType' object is not subscriptable\n",
      "SQ2007 visit 2 failed: 'NoneType' object is not subscriptable\n",
      "SY2391 visit 2 failed: 'NoneType' object is not subscriptable\n",
      "AH3026 visit 2 failed: 'NoneType' object is not subscriptable\n",
      "FF1937 visit 2 failed: 'NoneType' object is not subscriptable\n",
      "OH1146 visit 2 failed: 'NoneType' object is not subscriptable\n",
      "OL0043 visit 2 failed: 'NoneType' object is not subscriptable\n",
      "HZ1184 visit 2 failed: 'NoneType' object is not subscriptable\n"
     ]
    },
    {
     "name": "stdout",
     "output_type": "stream",
     "text": [
      "There is no blood pressure data available during the extubated period.\n",
      "There is no blood pressure data available during the extubated period.\n",
      "There is no blood pressure data available during the extubated period.\n",
      "There is no blood pressure data available during the extubated period.\n",
      "There is no blood pressure data available during the extubated period.\n",
      "There is no blood pressure data available during the extubated period.\n",
      "There is no blood pressure data available during the extubated period.\n",
      "There is no blood pressure data available during the extubated period.\n"
     ]
    },
    {
     "name": "stderr",
     "output_type": "stream",
     "text": [
      "HO3405 visit 2 failed: 'NoneType' object is not subscriptable\n"
     ]
    },
    {
     "name": "stdout",
     "output_type": "stream",
     "text": [
      "There is no blood pressure data available during the extubated period.\n"
     ]
    },
    {
     "name": "stderr",
     "output_type": "stream",
     "text": [
      "HH3535 visit 2 failed: 'NoneType' object is not subscriptable\n"
     ]
    },
    {
     "name": "stdout",
     "output_type": "stream",
     "text": [
      "There is no blood pressure data available during the extubated period.\n"
     ]
    },
    {
     "name": "stderr",
     "output_type": "stream",
     "text": [
      "HX3033 visit 2 failed: 'NoneType' object is not subscriptable\n"
     ]
    },
    {
     "name": "stdout",
     "output_type": "stream",
     "text": [
      "There is no blood pressure data available during the extubated period.\n"
     ]
    },
    {
     "name": "stderr",
     "output_type": "stream",
     "text": [
      "MR2536 visit 2 failed: 'NoneType' object is not subscriptable\n",
      "MN1654 visit 2 failed: list index out of range\n"
     ]
    },
    {
     "name": "stdout",
     "output_type": "stream",
     "text": [
      "There is no blood pressure data available during the extubated period.\n"
     ]
    },
    {
     "name": "stderr",
     "output_type": "stream",
     "text": [
      "MA0727 visit 2 failed: 'NoneType' object is not subscriptable\n"
     ]
    },
    {
     "name": "stdout",
     "output_type": "stream",
     "text": [
      "There is no blood pressure data available during the extubated period.\n"
     ]
    },
    {
     "name": "stderr",
     "output_type": "stream",
     "text": [
      "MF2141 visit 2 failed: 'NoneType' object is not subscriptable\n"
     ]
    },
    {
     "name": "stdout",
     "output_type": "stream",
     "text": [
      "There is no blood pressure data available during the extubated period.\n"
     ]
    },
    {
     "name": "stderr",
     "output_type": "stream",
     "text": [
      "ME0730 visit 2 failed: 'NoneType' object is not subscriptable\n",
      "ML3075 visit 2 failed: 'NoneType' object is not subscriptable\n"
     ]
    },
    {
     "name": "stdout",
     "output_type": "stream",
     "text": [
      "There is no blood pressure data available during the extubated period.\n",
      "There is no blood pressure data available during the extubated period.\n"
     ]
    },
    {
     "name": "stderr",
     "output_type": "stream",
     "text": [
      "JD0531 visit 2 failed: 'NoneType' object is not subscriptable\n",
      "JK3168 visit 2 failed: list index out of range\n",
      "CT1224 visit 2 failed: 'NoneType' object is not subscriptable\n",
      "CE1820 visit 2 failed: 'NoneType' object is not subscriptable\n",
      "CK2017 visit 2 failed: 'NoneType' object is not subscriptable\n"
     ]
    },
    {
     "name": "stdout",
     "output_type": "stream",
     "text": [
      "There is no blood pressure data available during the extubated period.\n",
      "There is no blood pressure data available during the extubated period.\n",
      "There is no blood pressure data available during the extubated period.\n",
      "There is no blood pressure data available during the extubated period.\n"
     ]
    },
    {
     "name": "stderr",
     "output_type": "stream",
     "text": [
      "DS2559 visit 2 failed: 'NoneType' object is not subscriptable\n",
      "DV0967 visit 2 failed: 'NoneType' object is not subscriptable\n",
      "VY1044 visit 2 failed: 'NoneType' object is not subscriptable\n",
      "QX3862 visit 2 failed: 'NoneType' object is not subscriptable\n"
     ]
    },
    {
     "name": "stdout",
     "output_type": "stream",
     "text": [
      "There is no blood pressure data available during the extubated period.\n",
      "There is no blood pressure data available during the extubated period.\n",
      "There is no blood pressure data available during the extubated period.\n",
      "There is no blood pressure data available during the extubated period.\n"
     ]
    },
    {
     "name": "stderr",
     "output_type": "stream",
     "text": [
      "XZ2583 visit 2 failed: 'NoneType' object is not subscriptable\n",
      "XV1539 visit 2 failed: 'NoneType' object is not subscriptable\n",
      "EF0811 visit 2 failed: 'NoneType' object is not subscriptable\n"
     ]
    },
    {
     "name": "stdout",
     "output_type": "stream",
     "text": [
      "There is no blood pressure data available during the extubated period.\n",
      "There is no blood pressure data available during the extubated period.\n",
      "There is no blood pressure data available during the extubated period.\n"
     ]
    },
    {
     "name": "stderr",
     "output_type": "stream",
     "text": [
      "BK2161 visit 2 failed: 'NoneType' object is not subscriptable\n",
      "KJ2490 visit 2 failed: 'NoneType' object is not subscriptable\n",
      "LO0909 visit 2 failed: 'NoneType' object is not subscriptable\n",
      "LP1175 visit 2 failed: list index out of range\n"
     ]
    },
    {
     "name": "stdout",
     "output_type": "stream",
     "text": [
      "There is no blood pressure data available during the extubated period.\n",
      "There is no blood pressure data available during the extubated period.\n",
      "There is no blood pressure data available during the extubated period.\n"
     ]
    },
    {
     "name": "stderr",
     "output_type": "stream",
     "text": [
      "YO3343 visit 2 failed: 'NoneType' object is not subscriptable\n",
      "YD2695 visit 2 failed: 'NoneType' object is not subscriptable\n"
     ]
    },
    {
     "name": "stdout",
     "output_type": "stream",
     "text": [
      "There is no blood pressure data available during the extubated period.\n",
      "There is no blood pressure data available during the extubated period.\n"
     ]
    },
    {
     "name": "stderr",
     "output_type": "stream",
     "text": [
      "YE1235 visit 2 failed: 'NoneType' object is not subscriptable\n",
      "WT1564 visit 2 failed: 'NoneType' object is not subscriptable\n"
     ]
    },
    {
     "name": "stdout",
     "output_type": "stream",
     "text": [
      "There is no blood pressure data available during the extubated period.\n",
      "There is no blood pressure data available during the extubated period.\n"
     ]
    },
    {
     "name": "stderr",
     "output_type": "stream",
     "text": [
      "WE4023 visit 2 failed: 'NoneType' object is not subscriptable\n",
      "RS0884 visit 3 failed: list index out of range\n",
      "RK1399 visit 3 failed: 'NoneType' object is not subscriptable\n"
     ]
    },
    {
     "name": "stdout",
     "output_type": "stream",
     "text": [
      "There is no blood pressure data available during the extubated period.\n",
      "There is no blood pressure data available during the extubated period.\n"
     ]
    },
    {
     "name": "stderr",
     "output_type": "stream",
     "text": [
      "NE0910 visit 3 failed: 'NoneType' object is not subscriptable\n"
     ]
    },
    {
     "name": "stdout",
     "output_type": "stream",
     "text": [
      "There is no blood pressure data available during the extubated period.\n"
     ]
    },
    {
     "name": "stderr",
     "output_type": "stream",
     "text": [
      "NB1283 visit 3 failed: 'NoneType' object is not subscriptable\n"
     ]
    },
    {
     "name": "stdout",
     "output_type": "stream",
     "text": [
      "There is no blood pressure data available during the extubated period.\n"
     ]
    },
    {
     "name": "stderr",
     "output_type": "stream",
     "text": [
      "SZ1124 visit 3 failed: 'NoneType' object is not subscriptable\n",
      "AH3026 visit 3 failed: list index out of range\n"
     ]
    },
    {
     "name": "stdout",
     "output_type": "stream",
     "text": [
      "There is no blood pressure data available during the extubated period.\n"
     ]
    },
    {
     "name": "stderr",
     "output_type": "stream",
     "text": [
      "FD3688 visit 3 failed: 'NoneType' object is not subscriptable\n",
      "OI1472 visit 3 failed: 'NoneType' object is not subscriptable\n",
      "OH1146 visit 3 failed: 'NoneType' object is not subscriptable\n"
     ]
    },
    {
     "name": "stdout",
     "output_type": "stream",
     "text": [
      "There is no blood pressure data available during the extubated period.\n",
      "There is no blood pressure data available during the extubated period.\n",
      "There is no blood pressure data available during the extubated period.\n"
     ]
    },
    {
     "name": "stderr",
     "output_type": "stream",
     "text": [
      "HR1415 visit 3 failed: 'NoneType' object is not subscriptable\n",
      "HZ1184 visit 3 failed: 'NoneType' object is not subscriptable\n",
      "HK2297 visit 3 failed: list index out of range\n"
     ]
    },
    {
     "name": "stdout",
     "output_type": "stream",
     "text": [
      "There is no blood pressure data available during the extubated period.\n",
      "There is no blood pressure data available during the extubated period.\n"
     ]
    },
    {
     "name": "stderr",
     "output_type": "stream",
     "text": [
      "MA0727 visit 3 failed: 'NoneType' object is not subscriptable\n",
      "JD0531 visit 3 failed: 'NoneType' object is not subscriptable\n",
      "CT1224 visit 3 failed: 'NoneType' object is not subscriptable\n",
      "VY1044 visit 3 failed: 'NoneType' object is not subscriptable\n",
      "QF1860 visit 3 failed: list index out of range\n",
      "XF2647 visit 3 failed: list index out of range\n",
      "XV1539 visit 3 failed: 'NoneType' object is not subscriptable\n"
     ]
    },
    {
     "name": "stdout",
     "output_type": "stream",
     "text": [
      "There is no blood pressure data available during the extubated period.\n",
      "There is no blood pressure data available during the extubated period.\n",
      "There is no blood pressure data available during the extubated period.\n",
      "There is no blood pressure data available during the extubated period.\n",
      "There is no blood pressure data available during the extubated period.\n"
     ]
    },
    {
     "name": "stderr",
     "output_type": "stream",
     "text": [
      "BK2161 visit 3 failed: 'NoneType' object is not subscriptable\n"
     ]
    },
    {
     "name": "stdout",
     "output_type": "stream",
     "text": [
      "There is no blood pressure data available during the extubated period.\n"
     ]
    },
    {
     "name": "stderr",
     "output_type": "stream",
     "text": [
      "KJ2490 visit 3 failed: 'NoneType' object is not subscriptable\n",
      "YD2695 visit 3 failed: 'NoneType' object is not subscriptable\n",
      "PN1857 visit 3 failed: 'NoneType' object is not subscriptable\n",
      "AF1531 visit 4 failed: list index out of range\n"
     ]
    },
    {
     "name": "stdout",
     "output_type": "stream",
     "text": [
      "There is no blood pressure data available during the extubated period.\n",
      "There is no blood pressure data available during the extubated period.\n",
      "There is no blood pressure data available during the extubated period.\n"
     ]
    },
    {
     "name": "stderr",
     "output_type": "stream",
     "text": [
      "OI1472 visit 4 failed: 'NoneType' object is not subscriptable\n",
      "OK2358 visit 4 failed: 'NoneType' object is not subscriptable\n"
     ]
    },
    {
     "name": "stdout",
     "output_type": "stream",
     "text": [
      "There is no blood pressure data available during the extubated period.\n",
      "There is no blood pressure data available during the extubated period.\n"
     ]
    },
    {
     "name": "stderr",
     "output_type": "stream",
     "text": [
      "HR1415 visit 4 failed: 'NoneType' object is not subscriptable\n"
     ]
    },
    {
     "name": "stdout",
     "output_type": "stream",
     "text": [
      "There is no blood pressure data available during the extubated period.\n"
     ]
    },
    {
     "name": "stderr",
     "output_type": "stream",
     "text": [
      "MA0727 visit 4 failed: 'NoneType' object is not subscriptable\n",
      "CT1224 visit 4 failed: 'NoneType' object is not subscriptable\n"
     ]
    },
    {
     "name": "stdout",
     "output_type": "stream",
     "text": [
      "There is no blood pressure data available during the extubated period.\n",
      "There is no blood pressure data available during the extubated period.\n"
     ]
    },
    {
     "name": "stderr",
     "output_type": "stream",
     "text": [
      "QF1860 visit 4 failed: 'NoneType' object is not subscriptable\n",
      "YE1235 visit 4 failed: 'NoneType' object is not subscriptable\n",
      "PA1017 visit 4 failed: 'NoneType' object is not subscriptable\n",
      "CT1224 visit 5 failed: list index out of range\n",
      "XV1539 visit 5 failed: 'NoneType' object is not subscriptable\n"
     ]
    },
    {
     "name": "stdout",
     "output_type": "stream",
     "text": [
      "There is no blood pressure data available during the extubated period.\n",
      "There is no blood pressure data available during the extubated period.\n",
      "There is no blood pressure data available during the extubated period.\n",
      "There is no blood pressure data available during the extubated period.\n"
     ]
    },
    {
     "name": "stderr",
     "output_type": "stream",
     "text": [
      "XY2210 visit 5 failed: 'NoneType' object is not subscriptable\n"
     ]
    },
    {
     "name": "stdout",
     "output_type": "stream",
     "text": [
      "There is no blood pressure data available during the extubated period.\n"
     ]
    },
    {
     "data": {
      "text/plain": [
       "(0, 0, 0, 212)"
      ]
     },
     "execution_count": 55,
     "metadata": {},
     "output_type": "execute_result"
    }
   ],
   "source": [
    "cohort3.mean_trend_count(abf = True)"
   ]
  },
  {
   "cell_type": "markdown",
   "metadata": {},
   "source": [
    "# cohort 4"
   ]
  },
  {
   "cell_type": "code",
   "execution_count": null,
   "metadata": {},
   "outputs": [],
   "source": [
    "cohort4 = Cohort(cohort_dict[4], 1)"
   ]
  },
  {
   "cell_type": "code",
   "execution_count": null,
   "metadata": {},
   "outputs": [],
   "source": [
    "cohort4.mean_trend_count(hr = True)"
   ]
  },
  {
   "cell_type": "code",
   "execution_count": null,
   "metadata": {},
   "outputs": [],
   "source": [
    "cohort4.mean_trend_count(rr = True)"
   ]
  },
  {
   "cell_type": "code",
   "execution_count": null,
   "metadata": {},
   "outputs": [],
   "source": [
    "cohort4.mean_trend_count(abf = True)"
   ]
  },
  {
   "cell_type": "code",
   "execution_count": null,
   "metadata": {},
   "outputs": [],
   "source": []
  }
 ],
 "metadata": {
  "kernelspec": {
   "display_name": "Python 3.8.12 ('base')",
   "language": "python",
   "name": "python3"
  },
  "language_info": {
   "codemirror_mode": {
    "name": "ipython",
    "version": 3
   },
   "file_extension": ".py",
   "mimetype": "text/x-python",
   "name": "python",
   "nbconvert_exporter": "python",
   "pygments_lexer": "ipython3",
   "version": "3.8.12"
  },
  "orig_nbformat": 4,
  "vscode": {
   "interpreter": {
    "hash": "908e60022c9d4979c292b8b79e14df3460174af298c7d4fb047b137ea57e6458"
   }
  }
 },
 "nbformat": 4,
 "nbformat_minor": 2
}
