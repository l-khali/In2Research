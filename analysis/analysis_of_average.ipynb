{
 "cells": [
  {
   "cell_type": "code",
   "execution_count": 1,
   "metadata": {},
   "outputs": [],
   "source": [
    "import numpy as np\n",
    "import pandas as pd\n",
    "from visits import Visit, Cohort, rolling_autocorrelation\n",
    "import glob\n",
    "import pymannkendall as mk\n",
    "from datetime import datetime, timedelta\n",
    "import matplotlib.pyplot as plt\n",
    "from scipy import stats"
   ]
  },
  {
   "cell_type": "code",
   "execution_count": 2,
   "metadata": {},
   "outputs": [],
   "source": [
    "hr_averages_c1 = pd.read_csv(\"averages_data/hr_averages_c1.csv\", sep=\",\")\n",
    "rr_averages_c1 = pd.read_csv(\"averages_data/rr_averages_c1.csv\", sep=\",\")\n",
    "abf_averages_c1 = pd.read_csv(\"averages_data/abf_averages_c1.csv\", sep=\",\")\n",
    "\n",
    "hr_averages_c3 = pd.read_csv(\"averages_data/hr_averages_c3.csv\", sep=\",\")\n",
    "rr_averages_c3 = pd.read_csv(\"averages_data/rr_averages_c3.csv\", sep=\",\")\n",
    "abf_averages_c3 = pd.read_csv(\"averages_data/abf_averages_c3.csv\", sep=\",\")\n",
    "\n",
    "hr_averages_c4 = pd.read_csv(\"averages_data/hr_averages_c4.csv\", sep=\",\")\n",
    "rr_averages_c4 = pd.read_csv(\"averages_data/rr_averages_c4.csv\", sep=\",\")\n",
    "abf_averages_c4 = pd.read_csv(\"averages_data/abf_averages_c4.csv\", sep=\",\")\n"
   ]
  },
  {
   "cell_type": "code",
   "execution_count": 3,
   "metadata": {},
   "outputs": [],
   "source": [
    "hr_averages_c1 = hr_averages_c1.dropna()\n",
    "rr_averages_c1 = rr_averages_c1.dropna()\n",
    "abf_averages_c1 = abf_averages_c1.dropna()\n",
    "\n",
    "hr_averages_c3 = hr_averages_c3.dropna()\n",
    "rr_averages_c3 = rr_averages_c3.dropna()\n",
    "abf_averages_c3 = abf_averages_c3.dropna()\n",
    "\n",
    "hr_averages_c4 = hr_averages_c4.dropna()\n",
    "rr_averages_c4 = rr_averages_c4.dropna()\n",
    "abf_averages_c4 = abf_averages_c4.dropna()"
   ]
  },
  {
   "cell_type": "code",
   "execution_count": 84,
   "metadata": {},
   "outputs": [],
   "source": [
    "def remove_outliers(df, n=3):\n",
    "    med = df['var_percent_increase'].median()\n",
    "    sigma = df['var_percent_increase'].std()\n",
    "\n",
    "    df_no_outliers = df.copy()\n",
    "\n",
    "    for idx, val in enumerate(df_no_outliers['var_percent_increase']):\n",
    "        if not (med - n*sigma < val < med + n*sigma):\n",
    "            df_no_outliers['var_percent_increase'].iloc[idx] = med\n",
    "\n",
    "    med = df['ac_percent_increase'].median()\n",
    "    sigma = df['ac_percent_increase'].std()\n",
    "\n",
    "    for idx, val in enumerate(df_no_outliers['ac_percent_increase']):\n",
    "        if not (med - n*sigma < val < med + n*sigma):\n",
    "            df_no_outliers['ac_percent_increase'].iloc[idx] = med\n",
    "\n",
    "    return df_no_outliers"
   ]
  },
  {
   "cell_type": "code",
   "execution_count": 85,
   "metadata": {},
   "outputs": [
    {
     "data": {
      "text/plain": [
       "(array([ 1.,  0.,  0.,  0.,  0.,  0.,  0.,  0.,  0.,  0.,  0.,  0.,  0.,\n",
       "         0.,  0.,  0.,  0.,  0.,  0.,  0.,  0.,  1.,  0.,  0.,  0.,  0.,\n",
       "         2.,  0.,  0.,  0.,  0.,  0.,  4.,  2.,  5.,  9., 11., 23., 23.,\n",
       "        12.,  8.,  2.,  2.,  1.,  2.,  0.,  0.,  0.,  0.,  3.]),\n",
       " array([-516.26251483, -502.62244403, -488.98237323, -475.34230242,\n",
       "        -461.70223162, -448.06216082, -434.42209002, -420.78201921,\n",
       "        -407.14194841, -393.50187761, -379.8618068 , -366.221736  ,\n",
       "        -352.5816652 , -338.9415944 , -325.30152359, -311.66145279,\n",
       "        -298.02138199, -284.38131118, -270.74124038, -257.10116958,\n",
       "        -243.46109878, -229.82102797, -216.18095717, -202.54088637,\n",
       "        -188.90081556, -175.26074476, -161.62067396, -147.98060316,\n",
       "        -134.34053235, -120.70046155, -107.06039075,  -93.42031994,\n",
       "         -79.78024914,  -66.14017834,  -52.50010754,  -38.86003673,\n",
       "         -25.21996593,  -11.57989513,    2.06017568,   15.70024648,\n",
       "          29.34031728,   42.98038808,   56.62045889,   70.26052969,\n",
       "          83.90060049,   97.5406713 ,  111.1807421 ,  124.8208129 ,\n",
       "         138.4608837 ,  152.10095451,  165.74102531]),\n",
       " <BarContainer object of 50 artists>)"
      ]
     },
     "execution_count": 85,
     "metadata": {},
     "output_type": "execute_result"
    },
    {
     "data": {
      "image/png": "[encoded data removed]",
      "text/plain": [
       "<Figure size 432x288 with 1 Axes>"
      ]
     },
     "metadata": {
      "needs_background": "light"
     },
     "output_type": "display_data"
    }
   ],
   "source": [
    "plt.hist(hr_averages_c1['var_diff'], bins=50)\n"
   ]
  },
  {
   "cell_type": "code",
   "execution_count": 5,
   "metadata": {},
   "outputs": [],
   "source": [
    "p_vals = []"
   ]
  },
  {
   "cell_type": "code",
   "execution_count": 6,
   "metadata": {},
   "outputs": [],
   "source": [
    "s, p = stats.ttest_rel(hr_averages_c1[\"var_hr_1\"], hr_averages_c1[\"var_hr_2\"], alternative='less')\n",
    "p_vals.append(p)"
   ]
  },
  {
   "cell_type": "code",
   "execution_count": 7,
   "metadata": {},
   "outputs": [],
   "source": [
    "s, p = stats.ttest_rel(hr_averages_c1[\"ac_hr_1\"], hr_averages_c1[\"ac_hr_2\"], alternative='less')\n",
    "p_vals.append(p)"
   ]
  },
  {
   "cell_type": "code",
   "execution_count": 8,
   "metadata": {},
   "outputs": [],
   "source": [
    "s, p = stats.ttest_rel(rr_averages_c1[\"var_hr_1\"], rr_averages_c1[\"var_hr_2\"], alternative='less')\n",
    "p_vals.append(p)"
   ]
  },
  {
   "cell_type": "code",
   "execution_count": 9,
   "metadata": {},
   "outputs": [],
   "source": [
    "s, p = stats.ttest_rel(rr_averages_c1[\"ac_hr_1\"], rr_averages_c1[\"ac_hr_2\"], alternative='less')\n",
    "p_vals.append(p)"
   ]
  },
  {
   "cell_type": "code",
   "execution_count": 10,
   "metadata": {},
   "outputs": [],
   "source": [
    "s, p = stats.ttest_rel(abf_averages_c1[\"var_hr_1\"], abf_averages_c1[\"var_hr_2\"], alternative='less')\n",
    "p_vals.append(p)"
   ]
  },
  {
   "cell_type": "code",
   "execution_count": 11,
   "metadata": {},
   "outputs": [],
   "source": [
    "s, p = stats.ttest_rel(abf_averages_c1[\"ac_hr_1\"], abf_averages_c1[\"ac_hr_2\"], alternative='less')\n",
    "p_vals.append(p)"
   ]
  },
  {
   "cell_type": "code",
   "execution_count": 12,
   "metadata": {},
   "outputs": [
    {
     "data": {
      "text/plain": [
       "[0.7621912976872469,\n",
       " 0.05538305025203344,\n",
       " 0.9489655267460142,\n",
       " 0.3990104495718137,\n",
       " 0.15956791385898536,\n",
       " 0.19889526482169018]"
      ]
     },
     "execution_count": 12,
     "metadata": {},
     "output_type": "execute_result"
    }
   ],
   "source": [
    "p_vals"
   ]
  },
  {
   "cell_type": "code",
   "execution_count": null,
   "metadata": {},
   "outputs": [],
   "source": []
  },
  {
   "cell_type": "code",
   "execution_count": 13,
   "metadata": {},
   "outputs": [],
   "source": [
    "p_vals_c3 = []\n",
    "s, p = stats.ttest_rel(hr_averages_c3[\"var_hr_1\"], hr_averages_c3[\"var_hr_2\"], alternative='less')\n",
    "p_vals_c3.append(p)\n",
    "s, p = stats.ttest_rel(hr_averages_c3[\"ac_hr_1\"], hr_averages_c3[\"ac_hr_2\"], alternative='less')\n",
    "p_vals_c3.append(p)\n",
    "s, p = stats.ttest_rel(rr_averages_c3[\"var_hr_1\"], rr_averages_c3[\"var_hr_2\"], alternative='less')\n",
    "p_vals_c3.append(p)\n",
    "s, p = stats.ttest_rel(rr_averages_c3[\"ac_hr_1\"], rr_averages_c3[\"ac_hr_2\"], alternative='less')\n",
    "p_vals_c3.append(p)\n",
    "s, p = stats.ttest_rel(abf_averages_c3[\"var_hr_1\"], abf_averages_c3[\"var_hr_2\"], alternative='less')\n",
    "p_vals_c3.append(p)\n",
    "s, p = stats.ttest_rel(abf_averages_c3[\"ac_hr_1\"], abf_averages_c3[\"ac_hr_2\"], alternative='less')\n",
    "p_vals_c3.append(p)"
   ]
  },
  {
   "cell_type": "code",
   "execution_count": 14,
   "metadata": {},
   "outputs": [
    {
     "data": {
      "text/plain": [
       "[0.029519011435029014,\n",
       " 0.8620409859332699,\n",
       " 0.012243559947190943,\n",
       " 0.9996346243146884,\n",
       " 0.05017111897281451,\n",
       " 0.28520613999811106]"
      ]
     },
     "execution_count": 14,
     "metadata": {},
     "output_type": "execute_result"
    }
   ],
   "source": [
    "p_vals_c3"
   ]
  },
  {
   "cell_type": "code",
   "execution_count": 15,
   "metadata": {},
   "outputs": [],
   "source": [
    "p_vals_c4 = []\n",
    "s, p = stats.mannwhitneyu(hr_averages_c4[\"var_hr_1\"], hr_averages_c4[\"var_hr_2\"], alternative='less')\n",
    "p_vals_c4.append(p)\n",
    "s, p = stats.mannwhitneyu(hr_averages_c4[\"ac_hr_1\"], hr_averages_c4[\"ac_hr_2\"], alternative='less')\n",
    "p_vals_c4.append(p)\n",
    "s, p = stats.mannwhitneyu(rr_averages_c4[\"var_hr_1\"], rr_averages_c4[\"var_hr_2\"], alternative='less')\n",
    "p_vals_c4.append(p)\n",
    "s, p = stats.mannwhitneyu(rr_averages_c4[\"ac_hr_1\"], rr_averages_c4[\"ac_hr_2\"], alternative='less')\n",
    "p_vals_c4.append(p)\n",
    "s, p = stats.mannwhitneyu(abf_averages_c4[\"var_hr_1\"], abf_averages_c4[\"var_hr_2\"], alternative='less')\n",
    "p_vals_c4.append(p)\n",
    "s, p = stats.mannwhitneyu(abf_averages_c4[\"ac_hr_1\"], abf_averages_c4[\"ac_hr_2\"], alternative='less')\n",
    "p_vals_c4.append(p)"
   ]
  },
  {
   "cell_type": "code",
   "execution_count": 16,
   "metadata": {},
   "outputs": [
    {
     "data": {
      "text/plain": [
       "[0.4199299862700017,\n",
       " 0.04426688600711478,\n",
       " 0.7821346699841317,\n",
       " 0.5573830427633992,\n",
       " 0.21338836826649182,\n",
       " 0.008559119852395075]"
      ]
     },
     "execution_count": 16,
     "metadata": {},
     "output_type": "execute_result"
    }
   ],
   "source": [
    "p_vals_c4"
   ]
  },
  {
   "cell_type": "code",
   "execution_count": 17,
   "metadata": {},
   "outputs": [
    {
     "data": {
      "text/html": [
       "<div>\n",
       "<style scoped>\n",
       "    .dataframe tbody tr th:only-of-type {\n",
       "        vertical-align: middle;\n",
       "    }\n",
       "\n",
       "    .dataframe tbody tr th {\n",
       "        vertical-align: top;\n",
       "    }\n",
       "\n",
       "    .dataframe thead th {\n",
       "        text-align: right;\n",
       "    }\n",
       "</style>\n",
       "<table border=\"1\" class=\"dataframe\">\n",
       "  <thead>\n",
       "    <tr style=\"text-align: right;\">\n",
       "      <th></th>\n",
       "      <th>Unnamed: 0</th>\n",
       "      <th>Project ID</th>\n",
       "      <th>visit_no</th>\n",
       "      <th>var_hr_1</th>\n",
       "      <th>var_hr_2</th>\n",
       "      <th>var_diff</th>\n",
       "      <th>ac_hr_1</th>\n",
       "      <th>ac_hr_2</th>\n",
       "      <th>ac_diff</th>\n",
       "    </tr>\n",
       "  </thead>\n",
       "  <tbody>\n",
       "    <tr>\n",
       "      <th>0</th>\n",
       "      <td>0</td>\n",
       "      <td>RD3976</td>\n",
       "      <td>1</td>\n",
       "      <td>46.076930</td>\n",
       "      <td>52.459893</td>\n",
       "      <td>6.382963</td>\n",
       "      <td>0.764129</td>\n",
       "      <td>0.834420</td>\n",
       "      <td>0.070291</td>\n",
       "    </tr>\n",
       "    <tr>\n",
       "      <th>1</th>\n",
       "      <td>1</td>\n",
       "      <td>RX1828</td>\n",
       "      <td>1</td>\n",
       "      <td>10.031222</td>\n",
       "      <td>47.250368</td>\n",
       "      <td>37.219146</td>\n",
       "      <td>0.869230</td>\n",
       "      <td>0.785325</td>\n",
       "      <td>-0.083906</td>\n",
       "    </tr>\n",
       "    <tr>\n",
       "      <th>2</th>\n",
       "      <td>2</td>\n",
       "      <td>RP0984</td>\n",
       "      <td>1</td>\n",
       "      <td>3.034775</td>\n",
       "      <td>8.357533</td>\n",
       "      <td>5.322757</td>\n",
       "      <td>0.722929</td>\n",
       "      <td>0.797397</td>\n",
       "      <td>0.074468</td>\n",
       "    </tr>\n",
       "    <tr>\n",
       "      <th>3</th>\n",
       "      <td>3</td>\n",
       "      <td>UI4061</td>\n",
       "      <td>1</td>\n",
       "      <td>43.090340</td>\n",
       "      <td>29.206969</td>\n",
       "      <td>-13.883371</td>\n",
       "      <td>0.852142</td>\n",
       "      <td>0.651232</td>\n",
       "      <td>-0.200910</td>\n",
       "    </tr>\n",
       "    <tr>\n",
       "      <th>4</th>\n",
       "      <td>4</td>\n",
       "      <td>UD1688</td>\n",
       "      <td>1</td>\n",
       "      <td>25.367390</td>\n",
       "      <td>42.788397</td>\n",
       "      <td>17.421007</td>\n",
       "      <td>0.620084</td>\n",
       "      <td>0.644182</td>\n",
       "      <td>0.024098</td>\n",
       "    </tr>\n",
       "    <tr>\n",
       "      <th>...</th>\n",
       "      <td>...</td>\n",
       "      <td>...</td>\n",
       "      <td>...</td>\n",
       "      <td>...</td>\n",
       "      <td>...</td>\n",
       "      <td>...</td>\n",
       "      <td>...</td>\n",
       "      <td>...</td>\n",
       "      <td>...</td>\n",
       "    </tr>\n",
       "    <tr>\n",
       "      <th>113</th>\n",
       "      <td>113</td>\n",
       "      <td>WM2916</td>\n",
       "      <td>3</td>\n",
       "      <td>40.796034</td>\n",
       "      <td>39.878181</td>\n",
       "      <td>-0.917852</td>\n",
       "      <td>0.749693</td>\n",
       "      <td>0.842439</td>\n",
       "      <td>0.092746</td>\n",
       "    </tr>\n",
       "    <tr>\n",
       "      <th>114</th>\n",
       "      <td>114</td>\n",
       "      <td>IC3651</td>\n",
       "      <td>4</td>\n",
       "      <td>4.278662</td>\n",
       "      <td>3.393516</td>\n",
       "      <td>-0.885146</td>\n",
       "      <td>0.736633</td>\n",
       "      <td>0.729315</td>\n",
       "      <td>-0.007318</td>\n",
       "    </tr>\n",
       "    <tr>\n",
       "      <th>115</th>\n",
       "      <td>115</td>\n",
       "      <td>SZ0828</td>\n",
       "      <td>4</td>\n",
       "      <td>13.025262</td>\n",
       "      <td>8.510742</td>\n",
       "      <td>-4.514520</td>\n",
       "      <td>0.686329</td>\n",
       "      <td>0.725839</td>\n",
       "      <td>0.039510</td>\n",
       "    </tr>\n",
       "    <tr>\n",
       "      <th>117</th>\n",
       "      <td>117</td>\n",
       "      <td>DD1778</td>\n",
       "      <td>4</td>\n",
       "      <td>18.151347</td>\n",
       "      <td>18.892902</td>\n",
       "      <td>0.741555</td>\n",
       "      <td>0.809383</td>\n",
       "      <td>0.853427</td>\n",
       "      <td>0.044043</td>\n",
       "    </tr>\n",
       "    <tr>\n",
       "      <th>119</th>\n",
       "      <td>119</td>\n",
       "      <td>QY3232</td>\n",
       "      <td>5</td>\n",
       "      <td>8.906330</td>\n",
       "      <td>25.759101</td>\n",
       "      <td>16.852771</td>\n",
       "      <td>0.852828</td>\n",
       "      <td>0.720753</td>\n",
       "      <td>-0.132075</td>\n",
       "    </tr>\n",
       "  </tbody>\n",
       "</table>\n",
       "<p>95 rows × 9 columns</p>\n",
       "</div>"
      ],
      "text/plain": [
       "     Unnamed: 0 Project ID  visit_no   var_hr_1   var_hr_2   var_diff  \\\n",
       "0             0     RD3976         1  46.076930  52.459893   6.382963   \n",
       "1             1     RX1828         1  10.031222  47.250368  37.219146   \n",
       "2             2     RP0984         1   3.034775   8.357533   5.322757   \n",
       "3             3     UI4061         1  43.090340  29.206969 -13.883371   \n",
       "4             4     UD1688         1  25.367390  42.788397  17.421007   \n",
       "..          ...        ...       ...        ...        ...        ...   \n",
       "113         113     WM2916         3  40.796034  39.878181  -0.917852   \n",
       "114         114     IC3651         4   4.278662   3.393516  -0.885146   \n",
       "115         115     SZ0828         4  13.025262   8.510742  -4.514520   \n",
       "117         117     DD1778         4  18.151347  18.892902   0.741555   \n",
       "119         119     QY3232         5   8.906330  25.759101  16.852771   \n",
       "\n",
       "      ac_hr_1   ac_hr_2   ac_diff  \n",
       "0    0.764129  0.834420  0.070291  \n",
       "1    0.869230  0.785325 -0.083906  \n",
       "2    0.722929  0.797397  0.074468  \n",
       "3    0.852142  0.651232 -0.200910  \n",
       "4    0.620084  0.644182  0.024098  \n",
       "..        ...       ...       ...  \n",
       "113  0.749693  0.842439  0.092746  \n",
       "114  0.736633  0.729315 -0.007318  \n",
       "115  0.686329  0.725839  0.039510  \n",
       "117  0.809383  0.853427  0.044043  \n",
       "119  0.852828  0.720753 -0.132075  \n",
       "\n",
       "[95 rows x 9 columns]"
      ]
     },
     "execution_count": 17,
     "metadata": {},
     "output_type": "execute_result"
    }
   ],
   "source": [
    "rr_averages_c1"
   ]
  },
  {
   "cell_type": "code",
   "execution_count": 18,
   "metadata": {},
   "outputs": [],
   "source": [
    "def hyp_test(percentage_increase):\n",
    "    str =  f\"The confidence interval is ({np.percentile(percentage_increase, 2.5)},{np.percentile(percentage_increase, 97.5)})\"\n",
    "    sig = [True if 0 not in (np.percentile(percentage_increase, 2.5),np.percentile(percentage_increase, 97.5)) else False]\n",
    "    return str"
   ]
  },
  {
   "cell_type": "code",
   "execution_count": 19,
   "metadata": {},
   "outputs": [],
   "source": [
    "hr_averages_c1[\"var_percent_increase\"] = [100*x/y for x, y in zip(hr_averages_c1[\"var_diff\"], hr_averages_c1[\"var_hr_1\"])]\n",
    "hr_averages_c1[\"ac_percent_increase\"] = [100*x/y for x, y in zip(hr_averages_c1[\"ac_diff\"], hr_averages_c1[\"ac_hr_1\"])]\n",
    "hr_averages_c1\n",
    "\n",
    "rr_averages_c1[\"var_percent_increase\"] = [100*x/y for x, y in zip(rr_averages_c1[\"var_diff\"], rr_averages_c1[\"var_hr_1\"])]\n",
    "rr_averages_c1[\"ac_percent_increase\"] = [100*x/y for x, y in zip(rr_averages_c1[\"ac_diff\"], rr_averages_c1[\"ac_hr_1\"])]\n",
    "rr_averages_c1\n",
    "\n",
    "abf_averages_c1[\"var_percent_increase\"] = [100*x/y for x, y in zip(abf_averages_c1[\"var_diff\"], abf_averages_c1[\"var_hr_1\"])]\n",
    "abf_averages_c1[\"ac_percent_increase\"] = [100*x/y for x, y in zip(abf_averages_c1[\"ac_diff\"], abf_averages_c1[\"ac_hr_1\"])]\n"
   ]
  },
  {
   "cell_type": "code",
   "execution_count": 86,
   "metadata": {},
   "outputs": [
    {
     "name": "stderr",
     "output_type": "stream",
     "text": [
      "/Users/lucindakhalil/opt/anaconda3/lib/python3.8/site-packages/pandas/core/indexing.py:1732: SettingWithCopyWarning: \n",
      "A value is trying to be set on a copy of a slice from a DataFrame\n",
      "\n",
      "See the caveats in the documentation: https://pandas.pydata.org/pandas-docs/stable/user_guide/indexing.html#returning-a-view-versus-a-copy\n",
      "  self._setitem_single_block(indexer, value, name)\n"
     ]
    }
   ],
   "source": [
    "c1_increases = [remove_outliers(hr_averages_c1)[\"var_percent_increase\"],remove_outliers(rr_averages_c1)[\"var_percent_increase\"],remove_outliers(abf_averages_c1)[\"var_percent_increase\"],remove_outliers(hr_averages_c1)[\"ac_percent_increase\"],remove_outliers(rr_averages_c1)[\"ac_percent_increase\"],remove_outliers(abf_averages_c1)[\"ac_percent_increase\"]]\n"
   ]
  },
  {
   "cell_type": "code",
   "execution_count": 88,
   "metadata": {},
   "outputs": [
    {
     "data": {
      "text/plain": [
       "-2.9479107171376966"
      ]
     },
     "execution_count": 88,
     "metadata": {},
     "output_type": "execute_result"
    }
   ],
   "source": [
    "c1_increases[1][9]"
   ]
  },
  {
   "cell_type": "code",
   "execution_count": 35,
   "metadata": {},
   "outputs": [],
   "source": [
    "hr_averages_c3[\"var_percent_increase\"] = [100*x/y for x, y in zip(hr_averages_c3[\"var_diff\"], hr_averages_c3[\"var_hr_1\"])]\n",
    "hr_averages_c3[\"ac_percent_increase\"] = [100*x/y for x, y in zip(hr_averages_c3[\"ac_diff\"], hr_averages_c3[\"ac_hr_1\"])]\n",
    "hr_averages_c3\n",
    "\n",
    "rr_averages_c3[\"var_percent_increase\"] = [100*x/y for x, y in zip(rr_averages_c3[\"var_diff\"], rr_averages_c3[\"var_hr_1\"])]\n",
    "rr_averages_c3[\"ac_percent_increase\"] = [100*x/y for x, y in zip(rr_averages_c3[\"ac_diff\"], rr_averages_c3[\"ac_hr_1\"])]\n",
    "rr_averages_c3\n",
    "\n",
    "abf_averages_c3[\"var_percent_increase\"] = [100*x/y for x, y in zip(abf_averages_c3[\"var_diff\"], abf_averages_c3[\"var_hr_1\"])]\n",
    "abf_averages_c3[\"ac_percent_increase\"] = [100*x/y for x, y in zip(abf_averages_c3[\"ac_diff\"], abf_averages_c3[\"ac_hr_1\"])]"
   ]
  },
  {
   "cell_type": "code",
   "execution_count": 89,
   "metadata": {},
   "outputs": [],
   "source": [
    "c3_increases = [remove_outliers(hr_averages_c3)[\"var_percent_increase\"],remove_outliers(rr_averages_c3)[\"var_percent_increase\"],remove_outliers(abf_averages_c3)[\"var_percent_increase\"],remove_outliers(hr_averages_c3)[\"ac_percent_increase\"],remove_outliers(rr_averages_c3)[\"ac_percent_increase\"],remove_outliers(abf_averages_c3)[\"ac_percent_increase\"]]\n"
   ]
  },
  {
   "cell_type": "code",
   "execution_count": 90,
   "metadata": {},
   "outputs": [
    {
     "data": {
      "text/plain": [
       "18252529.753577247"
      ]
     },
     "execution_count": 90,
     "metadata": {},
     "output_type": "execute_result"
    }
   ],
   "source": [
    "np.mean(list(rr_averages_c1[\"var_percent_increase\"]))\n"
   ]
  },
  {
   "cell_type": "code",
   "execution_count": 91,
   "metadata": {},
   "outputs": [
    {
     "data": {
      "text/html": [
       "<div>\n",
       "<style scoped>\n",
       "    .dataframe tbody tr th:only-of-type {\n",
       "        vertical-align: middle;\n",
       "    }\n",
       "\n",
       "    .dataframe tbody tr th {\n",
       "        vertical-align: top;\n",
       "    }\n",
       "\n",
       "    .dataframe thead th {\n",
       "        text-align: right;\n",
       "    }\n",
       "</style>\n",
       "<table border=\"1\" class=\"dataframe\">\n",
       "  <thead>\n",
       "    <tr style=\"text-align: right;\">\n",
       "      <th></th>\n",
       "      <th>measure</th>\n",
       "      <th>lower</th>\n",
       "      <th>mean</th>\n",
       "      <th>upper</th>\n",
       "    </tr>\n",
       "  </thead>\n",
       "  <tbody>\n",
       "    <tr>\n",
       "      <th>0</th>\n",
       "      <td>var_hr</td>\n",
       "      <td>NaN</td>\n",
       "      <td>NaN</td>\n",
       "      <td>NaN</td>\n",
       "    </tr>\n",
       "    <tr>\n",
       "      <th>1</th>\n",
       "      <td>var_rr</td>\n",
       "      <td>NaN</td>\n",
       "      <td>NaN</td>\n",
       "      <td>NaN</td>\n",
       "    </tr>\n",
       "    <tr>\n",
       "      <th>2</th>\n",
       "      <td>var_abf</td>\n",
       "      <td>NaN</td>\n",
       "      <td>NaN</td>\n",
       "      <td>NaN</td>\n",
       "    </tr>\n",
       "    <tr>\n",
       "      <th>3</th>\n",
       "      <td>ac_hr</td>\n",
       "      <td>NaN</td>\n",
       "      <td>NaN</td>\n",
       "      <td>NaN</td>\n",
       "    </tr>\n",
       "    <tr>\n",
       "      <th>4</th>\n",
       "      <td>ac_rr</td>\n",
       "      <td>NaN</td>\n",
       "      <td>NaN</td>\n",
       "      <td>NaN</td>\n",
       "    </tr>\n",
       "    <tr>\n",
       "      <th>5</th>\n",
       "      <td>ac_abf</td>\n",
       "      <td>NaN</td>\n",
       "      <td>NaN</td>\n",
       "      <td>NaN</td>\n",
       "    </tr>\n",
       "  </tbody>\n",
       "</table>\n",
       "</div>"
      ],
      "text/plain": [
       "   measure lower mean upper\n",
       "0   var_hr   NaN  NaN   NaN\n",
       "1   var_rr   NaN  NaN   NaN\n",
       "2  var_abf   NaN  NaN   NaN\n",
       "3    ac_hr   NaN  NaN   NaN\n",
       "4    ac_rr   NaN  NaN   NaN\n",
       "5   ac_abf   NaN  NaN   NaN"
      ]
     },
     "execution_count": 91,
     "metadata": {},
     "output_type": "execute_result"
    }
   ],
   "source": [
    "c1_intervals = pd.DataFrame(columns=[\"measure\",\"lower\", \"mean\", \"upper\"])\n",
    "c1_intervals[\"measure\"] = [\"var_hr\", \"var_rr\", \"var_abf\", \"ac_hr\", \"ac_rr\", \"ac_abf\"]\n",
    "c1_intervals"
   ]
  },
  {
   "cell_type": "code",
   "execution_count": 95,
   "metadata": {},
   "outputs": [
    {
     "data": {
      "text/html": [
       "<div>\n",
       "<style scoped>\n",
       "    .dataframe tbody tr th:only-of-type {\n",
       "        vertical-align: middle;\n",
       "    }\n",
       "\n",
       "    .dataframe tbody tr th {\n",
       "        vertical-align: top;\n",
       "    }\n",
       "\n",
       "    .dataframe thead th {\n",
       "        text-align: right;\n",
       "    }\n",
       "</style>\n",
       "<table border=\"1\" class=\"dataframe\">\n",
       "  <thead>\n",
       "    <tr style=\"text-align: right;\">\n",
       "      <th></th>\n",
       "      <th>measure</th>\n",
       "      <th>lower</th>\n",
       "      <th>mean</th>\n",
       "      <th>upper</th>\n",
       "    </tr>\n",
       "  </thead>\n",
       "  <tbody>\n",
       "    <tr>\n",
       "      <th>0</th>\n",
       "      <td>var_hr</td>\n",
       "      <td>-77.623082</td>\n",
       "      <td>98.986859</td>\n",
       "      <td>1120.561299</td>\n",
       "    </tr>\n",
       "    <tr>\n",
       "      <th>1</th>\n",
       "      <td>var_rr</td>\n",
       "      <td>-96.499637</td>\n",
       "      <td>17.754891</td>\n",
       "      <td>326.840086</td>\n",
       "    </tr>\n",
       "    <tr>\n",
       "      <th>2</th>\n",
       "      <td>var_abf</td>\n",
       "      <td>-85.347738</td>\n",
       "      <td>111.762999</td>\n",
       "      <td>827.573443</td>\n",
       "    </tr>\n",
       "    <tr>\n",
       "      <th>3</th>\n",
       "      <td>ac_hr</td>\n",
       "      <td>-35.468652</td>\n",
       "      <td>5.145401</td>\n",
       "      <td>71.271041</td>\n",
       "    </tr>\n",
       "    <tr>\n",
       "      <th>4</th>\n",
       "      <td>ac_rr</td>\n",
       "      <td>-23.742162</td>\n",
       "      <td>3.825520</td>\n",
       "      <td>27.919552</td>\n",
       "    </tr>\n",
       "    <tr>\n",
       "      <th>5</th>\n",
       "      <td>ac_abf</td>\n",
       "      <td>-29.229154</td>\n",
       "      <td>1.069851</td>\n",
       "      <td>24.336326</td>\n",
       "    </tr>\n",
       "  </tbody>\n",
       "</table>\n",
       "</div>"
      ],
      "text/plain": [
       "   measure      lower        mean        upper\n",
       "0   var_hr -77.623082   98.986859  1120.561299\n",
       "1   var_rr -96.499637   17.754891   326.840086\n",
       "2  var_abf -85.347738  111.762999   827.573443\n",
       "3    ac_hr -35.468652    5.145401    71.271041\n",
       "4    ac_rr -23.742162    3.825520    27.919552\n",
       "5   ac_abf -29.229154    1.069851    24.336326"
      ]
     },
     "execution_count": 95,
     "metadata": {},
     "output_type": "execute_result"
    }
   ],
   "source": [
    "c1_intervals[\"lower\"] = [np.percentile(x, 2.5) for x in c1_increases]\n",
    "c1_intervals[\"mean\"] = [x.mean() for x in c1_increases]\n",
    "c1_intervals[\"upper\"] = [np.percentile(x, 97.5) for x in c1_increases]\n",
    "c1_intervals"
   ]
  },
  {
   "cell_type": "code",
   "execution_count": 96,
   "metadata": {},
   "outputs": [
    {
     "data": {
      "text/html": [
       "<div>\n",
       "<style scoped>\n",
       "    .dataframe tbody tr th:only-of-type {\n",
       "        vertical-align: middle;\n",
       "    }\n",
       "\n",
       "    .dataframe tbody tr th {\n",
       "        vertical-align: top;\n",
       "    }\n",
       "\n",
       "    .dataframe thead th {\n",
       "        text-align: right;\n",
       "    }\n",
       "</style>\n",
       "<table border=\"1\" class=\"dataframe\">\n",
       "  <thead>\n",
       "    <tr style=\"text-align: right;\">\n",
       "      <th></th>\n",
       "      <th>measure</th>\n",
       "      <th>lower</th>\n",
       "      <th>mean</th>\n",
       "      <th>upper</th>\n",
       "    </tr>\n",
       "  </thead>\n",
       "  <tbody>\n",
       "    <tr>\n",
       "      <th>0</th>\n",
       "      <td>var_hr</td>\n",
       "      <td>-94.647909</td>\n",
       "      <td>156.770755</td>\n",
       "      <td>901.603350</td>\n",
       "    </tr>\n",
       "    <tr>\n",
       "      <th>1</th>\n",
       "      <td>var_rr</td>\n",
       "      <td>-99.969582</td>\n",
       "      <td>123.588799</td>\n",
       "      <td>672.307735</td>\n",
       "    </tr>\n",
       "    <tr>\n",
       "      <th>2</th>\n",
       "      <td>var_abf</td>\n",
       "      <td>-90.181578</td>\n",
       "      <td>113.052869</td>\n",
       "      <td>754.671236</td>\n",
       "    </tr>\n",
       "    <tr>\n",
       "      <th>3</th>\n",
       "      <td>ac_hr</td>\n",
       "      <td>-49.294487</td>\n",
       "      <td>-1.758751</td>\n",
       "      <td>47.858960</td>\n",
       "    </tr>\n",
       "    <tr>\n",
       "      <th>4</th>\n",
       "      <td>ac_rr</td>\n",
       "      <td>-38.624753</td>\n",
       "      <td>-4.533573</td>\n",
       "      <td>34.241563</td>\n",
       "    </tr>\n",
       "    <tr>\n",
       "      <th>5</th>\n",
       "      <td>ac_abf</td>\n",
       "      <td>-27.637101</td>\n",
       "      <td>0.872125</td>\n",
       "      <td>35.256256</td>\n",
       "    </tr>\n",
       "  </tbody>\n",
       "</table>\n",
       "</div>"
      ],
      "text/plain": [
       "   measure      lower        mean       upper\n",
       "0   var_hr -94.647909  156.770755  901.603350\n",
       "1   var_rr -99.969582  123.588799  672.307735\n",
       "2  var_abf -90.181578  113.052869  754.671236\n",
       "3    ac_hr -49.294487   -1.758751   47.858960\n",
       "4    ac_rr -38.624753   -4.533573   34.241563\n",
       "5   ac_abf -27.637101    0.872125   35.256256"
      ]
     },
     "execution_count": 96,
     "metadata": {},
     "output_type": "execute_result"
    }
   ],
   "source": [
    "c3_intervals = pd.DataFrame(columns=[\"measure\",\"lower\", \"mean\", \"upper\"])\n",
    "c3_intervals[\"measure\"] = [\"var_hr\", \"var_rr\", \"var_abf\", \"ac_hr\", \"ac_rr\", \"ac_abf\"]\n",
    "c3_intervals[\"lower\"] = [np.percentile(x, 2.5) for x in c3_increases]\n",
    "c3_intervals[\"mean\"] = [x.mean() for x in c3_increases]\n",
    "c3_intervals[\"upper\"] = [np.percentile(x, 97.5) for x in c3_increases]\n",
    "c3_intervals"
   ]
  },
  {
   "cell_type": "code",
   "execution_count": 133,
   "metadata": {},
   "outputs": [
    {
     "data": {
      "text/plain": [
       "Text(0.5, 1.0, '95% Confidence Intervals of Each Measure for Cohort 1')"
      ]
     },
     "execution_count": 133,
     "metadata": {},
     "output_type": "execute_result"
    },
    {
     "data": {
      "image/png": "[encoded data removed]",
      "text/plain": [
       "<Figure size 432x288 with 1 Axes>"
      ]
     },
     "metadata": {
      "needs_background": "light"
     },
     "output_type": "display_data"
    }
   ],
   "source": [
    "for y, xstart, xstop, mean in zip(range(6), c1_intervals[\"lower\"], c1_intervals[\"upper\"], c1_intervals[\"mean\"]):\n",
    "    plt.hlines(y, xstart, xstop, lw=3, color='#3d1a78')\n",
    "    plt.vlines(xstart, y+0.1, y-0.1, lw=2, color='#3d1a78')\n",
    "    plt.vlines(xstop, y+0.1, y-0.1, lw=2, color='#3d1a78')\n",
    "    plt.plot(mean, y, '.', markersize = 11, color='#3d1a78')\n",
    "\n",
    "names = [\"Variance, HR\", \"Variance, RR\", \"Variance, ABF\", \"Autocorrelation, HR\", \"Autocorrelation, RR\", \"Autocorrelation, ABF\"]\n",
    "plt.vlines(0, -1, 6, linestyle='--', color='#7bade2')\n",
    "plt.yticks(range(6), names, fontweight='bold') \n",
    "plt.xticks(fontweight='bold')\n",
    "plt.title(r\"95% Confidence Intervals of Each Measure for Cohort 1\")\n",
    "# plt.ylabel(\"       Variance    Autocorrelation\", fontweight='bold')"
   ]
  },
  {
   "cell_type": "code",
   "execution_count": 134,
   "metadata": {},
   "outputs": [
    {
     "data": {
      "text/plain": [
       "Text(0.5, 1.0, '95% Confidence Intervals of Each Measure for Cohort 3')"
      ]
     },
     "execution_count": 134,
     "metadata": {},
     "output_type": "execute_result"
    },
    {
     "data": {
      "image/png": "[encoded data removed]",
      "text/plain": [
       "<Figure size 432x288 with 1 Axes>"
      ]
     },
     "metadata": {
      "needs_background": "light"
     },
     "output_type": "display_data"
    }
   ],
   "source": [
    "for y, xstart, xstop, mean in zip(range(6), c3_intervals[\"lower\"], c3_intervals[\"upper\"], c3_intervals[\"mean\"]):\n",
    "    plt.hlines(y, xstart, xstop, lw=3, color='#3d1a78')\n",
    "    plt.vlines(xstart, y+0.1, y-0.1, lw=2, color='#3d1a78')\n",
    "    plt.vlines(xstop, y+0.1, y-0.1, lw=2, color='#3d1a78')\n",
    "    plt.plot(mean, y, '.', markersize = 11, color='#3d1a78')\n",
    "\n",
    "names = [\"Variance, HR\", \"Variance, RR\", \"Variance, ABF\", \"Autocorrelation, HR\", \"Autocorrelation, RR\", \"Autocorrelation, ABF\"]\n",
    "plt.vlines(0, -1, 6, linestyle='--', color='#7bade2')\n",
    "plt.yticks(range(6), names, fontweight='bold') \n",
    "plt.xticks(fontweight='bold')\n",
    "plt.title(r\"95% Confidence Intervals of Each Measure for Cohort 3\")\n",
    "# plt.ylabel(\"       Variance    Autocorrelation\", fontweight='bold')"
   ]
  },
  {
   "cell_type": "code",
   "execution_count": 29,
   "metadata": {},
   "outputs": [
    {
     "name": "stdout",
     "output_type": "stream",
     "text": [
      "The confidence interval is (-77.62308207036948,1221.9696002979763)\n",
      "The confidence interval is (-96.49963717699833,361.139414992112)\n",
      "The confidence interval is (-85.34773791535072,888.4748329790332)\n",
      "The confidence interval is (-35.46865150980062,121.06053808328404)\n",
      "The confidence interval is (-24.422365668968975,32.53065594653615)\n",
      "The confidence interval is (-29.229154062340466,51.85606495623402)\n"
     ]
    }
   ],
   "source": [
    "print(hyp_test(hr_averages_c1[\"var_percent_increase\"]))\n",
    "print(hyp_test(rr_averages_c1[\"var_percent_increase\"]))\n",
    "print(hyp_test(abf_averages_c1[\"var_percent_increase\"]))\n",
    "print(hyp_test(hr_averages_c1[\"ac_percent_increase\"]))\n",
    "print(hyp_test(rr_averages_c1[\"ac_percent_increase\"]))\n",
    "print(hyp_test(abf_averages_c1[\"ac_percent_increase\"]))"
   ]
  },
  {
   "cell_type": "code",
   "execution_count": 30,
   "metadata": {},
   "outputs": [
    {
     "name": "stdout",
     "output_type": "stream",
     "text": [
      "The confidence interval is (-94.6479092090067,1012.2019775274302)\n",
      "The confidence interval is (-99.969581735879,1158.9264626256286)\n",
      "The confidence interval is (-90.18157817395443,1251.9188517773805)\n",
      "The confidence interval is (-49.294487456342935,65.88852062477152)\n",
      "The confidence interval is (-50.58934920256689,42.21575134332262)\n",
      "The confidence interval is (-27.63710072936983,67.84653590709173)\n"
     ]
    }
   ],
   "source": [
    "print(hyp_test(hr_averages_c3[\"var_percent_increase\"]))\n",
    "print(hyp_test(rr_averages_c3[\"var_percent_increase\"]))\n",
    "print(hyp_test(abf_averages_c3[\"var_percent_increase\"]))\n",
    "print(hyp_test(hr_averages_c3[\"ac_percent_increase\"]))\n",
    "print(hyp_test(rr_averages_c3[\"ac_percent_increase\"]))\n",
    "print(hyp_test(abf_averages_c3[\"ac_percent_increase\"]))"
   ]
  },
  {
   "cell_type": "code",
   "execution_count": 31,
   "metadata": {},
   "outputs": [
    {
     "data": {
      "text/plain": [
       "1      -22.009559\n",
       "2      396.802470\n",
       "4       10.921128\n",
       "5      349.323120\n",
       "6       10.149739\n",
       "          ...    \n",
       "209    -76.180239\n",
       "210     51.049285\n",
       "211    -36.498939\n",
       "212    313.555707\n",
       "213      4.383234\n",
       "Name: var_percent_increase, Length: 158, dtype: float64"
      ]
     },
     "execution_count": 31,
     "metadata": {},
     "output_type": "execute_result"
    }
   ],
   "source": [
    "pd.DataFrame(hr_averages_c3[\"var_percent_increase\"])[\"var_percent_increase\"]"
   ]
  },
  {
   "cell_type": "code",
   "execution_count": 32,
   "metadata": {},
   "outputs": [
    {
     "data": {
      "text/plain": [
       "(array([157.,   0.,   0.,   0.,   0.,   0.,   0.,   0.,   0.,   0.,   0.,\n",
       "          0.,   0.,   0.,   0.,   0.,   0.,   0.,   0.,   0.,   0.,   0.,\n",
       "          0.,   0.,   0.,   0.,   0.,   0.,   0.,   0.,   0.,   0.,   0.,\n",
       "          0.,   0.,   0.,   0.,   0.,   0.,   0.,   0.,   0.,   0.,   0.,\n",
       "          0.,   0.,   0.,   0.,   0.,   0.,   0.,   0.,   0.,   0.,   0.,\n",
       "          0.,   0.,   0.,   0.,   0.,   0.,   0.,   0.,   0.,   0.,   0.,\n",
       "          0.,   0.,   0.,   0.,   0.,   0.,   0.,   0.,   0.,   0.,   0.,\n",
       "          0.,   0.,   0.,   0.,   0.,   0.,   0.,   0.,   0.,   0.,   0.,\n",
       "          0.,   0.,   0.,   0.,   0.,   0.,   0.,   0.,   0.,   0.,   0.,\n",
       "          1.]),\n",
       " array([-1.00000000e+02,  5.90403365e+15,  1.18080673e+16,  1.77121010e+16,\n",
       "         2.36161346e+16,  2.95201683e+16,  3.54242019e+16,  4.13282356e+16,\n",
       "         4.72322692e+16,  5.31363029e+16,  5.90403365e+16,  6.49443702e+16,\n",
       "         7.08484038e+16,  7.67524375e+16,  8.26564711e+16,  8.85605048e+16,\n",
       "         9.44645384e+16,  1.00368572e+17,  1.06272606e+17,  1.12176639e+17,\n",
       "         1.18080673e+17,  1.23984707e+17,  1.29888740e+17,  1.35792774e+17,\n",
       "         1.41696808e+17,  1.47600841e+17,  1.53504875e+17,  1.59408909e+17,\n",
       "         1.65312942e+17,  1.71216976e+17,  1.77121010e+17,  1.83025043e+17,\n",
       "         1.88929077e+17,  1.94833111e+17,  2.00737144e+17,  2.06641178e+17,\n",
       "         2.12545211e+17,  2.18449245e+17,  2.24353279e+17,  2.30257312e+17,\n",
       "         2.36161346e+17,  2.42065380e+17,  2.47969413e+17,  2.53873447e+17,\n",
       "         2.59777481e+17,  2.65681514e+17,  2.71585548e+17,  2.77489582e+17,\n",
       "         2.83393615e+17,  2.89297649e+17,  2.95201683e+17,  3.01105716e+17,\n",
       "         3.07009750e+17,  3.12913784e+17,  3.18817817e+17,  3.24721851e+17,\n",
       "         3.30625885e+17,  3.36529918e+17,  3.42433952e+17,  3.48337985e+17,\n",
       "         3.54242019e+17,  3.60146053e+17,  3.66050086e+17,  3.71954120e+17,\n",
       "         3.77858154e+17,  3.83762187e+17,  3.89666221e+17,  3.95570255e+17,\n",
       "         4.01474288e+17,  4.07378322e+17,  4.13282356e+17,  4.19186389e+17,\n",
       "         4.25090423e+17,  4.30994457e+17,  4.36898490e+17,  4.42802524e+17,\n",
       "         4.48706558e+17,  4.54610591e+17,  4.60514625e+17,  4.66418659e+17,\n",
       "         4.72322692e+17,  4.78226726e+17,  4.84130759e+17,  4.90034793e+17,\n",
       "         4.95938827e+17,  5.01842860e+17,  5.07746894e+17,  5.13650928e+17,\n",
       "         5.19554961e+17,  5.25458995e+17,  5.31363029e+17,  5.37267062e+17,\n",
       "         5.43171096e+17,  5.49075130e+17,  5.54979163e+17,  5.60883197e+17,\n",
       "         5.66787231e+17,  5.72691264e+17,  5.78595298e+17,  5.84499332e+17,\n",
       "         5.90403365e+17]),\n",
       " <BarContainer object of 100 artists>)"
      ]
     },
     "execution_count": 32,
     "metadata": {},
     "output_type": "execute_result"
    },
    {
     "data": {
      "image/png": "[encoded data removed]",
      "text/plain": [
       "<Figure size 432x288 with 1 Axes>"
      ]
     },
     "metadata": {
      "needs_background": "light"
     },
     "output_type": "display_data"
    }
   ],
   "source": [
    "plt.hist(pd.DataFrame(hr_averages_c3[\"var_percent_increase\"])[\"var_percent_increase\"],bins=100)"
   ]
  },
  {
   "cell_type": "code",
   "execution_count": 33,
   "metadata": {},
   "outputs": [
    {
     "data": {
      "text/plain": [
       "()"
      ]
     },
     "execution_count": 33,
     "metadata": {},
     "output_type": "execute_result"
    }
   ],
   "source": [
    "()"
   ]
  }
 ],
 "metadata": {
  "kernelspec": {
   "display_name": "Python 3.8.12 ('base')",
   "language": "python",
   "name": "python3"
  },
  "language_info": {
   "codemirror_mode": {
    "name": "ipython",
    "version": 3
   },
   "file_extension": ".py",
   "mimetype": "text/x-python",
   "name": "python",
   "nbconvert_exporter": "python",
   "pygments_lexer": "ipython3",
   "version": "3.8.12"
  },
  "orig_nbformat": 4,
  "vscode": {
   "interpreter": {
    "hash": "908e60022c9d4979c292b8b79e14df3460174af298c7d4fb047b137ea57e6458"
   }
  }
 },
 "nbformat": 4,
 "nbformat_minor": 2
}
