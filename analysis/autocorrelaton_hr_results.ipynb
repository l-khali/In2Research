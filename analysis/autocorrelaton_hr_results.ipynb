{
 "cells": [
  {
   "cell_type": "code",
   "execution_count": 1,
   "metadata": {},
   "outputs": [],
   "source": [
    "import numpy as np\n",
    "import pandas as pd\n",
    "from visits import Visit, Cohort, MissingDataError, holm_bonferroni\n",
    "import glob\n",
    "import pymannkendall as mk\n",
    "from datetime import datetime, timedelta"
   ]
  },
  {
   "cell_type": "code",
   "execution_count": 2,
   "metadata": {},
   "outputs": [],
   "source": [
    "cohort_1_details = pd.read_csv(\"cohort_1_details_v5.csv\", sep=',')\n",
    "cohort_2_details = pd.read_csv(\"cohort_2_details_v5.csv\", sep=',')\n",
    "cohort_3_details = pd.read_csv(\"cohort_3_details_v5.csv\", sep=',')\n",
    "cohort_4_details = pd.read_csv(\"cohort_4_details_v5.csv\", sep=',')"
   ]
  },
  {
   "cell_type": "code",
   "execution_count": 3,
   "metadata": {},
   "outputs": [],
   "source": [
    "path = \"../In2Research_data/data/\"\n",
    "\n",
    "all_files = glob.glob(path + \"/*\")\n",
    "\n",
    "cohort_dict = {1: [], 2: [], 3: [], 4: [],}\n",
    "\n",
    "for letter1 in all_files:\n",
    "    for letter2 in glob.glob(letter1 + \"/*\"):\n",
    "        for id in glob.glob(letter2 + \"/*\"):\n",
    "            if any(\"_1_\" in file for file in glob.glob(id + \"/*\")):\n",
    "                visit = Visit(id, 1, cohort_1_details, cohort_2_details, cohort_3_details, cohort_4_details)\n",
    "                if visit.cohort:\n",
    "                    cohort_dict[visit.cohort].append(visit)\n",
    "\n",
    "for letter1 in all_files:\n",
    "    for letter2 in glob.glob(letter1 + \"/*\"):\n",
    "        for id in glob.glob(letter2 + \"/*\"):\n",
    "            if any(\"_2_\" in file for file in glob.glob(id + \"/*\")):\n",
    "                visit = Visit(id, 2, cohort_1_details, cohort_2_details, cohort_3_details, cohort_4_details)\n",
    "                if visit.cohort:\n",
    "                    cohort_dict[visit.cohort].append(visit)\n",
    "\n",
    "for letter1 in all_files:\n",
    "    for letter2 in glob.glob(letter1 + \"/*\"):\n",
    "        for id in glob.glob(letter2 + \"/*\"):\n",
    "            if any(\"_3_\" in file for file in glob.glob(id + \"/*\")):\n",
    "                visit = Visit(id, 3, cohort_1_details, cohort_2_details, cohort_3_details, cohort_4_details)\n",
    "                if visit.cohort:\n",
    "                    cohort_dict[visit.cohort].append(visit)\n",
    "\n",
    "for letter1 in all_files:\n",
    "    for letter2 in glob.glob(letter1 + \"/*\"):\n",
    "        for id in glob.glob(letter2 + \"/*\"):\n",
    "            if any(\"_4_\" in file for file in glob.glob(id + \"/*\")):\n",
    "                visit = Visit(id, 4, cohort_1_details, cohort_2_details, cohort_3_details, cohort_4_details)\n",
    "                if visit.cohort:\n",
    "                    cohort_dict[visit.cohort].append(visit)\n",
    "\n",
    "for letter1 in all_files:\n",
    "    for letter2 in glob.glob(letter1 + \"/*\"):\n",
    "        for id in glob.glob(letter2 + \"/*\"):\n",
    "            if any(\"_5_\" in file for file in glob.glob(id + \"/*\")):\n",
    "                visit = Visit(id, 5, cohort_1_details, cohort_2_details, cohort_3_details, cohort_4_details)\n",
    "                if visit.cohort:\n",
    "                    cohort_dict[visit.cohort].append(visit)\n",
    "\n",
    "for letter1 in all_files:\n",
    "    for letter2 in glob.glob(letter1 + \"/*\"):\n",
    "        for id in glob.glob(letter2 + \"/*\"):\n",
    "            if any(\"_6_\" in file for file in glob.glob(id + \"/*\")):\n",
    "                visit = Visit(id, 6, cohort_1_details, cohort_2_details, cohort_3_details, cohort_4_details)\n",
    "                if visit.cohort:\n",
    "                    cohort_dict[visit.cohort].append(visit)\n",
    "\n",
    "for letter1 in all_files:\n",
    "    for letter2 in glob.glob(letter1 + \"/*\"):\n",
    "        for id in glob.glob(letter2 + \"/*\"):\n",
    "            if any(\"_7_\" in file for file in glob.glob(id + \"/*\")):\n",
    "                visit = Visit(id, 7, cohort_1_details, cohort_2_details, cohort_3_details, cohort_4_details)\n",
    "                if visit.cohort:\n",
    "                    cohort_dict[visit.cohort].append(visit)\n",
    "\n",
    "for letter1 in all_files:\n",
    "    for letter2 in glob.glob(letter1 + \"/*\"):\n",
    "        for id in glob.glob(letter2 + \"/*\"):\n",
    "            if any(\"_8_\" in file for file in glob.glob(id + \"/*\")):\n",
    "                visit = Visit(id, 8, cohort_1_details, cohort_2_details, cohort_3_details, cohort_4_details)\n",
    "                if visit.cohort:\n",
    "                    cohort_dict[visit.cohort].append(visit)"
   ]
  },
  {
   "cell_type": "code",
   "execution_count": 4,
   "metadata": {},
   "outputs": [],
   "source": [
    "cohort1 = Cohort(cohort_dict[1], 1)\n",
    "cohort2_pt1 = Cohort(cohort_dict[2][0:1970], 2)"
   ]
  },
  {
   "cell_type": "code",
   "execution_count": 5,
   "metadata": {},
   "outputs": [
    {
     "name": "stderr",
     "output_type": "stream",
     "text": [
      "/Users/lucindakhalil/opt/anaconda3/lib/python3.8/site-packages/pandas/core/indexing.py:1732: SettingWithCopyWarning: \n",
      "A value is trying to be set on a copy of a slice from a DataFrame\n",
      "\n",
      "See the caveats in the documentation: https://pandas.pydata.org/pandas-docs/stable/user_guide/indexing.html#returning-a-view-versus-a-copy\n",
      "  self._setitem_single_block(indexer, value, name)\n",
      "ZW1285 visit 1 failed: 'NoneType' object has no attribute 'copy'\n"
     ]
    },
    {
     "name": "stdout",
     "output_type": "stream",
     "text": [
      "There is no heart rate data available during the extubated period.\n"
     ]
    },
    {
     "name": "stderr",
     "output_type": "stream",
     "text": [
      "TG1861 visit 1 failed: 'NoneType' object has no attribute 'copy'\n"
     ]
    },
    {
     "name": "stdout",
     "output_type": "stream",
     "text": [
      "There is no heart rate data available during the extubated period.\n"
     ]
    },
    {
     "name": "stderr",
     "output_type": "stream",
     "text": [
      "AS2377 visit 1 failed: 'NoneType' object has no attribute 'copy'\n"
     ]
    },
    {
     "name": "stdout",
     "output_type": "stream",
     "text": [
      "There is no heart rate data available during the extubated period.\n"
     ]
    },
    {
     "name": "stderr",
     "output_type": "stream",
     "text": [
      "DM3147 visit 1 failed: 'NoneType' object has no attribute 'copy'\n"
     ]
    },
    {
     "name": "stdout",
     "output_type": "stream",
     "text": [
      "There is no heart rate data available during the extubated period.\n"
     ]
    },
    {
     "name": "stderr",
     "output_type": "stream",
     "text": [
      "XO3508 visit 1 failed: 'NoneType' object has no attribute 'copy'\n"
     ]
    },
    {
     "name": "stdout",
     "output_type": "stream",
     "text": [
      "There is no heart rate data available during the extubated period.\n"
     ]
    },
    {
     "name": "stderr",
     "output_type": "stream",
     "text": [
      "WV3677 visit 1 failed: 'NoneType' object has no attribute 'copy'\n"
     ]
    },
    {
     "name": "stdout",
     "output_type": "stream",
     "text": [
      "There is no heart rate data available during the extubated period.\n"
     ]
    },
    {
     "name": "stderr",
     "output_type": "stream",
     "text": [
      "MF2056 visit 2 failed: 'NoneType' object has no attribute 'copy'\n"
     ]
    },
    {
     "name": "stdout",
     "output_type": "stream",
     "text": [
      "There is no heart rate data available during the extubated period.\n"
     ]
    },
    {
     "name": "stderr",
     "output_type": "stream",
     "text": [
      "JA2458 visit 3 failed: 'NoneType' object has no attribute 'copy'\n"
     ]
    },
    {
     "name": "stdout",
     "output_type": "stream",
     "text": [
      "There is no heart rate data available during the extubated period.\n"
     ]
    }
   ],
   "source": [
    "ac_results_c1 = cohort1.ac_results(hr = True)"
   ]
  },
  {
   "cell_type": "code",
   "execution_count": 6,
   "metadata": {},
   "outputs": [],
   "source": [
    "ac_results_c1[0].to_csv('autocorrelation_hr_results_c1.csv')"
   ]
  },
  {
   "cell_type": "code",
   "execution_count": 7,
   "metadata": {},
   "outputs": [
    {
     "name": "stderr",
     "output_type": "stream",
     "text": [
      "/Users/lucindakhalil/opt/anaconda3/lib/python3.8/site-packages/pandas/core/indexing.py:1732: SettingWithCopyWarning: \n",
      "A value is trying to be set on a copy of a slice from a DataFrame\n",
      "\n",
      "See the caveats in the documentation: https://pandas.pydata.org/pandas-docs/stable/user_guide/indexing.html#returning-a-view-versus-a-copy\n",
      "  self._setitem_single_block(indexer, value, name)\n",
      "/Users/lucindakhalil/opt/anaconda3/lib/python3.8/site-packages/numpy/lib/function_base.py:2683: RuntimeWarning: Degrees of freedom <= 0 for slice\n",
      "  c = cov(x, y, rowvar, dtype=dtype)\n",
      "/Users/lucindakhalil/opt/anaconda3/lib/python3.8/site-packages/numpy/lib/function_base.py:2542: RuntimeWarning: divide by zero encountered in true_divide\n",
      "  c *= np.true_divide(1, fact)\n",
      "RX3317 visit 1 failed: 'NoneType' object has no attribute 'copy'\n"
     ]
    },
    {
     "name": "stdout",
     "output_type": "stream",
     "text": [
      "There is no heart rate data available during the extubated period.\n"
     ]
    },
    {
     "name": "stderr",
     "output_type": "stream",
     "text": [
      "UV3178 visit 1 failed: float division by zero\n",
      "UB1609 visit 1 failed: 'NoneType' object has no attribute 'copy'\n"
     ]
    },
    {
     "name": "stdout",
     "output_type": "stream",
     "text": [
      "There is no heart rate data available during the extubated period.\n"
     ]
    },
    {
     "name": "stderr",
     "output_type": "stream",
     "text": [
      "ID1125 visit 1 failed: 'NoneType' object has no attribute 'copy'\n"
     ]
    },
    {
     "name": "stdout",
     "output_type": "stream",
     "text": [
      "There is no heart rate data available during the extubated period.\n"
     ]
    },
    {
     "name": "stderr",
     "output_type": "stream",
     "text": [
      "IQ3266 visit 1 failed: 'NoneType' object has no attribute 'copy'\n"
     ]
    },
    {
     "name": "stdout",
     "output_type": "stream",
     "text": [
      "There is no heart rate data available during the extubated period.\n"
     ]
    },
    {
     "name": "stderr",
     "output_type": "stream",
     "text": [
      "IK2985 visit 1 failed: 'NoneType' object has no attribute 'copy'\n"
     ]
    },
    {
     "name": "stdout",
     "output_type": "stream",
     "text": [
      "There is no heart rate data available during the extubated period.\n"
     ]
    },
    {
     "name": "stderr",
     "output_type": "stream",
     "text": [
      "NF1844 visit 1 failed: float division by zero\n",
      "ZV4114 visit 1 failed: float division by zero\n",
      "TF3238 visit 1 failed: 'NoneType' object has no attribute 'copy'\n"
     ]
    },
    {
     "name": "stdout",
     "output_type": "stream",
     "text": [
      "There is no heart rate data available during the extubated period.\n"
     ]
    },
    {
     "name": "stderr",
     "output_type": "stream",
     "text": [
      "SF0266 visit 1 failed: 'NoneType' object has no attribute 'copy'\n"
     ]
    },
    {
     "name": "stdout",
     "output_type": "stream",
     "text": [
      "There is no heart rate data available during the extubated period.\n"
     ]
    },
    {
     "name": "stderr",
     "output_type": "stream",
     "text": [
      "SQ3401 visit 1 failed: 'NoneType' object has no attribute 'copy'\n"
     ]
    },
    {
     "name": "stdout",
     "output_type": "stream",
     "text": [
      "There is no heart rate data available during the extubated period.\n"
     ]
    },
    {
     "name": "stderr",
     "output_type": "stream",
     "text": [
      "FS1054 visit 1 failed: 'NoneType' object has no attribute 'copy'\n"
     ]
    },
    {
     "name": "stdout",
     "output_type": "stream",
     "text": [
      "There is no heart rate data available during the extubated period.\n"
     ]
    },
    {
     "name": "stderr",
     "output_type": "stream",
     "text": [
      "HL0720 visit 1 failed: float division by zero\n",
      "MB1888 visit 1 failed: 'NoneType' object has no attribute 'copy'\n"
     ]
    },
    {
     "name": "stdout",
     "output_type": "stream",
     "text": [
      "There is no heart rate data available during the extubated period.\n"
     ]
    },
    {
     "name": "stderr",
     "output_type": "stream",
     "text": [
      "JN4074 visit 1 failed: 'NoneType' object has no attribute 'copy'\n"
     ]
    },
    {
     "name": "stdout",
     "output_type": "stream",
     "text": [
      "There is no heart rate data available during the extubated period.\n"
     ]
    },
    {
     "name": "stderr",
     "output_type": "stream",
     "text": [
      "JC2069 visit 1 failed: float division by zero\n",
      "JP1682 visit 1 failed: 'NoneType' object has no attribute 'copy'\n"
     ]
    },
    {
     "name": "stdout",
     "output_type": "stream",
     "text": [
      "There is no heart rate data available during the extubated period.\n"
     ]
    },
    {
     "name": "stderr",
     "output_type": "stream",
     "text": [
      "JP2808 visit 1 failed: 'NoneType' object has no attribute 'copy'\n"
     ]
    },
    {
     "name": "stdout",
     "output_type": "stream",
     "text": [
      "There is no heart rate data available during the extubated period.\n"
     ]
    },
    {
     "name": "stderr",
     "output_type": "stream",
     "text": [
      "CU2107 visit 1 failed: 'NoneType' object has no attribute 'copy'\n"
     ]
    },
    {
     "name": "stdout",
     "output_type": "stream",
     "text": [
      "There is no heart rate data available during the extubated period.\n"
     ]
    },
    {
     "name": "stderr",
     "output_type": "stream",
     "text": [
      "CZ1981 visit 1 failed: 'NoneType' object has no attribute 'copy'\n"
     ]
    },
    {
     "name": "stdout",
     "output_type": "stream",
     "text": [
      "There is no heart rate data available during the extubated period.\n"
     ]
    },
    {
     "name": "stderr",
     "output_type": "stream",
     "text": [
      "CS3617 visit 1 failed: 'NoneType' object has no attribute 'copy'\n"
     ]
    },
    {
     "name": "stdout",
     "output_type": "stream",
     "text": [
      "There is no heart rate data available during the extubated period.\n"
     ]
    },
    {
     "name": "stderr",
     "output_type": "stream",
     "text": [
      "DI0128 visit 1 failed: 'NoneType' object has no attribute 'copy'\n"
     ]
    },
    {
     "name": "stdout",
     "output_type": "stream",
     "text": [
      "There is no heart rate data available during the extubated period.\n"
     ]
    },
    {
     "name": "stderr",
     "output_type": "stream",
     "text": [
      "DZ0633 visit 1 failed: 'NoneType' object has no attribute 'copy'\n"
     ]
    },
    {
     "name": "stdout",
     "output_type": "stream",
     "text": [
      "There is no heart rate data available during the extubated period.\n"
     ]
    },
    {
     "name": "stderr",
     "output_type": "stream",
     "text": [
      "DM2098 visit 1 failed: float division by zero\n",
      "DQ1541 visit 1 failed: float division by zero\n",
      "VA1742 visit 1 failed: 'NoneType' object has no attribute 'copy'\n"
     ]
    },
    {
     "name": "stdout",
     "output_type": "stream",
     "text": [
      "There is no heart rate data available during the extubated period.\n"
     ]
    },
    {
     "name": "stderr",
     "output_type": "stream",
     "text": [
      "VW2869 visit 1 failed: float division by zero\n",
      "VW1487 visit 1 failed: 'NoneType' object has no attribute 'copy'\n"
     ]
    },
    {
     "name": "stdout",
     "output_type": "stream",
     "text": [
      "There is no heart rate data available during the extubated period.\n"
     ]
    },
    {
     "name": "stderr",
     "output_type": "stream",
     "text": [
      "QU0772 visit 1 failed: 'NoneType' object has no attribute 'copy'\n"
     ]
    },
    {
     "name": "stdout",
     "output_type": "stream",
     "text": [
      "There is no heart rate data available during the extubated period.\n"
     ]
    },
    {
     "name": "stderr",
     "output_type": "stream",
     "text": [
      "QF0704 visit 1 failed: float division by zero\n",
      "QX2405 visit 1 failed: float division by zero\n",
      "XD2914 visit 1 failed: float division by zero\n",
      "EE2147 visit 1 failed: 'NoneType' object has no attribute 'copy'\n"
     ]
    },
    {
     "name": "stdout",
     "output_type": "stream",
     "text": [
      "There is no heart rate data available during the extubated period.\n"
     ]
    },
    {
     "name": "stderr",
     "output_type": "stream",
     "text": [
      "BR0401 visit 1 failed: 'NoneType' object has no attribute 'copy'\n"
     ]
    },
    {
     "name": "stdout",
     "output_type": "stream",
     "text": [
      "There is no heart rate data available during the extubated period.\n"
     ]
    },
    {
     "name": "stderr",
     "output_type": "stream",
     "text": [
      "BU1436 visit 1 failed: 'NoneType' object has no attribute 'copy'\n"
     ]
    },
    {
     "name": "stdout",
     "output_type": "stream",
     "text": [
      "There is no heart rate data available during the extubated period.\n"
     ]
    },
    {
     "name": "stderr",
     "output_type": "stream",
     "text": [
      "KR1086 visit 1 failed: float division by zero\n",
      "KI0883 visit 1 failed: float division by zero\n",
      "KL0146 visit 1 failed: 'NoneType' object has no attribute 'copy'\n"
     ]
    },
    {
     "name": "stdout",
     "output_type": "stream",
     "text": [
      "There is no heart rate data available during the extubated period.\n"
     ]
    },
    {
     "name": "stderr",
     "output_type": "stream",
     "text": [
      "LT1552 visit 1 failed: 'NoneType' object has no attribute 'copy'\n"
     ]
    },
    {
     "name": "stdout",
     "output_type": "stream",
     "text": [
      "There is no heart rate data available during the extubated period.\n"
     ]
    },
    {
     "name": "stderr",
     "output_type": "stream",
     "text": [
      "LT0036 visit 1 failed: 'NoneType' object has no attribute 'copy'\n"
     ]
    },
    {
     "name": "stdout",
     "output_type": "stream",
     "text": [
      "There is no heart rate data available during the extubated period.\n"
     ]
    },
    {
     "name": "stderr",
     "output_type": "stream",
     "text": [
      "LO0573 visit 1 failed: 'NoneType' object has no attribute 'copy'\n"
     ]
    },
    {
     "name": "stdout",
     "output_type": "stream",
     "text": [
      "There is no heart rate data available during the extubated period.\n"
     ]
    },
    {
     "name": "stderr",
     "output_type": "stream",
     "text": [
      "PS2602 visit 1 failed: 'NoneType' object has no attribute 'copy'\n"
     ]
    },
    {
     "name": "stdout",
     "output_type": "stream",
     "text": [
      "There is no heart rate data available during the extubated period.\n"
     ]
    },
    {
     "name": "stderr",
     "output_type": "stream",
     "text": [
      "ZK0210 visit 2 failed: 'NoneType' object has no attribute 'copy'\n"
     ]
    },
    {
     "name": "stdout",
     "output_type": "stream",
     "text": [
      "There is no heart rate data available during the extubated period.\n"
     ]
    },
    {
     "name": "stderr",
     "output_type": "stream",
     "text": [
      "FB0142 visit 2 failed: float division by zero\n",
      "HM3001 visit 2 failed: float division by zero\n",
      "QY0226 visit 2 failed: float division by zero\n",
      "XX1525 visit 2 failed: 'NoneType' object has no attribute 'copy'\n"
     ]
    },
    {
     "name": "stdout",
     "output_type": "stream",
     "text": [
      "There is no heart rate data available during the extubated period.\n"
     ]
    },
    {
     "name": "stderr",
     "output_type": "stream",
     "text": [
      "EJ1352 visit 2 failed: float division by zero\n",
      "LQ1384 visit 2 failed: 'NoneType' object has no attribute 'copy'\n"
     ]
    },
    {
     "name": "stdout",
     "output_type": "stream",
     "text": [
      "There is no heart rate data available during the extubated period.\n"
     ]
    },
    {
     "name": "stderr",
     "output_type": "stream",
     "text": [
      "PK2813 visit 2 failed: 'NoneType' object has no attribute 'copy'\n"
     ]
    },
    {
     "name": "stdout",
     "output_type": "stream",
     "text": [
      "There is no heart rate data available during the extubated period.\n"
     ]
    },
    {
     "name": "stderr",
     "output_type": "stream",
     "text": [
      "WD1817 visit 2 failed: float division by zero\n",
      "VO1955 visit 4 failed: 'NoneType' object has no attribute 'copy'\n"
     ]
    },
    {
     "name": "stdout",
     "output_type": "stream",
     "text": [
      "There is no heart rate data available during the extubated period.\n"
     ]
    }
   ],
   "source": [
    "ac_results_c2_partial = cohort2_pt1.ac_results(hr = True)"
   ]
  },
  {
   "cell_type": "code",
   "execution_count": null,
   "metadata": {},
   "outputs": [],
   "source": [
    "ac_results_c2_partial[0].to_csv('autocorrelation_hr_results_c2_partial.csv')"
   ]
  },
  {
   "cell_type": "code",
   "execution_count": null,
   "metadata": {},
   "outputs": [],
   "source": []
  }
 ],
 "metadata": {
  "kernelspec": {
   "display_name": "Python 3.8.12 ('base')",
   "language": "python",
   "name": "python3"
  },
  "language_info": {
   "codemirror_mode": {
    "name": "ipython",
    "version": 3
   },
   "file_extension": ".py",
   "mimetype": "text/x-python",
   "name": "python",
   "nbconvert_exporter": "python",
   "pygments_lexer": "ipython3",
   "version": "3.8.12"
  },
  "orig_nbformat": 4,
  "vscode": {
   "interpreter": {
    "hash": "908e60022c9d4979c292b8b79e14df3460174af298c7d4fb047b137ea57e6458"
   }
  }
 },
 "nbformat": 4,
 "nbformat_minor": 2
}
