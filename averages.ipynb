{
 "cells": [
  {
   "cell_type": "code",
   "execution_count": 15,
   "metadata": {},
   "outputs": [],
   "source": [
    "import numpy as np\n",
    "import pandas as pd\n",
    "from visits import Visit, Cohort, rolling_autocorrelation\n",
    "import glob\n",
    "import pymannkendall as mk\n",
    "from datetime import datetime, timedelta\n",
    "import matplotlib.pyplot as plt\n",
    "from scipy import stats"
   ]
  },
  {
   "cell_type": "code",
   "execution_count": 10,
   "metadata": {},
   "outputs": [],
   "source": [
    "cohort_1_details = pd.read_csv(\"cohort_1_details_v5.csv\", sep=',')\n",
    "cohort_2_details = pd.read_csv(\"cohort_2_details_v5.csv\", sep=',')\n",
    "cohort_3_details = pd.read_csv(\"cohort_3_details_v5.csv\", sep=',')\n",
    "cohort_4_details = pd.read_csv(\"cohort_4_details_v5.csv\", sep=',')"
   ]
  },
  {
   "cell_type": "code",
   "execution_count": 11,
   "metadata": {},
   "outputs": [],
   "source": [
    "path = \"../In2Research_data/data/\"\n",
    "\n",
    "all_files = glob.glob(path + \"/*\")\n",
    "\n",
    "cohort_dict = {1: [], 2: [], 3: [], 4: [],}\n",
    "\n",
    "for letter1 in all_files:\n",
    "    for letter2 in glob.glob(letter1 + \"/*\"):\n",
    "        for id in glob.glob(letter2 + \"/*\"):\n",
    "            if any(\"_1_\" in file for file in glob.glob(id + \"/*\")):\n",
    "                visit = Visit(id, 1, cohort_1_details, cohort_2_details, cohort_3_details, cohort_4_details)\n",
    "                if visit.cohort:\n",
    "                    cohort_dict[visit.cohort].append(visit)\n",
    "\n",
    "for letter1 in all_files:\n",
    "    for letter2 in glob.glob(letter1 + \"/*\"):\n",
    "        for id in glob.glob(letter2 + \"/*\"):\n",
    "            if any(\"_2_\" in file for file in glob.glob(id + \"/*\")):\n",
    "                visit = Visit(id, 2, cohort_1_details, cohort_2_details, cohort_3_details, cohort_4_details)\n",
    "                if visit.cohort:\n",
    "                    cohort_dict[visit.cohort].append(visit)\n",
    "\n",
    "for letter1 in all_files:\n",
    "    for letter2 in glob.glob(letter1 + \"/*\"):\n",
    "        for id in glob.glob(letter2 + \"/*\"):\n",
    "            if any(\"_3_\" in file for file in glob.glob(id + \"/*\")):\n",
    "                visit = Visit(id, 3, cohort_1_details, cohort_2_details, cohort_3_details, cohort_4_details)\n",
    "                if visit.cohort:\n",
    "                    cohort_dict[visit.cohort].append(visit)\n",
    "\n",
    "for letter1 in all_files:\n",
    "    for letter2 in glob.glob(letter1 + \"/*\"):\n",
    "        for id in glob.glob(letter2 + \"/*\"):\n",
    "            if any(\"_4_\" in file for file in glob.glob(id + \"/*\")):\n",
    "                visit = Visit(id, 4, cohort_1_details, cohort_2_details, cohort_3_details, cohort_4_details)\n",
    "                if visit.cohort:\n",
    "                    cohort_dict[visit.cohort].append(visit)\n",
    "\n",
    "for letter1 in all_files:\n",
    "    for letter2 in glob.glob(letter1 + \"/*\"):\n",
    "        for id in glob.glob(letter2 + \"/*\"):\n",
    "            if any(\"_5_\" in file for file in glob.glob(id + \"/*\")):\n",
    "                visit = Visit(id, 5, cohort_1_details, cohort_2_details, cohort_3_details, cohort_4_details)\n",
    "                if visit.cohort:\n",
    "                    cohort_dict[visit.cohort].append(visit)\n",
    "\n",
    "for letter1 in all_files:\n",
    "    for letter2 in glob.glob(letter1 + \"/*\"):\n",
    "        for id in glob.glob(letter2 + \"/*\"):\n",
    "            if any(\"_6_\" in file for file in glob.glob(id + \"/*\")):\n",
    "                visit = Visit(id, 6, cohort_1_details, cohort_2_details, cohort_3_details, cohort_4_details)\n",
    "                if visit.cohort:\n",
    "                    cohort_dict[visit.cohort].append(visit)\n",
    "\n",
    "for letter1 in all_files:\n",
    "    for letter2 in glob.glob(letter1 + \"/*\"):\n",
    "        for id in glob.glob(letter2 + \"/*\"):\n",
    "            if any(\"_7_\" in file for file in glob.glob(id + \"/*\")):\n",
    "                visit = Visit(id, 7, cohort_1_details, cohort_2_details, cohort_3_details, cohort_4_details)\n",
    "                if visit.cohort:\n",
    "                    cohort_dict[visit.cohort].append(visit)\n",
    "\n",
    "for letter1 in all_files:\n",
    "    for letter2 in glob.glob(letter1 + \"/*\"):\n",
    "        for id in glob.glob(letter2 + \"/*\"):\n",
    "            if any(\"_8_\" in file for file in glob.glob(id + \"/*\")):\n",
    "                visit = Visit(id, 8, cohort_1_details, cohort_2_details, cohort_3_details, cohort_4_details)\n",
    "                if visit.cohort:\n",
    "                    cohort_dict[visit.cohort].append(visit)"
   ]
  },
  {
   "cell_type": "code",
   "execution_count": 4,
   "metadata": {},
   "outputs": [],
   "source": [
    "cohort1 = Cohort(cohort_dict[1][0:20],1)"
   ]
  },
  {
   "cell_type": "code",
   "execution_count": 5,
   "metadata": {},
   "outputs": [
    {
     "name": "stderr",
     "output_type": "stream",
     "text": [
      "/Users/lucindakhalil/opt/anaconda3/lib/python3.8/site-packages/pandas/core/indexing.py:1732: SettingWithCopyWarning: \n",
      "A value is trying to be set on a copy of a slice from a DataFrame\n",
      "\n",
      "See the caveats in the documentation: https://pandas.pydata.org/pandas-docs/stable/user_guide/indexing.html#returning-a-view-versus-a-copy\n",
      "  self._setitem_single_block(indexer, value, name)\n"
     ]
    },
    {
     "data": {
      "text/html": [
       "<div>\n",
       "<style scoped>\n",
       "    .dataframe tbody tr th:only-of-type {\n",
       "        vertical-align: middle;\n",
       "    }\n",
       "\n",
       "    .dataframe tbody tr th {\n",
       "        vertical-align: top;\n",
       "    }\n",
       "\n",
       "    .dataframe thead th {\n",
       "        text-align: right;\n",
       "    }\n",
       "</style>\n",
       "<table border=\"1\" class=\"dataframe\">\n",
       "  <thead>\n",
       "    <tr style=\"text-align: right;\">\n",
       "      <th></th>\n",
       "      <th>Project ID</th>\n",
       "      <th>visit_no</th>\n",
       "      <th>var_hr_1</th>\n",
       "      <th>var_hr_2</th>\n",
       "      <th>var_diff</th>\n",
       "      <th>ac_hr_1</th>\n",
       "      <th>ac_hr_2</th>\n",
       "      <th>ac_diff</th>\n",
       "    </tr>\n",
       "  </thead>\n",
       "  <tbody>\n",
       "    <tr>\n",
       "      <th>0</th>\n",
       "      <td>RD3976</td>\n",
       "      <td>1</td>\n",
       "      <td>35.970309</td>\n",
       "      <td>126.258637</td>\n",
       "      <td>90.288327</td>\n",
       "      <td>0.801350</td>\n",
       "      <td>0.953453</td>\n",
       "      <td>0.152102</td>\n",
       "    </tr>\n",
       "    <tr>\n",
       "      <th>1</th>\n",
       "      <td>RX1828</td>\n",
       "      <td>1</td>\n",
       "      <td>47.736832</td>\n",
       "      <td>30.110600</td>\n",
       "      <td>-17.626231</td>\n",
       "      <td>0.900820</td>\n",
       "      <td>0.831651</td>\n",
       "      <td>-0.069169</td>\n",
       "    </tr>\n",
       "    <tr>\n",
       "      <th>2</th>\n",
       "      <td>RP0984</td>\n",
       "      <td>1</td>\n",
       "      <td>4.054698</td>\n",
       "      <td>7.001335</td>\n",
       "      <td>2.946637</td>\n",
       "      <td>0.947096</td>\n",
       "      <td>0.958520</td>\n",
       "      <td>0.011423</td>\n",
       "    </tr>\n",
       "    <tr>\n",
       "      <th>3</th>\n",
       "      <td>UI4061</td>\n",
       "      <td>1</td>\n",
       "      <td>126.368318</td>\n",
       "      <td>84.532213</td>\n",
       "      <td>-41.836105</td>\n",
       "      <td>0.954589</td>\n",
       "      <td>0.812004</td>\n",
       "      <td>-0.142585</td>\n",
       "    </tr>\n",
       "    <tr>\n",
       "      <th>4</th>\n",
       "      <td>UD1688</td>\n",
       "      <td>1</td>\n",
       "      <td>6.668083</td>\n",
       "      <td>25.740048</td>\n",
       "      <td>19.071965</td>\n",
       "      <td>0.377095</td>\n",
       "      <td>0.909986</td>\n",
       "      <td>0.532890</td>\n",
       "    </tr>\n",
       "    <tr>\n",
       "      <th>5</th>\n",
       "      <td>UD2443</td>\n",
       "      <td>1</td>\n",
       "      <td>29.904828</td>\n",
       "      <td>117.660270</td>\n",
       "      <td>87.755443</td>\n",
       "      <td>0.540192</td>\n",
       "      <td>0.781954</td>\n",
       "      <td>0.241762</td>\n",
       "    </tr>\n",
       "    <tr>\n",
       "      <th>6</th>\n",
       "      <td>UX1362</td>\n",
       "      <td>1</td>\n",
       "      <td>68.688908</td>\n",
       "      <td>26.189541</td>\n",
       "      <td>-42.499367</td>\n",
       "      <td>0.948483</td>\n",
       "      <td>0.827683</td>\n",
       "      <td>-0.120800</td>\n",
       "    </tr>\n",
       "    <tr>\n",
       "      <th>7</th>\n",
       "      <td>UB1799</td>\n",
       "      <td>1</td>\n",
       "      <td>57.723283</td>\n",
       "      <td>15.643733</td>\n",
       "      <td>-42.079550</td>\n",
       "      <td>0.855662</td>\n",
       "      <td>0.891807</td>\n",
       "      <td>0.036145</td>\n",
       "    </tr>\n",
       "    <tr>\n",
       "      <th>8</th>\n",
       "      <td>UY2351</td>\n",
       "      <td>1</td>\n",
       "      <td>35.339978</td>\n",
       "      <td>19.574963</td>\n",
       "      <td>-15.765015</td>\n",
       "      <td>0.820315</td>\n",
       "      <td>0.877602</td>\n",
       "      <td>0.057287</td>\n",
       "    </tr>\n",
       "    <tr>\n",
       "      <th>9</th>\n",
       "      <td>IZ1435</td>\n",
       "      <td>1</td>\n",
       "      <td>62.894997</td>\n",
       "      <td>30.451116</td>\n",
       "      <td>-32.443881</td>\n",
       "      <td>0.708880</td>\n",
       "      <td>0.798767</td>\n",
       "      <td>0.089887</td>\n",
       "    </tr>\n",
       "    <tr>\n",
       "      <th>10</th>\n",
       "      <td>IZ2966</td>\n",
       "      <td>1</td>\n",
       "      <td>28.737393</td>\n",
       "      <td>33.189729</td>\n",
       "      <td>4.452335</td>\n",
       "      <td>0.909577</td>\n",
       "      <td>0.958500</td>\n",
       "      <td>0.048924</td>\n",
       "    </tr>\n",
       "    <tr>\n",
       "      <th>11</th>\n",
       "      <td>IF3856</td>\n",
       "      <td>1</td>\n",
       "      <td>47.158975</td>\n",
       "      <td>25.839618</td>\n",
       "      <td>-21.319357</td>\n",
       "      <td>0.798865</td>\n",
       "      <td>0.840089</td>\n",
       "      <td>0.041225</td>\n",
       "    </tr>\n",
       "    <tr>\n",
       "      <th>12</th>\n",
       "      <td>IJ2643</td>\n",
       "      <td>1</td>\n",
       "      <td>37.027033</td>\n",
       "      <td>45.840824</td>\n",
       "      <td>8.813791</td>\n",
       "      <td>0.967660</td>\n",
       "      <td>0.909415</td>\n",
       "      <td>-0.058245</td>\n",
       "    </tr>\n",
       "    <tr>\n",
       "      <th>13</th>\n",
       "      <td>NF3544</td>\n",
       "      <td>1</td>\n",
       "      <td>63.336517</td>\n",
       "      <td>14.427583</td>\n",
       "      <td>-48.908934</td>\n",
       "      <td>0.953946</td>\n",
       "      <td>0.851487</td>\n",
       "      <td>-0.102459</td>\n",
       "    </tr>\n",
       "    <tr>\n",
       "      <th>14</th>\n",
       "      <td>NQ3290</td>\n",
       "      <td>1</td>\n",
       "      <td>59.331302</td>\n",
       "      <td>18.284738</td>\n",
       "      <td>-41.046564</td>\n",
       "      <td>0.896663</td>\n",
       "      <td>0.663763</td>\n",
       "      <td>-0.232900</td>\n",
       "    </tr>\n",
       "    <tr>\n",
       "      <th>15</th>\n",
       "      <td>NX0632</td>\n",
       "      <td>1</td>\n",
       "      <td>1.654338</td>\n",
       "      <td>2.886090</td>\n",
       "      <td>1.231752</td>\n",
       "      <td>0.851790</td>\n",
       "      <td>0.739107</td>\n",
       "      <td>-0.112683</td>\n",
       "    </tr>\n",
       "    <tr>\n",
       "      <th>16</th>\n",
       "      <td>NE0450</td>\n",
       "      <td>1</td>\n",
       "      <td>0.211397</td>\n",
       "      <td>36.343452</td>\n",
       "      <td>36.132055</td>\n",
       "      <td>0.993417</td>\n",
       "      <td>0.972236</td>\n",
       "      <td>-0.021181</td>\n",
       "    </tr>\n",
       "    <tr>\n",
       "      <th>17</th>\n",
       "      <td>NP1006</td>\n",
       "      <td>1</td>\n",
       "      <td>26.380008</td>\n",
       "      <td>94.541687</td>\n",
       "      <td>68.161679</td>\n",
       "      <td>0.600056</td>\n",
       "      <td>0.618703</td>\n",
       "      <td>0.018647</td>\n",
       "    </tr>\n",
       "    <tr>\n",
       "      <th>18</th>\n",
       "      <td>GF0332</td>\n",
       "      <td>1</td>\n",
       "      <td>14.256098</td>\n",
       "      <td>174.066321</td>\n",
       "      <td>159.810223</td>\n",
       "      <td>0.883294</td>\n",
       "      <td>0.832223</td>\n",
       "      <td>-0.051071</td>\n",
       "    </tr>\n",
       "    <tr>\n",
       "      <th>19</th>\n",
       "      <td>GF1065</td>\n",
       "      <td>1</td>\n",
       "      <td>41.129714</td>\n",
       "      <td>11.340916</td>\n",
       "      <td>-29.788798</td>\n",
       "      <td>0.828077</td>\n",
       "      <td>0.819403</td>\n",
       "      <td>-0.008674</td>\n",
       "    </tr>\n",
       "  </tbody>\n",
       "</table>\n",
       "</div>"
      ],
      "text/plain": [
       "   Project ID visit_no    var_hr_1    var_hr_2    var_diff   ac_hr_1  \\\n",
       "0      RD3976        1   35.970309  126.258637   90.288327  0.801350   \n",
       "1      RX1828        1   47.736832   30.110600  -17.626231  0.900820   \n",
       "2      RP0984        1    4.054698    7.001335    2.946637  0.947096   \n",
       "3      UI4061        1  126.368318   84.532213  -41.836105  0.954589   \n",
       "4      UD1688        1    6.668083   25.740048   19.071965  0.377095   \n",
       "5      UD2443        1   29.904828  117.660270   87.755443  0.540192   \n",
       "6      UX1362        1   68.688908   26.189541  -42.499367  0.948483   \n",
       "7      UB1799        1   57.723283   15.643733  -42.079550  0.855662   \n",
       "8      UY2351        1   35.339978   19.574963  -15.765015  0.820315   \n",
       "9      IZ1435        1   62.894997   30.451116  -32.443881  0.708880   \n",
       "10     IZ2966        1   28.737393   33.189729    4.452335  0.909577   \n",
       "11     IF3856        1   47.158975   25.839618  -21.319357  0.798865   \n",
       "12     IJ2643        1   37.027033   45.840824    8.813791  0.967660   \n",
       "13     NF3544        1   63.336517   14.427583  -48.908934  0.953946   \n",
       "14     NQ3290        1   59.331302   18.284738  -41.046564  0.896663   \n",
       "15     NX0632        1    1.654338    2.886090    1.231752  0.851790   \n",
       "16     NE0450        1    0.211397   36.343452   36.132055  0.993417   \n",
       "17     NP1006        1   26.380008   94.541687   68.161679  0.600056   \n",
       "18     GF0332        1   14.256098  174.066321  159.810223  0.883294   \n",
       "19     GF1065        1   41.129714   11.340916  -29.788798  0.828077   \n",
       "\n",
       "     ac_hr_2   ac_diff  \n",
       "0   0.953453  0.152102  \n",
       "1   0.831651 -0.069169  \n",
       "2   0.958520  0.011423  \n",
       "3   0.812004 -0.142585  \n",
       "4   0.909986  0.532890  \n",
       "5   0.781954  0.241762  \n",
       "6   0.827683 -0.120800  \n",
       "7   0.891807  0.036145  \n",
       "8   0.877602  0.057287  \n",
       "9   0.798767  0.089887  \n",
       "10  0.958500  0.048924  \n",
       "11  0.840089  0.041225  \n",
       "12  0.909415 -0.058245  \n",
       "13  0.851487 -0.102459  \n",
       "14  0.663763 -0.232900  \n",
       "15  0.739107 -0.112683  \n",
       "16  0.972236 -0.021181  \n",
       "17  0.618703  0.018647  \n",
       "18  0.832223 -0.051071  \n",
       "19  0.819403 -0.008674  "
      ]
     },
     "execution_count": 5,
     "metadata": {},
     "output_type": "execute_result"
    }
   ],
   "source": [
    "cohort1.averages(cut_off=15, measure='hr')"
   ]
  },
  {
   "cell_type": "code",
   "execution_count": 12,
   "metadata": {},
   "outputs": [
    {
     "name": "stderr",
     "output_type": "stream",
     "text": [
      "/Users/lucindakhalil/opt/anaconda3/lib/python3.8/site-packages/pandas/core/indexing.py:1732: SettingWithCopyWarning: \n",
      "A value is trying to be set on a copy of a slice from a DataFrame\n",
      "\n",
      "See the caveats in the documentation: https://pandas.pydata.org/pandas-docs/stable/user_guide/indexing.html#returning-a-view-versus-a-copy\n",
      "  self._setitem_single_block(indexer, value, name)\n",
      "Extubated period is too long to carry out analysis.\n",
      "Extubated period is too long to carry out analysis.\n",
      "Extubated period is too long to carry out analysis.\n",
      "'NoneType' object has no attribute 'copy'\n",
      "'NoneType' object is not subscriptable\n"
     ]
    },
    {
     "name": "stdout",
     "output_type": "stream",
     "text": [
      "There is no heart rate data available during the extubated period.\n"
     ]
    },
    {
     "name": "stderr",
     "output_type": "stream",
     "text": [
      "Extubated period is too long to carry out analysis.\n",
      "Extubated period is too long to carry out analysis.\n",
      "(TV4037, 1, start time: 2018-12-13 11:50:00, end_time: 2018-11-14 10:00:00, start index = 9331, end index = 0\n",
      "Extubated period is too long to carry out analysis.\n",
      "'NoneType' object has no attribute 'copy'\n",
      "'NoneType' object is not subscriptable\n"
     ]
    },
    {
     "name": "stdout",
     "output_type": "stream",
     "text": [
      "There is no heart rate data available during the extubated period.\n"
     ]
    },
    {
     "name": "stderr",
     "output_type": "stream",
     "text": [
      "Extubated period is too long to carry out analysis.\n",
      "Extubated period is too long to carry out analysis.\n",
      "Extubated period is too long to carry out analysis.\n",
      "Extubated period is too long to carry out analysis.\n",
      "Extubated period is too long to carry out analysis.\n",
      "Extubated period is too long to carry out analysis.\n",
      "Extubated period is too long to carry out analysis.\n",
      "'NoneType' object has no attribute 'copy'\n",
      "'NoneType' object is not subscriptable\n"
     ]
    },
    {
     "name": "stdout",
     "output_type": "stream",
     "text": [
      "There is no heart rate data available during the extubated period.\n"
     ]
    },
    {
     "name": "stderr",
     "output_type": "stream",
     "text": [
      "Extubated period is too long to carry out analysis.\n",
      "'NoneType' object has no attribute 'copy'\n",
      "'NoneType' object is not subscriptable\n"
     ]
    },
    {
     "name": "stdout",
     "output_type": "stream",
     "text": [
      "There is no heart rate data available during the extubated period.\n"
     ]
    },
    {
     "name": "stderr",
     "output_type": "stream",
     "text": [
      "Extubated period is too long to carry out analysis.\n",
      "Extubated period is too long to carry out analysis.\n",
      "Extubated period is too long to carry out analysis.\n",
      "Extubated period is too long to carry out analysis.\n",
      "Extubated period is too long to carry out analysis.\n",
      "Extubated period is too long to carry out analysis.\n",
      "'NoneType' object has no attribute 'copy'\n",
      "'NoneType' object is not subscriptable\n"
     ]
    },
    {
     "name": "stdout",
     "output_type": "stream",
     "text": [
      "There is no heart rate data available during the extubated period.\n"
     ]
    },
    {
     "name": "stderr",
     "output_type": "stream",
     "text": [
      "'NoneType' object has no attribute 'copy'\n",
      "'NoneType' object is not subscriptable\n"
     ]
    },
    {
     "name": "stdout",
     "output_type": "stream",
     "text": [
      "There is no heart rate data available during the extubated period.\n"
     ]
    },
    {
     "name": "stderr",
     "output_type": "stream",
     "text": [
      "Extubated period is too long to carry out analysis.\n",
      "Extubated period is too long to carry out analysis.\n",
      "Extubated period is too long to carry out analysis.\n",
      "Extubated period is too long to carry out analysis.\n",
      "Extubated period is too long to carry out analysis.\n",
      "Extubated period is too long to carry out analysis.\n",
      "Extubated period is too long to carry out analysis.\n"
     ]
    }
   ],
   "source": [
    "cohort1 = Cohort(cohort_dict[1],1)\n",
    "hr_averages_c1 = cohort1.averages(cut_off=0, measure='hr')"
   ]
  },
  {
   "cell_type": "code",
   "execution_count": 19,
   "metadata": {},
   "outputs": [
    {
     "data": {
      "text/plain": [
       "0.8891272602366411"
      ]
     },
     "execution_count": 19,
     "metadata": {},
     "output_type": "execute_result"
    }
   ],
   "source": [
    "hr_averages_c1 = hr_averages_c1.dropna()\n",
    "s, p = stats.ttest_rel(hr_averages_c1[\"var_hr_1\"], hr_averages_c1[\"var_hr_2\"], alternative='less')\n",
    "p\n"
   ]
  },
  {
   "cell_type": "code",
   "execution_count": 13,
   "metadata": {},
   "outputs": [],
   "source": [
    "hr_averages_c1.to_string()\n",
    "hr_averages_c1.to_csv(\"averages_data/hr_averages_c1_0_cutoff.csv\")"
   ]
  },
  {
   "cell_type": "code",
   "execution_count": null,
   "metadata": {},
   "outputs": [],
   "source": [
    "TV4037 = Visit(\"../In2Research_data/data/T/V/TV4037\", 1, cohort_1_details, cohort_2_details, cohort_3_details,cohort_4_details)"
   ]
  },
  {
   "cell_type": "code",
   "execution_count": null,
   "metadata": {},
   "outputs": [
    {
     "data": {
      "text/html": [
       "<div>\n",
       "<style scoped>\n",
       "    .dataframe tbody tr th:only-of-type {\n",
       "        vertical-align: middle;\n",
       "    }\n",
       "\n",
       "    .dataframe tbody tr th {\n",
       "        vertical-align: top;\n",
       "    }\n",
       "\n",
       "    .dataframe thead th {\n",
       "        text-align: right;\n",
       "    }\n",
       "</style>\n",
       "<table border=\"1\" class=\"dataframe\">\n",
       "  <thead>\n",
       "    <tr style=\"text-align: right;\">\n",
       "      <th></th>\n",
       "      <th>Unnamed: 0</th>\n",
       "      <th>Project ID</th>\n",
       "      <th>birth_deid_date</th>\n",
       "      <th>death_deid_date</th>\n",
       "      <th>sex</th>\n",
       "      <th>icu_visit</th>\n",
       "      <th>icu_start_deid_dttm</th>\n",
       "      <th>icu_end_deid_dttm</th>\n",
       "      <th>failed_extubation_flag</th>\n",
       "      <th>failed_extubation_deid_date</th>\n",
       "      <th>intubation_flag</th>\n",
       "      <th>extubation_flag</th>\n",
       "      <th>extubation_deid_date</th>\n",
       "      <th>extubation_score</th>\n",
       "      <th>re_intubation_deid_date</th>\n",
       "      <th>icu_ward</th>\n",
       "      <th>total_visits</th>\n",
       "      <th>extubation_duration</th>\n",
       "      <th>age (days)</th>\n",
       "    </tr>\n",
       "  </thead>\n",
       "  <tbody>\n",
       "    <tr>\n",
       "      <th>118</th>\n",
       "      <td>5565</td>\n",
       "      <td>TV4037</td>\n",
       "      <td>2018-09-28 00:00:00</td>\n",
       "      <td>NaN</td>\n",
       "      <td>Male</td>\n",
       "      <td>1</td>\n",
       "      <td>2018-12-12 20:00:00</td>\n",
       "      <td>2018-12-18 16:17:00</td>\n",
       "      <td>1.0</td>\n",
       "      <td>2018-12-13 11:50:00</td>\n",
       "      <td>1</td>\n",
       "      <td>1.0</td>\n",
       "      <td>2018-12-13 11:51:00</td>\n",
       "      <td>5.0</td>\n",
       "      <td>2018-11-14 10:00:00</td>\n",
       "      <td>PICU</td>\n",
       "      <td>2</td>\n",
       "      <td>1330.0</td>\n",
       "      <td>76.49375</td>\n",
       "    </tr>\n",
       "  </tbody>\n",
       "</table>\n",
       "</div>"
      ],
      "text/plain": [
       "     Unnamed: 0 Project ID      birth_deid_date  death_deid_date   sex  \\\n",
       "118        5565     TV4037  2018-09-28 00:00:00              NaN  Male   \n",
       "\n",
       "     icu_visit  icu_start_deid_dttm    icu_end_deid_dttm  \\\n",
       "118          1  2018-12-12 20:00:00  2018-12-18 16:17:00   \n",
       "\n",
       "     failed_extubation_flag failed_extubation_deid_date  intubation_flag  \\\n",
       "118                     1.0         2018-12-13 11:50:00                1   \n",
       "\n",
       "     extubation_flag extubation_deid_date  extubation_score  \\\n",
       "118              1.0  2018-12-13 11:51:00               5.0   \n",
       "\n",
       "    re_intubation_deid_date icu_ward  total_visits  extubation_duration  \\\n",
       "118     2018-11-14 10:00:00     PICU             2               1330.0   \n",
       "\n",
       "     age (days)  \n",
       "118    76.49375  "
      ]
     },
     "execution_count": 9,
     "metadata": {},
     "output_type": "execute_result"
    }
   ],
   "source": [
    "TV4037.details\n",
    "# the reintubation is 1 month before extubation"
   ]
  },
  {
   "cell_type": "code",
   "execution_count": 9,
   "metadata": {},
   "outputs": [
    {
     "name": "stderr",
     "output_type": "stream",
     "text": [
      "/Users/lucindakhalil/opt/anaconda3/lib/python3.8/site-packages/pandas/core/indexing.py:1732: SettingWithCopyWarning: \n",
      "A value is trying to be set on a copy of a slice from a DataFrame\n",
      "\n",
      "See the caveats in the documentation: https://pandas.pydata.org/pandas-docs/stable/user_guide/indexing.html#returning-a-view-versus-a-copy\n",
      "  self._setitem_single_block(indexer, value, name)\n",
      "single positional indexer is out-of-bounds\n",
      "'NoneType' object is not subscriptable\n",
      "'NoneType' object has no attribute 'copy'\n",
      "'NoneType' object is not subscriptable\n"
     ]
    },
    {
     "name": "stdout",
     "output_type": "stream",
     "text": [
      "There is no respiration rate data available during the extubated period.\n"
     ]
    },
    {
     "name": "stderr",
     "output_type": "stream",
     "text": [
      "/Users/lucindakhalil/opt/anaconda3/lib/python3.8/site-packages/numpy/lib/function_base.py:2683: RuntimeWarning: Degrees of freedom <= 0 for slice\n",
      "  c = cov(x, y, rowvar, dtype=dtype)\n",
      "/Users/lucindakhalil/opt/anaconda3/lib/python3.8/site-packages/numpy/lib/function_base.py:2542: RuntimeWarning: divide by zero encountered in true_divide\n",
      "  c *= np.true_divide(1, fact)\n",
      "'NoneType' object has no attribute 'copy'\n",
      "'NoneType' object is not subscriptable\n"
     ]
    },
    {
     "name": "stdout",
     "output_type": "stream",
     "text": [
      "There is no respiration rate data available during the extubated period.\n"
     ]
    },
    {
     "name": "stderr",
     "output_type": "stream",
     "text": [
      "/Users/lucindakhalil/opt/anaconda3/lib/python3.8/site-packages/pandas/core/indexing.py:1732: SettingWithCopyWarning: \n",
      "A value is trying to be set on a copy of a slice from a DataFrame\n",
      "\n",
      "See the caveats in the documentation: https://pandas.pydata.org/pandas-docs/stable/user_guide/indexing.html#returning-a-view-versus-a-copy\n",
      "  self._setitem_single_block(indexer, value, name)\n",
      "'NoneType' object has no attribute 'copy'\n",
      "'NoneType' object is not subscriptable\n",
      "Time cut off is too large\n"
     ]
    },
    {
     "name": "stdout",
     "output_type": "stream",
     "text": [
      "There is no respiration rate data available during the extubated period.\n"
     ]
    },
    {
     "name": "stderr",
     "output_type": "stream",
     "text": [
      "single positional indexer is out-of-bounds\n",
      "'NoneType' object is not subscriptable\n",
      "single positional indexer is out-of-bounds\n",
      "'NoneType' object is not subscriptable\n",
      "'NoneType' object has no attribute 'copy'\n",
      "'NoneType' object is not subscriptable\n"
     ]
    },
    {
     "name": "stdout",
     "output_type": "stream",
     "text": [
      "There is no respiration rate data available during the extubated period.\n"
     ]
    },
    {
     "name": "stderr",
     "output_type": "stream",
     "text": [
      "single positional indexer is out-of-bounds\n",
      "'NoneType' object is not subscriptable\n",
      "'NoneType' object has no attribute 'copy'\n",
      "'NoneType' object is not subscriptable\n"
     ]
    },
    {
     "name": "stdout",
     "output_type": "stream",
     "text": [
      "There is no respiration rate data available during the extubated period.\n"
     ]
    },
    {
     "name": "stderr",
     "output_type": "stream",
     "text": [
      "single positional indexer is out-of-bounds\n",
      "'NoneType' object is not subscriptable\n",
      "'NoneType' object has no attribute 'copy'\n",
      "'NoneType' object is not subscriptable\n",
      "single positional indexer is out-of-bounds\n",
      "'NoneType' object is not subscriptable\n"
     ]
    },
    {
     "name": "stdout",
     "output_type": "stream",
     "text": [
      "There is no respiration rate data available during the extubated period.\n"
     ]
    },
    {
     "name": "stderr",
     "output_type": "stream",
     "text": [
      "'NoneType' object has no attribute 'copy'\n",
      "'NoneType' object is not subscriptable\n"
     ]
    },
    {
     "name": "stdout",
     "output_type": "stream",
     "text": [
      "There is no respiration rate data available during the extubated period.\n"
     ]
    },
    {
     "name": "stderr",
     "output_type": "stream",
     "text": [
      "'NoneType' object has no attribute 'copy'\n",
      "'NoneType' object is not subscriptable\n"
     ]
    },
    {
     "name": "stdout",
     "output_type": "stream",
     "text": [
      "There is no respiration rate data available during the extubated period.\n"
     ]
    },
    {
     "name": "stderr",
     "output_type": "stream",
     "text": [
      "single positional indexer is out-of-bounds\n",
      "'NoneType' object is not subscriptable\n",
      "'NoneType' object has no attribute 'copy'\n",
      "'NoneType' object is not subscriptable\n"
     ]
    },
    {
     "name": "stdout",
     "output_type": "stream",
     "text": [
      "There is no respiration rate data available during the extubated period.\n"
     ]
    },
    {
     "name": "stderr",
     "output_type": "stream",
     "text": [
      "'NoneType' object has no attribute 'copy'\n",
      "'NoneType' object is not subscriptable\n"
     ]
    },
    {
     "name": "stdout",
     "output_type": "stream",
     "text": [
      "There is no respiration rate data available during the extubated period.\n"
     ]
    },
    {
     "name": "stderr",
     "output_type": "stream",
     "text": [
      "/Users/lucindakhalil/opt/anaconda3/lib/python3.8/site-packages/numpy/lib/function_base.py:2683: RuntimeWarning: Degrees of freedom <= 0 for slice\n",
      "  c = cov(x, y, rowvar, dtype=dtype)\n",
      "/Users/lucindakhalil/opt/anaconda3/lib/python3.8/site-packages/numpy/lib/function_base.py:2542: RuntimeWarning: divide by zero encountered in true_divide\n",
      "  c *= np.true_divide(1, fact)\n",
      "'NoneType' object has no attribute 'copy'\n",
      "'NoneType' object is not subscriptable\n"
     ]
    },
    {
     "name": "stdout",
     "output_type": "stream",
     "text": [
      "There is no respiration rate data available during the extubated period.\n"
     ]
    },
    {
     "name": "stderr",
     "output_type": "stream",
     "text": [
      "single positional indexer is out-of-bounds\n",
      "'NoneType' object is not subscriptable\n",
      "'NoneType' object has no attribute 'copy'\n",
      "'NoneType' object is not subscriptable\n",
      "single positional indexer is out-of-bounds\n",
      "'NoneType' object is not subscriptable\n"
     ]
    },
    {
     "name": "stdout",
     "output_type": "stream",
     "text": [
      "There is no respiration rate data available during the extubated period.\n"
     ]
    },
    {
     "name": "stderr",
     "output_type": "stream",
     "text": [
      "single positional indexer is out-of-bounds\n",
      "'NoneType' object is not subscriptable\n",
      "single positional indexer is out-of-bounds\n",
      "'NoneType' object is not subscriptable\n"
     ]
    }
   ],
   "source": [
    "rr_averages_c1 = cohort1.averages(cut_off=15, measure='rr')\n",
    "rr_averages_c1.to_csv(\"averages_data/rr_averages_c1.csv\")"
   ]
  },
  {
   "cell_type": "code",
   "execution_count": 10,
   "metadata": {},
   "outputs": [
    {
     "name": "stderr",
     "output_type": "stream",
     "text": [
      "'NoneType' object has no attribute 'copy'\n",
      "'NoneType' object is not subscriptable\n"
     ]
    },
    {
     "name": "stdout",
     "output_type": "stream",
     "text": [
      "There is no blood pressure data available during the extubated period.\n"
     ]
    },
    {
     "name": "stderr",
     "output_type": "stream",
     "text": [
      "'NoneType' object has no attribute 'copy'\n",
      "'NoneType' object is not subscriptable\n",
      "single positional indexer is out-of-bounds\n",
      "'NoneType' object is not subscriptable\n"
     ]
    },
    {
     "name": "stdout",
     "output_type": "stream",
     "text": [
      "There is no blood pressure data available during the extubated period.\n"
     ]
    },
    {
     "name": "stderr",
     "output_type": "stream",
     "text": [
      "'NoneType' object has no attribute 'copy'\n",
      "'NoneType' object is not subscriptable\n"
     ]
    },
    {
     "name": "stdout",
     "output_type": "stream",
     "text": [
      "There is no blood pressure data available during the extubated period.\n"
     ]
    },
    {
     "name": "stderr",
     "output_type": "stream",
     "text": [
      "Extubated period is too short to carry out analysis.\n",
      "'NoneType' object has no attribute 'copy'\n",
      "'NoneType' object is not subscriptable\n"
     ]
    },
    {
     "name": "stdout",
     "output_type": "stream",
     "text": [
      "There is no blood pressure data available during the extubated period.\n"
     ]
    },
    {
     "name": "stderr",
     "output_type": "stream",
     "text": [
      "list index out of range\n",
      "'NoneType' object has no attribute 'copy'\n",
      "'NoneType' object is not subscriptable\n"
     ]
    },
    {
     "name": "stdout",
     "output_type": "stream",
     "text": [
      "There is no blood pressure data available during the extubated period.\n"
     ]
    },
    {
     "name": "stderr",
     "output_type": "stream",
     "text": [
      "'NoneType' object has no attribute 'copy'\n",
      "'NoneType' object is not subscriptable\n"
     ]
    },
    {
     "name": "stdout",
     "output_type": "stream",
     "text": [
      "There is no blood pressure data available during the extubated period.\n"
     ]
    },
    {
     "name": "stderr",
     "output_type": "stream",
     "text": [
      "Extubated period is too short to carry out analysis.\n",
      "Extubated period is too short to carry out analysis.\n",
      "'NoneType' object has no attribute 'copy'\n",
      "'NoneType' object is not subscriptable\n",
      "Extubated period is too short to carry out analysis.\n"
     ]
    },
    {
     "name": "stdout",
     "output_type": "stream",
     "text": [
      "There is no blood pressure data available during the extubated period.\n"
     ]
    },
    {
     "name": "stderr",
     "output_type": "stream",
     "text": [
      "'NoneType' object has no attribute 'copy'\n",
      "'NoneType' object is not subscriptable\n",
      "list index out of range\n",
      "Extubated period is too short to carry out analysis.\n"
     ]
    },
    {
     "name": "stdout",
     "output_type": "stream",
     "text": [
      "There is no blood pressure data available during the extubated period.\n"
     ]
    },
    {
     "name": "stderr",
     "output_type": "stream",
     "text": [
      "'NoneType' object has no attribute 'copy'\n",
      "'NoneType' object is not subscriptable\n",
      "'NoneType' object has no attribute 'copy'\n",
      "'NoneType' object is not subscriptable\n"
     ]
    },
    {
     "name": "stdout",
     "output_type": "stream",
     "text": [
      "There is no blood pressure data available during the extubated period.\n",
      "There is no blood pressure data available during the extubated period.\n"
     ]
    },
    {
     "name": "stderr",
     "output_type": "stream",
     "text": [
      "Extubated period is too short to carry out analysis.\n",
      "list index out of range\n",
      "list index out of range\n",
      "single positional indexer is out-of-bounds\n",
      "'NoneType' object is not subscriptable\n",
      "'NoneType' object has no attribute 'copy'\n",
      "'NoneType' object is not subscriptable\n"
     ]
    },
    {
     "name": "stdout",
     "output_type": "stream",
     "text": [
      "There is no blood pressure data available during the extubated period.\n"
     ]
    },
    {
     "name": "stderr",
     "output_type": "stream",
     "text": [
      "Extubated period is too short to carry out analysis.\n",
      "Extubated period is too short to carry out analysis.\n",
      "Extubated period is too short to carry out analysis.\n",
      "list index out of range\n",
      "Extubated period is too short to carry out analysis.\n",
      "'NoneType' object has no attribute 'copy'\n",
      "'NoneType' object is not subscriptable\n"
     ]
    },
    {
     "name": "stdout",
     "output_type": "stream",
     "text": [
      "There is no blood pressure data available during the extubated period.\n"
     ]
    },
    {
     "name": "stderr",
     "output_type": "stream",
     "text": [
      "'NoneType' object has no attribute 'copy'\n",
      "'NoneType' object is not subscriptable\n"
     ]
    },
    {
     "name": "stdout",
     "output_type": "stream",
     "text": [
      "There is no blood pressure data available during the extubated period.\n"
     ]
    },
    {
     "name": "stderr",
     "output_type": "stream",
     "text": [
      "Extubated period is too short to carry out analysis.\n",
      "'NoneType' object has no attribute 'copy'\n",
      "'NoneType' object is not subscriptable\n"
     ]
    },
    {
     "name": "stdout",
     "output_type": "stream",
     "text": [
      "There is no blood pressure data available during the extubated period.\n"
     ]
    },
    {
     "name": "stderr",
     "output_type": "stream",
     "text": [
      "Extubated period is too short to carry out analysis.\n",
      "'NoneType' object has no attribute 'copy'\n",
      "'NoneType' object is not subscriptable\n",
      "'NoneType' object has no attribute 'copy'\n",
      "'NoneType' object is not subscriptable\n",
      "'NoneType' object has no attribute 'copy'\n",
      "'NoneType' object is not subscriptable\n"
     ]
    },
    {
     "name": "stdout",
     "output_type": "stream",
     "text": [
      "There is no blood pressure data available during the extubated period.\n",
      "There is no blood pressure data available during the extubated period.\n",
      "There is no blood pressure data available during the extubated period.\n"
     ]
    },
    {
     "name": "stderr",
     "output_type": "stream",
     "text": [
      "'NoneType' object has no attribute 'copy'\n",
      "'NoneType' object is not subscriptable\n"
     ]
    },
    {
     "name": "stdout",
     "output_type": "stream",
     "text": [
      "There is no blood pressure data available during the extubated period.\n"
     ]
    },
    {
     "name": "stderr",
     "output_type": "stream",
     "text": [
      "Extubated period is too short to carry out analysis.\n",
      "Extubated period is too short to carry out analysis.\n",
      "Extubated period is too short to carry out analysis.\n",
      "'NoneType' object has no attribute 'copy'\n",
      "'NoneType' object is not subscriptable\n",
      "'NoneType' object has no attribute 'copy'\n",
      "'NoneType' object is not subscriptable\n"
     ]
    },
    {
     "name": "stdout",
     "output_type": "stream",
     "text": [
      "There is no blood pressure data available during the extubated period.\n",
      "There is no blood pressure data available during the extubated period.\n"
     ]
    },
    {
     "name": "stderr",
     "output_type": "stream",
     "text": [
      "Extubated period is too short to carry out analysis.\n",
      "Extubated period is too short to carry out analysis.\n",
      "'NoneType' object has no attribute 'copy'\n",
      "'NoneType' object is not subscriptable\n"
     ]
    },
    {
     "name": "stdout",
     "output_type": "stream",
     "text": [
      "There is no blood pressure data available during the extubated period.\n"
     ]
    },
    {
     "name": "stderr",
     "output_type": "stream",
     "text": [
      "single positional indexer is out-of-bounds\n",
      "'NoneType' object is not subscriptable\n",
      "Extubated period is too short to carry out analysis.\n",
      "'NoneType' object has no attribute 'copy'\n",
      "'NoneType' object is not subscriptable\n"
     ]
    },
    {
     "name": "stdout",
     "output_type": "stream",
     "text": [
      "There is no blood pressure data available during the extubated period.\n"
     ]
    },
    {
     "name": "stderr",
     "output_type": "stream",
     "text": [
      "Extubated period is too short to carry out analysis.\n",
      "list index out of range\n",
      "list index out of range\n",
      "'NoneType' object has no attribute 'copy'\n",
      "'NoneType' object is not subscriptable\n"
     ]
    },
    {
     "name": "stdout",
     "output_type": "stream",
     "text": [
      "There is no blood pressure data available during the extubated period.\n"
     ]
    },
    {
     "name": "stderr",
     "output_type": "stream",
     "text": [
      "'NoneType' object has no attribute 'copy'\n",
      "'NoneType' object is not subscriptable\n"
     ]
    },
    {
     "name": "stdout",
     "output_type": "stream",
     "text": [
      "There is no blood pressure data available during the extubated period.\n"
     ]
    },
    {
     "name": "stderr",
     "output_type": "stream",
     "text": [
      "list index out of range\n",
      "'NoneType' object has no attribute 'copy'\n",
      "'NoneType' object is not subscriptable\n"
     ]
    },
    {
     "name": "stdout",
     "output_type": "stream",
     "text": [
      "There is no blood pressure data available during the extubated period.\n"
     ]
    },
    {
     "name": "stderr",
     "output_type": "stream",
     "text": [
      "'NoneType' object has no attribute 'copy'\n",
      "'NoneType' object is not subscriptable\n"
     ]
    },
    {
     "name": "stdout",
     "output_type": "stream",
     "text": [
      "There is no blood pressure data available during the extubated period.\n"
     ]
    },
    {
     "name": "stderr",
     "output_type": "stream",
     "text": [
      "list index out of range\n",
      "Extubated period is too short to carry out analysis.\n",
      "Extubated period is too short to carry out analysis.\n",
      "list index out of range\n",
      "list index out of range\n",
      "Extubated period is too short to carry out analysis.\n",
      "'NoneType' object has no attribute 'copy'\n",
      "'NoneType' object is not subscriptable\n"
     ]
    },
    {
     "name": "stdout",
     "output_type": "stream",
     "text": [
      "There is no blood pressure data available during the extubated period.\n"
     ]
    },
    {
     "name": "stderr",
     "output_type": "stream",
     "text": [
      "'NoneType' object has no attribute 'copy'\n",
      "'NoneType' object is not subscriptable\n",
      "'NoneType' object has no attribute 'copy'\n",
      "'NoneType' object is not subscriptable\n",
      "Extubated period is too short to carry out analysis.\n",
      "Extubated period is too short to carry out analysis.\n",
      "'NoneType' object has no attribute 'copy'\n",
      "'NoneType' object is not subscriptable\n"
     ]
    },
    {
     "name": "stdout",
     "output_type": "stream",
     "text": [
      "There is no blood pressure data available during the extubated period.\n",
      "There is no blood pressure data available during the extubated period.\n",
      "There is no blood pressure data available during the extubated period.\n"
     ]
    }
   ],
   "source": [
    "abf_averages_c1 = cohort1.averages(cut_off=15, measure='abf')\n",
    "abf_averages_c1.to_csv(\"averages_data/abf_averages_c1.csv\")"
   ]
  },
  {
   "cell_type": "code",
   "execution_count": 4,
   "metadata": {},
   "outputs": [],
   "source": [
    "cohort_3_details = cohort_3_details[cohort_3_details['Project ID']!='YO3416']\n",
    "cohort_3_details = cohort_3_details[cohort_3_details['Project ID']!='OI1472']\n",
    "cohort_3_details = cohort_3_details[cohort_3_details['Project ID']!='NB1283']\n",
    "cohort_3_details = cohort_3_details[cohort_3_details['Project ID']!='DS2559']\n",
    "cohort_3_details = cohort_3_details[cohort_3_details['Project ID']!='IE3963']"
   ]
  },
  {
   "cell_type": "code",
   "execution_count": 8,
   "metadata": {},
   "outputs": [
    {
     "name": "stderr",
     "output_type": "stream",
     "text": [
      "Extubated period is too long to carry out analysis.\n",
      "/Users/lucindakhalil/opt/anaconda3/lib/python3.8/site-packages/pandas/core/indexing.py:1732: SettingWithCopyWarning: \n",
      "A value is trying to be set on a copy of a slice from a DataFrame\n",
      "\n",
      "See the caveats in the documentation: https://pandas.pydata.org/pandas-docs/stable/user_guide/indexing.html#returning-a-view-versus-a-copy\n",
      "  self._setitem_single_block(indexer, value, name)\n",
      "Extubated period is too short to carry out analysis.\n",
      "(IH2940, 1, start time: 2017-09-11 17:25:00, end_time: 2017-09-10 23:45:00, start index = 99840, end index = 87199\n",
      "(NB2075, 1, start time: 2016-11-04 12:00:00, end_time: 2016-11-03 23:45:00, start index = 80983, end index = 72389\n",
      "/Users/lucindakhalil/opt/anaconda3/lib/python3.8/site-packages/numpy/lib/function_base.py:2683: RuntimeWarning: Degrees of freedom <= 0 for slice\n",
      "  c = cov(x, y, rowvar, dtype=dtype)\n",
      "/Users/lucindakhalil/opt/anaconda3/lib/python3.8/site-packages/numpy/lib/function_base.py:2542: RuntimeWarning: divide by zero encountered in true_divide\n",
      "  c *= np.true_divide(1, fact)\n",
      "(ZI1827, 1, start time: 2016-09-10 17:00:00, end_time: 2016-09-09 23:45:00, start index = 322994, end index = 311244\n",
      "(ZZ2313, 1, start time: 2017-02-09 01:00:00, end_time: 2017-02-08 23:45:00, start index = 95128, end index = 94510\n",
      "(TU3358, 1, start time: 2018-02-03 17:30:00, end_time: 2018-02-02 23:45:00, start index = 132551, end index = 119929\n",
      "Extubated period is too short to carry out analysis.\n",
      "Extubated period is too long to carry out analysis.\n",
      "(SI1526, 1, start time: 2016-04-27 21:45:00, end_time: 2016-04-26 23:45:00, start index = 34057, end index = 19090\n",
      "Extubated period is too long to carry out analysis.\n",
      "'NoneType' object has no attribute 'copy'\n",
      "'NoneType' object is not subscriptable\n"
     ]
    },
    {
     "name": "stdout",
     "output_type": "stream",
     "text": [
      "There is no heart rate data available during the extubated period.\n"
     ]
    },
    {
     "name": "stderr",
     "output_type": "stream",
     "text": [
      "Extubated period is too short to carry out analysis.\n",
      "Extubated period is too short to carry out analysis.\n",
      "Extubated period is too short to carry out analysis.\n",
      "(OT3362, 1, start time: 2018-01-30 13:00:00, end_time: 2018-01-29 23:45:00, start index = 11457, end index = 2010\n",
      "Extubated period is too short to carry out analysis.\n",
      "Extubated period is too long to carry out analysis.\n",
      "'NoneType' object has no attribute 'copy'\n",
      "'NoneType' object is not subscriptable\n"
     ]
    },
    {
     "name": "stdout",
     "output_type": "stream",
     "text": [
      "There is no heart rate data available during the extubated period.\n"
     ]
    },
    {
     "name": "stderr",
     "output_type": "stream",
     "text": [
      "Extubated period is too long to carry out analysis.\n",
      "(ML3340, 1, start time: 2018-02-05 18:00:00, end_time: 2018-02-04 23:45:00, start index = 64077, end index = 51155\n",
      "Extubated period is too long to carry out analysis.\n",
      "Extubated period is too long to carry out analysis.\n",
      "Extubated period is too short to carry out analysis.\n",
      "(QJ4049, 1, start time: 2018-11-27 01:00:00, end_time: 2018-11-26 23:45:00, start index = 27408, end index = 26592\n",
      "'NoneType' object has no attribute 'copy'\n",
      "'NoneType' object is not subscriptable\n"
     ]
    },
    {
     "name": "stdout",
     "output_type": "stream",
     "text": [
      "There is no heart rate data available during the extubated period.\n"
     ]
    },
    {
     "name": "stderr",
     "output_type": "stream",
     "text": [
      "'NoneType' object has no attribute 'copy'\n",
      "'NoneType' object is not subscriptable\n"
     ]
    },
    {
     "name": "stdout",
     "output_type": "stream",
     "text": [
      "There is no heart rate data available during the extubated period.\n"
     ]
    },
    {
     "name": "stderr",
     "output_type": "stream",
     "text": [
      "(BB4010, 1, start time: 2018-11-20 23:00:00, end_time: 2018-11-19 23:45:00, start index = 205164, end index = 190364\n",
      "Extubated period is too short to carry out analysis.\n",
      "(PU2398, 1, start time: 2017-03-08 21:20:00, end_time: 2017-03-07 23:45:00, start index = 154584, end index = 140070\n",
      "(PM3943, 1, start time: 2018-10-20 23:00:00, end_time: 2018-10-19 23:45:00, start index = 117508, end index = 101944\n",
      "Extubated period is too short to carry out analysis.\n",
      "(PY1252, 1, start time: 2016-02-12 20:00:00, end_time: 2016-02-11 23:45:00, start index = 162563, end index = 154249\n",
      "(WM1952, 1, start time: 2016-09-30 23:00:00, end_time: 2016-09-29 23:45:00, start index = 85258, end index = 69165\n",
      "(WJ3130, 1, start time: 2017-12-11 15:00:00, end_time: 2017-12-10 23:45:00, start index = 186894, end index = 176232\n",
      "'NoneType' object has no attribute 'copy'\n",
      "'NoneType' object is not subscriptable\n"
     ]
    },
    {
     "name": "stdout",
     "output_type": "stream",
     "text": [
      "There is no heart rate data available during the extubated period.\n"
     ]
    },
    {
     "name": "stderr",
     "output_type": "stream",
     "text": [
      "(NW2380, 2, start time: 2018-11-18 10:42:00, end_time: 2018-11-17 23:45:00, start index = 398056, end index = 390190\n",
      "Extubated period is too long to carry out analysis.\n",
      "Extubated period is too short to carry out analysis.\n",
      "(SQ2007, 2, start time: 2017-06-14 00:00:00, end_time: 2017-06-13 23:45:00, start index = 7080, end index = 7014\n",
      "Extubated period is too long to carry out analysis.\n",
      "'NoneType' object has no attribute 'copy'\n",
      "'NoneType' object is not subscriptable\n"
     ]
    },
    {
     "name": "stdout",
     "output_type": "stream",
     "text": [
      "There is no heart rate data available during the extubated period.\n"
     ]
    },
    {
     "name": "stderr",
     "output_type": "stream",
     "text": [
      "Extubated period is too long to carry out analysis.\n",
      "Extubated period is too short to carry out analysis.\n",
      "(QX3862, 2, start time: 2018-11-20 13:00:00, end_time: 2018-11-19 23:45:00, start index = 418643, end index = 409107\n",
      "Extubated period is too long to carry out analysis.\n",
      "Extubated period is too long to carry out analysis.\n",
      "Extubated period is too long to carry out analysis.\n",
      "(WE4023, 2, start time: 2019-01-03 09:30:00, end_time: 2019-01-02 23:45:00, start index = 183159, end index = 176148\n",
      "Extubated period is too long to carry out analysis.\n",
      "Extubated period is too long to carry out analysis.\n",
      "Extubated period is too long to carry out analysis.\n",
      "Extubated period is too long to carry out analysis.\n",
      "Extubated period is too short to carry out analysis.\n",
      "Extubated period is too long to carry out analysis.\n",
      "(PA1017, 4, start time: 2016-10-28 02:00:00, end_time: 2016-10-27 23:45:00, start index = 58727, end index = 57178\n"
     ]
    }
   ],
   "source": [
    "cohort3 = Cohort(cohort_dict[3],3)\n",
    "hr_averages_c3 = cohort3.averages(cut_off=15, measure='hr')\n",
    "hr_averages_c3.to_csv(\"averages_data/hr_averages_c3.csv\")"
   ]
  },
  {
   "cell_type": "code",
   "execution_count": 6,
   "metadata": {},
   "outputs": [
    {
     "name": "stderr",
     "output_type": "stream",
     "text": [
      "Extubated period is too short to carry out analysis.\n",
      "Extubated period is too short to carry out analysis.\n",
      "Time cut off is too large\n",
      "'NoneType' object has no attribute 'copy'\n",
      "'NoneType' object is not subscriptable\n",
      "Time cut off is too large\n"
     ]
    },
    {
     "name": "stdout",
     "output_type": "stream",
     "text": [
      "There is no respiration rate data available during the extubated period.\n"
     ]
    },
    {
     "name": "stderr",
     "output_type": "stream",
     "text": [
      "'NoneType' object has no attribute 'copy'\n",
      "'NoneType' object is not subscriptable\n",
      "single positional indexer is out-of-bounds\n",
      "'NoneType' object is not subscriptable\n"
     ]
    },
    {
     "name": "stdout",
     "output_type": "stream",
     "text": [
      "There is no respiration rate data available during the extubated period.\n"
     ]
    },
    {
     "name": "stderr",
     "output_type": "stream",
     "text": [
      "Time cut off is too large\n",
      "Time cut off is too large\n",
      "Time cut off is too large\n",
      "'NoneType' object has no attribute 'copy'\n",
      "'NoneType' object is not subscriptable\n",
      "Extubated period is too short to carry out analysis.\n",
      "Extubated period is too short to carry out analysis.\n"
     ]
    },
    {
     "name": "stdout",
     "output_type": "stream",
     "text": [
      "There is no respiration rate data available during the extubated period.\n"
     ]
    },
    {
     "name": "stderr",
     "output_type": "stream",
     "text": [
      "'NoneType' object has no attribute 'copy'\n",
      "'NoneType' object is not subscriptable\n"
     ]
    },
    {
     "name": "stdout",
     "output_type": "stream",
     "text": [
      "There is no respiration rate data available during the extubated period.\n"
     ]
    },
    {
     "name": "stderr",
     "output_type": "stream",
     "text": [
      "Extubated period is too short to carry out analysis.\n",
      "'NoneType' object has no attribute 'copy'\n",
      "'NoneType' object is not subscriptable\n",
      "list index out of range\n"
     ]
    },
    {
     "name": "stdout",
     "output_type": "stream",
     "text": [
      "There is no respiration rate data available during the extubated period.\n"
     ]
    },
    {
     "name": "stderr",
     "output_type": "stream",
     "text": [
      "Extubated period is too short to carry out analysis.\n",
      "'NoneType' object has no attribute 'copy'\n",
      "'NoneType' object is not subscriptable\n"
     ]
    },
    {
     "name": "stdout",
     "output_type": "stream",
     "text": [
      "There is no respiration rate data available during the extubated period.\n"
     ]
    },
    {
     "name": "stderr",
     "output_type": "stream",
     "text": [
      "Extubated period is too short to carry out analysis.\n",
      "Extubated period is too short to carry out analysis.\n",
      "Time cut off is too large\n",
      "Extubated period is too short to carry out analysis.\n",
      "Extubated period is too short to carry out analysis.\n",
      "'NoneType' object has no attribute 'copy'\n",
      "'NoneType' object is not subscriptable\n"
     ]
    },
    {
     "name": "stdout",
     "output_type": "stream",
     "text": [
      "There is no respiration rate data available during the extubated period.\n"
     ]
    },
    {
     "name": "stderr",
     "output_type": "stream",
     "text": [
      "Extubated period is too short to carry out analysis.\n",
      "single positional indexer is out-of-bounds\n",
      "'NoneType' object is not subscriptable\n",
      "Time cut off is too large\n",
      "Extubated period is too short to carry out analysis.\n",
      "'NoneType' object has no attribute 'copy'\n",
      "'NoneType' object is not subscriptable\n"
     ]
    },
    {
     "name": "stdout",
     "output_type": "stream",
     "text": [
      "There is no respiration rate data available during the extubated period.\n"
     ]
    },
    {
     "name": "stderr",
     "output_type": "stream",
     "text": [
      "'NoneType' object has no attribute 'copy'\n",
      "'NoneType' object is not subscriptable\n"
     ]
    },
    {
     "name": "stdout",
     "output_type": "stream",
     "text": [
      "There is no respiration rate data available during the extubated period.\n"
     ]
    },
    {
     "name": "stderr",
     "output_type": "stream",
     "text": [
      "Extubated period is too short to carry out analysis.\n",
      "Extubated period is too short to carry out analysis.\n",
      "Extubated period is too short to carry out analysis.\n",
      "'NoneType' object has no attribute 'copy'\n",
      "'NoneType' object is not subscriptable\n"
     ]
    },
    {
     "name": "stdout",
     "output_type": "stream",
     "text": [
      "There is no respiration rate data available during the extubated period.\n"
     ]
    },
    {
     "name": "stderr",
     "output_type": "stream",
     "text": [
      "'NoneType' object has no attribute 'copy'\n",
      "'NoneType' object is not subscriptable\n"
     ]
    },
    {
     "name": "stdout",
     "output_type": "stream",
     "text": [
      "There is no respiration rate data available during the extubated period.\n"
     ]
    },
    {
     "name": "stderr",
     "output_type": "stream",
     "text": [
      "'NoneType' object has no attribute 'copy'\n",
      "'NoneType' object is not subscriptable\n",
      "'NoneType' object has no attribute 'copy'\n",
      "'NoneType' object is not subscriptable\n"
     ]
    },
    {
     "name": "stdout",
     "output_type": "stream",
     "text": [
      "There is no respiration rate data available during the extubated period.\n",
      "There is no respiration rate data available during the extubated period.\n"
     ]
    },
    {
     "name": "stderr",
     "output_type": "stream",
     "text": [
      "single positional indexer is out-of-bounds\n",
      "'NoneType' object is not subscriptable\n",
      "Time cut off is too large\n",
      "Extubated period is too short to carry out analysis.\n",
      "'NoneType' object has no attribute 'copy'\n",
      "'NoneType' object is not subscriptable\n"
     ]
    },
    {
     "name": "stdout",
     "output_type": "stream",
     "text": [
      "There is no respiration rate data available during the extubated period.\n"
     ]
    },
    {
     "name": "stderr",
     "output_type": "stream",
     "text": [
      "Time cut off is too large\n",
      "'NoneType' object has no attribute 'copy'\n",
      "'NoneType' object is not subscriptable\n"
     ]
    },
    {
     "name": "stdout",
     "output_type": "stream",
     "text": [
      "There is no respiration rate data available during the extubated period.\n"
     ]
    },
    {
     "name": "stderr",
     "output_type": "stream",
     "text": [
      "Extubated period is too short to carry out analysis.\n",
      "Extubated period is too short to carry out analysis.\n",
      "Time cut off is too large\n",
      "'NoneType' object has no attribute 'copy'\n",
      "'NoneType' object is not subscriptable\n",
      "Time cut off is too large\n"
     ]
    },
    {
     "name": "stdout",
     "output_type": "stream",
     "text": [
      "There is no respiration rate data available during the extubated period.\n"
     ]
    },
    {
     "name": "stderr",
     "output_type": "stream",
     "text": [
      "Time cut off is too large\n",
      "'NoneType' object has no attribute 'copy'\n",
      "'NoneType' object is not subscriptable\n"
     ]
    },
    {
     "name": "stdout",
     "output_type": "stream",
     "text": [
      "There is no respiration rate data available during the extubated period.\n"
     ]
    },
    {
     "name": "stderr",
     "output_type": "stream",
     "text": [
      "Time cut off is too large\n",
      "Extubated period is too short to carry out analysis.\n",
      "Extubated period is too short to carry out analysis.\n",
      "Time cut off is too large\n",
      "Extubated period is too short to carry out analysis.\n",
      "'NoneType' object has no attribute 'copy'\n",
      "'NoneType' object is not subscriptable\n",
      "single positional indexer is out-of-bounds\n",
      "'NoneType' object is not subscriptable\n",
      "Extubated period is too short to carry out analysis.\n",
      "single positional indexer is out-of-bounds\n",
      "'NoneType' object is not subscriptable\n"
     ]
    },
    {
     "name": "stdout",
     "output_type": "stream",
     "text": [
      "There is no respiration rate data available during the extubated period.\n"
     ]
    },
    {
     "name": "stderr",
     "output_type": "stream",
     "text": [
      "'NoneType' object has no attribute 'copy'\n",
      "'NoneType' object is not subscriptable\n"
     ]
    },
    {
     "name": "stdout",
     "output_type": "stream",
     "text": [
      "There is no respiration rate data available during the extubated period.\n"
     ]
    },
    {
     "name": "stderr",
     "output_type": "stream",
     "text": [
      "single positional indexer is out-of-bounds\n",
      "'NoneType' object is not subscriptable\n",
      "Extubated period is too short to carry out analysis.\n",
      "Time cut off is too large\n",
      "Extubated period is too short to carry out analysis.\n",
      "Extubated period is too short to carry out analysis.\n",
      "Extubated period is too short to carry out analysis.\n",
      "'NoneType' object has no attribute 'copy'\n",
      "'NoneType' object is not subscriptable\n"
     ]
    },
    {
     "name": "stdout",
     "output_type": "stream",
     "text": [
      "There is no respiration rate data available during the extubated period.\n"
     ]
    },
    {
     "name": "stderr",
     "output_type": "stream",
     "text": [
      "Time cut off is too large\n",
      "'NoneType' object has no attribute 'copy'\n",
      "'NoneType' object is not subscriptable\n"
     ]
    },
    {
     "name": "stdout",
     "output_type": "stream",
     "text": [
      "There is no respiration rate data available during the extubated period.\n"
     ]
    },
    {
     "name": "stderr",
     "output_type": "stream",
     "text": [
      "'NoneType' object has no attribute 'copy'\n",
      "'NoneType' object is not subscriptable\n"
     ]
    },
    {
     "name": "stdout",
     "output_type": "stream",
     "text": [
      "There is no respiration rate data available during the extubated period.\n"
     ]
    },
    {
     "name": "stderr",
     "output_type": "stream",
     "text": [
      "Extubated period is too short to carry out analysis.\n",
      "Extubated period is too short to carry out analysis.\n",
      "Extubated period is too short to carry out analysis.\n",
      "'NoneType' object has no attribute 'copy'\n",
      "'NoneType' object is not subscriptable\n"
     ]
    },
    {
     "name": "stdout",
     "output_type": "stream",
     "text": [
      "There is no respiration rate data available during the extubated period.\n"
     ]
    },
    {
     "name": "stderr",
     "output_type": "stream",
     "text": [
      "Extubated period is too short to carry out analysis.\n",
      "Extubated period is too short to carry out analysis.\n",
      "Extubated period is too short to carry out analysis.\n",
      "'NoneType' object has no attribute 'copy'\n",
      "'NoneType' object is not subscriptable\n"
     ]
    },
    {
     "name": "stdout",
     "output_type": "stream",
     "text": [
      "There is no respiration rate data available during the extubated period.\n"
     ]
    },
    {
     "name": "stderr",
     "output_type": "stream",
     "text": [
      "Extubated period is too short to carry out analysis.\n"
     ]
    }
   ],
   "source": [
    "rr_averages_c3 = cohort3.averages(cut_off=15, measure='rr')\n",
    "rr_averages_c3.to_csv(\"averages_data/rr_averages_c3.csv\")"
   ]
  },
  {
   "cell_type": "code",
   "execution_count": 7,
   "metadata": {},
   "outputs": [
    {
     "name": "stderr",
     "output_type": "stream",
     "text": [
      "Extubated period is too short to carry out analysis.\n",
      "'NoneType' object has no attribute 'copy'\n",
      "'NoneType' object is not subscriptable\n",
      "'NoneType' object has no attribute 'copy'\n",
      "'NoneType' object is not subscriptable\n",
      "Extubated period is too short to carry out analysis.\n"
     ]
    },
    {
     "name": "stdout",
     "output_type": "stream",
     "text": [
      "There is no blood pressure data available during the extubated period.\n",
      "There is no blood pressure data available during the extubated period.\n"
     ]
    },
    {
     "name": "stderr",
     "output_type": "stream",
     "text": [
      "list index out of range\n",
      "list index out of range\n",
      "'NoneType' object has no attribute 'copy'\n",
      "'NoneType' object is not subscriptable\n"
     ]
    },
    {
     "name": "stdout",
     "output_type": "stream",
     "text": [
      "There is no blood pressure data available during the extubated period.\n"
     ]
    },
    {
     "name": "stderr",
     "output_type": "stream",
     "text": [
      "Time cut off is too large\n",
      "Time cut off is too large\n",
      "'NoneType' object has no attribute 'copy'\n",
      "'NoneType' object is not subscriptable\n",
      "'NoneType' object has no attribute 'copy'\n",
      "'NoneType' object is not subscriptable\n",
      "list index out of range\n"
     ]
    },
    {
     "name": "stdout",
     "output_type": "stream",
     "text": [
      "There is no blood pressure data available during the extubated period.\n",
      "There is no blood pressure data available during the extubated period.\n"
     ]
    },
    {
     "name": "stderr",
     "output_type": "stream",
     "text": [
      "Time cut off is too large\n",
      "Time cut off is too large\n",
      "'NoneType' object has no attribute 'copy'\n",
      "'NoneType' object is not subscriptable\n"
     ]
    },
    {
     "name": "stdout",
     "output_type": "stream",
     "text": [
      "There is no blood pressure data available during the extubated period.\n"
     ]
    },
    {
     "name": "stderr",
     "output_type": "stream",
     "text": [
      "'NoneType' object has no attribute 'copy'\n",
      "'NoneType' object is not subscriptable\n",
      "Extubated period is too short to carry out analysis.\n",
      "list index out of range\n"
     ]
    },
    {
     "name": "stdout",
     "output_type": "stream",
     "text": [
      "There is no blood pressure data available during the extubated period.\n"
     ]
    },
    {
     "name": "stderr",
     "output_type": "stream",
     "text": [
      "Time cut off is too large\n",
      "list index out of range\n",
      "Extubated period is too short to carry out analysis.\n",
      "'NoneType' object has no attribute 'copy'\n",
      "'NoneType' object is not subscriptable\n",
      "list index out of range\n"
     ]
    },
    {
     "name": "stdout",
     "output_type": "stream",
     "text": [
      "There is no blood pressure data available during the extubated period.\n"
     ]
    },
    {
     "name": "stderr",
     "output_type": "stream",
     "text": [
      "Extubated period is too short to carry out analysis.\n",
      "'NoneType' object has no attribute 'copy'\n",
      "'NoneType' object is not subscriptable\n",
      "single positional indexer is out-of-bounds\n",
      "'NoneType' object is not subscriptable\n"
     ]
    },
    {
     "name": "stdout",
     "output_type": "stream",
     "text": [
      "There is no blood pressure data available during the extubated period.\n"
     ]
    },
    {
     "name": "stderr",
     "output_type": "stream",
     "text": [
      "'NoneType' object has no attribute 'copy'\n",
      "'NoneType' object is not subscriptable\n"
     ]
    },
    {
     "name": "stdout",
     "output_type": "stream",
     "text": [
      "There is no blood pressure data available during the extubated period.\n"
     ]
    },
    {
     "name": "stderr",
     "output_type": "stream",
     "text": [
      "'NoneType' object has no attribute 'copy'\n",
      "'NoneType' object is not subscriptable\n"
     ]
    },
    {
     "name": "stdout",
     "output_type": "stream",
     "text": [
      "There is no blood pressure data available during the extubated period.\n"
     ]
    },
    {
     "name": "stderr",
     "output_type": "stream",
     "text": [
      "Extubated period is too short to carry out analysis.\n",
      "list index out of range\n",
      "'NoneType' object has no attribute 'copy'\n",
      "'NoneType' object is not subscriptable\n",
      "Extubated period is too short to carry out analysis.\n"
     ]
    },
    {
     "name": "stdout",
     "output_type": "stream",
     "text": [
      "There is no blood pressure data available during the extubated period.\n"
     ]
    },
    {
     "name": "stderr",
     "output_type": "stream",
     "text": [
      "Time cut off is too large\n",
      "Extubated period is too short to carry out analysis.\n",
      "Extubated period is too short to carry out analysis.\n",
      "'NoneType' object has no attribute 'copy'\n",
      "'NoneType' object is not subscriptable\n"
     ]
    },
    {
     "name": "stdout",
     "output_type": "stream",
     "text": [
      "There is no blood pressure data available during the extubated period.\n"
     ]
    },
    {
     "name": "stderr",
     "output_type": "stream",
     "text": [
      "'NoneType' object has no attribute 'copy'\n",
      "'NoneType' object is not subscriptable\n",
      "'NoneType' object has no attribute 'copy'\n",
      "'NoneType' object is not subscriptable\n"
     ]
    },
    {
     "name": "stdout",
     "output_type": "stream",
     "text": [
      "There is no blood pressure data available during the extubated period.\n",
      "There is no blood pressure data available during the extubated period.\n"
     ]
    },
    {
     "name": "stderr",
     "output_type": "stream",
     "text": [
      "Extubated period is too short to carry out analysis.\n",
      "'NoneType' object has no attribute 'copy'\n",
      "'NoneType' object is not subscriptable\n",
      "Time cut off is too large\n"
     ]
    },
    {
     "name": "stdout",
     "output_type": "stream",
     "text": [
      "There is no blood pressure data available during the extubated period.\n"
     ]
    },
    {
     "name": "stderr",
     "output_type": "stream",
     "text": [
      "Extubated period is too short to carry out analysis.\n",
      "'NoneType' object has no attribute 'copy'\n",
      "'NoneType' object is not subscriptable\n",
      "list index out of range\n",
      "'NoneType' object has no attribute 'copy'\n",
      "'NoneType' object is not subscriptable\n"
     ]
    },
    {
     "name": "stdout",
     "output_type": "stream",
     "text": [
      "There is no blood pressure data available during the extubated period.\n",
      "There is no blood pressure data available during the extubated period.\n"
     ]
    },
    {
     "name": "stderr",
     "output_type": "stream",
     "text": [
      "list index out of range\n",
      "single positional indexer is out-of-bounds\n",
      "'NoneType' object is not subscriptable\n",
      "'NoneType' object has no attribute 'copy'\n",
      "'NoneType' object is not subscriptable\n"
     ]
    },
    {
     "name": "stdout",
     "output_type": "stream",
     "text": [
      "There is no blood pressure data available during the extubated period.\n"
     ]
    },
    {
     "name": "stderr",
     "output_type": "stream",
     "text": [
      "Extubated period is too short to carry out analysis.\n",
      "Extubated period is too short to carry out analysis.\n",
      "Time cut off is too large\n",
      "'NoneType' object has no attribute 'copy'\n",
      "'NoneType' object is not subscriptable\n"
     ]
    },
    {
     "name": "stdout",
     "output_type": "stream",
     "text": [
      "There is no blood pressure data available during the extubated period.\n"
     ]
    },
    {
     "name": "stderr",
     "output_type": "stream",
     "text": [
      "'NoneType' object has no attribute 'copy'\n",
      "'NoneType' object is not subscriptable\n"
     ]
    },
    {
     "name": "stdout",
     "output_type": "stream",
     "text": [
      "There is no blood pressure data available during the extubated period.\n"
     ]
    },
    {
     "name": "stderr",
     "output_type": "stream",
     "text": [
      "'NoneType' object has no attribute 'copy'\n",
      "'NoneType' object is not subscriptable\n"
     ]
    },
    {
     "name": "stdout",
     "output_type": "stream",
     "text": [
      "There is no blood pressure data available during the extubated period.\n"
     ]
    },
    {
     "name": "stderr",
     "output_type": "stream",
     "text": [
      "'NoneType' object has no attribute 'copy'\n",
      "'NoneType' object is not subscriptable\n",
      "'NoneType' object has no attribute 'copy'\n",
      "'NoneType' object is not subscriptable\n"
     ]
    },
    {
     "name": "stdout",
     "output_type": "stream",
     "text": [
      "There is no blood pressure data available during the extubated period.\n",
      "There is no blood pressure data available during the extubated period.\n"
     ]
    },
    {
     "name": "stderr",
     "output_type": "stream",
     "text": [
      "Time cut off is too large\n",
      "'NoneType' object has no attribute 'copy'\n",
      "'NoneType' object is not subscriptable\n"
     ]
    },
    {
     "name": "stdout",
     "output_type": "stream",
     "text": [
      "There is no blood pressure data available during the extubated period.\n"
     ]
    },
    {
     "name": "stderr",
     "output_type": "stream",
     "text": [
      "'NoneType' object has no attribute 'copy'\n",
      "'NoneType' object is not subscriptable\n",
      "Extubated period is too short to carry out analysis.\n",
      "'NoneType' object has no attribute 'copy'\n",
      "'NoneType' object is not subscriptable\n"
     ]
    },
    {
     "name": "stdout",
     "output_type": "stream",
     "text": [
      "There is no blood pressure data available during the extubated period.\n",
      "There is no blood pressure data available during the extubated period.\n"
     ]
    },
    {
     "name": "stderr",
     "output_type": "stream",
     "text": [
      "'NoneType' object has no attribute 'copy'\n",
      "'NoneType' object is not subscriptable\n",
      "'NoneType' object has no attribute 'copy'\n",
      "'NoneType' object is not subscriptable\n"
     ]
    },
    {
     "name": "stdout",
     "output_type": "stream",
     "text": [
      "There is no blood pressure data available during the extubated period.\n",
      "There is no blood pressure data available during the extubated period.\n"
     ]
    },
    {
     "name": "stderr",
     "output_type": "stream",
     "text": [
      "'NoneType' object has no attribute 'copy'\n",
      "'NoneType' object is not subscriptable\n"
     ]
    },
    {
     "name": "stdout",
     "output_type": "stream",
     "text": [
      "There is no blood pressure data available during the extubated period.\n"
     ]
    },
    {
     "name": "stderr",
     "output_type": "stream",
     "text": [
      "Time cut off is too large\n",
      "'NoneType' object has no attribute 'copy'\n",
      "'NoneType' object is not subscriptable\n",
      "single positional indexer is out-of-bounds\n",
      "'NoneType' object is not subscriptable\n",
      "'NoneType' object has no attribute 'copy'\n",
      "'NoneType' object is not subscriptable\n"
     ]
    },
    {
     "name": "stdout",
     "output_type": "stream",
     "text": [
      "There is no blood pressure data available during the extubated period.\n",
      "There is no blood pressure data available during the extubated period.\n"
     ]
    },
    {
     "name": "stderr",
     "output_type": "stream",
     "text": [
      "Time cut off is too large\n",
      "Extubated period is too short to carry out analysis.\n",
      "'NoneType' object has no attribute 'copy'\n",
      "'NoneType' object is not subscriptable\n"
     ]
    },
    {
     "name": "stdout",
     "output_type": "stream",
     "text": [
      "There is no blood pressure data available during the extubated period.\n"
     ]
    },
    {
     "name": "stderr",
     "output_type": "stream",
     "text": [
      "list index out of range\n",
      "Time cut off is too large\n",
      "'NoneType' object has no attribute 'copy'\n",
      "'NoneType' object is not subscriptable\n",
      "list index out of range\n"
     ]
    },
    {
     "name": "stdout",
     "output_type": "stream",
     "text": [
      "There is no blood pressure data available during the extubated period.\n"
     ]
    },
    {
     "name": "stderr",
     "output_type": "stream",
     "text": [
      "Time cut off is too large\n",
      "Extubated period is too short to carry out analysis.\n",
      "Extubated period is too short to carry out analysis.\n",
      "'NoneType' object has no attribute 'copy'\n",
      "'NoneType' object is not subscriptable\n",
      "Time cut off is too large\n",
      "Extubated period is too short to carry out analysis.\n",
      "'NoneType' object has no attribute 'copy'\n",
      "'NoneType' object is not subscriptable\n",
      "'NoneType' object has no attribute 'copy'\n",
      "'NoneType' object is not subscriptable\n",
      "'NoneType' object has no attribute 'copy'\n",
      "'NoneType' object is not subscriptable\n",
      "Extubated period is too short to carry out analysis.\n",
      "'NoneType' object has no attribute 'copy'\n",
      "'NoneType' object is not subscriptable\n",
      "'NoneType' object has no attribute 'copy'\n",
      "'NoneType' object is not subscriptable\n"
     ]
    },
    {
     "name": "stdout",
     "output_type": "stream",
     "text": [
      "There is no blood pressure data available during the extubated period.\n",
      "There is no blood pressure data available during the extubated period.\n",
      "There is no blood pressure data available during the extubated period.\n",
      "There is no blood pressure data available during the extubated period.\n",
      "There is no blood pressure data available during the extubated period.\n",
      "There is no blood pressure data available during the extubated period.\n"
     ]
    },
    {
     "name": "stderr",
     "output_type": "stream",
     "text": [
      "list index out of range\n",
      "'NoneType' object has no attribute 'copy'\n",
      "'NoneType' object is not subscriptable\n"
     ]
    },
    {
     "name": "stdout",
     "output_type": "stream",
     "text": [
      "There is no blood pressure data available during the extubated period.\n"
     ]
    },
    {
     "name": "stderr",
     "output_type": "stream",
     "text": [
      "list index out of range\n",
      "'NoneType' object has no attribute 'copy'\n",
      "'NoneType' object is not subscriptable\n",
      "single positional indexer is out-of-bounds\n",
      "'NoneType' object is not subscriptable\n"
     ]
    },
    {
     "name": "stdout",
     "output_type": "stream",
     "text": [
      "There is no blood pressure data available during the extubated period.\n"
     ]
    },
    {
     "name": "stderr",
     "output_type": "stream",
     "text": [
      "'NoneType' object has no attribute 'copy'\n",
      "'NoneType' object is not subscriptable\n",
      "Extubated period is too short to carry out analysis.\n",
      "Time cut off is too large\n"
     ]
    },
    {
     "name": "stdout",
     "output_type": "stream",
     "text": [
      "There is no blood pressure data available during the extubated period.\n"
     ]
    },
    {
     "name": "stderr",
     "output_type": "stream",
     "text": [
      "single positional indexer is out-of-bounds\n",
      "'NoneType' object is not subscriptable\n",
      "'NoneType' object has no attribute 'copy'\n",
      "'NoneType' object is not subscriptable\n"
     ]
    },
    {
     "name": "stdout",
     "output_type": "stream",
     "text": [
      "There is no blood pressure data available during the extubated period.\n"
     ]
    },
    {
     "name": "stderr",
     "output_type": "stream",
     "text": [
      "Extubated period is too short to carry out analysis.\n",
      "list index out of range\n",
      "Extubated period is too short to carry out analysis.\n",
      "Extubated period is too short to carry out analysis.\n",
      "'NoneType' object has no attribute 'copy'\n",
      "'NoneType' object is not subscriptable\n",
      "Time cut off is too large\n",
      "list index out of range\n"
     ]
    },
    {
     "name": "stdout",
     "output_type": "stream",
     "text": [
      "There is no blood pressure data available during the extubated period.\n"
     ]
    },
    {
     "name": "stderr",
     "output_type": "stream",
     "text": [
      "single positional indexer is out-of-bounds\n",
      "'NoneType' object is not subscriptable\n",
      "list index out of range\n",
      "Extubated period is too short to carry out analysis.\n",
      "Extubated period is too short to carry out analysis.\n",
      "list index out of range\n",
      "'NoneType' object has no attribute 'copy'\n",
      "'NoneType' object is not subscriptable\n",
      "Extubated period is too short to carry out analysis.\n",
      "'NoneType' object has no attribute 'copy'\n",
      "'NoneType' object is not subscriptable\n"
     ]
    },
    {
     "name": "stdout",
     "output_type": "stream",
     "text": [
      "There is no blood pressure data available during the extubated period.\n",
      "There is no blood pressure data available during the extubated period.\n"
     ]
    },
    {
     "name": "stderr",
     "output_type": "stream",
     "text": [
      "list index out of range\n",
      "list index out of range\n",
      "single positional indexer is out-of-bounds\n",
      "'NoneType' object is not subscriptable\n",
      "'NoneType' object has no attribute 'copy'\n",
      "'NoneType' object is not subscriptable\n"
     ]
    },
    {
     "name": "stdout",
     "output_type": "stream",
     "text": [
      "There is no blood pressure data available during the extubated period.\n"
     ]
    },
    {
     "name": "stderr",
     "output_type": "stream",
     "text": [
      "Extubated period is too short to carry out analysis.\n",
      "single positional indexer is out-of-bounds\n",
      "'NoneType' object is not subscriptable\n",
      "'NoneType' object has no attribute 'copy'\n",
      "'NoneType' object is not subscriptable\n",
      "list index out of range\n"
     ]
    },
    {
     "name": "stdout",
     "output_type": "stream",
     "text": [
      "There is no blood pressure data available during the extubated period.\n"
     ]
    },
    {
     "name": "stderr",
     "output_type": "stream",
     "text": [
      "'NoneType' object has no attribute 'copy'\n",
      "'NoneType' object is not subscriptable\n"
     ]
    },
    {
     "name": "stdout",
     "output_type": "stream",
     "text": [
      "There is no blood pressure data available during the extubated period.\n"
     ]
    },
    {
     "name": "stderr",
     "output_type": "stream",
     "text": [
      "Extubated period is too short to carry out analysis.\n",
      "Time cut off is too large\n",
      "list index out of range\n",
      "'NoneType' object has no attribute 'copy'\n",
      "'NoneType' object is not subscriptable\n",
      "'NoneType' object has no attribute 'copy'\n",
      "'NoneType' object is not subscriptable\n"
     ]
    },
    {
     "name": "stdout",
     "output_type": "stream",
     "text": [
      "There is no blood pressure data available during the extubated period.\n",
      "There is no blood pressure data available during the extubated period.\n"
     ]
    }
   ],
   "source": [
    "abf_averages_c3 = cohort3.averages(cut_off=15, measure='abf')\n",
    "abf_averages_c3.to_csv(\"averages_data/abf_averages_c3.csv\")"
   ]
  },
  {
   "cell_type": "code",
   "execution_count": null,
   "metadata": {},
   "outputs": [],
   "source": []
  }
 ],
 "metadata": {
  "kernelspec": {
   "display_name": "Python 3.8.12 ('base')",
   "language": "python",
   "name": "python3"
  },
  "language_info": {
   "codemirror_mode": {
    "name": "ipython",
    "version": 3
   },
   "file_extension": ".py",
   "mimetype": "text/x-python",
   "name": "python",
   "nbconvert_exporter": "python",
   "pygments_lexer": "ipython3",
   "version": "3.8.12"
  },
  "orig_nbformat": 4,
  "vscode": {
   "interpreter": {
    "hash": "908e60022c9d4979c292b8b79e14df3460174af298c7d4fb047b137ea57e6458"
   }
  }
 },
 "nbformat": 4,
 "nbformat_minor": 2
}
