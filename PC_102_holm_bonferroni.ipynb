{
 "cells": [
  {
   "cell_type": "code",
   "execution_count": 24,
   "metadata": {},
   "outputs": [],
   "source": [
    "import numpy as np"
   ]
  },
  {
   "cell_type": "code",
   "execution_count": 25,
   "metadata": {},
   "outputs": [],
   "source": [
    "test_stats = [6.66134E-16,0.068407092,3.01251E-06,1.10887E-05,0.023801694,2.29773E-05,1.86621E-06,0.023506918,0.000372745,0.000214814,0.028063167,0.001041166,0.001677034,0.000863524,2.27335E-05,0.00295166,0.000171088,5.39666E-05,0.004679568,9.3409E-05,1.23386E-05,0.002878919,2.997E-05,6.40641E-06,0.38819212,0.000146459,0.017346627,0.116260216,0.000672942,0.022835032,0.065002996,0.000215779,0.005141527,0.061503741,8.18526E-05,0.000953559]"
   ]
  },
  {
   "cell_type": "code",
   "execution_count": 26,
   "metadata": {},
   "outputs": [
    {
     "data": {
      "text/plain": [
       "36"
      ]
     },
     "execution_count": 26,
     "metadata": {},
     "output_type": "execute_result"
    }
   ],
   "source": [
    "len(test_stats)"
   ]
  },
  {
   "cell_type": "code",
   "execution_count": 27,
   "metadata": {},
   "outputs": [
    {
     "data": {
      "text/plain": [
       "[0.004679568,\n",
       " 0.005141527,\n",
       " 0.017346627,\n",
       " 0.022835032,\n",
       " 0.023506918,\n",
       " 0.023801694,\n",
       " 0.028063167,\n",
       " 0.061503741,\n",
       " 0.065002996,\n",
       " 0.068407092,\n",
       " 0.116260216,\n",
       " 0.38819212]"
      ]
     },
     "execution_count": 27,
     "metadata": {},
     "output_type": "execute_result"
    }
   ],
   "source": [
    "test_stats.sort()\n",
    "test_stats[-12:]"
   ]
  },
  {
   "cell_type": "code",
   "execution_count": 28,
   "metadata": {},
   "outputs": [
    {
     "data": {
      "text/plain": [
       "[0.001388888888888889,\n",
       " 0.0014285714285714286,\n",
       " 0.0014705882352941176,\n",
       " 0.0015151515151515152,\n",
       " 0.0015625,\n",
       " 0.0016129032258064516,\n",
       " 0.0016666666666666668,\n",
       " 0.001724137931034483,\n",
       " 0.0017857142857142859,\n",
       " 0.001851851851851852,\n",
       " 0.0019230769230769232,\n",
       " 0.002,\n",
       " 0.0020833333333333333,\n",
       " 0.002173913043478261,\n",
       " 0.002272727272727273,\n",
       " 0.002380952380952381,\n",
       " 0.0025,\n",
       " 0.002631578947368421,\n",
       " 0.002777777777777778,\n",
       " 0.0029411764705882353,\n",
       " 0.003125,\n",
       " 0.0033333333333333335,\n",
       " 0.0035714285714285718,\n",
       " 0.0038461538461538464,\n",
       " 0.004166666666666667,\n",
       " 0.004545454545454546,\n",
       " 0.005,\n",
       " 0.005555555555555556,\n",
       " 0.00625,\n",
       " 0.0071428571428571435,\n",
       " 0.008333333333333333,\n",
       " 0.01,\n",
       " 0.0125,\n",
       " 0.016666666666666666,\n",
       " 0.025,\n",
       " 0.05]"
      ]
     },
     "execution_count": 28,
     "metadata": {},
     "output_type": "execute_result"
    }
   ],
   "source": [
    "hb = [0.05/(36-rank+1) for rank in range(1,len(test_stats)+1)]\n",
    "hb\n"
   ]
  },
  {
   "cell_type": "code",
   "execution_count": 29,
   "metadata": {},
   "outputs": [
    {
     "name": "stdout",
     "output_type": "stream",
     "text": [
      "Test 24 failed\n",
      "Test 25 failed\n",
      "Test 26 failed\n",
      "Test 27 failed\n",
      "Test 28 failed\n",
      "Test 29 failed\n",
      "Test 30 failed\n",
      "Test 31 failed\n",
      "Test 32 failed\n",
      "Test 33 failed\n",
      "Test 34 failed\n",
      "Test 35 failed\n"
     ]
    }
   ],
   "source": [
    "for i, p, alpha in zip(range(36), test_stats, hb):\n",
    "\n",
    "    if p < alpha:\n",
    "        # print(f\"Test {i} passed\")\n",
    "        pass\n",
    "    else:\n",
    "        print(f\"Test {i} failed\")\n"
   ]
  },
  {
   "cell_type": "code",
   "execution_count": 7,
   "metadata": {},
   "outputs": [],
   "source": [
    "def holm_bonferroni(test_stats):\n",
    "\n",
    "    n = len(test_stats)\n",
    "    test_stats.sort()\n",
    "    alphas = [0.05/(n-rank+1) for rank in range(1,n+1)]\n",
    "\n",
    "    for i, p, alpha in zip(range(1, n+1), test_stats, alphas):\n",
    "        if p < alpha:\n",
    "            print(f\"Test {i} passed\")\n",
    "            pass\n",
    "        else:\n",
    "            print(f\"Test {i} failed\")\n",
    "\n",
    "    "
   ]
  },
  {
   "cell_type": "code",
   "execution_count": 8,
   "metadata": {},
   "outputs": [],
   "source": [
    "p_60 = [0.023801693774995414, 2.297732796563423e-05, 0.000171088309444567, 5.3966572763686216e-05, 0.0006729417825439565, 0.02283503165407419]\n",
    "p_75 = [0.0250323996440609, 0.0001917243068818575, 0.000131482266782168, 2.2178489209379038e-05, 0.010716004051355199, 0.0004505328443056289]"
   ]
  },
  {
   "cell_type": "code",
   "execution_count": 9,
   "metadata": {},
   "outputs": [
    {
     "name": "stdout",
     "output_type": "stream",
     "text": [
      "Test 1 passed\n",
      "Test 2 passed\n",
      "Test 3 passed\n",
      "Test 4 passed\n",
      "Test 5 passed\n",
      "Test 6 passed\n"
     ]
    }
   ],
   "source": [
    "holm_bonferroni(p_60)"
   ]
  },
  {
   "cell_type": "code",
   "execution_count": 10,
   "metadata": {},
   "outputs": [
    {
     "name": "stdout",
     "output_type": "stream",
     "text": [
      "Test 1 passed\n",
      "Test 2 passed\n",
      "Test 3 passed\n",
      "Test 4 passed\n",
      "Test 5 passed\n",
      "Test 6 passed\n"
     ]
    }
   ],
   "source": [
    "holm_bonferroni(p_75)"
   ]
  },
  {
   "cell_type": "code",
   "execution_count": 11,
   "metadata": {},
   "outputs": [],
   "source": [
    "p_90 = [1.2338622666030474e-05, 9.34089960262785e-05, 0.00021577939757100317, 0.005141527460190254, 0.0003727445493368897, 0.02350691781045744]"
   ]
  },
  {
   "cell_type": "code",
   "execution_count": 12,
   "metadata": {},
   "outputs": [
    {
     "name": "stdout",
     "output_type": "stream",
     "text": [
      "Test 1 passed\n",
      "Test 2 passed\n",
      "Test 3 passed\n",
      "Test 4 passed\n",
      "Test 5 passed\n",
      "Test 6 passed\n"
     ]
    }
   ],
   "source": [
    "holm_bonferroni(p_90)"
   ]
  },
  {
   "cell_type": "code",
   "execution_count": 13,
   "metadata": {},
   "outputs": [
    {
     "name": "stdout",
     "output_type": "stream",
     "text": [
      "Test 1 passed\n",
      "Test 2 passed\n",
      "Test 3 passed\n",
      "Test 4 passed\n",
      "Test 5 passed\n",
      "Test 6 failed\n"
     ]
    }
   ],
   "source": [
    "holm_bonferroni([0.000000009, 0.000000009, 0.000000009, 0.00009, 0.09, 0.0009])"
   ]
  },
  {
   "cell_type": "code",
   "execution_count": 14,
   "metadata": {},
   "outputs": [],
   "source": [
    "p_45 = [0.00036030712285817224, 7.263551533753798e-05, 0.014891902638066279, 0.0003547971200894562, 0.02948175518020202, 6.268539806120188e-06]"
   ]
  },
  {
   "cell_type": "code",
   "execution_count": 15,
   "metadata": {},
   "outputs": [
    {
     "name": "stdout",
     "output_type": "stream",
     "text": [
      "Test 1 passed\n",
      "Test 2 passed\n",
      "Test 3 passed\n",
      "Test 4 passed\n",
      "Test 5 passed\n",
      "Test 6 passed\n"
     ]
    }
   ],
   "source": [
    "holm_bonferroni(p_45)"
   ]
  },
  {
   "cell_type": "code",
   "execution_count": 16,
   "metadata": {},
   "outputs": [],
   "source": [
    "p_30 = [3.012511750499769e-06, 0.0684070917688353, 0.00014645944663738142, 0.017346626892309258, 2.2733510014250058e-05, 0.0008635235547709286]"
   ]
  },
  {
   "cell_type": "code",
   "execution_count": 22,
   "metadata": {},
   "outputs": [
    {
     "name": "stdout",
     "output_type": "stream",
     "text": [
      "Test 1 passed\n",
      "Test 2 passed\n",
      "Test 3 passed\n",
      "Test 4 passed\n",
      "Test 5 passed\n",
      "Test 6 failed\n"
     ]
    }
   ],
   "source": [
    "holm_bonferroni(p_30)"
   ]
  },
  {
   "cell_type": "code",
   "execution_count": 18,
   "metadata": {},
   "outputs": [],
   "source": [
    "p_120 = [2.9969999947532244e-05, 6.406410802295426e-06, 0.028063167007476242, 0.0010411659590177091, 0.0009535594184837404, 8.185258660842187e-05]"
   ]
  },
  {
   "cell_type": "code",
   "execution_count": 19,
   "metadata": {},
   "outputs": [
    {
     "name": "stdout",
     "output_type": "stream",
     "text": [
      "Test 1 passed\n",
      "Test 2 passed\n",
      "Test 3 passed\n",
      "Test 4 passed\n",
      "Test 5 passed\n",
      "Test 6 passed\n"
     ]
    }
   ],
   "source": [
    "holm_bonferroni(p_120)"
   ]
  },
  {
   "cell_type": "code",
   "execution_count": 20,
   "metadata": {},
   "outputs": [],
   "source": [
    "p_150 = [1.879999164344781e-06, 1.8621408821362095e-05, 5.806325088064668e-06, 0.0003430748987653942, 0.003427335748126037, 0.031070963005020102]"
   ]
  },
  {
   "cell_type": "code",
   "execution_count": 21,
   "metadata": {},
   "outputs": [
    {
     "name": "stdout",
     "output_type": "stream",
     "text": [
      "Test 1 passed\n",
      "Test 2 passed\n",
      "Test 3 passed\n",
      "Test 4 passed\n",
      "Test 5 passed\n",
      "Test 6 passed\n"
     ]
    }
   ],
   "source": [
    "holm_bonferroni(p_150)"
   ]
  },
  {
   "cell_type": "code",
   "execution_count": null,
   "metadata": {},
   "outputs": [],
   "source": []
  }
 ],
 "metadata": {
  "kernelspec": {
   "display_name": "Python 3.8.12 ('base')",
   "language": "python",
   "name": "python3"
  },
  "language_info": {
   "codemirror_mode": {
    "name": "ipython",
    "version": 3
   },
   "file_extension": ".py",
   "mimetype": "text/x-python",
   "name": "python",
   "nbconvert_exporter": "python",
   "pygments_lexer": "ipython3",
   "version": "3.8.12"
  },
  "orig_nbformat": 4,
  "vscode": {
   "interpreter": {
    "hash": "908e60022c9d4979c292b8b79e14df3460174af298c7d4fb047b137ea57e6458"
   }
  }
 },
 "nbformat": 4,
 "nbformat_minor": 2
}
