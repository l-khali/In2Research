{
 "cells": [
  {
   "cell_type": "code",
   "execution_count": 10,
   "metadata": {},
   "outputs": [],
   "source": [
    "import numpy as np"
   ]
  },
  {
   "cell_type": "code",
   "execution_count": 1,
   "metadata": {},
   "outputs": [],
   "source": [
    "test_stats = [6.66134E-16,0.068407092,3.01251E-06,1.10887E-05,0.023801694,2.29773E-05,1.86621E-06,0.023506918,0.000372745,0.000214814,0.028063167,0.001041166,0.001677034,0.000863524,2.27335E-05,0.00295166,0.000171088,5.39666E-05,0.004679568,9.3409E-05,1.23386E-05,0.002878919,2.997E-05,6.40641E-06,0.38819212,0.000146459,0.017346627,0.116260216,0.000672942,0.022835032,0.065002996,0.000215779,0.005141527,0.061503741,8.18526E-05,0.000953559]"
   ]
  },
  {
   "cell_type": "code",
   "execution_count": 3,
   "metadata": {},
   "outputs": [
    {
     "data": {
      "text/plain": [
       "36"
      ]
     },
     "execution_count": 3,
     "metadata": {},
     "output_type": "execute_result"
    }
   ],
   "source": [
    "len(test_stats)"
   ]
  },
  {
   "cell_type": "code",
   "execution_count": 21,
   "metadata": {},
   "outputs": [
    {
     "data": {
      "text/plain": [
       "[0.004679568,\n",
       " 0.005141527,\n",
       " 0.017346627,\n",
       " 0.022835032,\n",
       " 0.023506918,\n",
       " 0.023801694,\n",
       " 0.028063167,\n",
       " 0.061503741,\n",
       " 0.065002996,\n",
       " 0.068407092,\n",
       " 0.116260216,\n",
       " 0.38819212]"
      ]
     },
     "execution_count": 21,
     "metadata": {},
     "output_type": "execute_result"
    }
   ],
   "source": [
    "test_stats.sort()\n",
    "test_stats[-12:]"
   ]
  },
  {
   "cell_type": "code",
   "execution_count": 8,
   "metadata": {},
   "outputs": [
    {
     "data": {
      "text/plain": [
       "[0.001388888888888889,\n",
       " 0.0014285714285714286,\n",
       " 0.0014705882352941176,\n",
       " 0.0015151515151515152,\n",
       " 0.0015625,\n",
       " 0.0016129032258064516,\n",
       " 0.0016666666666666668,\n",
       " 0.001724137931034483,\n",
       " 0.0017857142857142859,\n",
       " 0.001851851851851852,\n",
       " 0.0019230769230769232,\n",
       " 0.002,\n",
       " 0.0020833333333333333,\n",
       " 0.002173913043478261,\n",
       " 0.002272727272727273,\n",
       " 0.002380952380952381,\n",
       " 0.0025,\n",
       " 0.002631578947368421,\n",
       " 0.002777777777777778,\n",
       " 0.0029411764705882353,\n",
       " 0.003125,\n",
       " 0.0033333333333333335,\n",
       " 0.0035714285714285718,\n",
       " 0.0038461538461538464,\n",
       " 0.004166666666666667,\n",
       " 0.004545454545454546,\n",
       " 0.005,\n",
       " 0.005555555555555556,\n",
       " 0.00625,\n",
       " 0.0071428571428571435,\n",
       " 0.008333333333333333,\n",
       " 0.01,\n",
       " 0.0125,\n",
       " 0.016666666666666666,\n",
       " 0.025,\n",
       " 0.05]"
      ]
     },
     "execution_count": 8,
     "metadata": {},
     "output_type": "execute_result"
    }
   ],
   "source": [
    "hb = [0.05/(36-rank+1) for rank in range(1,len(test_stats)+1)]\n",
    "hb\n"
   ]
  },
  {
   "cell_type": "code",
   "execution_count": 18,
   "metadata": {},
   "outputs": [
    {
     "name": "stdout",
     "output_type": "stream",
     "text": [
      "Test 24 failed\n",
      "Test 25 failed\n",
      "Test 26 failed\n",
      "Test 27 failed\n",
      "Test 28 failed\n",
      "Test 29 failed\n",
      "Test 30 failed\n",
      "Test 31 failed\n",
      "Test 32 failed\n",
      "Test 33 failed\n",
      "Test 34 failed\n",
      "Test 35 failed\n"
     ]
    }
   ],
   "source": [
    "for i, p, alpha in zip(range(36), test_stats, hb):\n",
    "\n",
    "    if p < alpha:\n",
    "        # print(f\"Test {i} passed\")\n",
    "        pass\n",
    "    else:\n",
    "        print(f\"Test {i} failed\")\n"
   ]
  },
  {
   "cell_type": "code",
   "execution_count": null,
   "metadata": {},
   "outputs": [],
   "source": []
  }
 ],
 "metadata": {
  "kernelspec": {
   "display_name": "Python 3.8.12 ('base')",
   "language": "python",
   "name": "python3"
  },
  "language_info": {
   "codemirror_mode": {
    "name": "ipython",
    "version": 3
   },
   "file_extension": ".py",
   "mimetype": "text/x-python",
   "name": "python",
   "nbconvert_exporter": "python",
   "pygments_lexer": "ipython3",
   "version": "3.8.12"
  },
  "orig_nbformat": 4,
  "vscode": {
   "interpreter": {
    "hash": "908e60022c9d4979c292b8b79e14df3460174af298c7d4fb047b137ea57e6458"
   }
  }
 },
 "nbformat": 4,
 "nbformat_minor": 2
}
