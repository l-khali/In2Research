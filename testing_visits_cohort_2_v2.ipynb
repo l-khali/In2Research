{
 "cells": [
  {
   "cell_type": "code",
   "execution_count": 2,
   "metadata": {},
   "outputs": [],
   "source": [
    "import numpy as np\n",
    "import pandas as pd\n",
    "from visits import Visit, Cohort, MissingDataError\n",
    "import glob\n",
    "import pymannkendall as mk\n",
    "from datetime import datetime, timedelta"
   ]
  },
  {
   "cell_type": "code",
   "execution_count": 3,
   "metadata": {},
   "outputs": [],
   "source": [
    "cohort_1_details = pd.read_csv(\"cohort_1_details_v5.csv\", sep=',')\n",
    "cohort_2_details = pd.read_csv(\"cohort_2_details_v5.csv\", sep=',')\n",
    "cohort_3_details = pd.read_csv(\"cohort_3_details_v5.csv\", sep=',')\n",
    "cohort_4_details = pd.read_csv(\"cohort_4_details_v5.csv\", sep=',')"
   ]
  },
  {
   "cell_type": "code",
   "execution_count": 4,
   "metadata": {},
   "outputs": [],
   "source": [
    "path = \"../In2Research_data/data/\"\n",
    "\n",
    "all_files = glob.glob(path + \"/*\")\n",
    "\n",
    "cohort_dict = {1: [], 2: [], 3: [], 4: [],}\n",
    "\n",
    "for letter1 in all_files:\n",
    "    for letter2 in glob.glob(letter1 + \"/*\"):\n",
    "        for id in glob.glob(letter2 + \"/*\"):\n",
    "            if any(\"_1_\" in file for file in glob.glob(id + \"/*\")):\n",
    "                visit = Visit(id, 1, cohort_1_details, cohort_2_details, cohort_3_details, cohort_4_details)\n",
    "                if visit.cohort:\n",
    "                    cohort_dict[visit.cohort].append(visit)\n",
    "\n",
    "for letter1 in all_files:\n",
    "    for letter2 in glob.glob(letter1 + \"/*\"):\n",
    "        for id in glob.glob(letter2 + \"/*\"):\n",
    "            if any(\"_2_\" in file for file in glob.glob(id + \"/*\")):\n",
    "                visit = Visit(id, 2, cohort_1_details, cohort_2_details, cohort_3_details, cohort_4_details)\n",
    "                if visit.cohort:\n",
    "                    cohort_dict[visit.cohort].append(visit)\n",
    "\n",
    "for letter1 in all_files:\n",
    "    for letter2 in glob.glob(letter1 + \"/*\"):\n",
    "        for id in glob.glob(letter2 + \"/*\"):\n",
    "            if any(\"_3_\" in file for file in glob.glob(id + \"/*\")):\n",
    "                visit = Visit(id, 3, cohort_1_details, cohort_2_details, cohort_3_details, cohort_4_details)\n",
    "                if visit.cohort:\n",
    "                    cohort_dict[visit.cohort].append(visit)\n",
    "\n",
    "for letter1 in all_files:\n",
    "    for letter2 in glob.glob(letter1 + \"/*\"):\n",
    "        for id in glob.glob(letter2 + \"/*\"):\n",
    "            if any(\"_4_\" in file for file in glob.glob(id + \"/*\")):\n",
    "                visit = Visit(id, 4, cohort_1_details, cohort_2_details, cohort_3_details, cohort_4_details)\n",
    "                if visit.cohort:\n",
    "                    cohort_dict[visit.cohort].append(visit)\n",
    "\n",
    "for letter1 in all_files:\n",
    "    for letter2 in glob.glob(letter1 + \"/*\"):\n",
    "        for id in glob.glob(letter2 + \"/*\"):\n",
    "            if any(\"_5_\" in file for file in glob.glob(id + \"/*\")):\n",
    "                visit = Visit(id, 5, cohort_1_details, cohort_2_details, cohort_3_details, cohort_4_details)\n",
    "                if visit.cohort:\n",
    "                    cohort_dict[visit.cohort].append(visit)"
   ]
  },
  {
   "cell_type": "code",
   "execution_count": 5,
   "metadata": {},
   "outputs": [],
   "source": [
    "cohort1 = Cohort(cohort_dict[1], 1)\n",
    "cohort2 = Cohort(cohort_dict[2][1:100], 2)\n",
    "cohort2_whole = Cohort(cohort_dict[2], 2)"
   ]
  },
  {
   "cell_type": "code",
   "execution_count": 6,
   "metadata": {},
   "outputs": [
    {
     "name": "stderr",
     "output_type": "stream",
     "text": [
      "RG0055 visit 1 failed: 'NoneType' object has no attribute 'copy'\n"
     ]
    },
    {
     "name": "stdout",
     "output_type": "stream",
     "text": [
      "There is no respiration rate data available during the extubated period.\n"
     ]
    },
    {
     "name": "stderr",
     "output_type": "stream",
     "text": [
      "RV0956 visit 1 failed: 'NoneType' object has no attribute 'copy'\n"
     ]
    },
    {
     "name": "stdout",
     "output_type": "stream",
     "text": [
      "There is no respiration rate data available during the extubated period.\n"
     ]
    },
    {
     "name": "stderr",
     "output_type": "stream",
     "text": [
      "RV1336 visit 1 failed: 'NoneType' object has no attribute 'copy'\n",
      "RX3317 visit 1 failed: 'NoneType' object has no attribute 'copy'\n"
     ]
    },
    {
     "name": "stdout",
     "output_type": "stream",
     "text": [
      "There is no respiration rate data available during the extubated period.\n",
      "There is no respiration rate data available during the extubated period.\n"
     ]
    },
    {
     "name": "stderr",
     "output_type": "stream",
     "text": [
      "/Users/lucindakhalil/opt/anaconda3/lib/python3.8/site-packages/pymannkendall/pymannkendall.py:60: RuntimeWarning: invalid value encountered in true_divide\n",
      "  return acov[:nlags+1]/acov[0]\n",
      "US1342 visit 1 failed: 'NoneType' object has no attribute 'copy'\n"
     ]
    },
    {
     "name": "stdout",
     "output_type": "stream",
     "text": [
      "There is no respiration rate data available during the extubated period.\n"
     ]
    },
    {
     "name": "stderr",
     "output_type": "stream",
     "text": [
      "UA0348 visit 1 failed: float division by zero\n",
      "UO1311 visit 1 failed: float division by zero\n",
      "UM0837 visit 1 failed: float division by zero\n",
      "UJ1376 visit 1 failed: float division by zero\n"
     ]
    },
    {
     "data": {
      "text/plain": [
       "(         trend   p-value       tau\n",
       " 0     no trend  0.710977 -0.066228\n",
       " 1     no trend  0.330429  0.094329\n",
       " 2     no trend  0.199276 -0.264663\n",
       " 3   increasing  0.000590  0.561598\n",
       " 4   increasing  0.001658  0.571988\n",
       " ..         ...       ...       ...\n",
       " 85    no trend  0.070683 -0.284456\n",
       " 86  increasing  0.000679  0.397292\n",
       " 87  decreasing  0.044415 -0.395304\n",
       " 88  decreasing  0.011237 -0.502053\n",
       " 89    no trend  0.087977  0.370528\n",
       " \n",
       " [90 rows x 3 columns],\n",
       " 'Missing data/errors: 9')"
      ]
     },
     "execution_count": 6,
     "metadata": {},
     "output_type": "execute_result"
    }
   ],
   "source": [
    "cohort2.var_results(rr = True)"
   ]
  },
  {
   "cell_type": "code",
   "execution_count": 1,
   "metadata": {},
   "outputs": [
    {
     "ename": "NameError",
     "evalue": "name 'cohort2' is not defined",
     "output_type": "error",
     "traceback": [
      "\u001b[0;31m---------------------------------------------------------------------------\u001b[0m",
      "\u001b[0;31mNameError\u001b[0m                                 Traceback (most recent call last)",
      "\u001b[0;32m/var/folders/rg/6x4tlzs16c76vmthv_nxc63r0000gn/T/ipykernel_27592/2368317615.py\u001b[0m in \u001b[0;36m<module>\u001b[0;34m\u001b[0m\n\u001b[0;32m----> 1\u001b[0;31m \u001b[0mcohort2\u001b[0m\u001b[0;34m.\u001b[0m\u001b[0mmean_trend_count\u001b[0m\u001b[0;34m(\u001b[0m\u001b[0mrr\u001b[0m \u001b[0;34m=\u001b[0m \u001b[0;32mTrue\u001b[0m\u001b[0;34m)\u001b[0m\u001b[0;34m\u001b[0m\u001b[0;34m\u001b[0m\u001b[0m\n\u001b[0m",
      "\u001b[0;31mNameError\u001b[0m: name 'cohort2' is not defined"
     ]
    }
   ],
   "source": [
    "cohort2.mean_trend_count(rr = True)"
   ]
  },
  {
   "cell_type": "code",
   "execution_count": 8,
   "metadata": {},
   "outputs": [
    {
     "name": "stderr",
     "output_type": "stream",
     "text": [
      "RU2915 visit 1 failed: list index out of range\n"
     ]
    },
    {
     "name": "stdout",
     "output_type": "stream",
     "text": [
      "(0, 0, 0, 1)\n"
     ]
    },
    {
     "name": "stderr",
     "output_type": "stream",
     "text": [
      "RI0135 visit 1 failed: 'NoneType' object is not subscriptable\n"
     ]
    },
    {
     "name": "stdout",
     "output_type": "stream",
     "text": [
      "There is no blood pressure data available during the extubated period.\n",
      "(1, 1, 0, 2)\n"
     ]
    },
    {
     "name": "stderr",
     "output_type": "stream",
     "text": [
      "RZ2127 visit 1 failed: 'NoneType' object is not subscriptable\n",
      "RZ3315 visit 1 failed: 'NoneType' object is not subscriptable\n"
     ]
    },
    {
     "name": "stdout",
     "output_type": "stream",
     "text": [
      "There is no blood pressure data available during the extubated period.\n",
      "(3, 2, 3, 3)\n",
      "There is no blood pressure data available during the extubated period.\n",
      "(3, 2, 3, 4)\n"
     ]
    },
    {
     "name": "stderr",
     "output_type": "stream",
     "text": [
      "RT0368 visit 1 failed: 'NoneType' object is not subscriptable\n"
     ]
    },
    {
     "name": "stdout",
     "output_type": "stream",
     "text": [
      "There is no blood pressure data available during the extubated period.\n",
      "(3, 2, 4, 5)\n"
     ]
    },
    {
     "name": "stderr",
     "output_type": "stream",
     "text": [
      "RT0309 visit 1 failed: list index out of range\n"
     ]
    },
    {
     "name": "stdout",
     "output_type": "stream",
     "text": [
      "(3, 2, 5, 6)\n"
     ]
    },
    {
     "name": "stderr",
     "output_type": "stream",
     "text": [
      "RJ4031 visit 1 failed: list index out of range\n"
     ]
    },
    {
     "name": "stdout",
     "output_type": "stream",
     "text": [
      "(5, 7, 7, 7)\n"
     ]
    },
    {
     "name": "stderr",
     "output_type": "stream",
     "text": [
      "RC1943 visit 1 failed: float division by zero\n"
     ]
    },
    {
     "name": "stdout",
     "output_type": "stream",
     "text": [
      "(6, 7, 8, 8)\n"
     ]
    },
    {
     "name": "stderr",
     "output_type": "stream",
     "text": [
      "RX3317 visit 1 failed: 'NoneType' object is not subscriptable\n"
     ]
    },
    {
     "name": "stdout",
     "output_type": "stream",
     "text": [
      "There is no blood pressure data available during the extubated period.\n",
      "(8, 13, 9, 9)\n"
     ]
    },
    {
     "name": "stderr",
     "output_type": "stream",
     "text": [
      "RE1948 visit 1 failed: 'NoneType' object is not subscriptable\n",
      "RB0988 visit 1 failed: 'NoneType' object is not subscriptable\n"
     ]
    },
    {
     "name": "stdout",
     "output_type": "stream",
     "text": [
      "There is no blood pressure data available during the extubated period.\n",
      "(9, 16, 10, 10)\n",
      "There is no blood pressure data available during the extubated period.\n",
      "(9, 16, 10, 11)\n"
     ]
    },
    {
     "name": "stderr",
     "output_type": "stream",
     "text": [
      "RK2029 visit 1 failed: 'NoneType' object is not subscriptable\n"
     ]
    },
    {
     "name": "stdout",
     "output_type": "stream",
     "text": [
      "There is no blood pressure data available during the extubated period.\n",
      "(9, 16, 10, 12)\n"
     ]
    },
    {
     "name": "stderr",
     "output_type": "stream",
     "text": [
      "RL2037 visit 1 failed: 'NoneType' object is not subscriptable\n"
     ]
    },
    {
     "name": "stdout",
     "output_type": "stream",
     "text": [
      "There is no blood pressure data available during the extubated period.\n",
      "(11, 16, 12, 13)\n"
     ]
    },
    {
     "name": "stderr",
     "output_type": "stream",
     "text": [
      "RW2084 visit 1 failed: 'NoneType' object is not subscriptable\n",
      "RW3992 visit 1 failed: 'NoneType' object is not subscriptable\n",
      "RW2284 visit 1 failed: list index out of range\n"
     ]
    },
    {
     "name": "stdout",
     "output_type": "stream",
     "text": [
      "There is no blood pressure data available during the extubated period.\n",
      "(11, 16, 14, 14)\n",
      "There is no blood pressure data available during the extubated period.\n",
      "(11, 16, 14, 15)\n",
      "(11, 16, 14, 16)\n"
     ]
    },
    {
     "name": "stderr",
     "output_type": "stream",
     "text": [
      "UN3498 visit 1 failed: 'NoneType' object is not subscriptable\n"
     ]
    },
    {
     "name": "stdout",
     "output_type": "stream",
     "text": [
      "There is no blood pressure data available during the extubated period.\n",
      "(14, 21, 16, 17)\n"
     ]
    },
    {
     "name": "stderr",
     "output_type": "stream",
     "text": [
      "US1342 visit 1 failed: list index out of range\n"
     ]
    },
    {
     "name": "stdout",
     "output_type": "stream",
     "text": [
      "(16, 21, 17, 18)\n"
     ]
    },
    {
     "name": "stderr",
     "output_type": "stream",
     "text": [
      "US3515 visit 1 failed: list index out of range\n"
     ]
    },
    {
     "name": "stdout",
     "output_type": "stream",
     "text": [
      "(16, 23, 17, 19)\n"
     ]
    },
    {
     "name": "stderr",
     "output_type": "stream",
     "text": [
      "UA3527 visit 1 failed: 'NoneType' object is not subscriptable\n"
     ]
    },
    {
     "name": "stdout",
     "output_type": "stream",
     "text": [
      "There is no blood pressure data available during the extubated period.\n",
      "(16, 24, 17, 20)\n"
     ]
    },
    {
     "name": "stderr",
     "output_type": "stream",
     "text": [
      "UM0643 visit 1 failed: 'NoneType' object is not subscriptable\n"
     ]
    },
    {
     "name": "stdout",
     "output_type": "stream",
     "text": [
      "There is no blood pressure data available during the extubated period.\n",
      "(21, 29, 20, 21)\n"
     ]
    },
    {
     "name": "stderr",
     "output_type": "stream",
     "text": [
      "UM3280 visit 1 failed: list index out of range\n"
     ]
    },
    {
     "name": "stdout",
     "output_type": "stream",
     "text": [
      "(22, 29, 20, 22)\n"
     ]
    },
    {
     "name": "stderr",
     "output_type": "stream",
     "text": [
      "UM3008 visit 1 failed: 'NoneType' object is not subscriptable\n",
      "UM3452 visit 1 failed: list index out of range\n"
     ]
    },
    {
     "name": "stdout",
     "output_type": "stream",
     "text": [
      "There is no blood pressure data available during the extubated period.\n",
      "(22, 29, 21, 23)\n",
      "(22, 29, 21, 24)\n"
     ]
    },
    {
     "name": "stderr",
     "output_type": "stream",
     "text": [
      "UJ3013 visit 1 failed: float division by zero\n"
     ]
    },
    {
     "name": "stdout",
     "output_type": "stream",
     "text": [
      "(23, 29, 21, 25)\n"
     ]
    },
    {
     "name": "stderr",
     "output_type": "stream",
     "text": [
      "UJ2119 visit 1 failed: 'NoneType' object is not subscriptable\n"
     ]
    },
    {
     "name": "stdout",
     "output_type": "stream",
     "text": [
      "There is no blood pressure data available during the extubated period.\n",
      "(23, 29, 21, 26)\n"
     ]
    },
    {
     "data": {
      "text/plain": [
       "(23, 29, 21, 26)"
      ]
     },
     "execution_count": 8,
     "metadata": {},
     "output_type": "execute_result"
    }
   ],
   "source": [
    "cohort2.mean_trend_count(abf = True)"
   ]
  },
  {
   "cell_type": "code",
   "execution_count": 7,
   "metadata": {},
   "outputs": [
    {
     "name": "stderr",
     "output_type": "stream",
     "text": [
      "/Users/lucindakhalil/opt/anaconda3/lib/python3.8/site-packages/pandas/core/indexing.py:1732: SettingWithCopyWarning: \n",
      "A value is trying to be set on a copy of a slice from a DataFrame\n",
      "\n",
      "See the caveats in the documentation: https://pandas.pydata.org/pandas-docs/stable/user_guide/indexing.html#returning-a-view-versus-a-copy\n",
      "  self._setitem_single_block(indexer, value, name)\n",
      "RG0055 visit 1 failed: 'NoneType' object is not subscriptable\n"
     ]
    },
    {
     "name": "stdout",
     "output_type": "stream",
     "text": [
      "There is no respiration rate data available during the extubated period.\n",
      "(3, 5, 0, 1)\n"
     ]
    },
    {
     "name": "stderr",
     "output_type": "stream",
     "text": [
      "RV0956 visit 1 failed: 'NoneType' object is not subscriptable\n"
     ]
    },
    {
     "name": "stdout",
     "output_type": "stream",
     "text": [
      "There is no respiration rate data available during the extubated period.\n",
      "(13, 15, 7, 2)\n"
     ]
    },
    {
     "name": "stderr",
     "output_type": "stream",
     "text": [
      "RV1336 visit 1 failed: 'NoneType' object is not subscriptable\n",
      "RX3317 visit 1 failed: 'NoneType' object is not subscriptable\n"
     ]
    },
    {
     "name": "stdout",
     "output_type": "stream",
     "text": [
      "There is no respiration rate data available during the extubated period.\n",
      "(13, 16, 7, 3)\n",
      "There is no respiration rate data available during the extubated period.\n",
      "(13, 16, 7, 4)\n"
     ]
    },
    {
     "name": "stderr",
     "output_type": "stream",
     "text": [
      "US1342 visit 1 failed: 'NoneType' object is not subscriptable\n"
     ]
    },
    {
     "name": "stdout",
     "output_type": "stream",
     "text": [
      "There is no respiration rate data available during the extubated period.\n",
      "(22, 33, 13, 5)\n"
     ]
    },
    {
     "name": "stderr",
     "output_type": "stream",
     "text": [
      "UA0348 visit 1 failed: float division by zero\n"
     ]
    },
    {
     "name": "stdout",
     "output_type": "stream",
     "text": [
      "(24, 35, 14, 6)\n"
     ]
    },
    {
     "name": "stderr",
     "output_type": "stream",
     "text": [
      "UO1311 visit 1 failed: float division by zero\n"
     ]
    },
    {
     "name": "stdout",
     "output_type": "stream",
     "text": [
      "(25, 38, 15, 7)\n"
     ]
    },
    {
     "name": "stderr",
     "output_type": "stream",
     "text": [
      "UM0837 visit 1 failed: float division by zero\n"
     ]
    },
    {
     "name": "stdout",
     "output_type": "stream",
     "text": [
      "(27, 41, 17, 8)\n"
     ]
    },
    {
     "name": "stderr",
     "output_type": "stream",
     "text": [
      "UJ1376 visit 1 failed: float division by zero\n"
     ]
    },
    {
     "name": "stdout",
     "output_type": "stream",
     "text": [
      "(27, 44, 18, 9)\n"
     ]
    },
    {
     "name": "stderr",
     "output_type": "stream",
     "text": [
      "UC1279 visit 1 failed: 'NoneType' object is not subscriptable\n"
     ]
    },
    {
     "name": "stdout",
     "output_type": "stream",
     "text": [
      "There is no respiration rate data available during the extubated period.\n",
      "(28, 44, 19, 10)\n"
     ]
    },
    {
     "name": "stderr",
     "output_type": "stream",
     "text": [
      "UV3178 visit 1 failed: float division by zero\n"
     ]
    },
    {
     "name": "stdout",
     "output_type": "stream",
     "text": [
      "(29, 45, 20, 11)\n"
     ]
    },
    {
     "name": "stderr",
     "output_type": "stream",
     "text": [
      "UB1609 visit 1 failed: 'NoneType' object is not subscriptable\n"
     ]
    },
    {
     "name": "stdout",
     "output_type": "stream",
     "text": [
      "There is no respiration rate data available during the extubated period.\n",
      "(33, 47, 22, 12)\n"
     ]
    },
    {
     "name": "stderr",
     "output_type": "stream",
     "text": [
      "UK1495 visit 1 failed: 'NoneType' object is not subscriptable\n"
     ]
    },
    {
     "name": "stdout",
     "output_type": "stream",
     "text": [
      "There is no respiration rate data available during the extubated period.\n",
      "(34, 47, 23, 13)\n"
     ]
    },
    {
     "name": "stderr",
     "output_type": "stream",
     "text": [
      "UL0232 visit 1 failed: 'NoneType' object is not subscriptable\n"
     ]
    },
    {
     "name": "stdout",
     "output_type": "stream",
     "text": [
      "There is no respiration rate data available during the extubated period.\n",
      "(35, 47, 23, 14)\n"
     ]
    },
    {
     "name": "stderr",
     "output_type": "stream",
     "text": [
      "UY1204 visit 1 failed: 'NoneType' object is not subscriptable\n"
     ]
    },
    {
     "name": "stdout",
     "output_type": "stream",
     "text": [
      "There is no respiration rate data available during the extubated period.\n",
      "(36, 47, 23, 15)\n"
     ]
    },
    {
     "name": "stderr",
     "output_type": "stream",
     "text": [
      "UP1314 visit 1 failed: 'NoneType' object is not subscriptable\n"
     ]
    },
    {
     "name": "stdout",
     "output_type": "stream",
     "text": [
      "There is no respiration rate data available during the extubated period.\n",
      "(39, 48, 24, 16)\n"
     ]
    },
    {
     "name": "stderr",
     "output_type": "stream",
     "text": [
      "IR0731 visit 1 failed: 'NoneType' object is not subscriptable\n"
     ]
    },
    {
     "name": "stdout",
     "output_type": "stream",
     "text": [
      "There is no respiration rate data available during the extubated period.\n",
      "(41, 48, 24, 17)\n"
     ]
    },
    {
     "name": "stderr",
     "output_type": "stream",
     "text": [
      "IT1073 visit 1 failed: 'NoneType' object is not subscriptable\n"
     ]
    },
    {
     "name": "stdout",
     "output_type": "stream",
     "text": [
      "There is no respiration rate data available during the extubated period.\n",
      "(42, 51, 25, 18)\n"
     ]
    },
    {
     "name": "stderr",
     "output_type": "stream",
     "text": [
      "IS1500 visit 1 failed: 'NoneType' object is not subscriptable\n"
     ]
    },
    {
     "name": "stdout",
     "output_type": "stream",
     "text": [
      "There is no respiration rate data available during the extubated period.\n",
      "(42, 53, 25, 19)\n"
     ]
    },
    {
     "name": "stderr",
     "output_type": "stream",
     "text": [
      "IF1048 visit 1 failed: 'NoneType' object is not subscriptable\n"
     ]
    },
    {
     "name": "stdout",
     "output_type": "stream",
     "text": [
      "There is no respiration rate data available during the extubated period.\n",
      "(42, 55, 26, 20)\n"
     ]
    },
    {
     "name": "stderr",
     "output_type": "stream",
     "text": [
      "IC0980 visit 1 failed: float division by zero\n"
     ]
    },
    {
     "name": "stdout",
     "output_type": "stream",
     "text": [
      "(50, 62, 27, 21)\n"
     ]
    },
    {
     "name": "stderr",
     "output_type": "stream",
     "text": [
      "ID1125 visit 1 failed: 'NoneType' object is not subscriptable\n",
      "ID0698 visit 1 failed: 'NoneType' object is not subscriptable\n"
     ]
    },
    {
     "name": "stdout",
     "output_type": "stream",
     "text": [
      "There is no respiration rate data available during the extubated period.\n",
      "(50, 63, 27, 22)\n",
      "There is no respiration rate data available during the extubated period.\n",
      "(50, 63, 27, 23)\n"
     ]
    },
    {
     "name": "stderr",
     "output_type": "stream",
     "text": [
      "IQ3266 visit 1 failed: 'NoneType' object is not subscriptable\n"
     ]
    },
    {
     "name": "stdout",
     "output_type": "stream",
     "text": [
      "There is no respiration rate data available during the extubated period.\n",
      "(51, 65, 27, 24)\n"
     ]
    },
    {
     "name": "stderr",
     "output_type": "stream",
     "text": [
      "IE1464 visit 1 failed: 'NoneType' object is not subscriptable\n"
     ]
    },
    {
     "name": "stdout",
     "output_type": "stream",
     "text": [
      "There is no respiration rate data available during the extubated period.\n",
      "(51, 68, 27, 25)\n"
     ]
    },
    {
     "name": "stderr",
     "output_type": "stream",
     "text": [
      "IK2985 visit 1 failed: 'NoneType' object is not subscriptable\n"
     ]
    },
    {
     "name": "stdout",
     "output_type": "stream",
     "text": [
      "There is no respiration rate data available during the extubated period.\n",
      "(54, 69, 27, 26)\n"
     ]
    },
    {
     "name": "stderr",
     "output_type": "stream",
     "text": [
      "IY0584 visit 1 failed: 'NoneType' object is not subscriptable\n"
     ]
    },
    {
     "name": "stdout",
     "output_type": "stream",
     "text": [
      "There is no respiration rate data available during the extubated period.\n",
      "(54, 70, 28, 27)\n"
     ]
    },
    {
     "name": "stderr",
     "output_type": "stream",
     "text": [
      "IW0225 visit 1 failed: float division by zero\n"
     ]
    },
    {
     "name": "stdout",
     "output_type": "stream",
     "text": [
      "(56, 73, 29, 28)\n"
     ]
    },
    {
     "name": "stderr",
     "output_type": "stream",
     "text": [
      "NR1208 visit 1 failed: float division by zero\n"
     ]
    },
    {
     "name": "stdout",
     "output_type": "stream",
     "text": [
      "(57, 74, 29, 29)\n"
     ]
    },
    {
     "name": "stderr",
     "output_type": "stream",
     "text": [
      "NI0648 visit 1 failed: float division by zero\n"
     ]
    },
    {
     "name": "stdout",
     "output_type": "stream",
     "text": [
      "(58, 76, 29, 30)\n"
     ]
    },
    {
     "name": "stderr",
     "output_type": "stream",
     "text": [
      "NZ1298 visit 1 failed: float division by zero\n"
     ]
    },
    {
     "name": "stdout",
     "output_type": "stream",
     "text": [
      "(59, 77, 29, 31)\n"
     ]
    },
    {
     "name": "stderr",
     "output_type": "stream",
     "text": [
      "NF1844 visit 1 failed: 'NoneType' object is not subscriptable\n"
     ]
    },
    {
     "name": "stdout",
     "output_type": "stream",
     "text": [
      "There is no respiration rate data available during the extubated period.\n",
      "(62, 79, 30, 32)\n"
     ]
    },
    {
     "name": "stderr",
     "output_type": "stream",
     "text": [
      "NO1421 visit 1 failed: 'NoneType' object is not subscriptable\n",
      "NO0745 visit 1 failed: 'NoneType' object is not subscriptable\n"
     ]
    },
    {
     "name": "stdout",
     "output_type": "stream",
     "text": [
      "There is no respiration rate data available during the extubated period.\n",
      "(62, 79, 32, 33)\n",
      "There is no respiration rate data available during the extubated period.\n",
      "(62, 79, 32, 34)\n"
     ]
    },
    {
     "name": "stderr",
     "output_type": "stream",
     "text": [
      "NJ1555 visit 1 failed: 'NoneType' object is not subscriptable\n",
      "NJ0813 visit 1 failed: 'NoneType' object is not subscriptable\n"
     ]
    },
    {
     "name": "stdout",
     "output_type": "stream",
     "text": [
      "There is no respiration rate data available during the extubated period.\n",
      "(64, 81, 32, 35)\n",
      "There is no respiration rate data available during the extubated period.\n",
      "(64, 81, 32, 36)\n"
     ]
    },
    {
     "name": "stderr",
     "output_type": "stream",
     "text": [
      "NC0993 visit 1 failed: float division by zero\n"
     ]
    },
    {
     "name": "stdout",
     "output_type": "stream",
     "text": [
      "(66, 83, 33, 37)\n"
     ]
    },
    {
     "name": "stderr",
     "output_type": "stream",
     "text": [
      "NV3325 visit 1 failed: float division by zero\n"
     ]
    },
    {
     "name": "stdout",
     "output_type": "stream",
     "text": [
      "(69, 86, 34, 38)\n"
     ]
    },
    {
     "name": "stderr",
     "output_type": "stream",
     "text": [
      "NB0532 visit 1 failed: 'NoneType' object is not subscriptable\n"
     ]
    },
    {
     "name": "stdout",
     "output_type": "stream",
     "text": [
      "There is no respiration rate data available during the extubated period.\n",
      "(71, 90, 35, 39)\n"
     ]
    },
    {
     "name": "stderr",
     "output_type": "stream",
     "text": [
      "NY1178 visit 1 failed: 'NoneType' object is not subscriptable\n"
     ]
    },
    {
     "name": "stdout",
     "output_type": "stream",
     "text": [
      "There is no respiration rate data available during the extubated period.\n",
      "(74, 92, 35, 40)\n"
     ]
    },
    {
     "name": "stderr",
     "output_type": "stream",
     "text": [
      "GU0489 visit 1 failed: 'NoneType' object is not subscriptable\n"
     ]
    },
    {
     "name": "stdout",
     "output_type": "stream",
     "text": [
      "There is no respiration rate data available during the extubated period.\n",
      "(74, 95, 36, 41)\n"
     ]
    },
    {
     "name": "stderr",
     "output_type": "stream",
     "text": [
      "GH0044 visit 1 failed: float division by zero\n"
     ]
    },
    {
     "name": "stdout",
     "output_type": "stream",
     "text": [
      "(83, 104, 37, 42)\n"
     ]
    },
    {
     "name": "stderr",
     "output_type": "stream",
     "text": [
      "GD0847 visit 1 failed: list index out of range\n"
     ]
    },
    {
     "name": "stdout",
     "output_type": "stream",
     "text": [
      "(85, 109, 38, 43)\n"
     ]
    },
    {
     "name": "stderr",
     "output_type": "stream",
     "text": [
      "GQ0917 visit 1 failed: 'NoneType' object is not subscriptable\n"
     ]
    },
    {
     "name": "stdout",
     "output_type": "stream",
     "text": [
      "There is no respiration rate data available during the extubated period.\n",
      "(87, 110, 40, 44)\n"
     ]
    },
    {
     "name": "stderr",
     "output_type": "stream",
     "text": [
      "GB0011 visit 1 failed: 'NoneType' object is not subscriptable\n"
     ]
    },
    {
     "name": "stdout",
     "output_type": "stream",
     "text": [
      "There is no respiration rate data available during the extubated period.\n",
      "(89, 111, 42, 45)\n"
     ]
    },
    {
     "name": "stderr",
     "output_type": "stream",
     "text": [
      "GL1242 visit 1 failed: 'NoneType' object is not subscriptable\n"
     ]
    },
    {
     "name": "stdout",
     "output_type": "stream",
     "text": [
      "There is no respiration rate data available during the extubated period.\n",
      "(89, 113, 42, 46)\n"
     ]
    },
    {
     "name": "stderr",
     "output_type": "stream",
     "text": [
      "GP0753 visit 1 failed: float division by zero\n"
     ]
    },
    {
     "name": "stdout",
     "output_type": "stream",
     "text": [
      "(91, 116, 42, 47)\n"
     ]
    },
    {
     "name": "stderr",
     "output_type": "stream",
     "text": [
      "ZS1353 visit 1 failed: 'NoneType' object is not subscriptable\n"
     ]
    },
    {
     "name": "stdout",
     "output_type": "stream",
     "text": [
      "There is no respiration rate data available during the extubated period.\n",
      "(98, 120, 43, 48)\n"
     ]
    },
    {
     "name": "stderr",
     "output_type": "stream",
     "text": [
      "ZA1349 visit 1 failed: 'NoneType' object is not subscriptable\n",
      "ZA1259 visit 1 failed: float division by zero\n"
     ]
    },
    {
     "name": "stdout",
     "output_type": "stream",
     "text": [
      "There is no respiration rate data available during the extubated period.\n",
      "(99, 120, 43, 49)\n",
      "(99, 120, 43, 50)\n"
     ]
    },
    {
     "name": "stderr",
     "output_type": "stream",
     "text": [
      "ZD1638 visit 1 failed: 'NoneType' object is not subscriptable\n"
     ]
    },
    {
     "name": "stdout",
     "output_type": "stream",
     "text": [
      "There is no respiration rate data available during the extubated period.\n",
      "(103, 124, 46, 51)\n"
     ]
    },
    {
     "name": "stderr",
     "output_type": "stream",
     "text": [
      "ZL1090 visit 1 failed: float division by zero\n"
     ]
    },
    {
     "name": "stdout",
     "output_type": "stream",
     "text": [
      "(105, 128, 51, 52)\n"
     ]
    },
    {
     "name": "stderr",
     "output_type": "stream",
     "text": [
      "ZP0057 visit 1 failed: 'NoneType' object is not subscriptable\n"
     ]
    },
    {
     "name": "stdout",
     "output_type": "stream",
     "text": [
      "There is no respiration rate data available during the extubated period.\n",
      "(105, 131, 52, 53)\n"
     ]
    },
    {
     "name": "stderr",
     "output_type": "stream",
     "text": [
      "TU0726 visit 1 failed: 'NoneType' object is not subscriptable\n"
     ]
    },
    {
     "name": "stdout",
     "output_type": "stream",
     "text": [
      "There is no respiration rate data available during the extubated period.\n",
      "(109, 134, 53, 54)\n"
     ]
    },
    {
     "name": "stderr",
     "output_type": "stream",
     "text": [
      "TN1477 visit 1 failed: 'NoneType' object is not subscriptable\n"
     ]
    },
    {
     "name": "stdout",
     "output_type": "stream",
     "text": [
      "There is no respiration rate data available during the extubated period.\n",
      "(110, 134, 53, 55)\n"
     ]
    },
    {
     "name": "stderr",
     "output_type": "stream",
     "text": [
      "TZ1037 visit 1 failed: 'NoneType' object is not subscriptable\n",
      "TT1072 visit 1 failed: 'NoneType' object is not subscriptable\n"
     ]
    },
    {
     "name": "stdout",
     "output_type": "stream",
     "text": [
      "There is no respiration rate data available during the extubated period.\n",
      "(110, 136, 54, 56)\n",
      "There is no respiration rate data available during the extubated period.\n",
      "(110, 136, 54, 57)\n"
     ]
    },
    {
     "name": "stderr",
     "output_type": "stream",
     "text": [
      "TS1321 visit 1 failed: 'NoneType' object is not subscriptable\n"
     ]
    },
    {
     "name": "stdout",
     "output_type": "stream",
     "text": [
      "There is no respiration rate data available during the extubated period.\n",
      "(112, 136, 54, 58)\n"
     ]
    },
    {
     "name": "stderr",
     "output_type": "stream",
     "text": [
      "TF1045 visit 1 failed: float division by zero\n",
      "TF3238 visit 1 failed: 'NoneType' object is not subscriptable\n"
     ]
    },
    {
     "name": "stdout",
     "output_type": "stream",
     "text": [
      "(112, 136, 55, 59)\n",
      "There is no respiration rate data available during the extubated period.\n",
      "(112, 136, 55, 60)\n"
     ]
    },
    {
     "name": "stderr",
     "output_type": "stream",
     "text": [
      "TM1626 visit 1 failed: 'NoneType' object is not subscriptable\n",
      "TM1148 visit 1 failed: 'NoneType' object is not subscriptable\n"
     ]
    },
    {
     "name": "stdout",
     "output_type": "stream",
     "text": [
      "There is no respiration rate data available during the extubated period.\n",
      "(114, 139, 55, 61)\n",
      "There is no respiration rate data available during the extubated period.\n",
      "(114, 139, 55, 62)\n"
     ]
    },
    {
     "name": "stderr",
     "output_type": "stream",
     "text": [
      "TV1622 visit 1 failed: 'NoneType' object is not subscriptable\n"
     ]
    },
    {
     "name": "stdout",
     "output_type": "stream",
     "text": [
      "There is no respiration rate data available during the extubated period.\n",
      "(116, 142, 56, 63)\n"
     ]
    },
    {
     "name": "stderr",
     "output_type": "stream",
     "text": [
      "TB0258 visit 1 failed: float division by zero\n"
     ]
    },
    {
     "name": "stdout",
     "output_type": "stream",
     "text": [
      "(117, 146, 56, 64)\n"
     ]
    },
    {
     "name": "stderr",
     "output_type": "stream",
     "text": [
      "SF0266 visit 1 failed: 'NoneType' object is not subscriptable\n"
     ]
    },
    {
     "name": "stdout",
     "output_type": "stream",
     "text": [
      "There is no respiration rate data available during the extubated period.\n",
      "(125, 159, 65, 65)\n"
     ]
    },
    {
     "name": "stderr",
     "output_type": "stream",
     "text": [
      "SD1354 visit 1 failed: 'NoneType' object is not subscriptable\n"
     ]
    },
    {
     "name": "stdout",
     "output_type": "stream",
     "text": [
      "There is no respiration rate data available during the extubated period.\n",
      "(130, 164, 66, 66)\n"
     ]
    },
    {
     "name": "stderr",
     "output_type": "stream",
     "text": [
      "SQ3401 visit 1 failed: 'NoneType' object is not subscriptable\n"
     ]
    },
    {
     "name": "stdout",
     "output_type": "stream",
     "text": [
      "There is no respiration rate data available during the extubated period.\n",
      "(130, 165, 67, 67)\n"
     ]
    },
    {
     "name": "stderr",
     "output_type": "stream",
     "text": [
      "SQ1490 visit 1 failed: 'NoneType' object is not subscriptable\n"
     ]
    },
    {
     "name": "stdout",
     "output_type": "stream",
     "text": [
      "There is no respiration rate data available during the extubated period.\n",
      "(130, 166, 67, 68)\n"
     ]
    },
    {
     "name": "stderr",
     "output_type": "stream",
     "text": [
      "SX0999 visit 1 failed: 'NoneType' object is not subscriptable\n",
      "SX0328 visit 1 failed: 'NoneType' object is not subscriptable\n"
     ]
    },
    {
     "name": "stdout",
     "output_type": "stream",
     "text": [
      "There is no respiration rate data available during the extubated period.\n",
      "(131, 167, 67, 69)\n",
      "There is no respiration rate data available during the extubated period.\n",
      "(131, 167, 67, 70)\n"
     ]
    },
    {
     "name": "stderr",
     "output_type": "stream",
     "text": [
      "SE0920 visit 1 failed: float division by zero\n"
     ]
    },
    {
     "name": "stdout",
     "output_type": "stream",
     "text": [
      "(131, 168, 68, 71)\n"
     ]
    },
    {
     "name": "stderr",
     "output_type": "stream",
     "text": [
      "SK0054 visit 1 failed: 'NoneType' object is not subscriptable\n"
     ]
    },
    {
     "name": "stdout",
     "output_type": "stream",
     "text": [
      "There is no respiration rate data available during the extubated period.\n",
      "(133, 169, 69, 72)\n"
     ]
    },
    {
     "name": "stderr",
     "output_type": "stream",
     "text": [
      "SY0686 visit 1 failed: float division by zero\n",
      "SY0409 visit 1 failed: list index out of range\n"
     ]
    },
    {
     "name": "stdout",
     "output_type": "stream",
     "text": [
      "(134, 170, 69, 73)\n",
      "(134, 170, 69, 74)\n"
     ]
    },
    {
     "name": "stderr",
     "output_type": "stream",
     "text": [
      "AR0047 visit 1 failed: 'NoneType' object is not subscriptable\n",
      "AR1243 visit 1 failed: 'NoneType' object is not subscriptable\n"
     ]
    },
    {
     "name": "stdout",
     "output_type": "stream",
     "text": [
      "There is no respiration rate data available during the extubated period.\n",
      "(140, 171, 71, 75)\n",
      "There is no respiration rate data available during the extubated period.\n",
      "(140, 171, 71, 76)\n"
     ]
    },
    {
     "name": "stderr",
     "output_type": "stream",
     "text": [
      "AG0056 visit 1 failed: 'NoneType' object is not subscriptable\n"
     ]
    },
    {
     "name": "stdout",
     "output_type": "stream",
     "text": [
      "There is no respiration rate data available during the extubated period.\n",
      "(143, 176, 72, 77)\n"
     ]
    },
    {
     "name": "stderr",
     "output_type": "stream",
     "text": [
      "AT0998 visit 1 failed: float division by zero\n"
     ]
    },
    {
     "name": "stdout",
     "output_type": "stream",
     "text": [
      "(144, 176, 73, 78)\n"
     ]
    },
    {
     "name": "stderr",
     "output_type": "stream",
     "text": [
      "AA1231 visit 1 failed: 'NoneType' object is not subscriptable\n",
      "AA1060 visit 1 failed: 'NoneType' object is not subscriptable\n"
     ]
    },
    {
     "name": "stdout",
     "output_type": "stream",
     "text": [
      "There is no respiration rate data available during the extubated period.\n",
      "(144, 177, 73, 79)\n",
      "There is no respiration rate data available during the extubated period.\n",
      "(144, 177, 73, 80)\n"
     ]
    },
    {
     "name": "stderr",
     "output_type": "stream",
     "text": [
      "AO0810 visit 1 failed: float division by zero\n"
     ]
    },
    {
     "name": "stdout",
     "output_type": "stream",
     "text": [
      "(146, 177, 73, 81)\n"
     ]
    },
    {
     "name": "stderr",
     "output_type": "stream",
     "text": [
      "AO1538 visit 1 failed: 'NoneType' object is not subscriptable\n"
     ]
    },
    {
     "name": "stdout",
     "output_type": "stream",
     "text": [
      "There is no respiration rate data available during the extubated period.\n",
      "(146, 177, 74, 82)\n"
     ]
    },
    {
     "name": "stderr",
     "output_type": "stream",
     "text": [
      "AH0880 visit 1 failed: 'NoneType' object is not subscriptable\n"
     ]
    },
    {
     "name": "stdout",
     "output_type": "stream",
     "text": [
      "There is no respiration rate data available during the extubated period.\n",
      "(146, 178, 74, 83)\n"
     ]
    },
    {
     "name": "stderr",
     "output_type": "stream",
     "text": [
      "AD1904 visit 1 failed: float division by zero\n"
     ]
    },
    {
     "name": "stdout",
     "output_type": "stream",
     "text": [
      "(147, 184, 74, 84)\n"
     ]
    },
    {
     "name": "stderr",
     "output_type": "stream",
     "text": [
      "AV1422 visit 1 failed: 'NoneType' object is not subscriptable\n"
     ]
    },
    {
     "name": "stdout",
     "output_type": "stream",
     "text": [
      "There is no respiration rate data available during the extubated period.\n",
      "(148, 186, 75, 85)\n"
     ]
    },
    {
     "name": "stderr",
     "output_type": "stream",
     "text": [
      "AQ1389 visit 1 failed: 'NoneType' object is not subscriptable\n"
     ]
    },
    {
     "name": "stdout",
     "output_type": "stream",
     "text": [
      "There is no respiration rate data available during the extubated period.\n",
      "(149, 187, 75, 86)\n"
     ]
    },
    {
     "name": "stderr",
     "output_type": "stream",
     "text": [
      "AL1386 visit 1 failed: 'NoneType' object is not subscriptable\n"
     ]
    },
    {
     "name": "stdout",
     "output_type": "stream",
     "text": [
      "There is no respiration rate data available during the extubated period.\n",
      "(152, 193, 80, 87)\n"
     ]
    },
    {
     "name": "stderr",
     "output_type": "stream",
     "text": [
      "AY1212 visit 1 failed: 'NoneType' object is not subscriptable\n"
     ]
    },
    {
     "name": "stdout",
     "output_type": "stream",
     "text": [
      "There is no respiration rate data available during the extubated period.\n",
      "(153, 195, 80, 88)\n"
     ]
    },
    {
     "name": "stderr",
     "output_type": "stream",
     "text": [
      "AP0891 visit 1 failed: 'NoneType' object is not subscriptable\n"
     ]
    },
    {
     "name": "stdout",
     "output_type": "stream",
     "text": [
      "There is no respiration rate data available during the extubated period.\n",
      "(154, 196, 80, 89)\n"
     ]
    },
    {
     "name": "stderr",
     "output_type": "stream",
     "text": [
      "FI0506 visit 1 failed: float division by zero\n"
     ]
    },
    {
     "name": "stdout",
     "output_type": "stream",
     "text": [
      "(158, 200, 81, 90)\n"
     ]
    },
    {
     "name": "stderr",
     "output_type": "stream",
     "text": [
      "FN0971 visit 1 failed: float division by zero\n",
      "FN1641 visit 1 failed: 'NoneType' object is not subscriptable\n"
     ]
    },
    {
     "name": "stdout",
     "output_type": "stream",
     "text": [
      "(158, 200, 81, 91)\n",
      "There is no respiration rate data available during the extubated period.\n",
      "(158, 200, 81, 92)\n"
     ]
    },
    {
     "name": "stderr",
     "output_type": "stream",
     "text": [
      "FT1316 visit 1 failed: 'NoneType' object is not subscriptable\n"
     ]
    },
    {
     "name": "stdout",
     "output_type": "stream",
     "text": [
      "There is no respiration rate data available during the extubated period.\n",
      "(160, 201, 81, 93)\n"
     ]
    },
    {
     "name": "stderr",
     "output_type": "stream",
     "text": [
      "FS1054 visit 1 failed: 'NoneType' object is not subscriptable\n",
      "FA1656 visit 1 failed: 'NoneType' object is not subscriptable\n",
      "FF1433 visit 1 failed: list index out of range\n"
     ]
    },
    {
     "name": "stdout",
     "output_type": "stream",
     "text": [
      "There is no respiration rate data available during the extubated period.\n",
      "(161, 202, 81, 94)\n",
      "There is no respiration rate data available during the extubated period.\n",
      "(161, 202, 81, 95)\n",
      "(161, 202, 81, 96)\n"
     ]
    },
    {
     "name": "stderr",
     "output_type": "stream",
     "text": [
      "FF1194 visit 1 failed: 'NoneType' object is not subscriptable\n"
     ]
    },
    {
     "name": "stdout",
     "output_type": "stream",
     "text": [
      "There is no respiration rate data available during the extubated period.\n",
      "(161, 202, 81, 97)\n"
     ]
    },
    {
     "name": "stderr",
     "output_type": "stream",
     "text": [
      "FO0202 visit 1 failed: 'NoneType' object is not subscriptable\n"
     ]
    },
    {
     "name": "stdout",
     "output_type": "stream",
     "text": [
      "There is no respiration rate data available during the extubated period.\n",
      "(161, 202, 81, 98)\n"
     ]
    },
    {
     "name": "stderr",
     "output_type": "stream",
     "text": [
      "FH0559 visit 1 failed: 'NoneType' object is not subscriptable\n"
     ]
    },
    {
     "name": "stdout",
     "output_type": "stream",
     "text": [
      "There is no respiration rate data available during the extubated period.\n",
      "(162, 203, 82, 99)\n"
     ]
    },
    {
     "name": "stderr",
     "output_type": "stream",
     "text": [
      "FM1511 visit 1 failed: 'NoneType' object is not subscriptable\n"
     ]
    },
    {
     "name": "stdout",
     "output_type": "stream",
     "text": [
      "There is no respiration rate data available during the extubated period.\n",
      "(162, 206, 83, 100)\n"
     ]
    },
    {
     "name": "stderr",
     "output_type": "stream",
     "text": [
      "FX1052 visit 1 failed: 'NoneType' object is not subscriptable\n"
     ]
    },
    {
     "name": "stdout",
     "output_type": "stream",
     "text": [
      "There is no respiration rate data available during the extubated period.\n",
      "(168, 210, 87, 101)\n"
     ]
    },
    {
     "name": "stderr",
     "output_type": "stream",
     "text": [
      "FB0719 visit 1 failed: 'NoneType' object is not subscriptable\n"
     ]
    },
    {
     "name": "stdout",
     "output_type": "stream",
     "text": [
      "There is no respiration rate data available during the extubated period.\n",
      "(168, 211, 89, 102)\n"
     ]
    },
    {
     "name": "stderr",
     "output_type": "stream",
     "text": [
      "FB0448 visit 1 failed: 'NoneType' object is not subscriptable\n"
     ]
    },
    {
     "name": "stdout",
     "output_type": "stream",
     "text": [
      "There is no respiration rate data available during the extubated period.\n",
      "(169, 212, 90, 103)\n"
     ]
    },
    {
     "name": "stderr",
     "output_type": "stream",
     "text": [
      "FK0896 visit 1 failed: 'NoneType' object is not subscriptable\n"
     ]
    },
    {
     "name": "stdout",
     "output_type": "stream",
     "text": [
      "There is no respiration rate data available during the extubated period.\n",
      "(170, 212, 90, 104)\n"
     ]
    },
    {
     "name": "stderr",
     "output_type": "stream",
     "text": [
      "FY1319 visit 1 failed: 'NoneType' object is not subscriptable\n",
      "FW0383 visit 1 failed: 'NoneType' object is not subscriptable\n",
      "FW1169 visit 1 failed: 'NoneType' object is not subscriptable\n"
     ]
    },
    {
     "name": "stdout",
     "output_type": "stream",
     "text": [
      "There is no respiration rate data available during the extubated period.\n",
      "(171, 213, 90, 105)\n",
      "There is no respiration rate data available during the extubated period.\n",
      "(171, 213, 90, 106)\n",
      "There is no respiration rate data available during the extubated period.\n",
      "(171, 213, 90, 107)\n"
     ]
    },
    {
     "name": "stderr",
     "output_type": "stream",
     "text": [
      "OD1310 visit 1 failed: 'NoneType' object is not subscriptable\n"
     ]
    },
    {
     "name": "stdout",
     "output_type": "stream",
     "text": [
      "There is no respiration rate data available during the extubated period.\n",
      "(176, 227, 97, 108)\n"
     ]
    },
    {
     "name": "stderr",
     "output_type": "stream",
     "text": [
      "OV0953 visit 1 failed: 'NoneType' object is not subscriptable\n"
     ]
    },
    {
     "name": "stdout",
     "output_type": "stream",
     "text": [
      "There is no respiration rate data available during the extubated period.\n",
      "(176, 228, 97, 109)\n"
     ]
    },
    {
     "name": "stderr",
     "output_type": "stream",
     "text": [
      "OE1168 visit 1 failed: 'NoneType' object is not subscriptable\n"
     ]
    },
    {
     "name": "stdout",
     "output_type": "stream",
     "text": [
      "There is no respiration rate data available during the extubated period.\n",
      "(178, 231, 98, 110)\n"
     ]
    },
    {
     "name": "stderr",
     "output_type": "stream",
     "text": [
      "OK1492 visit 1 failed: 'NoneType' object is not subscriptable\n"
     ]
    },
    {
     "name": "stdout",
     "output_type": "stream",
     "text": [
      "There is no respiration rate data available during the extubated period.\n",
      "(178, 231, 99, 111)\n"
     ]
    },
    {
     "name": "stderr",
     "output_type": "stream",
     "text": [
      "HN0978 visit 1 failed: 'NoneType' object is not subscriptable\n"
     ]
    },
    {
     "name": "stdout",
     "output_type": "stream",
     "text": [
      "There is no respiration rate data available during the extubated period.\n",
      "(183, 236, 100, 112)\n"
     ]
    },
    {
     "name": "stderr",
     "output_type": "stream",
     "text": [
      "HZ1632 visit 1 failed: 'NoneType' object is not subscriptable\n"
     ]
    },
    {
     "name": "stdout",
     "output_type": "stream",
     "text": [
      "There is no respiration rate data available during the extubated period.\n",
      "(185, 240, 100, 113)\n"
     ]
    },
    {
     "name": "stderr",
     "output_type": "stream",
     "text": [
      "HF1183 visit 1 failed: float division by zero\n"
     ]
    },
    {
     "name": "stdout",
     "output_type": "stream",
     "text": [
      "(186, 246, 102, 114)\n"
     ]
    },
    {
     "name": "stderr",
     "output_type": "stream",
     "text": [
      "HO1097 visit 1 failed: 'NoneType' object is not subscriptable\n"
     ]
    },
    {
     "name": "stdout",
     "output_type": "stream",
     "text": [
      "There is no respiration rate data available during the extubated period.\n",
      "(186, 246, 103, 115)\n"
     ]
    },
    {
     "name": "stderr",
     "output_type": "stream",
     "text": [
      "HC1504 visit 1 failed: 'NoneType' object is not subscriptable\n"
     ]
    },
    {
     "name": "stdout",
     "output_type": "stream",
     "text": [
      "There is no respiration rate data available during the extubated period.\n",
      "(189, 249, 105, 116)\n"
     ]
    },
    {
     "name": "stderr",
     "output_type": "stream",
     "text": [
      "HX1163 visit 1 failed: float division by zero\n"
     ]
    },
    {
     "name": "stdout",
     "output_type": "stream",
     "text": [
      "(191, 253, 108, 117)\n"
     ]
    },
    {
     "name": "stderr",
     "output_type": "stream",
     "text": [
      "HE1226 visit 1 failed: 'NoneType' object is not subscriptable\n"
     ]
    },
    {
     "name": "stdout",
     "output_type": "stream",
     "text": [
      "There is no respiration rate data available during the extubated period.\n",
      "(191, 254, 108, 118)\n"
     ]
    },
    {
     "name": "stderr",
     "output_type": "stream",
     "text": [
      "HL0720 visit 1 failed: float division by zero\n"
     ]
    },
    {
     "name": "stdout",
     "output_type": "stream",
     "text": [
      "(193, 255, 109, 119)\n"
     ]
    },
    {
     "name": "stderr",
     "output_type": "stream",
     "text": [
      "HY1215 visit 1 failed: 'NoneType' object is not subscriptable\n"
     ]
    },
    {
     "name": "stdout",
     "output_type": "stream",
     "text": [
      "There is no respiration rate data available during the extubated period.\n",
      "(193, 255, 110, 120)\n"
     ]
    },
    {
     "name": "stderr",
     "output_type": "stream",
     "text": [
      "HW1171 visit 1 failed: 'NoneType' object is not subscriptable\n",
      "MR1332 visit 1 failed: 'NoneType' object is not subscriptable\n"
     ]
    },
    {
     "name": "stdout",
     "output_type": "stream",
     "text": [
      "There is no respiration rate data available during the extubated period.\n",
      "(194, 255, 110, 121)\n",
      "There is no respiration rate data available during the extubated period.\n",
      "(194, 255, 110, 122)\n"
     ]
    },
    {
     "name": "stderr",
     "output_type": "stream",
     "text": [
      "MU1271 visit 1 failed: 'NoneType' object is not subscriptable\n"
     ]
    },
    {
     "name": "stdout",
     "output_type": "stream",
     "text": [
      "There is no respiration rate data available during the extubated period.\n",
      "(194, 256, 110, 123)\n"
     ]
    },
    {
     "name": "stderr",
     "output_type": "stream",
     "text": [
      "MG0982 visit 1 failed: 'NoneType' object is not subscriptable\n"
     ]
    },
    {
     "name": "stdout",
     "output_type": "stream",
     "text": [
      "There is no respiration rate data available during the extubated period.\n",
      "(198, 260, 111, 124)\n"
     ]
    },
    {
     "name": "stderr",
     "output_type": "stream",
     "text": [
      "MT1276 visit 1 failed: float division by zero\n"
     ]
    },
    {
     "name": "stdout",
     "output_type": "stream",
     "text": [
      "(198, 261, 111, 125)\n"
     ]
    },
    {
     "name": "stderr",
     "output_type": "stream",
     "text": [
      "MO0621 visit 1 failed: 'NoneType' object is not subscriptable\n"
     ]
    },
    {
     "name": "stdout",
     "output_type": "stream",
     "text": [
      "There is no respiration rate data available during the extubated period.\n",
      "(201, 264, 112, 126)\n"
     ]
    },
    {
     "name": "stderr",
     "output_type": "stream",
     "text": [
      "MB1888 visit 1 failed: 'NoneType' object is not subscriptable\n"
     ]
    },
    {
     "name": "stdout",
     "output_type": "stream",
     "text": [
      "There is no respiration rate data available during the extubated period.\n",
      "(210, 275, 112, 127)\n"
     ]
    },
    {
     "name": "stderr",
     "output_type": "stream",
     "text": [
      "ML1104 visit 1 failed: float division by zero\n"
     ]
    },
    {
     "name": "stdout",
     "output_type": "stream",
     "text": [
      "(211, 276, 112, 128)\n"
     ]
    },
    {
     "name": "stderr",
     "output_type": "stream",
     "text": [
      "JR1392 visit 1 failed: 'NoneType' object is not subscriptable\n"
     ]
    },
    {
     "name": "stdout",
     "output_type": "stream",
     "text": [
      "There is no respiration rate data available during the extubated period.\n",
      "(217, 276, 112, 129)\n"
     ]
    },
    {
     "name": "stderr",
     "output_type": "stream",
     "text": [
      "JU1287 visit 1 failed: 'NoneType' object is not subscriptable\n"
     ]
    },
    {
     "name": "stdout",
     "output_type": "stream",
     "text": [
      "There is no respiration rate data available during the extubated period.\n",
      "(221, 277, 112, 130)\n"
     ]
    },
    {
     "name": "stderr",
     "output_type": "stream",
     "text": [
      "JN4074 visit 1 failed: 'NoneType' object is not subscriptable\n"
     ]
    },
    {
     "name": "stdout",
     "output_type": "stream",
     "text": [
      "There is no respiration rate data available during the extubated period.\n",
      "(221, 278, 112, 131)\n"
     ]
    },
    {
     "name": "stderr",
     "output_type": "stream",
     "text": [
      "JO0242 visit 1 failed: float division by zero\n"
     ]
    },
    {
     "name": "stdout",
     "output_type": "stream",
     "text": [
      "(224, 286, 114, 132)\n"
     ]
    },
    {
     "name": "stderr",
     "output_type": "stream",
     "text": [
      "JH0981 visit 1 failed: float division by zero\n",
      "JM1413 visit 1 failed: float division by zero\n",
      "JJ1166 visit 1 failed: 'NoneType' object is not subscriptable\n"
     ]
    },
    {
     "name": "stdout",
     "output_type": "stream",
     "text": [
      "(224, 289, 114, 133)\n",
      "(224, 289, 114, 134)\n",
      "There is no respiration rate data available during the extubated period.\n",
      "(224, 289, 114, 135)\n"
     ]
    },
    {
     "name": "stderr",
     "output_type": "stream",
     "text": [
      "JC2069 visit 1 failed: float division by zero\n"
     ]
    },
    {
     "name": "stdout",
     "output_type": "stream",
     "text": [
      "(225, 295, 114, 136)\n"
     ]
    },
    {
     "name": "stderr",
     "output_type": "stream",
     "text": [
      "JQ0940 visit 1 failed: 'NoneType' object is not subscriptable\n",
      "JX1025 visit 1 failed: division by zero\n"
     ]
    },
    {
     "name": "stdout",
     "output_type": "stream",
     "text": [
      "There is no respiration rate data available during the extubated period.\n",
      "(227, 299, 115, 137)\n",
      "(227, 299, 115, 138)\n"
     ]
    },
    {
     "name": "stderr",
     "output_type": "stream",
     "text": [
      "JE1322 visit 1 failed: 'NoneType' object is not subscriptable\n"
     ]
    },
    {
     "name": "stdout",
     "output_type": "stream",
     "text": [
      "There is no respiration rate data available during the extubated period.\n",
      "(229, 300, 115, 139)\n"
     ]
    },
    {
     "name": "stderr",
     "output_type": "stream",
     "text": [
      "JL1005 visit 1 failed: 'NoneType' object is not subscriptable\n",
      "JY0954 visit 1 failed: 'NoneType' object is not subscriptable\n"
     ]
    },
    {
     "name": "stdout",
     "output_type": "stream",
     "text": [
      "There is no respiration rate data available during the extubated period.\n",
      "(233, 303, 115, 140)\n",
      "There is no respiration rate data available during the extubated period.\n",
      "(233, 303, 115, 141)\n"
     ]
    },
    {
     "name": "stderr",
     "output_type": "stream",
     "text": [
      "JP2808 visit 1 failed: 'NoneType' object is not subscriptable\n"
     ]
    },
    {
     "name": "stdout",
     "output_type": "stream",
     "text": [
      "There is no respiration rate data available during the extubated period.\n",
      "(235, 304, 116, 142)\n"
     ]
    },
    {
     "name": "stderr",
     "output_type": "stream",
     "text": [
      "CU2107 visit 1 failed: 'NoneType' object is not subscriptable\n"
     ]
    },
    {
     "name": "stdout",
     "output_type": "stream",
     "text": [
      "There is no respiration rate data available during the extubated period.\n",
      "(236, 305, 117, 143)\n"
     ]
    },
    {
     "name": "stderr",
     "output_type": "stream",
     "text": [
      "CZ1981 visit 1 failed: 'NoneType' object is not subscriptable\n"
     ]
    },
    {
     "name": "stdout",
     "output_type": "stream",
     "text": [
      "There is no respiration rate data available during the extubated period.\n",
      "(236, 309, 119, 144)\n"
     ]
    },
    {
     "name": "stderr",
     "output_type": "stream",
     "text": [
      "CS3617 visit 1 failed: 'NoneType' object is not subscriptable\n"
     ]
    },
    {
     "name": "stdout",
     "output_type": "stream",
     "text": [
      "There is no respiration rate data available during the extubated period.\n",
      "(236, 310, 119, 145)\n"
     ]
    },
    {
     "name": "stderr",
     "output_type": "stream",
     "text": [
      "CF0838 visit 1 failed: float division by zero\n",
      "CF0613 visit 1 failed: float division by zero\n"
     ]
    },
    {
     "name": "stdout",
     "output_type": "stream",
     "text": [
      "(237, 313, 119, 146)\n",
      "(237, 313, 119, 147)\n"
     ]
    },
    {
     "name": "stderr",
     "output_type": "stream",
     "text": [
      "CO0636 visit 1 failed: 'NoneType' object is not subscriptable\n"
     ]
    },
    {
     "name": "stdout",
     "output_type": "stream",
     "text": [
      "There is no respiration rate data available during the extubated period.\n",
      "(238, 313, 119, 148)\n"
     ]
    },
    {
     "name": "stderr",
     "output_type": "stream",
     "text": [
      "CD1152 visit 1 failed: 'NoneType' object is not subscriptable\n"
     ]
    },
    {
     "name": "stdout",
     "output_type": "stream",
     "text": [
      "There is no respiration rate data available during the extubated period.\n",
      "(241, 319, 121, 149)\n"
     ]
    },
    {
     "name": "stderr",
     "output_type": "stream",
     "text": [
      "CV1304 visit 1 failed: 'NoneType' object is not subscriptable\n"
     ]
    },
    {
     "name": "stdout",
     "output_type": "stream",
     "text": [
      "There is no respiration rate data available during the extubated period.\n",
      "(241, 321, 121, 150)\n"
     ]
    },
    {
     "name": "stderr",
     "output_type": "stream",
     "text": [
      "CE1588 visit 1 failed: 'NoneType' object is not subscriptable\n"
     ]
    },
    {
     "name": "stdout",
     "output_type": "stream",
     "text": [
      "There is no respiration rate data available during the extubated period.\n",
      "(242, 322, 122, 151)\n"
     ]
    },
    {
     "name": "stderr",
     "output_type": "stream",
     "text": [
      "CY1614 visit 1 failed: 'NoneType' object is not subscriptable\n"
     ]
    },
    {
     "name": "stdout",
     "output_type": "stream",
     "text": [
      "There is no respiration rate data available during the extubated period.\n",
      "(245, 323, 122, 152)\n"
     ]
    },
    {
     "name": "stderr",
     "output_type": "stream",
     "text": [
      "CW1337 visit 1 failed: 'NoneType' object is not subscriptable\n"
     ]
    },
    {
     "name": "stdout",
     "output_type": "stream",
     "text": [
      "There is no respiration rate data available during the extubated period.\n",
      "(247, 325, 122, 153)\n"
     ]
    },
    {
     "name": "stderr",
     "output_type": "stream",
     "text": [
      "DU0863 visit 1 failed: 'NoneType' object is not subscriptable\n",
      "DI0128 visit 1 failed: 'NoneType' object is not subscriptable\n"
     ]
    },
    {
     "name": "stdout",
     "output_type": "stream",
     "text": [
      "There is no respiration rate data available during the extubated period.\n",
      "(251, 325, 124, 154)\n",
      "There is no respiration rate data available during the extubated period.\n",
      "(251, 325, 124, 155)\n"
     ]
    },
    {
     "name": "stderr",
     "output_type": "stream",
     "text": [
      "DZ0633 visit 1 failed: 'NoneType' object is not subscriptable\n"
     ]
    },
    {
     "name": "stdout",
     "output_type": "stream",
     "text": [
      "There is no respiration rate data available during the extubated period.\n",
      "(253, 326, 126, 156)\n"
     ]
    },
    {
     "name": "stderr",
     "output_type": "stream",
     "text": [
      "DT1081 visit 1 failed: 'NoneType' object is not subscriptable\n"
     ]
    },
    {
     "name": "stdout",
     "output_type": "stream",
     "text": [
      "There is no respiration rate data available during the extubated period.\n",
      "(254, 326, 127, 157)\n"
     ]
    },
    {
     "name": "stderr",
     "output_type": "stream",
     "text": [
      "DM1288 visit 1 failed: 'NoneType' object is not subscriptable\n"
     ]
    },
    {
     "name": "stdout",
     "output_type": "stream",
     "text": [
      "There is no respiration rate data available during the extubated period.\n",
      "(258, 330, 130, 158)\n"
     ]
    },
    {
     "name": "stderr",
     "output_type": "stream",
     "text": [
      "DV0262 visit 1 failed: 'NoneType' object is not subscriptable\n"
     ]
    },
    {
     "name": "stdout",
     "output_type": "stream",
     "text": [
      "There is no respiration rate data available during the extubated period.\n",
      "(260, 333, 131, 159)\n"
     ]
    },
    {
     "name": "stderr",
     "output_type": "stream",
     "text": [
      "DQ1541 visit 1 failed: 'NoneType' object is not subscriptable\n"
     ]
    },
    {
     "name": "stdout",
     "output_type": "stream",
     "text": [
      "There is no respiration rate data available during the extubated period.\n",
      "(260, 335, 131, 160)\n"
     ]
    },
    {
     "name": "stderr",
     "output_type": "stream",
     "text": [
      "DE0442 visit 1 failed: 'NoneType' object is not subscriptable\n"
     ]
    },
    {
     "name": "stdout",
     "output_type": "stream",
     "text": [
      "There is no respiration rate data available during the extubated period.\n",
      "(261, 339, 132, 161)\n"
     ]
    },
    {
     "name": "stderr",
     "output_type": "stream",
     "text": [
      "DK0710 visit 1 failed: float division by zero\n"
     ]
    },
    {
     "name": "stdout",
     "output_type": "stream",
     "text": [
      "(262, 342, 132, 162)\n"
     ]
    },
    {
     "name": "stderr",
     "output_type": "stream",
     "text": [
      "DL1180 visit 1 failed: 'NoneType' object is not subscriptable\n"
     ]
    },
    {
     "name": "stdout",
     "output_type": "stream",
     "text": [
      "There is no respiration rate data available during the extubated period.\n",
      "(263, 343, 132, 163)\n"
     ]
    },
    {
     "name": "stderr",
     "output_type": "stream",
     "text": [
      "DP0985 visit 1 failed: 'NoneType' object is not subscriptable\n"
     ]
    },
    {
     "name": "stdout",
     "output_type": "stream",
     "text": [
      "There is no respiration rate data available during the extubated period.\n",
      "(264, 343, 132, 164)\n"
     ]
    },
    {
     "name": "stderr",
     "output_type": "stream",
     "text": [
      "VI1613 visit 1 failed: 'NoneType' object is not subscriptable\n",
      "VI1327 visit 1 failed: float division by zero\n"
     ]
    },
    {
     "name": "stdout",
     "output_type": "stream",
     "text": [
      "There is no respiration rate data available during the extubated period.\n",
      "(268, 349, 134, 165)\n",
      "(268, 349, 134, 166)\n"
     ]
    },
    {
     "name": "stderr",
     "output_type": "stream",
     "text": [
      "VG1278 visit 1 failed: float division by zero\n",
      "VZ1199 visit 1 failed: 'NoneType' object is not subscriptable\n"
     ]
    },
    {
     "name": "stdout",
     "output_type": "stream",
     "text": [
      "(269, 351, 135, 167)\n",
      "There is no respiration rate data available during the extubated period.\n",
      "(269, 351, 135, 168)\n"
     ]
    },
    {
     "name": "stderr",
     "output_type": "stream",
     "text": [
      "VA1742 visit 1 failed: 'NoneType' object is not subscriptable\n"
     ]
    },
    {
     "name": "stdout",
     "output_type": "stream",
     "text": [
      "There is no respiration rate data available during the extubated period.\n",
      "(273, 352, 136, 169)\n"
     ]
    },
    {
     "name": "stderr",
     "output_type": "stream",
     "text": [
      "VV1257 visit 1 failed: 'NoneType' object is not subscriptable\n"
     ]
    },
    {
     "name": "stdout",
     "output_type": "stream",
     "text": [
      "There is no respiration rate data available during the extubated period.\n",
      "(276, 359, 137, 170)\n"
     ]
    },
    {
     "ename": "KeyboardInterrupt",
     "evalue": "",
     "output_type": "error",
     "traceback": [
      "\u001b[0;31m---------------------------------------------------------------------------\u001b[0m",
      "\u001b[0;31mKeyboardInterrupt\u001b[0m                         Traceback (most recent call last)",
      "\u001b[0;32m/var/folders/rg/6x4tlzs16c76vmthv_nxc63r0000gn/T/ipykernel_27592/4206196821.py\u001b[0m in \u001b[0;36m<module>\u001b[0;34m\u001b[0m\n\u001b[0;32m----> 1\u001b[0;31m \u001b[0mcohort2_whole\u001b[0m\u001b[0;34m.\u001b[0m\u001b[0mmean_trend_count\u001b[0m\u001b[0;34m(\u001b[0m\u001b[0mrr\u001b[0m \u001b[0;34m=\u001b[0m \u001b[0;32mTrue\u001b[0m\u001b[0;34m)\u001b[0m\u001b[0;34m\u001b[0m\u001b[0;34m\u001b[0m\u001b[0m\n\u001b[0m",
      "\u001b[0;32m~/Documents/In2Research/visits/visit.py\u001b[0m in \u001b[0;36mmean_trend_count\u001b[0;34m(self, hr, rr, abf)\u001b[0m\n\u001b[1;32m    418\u001b[0m \u001b[0;34m\u001b[0m\u001b[0m\n\u001b[1;32m    419\u001b[0m                 \u001b[0;32mif\u001b[0m \u001b[0mrr\u001b[0m\u001b[0;34m:\u001b[0m\u001b[0;34m\u001b[0m\u001b[0;34m\u001b[0m\u001b[0m\n\u001b[0;32m--> 420\u001b[0;31m                     \u001b[0mtrend\u001b[0m \u001b[0;34m=\u001b[0m \u001b[0mrolling_mean\u001b[0m\u001b[0;34m(\u001b[0m\u001b[0mvisit\u001b[0m\u001b[0;34m.\u001b[0m\u001b[0mrr\u001b[0m\u001b[0;34m(\u001b[0m\u001b[0;34m)\u001b[0m\u001b[0;34m)\u001b[0m\u001b[0;34m[\u001b[0m\u001b[0;36m0\u001b[0m\u001b[0;34m]\u001b[0m\u001b[0;34m\u001b[0m\u001b[0;34m\u001b[0m\u001b[0m\n\u001b[0m\u001b[1;32m    421\u001b[0m                     \u001b[0;32mif\u001b[0m \u001b[0mtrend\u001b[0m \u001b[0;34m==\u001b[0m \u001b[0;34m\"increasing\"\u001b[0m\u001b[0;34m:\u001b[0m\u001b[0;34m\u001b[0m\u001b[0;34m\u001b[0m\u001b[0m\n\u001b[1;32m    422\u001b[0m                         \u001b[0mincreasing\u001b[0m \u001b[0;34m+=\u001b[0m \u001b[0;36m1\u001b[0m\u001b[0;34m\u001b[0m\u001b[0;34m\u001b[0m\u001b[0m\n",
      "\u001b[0;32m~/Documents/In2Research/visits/visit.py\u001b[0m in \u001b[0;36mrr\u001b[0;34m(self)\u001b[0m\n\u001b[1;32m    301\u001b[0m                         \u001b[0mrr_df\u001b[0m\u001b[0;34m[\u001b[0m\u001b[0;34m'num_value'\u001b[0m\u001b[0;34m]\u001b[0m\u001b[0;34m.\u001b[0m\u001b[0mloc\u001b[0m\u001b[0;34m[\u001b[0m\u001b[0midx2\u001b[0m\u001b[0;34m]\u001b[0m \u001b[0;34m=\u001b[0m \u001b[0;36m0.5\u001b[0m\u001b[0;34m*\u001b[0m\u001b[0;34m(\u001b[0m\u001b[0mrr_df\u001b[0m\u001b[0;34m[\u001b[0m\u001b[0;34m'num_value'\u001b[0m\u001b[0;34m]\u001b[0m\u001b[0;34m.\u001b[0m\u001b[0mloc\u001b[0m\u001b[0;34m[\u001b[0m\u001b[0midx1\u001b[0m\u001b[0;34m]\u001b[0m\u001b[0;34m+\u001b[0m\u001b[0mrr_df\u001b[0m\u001b[0;34m[\u001b[0m\u001b[0;34m'num_value'\u001b[0m\u001b[0;34m]\u001b[0m\u001b[0;34m.\u001b[0m\u001b[0mloc\u001b[0m\u001b[0;34m[\u001b[0m\u001b[0midx2\u001b[0m\u001b[0;34m]\u001b[0m\u001b[0;34m)\u001b[0m\u001b[0;34m\u001b[0m\u001b[0;34m\u001b[0m\u001b[0m\n\u001b[1;32m    302\u001b[0m                         \u001b[0mrr_df\u001b[0m\u001b[0;34m[\u001b[0m\u001b[0;34m'monitor'\u001b[0m\u001b[0;34m]\u001b[0m\u001b[0;34m.\u001b[0m\u001b[0mloc\u001b[0m\u001b[0;34m[\u001b[0m\u001b[0midx2\u001b[0m\u001b[0;34m]\u001b[0m \u001b[0;34m=\u001b[0m \u001b[0;34m\"combination\"\u001b[0m\u001b[0;34m\u001b[0m\u001b[0;34m\u001b[0m\u001b[0m\n\u001b[0;32m--> 303\u001b[0;31m                         \u001b[0mrr_df\u001b[0m \u001b[0;34m=\u001b[0m \u001b[0mrr_df\u001b[0m\u001b[0;34m.\u001b[0m\u001b[0mdrop\u001b[0m\u001b[0;34m(\u001b[0m\u001b[0midx1\u001b[0m\u001b[0;34m,\u001b[0m \u001b[0maxis\u001b[0m\u001b[0;34m=\u001b[0m\u001b[0;36m0\u001b[0m\u001b[0;34m)\u001b[0m\u001b[0;34m\u001b[0m\u001b[0;34m\u001b[0m\u001b[0m\n\u001b[0m\u001b[1;32m    304\u001b[0m                         \u001b[0;32mbreak\u001b[0m\u001b[0;34m\u001b[0m\u001b[0;34m\u001b[0m\u001b[0m\n\u001b[1;32m    305\u001b[0m                     \u001b[0;32mbreak\u001b[0m\u001b[0;34m\u001b[0m\u001b[0;34m\u001b[0m\u001b[0m\n",
      "\u001b[0;32m~/opt/anaconda3/lib/python3.8/site-packages/pandas/util/_decorators.py\u001b[0m in \u001b[0;36mwrapper\u001b[0;34m(*args, **kwargs)\u001b[0m\n\u001b[1;32m    309\u001b[0m                     \u001b[0mstacklevel\u001b[0m\u001b[0;34m=\u001b[0m\u001b[0mstacklevel\u001b[0m\u001b[0;34m,\u001b[0m\u001b[0;34m\u001b[0m\u001b[0;34m\u001b[0m\u001b[0m\n\u001b[1;32m    310\u001b[0m                 )\n\u001b[0;32m--> 311\u001b[0;31m             \u001b[0;32mreturn\u001b[0m \u001b[0mfunc\u001b[0m\u001b[0;34m(\u001b[0m\u001b[0;34m*\u001b[0m\u001b[0margs\u001b[0m\u001b[0;34m,\u001b[0m \u001b[0;34m**\u001b[0m\u001b[0mkwargs\u001b[0m\u001b[0;34m)\u001b[0m\u001b[0;34m\u001b[0m\u001b[0;34m\u001b[0m\u001b[0m\n\u001b[0m\u001b[1;32m    312\u001b[0m \u001b[0;34m\u001b[0m\u001b[0m\n\u001b[1;32m    313\u001b[0m         \u001b[0;32mreturn\u001b[0m \u001b[0mwrapper\u001b[0m\u001b[0;34m\u001b[0m\u001b[0;34m\u001b[0m\u001b[0m\n",
      "\u001b[0;32m~/opt/anaconda3/lib/python3.8/site-packages/pandas/core/frame.py\u001b[0m in \u001b[0;36mdrop\u001b[0;34m(self, labels, axis, index, columns, level, inplace, errors)\u001b[0m\n\u001b[1;32m   4904\u001b[0m                 \u001b[0mweight\u001b[0m  \u001b[0;36m1.0\u001b[0m     \u001b[0;36m0.8\u001b[0m\u001b[0;34m\u001b[0m\u001b[0;34m\u001b[0m\u001b[0m\n\u001b[1;32m   4905\u001b[0m         \"\"\"\n\u001b[0;32m-> 4906\u001b[0;31m         return super().drop(\n\u001b[0m\u001b[1;32m   4907\u001b[0m             \u001b[0mlabels\u001b[0m\u001b[0;34m=\u001b[0m\u001b[0mlabels\u001b[0m\u001b[0;34m,\u001b[0m\u001b[0;34m\u001b[0m\u001b[0;34m\u001b[0m\u001b[0m\n\u001b[1;32m   4908\u001b[0m             \u001b[0maxis\u001b[0m\u001b[0;34m=\u001b[0m\u001b[0maxis\u001b[0m\u001b[0;34m,\u001b[0m\u001b[0;34m\u001b[0m\u001b[0;34m\u001b[0m\u001b[0m\n",
      "\u001b[0;32m~/opt/anaconda3/lib/python3.8/site-packages/pandas/core/generic.py\u001b[0m in \u001b[0;36mdrop\u001b[0;34m(self, labels, axis, index, columns, level, inplace, errors)\u001b[0m\n\u001b[1;32m   4148\u001b[0m         \u001b[0;32mfor\u001b[0m \u001b[0maxis\u001b[0m\u001b[0;34m,\u001b[0m \u001b[0mlabels\u001b[0m \u001b[0;32min\u001b[0m \u001b[0maxes\u001b[0m\u001b[0;34m.\u001b[0m\u001b[0mitems\u001b[0m\u001b[0;34m(\u001b[0m\u001b[0;34m)\u001b[0m\u001b[0;34m:\u001b[0m\u001b[0;34m\u001b[0m\u001b[0;34m\u001b[0m\u001b[0m\n\u001b[1;32m   4149\u001b[0m             \u001b[0;32mif\u001b[0m \u001b[0mlabels\u001b[0m \u001b[0;32mis\u001b[0m \u001b[0;32mnot\u001b[0m \u001b[0;32mNone\u001b[0m\u001b[0;34m:\u001b[0m\u001b[0;34m\u001b[0m\u001b[0;34m\u001b[0m\u001b[0m\n\u001b[0;32m-> 4150\u001b[0;31m                 \u001b[0mobj\u001b[0m \u001b[0;34m=\u001b[0m \u001b[0mobj\u001b[0m\u001b[0;34m.\u001b[0m\u001b[0m_drop_axis\u001b[0m\u001b[0;34m(\u001b[0m\u001b[0mlabels\u001b[0m\u001b[0;34m,\u001b[0m \u001b[0maxis\u001b[0m\u001b[0;34m,\u001b[0m \u001b[0mlevel\u001b[0m\u001b[0;34m=\u001b[0m\u001b[0mlevel\u001b[0m\u001b[0;34m,\u001b[0m \u001b[0merrors\u001b[0m\u001b[0;34m=\u001b[0m\u001b[0merrors\u001b[0m\u001b[0;34m)\u001b[0m\u001b[0;34m\u001b[0m\u001b[0;34m\u001b[0m\u001b[0m\n\u001b[0m\u001b[1;32m   4151\u001b[0m \u001b[0;34m\u001b[0m\u001b[0m\n\u001b[1;32m   4152\u001b[0m         \u001b[0;32mif\u001b[0m \u001b[0minplace\u001b[0m\u001b[0;34m:\u001b[0m\u001b[0;34m\u001b[0m\u001b[0;34m\u001b[0m\u001b[0m\n",
      "\u001b[0;32m~/opt/anaconda3/lib/python3.8/site-packages/pandas/core/generic.py\u001b[0m in \u001b[0;36m_drop_axis\u001b[0;34m(self, labels, axis, level, errors)\u001b[0m\n\u001b[1;32m   4184\u001b[0m             \u001b[0;32melse\u001b[0m\u001b[0;34m:\u001b[0m\u001b[0;34m\u001b[0m\u001b[0;34m\u001b[0m\u001b[0m\n\u001b[1;32m   4185\u001b[0m                 \u001b[0mnew_axis\u001b[0m \u001b[0;34m=\u001b[0m \u001b[0maxis\u001b[0m\u001b[0;34m.\u001b[0m\u001b[0mdrop\u001b[0m\u001b[0;34m(\u001b[0m\u001b[0mlabels\u001b[0m\u001b[0;34m,\u001b[0m \u001b[0merrors\u001b[0m\u001b[0;34m=\u001b[0m\u001b[0merrors\u001b[0m\u001b[0;34m)\u001b[0m\u001b[0;34m\u001b[0m\u001b[0;34m\u001b[0m\u001b[0m\n\u001b[0;32m-> 4186\u001b[0;31m             \u001b[0mresult\u001b[0m \u001b[0;34m=\u001b[0m \u001b[0mself\u001b[0m\u001b[0;34m.\u001b[0m\u001b[0mreindex\u001b[0m\u001b[0;34m(\u001b[0m\u001b[0;34m**\u001b[0m\u001b[0;34m{\u001b[0m\u001b[0maxis_name\u001b[0m\u001b[0;34m:\u001b[0m \u001b[0mnew_axis\u001b[0m\u001b[0;34m}\u001b[0m\u001b[0;34m)\u001b[0m\u001b[0;34m\u001b[0m\u001b[0;34m\u001b[0m\u001b[0m\n\u001b[0m\u001b[1;32m   4187\u001b[0m \u001b[0;34m\u001b[0m\u001b[0m\n\u001b[1;32m   4188\u001b[0m         \u001b[0;31m# Case for non-unique axis\u001b[0m\u001b[0;34m\u001b[0m\u001b[0;34m\u001b[0m\u001b[0;34m\u001b[0m\u001b[0m\n",
      "\u001b[0;32m~/opt/anaconda3/lib/python3.8/site-packages/pandas/util/_decorators.py\u001b[0m in \u001b[0;36mwrapper\u001b[0;34m(*args, **kwargs)\u001b[0m\n\u001b[1;32m    322\u001b[0m         \u001b[0;34m@\u001b[0m\u001b[0mwraps\u001b[0m\u001b[0;34m(\u001b[0m\u001b[0mfunc\u001b[0m\u001b[0;34m)\u001b[0m\u001b[0;34m\u001b[0m\u001b[0;34m\u001b[0m\u001b[0m\n\u001b[1;32m    323\u001b[0m         \u001b[0;32mdef\u001b[0m \u001b[0mwrapper\u001b[0m\u001b[0;34m(\u001b[0m\u001b[0;34m*\u001b[0m\u001b[0margs\u001b[0m\u001b[0;34m,\u001b[0m \u001b[0;34m**\u001b[0m\u001b[0mkwargs\u001b[0m\u001b[0;34m)\u001b[0m \u001b[0;34m->\u001b[0m \u001b[0mCallable\u001b[0m\u001b[0;34m[\u001b[0m\u001b[0;34m...\u001b[0m\u001b[0;34m,\u001b[0m \u001b[0mAny\u001b[0m\u001b[0;34m]\u001b[0m\u001b[0;34m:\u001b[0m\u001b[0;34m\u001b[0m\u001b[0;34m\u001b[0m\u001b[0m\n\u001b[0;32m--> 324\u001b[0;31m             \u001b[0;32mreturn\u001b[0m \u001b[0mfunc\u001b[0m\u001b[0;34m(\u001b[0m\u001b[0;34m*\u001b[0m\u001b[0margs\u001b[0m\u001b[0;34m,\u001b[0m \u001b[0;34m**\u001b[0m\u001b[0mkwargs\u001b[0m\u001b[0;34m)\u001b[0m\u001b[0;34m\u001b[0m\u001b[0;34m\u001b[0m\u001b[0m\n\u001b[0m\u001b[1;32m    325\u001b[0m \u001b[0;34m\u001b[0m\u001b[0m\n\u001b[1;32m    326\u001b[0m         \u001b[0mkind\u001b[0m \u001b[0;34m=\u001b[0m \u001b[0minspect\u001b[0m\u001b[0;34m.\u001b[0m\u001b[0mParameter\u001b[0m\u001b[0;34m.\u001b[0m\u001b[0mPOSITIONAL_OR_KEYWORD\u001b[0m\u001b[0;34m\u001b[0m\u001b[0;34m\u001b[0m\u001b[0m\n",
      "\u001b[0;32m~/opt/anaconda3/lib/python3.8/site-packages/pandas/core/frame.py\u001b[0m in \u001b[0;36mreindex\u001b[0;34m(self, *args, **kwargs)\u001b[0m\n\u001b[1;32m   4770\u001b[0m         \u001b[0mkwargs\u001b[0m\u001b[0;34m.\u001b[0m\u001b[0mpop\u001b[0m\u001b[0;34m(\u001b[0m\u001b[0;34m\"axis\"\u001b[0m\u001b[0;34m,\u001b[0m \u001b[0;32mNone\u001b[0m\u001b[0;34m)\u001b[0m\u001b[0;34m\u001b[0m\u001b[0;34m\u001b[0m\u001b[0m\n\u001b[1;32m   4771\u001b[0m         \u001b[0mkwargs\u001b[0m\u001b[0;34m.\u001b[0m\u001b[0mpop\u001b[0m\u001b[0;34m(\u001b[0m\u001b[0;34m\"labels\"\u001b[0m\u001b[0;34m,\u001b[0m \u001b[0;32mNone\u001b[0m\u001b[0;34m)\u001b[0m\u001b[0;34m\u001b[0m\u001b[0;34m\u001b[0m\u001b[0m\n\u001b[0;32m-> 4772\u001b[0;31m         \u001b[0;32mreturn\u001b[0m \u001b[0msuper\u001b[0m\u001b[0;34m(\u001b[0m\u001b[0;34m)\u001b[0m\u001b[0;34m.\u001b[0m\u001b[0mreindex\u001b[0m\u001b[0;34m(\u001b[0m\u001b[0;34m**\u001b[0m\u001b[0mkwargs\u001b[0m\u001b[0;34m)\u001b[0m\u001b[0;34m\u001b[0m\u001b[0;34m\u001b[0m\u001b[0m\n\u001b[0m\u001b[1;32m   4773\u001b[0m \u001b[0;34m\u001b[0m\u001b[0m\n\u001b[1;32m   4774\u001b[0m     \u001b[0;34m@\u001b[0m\u001b[0mdeprecate_nonkeyword_arguments\u001b[0m\u001b[0;34m(\u001b[0m\u001b[0mversion\u001b[0m\u001b[0;34m=\u001b[0m\u001b[0;32mNone\u001b[0m\u001b[0;34m,\u001b[0m \u001b[0mallowed_args\u001b[0m\u001b[0;34m=\u001b[0m\u001b[0;34m[\u001b[0m\u001b[0;34m\"self\"\u001b[0m\u001b[0;34m,\u001b[0m \u001b[0;34m\"labels\"\u001b[0m\u001b[0;34m]\u001b[0m\u001b[0;34m)\u001b[0m\u001b[0;34m\u001b[0m\u001b[0;34m\u001b[0m\u001b[0m\n",
      "\u001b[0;32m~/opt/anaconda3/lib/python3.8/site-packages/pandas/core/generic.py\u001b[0m in \u001b[0;36mreindex\u001b[0;34m(self, *args, **kwargs)\u001b[0m\n\u001b[1;32m   4816\u001b[0m \u001b[0;34m\u001b[0m\u001b[0m\n\u001b[1;32m   4817\u001b[0m         \u001b[0;31m# perform the reindex on the axes\u001b[0m\u001b[0;34m\u001b[0m\u001b[0;34m\u001b[0m\u001b[0;34m\u001b[0m\u001b[0m\n\u001b[0;32m-> 4818\u001b[0;31m         return self._reindex_axes(\n\u001b[0m\u001b[1;32m   4819\u001b[0m             \u001b[0maxes\u001b[0m\u001b[0;34m,\u001b[0m \u001b[0mlevel\u001b[0m\u001b[0;34m,\u001b[0m \u001b[0mlimit\u001b[0m\u001b[0;34m,\u001b[0m \u001b[0mtolerance\u001b[0m\u001b[0;34m,\u001b[0m \u001b[0mmethod\u001b[0m\u001b[0;34m,\u001b[0m \u001b[0mfill_value\u001b[0m\u001b[0;34m,\u001b[0m \u001b[0mcopy\u001b[0m\u001b[0;34m\u001b[0m\u001b[0;34m\u001b[0m\u001b[0m\n\u001b[1;32m   4820\u001b[0m         ).__finalize__(self, method=\"reindex\")\n",
      "\u001b[0;32m~/opt/anaconda3/lib/python3.8/site-packages/pandas/core/frame.py\u001b[0m in \u001b[0;36m_reindex_axes\u001b[0;34m(self, axes, level, limit, tolerance, method, fill_value, copy)\u001b[0m\n\u001b[1;32m   4595\u001b[0m         \u001b[0mindex\u001b[0m \u001b[0;34m=\u001b[0m \u001b[0maxes\u001b[0m\u001b[0;34m[\u001b[0m\u001b[0;34m\"index\"\u001b[0m\u001b[0;34m]\u001b[0m\u001b[0;34m\u001b[0m\u001b[0;34m\u001b[0m\u001b[0m\n\u001b[1;32m   4596\u001b[0m         \u001b[0;32mif\u001b[0m \u001b[0mindex\u001b[0m \u001b[0;32mis\u001b[0m \u001b[0;32mnot\u001b[0m \u001b[0;32mNone\u001b[0m\u001b[0;34m:\u001b[0m\u001b[0;34m\u001b[0m\u001b[0;34m\u001b[0m\u001b[0m\n\u001b[0;32m-> 4597\u001b[0;31m             frame = frame._reindex_index(\n\u001b[0m\u001b[1;32m   4598\u001b[0m                 \u001b[0mindex\u001b[0m\u001b[0;34m,\u001b[0m \u001b[0mmethod\u001b[0m\u001b[0;34m,\u001b[0m \u001b[0mcopy\u001b[0m\u001b[0;34m,\u001b[0m \u001b[0mlevel\u001b[0m\u001b[0;34m,\u001b[0m \u001b[0mfill_value\u001b[0m\u001b[0;34m,\u001b[0m \u001b[0mlimit\u001b[0m\u001b[0;34m,\u001b[0m \u001b[0mtolerance\u001b[0m\u001b[0;34m\u001b[0m\u001b[0;34m\u001b[0m\u001b[0m\n\u001b[1;32m   4599\u001b[0m             )\n",
      "\u001b[0;32m~/opt/anaconda3/lib/python3.8/site-packages/pandas/core/frame.py\u001b[0m in \u001b[0;36m_reindex_index\u001b[0;34m(self, new_index, method, copy, level, fill_value, limit, tolerance)\u001b[0m\n\u001b[1;32m   4614\u001b[0m             \u001b[0mnew_index\u001b[0m\u001b[0;34m,\u001b[0m \u001b[0mmethod\u001b[0m\u001b[0;34m=\u001b[0m\u001b[0mmethod\u001b[0m\u001b[0;34m,\u001b[0m \u001b[0mlevel\u001b[0m\u001b[0;34m=\u001b[0m\u001b[0mlevel\u001b[0m\u001b[0;34m,\u001b[0m \u001b[0mlimit\u001b[0m\u001b[0;34m=\u001b[0m\u001b[0mlimit\u001b[0m\u001b[0;34m,\u001b[0m \u001b[0mtolerance\u001b[0m\u001b[0;34m=\u001b[0m\u001b[0mtolerance\u001b[0m\u001b[0;34m\u001b[0m\u001b[0;34m\u001b[0m\u001b[0m\n\u001b[1;32m   4615\u001b[0m         )\n\u001b[0;32m-> 4616\u001b[0;31m         return self._reindex_with_indexers(\n\u001b[0m\u001b[1;32m   4617\u001b[0m             \u001b[0;34m{\u001b[0m\u001b[0;36m0\u001b[0m\u001b[0;34m:\u001b[0m \u001b[0;34m[\u001b[0m\u001b[0mnew_index\u001b[0m\u001b[0;34m,\u001b[0m \u001b[0mindexer\u001b[0m\u001b[0;34m]\u001b[0m\u001b[0;34m}\u001b[0m\u001b[0;34m,\u001b[0m\u001b[0;34m\u001b[0m\u001b[0;34m\u001b[0m\u001b[0m\n\u001b[1;32m   4618\u001b[0m             \u001b[0mcopy\u001b[0m\u001b[0;34m=\u001b[0m\u001b[0mcopy\u001b[0m\u001b[0;34m,\u001b[0m\u001b[0;34m\u001b[0m\u001b[0;34m\u001b[0m\u001b[0m\n",
      "\u001b[0;32m~/opt/anaconda3/lib/python3.8/site-packages/pandas/core/generic.py\u001b[0m in \u001b[0;36m_reindex_with_indexers\u001b[0;34m(self, reindexers, fill_value, copy, allow_dups)\u001b[0m\n\u001b[1;32m   4881\u001b[0m \u001b[0;34m\u001b[0m\u001b[0m\n\u001b[1;32m   4882\u001b[0m             \u001b[0;31m# TODO: speed up on homogeneous DataFrame objects\u001b[0m\u001b[0;34m\u001b[0m\u001b[0;34m\u001b[0m\u001b[0;34m\u001b[0m\u001b[0m\n\u001b[0;32m-> 4883\u001b[0;31m             new_data = new_data.reindex_indexer(\n\u001b[0m\u001b[1;32m   4884\u001b[0m                 \u001b[0mindex\u001b[0m\u001b[0;34m,\u001b[0m\u001b[0;34m\u001b[0m\u001b[0;34m\u001b[0m\u001b[0m\n\u001b[1;32m   4885\u001b[0m                 \u001b[0mindexer\u001b[0m\u001b[0;34m,\u001b[0m\u001b[0;34m\u001b[0m\u001b[0;34m\u001b[0m\u001b[0m\n",
      "\u001b[0;32m~/opt/anaconda3/lib/python3.8/site-packages/pandas/core/internals/managers.py\u001b[0m in \u001b[0;36mreindex_indexer\u001b[0;34m(self, new_axis, indexer, axis, fill_value, allow_dups, copy, consolidate, only_slice)\u001b[0m\n\u001b[1;32m    678\u001b[0m             )\n\u001b[1;32m    679\u001b[0m         \u001b[0;32melse\u001b[0m\u001b[0;34m:\u001b[0m\u001b[0;34m\u001b[0m\u001b[0;34m\u001b[0m\u001b[0m\n\u001b[0;32m--> 680\u001b[0;31m             new_blocks = [\n\u001b[0m\u001b[1;32m    681\u001b[0m                 blk.take_nd(\n\u001b[1;32m    682\u001b[0m                     \u001b[0mindexer\u001b[0m\u001b[0;34m,\u001b[0m\u001b[0;34m\u001b[0m\u001b[0;34m\u001b[0m\u001b[0m\n",
      "\u001b[0;32m~/opt/anaconda3/lib/python3.8/site-packages/pandas/core/internals/managers.py\u001b[0m in \u001b[0;36m<listcomp>\u001b[0;34m(.0)\u001b[0m\n\u001b[1;32m    679\u001b[0m         \u001b[0;32melse\u001b[0m\u001b[0;34m:\u001b[0m\u001b[0;34m\u001b[0m\u001b[0;34m\u001b[0m\u001b[0m\n\u001b[1;32m    680\u001b[0m             new_blocks = [\n\u001b[0;32m--> 681\u001b[0;31m                 blk.take_nd(\n\u001b[0m\u001b[1;32m    682\u001b[0m                     \u001b[0mindexer\u001b[0m\u001b[0;34m,\u001b[0m\u001b[0;34m\u001b[0m\u001b[0;34m\u001b[0m\u001b[0m\n\u001b[1;32m    683\u001b[0m                     \u001b[0maxis\u001b[0m\u001b[0;34m=\u001b[0m\u001b[0;36m1\u001b[0m\u001b[0;34m,\u001b[0m\u001b[0;34m\u001b[0m\u001b[0;34m\u001b[0m\u001b[0m\n",
      "\u001b[0;32m~/opt/anaconda3/lib/python3.8/site-packages/pandas/core/internals/blocks.py\u001b[0m in \u001b[0;36mtake_nd\u001b[0;34m(self, indexer, axis, new_mgr_locs, fill_value)\u001b[0m\n\u001b[1;32m   1143\u001b[0m             \u001b[0mallow_fill\u001b[0m \u001b[0;34m=\u001b[0m \u001b[0;32mTrue\u001b[0m\u001b[0;34m\u001b[0m\u001b[0;34m\u001b[0m\u001b[0m\n\u001b[1;32m   1144\u001b[0m \u001b[0;34m\u001b[0m\u001b[0m\n\u001b[0;32m-> 1145\u001b[0;31m         new_values = algos.take_nd(\n\u001b[0m\u001b[1;32m   1146\u001b[0m             \u001b[0mvalues\u001b[0m\u001b[0;34m,\u001b[0m \u001b[0mindexer\u001b[0m\u001b[0;34m,\u001b[0m \u001b[0maxis\u001b[0m\u001b[0;34m=\u001b[0m\u001b[0maxis\u001b[0m\u001b[0;34m,\u001b[0m \u001b[0mallow_fill\u001b[0m\u001b[0;34m=\u001b[0m\u001b[0mallow_fill\u001b[0m\u001b[0;34m,\u001b[0m \u001b[0mfill_value\u001b[0m\u001b[0;34m=\u001b[0m\u001b[0mfill_value\u001b[0m\u001b[0;34m\u001b[0m\u001b[0;34m\u001b[0m\u001b[0m\n\u001b[1;32m   1147\u001b[0m         )\n",
      "\u001b[0;32m~/opt/anaconda3/lib/python3.8/site-packages/pandas/core/array_algos/take.py\u001b[0m in \u001b[0;36mtake_nd\u001b[0;34m(arr, indexer, axis, fill_value, allow_fill)\u001b[0m\n\u001b[1;32m     99\u001b[0m             \u001b[0;31m# i.e. DatetimeArray, TimedeltaArray\u001b[0m\u001b[0;34m\u001b[0m\u001b[0;34m\u001b[0m\u001b[0;34m\u001b[0m\u001b[0m\n\u001b[1;32m    100\u001b[0m             \u001b[0marr\u001b[0m \u001b[0;34m=\u001b[0m \u001b[0mcast\u001b[0m\u001b[0;34m(\u001b[0m\u001b[0;34m\"NDArrayBackedExtensionArray\"\u001b[0m\u001b[0;34m,\u001b[0m \u001b[0marr\u001b[0m\u001b[0;34m)\u001b[0m\u001b[0;34m\u001b[0m\u001b[0;34m\u001b[0m\u001b[0m\n\u001b[0;32m--> 101\u001b[0;31m             return arr.take(\n\u001b[0m\u001b[1;32m    102\u001b[0m                 \u001b[0mindexer\u001b[0m\u001b[0;34m,\u001b[0m \u001b[0mfill_value\u001b[0m\u001b[0;34m=\u001b[0m\u001b[0mfill_value\u001b[0m\u001b[0;34m,\u001b[0m \u001b[0mallow_fill\u001b[0m\u001b[0;34m=\u001b[0m\u001b[0mallow_fill\u001b[0m\u001b[0;34m,\u001b[0m \u001b[0maxis\u001b[0m\u001b[0;34m=\u001b[0m\u001b[0maxis\u001b[0m\u001b[0;34m\u001b[0m\u001b[0;34m\u001b[0m\u001b[0m\n\u001b[1;32m    103\u001b[0m             )\n",
      "\u001b[0;32m~/opt/anaconda3/lib/python3.8/site-packages/pandas/core/arrays/_mixins.py\u001b[0m in \u001b[0;36mtake\u001b[0;34m(self, indices, allow_fill, fill_value, axis)\u001b[0m\n\u001b[1;32m     97\u001b[0m             \u001b[0mfill_value\u001b[0m \u001b[0;34m=\u001b[0m \u001b[0mself\u001b[0m\u001b[0;34m.\u001b[0m\u001b[0m_validate_scalar\u001b[0m\u001b[0;34m(\u001b[0m\u001b[0mfill_value\u001b[0m\u001b[0;34m)\u001b[0m\u001b[0;34m\u001b[0m\u001b[0;34m\u001b[0m\u001b[0m\n\u001b[1;32m     98\u001b[0m \u001b[0;34m\u001b[0m\u001b[0m\n\u001b[0;32m---> 99\u001b[0;31m         new_data = take(\n\u001b[0m\u001b[1;32m    100\u001b[0m             \u001b[0mself\u001b[0m\u001b[0;34m.\u001b[0m\u001b[0m_ndarray\u001b[0m\u001b[0;34m,\u001b[0m\u001b[0;34m\u001b[0m\u001b[0;34m\u001b[0m\u001b[0m\n\u001b[1;32m    101\u001b[0m             \u001b[0;31m# error: Argument 2 to \"take\" has incompatible type \"Sequence[int]\";\u001b[0m\u001b[0;34m\u001b[0m\u001b[0;34m\u001b[0m\u001b[0;34m\u001b[0m\u001b[0m\n",
      "\u001b[0;32m~/opt/anaconda3/lib/python3.8/site-packages/pandas/core/algorithms.py\u001b[0m in \u001b[0;36mtake\u001b[0;34m(arr, indices, axis, allow_fill, fill_value)\u001b[0m\n\u001b[1;32m   1509\u001b[0m         \u001b[0;31m# Pandas style, -1 means NA\u001b[0m\u001b[0;34m\u001b[0m\u001b[0;34m\u001b[0m\u001b[0;34m\u001b[0m\u001b[0m\n\u001b[1;32m   1510\u001b[0m         \u001b[0mvalidate_indices\u001b[0m\u001b[0;34m(\u001b[0m\u001b[0mindices\u001b[0m\u001b[0;34m,\u001b[0m \u001b[0marr\u001b[0m\u001b[0;34m.\u001b[0m\u001b[0mshape\u001b[0m\u001b[0;34m[\u001b[0m\u001b[0maxis\u001b[0m\u001b[0;34m]\u001b[0m\u001b[0;34m)\u001b[0m\u001b[0;34m\u001b[0m\u001b[0;34m\u001b[0m\u001b[0m\n\u001b[0;32m-> 1511\u001b[0;31m         result = take_nd(\n\u001b[0m\u001b[1;32m   1512\u001b[0m             \u001b[0marr\u001b[0m\u001b[0;34m,\u001b[0m \u001b[0mindices\u001b[0m\u001b[0;34m,\u001b[0m \u001b[0maxis\u001b[0m\u001b[0;34m=\u001b[0m\u001b[0maxis\u001b[0m\u001b[0;34m,\u001b[0m \u001b[0mallow_fill\u001b[0m\u001b[0;34m=\u001b[0m\u001b[0;32mTrue\u001b[0m\u001b[0;34m,\u001b[0m \u001b[0mfill_value\u001b[0m\u001b[0;34m=\u001b[0m\u001b[0mfill_value\u001b[0m\u001b[0;34m\u001b[0m\u001b[0;34m\u001b[0m\u001b[0m\n\u001b[1;32m   1513\u001b[0m         )\n",
      "\u001b[0;32m~/opt/anaconda3/lib/python3.8/site-packages/pandas/core/array_algos/take.py\u001b[0m in \u001b[0;36mtake_nd\u001b[0;34m(arr, indexer, axis, fill_value, allow_fill)\u001b[0m\n\u001b[1;32m    106\u001b[0m \u001b[0;34m\u001b[0m\u001b[0m\n\u001b[1;32m    107\u001b[0m     \u001b[0marr\u001b[0m \u001b[0;34m=\u001b[0m \u001b[0mnp\u001b[0m\u001b[0;34m.\u001b[0m\u001b[0masarray\u001b[0m\u001b[0;34m(\u001b[0m\u001b[0marr\u001b[0m\u001b[0;34m)\u001b[0m\u001b[0;34m\u001b[0m\u001b[0;34m\u001b[0m\u001b[0m\n\u001b[0;32m--> 108\u001b[0;31m     \u001b[0;32mreturn\u001b[0m \u001b[0m_take_nd_ndarray\u001b[0m\u001b[0;34m(\u001b[0m\u001b[0marr\u001b[0m\u001b[0;34m,\u001b[0m \u001b[0mindexer\u001b[0m\u001b[0;34m,\u001b[0m \u001b[0maxis\u001b[0m\u001b[0;34m,\u001b[0m \u001b[0mfill_value\u001b[0m\u001b[0;34m,\u001b[0m \u001b[0mallow_fill\u001b[0m\u001b[0;34m)\u001b[0m\u001b[0;34m\u001b[0m\u001b[0;34m\u001b[0m\u001b[0m\n\u001b[0m\u001b[1;32m    109\u001b[0m \u001b[0;34m\u001b[0m\u001b[0m\n\u001b[1;32m    110\u001b[0m \u001b[0;34m\u001b[0m\u001b[0m\n",
      "\u001b[0;32m~/opt/anaconda3/lib/python3.8/site-packages/pandas/core/array_algos/take.py\u001b[0m in \u001b[0;36m_take_nd_ndarray\u001b[0;34m(arr, indexer, axis, fill_value, allow_fill)\u001b[0m\n\u001b[1;32m    152\u001b[0m         \u001b[0marr\u001b[0m\u001b[0;34m.\u001b[0m\u001b[0mndim\u001b[0m\u001b[0;34m,\u001b[0m \u001b[0marr\u001b[0m\u001b[0;34m.\u001b[0m\u001b[0mdtype\u001b[0m\u001b[0;34m,\u001b[0m \u001b[0mout\u001b[0m\u001b[0;34m.\u001b[0m\u001b[0mdtype\u001b[0m\u001b[0;34m,\u001b[0m \u001b[0maxis\u001b[0m\u001b[0;34m=\u001b[0m\u001b[0maxis\u001b[0m\u001b[0;34m,\u001b[0m \u001b[0mmask_info\u001b[0m\u001b[0;34m=\u001b[0m\u001b[0mmask_info\u001b[0m\u001b[0;34m\u001b[0m\u001b[0;34m\u001b[0m\u001b[0m\n\u001b[1;32m    153\u001b[0m     )\n\u001b[0;32m--> 154\u001b[0;31m     \u001b[0mfunc\u001b[0m\u001b[0;34m(\u001b[0m\u001b[0marr\u001b[0m\u001b[0;34m,\u001b[0m \u001b[0mindexer\u001b[0m\u001b[0;34m,\u001b[0m \u001b[0mout\u001b[0m\u001b[0;34m,\u001b[0m \u001b[0mfill_value\u001b[0m\u001b[0;34m)\u001b[0m\u001b[0;34m\u001b[0m\u001b[0;34m\u001b[0m\u001b[0m\n\u001b[0m\u001b[1;32m    155\u001b[0m \u001b[0;34m\u001b[0m\u001b[0m\n\u001b[1;32m    156\u001b[0m     \u001b[0;32mif\u001b[0m \u001b[0mflip_order\u001b[0m\u001b[0;34m:\u001b[0m\u001b[0;34m\u001b[0m\u001b[0;34m\u001b[0m\u001b[0m\n",
      "\u001b[0;32m~/opt/anaconda3/lib/python3.8/site-packages/pandas/core/array_algos/take.py\u001b[0m in \u001b[0;36mwrapper\u001b[0;34m(arr, indexer, out, fill_value)\u001b[0m\n\u001b[1;32m    332\u001b[0m         \u001b[0;32mif\u001b[0m \u001b[0mfill_wrap\u001b[0m \u001b[0;32mis\u001b[0m \u001b[0;32mnot\u001b[0m \u001b[0;32mNone\u001b[0m\u001b[0;34m:\u001b[0m\u001b[0;34m\u001b[0m\u001b[0;34m\u001b[0m\u001b[0m\n\u001b[1;32m    333\u001b[0m             \u001b[0mfill_value\u001b[0m \u001b[0;34m=\u001b[0m \u001b[0mfill_wrap\u001b[0m\u001b[0;34m(\u001b[0m\u001b[0mfill_value\u001b[0m\u001b[0;34m)\u001b[0m\u001b[0;34m\u001b[0m\u001b[0;34m\u001b[0m\u001b[0m\n\u001b[0;32m--> 334\u001b[0;31m         \u001b[0mf\u001b[0m\u001b[0;34m(\u001b[0m\u001b[0marr\u001b[0m\u001b[0;34m,\u001b[0m \u001b[0mindexer\u001b[0m\u001b[0;34m,\u001b[0m \u001b[0mout\u001b[0m\u001b[0;34m,\u001b[0m \u001b[0mfill_value\u001b[0m\u001b[0;34m=\u001b[0m\u001b[0mfill_value\u001b[0m\u001b[0;34m)\u001b[0m\u001b[0;34m\u001b[0m\u001b[0;34m\u001b[0m\u001b[0m\n\u001b[0m\u001b[1;32m    335\u001b[0m \u001b[0;34m\u001b[0m\u001b[0m\n\u001b[1;32m    336\u001b[0m     \u001b[0;32mreturn\u001b[0m \u001b[0mwrapper\u001b[0m\u001b[0;34m\u001b[0m\u001b[0;34m\u001b[0m\u001b[0m\n",
      "\u001b[0;31mKeyboardInterrupt\u001b[0m: "
     ]
    }
   ],
   "source": [
    "cohort2_whole.mean_trend_count(rr = True)"
   ]
  },
  {
   "cell_type": "code",
   "execution_count": 8,
   "metadata": {},
   "outputs": [],
   "source": [
    "cohort2_remainder = Cohort(cohort_dict[2][943:-1], 2)"
   ]
  },
  {
   "cell_type": "code",
   "execution_count": 9,
   "metadata": {},
   "outputs": [
    {
     "name": "stderr",
     "output_type": "stream",
     "text": [
      "/Users/lucindakhalil/opt/anaconda3/lib/python3.8/site-packages/pandas/core/indexing.py:1732: SettingWithCopyWarning: \n",
      "A value is trying to be set on a copy of a slice from a DataFrame\n",
      "\n",
      "See the caveats in the documentation: https://pandas.pydata.org/pandas-docs/stable/user_guide/indexing.html#returning-a-view-versus-a-copy\n",
      "  self._setitem_single_block(indexer, value, name)\n"
     ]
    },
    {
     "ename": "KeyboardInterrupt",
     "evalue": "",
     "output_type": "error",
     "traceback": [
      "\u001b[0;31m---------------------------------------------------------------------------\u001b[0m",
      "\u001b[0;31mKeyboardInterrupt\u001b[0m                         Traceback (most recent call last)",
      "\u001b[0;32m/var/folders/rg/6x4tlzs16c76vmthv_nxc63r0000gn/T/ipykernel_27592/711079808.py\u001b[0m in \u001b[0;36m<module>\u001b[0;34m\u001b[0m\n\u001b[0;32m----> 1\u001b[0;31m \u001b[0mcohort2_remainder\u001b[0m\u001b[0;34m.\u001b[0m\u001b[0mmean_trend_count\u001b[0m\u001b[0;34m(\u001b[0m\u001b[0mrr\u001b[0m \u001b[0;34m=\u001b[0m \u001b[0;32mTrue\u001b[0m\u001b[0;34m)\u001b[0m\u001b[0;34m\u001b[0m\u001b[0;34m\u001b[0m\u001b[0m\n\u001b[0m",
      "\u001b[0;32m~/Documents/In2Research/visits/visit.py\u001b[0m in \u001b[0;36mmean_trend_count\u001b[0;34m(self, hr, rr, abf)\u001b[0m\n\u001b[1;32m    418\u001b[0m \u001b[0;34m\u001b[0m\u001b[0m\n\u001b[1;32m    419\u001b[0m                 \u001b[0;32mif\u001b[0m \u001b[0mrr\u001b[0m\u001b[0;34m:\u001b[0m\u001b[0;34m\u001b[0m\u001b[0;34m\u001b[0m\u001b[0m\n\u001b[0;32m--> 420\u001b[0;31m                     \u001b[0mtrend\u001b[0m \u001b[0;34m=\u001b[0m \u001b[0mrolling_mean\u001b[0m\u001b[0;34m(\u001b[0m\u001b[0mvisit\u001b[0m\u001b[0;34m.\u001b[0m\u001b[0mrr\u001b[0m\u001b[0;34m(\u001b[0m\u001b[0;34m)\u001b[0m\u001b[0;34m)\u001b[0m\u001b[0;34m[\u001b[0m\u001b[0;36m0\u001b[0m\u001b[0;34m]\u001b[0m\u001b[0;34m\u001b[0m\u001b[0;34m\u001b[0m\u001b[0m\n\u001b[0m\u001b[1;32m    421\u001b[0m                     \u001b[0;32mif\u001b[0m \u001b[0mtrend\u001b[0m \u001b[0;34m==\u001b[0m \u001b[0;34m\"increasing\"\u001b[0m\u001b[0;34m:\u001b[0m\u001b[0;34m\u001b[0m\u001b[0;34m\u001b[0m\u001b[0m\n\u001b[1;32m    422\u001b[0m                         \u001b[0mincreasing\u001b[0m \u001b[0;34m+=\u001b[0m \u001b[0;36m1\u001b[0m\u001b[0;34m\u001b[0m\u001b[0;34m\u001b[0m\u001b[0m\n",
      "\u001b[0;32m~/Documents/In2Research/visits/visit.py\u001b[0m in \u001b[0;36mrr\u001b[0;34m(self)\u001b[0m\n\u001b[1;32m    298\u001b[0m             \u001b[0;32mfor\u001b[0m \u001b[0midx1\u001b[0m \u001b[0;32min\u001b[0m \u001b[0mrr_df\u001b[0m\u001b[0;34m.\u001b[0m\u001b[0mindex\u001b[0m\u001b[0;34m:\u001b[0m\u001b[0;34m\u001b[0m\u001b[0;34m\u001b[0m\u001b[0m\n\u001b[1;32m    299\u001b[0m                 \u001b[0;32mfor\u001b[0m \u001b[0midx2\u001b[0m \u001b[0;32min\u001b[0m \u001b[0mrange\u001b[0m\u001b[0;34m(\u001b[0m\u001b[0mmin\u001b[0m\u001b[0;34m(\u001b[0m\u001b[0mrr_df\u001b[0m\u001b[0;34m.\u001b[0m\u001b[0mindex\u001b[0m\u001b[0;34m[\u001b[0m\u001b[0;34m-\u001b[0m\u001b[0;36m1\u001b[0m\u001b[0;34m]\u001b[0m\u001b[0;34m,\u001b[0m \u001b[0midx1\u001b[0m\u001b[0;34m+\u001b[0m\u001b[0;36m1\u001b[0m\u001b[0;34m)\u001b[0m\u001b[0;34m,\u001b[0m \u001b[0mmin\u001b[0m\u001b[0;34m(\u001b[0m\u001b[0mrr_df\u001b[0m\u001b[0;34m.\u001b[0m\u001b[0mindex\u001b[0m\u001b[0;34m[\u001b[0m\u001b[0;34m-\u001b[0m\u001b[0;36m1\u001b[0m\u001b[0;34m]\u001b[0m\u001b[0;34m,\u001b[0m \u001b[0midx1\u001b[0m\u001b[0;34m+\u001b[0m\u001b[0;36m30\u001b[0m\u001b[0;34m)\u001b[0m\u001b[0;34m,\u001b[0m \u001b[0;36m1\u001b[0m\u001b[0;34m)\u001b[0m\u001b[0;34m:\u001b[0m\u001b[0;34m\u001b[0m\u001b[0;34m\u001b[0m\u001b[0m\n\u001b[0;32m--> 300\u001b[0;31m                     \u001b[0;32mif\u001b[0m \u001b[0mrr_df\u001b[0m\u001b[0;34m[\u001b[0m\u001b[0;34m'record_date_time'\u001b[0m\u001b[0;34m]\u001b[0m\u001b[0;34m.\u001b[0m\u001b[0mloc\u001b[0m\u001b[0;34m[\u001b[0m\u001b[0midx1\u001b[0m\u001b[0;34m]\u001b[0m \u001b[0;34m==\u001b[0m \u001b[0mrr_df\u001b[0m\u001b[0;34m[\u001b[0m\u001b[0;34m'record_date_time'\u001b[0m\u001b[0;34m]\u001b[0m\u001b[0;34m.\u001b[0m\u001b[0mloc\u001b[0m\u001b[0;34m[\u001b[0m\u001b[0midx2\u001b[0m\u001b[0;34m]\u001b[0m\u001b[0;34m:\u001b[0m\u001b[0;34m\u001b[0m\u001b[0;34m\u001b[0m\u001b[0m\n\u001b[0m\u001b[1;32m    301\u001b[0m                         \u001b[0mrr_df\u001b[0m\u001b[0;34m[\u001b[0m\u001b[0;34m'num_value'\u001b[0m\u001b[0;34m]\u001b[0m\u001b[0;34m.\u001b[0m\u001b[0mloc\u001b[0m\u001b[0;34m[\u001b[0m\u001b[0midx2\u001b[0m\u001b[0;34m]\u001b[0m \u001b[0;34m=\u001b[0m \u001b[0;36m0.5\u001b[0m\u001b[0;34m*\u001b[0m\u001b[0;34m(\u001b[0m\u001b[0mrr_df\u001b[0m\u001b[0;34m[\u001b[0m\u001b[0;34m'num_value'\u001b[0m\u001b[0;34m]\u001b[0m\u001b[0;34m.\u001b[0m\u001b[0mloc\u001b[0m\u001b[0;34m[\u001b[0m\u001b[0midx1\u001b[0m\u001b[0;34m]\u001b[0m\u001b[0;34m+\u001b[0m\u001b[0mrr_df\u001b[0m\u001b[0;34m[\u001b[0m\u001b[0;34m'num_value'\u001b[0m\u001b[0;34m]\u001b[0m\u001b[0;34m.\u001b[0m\u001b[0mloc\u001b[0m\u001b[0;34m[\u001b[0m\u001b[0midx2\u001b[0m\u001b[0;34m]\u001b[0m\u001b[0;34m)\u001b[0m\u001b[0;34m\u001b[0m\u001b[0;34m\u001b[0m\u001b[0m\n\u001b[1;32m    302\u001b[0m                         \u001b[0mrr_df\u001b[0m\u001b[0;34m[\u001b[0m\u001b[0;34m'monitor'\u001b[0m\u001b[0;34m]\u001b[0m\u001b[0;34m.\u001b[0m\u001b[0mloc\u001b[0m\u001b[0;34m[\u001b[0m\u001b[0midx2\u001b[0m\u001b[0;34m]\u001b[0m \u001b[0;34m=\u001b[0m \u001b[0;34m\"combination\"\u001b[0m\u001b[0;34m\u001b[0m\u001b[0;34m\u001b[0m\u001b[0m\n",
      "\u001b[0;32m~/opt/anaconda3/lib/python3.8/site-packages/pandas/core/indexing.py\u001b[0m in \u001b[0;36m__getitem__\u001b[0;34m(self, key)\u001b[0m\n\u001b[1;32m    929\u001b[0m \u001b[0;34m\u001b[0m\u001b[0m\n\u001b[1;32m    930\u001b[0m             \u001b[0mmaybe_callable\u001b[0m \u001b[0;34m=\u001b[0m \u001b[0mcom\u001b[0m\u001b[0;34m.\u001b[0m\u001b[0mapply_if_callable\u001b[0m\u001b[0;34m(\u001b[0m\u001b[0mkey\u001b[0m\u001b[0;34m,\u001b[0m \u001b[0mself\u001b[0m\u001b[0;34m.\u001b[0m\u001b[0mobj\u001b[0m\u001b[0;34m)\u001b[0m\u001b[0;34m\u001b[0m\u001b[0;34m\u001b[0m\u001b[0m\n\u001b[0;32m--> 931\u001b[0;31m             \u001b[0;32mreturn\u001b[0m \u001b[0mself\u001b[0m\u001b[0;34m.\u001b[0m\u001b[0m_getitem_axis\u001b[0m\u001b[0;34m(\u001b[0m\u001b[0mmaybe_callable\u001b[0m\u001b[0;34m,\u001b[0m \u001b[0maxis\u001b[0m\u001b[0;34m=\u001b[0m\u001b[0maxis\u001b[0m\u001b[0;34m)\u001b[0m\u001b[0;34m\u001b[0m\u001b[0;34m\u001b[0m\u001b[0m\n\u001b[0m\u001b[1;32m    932\u001b[0m \u001b[0;34m\u001b[0m\u001b[0m\n\u001b[1;32m    933\u001b[0m     \u001b[0;32mdef\u001b[0m \u001b[0m_is_scalar_access\u001b[0m\u001b[0;34m(\u001b[0m\u001b[0mself\u001b[0m\u001b[0;34m,\u001b[0m \u001b[0mkey\u001b[0m\u001b[0;34m:\u001b[0m \u001b[0mtuple\u001b[0m\u001b[0;34m)\u001b[0m\u001b[0;34m:\u001b[0m\u001b[0;34m\u001b[0m\u001b[0;34m\u001b[0m\u001b[0m\n",
      "\u001b[0;32m~/opt/anaconda3/lib/python3.8/site-packages/pandas/core/indexing.py\u001b[0m in \u001b[0;36m_getitem_axis\u001b[0;34m(self, key, axis)\u001b[0m\n\u001b[1;32m   1162\u001b[0m         \u001b[0;31m# fall thru to straight lookup\u001b[0m\u001b[0;34m\u001b[0m\u001b[0;34m\u001b[0m\u001b[0;34m\u001b[0m\u001b[0m\n\u001b[1;32m   1163\u001b[0m         \u001b[0mself\u001b[0m\u001b[0;34m.\u001b[0m\u001b[0m_validate_key\u001b[0m\u001b[0;34m(\u001b[0m\u001b[0mkey\u001b[0m\u001b[0;34m,\u001b[0m \u001b[0maxis\u001b[0m\u001b[0;34m)\u001b[0m\u001b[0;34m\u001b[0m\u001b[0;34m\u001b[0m\u001b[0m\n\u001b[0;32m-> 1164\u001b[0;31m         \u001b[0;32mreturn\u001b[0m \u001b[0mself\u001b[0m\u001b[0;34m.\u001b[0m\u001b[0m_get_label\u001b[0m\u001b[0;34m(\u001b[0m\u001b[0mkey\u001b[0m\u001b[0;34m,\u001b[0m \u001b[0maxis\u001b[0m\u001b[0;34m=\u001b[0m\u001b[0maxis\u001b[0m\u001b[0;34m)\u001b[0m\u001b[0;34m\u001b[0m\u001b[0;34m\u001b[0m\u001b[0m\n\u001b[0m\u001b[1;32m   1165\u001b[0m \u001b[0;34m\u001b[0m\u001b[0m\n\u001b[1;32m   1166\u001b[0m     \u001b[0;32mdef\u001b[0m \u001b[0m_get_slice_axis\u001b[0m\u001b[0;34m(\u001b[0m\u001b[0mself\u001b[0m\u001b[0;34m,\u001b[0m \u001b[0mslice_obj\u001b[0m\u001b[0;34m:\u001b[0m \u001b[0mslice\u001b[0m\u001b[0;34m,\u001b[0m \u001b[0maxis\u001b[0m\u001b[0;34m:\u001b[0m \u001b[0mint\u001b[0m\u001b[0;34m)\u001b[0m\u001b[0;34m:\u001b[0m\u001b[0;34m\u001b[0m\u001b[0;34m\u001b[0m\u001b[0m\n",
      "\u001b[0;32m~/opt/anaconda3/lib/python3.8/site-packages/pandas/core/indexing.py\u001b[0m in \u001b[0;36m_get_label\u001b[0;34m(self, label, axis)\u001b[0m\n\u001b[1;32m   1111\u001b[0m     \u001b[0;32mdef\u001b[0m \u001b[0m_get_label\u001b[0m\u001b[0;34m(\u001b[0m\u001b[0mself\u001b[0m\u001b[0;34m,\u001b[0m \u001b[0mlabel\u001b[0m\u001b[0;34m,\u001b[0m \u001b[0maxis\u001b[0m\u001b[0;34m:\u001b[0m \u001b[0mint\u001b[0m\u001b[0;34m)\u001b[0m\u001b[0;34m:\u001b[0m\u001b[0;34m\u001b[0m\u001b[0;34m\u001b[0m\u001b[0m\n\u001b[1;32m   1112\u001b[0m         \u001b[0;31m# GH#5667 this will fail if the label is not present in the axis.\u001b[0m\u001b[0;34m\u001b[0m\u001b[0;34m\u001b[0m\u001b[0;34m\u001b[0m\u001b[0m\n\u001b[0;32m-> 1113\u001b[0;31m         \u001b[0;32mreturn\u001b[0m \u001b[0mself\u001b[0m\u001b[0;34m.\u001b[0m\u001b[0mobj\u001b[0m\u001b[0;34m.\u001b[0m\u001b[0mxs\u001b[0m\u001b[0;34m(\u001b[0m\u001b[0mlabel\u001b[0m\u001b[0;34m,\u001b[0m \u001b[0maxis\u001b[0m\u001b[0;34m=\u001b[0m\u001b[0maxis\u001b[0m\u001b[0;34m)\u001b[0m\u001b[0;34m\u001b[0m\u001b[0;34m\u001b[0m\u001b[0m\n\u001b[0m\u001b[1;32m   1114\u001b[0m \u001b[0;34m\u001b[0m\u001b[0m\n\u001b[1;32m   1115\u001b[0m     \u001b[0;32mdef\u001b[0m \u001b[0m_handle_lowerdim_multi_index_axis0\u001b[0m\u001b[0;34m(\u001b[0m\u001b[0mself\u001b[0m\u001b[0;34m,\u001b[0m \u001b[0mtup\u001b[0m\u001b[0;34m:\u001b[0m \u001b[0mtuple\u001b[0m\u001b[0;34m)\u001b[0m\u001b[0;34m:\u001b[0m\u001b[0;34m\u001b[0m\u001b[0;34m\u001b[0m\u001b[0m\n",
      "\u001b[0;32m~/opt/anaconda3/lib/python3.8/site-packages/pandas/core/generic.py\u001b[0m in \u001b[0;36mxs\u001b[0;34m(self, key, axis, level, drop_level)\u001b[0m\n\u001b[1;32m   3774\u001b[0m                 \u001b[0;32mraise\u001b[0m \u001b[0mTypeError\u001b[0m\u001b[0;34m(\u001b[0m\u001b[0;34mf\"Expected label or tuple of labels, got {key}\"\u001b[0m\u001b[0;34m)\u001b[0m \u001b[0;32mfrom\u001b[0m \u001b[0me\u001b[0m\u001b[0;34m\u001b[0m\u001b[0;34m\u001b[0m\u001b[0m\n\u001b[1;32m   3775\u001b[0m         \u001b[0;32melse\u001b[0m\u001b[0;34m:\u001b[0m\u001b[0;34m\u001b[0m\u001b[0;34m\u001b[0m\u001b[0m\n\u001b[0;32m-> 3776\u001b[0;31m             \u001b[0mloc\u001b[0m \u001b[0;34m=\u001b[0m \u001b[0mindex\u001b[0m\u001b[0;34m.\u001b[0m\u001b[0mget_loc\u001b[0m\u001b[0;34m(\u001b[0m\u001b[0mkey\u001b[0m\u001b[0;34m)\u001b[0m\u001b[0;34m\u001b[0m\u001b[0;34m\u001b[0m\u001b[0m\n\u001b[0m\u001b[1;32m   3777\u001b[0m \u001b[0;34m\u001b[0m\u001b[0m\n\u001b[1;32m   3778\u001b[0m             \u001b[0;32mif\u001b[0m \u001b[0misinstance\u001b[0m\u001b[0;34m(\u001b[0m\u001b[0mloc\u001b[0m\u001b[0;34m,\u001b[0m \u001b[0mnp\u001b[0m\u001b[0;34m.\u001b[0m\u001b[0mndarray\u001b[0m\u001b[0;34m)\u001b[0m\u001b[0;34m:\u001b[0m\u001b[0;34m\u001b[0m\u001b[0;34m\u001b[0m\u001b[0m\n",
      "\u001b[0;32m~/opt/anaconda3/lib/python3.8/site-packages/pandas/core/indexes/base.py\u001b[0m in \u001b[0;36mget_loc\u001b[0;34m(self, key, method, tolerance)\u001b[0m\n\u001b[1;32m   3359\u001b[0m             \u001b[0mcasted_key\u001b[0m \u001b[0;34m=\u001b[0m \u001b[0mself\u001b[0m\u001b[0;34m.\u001b[0m\u001b[0m_maybe_cast_indexer\u001b[0m\u001b[0;34m(\u001b[0m\u001b[0mkey\u001b[0m\u001b[0;34m)\u001b[0m\u001b[0;34m\u001b[0m\u001b[0;34m\u001b[0m\u001b[0m\n\u001b[1;32m   3360\u001b[0m             \u001b[0;32mtry\u001b[0m\u001b[0;34m:\u001b[0m\u001b[0;34m\u001b[0m\u001b[0;34m\u001b[0m\u001b[0m\n\u001b[0;32m-> 3361\u001b[0;31m                 \u001b[0;32mreturn\u001b[0m \u001b[0mself\u001b[0m\u001b[0;34m.\u001b[0m\u001b[0m_engine\u001b[0m\u001b[0;34m.\u001b[0m\u001b[0mget_loc\u001b[0m\u001b[0;34m(\u001b[0m\u001b[0mcasted_key\u001b[0m\u001b[0;34m)\u001b[0m\u001b[0;34m\u001b[0m\u001b[0;34m\u001b[0m\u001b[0m\n\u001b[0m\u001b[1;32m   3362\u001b[0m             \u001b[0;32mexcept\u001b[0m \u001b[0mKeyError\u001b[0m \u001b[0;32mas\u001b[0m \u001b[0merr\u001b[0m\u001b[0;34m:\u001b[0m\u001b[0;34m\u001b[0m\u001b[0;34m\u001b[0m\u001b[0m\n\u001b[1;32m   3363\u001b[0m                 \u001b[0;32mraise\u001b[0m \u001b[0mKeyError\u001b[0m\u001b[0;34m(\u001b[0m\u001b[0mkey\u001b[0m\u001b[0;34m)\u001b[0m \u001b[0;32mfrom\u001b[0m \u001b[0merr\u001b[0m\u001b[0;34m\u001b[0m\u001b[0;34m\u001b[0m\u001b[0m\n",
      "\u001b[0;31mKeyboardInterrupt\u001b[0m: "
     ]
    }
   ],
   "source": [
    "cohort2_remainder.mean_trend_count(rr = True)"
   ]
  },
  {
   "cell_type": "code",
   "execution_count": 6,
   "metadata": {},
   "outputs": [
    {
     "name": "stderr",
     "output_type": "stream",
     "text": [
      "RR0519 visit 1 failed: list index out of range\n",
      "RU2915 visit 1 failed: list index out of range\n"
     ]
    },
    {
     "name": "stdout",
     "output_type": "stream",
     "text": [
      "(0, 0, 0, 1)\n",
      "(0, 0, 0, 2)\n"
     ]
    },
    {
     "name": "stderr",
     "output_type": "stream",
     "text": [
      "RI0135 visit 1 failed: 'NoneType' object is not subscriptable\n"
     ]
    },
    {
     "name": "stdout",
     "output_type": "stream",
     "text": [
      "There is no blood pressure data available during the extubated period.\n",
      "(1, 1, 0, 3)\n"
     ]
    },
    {
     "name": "stderr",
     "output_type": "stream",
     "text": [
      "RZ2127 visit 1 failed: 'NoneType' object is not subscriptable\n",
      "RZ3315 visit 1 failed: 'NoneType' object is not subscriptable\n"
     ]
    },
    {
     "name": "stdout",
     "output_type": "stream",
     "text": [
      "There is no blood pressure data available during the extubated period.\n",
      "(3, 2, 3, 4)\n",
      "There is no blood pressure data available during the extubated period.\n",
      "(3, 2, 3, 5)\n"
     ]
    },
    {
     "name": "stderr",
     "output_type": "stream",
     "text": [
      "RT0368 visit 1 failed: 'NoneType' object is not subscriptable\n"
     ]
    },
    {
     "name": "stdout",
     "output_type": "stream",
     "text": [
      "There is no blood pressure data available during the extubated period.\n",
      "(3, 2, 4, 6)\n"
     ]
    },
    {
     "name": "stderr",
     "output_type": "stream",
     "text": [
      "RT0309 visit 1 failed: list index out of range\n"
     ]
    },
    {
     "name": "stdout",
     "output_type": "stream",
     "text": [
      "(3, 2, 5, 7)\n"
     ]
    },
    {
     "name": "stderr",
     "output_type": "stream",
     "text": [
      "RJ4031 visit 1 failed: list index out of range\n"
     ]
    },
    {
     "name": "stdout",
     "output_type": "stream",
     "text": [
      "(5, 7, 7, 8)\n"
     ]
    },
    {
     "name": "stderr",
     "output_type": "stream",
     "text": [
      "RC1943 visit 1 failed: float division by zero\n"
     ]
    },
    {
     "name": "stdout",
     "output_type": "stream",
     "text": [
      "(6, 7, 8, 9)\n"
     ]
    },
    {
     "name": "stderr",
     "output_type": "stream",
     "text": [
      "RX3317 visit 1 failed: 'NoneType' object is not subscriptable\n"
     ]
    },
    {
     "name": "stdout",
     "output_type": "stream",
     "text": [
      "There is no blood pressure data available during the extubated period.\n",
      "(8, 13, 9, 10)\n"
     ]
    },
    {
     "name": "stderr",
     "output_type": "stream",
     "text": [
      "RE1948 visit 1 failed: 'NoneType' object is not subscriptable\n",
      "RB0988 visit 1 failed: 'NoneType' object is not subscriptable\n"
     ]
    },
    {
     "name": "stdout",
     "output_type": "stream",
     "text": [
      "There is no blood pressure data available during the extubated period.\n",
      "(9, 16, 10, 11)\n",
      "There is no blood pressure data available during the extubated period.\n",
      "(9, 16, 10, 12)\n"
     ]
    },
    {
     "name": "stderr",
     "output_type": "stream",
     "text": [
      "RK2029 visit 1 failed: 'NoneType' object is not subscriptable\n"
     ]
    },
    {
     "name": "stdout",
     "output_type": "stream",
     "text": [
      "There is no blood pressure data available during the extubated period.\n",
      "(9, 16, 10, 13)\n"
     ]
    },
    {
     "name": "stderr",
     "output_type": "stream",
     "text": [
      "RL2037 visit 1 failed: 'NoneType' object is not subscriptable\n"
     ]
    },
    {
     "name": "stdout",
     "output_type": "stream",
     "text": [
      "There is no blood pressure data available during the extubated period.\n",
      "(11, 16, 12, 14)\n"
     ]
    },
    {
     "name": "stderr",
     "output_type": "stream",
     "text": [
      "RW2084 visit 1 failed: 'NoneType' object is not subscriptable\n",
      "RW3992 visit 1 failed: 'NoneType' object is not subscriptable\n",
      "RW2284 visit 1 failed: list index out of range\n"
     ]
    },
    {
     "name": "stdout",
     "output_type": "stream",
     "text": [
      "There is no blood pressure data available during the extubated period.\n",
      "(11, 16, 14, 15)\n",
      "There is no blood pressure data available during the extubated period.\n",
      "(11, 16, 14, 16)\n",
      "(11, 16, 14, 17)\n"
     ]
    },
    {
     "name": "stderr",
     "output_type": "stream",
     "text": [
      "UN3498 visit 1 failed: 'NoneType' object is not subscriptable\n"
     ]
    },
    {
     "name": "stdout",
     "output_type": "stream",
     "text": [
      "There is no blood pressure data available during the extubated period.\n",
      "(14, 21, 16, 18)\n"
     ]
    },
    {
     "name": "stderr",
     "output_type": "stream",
     "text": [
      "US1342 visit 1 failed: list index out of range\n"
     ]
    },
    {
     "name": "stdout",
     "output_type": "stream",
     "text": [
      "(16, 21, 17, 19)\n"
     ]
    },
    {
     "name": "stderr",
     "output_type": "stream",
     "text": [
      "US3515 visit 1 failed: list index out of range\n"
     ]
    },
    {
     "name": "stdout",
     "output_type": "stream",
     "text": [
      "(16, 23, 17, 20)\n"
     ]
    },
    {
     "name": "stderr",
     "output_type": "stream",
     "text": [
      "UA3527 visit 1 failed: 'NoneType' object is not subscriptable\n"
     ]
    },
    {
     "name": "stdout",
     "output_type": "stream",
     "text": [
      "There is no blood pressure data available during the extubated period.\n",
      "(16, 24, 17, 21)\n"
     ]
    },
    {
     "name": "stderr",
     "output_type": "stream",
     "text": [
      "UM0643 visit 1 failed: 'NoneType' object is not subscriptable\n"
     ]
    },
    {
     "name": "stdout",
     "output_type": "stream",
     "text": [
      "There is no blood pressure data available during the extubated period.\n",
      "(21, 29, 20, 22)\n"
     ]
    },
    {
     "name": "stderr",
     "output_type": "stream",
     "text": [
      "UM3280 visit 1 failed: list index out of range\n"
     ]
    },
    {
     "name": "stdout",
     "output_type": "stream",
     "text": [
      "(22, 29, 20, 23)\n"
     ]
    },
    {
     "name": "stderr",
     "output_type": "stream",
     "text": [
      "UM3008 visit 1 failed: 'NoneType' object is not subscriptable\n",
      "UM3452 visit 1 failed: list index out of range\n"
     ]
    },
    {
     "name": "stdout",
     "output_type": "stream",
     "text": [
      "There is no blood pressure data available during the extubated period.\n",
      "(22, 29, 21, 24)\n",
      "(22, 29, 21, 25)\n"
     ]
    },
    {
     "name": "stderr",
     "output_type": "stream",
     "text": [
      "UJ3013 visit 1 failed: float division by zero\n"
     ]
    },
    {
     "name": "stdout",
     "output_type": "stream",
     "text": [
      "(23, 29, 21, 26)\n"
     ]
    },
    {
     "name": "stderr",
     "output_type": "stream",
     "text": [
      "UJ2119 visit 1 failed: 'NoneType' object is not subscriptable\n"
     ]
    },
    {
     "name": "stdout",
     "output_type": "stream",
     "text": [
      "There is no blood pressure data available during the extubated period.\n",
      "(23, 29, 21, 27)\n"
     ]
    },
    {
     "name": "stderr",
     "output_type": "stream",
     "text": [
      "UE2674 visit 1 failed: 'NoneType' object is not subscriptable\n",
      "UE3639 visit 1 failed: 'NoneType' object is not subscriptable\n"
     ]
    },
    {
     "name": "stdout",
     "output_type": "stream",
     "text": [
      "There is no blood pressure data available during the extubated period.\n",
      "(25, 31, 23, 28)\n",
      "There is no blood pressure data available during the extubated period.\n",
      "(25, 31, 23, 29)\n"
     ]
    },
    {
     "name": "stderr",
     "output_type": "stream",
     "text": [
      "UE0528 visit 1 failed: 'NoneType' object is not subscriptable\n"
     ]
    },
    {
     "name": "stdout",
     "output_type": "stream",
     "text": [
      "There is no blood pressure data available during the extubated period.\n",
      "(25, 32, 24, 30)\n"
     ]
    },
    {
     "name": "stderr",
     "output_type": "stream",
     "text": [
      "UB1609 visit 1 failed: list index out of range\n",
      "UK1856 visit 1 failed: list index out of range\n",
      "UK3466 visit 1 failed: list index out of range\n"
     ]
    },
    {
     "name": "stdout",
     "output_type": "stream",
     "text": [
      "(25, 32, 26, 31)\n",
      "(25, 32, 26, 32)\n",
      "(25, 32, 26, 33)\n"
     ]
    },
    {
     "name": "stderr",
     "output_type": "stream",
     "text": [
      "UY1204 visit 1 failed: list index out of range\n"
     ]
    },
    {
     "name": "stdout",
     "output_type": "stream",
     "text": [
      "(27, 34, 26, 34)\n"
     ]
    },
    {
     "name": "stderr",
     "output_type": "stream",
     "text": [
      "UP2665 visit 1 failed: 'NoneType' object is not subscriptable\n"
     ]
    },
    {
     "name": "stdout",
     "output_type": "stream",
     "text": [
      "There is no blood pressure data available during the extubated period.\n",
      "(28, 36, 26, 35)\n"
     ]
    },
    {
     "name": "stderr",
     "output_type": "stream",
     "text": [
      "UP1314 visit 1 failed: 'NoneType' object is not subscriptable\n"
     ]
    },
    {
     "name": "stdout",
     "output_type": "stream",
     "text": [
      "There is no blood pressure data available during the extubated period.\n",
      "(28, 36, 27, 36)\n"
     ]
    },
    {
     "name": "stderr",
     "output_type": "stream",
     "text": [
      "IZ4102 visit 1 failed: list index out of range\n",
      "IT1073 visit 1 failed: list index out of range\n"
     ]
    },
    {
     "name": "stdout",
     "output_type": "stream",
     "text": [
      "(30, 41, 27, 37)\n",
      "(30, 41, 27, 38)\n"
     ]
    },
    {
     "name": "stderr",
     "output_type": "stream",
     "text": [
      "IO1916 visit 1 failed: 'NoneType' object is not subscriptable\n"
     ]
    },
    {
     "name": "stdout",
     "output_type": "stream",
     "text": [
      "There is no blood pressure data available during the extubated period.\n",
      "(33, 45, 29, 39)\n"
     ]
    },
    {
     "name": "stderr",
     "output_type": "stream",
     "text": [
      "IJ3901 visit 1 failed: 'NoneType' object is not subscriptable\n"
     ]
    },
    {
     "name": "stdout",
     "output_type": "stream",
     "text": [
      "There is no blood pressure data available during the extubated period.\n",
      "(33, 50, 30, 40)\n"
     ]
    },
    {
     "name": "stderr",
     "output_type": "stream",
     "text": [
      "IC3109 visit 1 failed: 'NoneType' object is not subscriptable\n"
     ]
    },
    {
     "name": "stdout",
     "output_type": "stream",
     "text": [
      "There is no blood pressure data available during the extubated period.\n",
      "(36, 52, 30, 41)\n"
     ]
    },
    {
     "name": "stderr",
     "output_type": "stream",
     "text": [
      "IC3709 visit 1 failed: list index out of range\n",
      "ID1125 visit 1 failed: 'NoneType' object is not subscriptable\n",
      "ID0698 visit 1 failed: list index out of range\n"
     ]
    },
    {
     "name": "stdout",
     "output_type": "stream",
     "text": [
      "(36, 53, 30, 42)\n",
      "There is no blood pressure data available during the extubated period.\n",
      "(36, 53, 30, 43)\n",
      "(36, 53, 30, 44)\n"
     ]
    },
    {
     "name": "stderr",
     "output_type": "stream",
     "text": [
      "IV3277 visit 1 failed: list index out of range\n"
     ]
    },
    {
     "name": "stdout",
     "output_type": "stream",
     "text": [
      "(36, 53, 31, 45)\n"
     ]
    },
    {
     "name": "stderr",
     "output_type": "stream",
     "text": [
      "IQ3266 visit 1 failed: 'NoneType' object is not subscriptable\n"
     ]
    },
    {
     "name": "stdout",
     "output_type": "stream",
     "text": [
      "There is no blood pressure data available during the extubated period.\n",
      "(36, 54, 31, 46)\n"
     ]
    },
    {
     "name": "stderr",
     "output_type": "stream",
     "text": [
      "IE1464 visit 1 failed: list index out of range\n"
     ]
    },
    {
     "name": "stdout",
     "output_type": "stream",
     "text": [
      "(37, 55, 32, 47)\n"
     ]
    },
    {
     "name": "stderr",
     "output_type": "stream",
     "text": [
      "IK2985 visit 1 failed: list index out of range\n"
     ]
    },
    {
     "name": "stdout",
     "output_type": "stream",
     "text": [
      "(37, 56, 35, 48)\n"
     ]
    },
    {
     "name": "stderr",
     "output_type": "stream",
     "text": [
      "IY2686 visit 1 failed: list index out of range\n"
     ]
    },
    {
     "name": "stdout",
     "output_type": "stream",
     "text": [
      "(37, 57, 35, 49)\n"
     ]
    },
    {
     "name": "stderr",
     "output_type": "stream",
     "text": [
      "IY3478 visit 1 failed: list index out of range\n"
     ]
    },
    {
     "name": "stdout",
     "output_type": "stream",
     "text": [
      "(37, 58, 35, 50)\n"
     ]
    },
    {
     "name": "stderr",
     "output_type": "stream",
     "text": [
      "IY3545 visit 1 failed: 'NoneType' object is not subscriptable\n",
      "IP3497 visit 1 failed: 'NoneType' object is not subscriptable\n"
     ]
    },
    {
     "name": "stdout",
     "output_type": "stream",
     "text": [
      "There is no blood pressure data available during the extubated period.\n",
      "(38, 58, 35, 51)\n",
      "There is no blood pressure data available during the extubated period.\n",
      "(38, 58, 35, 52)\n"
     ]
    },
    {
     "name": "stderr",
     "output_type": "stream",
     "text": [
      "IW1663 visit 1 failed: 'NoneType' object is not subscriptable\n"
     ]
    },
    {
     "name": "stdout",
     "output_type": "stream",
     "text": [
      "There is no blood pressure data available during the extubated period.\n",
      "(39, 60, 35, 53)\n"
     ]
    },
    {
     "name": "stderr",
     "output_type": "stream",
     "text": [
      "NR1208 visit 1 failed: float division by zero\n"
     ]
    },
    {
     "name": "stdout",
     "output_type": "stream",
     "text": [
      "(39, 61, 35, 54)\n"
     ]
    },
    {
     "name": "stderr",
     "output_type": "stream",
     "text": [
      "NU3183 visit 1 failed: 'NoneType' object is not subscriptable\n"
     ]
    },
    {
     "name": "stdout",
     "output_type": "stream",
     "text": [
      "There is no blood pressure data available during the extubated period.\n",
      "(39, 61, 36, 55)\n"
     ]
    },
    {
     "name": "stderr",
     "output_type": "stream",
     "text": [
      "NT2611 visit 1 failed: 'NoneType' object is not subscriptable\n"
     ]
    },
    {
     "name": "stdout",
     "output_type": "stream",
     "text": [
      "There is no blood pressure data available during the extubated period.\n",
      "(41, 65, 37, 56)\n"
     ]
    },
    {
     "name": "stderr",
     "output_type": "stream",
     "text": [
      "NF3332 visit 1 failed: list index out of range\n"
     ]
    },
    {
     "name": "stdout",
     "output_type": "stream",
     "text": [
      "(41, 66, 38, 57)\n"
     ]
    },
    {
     "name": "stderr",
     "output_type": "stream",
     "text": [
      "NF1576 visit 1 failed: 'NoneType' object is not subscriptable\n"
     ]
    },
    {
     "name": "stdout",
     "output_type": "stream",
     "text": [
      "There is no blood pressure data available during the extubated period.\n",
      "(42, 66, 39, 58)\n"
     ]
    },
    {
     "name": "stderr",
     "output_type": "stream",
     "text": [
      "NO0745 visit 1 failed: float division by zero\n"
     ]
    },
    {
     "name": "stdout",
     "output_type": "stream",
     "text": [
      "(43, 66, 39, 59)\n"
     ]
    },
    {
     "name": "stderr",
     "output_type": "stream",
     "text": [
      "NJ1555 visit 1 failed: 'NoneType' object is not subscriptable\n"
     ]
    },
    {
     "name": "stdout",
     "output_type": "stream",
     "text": [
      "There is no blood pressure data available during the extubated period.\n",
      "(44, 66, 42, 60)\n"
     ]
    },
    {
     "name": "stderr",
     "output_type": "stream",
     "text": [
      "NJ3690 visit 1 failed: 'NoneType' object is not subscriptable\n",
      "NJ3685 visit 1 failed: float division by zero\n",
      "NC3248 visit 1 failed: 'NoneType' object is not subscriptable\n"
     ]
    },
    {
     "name": "stdout",
     "output_type": "stream",
     "text": [
      "There is no blood pressure data available during the extubated period.\n",
      "(45, 67, 43, 61)\n",
      "(45, 67, 43, 62)\n",
      "There is no blood pressure data available during the extubated period.\n",
      "(45, 67, 43, 63)\n"
     ]
    },
    {
     "name": "stderr",
     "output_type": "stream",
     "text": [
      "NV0521 visit 1 failed: 'NoneType' object is not subscriptable\n"
     ]
    },
    {
     "name": "stdout",
     "output_type": "stream",
     "text": [
      "There is no blood pressure data available during the extubated period.\n",
      "(45, 70, 44, 64)\n"
     ]
    },
    {
     "name": "stderr",
     "output_type": "stream",
     "text": [
      "NV3668 visit 1 failed: 'NoneType' object is not subscriptable\n"
     ]
    },
    {
     "name": "stdout",
     "output_type": "stream",
     "text": [
      "There is no blood pressure data available during the extubated period.\n",
      "(46, 70, 44, 65)\n"
     ]
    },
    {
     "name": "stderr",
     "output_type": "stream",
     "text": [
      "NQ2638 visit 1 failed: 'NoneType' object is not subscriptable\n"
     ]
    },
    {
     "name": "stdout",
     "output_type": "stream",
     "text": [
      "There is no blood pressure data available during the extubated period.\n",
      "(46, 72, 44, 66)\n"
     ]
    },
    {
     "name": "stderr",
     "output_type": "stream",
     "text": [
      "NB1832 visit 1 failed: list index out of range\n"
     ]
    },
    {
     "name": "stdout",
     "output_type": "stream",
     "text": [
      "(48, 73, 44, 67)\n"
     ]
    },
    {
     "name": "stderr",
     "output_type": "stream",
     "text": [
      "NB0532 visit 1 failed: 'NoneType' object is not subscriptable\n",
      "NK2635 visit 1 failed: list index out of range\n",
      "NK2629 visit 1 failed: 'NoneType' object is not subscriptable\n"
     ]
    },
    {
     "name": "stdout",
     "output_type": "stream",
     "text": [
      "There is no blood pressure data available during the extubated period.\n",
      "(49, 74, 44, 68)\n",
      "(49, 74, 44, 69)\n",
      "There is no blood pressure data available during the extubated period.\n",
      "(49, 74, 44, 70)\n"
     ]
    },
    {
     "name": "stderr",
     "output_type": "stream",
     "text": [
      "NW1579 visit 1 failed: 'NoneType' object is not subscriptable\n"
     ]
    },
    {
     "name": "stdout",
     "output_type": "stream",
     "text": [
      "There is no blood pressure data available during the extubated period.\n",
      "(50, 77, 47, 71)\n"
     ]
    },
    {
     "name": "stderr",
     "output_type": "stream",
     "text": [
      "GU3635 visit 1 failed: 'NoneType' object is not subscriptable\n"
     ]
    },
    {
     "name": "stdout",
     "output_type": "stream",
     "text": [
      "There is no blood pressure data available during the extubated period.\n",
      "(51, 77, 47, 72)\n"
     ]
    },
    {
     "name": "stderr",
     "output_type": "stream",
     "text": [
      "GI3169 visit 1 failed: 'NoneType' object is not subscriptable\n",
      "GN2124 visit 1 failed: 'NoneType' object is not subscriptable\n"
     ]
    },
    {
     "name": "stdout",
     "output_type": "stream",
     "text": [
      "There is no blood pressure data available during the extubated period.\n",
      "(53, 78, 48, 73)\n",
      "There is no blood pressure data available during the extubated period.\n",
      "(53, 78, 48, 74)\n"
     ]
    },
    {
     "name": "stderr",
     "output_type": "stream",
     "text": [
      "GG3284 visit 1 failed: list index out of range\n"
     ]
    },
    {
     "name": "stdout",
     "output_type": "stream",
     "text": [
      "(53, 79, 48, 75)\n"
     ]
    },
    {
     "name": "stderr",
     "output_type": "stream",
     "text": [
      "GS3981 visit 1 failed: list index out of range\n"
     ]
    },
    {
     "name": "stdout",
     "output_type": "stream",
     "text": [
      "(56, 82, 48, 76)\n"
     ]
    },
    {
     "name": "stderr",
     "output_type": "stream",
     "text": [
      "GF3324 visit 1 failed: 'NoneType' object is not subscriptable\n"
     ]
    },
    {
     "name": "stdout",
     "output_type": "stream",
     "text": [
      "There is no blood pressure data available during the extubated period.\n",
      "(56, 82, 48, 77)\n"
     ]
    },
    {
     "name": "stderr",
     "output_type": "stream",
     "text": [
      "GC2921 visit 1 failed: 'NoneType' object is not subscriptable\n"
     ]
    },
    {
     "name": "stdout",
     "output_type": "stream",
     "text": [
      "There is no blood pressure data available during the extubated period.\n",
      "(61, 84, 50, 78)\n"
     ]
    },
    {
     "name": "stderr",
     "output_type": "stream",
     "text": [
      "GD3613 visit 1 failed: 'NoneType' object is not subscriptable\n",
      "GD3051 visit 1 failed: list index out of range\n"
     ]
    },
    {
     "name": "stdout",
     "output_type": "stream",
     "text": [
      "There is no blood pressure data available during the extubated period.\n",
      "(61, 86, 50, 79)\n",
      "(61, 86, 50, 80)\n"
     ]
    },
    {
     "name": "stderr",
     "output_type": "stream",
     "text": [
      "GV2526 visit 1 failed: list index out of range\n"
     ]
    },
    {
     "name": "stdout",
     "output_type": "stream",
     "text": [
      "(61, 87, 51, 81)\n"
     ]
    },
    {
     "name": "stderr",
     "output_type": "stream",
     "text": [
      "GX3384 visit 1 failed: 'NoneType' object is not subscriptable\n"
     ]
    },
    {
     "name": "stdout",
     "output_type": "stream",
     "text": [
      "There is no blood pressure data available during the extubated period.\n",
      "(62, 87, 52, 82)\n"
     ]
    },
    {
     "name": "stderr",
     "output_type": "stream",
     "text": [
      "GX2022 visit 1 failed: 'NoneType' object is not subscriptable\n",
      "GE0407 visit 1 failed: 'NoneType' object is not subscriptable\n"
     ]
    },
    {
     "name": "stdout",
     "output_type": "stream",
     "text": [
      "There is no blood pressure data available during the extubated period.\n",
      "(62, 88, 52, 83)\n",
      "There is no blood pressure data available during the extubated period.\n",
      "(62, 88, 52, 84)\n"
     ]
    },
    {
     "name": "stderr",
     "output_type": "stream",
     "text": [
      "GK3586 visit 1 failed: 'NoneType' object is not subscriptable\n"
     ]
    },
    {
     "name": "stdout",
     "output_type": "stream",
     "text": [
      "There is no blood pressure data available during the extubated period.\n",
      "(63, 89, 52, 85)\n"
     ]
    },
    {
     "name": "stderr",
     "output_type": "stream",
     "text": [
      "GW0170 visit 1 failed: 'NoneType' object is not subscriptable\n"
     ]
    },
    {
     "name": "stdout",
     "output_type": "stream",
     "text": [
      "There is no blood pressure data available during the extubated period.\n",
      "(63, 94, 54, 86)\n"
     ]
    },
    {
     "name": "stderr",
     "output_type": "stream",
     "text": [
      "ZG2343 visit 1 failed: 'NoneType' object is not subscriptable\n"
     ]
    },
    {
     "name": "stdout",
     "output_type": "stream",
     "text": [
      "There is no blood pressure data available during the extubated period.\n",
      "(63, 97, 56, 87)\n"
     ]
    },
    {
     "name": "stderr",
     "output_type": "stream",
     "text": [
      "ZG0432 visit 1 failed: 'NoneType' object is not subscriptable\n"
     ]
    },
    {
     "name": "stdout",
     "output_type": "stream",
     "text": [
      "There is no blood pressure data available during the extubated period.\n",
      "(64, 97, 56, 88)\n"
     ]
    },
    {
     "name": "stderr",
     "output_type": "stream",
     "text": [
      "ZS1353 visit 1 failed: 'NoneType' object is not subscriptable\n"
     ]
    },
    {
     "name": "stdout",
     "output_type": "stream",
     "text": [
      "There is no blood pressure data available during the extubated period.\n",
      "(66, 98, 56, 89)\n"
     ]
    },
    {
     "name": "stderr",
     "output_type": "stream",
     "text": [
      "ZF3608 visit 1 failed: 'NoneType' object is not subscriptable\n",
      "ZF2945 visit 1 failed: 'NoneType' object is not subscriptable\n"
     ]
    },
    {
     "name": "stdout",
     "output_type": "stream",
     "text": [
      "There is no blood pressure data available during the extubated period.\n",
      "(67, 100, 58, 90)\n",
      "There is no blood pressure data available during the extubated period.\n",
      "(67, 100, 58, 91)\n"
     ]
    },
    {
     "name": "stderr",
     "output_type": "stream",
     "text": [
      "ZO2262 visit 1 failed: 'NoneType' object is not subscriptable\n"
     ]
    },
    {
     "name": "stdout",
     "output_type": "stream",
     "text": [
      "There is no blood pressure data available during the extubated period.\n",
      "(67, 101, 58, 92)\n"
     ]
    },
    {
     "name": "stderr",
     "output_type": "stream",
     "text": [
      "ZM3146 visit 1 failed: float division by zero\n",
      "ZJ3533 visit 1 failed: float division by zero\n",
      "ZC0478 visit 1 failed: float division by zero\n"
     ]
    },
    {
     "name": "stdout",
     "output_type": "stream",
     "text": [
      "(68, 101, 58, 93)\n",
      "(68, 101, 58, 94)\n",
      "(68, 101, 58, 95)\n"
     ]
    },
    {
     "name": "stderr",
     "output_type": "stream",
     "text": [
      "ZD3505 visit 1 failed: 'NoneType' object is not subscriptable\n"
     ]
    },
    {
     "name": "stdout",
     "output_type": "stream",
     "text": [
      "There is no blood pressure data available during the extubated period.\n",
      "(68, 101, 58, 96)\n"
     ]
    },
    {
     "name": "stderr",
     "output_type": "stream",
     "text": [
      "ZV4114 visit 1 failed: list index out of range\n",
      "ZQ1945 visit 1 failed: list index out of range\n"
     ]
    },
    {
     "name": "stdout",
     "output_type": "stream",
     "text": [
      "(68, 102, 58, 97)\n",
      "(68, 102, 58, 98)\n"
     ]
    },
    {
     "name": "stderr",
     "output_type": "stream",
     "text": [
      "ZB2576 visit 1 failed: 'NoneType' object is not subscriptable\n"
     ]
    },
    {
     "name": "stdout",
     "output_type": "stream",
     "text": [
      "There is no blood pressure data available during the extubated period.\n",
      "(69, 102, 60, 99)\n"
     ]
    },
    {
     "name": "stderr",
     "output_type": "stream",
     "text": [
      "ZK0210 visit 1 failed: 'NoneType' object is not subscriptable\n",
      "ZK4076 visit 1 failed: list index out of range\n"
     ]
    },
    {
     "name": "stdout",
     "output_type": "stream",
     "text": [
      "There is no blood pressure data available during the extubated period.\n",
      "(69, 103, 61, 100)\n",
      "(69, 103, 61, 101)\n"
     ]
    },
    {
     "name": "stderr",
     "output_type": "stream",
     "text": [
      "ZL1090 visit 1 failed: 'NoneType' object is not subscriptable\n"
     ]
    },
    {
     "name": "stdout",
     "output_type": "stream",
     "text": [
      "There is no blood pressure data available during the extubated period.\n",
      "(69, 104, 61, 102)\n"
     ]
    },
    {
     "name": "stderr",
     "output_type": "stream",
     "text": [
      "ZY2892 visit 1 failed: 'NoneType' object is not subscriptable\n"
     ]
    },
    {
     "name": "stdout",
     "output_type": "stream",
     "text": [
      "There is no blood pressure data available during the extubated period.\n",
      "(69, 105, 61, 103)\n"
     ]
    },
    {
     "name": "stderr",
     "output_type": "stream",
     "text": [
      "ZP2767 visit 1 failed: 'NoneType' object is not subscriptable\n"
     ]
    },
    {
     "name": "stdout",
     "output_type": "stream",
     "text": [
      "There is no blood pressure data available during the extubated period.\n",
      "(69, 106, 61, 104)\n"
     ]
    },
    {
     "name": "stderr",
     "output_type": "stream",
     "text": [
      "ZW0516 visit 1 failed: float division by zero\n"
     ]
    },
    {
     "name": "stdout",
     "output_type": "stream",
     "text": [
      "(70, 107, 61, 105)\n"
     ]
    },
    {
     "name": "stderr",
     "output_type": "stream",
     "text": [
      "TR3044 visit 1 failed: 'NoneType' object is not subscriptable\n",
      "TU0726 visit 1 failed: 'NoneType' object is not subscriptable\n"
     ]
    },
    {
     "name": "stdout",
     "output_type": "stream",
     "text": [
      "There is no blood pressure data available during the extubated period.\n",
      "(72, 109, 62, 106)\n",
      "There is no blood pressure data available during the extubated period.\n",
      "(72, 109, 62, 107)\n"
     ]
    },
    {
     "name": "stderr",
     "output_type": "stream",
     "text": [
      "TA1678 visit 1 failed: 'NoneType' object is not subscriptable\n"
     ]
    },
    {
     "name": "stdout",
     "output_type": "stream",
     "text": [
      "There is no blood pressure data available during the extubated period.\n",
      "(74, 114, 65, 108)\n"
     ]
    },
    {
     "name": "stderr",
     "output_type": "stream",
     "text": [
      "TF3238 visit 1 failed: 'NoneType' object is not subscriptable\n"
     ]
    },
    {
     "name": "stdout",
     "output_type": "stream",
     "text": [
      "There is no blood pressure data available during the extubated period.\n",
      "(74, 114, 66, 109)\n"
     ]
    },
    {
     "name": "stderr",
     "output_type": "stream",
     "text": [
      "TH1976 visit 1 failed: 'NoneType' object is not subscriptable\n"
     ]
    },
    {
     "name": "stdout",
     "output_type": "stream",
     "text": [
      "There is no blood pressure data available during the extubated period.\n",
      "(75, 114, 66, 110)\n"
     ]
    },
    {
     "name": "stderr",
     "output_type": "stream",
     "text": [
      "TH3589 visit 1 failed: 'NoneType' object is not subscriptable\n"
     ]
    },
    {
     "name": "stdout",
     "output_type": "stream",
     "text": [
      "There is no blood pressure data available during the extubated period.\n",
      "(75, 115, 66, 111)\n"
     ]
    },
    {
     "name": "stderr",
     "output_type": "stream",
     "text": [
      "TM1148 visit 1 failed: 'NoneType' object is not subscriptable\n"
     ]
    },
    {
     "name": "stdout",
     "output_type": "stream",
     "text": [
      "There is no blood pressure data available during the extubated period.\n",
      "(76, 116, 66, 112)\n"
     ]
    },
    {
     "name": "stderr",
     "output_type": "stream",
     "text": [
      "TC1839 visit 1 failed: float division by zero\n"
     ]
    },
    {
     "name": "stdout",
     "output_type": "stream",
     "text": [
      "(76, 117, 67, 113)\n"
     ]
    },
    {
     "name": "stderr",
     "output_type": "stream",
     "text": [
      "TK1724 visit 1 failed: 'NoneType' object is not subscriptable\n"
     ]
    },
    {
     "name": "stdout",
     "output_type": "stream",
     "text": [
      "There is no blood pressure data available during the extubated period.\n",
      "(78, 123, 69, 114)\n"
     ]
    },
    {
     "name": "stderr",
     "output_type": "stream",
     "text": [
      "TL2860 visit 1 failed: 'NoneType' object is not subscriptable\n",
      "TY3304 visit 1 failed: list index out of range\n"
     ]
    },
    {
     "name": "stdout",
     "output_type": "stream",
     "text": [
      "There is no blood pressure data available during the extubated period.\n",
      "(78, 125, 69, 115)\n",
      "(78, 125, 69, 116)\n"
     ]
    },
    {
     "name": "stderr",
     "output_type": "stream",
     "text": [
      "TP4084 visit 1 failed: list index out of range\n"
     ]
    },
    {
     "name": "stdout",
     "output_type": "stream",
     "text": [
      "(79, 127, 71, 117)\n"
     ]
    },
    {
     "name": "stderr",
     "output_type": "stream",
     "text": [
      "TP3442 visit 1 failed: list index out of range\n",
      "TW3300 visit 1 failed: 'NoneType' object is not subscriptable\n",
      "SU2929 visit 1 failed: 'NoneType' object is not subscriptable\n",
      "SI3194 visit 1 failed: list index out of range\n",
      "SN3782 visit 1 failed: 'NoneType' object is not subscriptable\n",
      "SG4021 visit 1 failed: list index out of range\n"
     ]
    },
    {
     "name": "stdout",
     "output_type": "stream",
     "text": [
      "(79, 128, 71, 118)\n",
      "There is no blood pressure data available during the extubated period.\n",
      "(79, 128, 71, 119)\n",
      "There is no blood pressure data available during the extubated period.\n",
      "(79, 128, 71, 120)\n",
      "(79, 128, 71, 121)\n",
      "There is no blood pressure data available during the extubated period.\n",
      "(79, 128, 71, 122)\n",
      "(79, 128, 71, 123)\n"
     ]
    },
    {
     "name": "stderr",
     "output_type": "stream",
     "text": [
      "SG3094 visit 1 failed: 'NoneType' object is not subscriptable\n"
     ]
    },
    {
     "name": "stdout",
     "output_type": "stream",
     "text": [
      "There is no blood pressure data available during the extubated period.\n",
      "(79, 128, 72, 124)\n"
     ]
    },
    {
     "name": "stderr",
     "output_type": "stream",
     "text": [
      "SZ3712 visit 1 failed: 'NoneType' object is not subscriptable\n"
     ]
    },
    {
     "name": "stdout",
     "output_type": "stream",
     "text": [
      "There is no blood pressure data available during the extubated period.\n",
      "(79, 130, 72, 125)\n"
     ]
    },
    {
     "name": "stderr",
     "output_type": "stream",
     "text": [
      "ST3520 visit 1 failed: 'NoneType' object is not subscriptable\n"
     ]
    },
    {
     "name": "stdout",
     "output_type": "stream",
     "text": [
      "There is no blood pressure data available during the extubated period.\n",
      "(79, 130, 73, 126)\n"
     ]
    },
    {
     "name": "stderr",
     "output_type": "stream",
     "text": [
      "SA0106 visit 1 failed: 'NoneType' object is not subscriptable\n"
     ]
    },
    {
     "name": "stdout",
     "output_type": "stream",
     "text": [
      "There is no blood pressure data available during the extubated period.\n",
      "(79, 131, 73, 127)\n"
     ]
    },
    {
     "name": "stderr",
     "output_type": "stream",
     "text": [
      "SF3936 visit 1 failed: 'NoneType' object is not subscriptable\n"
     ]
    },
    {
     "name": "stdout",
     "output_type": "stream",
     "text": [
      "There is no blood pressure data available during the extubated period.\n",
      "(79, 132, 73, 128)\n"
     ]
    },
    {
     "name": "stderr",
     "output_type": "stream",
     "text": [
      "SF0266 visit 1 failed: 'NoneType' object is not subscriptable\n"
     ]
    },
    {
     "name": "stdout",
     "output_type": "stream",
     "text": [
      "There is no blood pressure data available during the extubated period.\n",
      "(79, 133, 73, 129)\n"
     ]
    },
    {
     "name": "stderr",
     "output_type": "stream",
     "text": [
      "SJ3250 visit 1 failed: list index out of range\n",
      "SC1669 visit 1 failed: float division by zero\n"
     ]
    },
    {
     "name": "stdout",
     "output_type": "stream",
     "text": [
      "(83, 134, 74, 130)\n",
      "(83, 134, 74, 131)\n"
     ]
    },
    {
     "name": "stderr",
     "output_type": "stream",
     "text": [
      "SD0899 visit 1 failed: 'NoneType' object is not subscriptable\n",
      "SD0624 visit 1 failed: float division by zero\n"
     ]
    },
    {
     "name": "stdout",
     "output_type": "stream",
     "text": [
      "There is no blood pressure data available during the extubated period.\n",
      "(83, 134, 74, 132)\n",
      "(83, 134, 74, 133)\n"
     ]
    },
    {
     "name": "stderr",
     "output_type": "stream",
     "text": [
      "SQ3401 visit 1 failed: float division by zero\n"
     ]
    },
    {
     "name": "stdout",
     "output_type": "stream",
     "text": [
      "(85, 136, 74, 134)\n"
     ]
    },
    {
     "name": "stderr",
     "output_type": "stream",
     "text": [
      "SQ0287 visit 1 failed: 'NoneType' object is not subscriptable\n"
     ]
    },
    {
     "name": "stdout",
     "output_type": "stream",
     "text": [
      "There is no blood pressure data available during the extubated period.\n",
      "(86, 138, 74, 135)\n"
     ]
    },
    {
     "name": "stderr",
     "output_type": "stream",
     "text": [
      "SE3816 visit 1 failed: 'NoneType' object is not subscriptable\n"
     ]
    },
    {
     "name": "stdout",
     "output_type": "stream",
     "text": [
      "There is no blood pressure data available during the extubated period.\n",
      "(88, 138, 75, 136)\n"
     ]
    },
    {
     "name": "stderr",
     "output_type": "stream",
     "text": [
      "SB2711 visit 1 failed: 'NoneType' object is not subscriptable\n"
     ]
    },
    {
     "name": "stdout",
     "output_type": "stream",
     "text": [
      "There is no blood pressure data available during the extubated period.\n",
      "(89, 139, 76, 137)\n"
     ]
    },
    {
     "name": "stderr",
     "output_type": "stream",
     "text": [
      "SY0409 visit 1 failed: float division by zero\n"
     ]
    },
    {
     "name": "stdout",
     "output_type": "stream",
     "text": [
      "(91, 141, 77, 138)\n"
     ]
    },
    {
     "name": "stderr",
     "output_type": "stream",
     "text": [
      "SY3048 visit 1 failed: 'NoneType' object is not subscriptable\n"
     ]
    },
    {
     "name": "stdout",
     "output_type": "stream",
     "text": [
      "There is no blood pressure data available during the extubated period.\n",
      "(92, 141, 79, 139)\n"
     ]
    },
    {
     "name": "stderr",
     "output_type": "stream",
     "text": [
      "SP3698 visit 1 failed: 'NoneType' object is not subscriptable\n"
     ]
    },
    {
     "name": "stdout",
     "output_type": "stream",
     "text": [
      "There is no blood pressure data available during the extubated period.\n",
      "(92, 141, 80, 140)\n"
     ]
    },
    {
     "name": "stderr",
     "output_type": "stream",
     "text": [
      "AR0209 visit 1 failed: 'NoneType' object is not subscriptable\n"
     ]
    },
    {
     "name": "stdout",
     "output_type": "stream",
     "text": [
      "There is no blood pressure data available during the extubated period.\n",
      "(93, 141, 80, 141)\n"
     ]
    },
    {
     "name": "stderr",
     "output_type": "stream",
     "text": [
      "AR1946 visit 1 failed: list index out of range\n",
      "AU0752 visit 1 failed: 'NoneType' object is not subscriptable\n",
      "AI2582 visit 1 failed: float division by zero\n"
     ]
    },
    {
     "name": "stdout",
     "output_type": "stream",
     "text": [
      "(95, 142, 80, 142)\n",
      "There is no blood pressure data available during the extubated period.\n",
      "(95, 142, 80, 143)\n",
      "(95, 142, 80, 144)\n"
     ]
    },
    {
     "name": "stderr",
     "output_type": "stream",
     "text": [
      "AN3278 visit 1 failed: list index out of range\n"
     ]
    },
    {
     "name": "stdout",
     "output_type": "stream",
     "text": [
      "(95, 143, 80, 145)\n"
     ]
    },
    {
     "name": "stderr",
     "output_type": "stream",
     "text": [
      "AN1830 visit 1 failed: float division by zero\n"
     ]
    },
    {
     "name": "stdout",
     "output_type": "stream",
     "text": [
      "(96, 143, 80, 146)\n"
     ]
    },
    {
     "name": "stderr",
     "output_type": "stream",
     "text": [
      "AZ1749 visit 1 failed: 'NoneType' object is not subscriptable\n"
     ]
    },
    {
     "name": "stdout",
     "output_type": "stream",
     "text": [
      "There is no blood pressure data available during the extubated period.\n",
      "(96, 146, 80, 147)\n"
     ]
    },
    {
     "name": "stderr",
     "output_type": "stream",
     "text": [
      "AA3219 visit 1 failed: 'NoneType' object is not subscriptable\n"
     ]
    },
    {
     "name": "stdout",
     "output_type": "stream",
     "text": [
      "There is no blood pressure data available during the extubated period.\n",
      "(96, 147, 81, 148)\n"
     ]
    },
    {
     "name": "stderr",
     "output_type": "stream",
     "text": [
      "AF0951 visit 1 failed: 'NoneType' object is not subscriptable\n"
     ]
    },
    {
     "name": "stdout",
     "output_type": "stream",
     "text": [
      "There is no blood pressure data available during the extubated period.\n",
      "(96, 149, 82, 149)\n"
     ]
    },
    {
     "name": "stderr",
     "output_type": "stream",
     "text": [
      "AH2759 visit 1 failed: float division by zero\n"
     ]
    },
    {
     "name": "stdout",
     "output_type": "stream",
     "text": [
      "(97, 150, 83, 150)\n"
     ]
    },
    {
     "name": "stderr",
     "output_type": "stream",
     "text": [
      "AC1846 visit 1 failed: list index out of range\n"
     ]
    },
    {
     "name": "stdout",
     "output_type": "stream",
     "text": [
      "(98, 153, 85, 151)\n"
     ]
    },
    {
     "name": "stderr",
     "output_type": "stream",
     "text": [
      "AD3256 visit 1 failed: list index out of range\n"
     ]
    },
    {
     "name": "stdout",
     "output_type": "stream",
     "text": [
      "(99, 154, 85, 152)\n"
     ]
    },
    {
     "name": "stderr",
     "output_type": "stream",
     "text": [
      "AD1926 visit 1 failed: 'NoneType' object is not subscriptable\n"
     ]
    },
    {
     "name": "stdout",
     "output_type": "stream",
     "text": [
      "There is no blood pressure data available during the extubated period.\n",
      "(99, 154, 85, 153)\n"
     ]
    },
    {
     "name": "stderr",
     "output_type": "stream",
     "text": [
      "AV3769 visit 1 failed: 'NoneType' object is not subscriptable\n"
     ]
    },
    {
     "name": "stdout",
     "output_type": "stream",
     "text": [
      "There is no blood pressure data available during the extubated period.\n",
      "(99, 157, 86, 154)\n"
     ]
    },
    {
     "name": "stderr",
     "output_type": "stream",
     "text": [
      "AX4020 visit 1 failed: list index out of range\n",
      "AX1597 visit 1 failed: 'NoneType' object is not subscriptable\n",
      "AE3741 visit 1 failed: 'NoneType' object is not subscriptable\n"
     ]
    },
    {
     "name": "stdout",
     "output_type": "stream",
     "text": [
      "(100, 159, 87, 155)\n",
      "There is no blood pressure data available during the extubated period.\n",
      "(100, 159, 87, 156)\n",
      "There is no blood pressure data available during the extubated period.\n",
      "(100, 159, 87, 157)\n"
     ]
    },
    {
     "name": "stderr",
     "output_type": "stream",
     "text": [
      "AL1386 visit 1 failed: 'NoneType' object is not subscriptable\n",
      "AY0834 visit 1 failed: float division by zero\n"
     ]
    },
    {
     "name": "stdout",
     "output_type": "stream",
     "text": [
      "There is no blood pressure data available during the extubated period.\n",
      "(104, 163, 87, 158)\n",
      "(104, 163, 87, 159)\n"
     ]
    },
    {
     "name": "stderr",
     "output_type": "stream",
     "text": [
      "AY0729 visit 1 failed: float division by zero\n"
     ]
    },
    {
     "name": "stdout",
     "output_type": "stream",
     "text": [
      "(104, 163, 88, 160)\n"
     ]
    },
    {
     "name": "stderr",
     "output_type": "stream",
     "text": [
      "AP1899 visit 1 failed: 'NoneType' object is not subscriptable\n"
     ]
    },
    {
     "name": "stdout",
     "output_type": "stream",
     "text": [
      "There is no blood pressure data available during the extubated period.\n",
      "(105, 163, 89, 161)\n"
     ]
    },
    {
     "name": "stderr",
     "output_type": "stream",
     "text": [
      "AW2590 visit 1 failed: list index out of range\n",
      "FR2990 visit 1 failed: float division by zero\n"
     ]
    },
    {
     "name": "stdout",
     "output_type": "stream",
     "text": [
      "(106, 163, 92, 162)\n",
      "(106, 163, 92, 163)\n"
     ]
    },
    {
     "name": "stderr",
     "output_type": "stream",
     "text": [
      "FN1641 visit 1 failed: list index out of range\n"
     ]
    },
    {
     "name": "stdout",
     "output_type": "stream",
     "text": [
      "(110, 165, 92, 164)\n"
     ]
    },
    {
     "name": "stderr",
     "output_type": "stream",
     "text": [
      "FZ0343 visit 1 failed: 'NoneType' object is not subscriptable\n"
     ]
    },
    {
     "name": "stdout",
     "output_type": "stream",
     "text": [
      "There is no blood pressure data available during the extubated period.\n",
      "(110, 167, 92, 165)\n"
     ]
    },
    {
     "name": "stderr",
     "output_type": "stream",
     "text": [
      "FT0803 visit 1 failed: float division by zero\n",
      "FS1054 visit 1 failed: list index out of range\n",
      "FA1656 visit 1 failed: 'NoneType' object is not subscriptable\n"
     ]
    },
    {
     "name": "stdout",
     "output_type": "stream",
     "text": [
      "(111, 168, 92, 166)\n",
      "(111, 168, 92, 167)\n",
      "There is no blood pressure data available during the extubated period.\n",
      "(111, 168, 92, 168)\n"
     ]
    },
    {
     "name": "stderr",
     "output_type": "stream",
     "text": [
      "FF1433 visit 1 failed: float division by zero\n"
     ]
    },
    {
     "name": "stdout",
     "output_type": "stream",
     "text": [
      "(111, 168, 92, 169)\n"
     ]
    },
    {
     "name": "stderr",
     "output_type": "stream",
     "text": [
      "FH2482 visit 1 failed: 'NoneType' object is not subscriptable\n"
     ]
    },
    {
     "name": "stdout",
     "output_type": "stream",
     "text": [
      "There is no blood pressure data available during the extubated period.\n",
      "(113, 172, 93, 170)\n"
     ]
    },
    {
     "name": "stderr",
     "output_type": "stream",
     "text": [
      "FH0864 visit 1 failed: list index out of range\n"
     ]
    },
    {
     "name": "stdout",
     "output_type": "stream",
     "text": [
      "(113, 173, 93, 171)\n"
     ]
    },
    {
     "name": "stderr",
     "output_type": "stream",
     "text": [
      "FJ2987 visit 1 failed: 'NoneType' object is not subscriptable\n"
     ]
    },
    {
     "name": "stdout",
     "output_type": "stream",
     "text": [
      "There is no blood pressure data available during the extubated period.\n",
      "(115, 173, 94, 172)\n"
     ]
    },
    {
     "name": "stderr",
     "output_type": "stream",
     "text": [
      "FQ1610 visit 1 failed: 'NoneType' object is not subscriptable\n"
     ]
    },
    {
     "name": "stdout",
     "output_type": "stream",
     "text": [
      "There is no blood pressure data available during the extubated period.\n",
      "(118, 176, 95, 173)\n"
     ]
    },
    {
     "name": "stderr",
     "output_type": "stream",
     "text": [
      "FX2747 visit 1 failed: 'NoneType' object is not subscriptable\n",
      "FE1630 visit 1 failed: 'NoneType' object is not subscriptable\n"
     ]
    },
    {
     "name": "stdout",
     "output_type": "stream",
     "text": [
      "There is no blood pressure data available during the extubated period.\n",
      "(120, 177, 96, 174)\n",
      "There is no blood pressure data available during the extubated period.\n",
      "(120, 177, 96, 175)\n"
     ]
    },
    {
     "name": "stderr",
     "output_type": "stream",
     "text": [
      "FB3378 visit 1 failed: 'NoneType' object is not subscriptable\n"
     ]
    },
    {
     "name": "stdout",
     "output_type": "stream",
     "text": [
      "There is no blood pressure data available during the extubated period.\n",
      "(120, 179, 97, 176)\n"
     ]
    },
    {
     "name": "stderr",
     "output_type": "stream",
     "text": [
      "FB1791 visit 1 failed: 'NoneType' object is not subscriptable\n",
      "FB0448 visit 1 failed: float division by zero\n"
     ]
    },
    {
     "name": "stdout",
     "output_type": "stream",
     "text": [
      "There is no blood pressure data available during the extubated period.\n",
      "(120, 179, 97, 177)\n",
      "(120, 179, 97, 178)\n"
     ]
    },
    {
     "name": "stderr",
     "output_type": "stream",
     "text": [
      "FK0896 visit 1 failed: 'NoneType' object is not subscriptable\n",
      "FL1153 visit 1 failed: 'NoneType' object is not subscriptable\n",
      "FY1319 visit 1 failed: 'NoneType' object is not subscriptable\n"
     ]
    },
    {
     "name": "stdout",
     "output_type": "stream",
     "text": [
      "There is no blood pressure data available during the extubated period.\n",
      "(120, 180, 97, 179)\n",
      "There is no blood pressure data available during the extubated period.\n",
      "(121, 180, 97, 180)\n",
      "There is no blood pressure data available during the extubated period.\n",
      "(121, 180, 97, 181)\n"
     ]
    },
    {
     "name": "stderr",
     "output_type": "stream",
     "text": [
      "FW1169 visit 1 failed: list index out of range\n"
     ]
    },
    {
     "name": "stdout",
     "output_type": "stream",
     "text": [
      "(122, 180, 97, 182)\n"
     ]
    },
    {
     "name": "stderr",
     "output_type": "stream",
     "text": [
      "OU2954 visit 1 failed: float division by zero\n"
     ]
    },
    {
     "name": "stdout",
     "output_type": "stream",
     "text": [
      "(123, 181, 97, 183)\n"
     ]
    },
    {
     "name": "stderr",
     "output_type": "stream",
     "text": [
      "OI3222 visit 1 failed: 'NoneType' object is not subscriptable\n"
     ]
    },
    {
     "name": "stdout",
     "output_type": "stream",
     "text": [
      "There is no blood pressure data available during the extubated period.\n",
      "(123, 182, 97, 184)\n"
     ]
    },
    {
     "name": "stderr",
     "output_type": "stream",
     "text": [
      "ON0712 visit 1 failed: 'NoneType' object is not subscriptable\n",
      "OG1572 visit 1 failed: 'NoneType' object is not subscriptable\n"
     ]
    },
    {
     "name": "stdout",
     "output_type": "stream",
     "text": [
      "There is no blood pressure data available during the extubated period.\n",
      "(124, 183, 97, 185)\n",
      "There is no blood pressure data available during the extubated period.\n",
      "(124, 183, 97, 186)\n"
     ]
    },
    {
     "name": "stderr",
     "output_type": "stream",
     "text": [
      "OG2289 visit 1 failed: float division by zero\n"
     ]
    },
    {
     "name": "stdout",
     "output_type": "stream",
     "text": [
      "(124, 184, 97, 187)\n"
     ]
    },
    {
     "name": "stderr",
     "output_type": "stream",
     "text": [
      "OS3035 visit 1 failed: 'NoneType' object is not subscriptable\n"
     ]
    },
    {
     "name": "stdout",
     "output_type": "stream",
     "text": [
      "There is no blood pressure data available during the extubated period.\n",
      "(125, 184, 97, 188)\n"
     ]
    },
    {
     "name": "stderr",
     "output_type": "stream",
     "text": [
      "OO2812 visit 1 failed: float division by zero\n"
     ]
    },
    {
     "name": "stdout",
     "output_type": "stream",
     "text": [
      "(127, 185, 97, 189)\n"
     ]
    },
    {
     "name": "stderr",
     "output_type": "stream",
     "text": [
      "OM3226 visit 1 failed: float division by zero\n",
      "OJ2281 visit 1 failed: 'NoneType' object is not subscriptable\n"
     ]
    },
    {
     "name": "stdout",
     "output_type": "stream",
     "text": [
      "(127, 186, 98, 190)\n",
      "There is no blood pressure data available during the extubated period.\n",
      "(127, 186, 98, 191)\n"
     ]
    },
    {
     "name": "stderr",
     "output_type": "stream",
     "text": [
      "OD3985 visit 1 failed: 'NoneType' object is not subscriptable\n"
     ]
    },
    {
     "name": "stdout",
     "output_type": "stream",
     "text": [
      "There is no blood pressure data available during the extubated period.\n",
      "(129, 189, 99, 192)\n"
     ]
    },
    {
     "name": "stderr",
     "output_type": "stream",
     "text": [
      "OV3971 visit 1 failed: 'NoneType' object is not subscriptable\n",
      "OQ4006 visit 1 failed: list index out of range\n",
      "OQ3060 visit 1 failed: 'NoneType' object is not subscriptable\n"
     ]
    },
    {
     "name": "stdout",
     "output_type": "stream",
     "text": [
      "There is no blood pressure data available during the extubated period.\n",
      "(129, 190, 99, 193)\n",
      "(129, 190, 99, 194)\n",
      "There is no blood pressure data available during the extubated period.\n",
      "(129, 190, 99, 195)\n"
     ]
    },
    {
     "name": "stderr",
     "output_type": "stream",
     "text": [
      "OE1168 visit 1 failed: 'NoneType' object is not subscriptable\n",
      "OB1141 visit 1 failed: 'NoneType' object is not subscriptable\n"
     ]
    },
    {
     "name": "stdout",
     "output_type": "stream",
     "text": [
      "There is no blood pressure data available during the extubated period.\n",
      "(130, 192, 99, 196)\n",
      "There is no blood pressure data available during the extubated period.\n",
      "(130, 192, 99, 197)\n"
     ]
    },
    {
     "name": "stderr",
     "output_type": "stream",
     "text": [
      "OL1730 visit 1 failed: 'NoneType' object is not subscriptable\n"
     ]
    },
    {
     "name": "stdout",
     "output_type": "stream",
     "text": [
      "There is no blood pressure data available during the extubated period.\n",
      "(130, 193, 100, 198)\n"
     ]
    },
    {
     "name": "stderr",
     "output_type": "stream",
     "text": [
      "OY3282 visit 1 failed: 'NoneType' object is not subscriptable\n"
     ]
    },
    {
     "name": "stdout",
     "output_type": "stream",
     "text": [
      "There is no blood pressure data available during the extubated period.\n",
      "(130, 194, 100, 199)\n"
     ]
    },
    {
     "name": "stderr",
     "output_type": "stream",
     "text": [
      "OW3722 visit 1 failed: 'NoneType' object is not subscriptable\n"
     ]
    },
    {
     "name": "stdout",
     "output_type": "stream",
     "text": [
      "There is no blood pressure data available during the extubated period.\n",
      "(130, 195, 100, 200)\n"
     ]
    },
    {
     "name": "stderr",
     "output_type": "stream",
     "text": [
      "HU4019 visit 1 failed: list index out of range\n"
     ]
    },
    {
     "name": "stdout",
     "output_type": "stream",
     "text": [
      "(131, 195, 100, 201)\n"
     ]
    },
    {
     "name": "stderr",
     "output_type": "stream",
     "text": [
      "HN0978 visit 1 failed: 'NoneType' object is not subscriptable\n",
      "HN3253 visit 1 failed: float division by zero\n"
     ]
    },
    {
     "name": "stdout",
     "output_type": "stream",
     "text": [
      "There is no blood pressure data available during the extubated period.\n",
      "(131, 196, 102, 202)\n",
      "(131, 196, 102, 203)\n"
     ]
    },
    {
     "name": "stderr",
     "output_type": "stream",
     "text": [
      "HG2720 visit 1 failed: 'NoneType' object is not subscriptable\n"
     ]
    },
    {
     "name": "stdout",
     "output_type": "stream",
     "text": [
      "There is no blood pressure data available during the extubated period.\n",
      "(131, 196, 102, 204)\n"
     ]
    },
    {
     "name": "stderr",
     "output_type": "stream",
     "text": [
      "HA1706 visit 1 failed: list index out of range\n"
     ]
    },
    {
     "name": "stdout",
     "output_type": "stream",
     "text": [
      "(134, 199, 102, 205)\n"
     ]
    },
    {
     "name": "stderr",
     "output_type": "stream",
     "text": [
      "HF2005 visit 1 failed: float division by zero\n"
     ]
    },
    {
     "name": "stdout",
     "output_type": "stream",
     "text": [
      "(134, 203, 103, 206)\n"
     ]
    },
    {
     "name": "stderr",
     "output_type": "stream",
     "text": [
      "HF1183 visit 1 failed: 'NoneType' object is not subscriptable\n",
      "HO2693 visit 1 failed: list index out of range\n"
     ]
    },
    {
     "name": "stdout",
     "output_type": "stream",
     "text": [
      "There is no blood pressure data available during the extubated period.\n",
      "(134, 203, 104, 207)\n",
      "(134, 203, 104, 208)\n"
     ]
    },
    {
     "name": "stderr",
     "output_type": "stream",
     "text": [
      "/Users/lucindakhalil/opt/anaconda3/lib/python3.8/site-packages/pymannkendall/pymannkendall.py:60: RuntimeWarning: invalid value encountered in true_divide\n",
      "  return acov[:nlags+1]/acov[0]\n",
      "HH3554 visit 1 failed: division by zero\n",
      "HH4091 visit 1 failed: list index out of range\n"
     ]
    },
    {
     "name": "stdout",
     "output_type": "stream",
     "text": [
      "(135, 205, 104, 209)\n",
      "(135, 205, 104, 210)\n"
     ]
    },
    {
     "name": "stderr",
     "output_type": "stream",
     "text": [
      "HM3001 visit 1 failed: 'NoneType' object is not subscriptable\n"
     ]
    },
    {
     "name": "stdout",
     "output_type": "stream",
     "text": [
      "There is no blood pressure data available during the extubated period.\n",
      "(135, 205, 105, 211)\n"
     ]
    },
    {
     "name": "stderr",
     "output_type": "stream",
     "text": [
      "HD0846 visit 1 failed: list index out of range\n",
      "HV2515 visit 1 failed: 'NoneType' object is not subscriptable\n",
      "HV1814 visit 1 failed: list index out of range\n"
     ]
    },
    {
     "name": "stdout",
     "output_type": "stream",
     "text": [
      "(138, 208, 106, 212)\n",
      "There is no blood pressure data available during the extubated period.\n",
      "(138, 208, 106, 213)\n",
      "(138, 208, 106, 214)\n"
     ]
    },
    {
     "name": "stderr",
     "output_type": "stream",
     "text": [
      "HX0093 visit 1 failed: 'NoneType' object is not subscriptable\n",
      "HX1163 visit 1 failed: 'NoneType' object is not subscriptable\n"
     ]
    },
    {
     "name": "stdout",
     "output_type": "stream",
     "text": [
      "There is no blood pressure data available during the extubated period.\n",
      "(138, 208, 107, 215)\n",
      "There is no blood pressure data available during the extubated period.\n",
      "(138, 208, 107, 216)\n"
     ]
    },
    {
     "name": "stderr",
     "output_type": "stream",
     "text": [
      "HK4117 visit 1 failed: 'NoneType' object is not subscriptable\n",
      "HL0720 visit 1 failed: float division by zero\n"
     ]
    },
    {
     "name": "stdout",
     "output_type": "stream",
     "text": [
      "There is no blood pressure data available during the extubated period.\n",
      "(139, 209, 110, 217)\n",
      "(139, 209, 110, 218)\n"
     ]
    },
    {
     "name": "stderr",
     "output_type": "stream",
     "text": [
      "HW1171 visit 1 failed: 'NoneType' object is not subscriptable\n"
     ]
    },
    {
     "name": "stdout",
     "output_type": "stream",
     "text": [
      "There is no blood pressure data available during the extubated period.\n",
      "(140, 210, 111, 219)\n"
     ]
    },
    {
     "name": "stderr",
     "output_type": "stream",
     "text": [
      "MU3616 visit 1 failed: list index out of range\n"
     ]
    },
    {
     "name": "stdout",
     "output_type": "stream",
     "text": [
      "(141, 211, 112, 220)\n"
     ]
    },
    {
     "name": "stderr",
     "output_type": "stream",
     "text": [
      "MI3404 visit 1 failed: 'NoneType' object is not subscriptable\n",
      "MN1694 visit 1 failed: list index out of range\n"
     ]
    },
    {
     "name": "stdout",
     "output_type": "stream",
     "text": [
      "There is no blood pressure data available during the extubated period.\n",
      "(141, 212, 113, 221)\n",
      "(141, 212, 113, 222)\n"
     ]
    },
    {
     "name": "stderr",
     "output_type": "stream",
     "text": [
      "MZ3011 visit 1 failed: 'NoneType' object is not subscriptable\n"
     ]
    },
    {
     "name": "stdout",
     "output_type": "stream",
     "text": [
      "There is no blood pressure data available during the extubated period.\n",
      "(143, 213, 115, 223)\n"
     ]
    },
    {
     "name": "stderr",
     "output_type": "stream",
     "text": [
      "MF2056 visit 1 failed: 'NoneType' object is not subscriptable\n",
      "MF2044 visit 1 failed: list index out of range\n"
     ]
    },
    {
     "name": "stdout",
     "output_type": "stream",
     "text": [
      "There is no blood pressure data available during the extubated period.\n",
      "(145, 214, 116, 224)\n",
      "(145, 214, 116, 225)\n"
     ]
    },
    {
     "name": "stderr",
     "output_type": "stream",
     "text": [
      "MO0621 visit 1 failed: 'NoneType' object is not subscriptable\n",
      "MO0677 visit 1 failed: list index out of range\n"
     ]
    },
    {
     "name": "stdout",
     "output_type": "stream",
     "text": [
      "There is no blood pressure data available during the extubated period.\n",
      "(146, 215, 116, 226)\n",
      "(146, 215, 116, 227)\n"
     ]
    },
    {
     "name": "stderr",
     "output_type": "stream",
     "text": [
      "MM3974 visit 1 failed: 'NoneType' object is not subscriptable\n"
     ]
    },
    {
     "name": "stdout",
     "output_type": "stream",
     "text": [
      "There is no blood pressure data available during the extubated period.\n",
      "(148, 215, 116, 228)\n"
     ]
    },
    {
     "name": "stderr",
     "output_type": "stream",
     "text": [
      "MD3233 visit 1 failed: 'NoneType' object is not subscriptable\n",
      "MV3090 visit 1 failed: 'NoneType' object is not subscriptable\n"
     ]
    },
    {
     "name": "stdout",
     "output_type": "stream",
     "text": [
      "There is no blood pressure data available during the extubated period.\n",
      "(149, 216, 117, 229)\n",
      "There is no blood pressure data available during the extubated period.\n",
      "(149, 216, 117, 230)\n"
     ]
    },
    {
     "name": "stderr",
     "output_type": "stream",
     "text": [
      "MV3641 visit 1 failed: list index out of range\n"
     ]
    },
    {
     "name": "stdout",
     "output_type": "stream",
     "text": [
      "(150, 217, 117, 231)\n"
     ]
    },
    {
     "name": "stderr",
     "output_type": "stream",
     "text": [
      "MX3551 visit 1 failed: 'NoneType' object is not subscriptable\n"
     ]
    },
    {
     "name": "stdout",
     "output_type": "stream",
     "text": [
      "There is no blood pressure data available during the extubated period.\n",
      "(151, 217, 117, 232)\n"
     ]
    },
    {
     "name": "stderr",
     "output_type": "stream",
     "text": [
      "ME3825 visit 1 failed: 'NoneType' object is not subscriptable\n"
     ]
    },
    {
     "name": "stdout",
     "output_type": "stream",
     "text": [
      "There is no blood pressure data available during the extubated period.\n",
      "(152, 219, 118, 233)\n"
     ]
    },
    {
     "name": "stderr",
     "output_type": "stream",
     "text": [
      "MB1888 visit 1 failed: list index out of range\n"
     ]
    },
    {
     "name": "stdout",
     "output_type": "stream",
     "text": [
      "(152, 219, 119, 234)\n"
     ]
    },
    {
     "name": "stderr",
     "output_type": "stream",
     "text": [
      "MY3214 visit 1 failed: 'NoneType' object is not subscriptable\n"
     ]
    },
    {
     "name": "stdout",
     "output_type": "stream",
     "text": [
      "There is no blood pressure data available during the extubated period.\n",
      "(153, 220, 120, 235)\n"
     ]
    },
    {
     "name": "stderr",
     "output_type": "stream",
     "text": [
      "JR4079 visit 1 failed: list index out of range\n",
      "JR3896 visit 1 failed: float division by zero\n"
     ]
    },
    {
     "name": "stdout",
     "output_type": "stream",
     "text": [
      "(156, 223, 121, 236)\n",
      "(156, 223, 121, 237)\n"
     ]
    },
    {
     "name": "stderr",
     "output_type": "stream",
     "text": [
      "JI0536 visit 1 failed: float division by zero\n",
      "JN4074 visit 1 failed: 'NoneType' object is not subscriptable\n",
      "JG2427 visit 1 failed: float division by zero\n"
     ]
    },
    {
     "name": "stdout",
     "output_type": "stream",
     "text": [
      "(158, 224, 121, 238)\n",
      "There is no blood pressure data available during the extubated period.\n",
      "(158, 224, 121, 239)\n",
      "(158, 224, 121, 240)\n"
     ]
    },
    {
     "name": "stderr",
     "output_type": "stream",
     "text": [
      "JT2461 visit 1 failed: list index out of range\n"
     ]
    },
    {
     "name": "stdout",
     "output_type": "stream",
     "text": [
      "(160, 227, 122, 241)\n"
     ]
    },
    {
     "name": "stderr",
     "output_type": "stream",
     "text": [
      "JO0242 visit 1 failed: list index out of range\n",
      "JO3713 visit 1 failed: 'NoneType' object is not subscriptable\n"
     ]
    },
    {
     "name": "stdout",
     "output_type": "stream",
     "text": [
      "(162, 229, 123, 242)\n",
      "There is no blood pressure data available during the extubated period.\n",
      "(162, 229, 123, 243)\n"
     ]
    },
    {
     "name": "stderr",
     "output_type": "stream",
     "text": [
      "JJ3420 visit 1 failed: 'NoneType' object is not subscriptable\n"
     ]
    },
    {
     "name": "stdout",
     "output_type": "stream",
     "text": [
      "There is no blood pressure data available during the extubated period.\n",
      "(162, 232, 125, 244)\n"
     ]
    },
    {
     "name": "stderr",
     "output_type": "stream",
     "text": [
      "JC0572 visit 1 failed: list index out of range\n",
      "JC2069 visit 1 failed: 'NoneType' object is not subscriptable\n"
     ]
    },
    {
     "name": "stdout",
     "output_type": "stream",
     "text": [
      "(162, 234, 128, 245)\n",
      "There is no blood pressure data available during the extubated period.\n",
      "(162, 234, 128, 246)\n"
     ]
    },
    {
     "name": "stderr",
     "output_type": "stream",
     "text": [
      "JD0865 visit 1 failed: list index out of range\n"
     ]
    },
    {
     "name": "stdout",
     "output_type": "stream",
     "text": [
      "(163, 234, 128, 247)\n"
     ]
    },
    {
     "name": "stderr",
     "output_type": "stream",
     "text": [
      "JX1025 visit 1 failed: 'NoneType' object is not subscriptable\n",
      "JX3473 visit 1 failed: 'NoneType' object is not subscriptable\n"
     ]
    },
    {
     "name": "stdout",
     "output_type": "stream",
     "text": [
      "There is no blood pressure data available during the extubated period.\n",
      "(164, 239, 128, 248)\n",
      "There is no blood pressure data available during the extubated period.\n",
      "(164, 239, 128, 249)\n"
     ]
    },
    {
     "name": "stderr",
     "output_type": "stream",
     "text": [
      "JX2804 visit 1 failed: float division by zero\n"
     ]
    },
    {
     "name": "stdout",
     "output_type": "stream",
     "text": [
      "(165, 239, 128, 250)\n"
     ]
    },
    {
     "name": "stderr",
     "output_type": "stream",
     "text": [
      "JE2164 visit 1 failed: division by zero\n",
      "JE1818 visit 1 failed: list index out of range\n"
     ]
    },
    {
     "name": "stdout",
     "output_type": "stream",
     "text": [
      "(166, 239, 128, 251)\n",
      "(166, 239, 128, 252)\n"
     ]
    },
    {
     "name": "stderr",
     "output_type": "stream",
     "text": [
      "JL3664 visit 1 failed: 'NoneType' object is not subscriptable\n"
     ]
    },
    {
     "name": "stdout",
     "output_type": "stream",
     "text": [
      "There is no blood pressure data available during the extubated period.\n",
      "(168, 239, 128, 253)\n"
     ]
    },
    {
     "name": "stderr",
     "output_type": "stream",
     "text": [
      "JL1921 visit 1 failed: 'NoneType' object is not subscriptable\n"
     ]
    },
    {
     "name": "stdout",
     "output_type": "stream",
     "text": [
      "There is no blood pressure data available during the extubated period.\n",
      "(169, 239, 128, 254)\n"
     ]
    },
    {
     "name": "stderr",
     "output_type": "stream",
     "text": [
      "JY0954 visit 1 failed: 'NoneType' object is not subscriptable\n"
     ]
    },
    {
     "name": "stdout",
     "output_type": "stream",
     "text": [
      "There is no blood pressure data available during the extubated period.\n",
      "(169, 240, 128, 255)\n"
     ]
    },
    {
     "name": "stderr",
     "output_type": "stream",
     "text": [
      "JP1682 visit 1 failed: list index out of range\n"
     ]
    },
    {
     "name": "stdout",
     "output_type": "stream",
     "text": [
      "(169, 240, 130, 256)\n"
     ]
    },
    {
     "name": "stderr",
     "output_type": "stream",
     "text": [
      "JP2808 visit 1 failed: list index out of range\n"
     ]
    },
    {
     "name": "stdout",
     "output_type": "stream",
     "text": [
      "(169, 241, 130, 257)\n"
     ]
    },
    {
     "name": "stderr",
     "output_type": "stream",
     "text": [
      "JW1624 visit 1 failed: 'NoneType' object is not subscriptable\n"
     ]
    },
    {
     "name": "stdout",
     "output_type": "stream",
     "text": [
      "There is no blood pressure data available during the extubated period.\n",
      "(169, 241, 130, 258)\n"
     ]
    },
    {
     "name": "stderr",
     "output_type": "stream",
     "text": [
      "CR0945 visit 1 failed: list index out of range\n",
      "CU2107 visit 1 failed: 'NoneType' object is not subscriptable\n"
     ]
    },
    {
     "name": "stdout",
     "output_type": "stream",
     "text": [
      "(170, 241, 130, 259)\n",
      "There is no blood pressure data available during the extubated period.\n",
      "(170, 241, 130, 260)\n"
     ]
    },
    {
     "name": "stderr",
     "output_type": "stream",
     "text": [
      "CG3824 visit 1 failed: 'NoneType' object is not subscriptable\n",
      "CG1503 visit 1 failed: list index out of range\n",
      "CZ1981 visit 1 failed: float division by zero\n"
     ]
    },
    {
     "name": "stdout",
     "output_type": "stream",
     "text": [
      "There is no blood pressure data available during the extubated period.\n",
      "(171, 242, 132, 261)\n",
      "(171, 242, 132, 262)\n",
      "(171, 242, 132, 263)\n"
     ]
    },
    {
     "name": "stderr",
     "output_type": "stream",
     "text": [
      "CS3617 visit 1 failed: 'NoneType' object is not subscriptable\n"
     ]
    },
    {
     "name": "stdout",
     "output_type": "stream",
     "text": [
      "There is no blood pressure data available during the extubated period.\n",
      "(171, 242, 133, 264)\n"
     ]
    },
    {
     "name": "stderr",
     "output_type": "stream",
     "text": [
      "CM2697 visit 1 failed: 'NoneType' object is not subscriptable\n"
     ]
    },
    {
     "name": "stdout",
     "output_type": "stream",
     "text": [
      "There is no blood pressure data available during the extubated period.\n",
      "(175, 247, 136, 265)\n"
     ]
    },
    {
     "name": "stderr",
     "output_type": "stream",
     "text": [
      "CJ3402 visit 1 failed: 'NoneType' object is not subscriptable\n"
     ]
    },
    {
     "name": "stdout",
     "output_type": "stream",
     "text": [
      "There is no blood pressure data available during the extubated period.\n",
      "(175, 248, 137, 266)\n"
     ]
    },
    {
     "name": "stderr",
     "output_type": "stream",
     "text": [
      "CD2595 visit 1 failed: 'NoneType' object is not subscriptable\n",
      "CD3446 visit 1 failed: 'NoneType' object is not subscriptable\n"
     ]
    },
    {
     "name": "stdout",
     "output_type": "stream",
     "text": [
      "There is no blood pressure data available during the extubated period.\n",
      "(176, 248, 137, 267)\n",
      "There is no blood pressure data available during the extubated period.\n",
      "(176, 248, 137, 268)\n"
     ]
    },
    {
     "name": "stderr",
     "output_type": "stream",
     "text": [
      "CX2266 visit 1 failed: 'NoneType' object is not subscriptable\n"
     ]
    },
    {
     "name": "stdout",
     "output_type": "stream",
     "text": [
      "There is no blood pressure data available during the extubated period.\n",
      "(176, 252, 138, 269)\n"
     ]
    },
    {
     "name": "stderr",
     "output_type": "stream",
     "text": [
      "CY4113 visit 1 failed: 'NoneType' object is not subscriptable\n"
     ]
    },
    {
     "name": "stdout",
     "output_type": "stream",
     "text": [
      "There is no blood pressure data available during the extubated period.\n",
      "(180, 253, 140, 270)\n"
     ]
    },
    {
     "name": "stderr",
     "output_type": "stream",
     "text": [
      "CW1337 visit 1 failed: 'NoneType' object is not subscriptable\n",
      "CW3244 visit 1 failed: 'NoneType' object is not subscriptable\n"
     ]
    },
    {
     "name": "stdout",
     "output_type": "stream",
     "text": [
      "There is no blood pressure data available during the extubated period.\n",
      "(182, 254, 140, 271)\n",
      "There is no blood pressure data available during the extubated period.\n",
      "(182, 254, 140, 272)\n"
     ]
    },
    {
     "name": "stderr",
     "output_type": "stream",
     "text": [
      "DU0944 visit 1 failed: 'NoneType' object is not subscriptable\n"
     ]
    },
    {
     "name": "stdout",
     "output_type": "stream",
     "text": [
      "There is no blood pressure data available during the extubated period.\n",
      "(184, 255, 140, 273)\n"
     ]
    },
    {
     "name": "stderr",
     "output_type": "stream",
     "text": [
      "DI0128 visit 1 failed: 'NoneType' object is not subscriptable\n"
     ]
    },
    {
     "name": "stdout",
     "output_type": "stream",
     "text": [
      "There is no blood pressure data available during the extubated period.\n",
      "(185, 255, 141, 274)\n"
     ]
    },
    {
     "name": "stderr",
     "output_type": "stream",
     "text": [
      "DZ2516 visit 1 failed: 'NoneType' object is not subscriptable\n",
      "DZ1734 visit 1 failed: 'NoneType' object is not subscriptable\n",
      "DZ0633 visit 1 failed: 'NoneType' object is not subscriptable\n"
     ]
    },
    {
     "name": "stdout",
     "output_type": "stream",
     "text": [
      "There is no blood pressure data available during the extubated period.\n",
      "(186, 257, 141, 275)\n",
      "There is no blood pressure data available during the extubated period.\n",
      "(186, 257, 141, 276)\n",
      "There is no blood pressure data available during the extubated period.\n",
      "(186, 257, 141, 277)\n"
     ]
    },
    {
     "name": "stderr",
     "output_type": "stream",
     "text": [
      "DT3357 visit 1 failed: 'NoneType' object is not subscriptable\n"
     ]
    },
    {
     "name": "stdout",
     "output_type": "stream",
     "text": [
      "There is no blood pressure data available during the extubated period.\n",
      "(186, 257, 142, 278)\n"
     ]
    },
    {
     "name": "stderr",
     "output_type": "stream",
     "text": [
      "DA2137 visit 1 failed: 'NoneType' object is not subscriptable\n"
     ]
    },
    {
     "name": "stdout",
     "output_type": "stream",
     "text": [
      "There is no blood pressure data available during the extubated period.\n",
      "(186, 259, 142, 279)\n"
     ]
    },
    {
     "name": "stderr",
     "output_type": "stream",
     "text": [
      "DF3138 visit 1 failed: 'NoneType' object is not subscriptable\n"
     ]
    },
    {
     "name": "stdout",
     "output_type": "stream",
     "text": [
      "There is no blood pressure data available during the extubated period.\n",
      "(186, 260, 142, 280)\n"
     ]
    },
    {
     "name": "stderr",
     "output_type": "stream",
     "text": [
      "DO3364 visit 1 failed: list index out of range\n",
      "DO2406 visit 1 failed: 'NoneType' object is not subscriptable\n"
     ]
    },
    {
     "name": "stdout",
     "output_type": "stream",
     "text": [
      "(187, 261, 143, 281)\n",
      "There is no blood pressure data available during the extubated period.\n",
      "(187, 261, 143, 282)\n"
     ]
    },
    {
     "name": "stderr",
     "output_type": "stream",
     "text": [
      "DM2098 visit 1 failed: list index out of range\n"
     ]
    },
    {
     "name": "stdout",
     "output_type": "stream",
     "text": [
      "(187, 261, 144, 283)\n"
     ]
    },
    {
     "name": "stderr",
     "output_type": "stream",
     "text": [
      "DM1288 visit 1 failed: 'NoneType' object is not subscriptable\n",
      "DC4072 visit 1 failed: 'NoneType' object is not subscriptable\n",
      "DD2404 visit 1 failed: list index out of range\n"
     ]
    },
    {
     "name": "stdout",
     "output_type": "stream",
     "text": [
      "There is no blood pressure data available during the extubated period.\n",
      "(187, 261, 144, 284)\n",
      "There is no blood pressure data available during the extubated period.\n",
      "(187, 261, 144, 285)\n",
      "(187, 261, 144, 286)\n"
     ]
    },
    {
     "name": "stderr",
     "output_type": "stream",
     "text": [
      "DD2838 visit 1 failed: 'NoneType' object is not subscriptable\n",
      "DD3139 visit 1 failed: 'NoneType' object is not subscriptable\n",
      "DD3163 visit 1 failed: 'NoneType' object is not subscriptable\n"
     ]
    },
    {
     "name": "stdout",
     "output_type": "stream",
     "text": [
      "There is no blood pressure data available during the extubated period.\n",
      "(187, 261, 144, 287)\n",
      "There is no blood pressure data available during the extubated period.\n",
      "(187, 261, 144, 288)\n",
      "There is no blood pressure data available during the extubated period.\n",
      "(187, 261, 144, 289)\n"
     ]
    },
    {
     "name": "stderr",
     "output_type": "stream",
     "text": [
      "DQ1541 visit 1 failed: 'NoneType' object is not subscriptable\n",
      "DQ2273 visit 1 failed: 'NoneType' object is not subscriptable\n"
     ]
    },
    {
     "name": "stdout",
     "output_type": "stream",
     "text": [
      "There is no blood pressure data available during the extubated period.\n",
      "(187, 264, 145, 290)\n",
      "There is no blood pressure data available during the extubated period.\n",
      "(187, 264, 145, 291)\n"
     ]
    },
    {
     "name": "stderr",
     "output_type": "stream",
     "text": [
      "DX3720 visit 1 failed: 'NoneType' object is not subscriptable\n",
      "DE3684 visit 1 failed: list index out of range\n"
     ]
    },
    {
     "name": "stdout",
     "output_type": "stream",
     "text": [
      "There is no blood pressure data available during the extubated period.\n",
      "(188, 266, 145, 292)\n",
      "(188, 266, 145, 293)\n"
     ]
    },
    {
     "name": "stderr",
     "output_type": "stream",
     "text": [
      "DE3706 visit 1 failed: float division by zero\n"
     ]
    },
    {
     "name": "stdout",
     "output_type": "stream",
     "text": [
      "(189, 266, 145, 294)\n"
     ]
    },
    {
     "name": "stderr",
     "output_type": "stream",
     "text": [
      "DK2633 visit 1 failed: list index out of range\n"
     ]
    },
    {
     "name": "stdout",
     "output_type": "stream",
     "text": [
      "(191, 269, 145, 295)\n"
     ]
    },
    {
     "name": "stderr",
     "output_type": "stream",
     "text": [
      "DP2543 visit 1 failed: 'NoneType' object is not subscriptable\n",
      "DP2371 visit 1 failed: 'NoneType' object is not subscriptable\n",
      "DW1049 visit 1 failed: list index out of range\n"
     ]
    },
    {
     "name": "stdout",
     "output_type": "stream",
     "text": [
      "There is no blood pressure data available during the extubated period.\n",
      "(192, 271, 145, 296)\n",
      "There is no blood pressure data available during the extubated period.\n",
      "(192, 271, 145, 297)\n",
      "(192, 271, 145, 298)\n"
     ]
    },
    {
     "name": "stderr",
     "output_type": "stream",
     "text": [
      "VU2216 visit 1 failed: list index out of range\n"
     ]
    },
    {
     "name": "stdout",
     "output_type": "stream",
     "text": [
      "(194, 273, 146, 299)\n"
     ]
    },
    {
     "name": "stderr",
     "output_type": "stream",
     "text": [
      "VU0647 visit 1 failed: float division by zero\n"
     ]
    },
    {
     "name": "stdout",
     "output_type": "stream",
     "text": [
      "(194, 273, 147, 300)\n"
     ]
    },
    {
     "name": "stderr",
     "output_type": "stream",
     "text": [
      "VN4024 visit 1 failed: 'NoneType' object is not subscriptable\n"
     ]
    },
    {
     "name": "stdout",
     "output_type": "stream",
     "text": [
      "There is no blood pressure data available during the extubated period.\n",
      "(195, 275, 148, 301)\n"
     ]
    },
    {
     "name": "stderr",
     "output_type": "stream",
     "text": [
      "VT1843 visit 1 failed: 'NoneType' object is not subscriptable\n"
     ]
    },
    {
     "name": "stdout",
     "output_type": "stream",
     "text": [
      "There is no blood pressure data available during the extubated period.\n",
      "(197, 278, 148, 302)\n"
     ]
    },
    {
     "name": "stderr",
     "output_type": "stream",
     "text": [
      "VA2331 visit 1 failed: 'NoneType' object is not subscriptable\n",
      "VA1742 visit 1 failed: 'NoneType' object is not subscriptable\n"
     ]
    },
    {
     "name": "stdout",
     "output_type": "stream",
     "text": [
      "There is no blood pressure data available during the extubated period.\n",
      "(198, 280, 148, 303)\n",
      "There is no blood pressure data available during the extubated period.\n",
      "(198, 280, 148, 304)\n"
     ]
    },
    {
     "name": "stderr",
     "output_type": "stream",
     "text": [
      "VF2251 visit 1 failed: 'NoneType' object is not subscriptable\n"
     ]
    },
    {
     "name": "stdout",
     "output_type": "stream",
     "text": [
      "There is no blood pressure data available during the extubated period.\n",
      "(198, 280, 149, 305)\n"
     ]
    },
    {
     "name": "stderr",
     "output_type": "stream",
     "text": [
      "VM2705 visit 1 failed: 'NoneType' object is not subscriptable\n",
      "VJ3157 visit 1 failed: list index out of range\n"
     ]
    },
    {
     "name": "stdout",
     "output_type": "stream",
     "text": [
      "There is no blood pressure data available during the extubated period.\n",
      "(198, 282, 150, 306)\n",
      "(198, 282, 150, 307)\n"
     ]
    },
    {
     "name": "stderr",
     "output_type": "stream",
     "text": [
      "VV1257 visit 1 failed: 'NoneType' object is not subscriptable\n",
      "VV3912 visit 1 failed: float division by zero\n"
     ]
    },
    {
     "name": "stdout",
     "output_type": "stream",
     "text": [
      "There is no blood pressure data available during the extubated period.\n",
      "(199, 285, 150, 308)\n",
      "(199, 285, 150, 309)\n"
     ]
    },
    {
     "name": "stderr",
     "output_type": "stream",
     "text": [
      "VQ2949 visit 1 failed: 'NoneType' object is not subscriptable\n",
      "VQ3313 visit 1 failed: list index out of range\n",
      "VX3821 visit 1 failed: 'NoneType' object is not subscriptable\n"
     ]
    },
    {
     "name": "stdout",
     "output_type": "stream",
     "text": [
      "There is no blood pressure data available during the extubated period.\n",
      "(199, 286, 150, 310)\n",
      "(199, 286, 150, 311)\n",
      "There is no blood pressure data available during the extubated period.\n",
      "(199, 286, 150, 312)\n"
     ]
    },
    {
     "name": "stderr",
     "output_type": "stream",
     "text": [
      "VE3150 visit 1 failed: 'NoneType' object is not subscriptable\n",
      "VE1255 visit 1 failed: 'NoneType' object is not subscriptable\n",
      "VE4042 visit 1 failed: list index out of range\n"
     ]
    },
    {
     "name": "stdout",
     "output_type": "stream",
     "text": [
      "There is no blood pressure data available during the extubated period.\n",
      "(199, 286, 155, 313)\n",
      "There is no blood pressure data available during the extubated period.\n",
      "(199, 286, 155, 314)\n",
      "(199, 286, 155, 315)\n"
     ]
    },
    {
     "name": "stderr",
     "output_type": "stream",
     "text": [
      "VK3917 visit 1 failed: 'NoneType' object is not subscriptable\n",
      "VL3728 visit 1 failed: 'NoneType' object is not subscriptable\n"
     ]
    },
    {
     "name": "stdout",
     "output_type": "stream",
     "text": [
      "There is no blood pressure data available during the extubated period.\n",
      "(201, 286, 155, 316)\n",
      "There is no blood pressure data available during the extubated period.\n",
      "(201, 286, 155, 317)\n"
     ]
    },
    {
     "name": "stderr",
     "output_type": "stream",
     "text": [
      "VP3995 visit 1 failed: 'NoneType' object is not subscriptable\n"
     ]
    },
    {
     "name": "stdout",
     "output_type": "stream",
     "text": [
      "There is no blood pressure data available during the extubated period.\n",
      "(202, 287, 156, 318)\n"
     ]
    },
    {
     "name": "stderr",
     "output_type": "stream",
     "text": [
      "VW2869 visit 1 failed: float division by zero\n",
      "VW1487 visit 1 failed: float division by zero\n"
     ]
    },
    {
     "name": "stdout",
     "output_type": "stream",
     "text": [
      "(203, 288, 156, 319)\n",
      "(203, 288, 156, 320)\n"
     ]
    },
    {
     "name": "stderr",
     "output_type": "stream",
     "text": [
      "QR3000 visit 1 failed: 'NoneType' object is not subscriptable\n",
      "QU0772 visit 1 failed: list index out of range\n"
     ]
    },
    {
     "name": "stdout",
     "output_type": "stream",
     "text": [
      "There is no blood pressure data available during the extubated period.\n",
      "(203, 288, 158, 321)\n",
      "(203, 288, 158, 322)\n"
     ]
    },
    {
     "name": "stderr",
     "output_type": "stream",
     "text": [
      "QI3342 visit 1 failed: list index out of range\n"
     ]
    },
    {
     "name": "stdout",
     "output_type": "stream",
     "text": [
      "(203, 289, 158, 323)\n"
     ]
    },
    {
     "name": "stderr",
     "output_type": "stream",
     "text": [
      "QT2835 visit 1 failed: list index out of range\n"
     ]
    },
    {
     "name": "stdout",
     "output_type": "stream",
     "text": [
      "(205, 299, 159, 324)\n"
     ]
    },
    {
     "name": "stderr",
     "output_type": "stream",
     "text": [
      "QF0704 visit 1 failed: 'NoneType' object is not subscriptable\n"
     ]
    },
    {
     "name": "stdout",
     "output_type": "stream",
     "text": [
      "There is no blood pressure data available during the extubated period.\n",
      "(206, 299, 160, 325)\n"
     ]
    },
    {
     "name": "stderr",
     "output_type": "stream",
     "text": [
      "QJ3009 visit 1 failed: float division by zero\n"
     ]
    },
    {
     "name": "stdout",
     "output_type": "stream",
     "text": [
      "(206, 302, 161, 326)\n"
     ]
    },
    {
     "name": "stderr",
     "output_type": "stream",
     "text": [
      "QJ1559 visit 1 failed: list index out of range\n",
      "QC3326 visit 1 failed: list index out of range\n",
      "QD2469 visit 1 failed: list index out of range\n"
     ]
    },
    {
     "name": "stdout",
     "output_type": "stream",
     "text": [
      "(206, 303, 161, 327)\n",
      "(206, 303, 161, 328)\n",
      "(206, 303, 161, 329)\n"
     ]
    },
    {
     "name": "stderr",
     "output_type": "stream",
     "text": [
      "QV3251 visit 1 failed: list index out of range\n"
     ]
    },
    {
     "name": "stdout",
     "output_type": "stream",
     "text": [
      "(207, 304, 162, 330)\n"
     ]
    },
    {
     "name": "stderr",
     "output_type": "stream",
     "text": [
      "QX2620 visit 1 failed: 'NoneType' object is not subscriptable\n"
     ]
    },
    {
     "name": "stdout",
     "output_type": "stream",
     "text": [
      "There is no blood pressure data available during the extubated period.\n",
      "(207, 306, 164, 331)\n"
     ]
    },
    {
     "name": "stderr",
     "output_type": "stream",
     "text": [
      "QX2405 visit 1 failed: 'NoneType' object is not subscriptable\n"
     ]
    },
    {
     "name": "stdout",
     "output_type": "stream",
     "text": [
      "There is no blood pressure data available during the extubated period.\n",
      "(208, 307, 164, 332)\n"
     ]
    },
    {
     "name": "stderr",
     "output_type": "stream",
     "text": [
      "QL2883 visit 1 failed: 'NoneType' object is not subscriptable\n"
     ]
    },
    {
     "name": "stdout",
     "output_type": "stream",
     "text": [
      "There is no blood pressure data available during the extubated period.\n",
      "(209, 309, 166, 333)\n"
     ]
    },
    {
     "name": "stderr",
     "output_type": "stream",
     "text": [
      "QY3833 visit 1 failed: 'NoneType' object is not subscriptable\n"
     ]
    },
    {
     "name": "stdout",
     "output_type": "stream",
     "text": [
      "There is no blood pressure data available during the extubated period.\n",
      "(210, 309, 166, 334)\n"
     ]
    },
    {
     "name": "stderr",
     "output_type": "stream",
     "text": [
      "QY0842 visit 1 failed: list index out of range\n",
      "QP3576 visit 1 failed: list index out of range\n"
     ]
    },
    {
     "name": "stdout",
     "output_type": "stream",
     "text": [
      "(210, 311, 166, 335)\n",
      "(210, 311, 166, 336)\n"
     ]
    },
    {
     "name": "stderr",
     "output_type": "stream",
     "text": [
      "QP3369 visit 1 failed: list index out of range\n",
      "QW2329 visit 1 failed: 'NoneType' object is not subscriptable\n"
     ]
    },
    {
     "name": "stdout",
     "output_type": "stream",
     "text": [
      "(210, 311, 167, 337)\n",
      "There is no blood pressure data available during the extubated period.\n",
      "(210, 311, 167, 338)\n"
     ]
    },
    {
     "name": "stderr",
     "output_type": "stream",
     "text": [
      "QW1810 visit 1 failed: list index out of range\n"
     ]
    },
    {
     "name": "stdout",
     "output_type": "stream",
     "text": [
      "(210, 313, 167, 339)\n"
     ]
    },
    {
     "name": "stderr",
     "output_type": "stream",
     "text": [
      "XR1428 visit 1 failed: 'NoneType' object is not subscriptable\n"
     ]
    },
    {
     "name": "stdout",
     "output_type": "stream",
     "text": [
      "There is no blood pressure data available during the extubated period.\n",
      "(211, 313, 168, 340)\n"
     ]
    },
    {
     "name": "stderr",
     "output_type": "stream",
     "text": [
      "XU3692 visit 1 failed: 'NoneType' object is not subscriptable\n"
     ]
    },
    {
     "name": "stdout",
     "output_type": "stream",
     "text": [
      "There is no blood pressure data available during the extubated period.\n",
      "(211, 313, 169, 341)\n"
     ]
    },
    {
     "name": "stderr",
     "output_type": "stream",
     "text": [
      "XI0248 visit 1 failed: 'NoneType' object is not subscriptable\n"
     ]
    },
    {
     "name": "stdout",
     "output_type": "stream",
     "text": [
      "There is no blood pressure data available during the extubated period.\n",
      "(211, 314, 169, 342)\n"
     ]
    },
    {
     "name": "stderr",
     "output_type": "stream",
     "text": [
      "XN2935 visit 1 failed: float division by zero\n"
     ]
    },
    {
     "name": "stdout",
     "output_type": "stream",
     "text": [
      "(211, 314, 169, 343)\n"
     ]
    },
    {
     "name": "stderr",
     "output_type": "stream",
     "text": [
      "XZ0166 visit 1 failed: 'NoneType' object is not subscriptable\n",
      "XZ4092 visit 1 failed: list index out of range\n"
     ]
    },
    {
     "name": "stdout",
     "output_type": "stream",
     "text": [
      "There is no blood pressure data available during the extubated period.\n",
      "(212, 315, 170, 344)\n",
      "(212, 315, 170, 345)\n"
     ]
    },
    {
     "name": "stderr",
     "output_type": "stream",
     "text": [
      "XZ1733 visit 1 failed: 'NoneType' object is not subscriptable\n"
     ]
    },
    {
     "name": "stdout",
     "output_type": "stream",
     "text": [
      "There is no blood pressure data available during the extubated period.\n",
      "(212, 315, 170, 346)\n"
     ]
    },
    {
     "name": "stderr",
     "output_type": "stream",
     "text": [
      "XS2050 visit 1 failed: float division by zero\n"
     ]
    },
    {
     "name": "stdout",
     "output_type": "stream",
     "text": [
      "(214, 318, 170, 347)\n"
     ]
    },
    {
     "name": "stderr",
     "output_type": "stream",
     "text": [
      "XC1388 visit 1 failed: 'NoneType' object is not subscriptable\n"
     ]
    },
    {
     "name": "stdout",
     "output_type": "stream",
     "text": [
      "There is no blood pressure data available during the extubated period.\n",
      "(218, 322, 172, 348)\n"
     ]
    },
    {
     "name": "stderr",
     "output_type": "stream",
     "text": [
      "XD2914 visit 1 failed: 'NoneType' object is not subscriptable\n"
     ]
    },
    {
     "name": "stdout",
     "output_type": "stream",
     "text": [
      "There is no blood pressure data available during the extubated period.\n",
      "(218, 323, 172, 349)\n"
     ]
    },
    {
     "name": "stderr",
     "output_type": "stream",
     "text": [
      "XD1783 visit 1 failed: 'NoneType' object is not subscriptable\n"
     ]
    },
    {
     "name": "stdout",
     "output_type": "stream",
     "text": [
      "There is no blood pressure data available during the extubated period.\n",
      "(218, 325, 174, 350)\n"
     ]
    },
    {
     "name": "stderr",
     "output_type": "stream",
     "text": [
      "XQ1350 visit 1 failed: 'NoneType' object is not subscriptable\n",
      "XQ1938 visit 1 failed: 'NoneType' object is not subscriptable\n"
     ]
    },
    {
     "name": "stdout",
     "output_type": "stream",
     "text": [
      "There is no blood pressure data available during the extubated period.\n",
      "(219, 326, 175, 351)\n",
      "There is no blood pressure data available during the extubated period.\n",
      "(219, 326, 175, 352)\n"
     ]
    },
    {
     "name": "stderr",
     "output_type": "stream",
     "text": [
      "XQ0997 visit 1 failed: float division by zero\n"
     ]
    },
    {
     "name": "stdout",
     "output_type": "stream",
     "text": [
      "(219, 326, 175, 353)\n"
     ]
    },
    {
     "name": "stderr",
     "output_type": "stream",
     "text": [
      "XQ3812 visit 1 failed: 'NoneType' object is not subscriptable\n",
      "XX3614 visit 1 failed: 'NoneType' object is not subscriptable\n"
     ]
    },
    {
     "name": "stdout",
     "output_type": "stream",
     "text": [
      "There is no blood pressure data available during the extubated period.\n",
      "(219, 326, 176, 354)\n",
      "There is no blood pressure data available during the extubated period.\n",
      "(219, 326, 176, 355)\n"
     ]
    },
    {
     "name": "stderr",
     "output_type": "stream",
     "text": [
      "XX0468 visit 1 failed: 'NoneType' object is not subscriptable\n",
      "XE4045 visit 1 failed: 'NoneType' object is not subscriptable\n",
      "XE1578 visit 1 failed: 'NoneType' object is not subscriptable\n"
     ]
    },
    {
     "name": "stdout",
     "output_type": "stream",
     "text": [
      "There is no blood pressure data available during the extubated period.\n",
      "(219, 326, 176, 356)\n",
      "There is no blood pressure data available during the extubated period.\n",
      "(219, 326, 176, 357)\n",
      "There is no blood pressure data available during the extubated period.\n",
      "(219, 326, 176, 358)\n"
     ]
    },
    {
     "name": "stderr",
     "output_type": "stream",
     "text": [
      "XL2646 visit 1 failed: float division by zero\n"
     ]
    },
    {
     "name": "stdout",
     "output_type": "stream",
     "text": [
      "(220, 327, 176, 359)\n"
     ]
    },
    {
     "name": "stderr",
     "output_type": "stream",
     "text": [
      "XL1553 visit 1 failed: 'NoneType' object is not subscriptable\n",
      "XY2614 visit 1 failed: 'NoneType' object is not subscriptable\n"
     ]
    },
    {
     "name": "stdout",
     "output_type": "stream",
     "text": [
      "There is no blood pressure data available during the extubated period.\n",
      "(220, 328, 176, 360)\n",
      "There is no blood pressure data available during the extubated period.\n",
      "(220, 328, 176, 361)\n"
     ]
    },
    {
     "name": "stderr",
     "output_type": "stream",
     "text": [
      "XP3208 visit 1 failed: 'NoneType' object is not subscriptable\n"
     ]
    },
    {
     "name": "stdout",
     "output_type": "stream",
     "text": [
      "There is no blood pressure data available during the extubated period.\n",
      "(222, 330, 177, 362)\n"
     ]
    },
    {
     "name": "stderr",
     "output_type": "stream",
     "text": [
      "XW1297 visit 1 failed: float division by zero\n",
      "XW0782 visit 1 failed: list index out of range\n"
     ]
    },
    {
     "name": "stdout",
     "output_type": "stream",
     "text": [
      "(224, 330, 177, 363)\n",
      "(224, 330, 177, 364)\n"
     ]
    },
    {
     "name": "stderr",
     "output_type": "stream",
     "text": [
      "EN1451 visit 1 failed: list index out of range\n"
     ]
    },
    {
     "name": "stdout",
     "output_type": "stream",
     "text": [
      "(224, 333, 178, 365)\n"
     ]
    },
    {
     "name": "stderr",
     "output_type": "stream",
     "text": [
      "ET3027 visit 1 failed: list index out of range\n"
     ]
    },
    {
     "name": "stdout",
     "output_type": "stream",
     "text": [
      "(226, 333, 178, 366)\n"
     ]
    },
    {
     "name": "stderr",
     "output_type": "stream",
     "text": [
      "ES3776 visit 1 failed: 'NoneType' object is not subscriptable\n",
      "EA1186 visit 1 failed: list index out of range\n"
     ]
    },
    {
     "name": "stdout",
     "output_type": "stream",
     "text": [
      "There is no blood pressure data available during the extubated period.\n",
      "(226, 333, 179, 367)\n",
      "(226, 333, 179, 368)\n"
     ]
    },
    {
     "name": "stderr",
     "output_type": "stream",
     "text": [
      "EO3227 visit 1 failed: list index out of range\n"
     ]
    },
    {
     "name": "stdout",
     "output_type": "stream",
     "text": [
      "(226, 334, 180, 369)\n"
     ]
    },
    {
     "name": "stderr",
     "output_type": "stream",
     "text": [
      "EM2756 visit 1 failed: 'NoneType' object is not subscriptable\n"
     ]
    },
    {
     "name": "stdout",
     "output_type": "stream",
     "text": [
      "There is no blood pressure data available during the extubated period.\n",
      "(226, 336, 180, 370)\n"
     ]
    },
    {
     "name": "stderr",
     "output_type": "stream",
     "text": [
      "EM2092 visit 1 failed: 'NoneType' object is not subscriptable\n"
     ]
    },
    {
     "name": "stdout",
     "output_type": "stream",
     "text": [
      "There is no blood pressure data available during the extubated period.\n",
      "(227, 337, 180, 371)\n"
     ]
    },
    {
     "name": "stderr",
     "output_type": "stream",
     "text": [
      "EC1657 visit 1 failed: 'NoneType' object is not subscriptable\n"
     ]
    },
    {
     "name": "stdout",
     "output_type": "stream",
     "text": [
      "There is no blood pressure data available during the extubated period.\n",
      "(227, 339, 180, 372)\n"
     ]
    },
    {
     "name": "stderr",
     "output_type": "stream",
     "text": [
      "ED3175 visit 1 failed: 'NoneType' object is not subscriptable\n",
      "EV3800 visit 1 failed: 'NoneType' object is not subscriptable\n",
      "EV0843 visit 1 failed: 'NoneType' object is not subscriptable\n"
     ]
    },
    {
     "name": "stdout",
     "output_type": "stream",
     "text": [
      "There is no blood pressure data available during the extubated period.\n",
      "(229, 339, 180, 373)\n",
      "There is no blood pressure data available during the extubated period.\n",
      "(229, 339, 180, 374)\n",
      "There is no blood pressure data available during the extubated period.\n",
      "(229, 339, 180, 375)\n"
     ]
    },
    {
     "name": "stderr",
     "output_type": "stream",
     "text": [
      "EX3204 visit 1 failed: list index out of range\n"
     ]
    },
    {
     "name": "stdout",
     "output_type": "stream",
     "text": [
      "(231, 340, 180, 376)\n"
     ]
    },
    {
     "name": "stderr",
     "output_type": "stream",
     "text": [
      "EE2147 visit 1 failed: 'NoneType' object is not subscriptable\n"
     ]
    },
    {
     "name": "stdout",
     "output_type": "stream",
     "text": [
      "There is no blood pressure data available during the extubated period.\n",
      "(232, 340, 180, 377)\n"
     ]
    },
    {
     "name": "stderr",
     "output_type": "stream",
     "text": [
      "EB3056 visit 1 failed: list index out of range\n"
     ]
    },
    {
     "name": "stdout",
     "output_type": "stream",
     "text": [
      "(232, 341, 182, 378)\n"
     ]
    },
    {
     "name": "stderr",
     "output_type": "stream",
     "text": [
      "EK0479 visit 1 failed: 'NoneType' object is not subscriptable\n"
     ]
    },
    {
     "name": "stdout",
     "output_type": "stream",
     "text": [
      "There is no blood pressure data available during the extubated period.\n",
      "(232, 342, 183, 379)\n"
     ]
    },
    {
     "name": "stderr",
     "output_type": "stream",
     "text": [
      "EL2366 visit 1 failed: 'NoneType' object is not subscriptable\n"
     ]
    },
    {
     "name": "stdout",
     "output_type": "stream",
     "text": [
      "There is no blood pressure data available during the extubated period.\n",
      "(232, 342, 183, 380)\n"
     ]
    },
    {
     "name": "stderr",
     "output_type": "stream",
     "text": [
      "EP3696 visit 1 failed: 'NoneType' object is not subscriptable\n",
      "EP3461 visit 1 failed: list index out of range\n"
     ]
    },
    {
     "name": "stdout",
     "output_type": "stream",
     "text": [
      "There is no blood pressure data available during the extubated period.\n",
      "(232, 343, 183, 381)\n",
      "(232, 343, 183, 382)\n"
     ]
    },
    {
     "name": "stderr",
     "output_type": "stream",
     "text": [
      "EW1835 visit 1 failed: 'NoneType' object is not subscriptable\n"
     ]
    },
    {
     "name": "stdout",
     "output_type": "stream",
     "text": [
      "There is no blood pressure data available during the extubated period.\n",
      "(233, 344, 183, 383)\n"
     ]
    },
    {
     "name": "stderr",
     "output_type": "stream",
     "text": [
      "BR0401 visit 1 failed: 'NoneType' object is not subscriptable\n"
     ]
    },
    {
     "name": "stdout",
     "output_type": "stream",
     "text": [
      "There is no blood pressure data available during the extubated period.\n",
      "(233, 345, 183, 384)\n"
     ]
    },
    {
     "name": "stderr",
     "output_type": "stream",
     "text": [
      "BR2514 visit 1 failed: list index out of range\n",
      "BR3036 visit 1 failed: 'NoneType' object is not subscriptable\n"
     ]
    },
    {
     "name": "stdout",
     "output_type": "stream",
     "text": [
      "(233, 345, 184, 385)\n",
      "There is no blood pressure data available during the extubated period.\n",
      "(233, 345, 184, 386)\n"
     ]
    },
    {
     "name": "stderr",
     "output_type": "stream",
     "text": [
      "BU1721 visit 1 failed: 'NoneType' object is not subscriptable\n"
     ]
    },
    {
     "name": "stdout",
     "output_type": "stream",
     "text": [
      "There is no blood pressure data available during the extubated period.\n",
      "(233, 346, 185, 387)\n"
     ]
    },
    {
     "name": "stderr",
     "output_type": "stream",
     "text": [
      "BI1913 visit 1 failed: list index out of range\n"
     ]
    },
    {
     "name": "stdout",
     "output_type": "stream",
     "text": [
      "(233, 349, 186, 388)\n"
     ]
    },
    {
     "name": "stderr",
     "output_type": "stream",
     "text": [
      "BG1412 visit 1 failed: list index out of range\n"
     ]
    },
    {
     "name": "stdout",
     "output_type": "stream",
     "text": [
      "(234, 350, 186, 389)\n"
     ]
    },
    {
     "name": "stderr",
     "output_type": "stream",
     "text": [
      "BG2689 visit 1 failed: float division by zero\n"
     ]
    },
    {
     "name": "stdout",
     "output_type": "stream",
     "text": [
      "(234, 350, 187, 390)\n"
     ]
    },
    {
     "name": "stderr",
     "output_type": "stream",
     "text": [
      "BZ2337 visit 1 failed: list index out of range\n",
      "BZ3386 visit 1 failed: 'NoneType' object is not subscriptable\n"
     ]
    },
    {
     "name": "stdout",
     "output_type": "stream",
     "text": [
      "(235, 351, 187, 391)\n",
      "There is no blood pressure data available during the extubated period.\n",
      "(235, 351, 187, 392)\n"
     ]
    },
    {
     "name": "stderr",
     "output_type": "stream",
     "text": [
      "BT3582 visit 1 failed: 'NoneType' object is not subscriptable\n",
      "BT3143 visit 1 failed: 'NoneType' object is not subscriptable\n"
     ]
    },
    {
     "name": "stdout",
     "output_type": "stream",
     "text": [
      "There is no blood pressure data available during the extubated period.\n",
      "(235, 352, 188, 393)\n",
      "There is no blood pressure data available during the extubated period.\n",
      "(235, 352, 188, 394)\n"
     ]
    },
    {
     "name": "stderr",
     "output_type": "stream",
     "text": [
      "BS3312 visit 1 failed: list index out of range\n",
      "BF2616 visit 1 failed: 'NoneType' object is not subscriptable\n"
     ]
    },
    {
     "name": "stdout",
     "output_type": "stream",
     "text": [
      "(235, 353, 188, 395)\n",
      "There is no blood pressure data available during the extubated period.\n",
      "(235, 353, 188, 396)\n"
     ]
    },
    {
     "name": "stderr",
     "output_type": "stream",
     "text": [
      "BH3859 visit 1 failed: list index out of range\n"
     ]
    },
    {
     "name": "stdout",
     "output_type": "stream",
     "text": [
      "(236, 354, 189, 397)\n"
     ]
    },
    {
     "name": "stderr",
     "output_type": "stream",
     "text": [
      "BJ2150 visit 1 failed: 'NoneType' object is not subscriptable\n"
     ]
    },
    {
     "name": "stdout",
     "output_type": "stream",
     "text": [
      "There is no blood pressure data available during the extubated period.\n",
      "(236, 355, 190, 398)\n"
     ]
    },
    {
     "name": "stderr",
     "output_type": "stream",
     "text": [
      "BJ4054 visit 1 failed: 'NoneType' object is not subscriptable\n"
     ]
    },
    {
     "name": "stdout",
     "output_type": "stream",
     "text": [
      "There is no blood pressure data available during the extubated period.\n",
      "(237, 357, 190, 399)\n"
     ]
    },
    {
     "name": "stderr",
     "output_type": "stream",
     "text": [
      "BC3142 visit 1 failed: list index out of range\n"
     ]
    },
    {
     "name": "stdout",
     "output_type": "stream",
     "text": [
      "(237, 357, 191, 400)\n"
     ]
    },
    {
     "name": "stderr",
     "output_type": "stream",
     "text": [
      "BD1804 visit 1 failed: 'NoneType' object is not subscriptable\n"
     ]
    },
    {
     "name": "stdout",
     "output_type": "stream",
     "text": [
      "There is no blood pressure data available during the extubated period.\n",
      "(237, 358, 191, 401)\n"
     ]
    },
    {
     "name": "stderr",
     "output_type": "stream",
     "text": [
      "BD3015 visit 1 failed: 'NoneType' object is not subscriptable\n",
      "BD3347 visit 1 failed: 'NoneType' object is not subscriptable\n"
     ]
    },
    {
     "name": "stdout",
     "output_type": "stream",
     "text": [
      "There is no blood pressure data available during the extubated period.\n",
      "(237, 359, 191, 402)\n",
      "There is no blood pressure data available during the extubated period.\n",
      "(237, 359, 191, 403)\n"
     ]
    },
    {
     "name": "stderr",
     "output_type": "stream",
     "text": [
      "BQ2807 visit 1 failed: 'NoneType' object is not subscriptable\n"
     ]
    },
    {
     "name": "stdout",
     "output_type": "stream",
     "text": [
      "There is no blood pressure data available during the extubated period.\n",
      "(237, 360, 191, 404)\n"
     ]
    },
    {
     "name": "stderr",
     "output_type": "stream",
     "text": [
      "BK0070 visit 1 failed: 'NoneType' object is not subscriptable\n",
      "BL3474 visit 1 failed: 'NoneType' object is not subscriptable\n",
      "BY2508 visit 1 failed: 'NoneType' object is not subscriptable\n"
     ]
    },
    {
     "name": "stdout",
     "output_type": "stream",
     "text": [
      "There is no blood pressure data available during the extubated period.\n",
      "(241, 365, 191, 405)\n",
      "There is no blood pressure data available during the extubated period.\n",
      "(241, 365, 191, 406)\n",
      "There is no blood pressure data available during the extubated period.\n",
      "(241, 365, 191, 407)\n"
     ]
    },
    {
     "name": "stderr",
     "output_type": "stream",
     "text": [
      "BP2844 visit 1 failed: float division by zero\n",
      "BW3852 visit 1 failed: list index out of range\n",
      "BW0372 visit 1 failed: 'NoneType' object is not subscriptable\n"
     ]
    },
    {
     "name": "stdout",
     "output_type": "stream",
     "text": [
      "(242, 365, 191, 408)\n",
      "(242, 365, 191, 409)\n",
      "There is no blood pressure data available during the extubated period.\n",
      "(242, 365, 191, 410)\n"
     ]
    },
    {
     "name": "stderr",
     "output_type": "stream",
     "text": [
      "KR1086 visit 1 failed: 'NoneType' object is not subscriptable\n"
     ]
    },
    {
     "name": "stdout",
     "output_type": "stream",
     "text": [
      "There is no blood pressure data available during the extubated period.\n",
      "(243, 366, 191, 411)\n"
     ]
    },
    {
     "name": "stderr",
     "output_type": "stream",
     "text": [
      "KU2937 visit 1 failed: 'NoneType' object is not subscriptable\n"
     ]
    },
    {
     "name": "stdout",
     "output_type": "stream",
     "text": [
      "There is no blood pressure data available during the extubated period.\n",
      "(243, 367, 191, 412)\n"
     ]
    },
    {
     "name": "stderr",
     "output_type": "stream",
     "text": [
      "KI0883 visit 1 failed: list index out of range\n"
     ]
    },
    {
     "name": "stdout",
     "output_type": "stream",
     "text": [
      "(244, 368, 191, 413)\n"
     ]
    },
    {
     "name": "stderr",
     "output_type": "stream",
     "text": [
      "KN1869 visit 1 failed: 'NoneType' object is not subscriptable\n"
     ]
    },
    {
     "name": "stdout",
     "output_type": "stream",
     "text": [
      "There is no blood pressure data available during the extubated period.\n",
      "(244, 369, 192, 414)\n"
     ]
    },
    {
     "name": "stderr",
     "output_type": "stream",
     "text": [
      "KZ3726 visit 1 failed: 'NoneType' object is not subscriptable\n",
      "KZ3988 visit 1 failed: float division by zero\n",
      "KZ4111 visit 1 failed: 'NoneType' object is not subscriptable\n"
     ]
    },
    {
     "name": "stdout",
     "output_type": "stream",
     "text": [
      "There is no blood pressure data available during the extubated period.\n",
      "(244, 369, 194, 415)\n",
      "(244, 369, 194, 416)\n",
      "There is no blood pressure data available during the extubated period.\n",
      "(244, 369, 194, 417)\n"
     ]
    },
    {
     "name": "stderr",
     "output_type": "stream",
     "text": [
      "KA3656 visit 1 failed: 'NoneType' object is not subscriptable\n",
      "KF2192 visit 1 failed: 'NoneType' object is not subscriptable\n",
      "KF1038 visit 1 failed: 'NoneType' object is not subscriptable\n"
     ]
    },
    {
     "name": "stdout",
     "output_type": "stream",
     "text": [
      "There is no blood pressure data available during the extubated period.\n",
      "(247, 371, 195, 418)\n",
      "There is no blood pressure data available during the extubated period.\n",
      "(247, 371, 195, 419)\n",
      "There is no blood pressure data available during the extubated period.\n",
      "(247, 371, 195, 420)\n"
     ]
    },
    {
     "name": "stderr",
     "output_type": "stream",
     "text": [
      "KH3073 visit 1 failed: 'NoneType' object is not subscriptable\n",
      "KH0067 visit 1 failed: 'NoneType' object is not subscriptable\n"
     ]
    },
    {
     "name": "stdout",
     "output_type": "stream",
     "text": [
      "There is no blood pressure data available during the extubated period.\n",
      "(247, 372, 196, 421)\n",
      "There is no blood pressure data available during the extubated period.\n",
      "(247, 372, 196, 422)\n"
     ]
    },
    {
     "name": "stderr",
     "output_type": "stream",
     "text": [
      "KM2479 visit 1 failed: 'NoneType' object is not subscriptable\n"
     ]
    },
    {
     "name": "stdout",
     "output_type": "stream",
     "text": [
      "There is no blood pressure data available during the extubated period.\n",
      "(248, 372, 196, 423)\n"
     ]
    },
    {
     "name": "stderr",
     "output_type": "stream",
     "text": [
      "KC2473 visit 1 failed: 'NoneType' object is not subscriptable\n"
     ]
    },
    {
     "name": "stdout",
     "output_type": "stream",
     "text": [
      "There is no blood pressure data available during the extubated period.\n",
      "(248, 372, 199, 424)\n"
     ]
    },
    {
     "name": "stderr",
     "output_type": "stream",
     "text": [
      "KV1281 visit 1 failed: 'NoneType' object is not subscriptable\n"
     ]
    },
    {
     "name": "stdout",
     "output_type": "stream",
     "text": [
      "There is no blood pressure data available during the extubated period.\n",
      "(249, 374, 199, 425)\n"
     ]
    },
    {
     "name": "stderr",
     "output_type": "stream",
     "text": [
      "KQ3427 visit 1 failed: list index out of range\n"
     ]
    },
    {
     "name": "stdout",
     "output_type": "stream",
     "text": [
      "(249, 375, 200, 426)\n"
     ]
    },
    {
     "name": "stderr",
     "output_type": "stream",
     "text": [
      "KE1093 visit 1 failed: 'NoneType' object is not subscriptable\n"
     ]
    },
    {
     "name": "stdout",
     "output_type": "stream",
     "text": [
      "There is no blood pressure data available during the extubated period.\n",
      "(250, 378, 200, 427)\n"
     ]
    },
    {
     "name": "stderr",
     "output_type": "stream",
     "text": [
      "KL2148 visit 1 failed: 'NoneType' object is not subscriptable\n"
     ]
    },
    {
     "name": "stdout",
     "output_type": "stream",
     "text": [
      "There is no blood pressure data available during the extubated period.\n",
      "(251, 382, 201, 428)\n"
     ]
    },
    {
     "name": "stderr",
     "output_type": "stream",
     "text": [
      "KL0146 visit 1 failed: 'NoneType' object is not subscriptable\n",
      "KY3662 visit 1 failed: 'NoneType' object is not subscriptable\n",
      "KY3182 visit 1 failed: 'NoneType' object is not subscriptable\n",
      "KY0008 visit 1 failed: float division by zero\n"
     ]
    },
    {
     "name": "stdout",
     "output_type": "stream",
     "text": [
      "There is no blood pressure data available during the extubated period.\n",
      "(251, 383, 201, 429)\n",
      "There is no blood pressure data available during the extubated period.\n",
      "(251, 383, 201, 430)\n",
      "There is no blood pressure data available during the extubated period.\n",
      "(251, 383, 201, 431)\n",
      "(251, 383, 201, 432)\n"
     ]
    },
    {
     "name": "stderr",
     "output_type": "stream",
     "text": [
      "KW1920 visit 1 failed: 'NoneType' object is not subscriptable\n"
     ]
    },
    {
     "name": "stdout",
     "output_type": "stream",
     "text": [
      "There is no blood pressure data available during the extubated period.\n",
      "(251, 386, 202, 433)\n"
     ]
    },
    {
     "name": "stderr",
     "output_type": "stream",
     "text": [
      "KW3189 visit 1 failed: float division by zero\n"
     ]
    },
    {
     "name": "stdout",
     "output_type": "stream",
     "text": [
      "(251, 386, 203, 434)\n"
     ]
    },
    {
     "name": "stderr",
     "output_type": "stream",
     "text": [
      "KW3198 visit 1 failed: 'NoneType' object is not subscriptable\n"
     ]
    },
    {
     "name": "stdout",
     "output_type": "stream",
     "text": [
      "There is no blood pressure data available during the extubated period.\n",
      "(252, 386, 203, 435)\n"
     ]
    },
    {
     "name": "stderr",
     "output_type": "stream",
     "text": [
      "LR2724 visit 1 failed: 'NoneType' object is not subscriptable\n",
      "LR3906 visit 1 failed: 'NoneType' object is not subscriptable\n"
     ]
    },
    {
     "name": "stdout",
     "output_type": "stream",
     "text": [
      "There is no blood pressure data available during the extubated period.\n",
      "(252, 386, 204, 436)\n",
      "There is no blood pressure data available during the extubated period.\n",
      "(252, 386, 204, 437)\n"
     ]
    },
    {
     "name": "stderr",
     "output_type": "stream",
     "text": [
      "LU3672 visit 1 failed: list index out of range\n"
     ]
    },
    {
     "name": "stdout",
     "output_type": "stream",
     "text": [
      "(252, 386, 206, 438)\n"
     ]
    },
    {
     "name": "stderr",
     "output_type": "stream",
     "text": [
      "LG1815 visit 1 failed: list index out of range\n"
     ]
    },
    {
     "name": "stdout",
     "output_type": "stream",
     "text": [
      "(253, 386, 207, 439)\n"
     ]
    },
    {
     "name": "stderr",
     "output_type": "stream",
     "text": [
      "LZ0869 visit 1 failed: 'NoneType' object is not subscriptable\n",
      "LZ1802 visit 1 failed: list index out of range\n"
     ]
    },
    {
     "name": "stdout",
     "output_type": "stream",
     "text": [
      "There is no blood pressure data available during the extubated period.\n",
      "(253, 386, 209, 440)\n",
      "(253, 386, 209, 441)\n"
     ]
    },
    {
     "name": "stderr",
     "output_type": "stream",
     "text": [
      "LT1552 visit 1 failed: 'NoneType' object is not subscriptable\n"
     ]
    },
    {
     "name": "stdout",
     "output_type": "stream",
     "text": [
      "There is no blood pressure data available during the extubated period.\n",
      "(254, 387, 210, 442)\n"
     ]
    },
    {
     "name": "stderr",
     "output_type": "stream",
     "text": [
      "LT0036 visit 1 failed: float division by zero\n"
     ]
    },
    {
     "name": "stdout",
     "output_type": "stream",
     "text": [
      "(255, 387, 212, 443)\n"
     ]
    },
    {
     "name": "stderr",
     "output_type": "stream",
     "text": [
      "LA4073 visit 1 failed: 'NoneType' object is not subscriptable\n"
     ]
    },
    {
     "name": "stdout",
     "output_type": "stream",
     "text": [
      "There is no blood pressure data available during the extubated period.\n",
      "(255, 389, 213, 444)\n"
     ]
    },
    {
     "name": "stderr",
     "output_type": "stream",
     "text": [
      "LA1700 visit 1 failed: 'NoneType' object is not subscriptable\n",
      "LF1369 visit 1 failed: 'NoneType' object is not subscriptable\n"
     ]
    },
    {
     "name": "stdout",
     "output_type": "stream",
     "text": [
      "There is no blood pressure data available during the extubated period.\n",
      "(255, 392, 213, 445)\n",
      "There is no blood pressure data available during the extubated period.\n",
      "(255, 392, 213, 446)\n"
     ]
    },
    {
     "name": "stderr",
     "output_type": "stream",
     "text": [
      "LO0573 visit 1 failed: 'NoneType' object is not subscriptable\n",
      "LH3789 visit 1 failed: 'NoneType' object is not subscriptable\n"
     ]
    },
    {
     "name": "stdout",
     "output_type": "stream",
     "text": [
      "There is no blood pressure data available during the extubated period.\n",
      "(256, 393, 213, 447)\n",
      "There is no blood pressure data available during the extubated period.\n",
      "(256, 393, 213, 448)\n"
     ]
    },
    {
     "name": "stderr",
     "output_type": "stream",
     "text": [
      "LM3507 visit 1 failed: list index out of range\n"
     ]
    },
    {
     "name": "stdout",
     "output_type": "stream",
     "text": [
      "(257, 393, 213, 449)\n"
     ]
    },
    {
     "name": "stderr",
     "output_type": "stream",
     "text": [
      "LC2912 visit 1 failed: list index out of range\n"
     ]
    },
    {
     "name": "stdout",
     "output_type": "stream",
     "text": [
      "(258, 394, 214, 450)\n"
     ]
    },
    {
     "name": "stderr",
     "output_type": "stream",
     "text": [
      "LD2631 visit 1 failed: 'NoneType' object is not subscriptable\n",
      "LV1629 visit 1 failed: 'NoneType' object is not subscriptable\n"
     ]
    },
    {
     "name": "stdout",
     "output_type": "stream",
     "text": [
      "There is no blood pressure data available during the extubated period.\n",
      "(258, 398, 214, 451)\n",
      "There is no blood pressure data available during the extubated period.\n",
      "(258, 398, 215, 452)\n"
     ]
    },
    {
     "name": "stderr",
     "output_type": "stream",
     "text": [
      "LV1315 visit 1 failed: 'NoneType' object is not subscriptable\n",
      "LV2334 visit 1 failed: 'NoneType' object is not subscriptable\n",
      "LV1770 visit 1 failed: float division by zero\n",
      "LQ3893 visit 1 failed: list index out of range\n",
      "LQ2589 visit 1 failed: 'NoneType' object is not subscriptable\n"
     ]
    },
    {
     "name": "stdout",
     "output_type": "stream",
     "text": [
      "There is no blood pressure data available during the extubated period.\n",
      "(258, 398, 215, 453)\n",
      "There is no blood pressure data available during the extubated period.\n",
      "(258, 398, 215, 454)\n",
      "(258, 398, 215, 455)\n",
      "(258, 398, 215, 456)\n",
      "There is no blood pressure data available during the extubated period.\n",
      "(258, 398, 215, 457)\n"
     ]
    },
    {
     "name": "stderr",
     "output_type": "stream",
     "text": [
      "LQ2483 visit 1 failed: 'NoneType' object is not subscriptable\n"
     ]
    },
    {
     "name": "stdout",
     "output_type": "stream",
     "text": [
      "There is no blood pressure data available during the extubated period.\n",
      "(258, 398, 215, 458)\n"
     ]
    },
    {
     "name": "stderr",
     "output_type": "stream",
     "text": [
      "LQ1306 visit 1 failed: 'NoneType' object is not subscriptable\n"
     ]
    },
    {
     "name": "stdout",
     "output_type": "stream",
     "text": [
      "There is no blood pressure data available during the extubated period.\n",
      "(259, 399, 215, 459)\n"
     ]
    },
    {
     "name": "stderr",
     "output_type": "stream",
     "text": [
      "LX0321 visit 1 failed: 'NoneType' object is not subscriptable\n"
     ]
    },
    {
     "name": "stdout",
     "output_type": "stream",
     "text": [
      "There is no blood pressure data available during the extubated period.\n",
      "(259, 401, 216, 460)\n"
     ]
    },
    {
     "name": "stderr",
     "output_type": "stream",
     "text": [
      "LB1845 visit 1 failed: float division by zero\n",
      "LB2896 visit 1 failed: 'NoneType' object is not subscriptable\n",
      "LB3481 visit 1 failed: 'NoneType' object is not subscriptable\n"
     ]
    },
    {
     "name": "stdout",
     "output_type": "stream",
     "text": [
      "(260, 401, 219, 461)\n",
      "There is no blood pressure data available during the extubated period.\n",
      "(260, 401, 219, 462)\n",
      "There is no blood pressure data available during the extubated period.\n",
      "(260, 401, 219, 463)\n"
     ]
    },
    {
     "name": "stderr",
     "output_type": "stream",
     "text": [
      "LK1182 visit 1 failed: list index out of range\n"
     ]
    },
    {
     "name": "stdout",
     "output_type": "stream",
     "text": [
      "(260, 401, 220, 464)\n"
     ]
    },
    {
     "name": "stderr",
     "output_type": "stream",
     "text": [
      "YR3736 visit 1 failed: 'NoneType' object is not subscriptable\n"
     ]
    },
    {
     "name": "stdout",
     "output_type": "stream",
     "text": [
      "There is no blood pressure data available during the extubated period.\n",
      "(262, 402, 221, 465)\n"
     ]
    },
    {
     "name": "stderr",
     "output_type": "stream",
     "text": [
      "YR4082 visit 1 failed: list index out of range\n",
      "YU3940 visit 1 failed: 'NoneType' object is not subscriptable\n"
     ]
    },
    {
     "name": "stdout",
     "output_type": "stream",
     "text": [
      "(262, 403, 221, 466)\n",
      "There is no blood pressure data available during the extubated period.\n",
      "(262, 403, 221, 467)\n"
     ]
    },
    {
     "name": "stderr",
     "output_type": "stream",
     "text": [
      "YU3486 visit 1 failed: 'NoneType' object is not subscriptable\n"
     ]
    },
    {
     "name": "stdout",
     "output_type": "stream",
     "text": [
      "There is no blood pressure data available during the extubated period.\n",
      "(262, 404, 221, 468)\n"
     ]
    },
    {
     "name": "stderr",
     "output_type": "stream",
     "text": [
      "YU1341 visit 1 failed: 'NoneType' object is not subscriptable\n"
     ]
    },
    {
     "name": "stdout",
     "output_type": "stream",
     "text": [
      "There is no blood pressure data available during the extubated period.\n",
      "(262, 405, 221, 469)\n"
     ]
    },
    {
     "name": "stderr",
     "output_type": "stream",
     "text": [
      "YN0900 visit 1 failed: float division by zero\n",
      "YN0877 visit 1 failed: list index out of range\n"
     ]
    },
    {
     "name": "stdout",
     "output_type": "stream",
     "text": [
      "(263, 405, 221, 470)\n",
      "(263, 405, 221, 471)\n"
     ]
    },
    {
     "name": "stderr",
     "output_type": "stream",
     "text": [
      "YT2217 visit 1 failed: 'NoneType' object is not subscriptable\n"
     ]
    },
    {
     "name": "stdout",
     "output_type": "stream",
     "text": [
      "There is no blood pressure data available during the extubated period.\n",
      "(264, 406, 221, 472)\n"
     ]
    },
    {
     "name": "stderr",
     "output_type": "stream",
     "text": [
      "YS3621 visit 1 failed: 'NoneType' object is not subscriptable\n",
      "YA4001 visit 1 failed: 'NoneType' object is not subscriptable\n"
     ]
    },
    {
     "name": "stdout",
     "output_type": "stream",
     "text": [
      "There is no blood pressure data available during the extubated period.\n",
      "(264, 407, 222, 473)\n",
      "There is no blood pressure data available during the extubated period.\n",
      "(264, 407, 222, 474)\n"
     ]
    },
    {
     "name": "stderr",
     "output_type": "stream",
     "text": [
      "YF1474 visit 1 failed: 'NoneType' object is not subscriptable\n"
     ]
    },
    {
     "name": "stdout",
     "output_type": "stream",
     "text": [
      "There is no blood pressure data available during the extubated period.\n",
      "(264, 408, 222, 475)\n"
     ]
    },
    {
     "name": "stderr",
     "output_type": "stream",
     "text": [
      "YJ2470 visit 1 failed: 'NoneType' object is not subscriptable\n"
     ]
    },
    {
     "name": "stdout",
     "output_type": "stream",
     "text": [
      "There is no blood pressure data available during the extubated period.\n",
      "(266, 413, 222, 476)\n"
     ]
    },
    {
     "name": "stderr",
     "output_type": "stream",
     "text": [
      "YD3052 visit 1 failed: 'NoneType' object is not subscriptable\n"
     ]
    },
    {
     "name": "stdout",
     "output_type": "stream",
     "text": [
      "There is no blood pressure data available during the extubated period.\n",
      "(267, 414, 222, 477)\n"
     ]
    },
    {
     "name": "stderr",
     "output_type": "stream",
     "text": [
      "YX2562 visit 1 failed: list index out of range\n",
      "YX3166 visit 1 failed: 'NoneType' object is not subscriptable\n"
     ]
    },
    {
     "name": "stdout",
     "output_type": "stream",
     "text": [
      "(268, 416, 223, 478)\n",
      "There is no blood pressure data available during the extubated period.\n",
      "(268, 416, 223, 479)\n"
     ]
    },
    {
     "name": "stderr",
     "output_type": "stream",
     "text": [
      "YB4088 visit 1 failed: 'NoneType' object is not subscriptable\n"
     ]
    },
    {
     "name": "stdout",
     "output_type": "stream",
     "text": [
      "There is no blood pressure data available during the extubated period.\n",
      "(268, 418, 224, 480)\n"
     ]
    },
    {
     "name": "stderr",
     "output_type": "stream",
     "text": [
      "YK1936 visit 1 failed: list index out of range\n"
     ]
    },
    {
     "name": "stdout",
     "output_type": "stream",
     "text": [
      "(269, 419, 224, 481)\n"
     ]
    },
    {
     "name": "stderr",
     "output_type": "stream",
     "text": [
      "YL1515 visit 1 failed: 'NoneType' object is not subscriptable\n"
     ]
    },
    {
     "name": "stdout",
     "output_type": "stream",
     "text": [
      "There is no blood pressure data available during the extubated period.\n",
      "(269, 420, 224, 482)\n"
     ]
    },
    {
     "name": "stderr",
     "output_type": "stream",
     "text": [
      "YY3837 visit 1 failed: 'NoneType' object is not subscriptable\n"
     ]
    },
    {
     "name": "stdout",
     "output_type": "stream",
     "text": [
      "There is no blood pressure data available during the extubated period.\n",
      "(269, 420, 225, 483)\n"
     ]
    },
    {
     "name": "stderr",
     "output_type": "stream",
     "text": [
      "YP1031 visit 1 failed: 'NoneType' object is not subscriptable\n"
     ]
    },
    {
     "name": "stdout",
     "output_type": "stream",
     "text": [
      "There is no blood pressure data available during the extubated period.\n",
      "(269, 424, 225, 484)\n"
     ]
    },
    {
     "name": "stderr",
     "output_type": "stream",
     "text": [
      "PR1516 visit 1 failed: 'NoneType' object is not subscriptable\n"
     ]
    },
    {
     "name": "stdout",
     "output_type": "stream",
     "text": [
      "There is no blood pressure data available during the extubated period.\n",
      "(270, 427, 225, 485)\n"
     ]
    },
    {
     "name": "stderr",
     "output_type": "stream",
     "text": [
      "PI0750 visit 1 failed: list index out of range\n",
      "PI1961 visit 1 failed: list index out of range\n"
     ]
    },
    {
     "name": "stdout",
     "output_type": "stream",
     "text": [
      "(271, 427, 226, 486)\n",
      "(271, 427, 226, 487)\n"
     ]
    },
    {
     "name": "stderr",
     "output_type": "stream",
     "text": [
      "PS2511 visit 1 failed: 'NoneType' object is not subscriptable\n",
      "PS2602 visit 1 failed: 'NoneType' object is not subscriptable\n"
     ]
    },
    {
     "name": "stdout",
     "output_type": "stream",
     "text": [
      "There is no blood pressure data available during the extubated period.\n",
      "(276, 429, 227, 488)\n",
      "There is no blood pressure data available during the extubated period.\n",
      "(276, 429, 227, 489)\n"
     ]
    },
    {
     "name": "stderr",
     "output_type": "stream",
     "text": [
      "PF3299 visit 1 failed: 'NoneType' object is not subscriptable\n"
     ]
    },
    {
     "name": "stdout",
     "output_type": "stream",
     "text": [
      "There is no blood pressure data available during the extubated period.\n",
      "(278, 429, 227, 490)\n"
     ]
    },
    {
     "name": "stderr",
     "output_type": "stream",
     "text": [
      "PH3025 visit 1 failed: 'NoneType' object is not subscriptable\n",
      "PH4062 visit 1 failed: 'NoneType' object is not subscriptable\n"
     ]
    },
    {
     "name": "stdout",
     "output_type": "stream",
     "text": [
      "There is no blood pressure data available during the extubated period.\n",
      "(279, 430, 227, 491)\n",
      "There is no blood pressure data available during the extubated period.\n",
      "(279, 430, 227, 492)\n"
     ]
    },
    {
     "name": "stderr",
     "output_type": "stream",
     "text": [
      "PC1484 visit 1 failed: float division by zero\n"
     ]
    },
    {
     "name": "stdout",
     "output_type": "stream",
     "text": [
      "(281, 432, 228, 493)\n"
     ]
    },
    {
     "name": "stderr",
     "output_type": "stream",
     "text": [
      "PC1459 visit 1 failed: 'NoneType' object is not subscriptable\n"
     ]
    },
    {
     "name": "stdout",
     "output_type": "stream",
     "text": [
      "There is no blood pressure data available during the extubated period.\n",
      "(281, 433, 228, 494)\n"
     ]
    },
    {
     "name": "stderr",
     "output_type": "stream",
     "text": [
      "PE2728 visit 1 failed: 'NoneType' object is not subscriptable\n"
     ]
    },
    {
     "name": "stdout",
     "output_type": "stream",
     "text": [
      "There is no blood pressure data available during the extubated period.\n",
      "(285, 438, 232, 495)\n"
     ]
    },
    {
     "name": "stderr",
     "output_type": "stream",
     "text": [
      "PB0425 visit 1 failed: float division by zero\n"
     ]
    },
    {
     "name": "stdout",
     "output_type": "stream",
     "text": [
      "(285, 438, 233, 496)\n"
     ]
    },
    {
     "name": "stderr",
     "output_type": "stream",
     "text": [
      "PP3112 visit 1 failed: list index out of range\n"
     ]
    },
    {
     "name": "stdout",
     "output_type": "stream",
     "text": [
      "(286, 446, 235, 497)\n"
     ]
    },
    {
     "name": "stderr",
     "output_type": "stream",
     "text": [
      "PW2951 visit 1 failed: 'NoneType' object is not subscriptable\n",
      "WR1634 visit 1 failed: 'NoneType' object is not subscriptable\n",
      "WR3619 visit 1 failed: list index out of range\n",
      "WR1774 visit 1 failed: float division by zero\n",
      "WU0851 visit 1 failed: 'NoneType' object is not subscriptable\n"
     ]
    },
    {
     "name": "stdout",
     "output_type": "stream",
     "text": [
      "There is no blood pressure data available during the extubated period.\n",
      "(286, 446, 236, 498)\n",
      "There is no blood pressure data available during the extubated period.\n",
      "(286, 446, 236, 499)\n",
      "(286, 446, 236, 500)\n",
      "(286, 446, 236, 501)\n",
      "There is no blood pressure data available during the extubated period.\n",
      "(286, 446, 236, 502)\n"
     ]
    },
    {
     "name": "stderr",
     "output_type": "stream",
     "text": [
      "WI1670 visit 1 failed: 'NoneType' object is not subscriptable\n"
     ]
    },
    {
     "name": "stdout",
     "output_type": "stream",
     "text": [
      "There is no blood pressure data available during the extubated period.\n",
      "(287, 446, 236, 503)\n"
     ]
    },
    {
     "name": "stderr",
     "output_type": "stream",
     "text": [
      "WN3482 visit 1 failed: 'NoneType' object is not subscriptable\n"
     ]
    },
    {
     "name": "stdout",
     "output_type": "stream",
     "text": [
      "There is no blood pressure data available during the extubated period.\n",
      "(287, 446, 236, 504)\n"
     ]
    },
    {
     "name": "stderr",
     "output_type": "stream",
     "text": [
      "WT2392 visit 1 failed: float division by zero\n"
     ]
    },
    {
     "name": "stdout",
     "output_type": "stream",
     "text": [
      "(287, 448, 237, 505)\n"
     ]
    },
    {
     "name": "stderr",
     "output_type": "stream",
     "text": [
      "WA3344 visit 1 failed: 'NoneType' object is not subscriptable\n"
     ]
    },
    {
     "name": "stdout",
     "output_type": "stream",
     "text": [
      "There is no blood pressure data available during the extubated period.\n",
      "(288, 451, 238, 506)\n"
     ]
    },
    {
     "name": "stderr",
     "output_type": "stream",
     "text": [
      "WA0767 visit 1 failed: 'NoneType' object is not subscriptable\n",
      "WA3543 visit 1 failed: 'NoneType' object is not subscriptable\n"
     ]
    },
    {
     "name": "stdout",
     "output_type": "stream",
     "text": [
      "There is no blood pressure data available during the extubated period.\n",
      "(288, 452, 238, 507)\n",
      "There is no blood pressure data available during the extubated period.\n",
      "(288, 452, 238, 508)\n"
     ]
    },
    {
     "name": "stderr",
     "output_type": "stream",
     "text": [
      "WO2369 visit 1 failed: list index out of range\n"
     ]
    },
    {
     "name": "stdout",
     "output_type": "stream",
     "text": [
      "(289, 454, 238, 509)\n"
     ]
    },
    {
     "name": "stderr",
     "output_type": "stream",
     "text": [
      "WH3849 visit 1 failed: list index out of range\n",
      "WM2218 visit 1 failed: 'NoneType' object is not subscriptable\n",
      "WM1819 visit 1 failed: float division by zero\n"
     ]
    },
    {
     "name": "stdout",
     "output_type": "stream",
     "text": [
      "(289, 454, 240, 510)\n",
      "There is no blood pressure data available during the extubated period.\n",
      "(289, 454, 240, 511)\n",
      "(289, 454, 240, 512)\n"
     ]
    },
    {
     "name": "stderr",
     "output_type": "stream",
     "text": [
      "WV0832 visit 1 failed: 'NoneType' object is not subscriptable\n"
     ]
    },
    {
     "name": "stdout",
     "output_type": "stream",
     "text": [
      "There is no blood pressure data available during the extubated period.\n",
      "(290, 458, 241, 513)\n"
     ]
    },
    {
     "name": "stderr",
     "output_type": "stream",
     "text": [
      "WV2604 visit 1 failed: 'NoneType' object is not subscriptable\n"
     ]
    },
    {
     "name": "stdout",
     "output_type": "stream",
     "text": [
      "There is no blood pressure data available during the extubated period.\n",
      "(290, 460, 241, 514)\n"
     ]
    },
    {
     "name": "stderr",
     "output_type": "stream",
     "text": [
      "WQ0872 visit 1 failed: 'NoneType' object is not subscriptable\n"
     ]
    },
    {
     "name": "stdout",
     "output_type": "stream",
     "text": [
      "There is no blood pressure data available during the extubated period.\n",
      "(290, 461, 241, 515)\n"
     ]
    },
    {
     "name": "stderr",
     "output_type": "stream",
     "text": [
      "WX1717 visit 1 failed: float division by zero\n"
     ]
    },
    {
     "name": "stdout",
     "output_type": "stream",
     "text": [
      "(291, 461, 241, 516)\n"
     ]
    },
    {
     "name": "stderr",
     "output_type": "stream",
     "text": [
      "WB0858 visit 1 failed: 'NoneType' object is not subscriptable\n"
     ]
    },
    {
     "name": "stdout",
     "output_type": "stream",
     "text": [
      "There is no blood pressure data available during the extubated period.\n",
      "(291, 462, 242, 517)\n"
     ]
    },
    {
     "name": "stderr",
     "output_type": "stream",
     "text": [
      "WK2025 visit 1 failed: 'NoneType' object is not subscriptable\n",
      "WK3216 visit 1 failed: 'NoneType' object is not subscriptable\n",
      "WK1266 visit 1 failed: list index out of range\n"
     ]
    },
    {
     "name": "stdout",
     "output_type": "stream",
     "text": [
      "There is no blood pressure data available during the extubated period.\n",
      "(291, 463, 242, 518)\n",
      "There is no blood pressure data available during the extubated period.\n",
      "(291, 463, 242, 519)\n",
      "(291, 463, 242, 520)\n"
     ]
    },
    {
     "name": "stderr",
     "output_type": "stream",
     "text": [
      "WP0322 visit 1 failed: 'NoneType' object is not subscriptable\n"
     ]
    },
    {
     "name": "stdout",
     "output_type": "stream",
     "text": [
      "There is no blood pressure data available during the extubated period.\n",
      "(294, 466, 243, 521)\n"
     ]
    },
    {
     "name": "stderr",
     "output_type": "stream",
     "text": [
      "RU3374 visit 2 failed: 'NoneType' object is not subscriptable\n"
     ]
    },
    {
     "name": "stdout",
     "output_type": "stream",
     "text": [
      "There is no blood pressure data available during the extubated period.\n",
      "(294, 467, 244, 522)\n"
     ]
    },
    {
     "name": "stderr",
     "output_type": "stream",
     "text": [
      "RF3191 visit 2 failed: 'NoneType' object is not subscriptable\n"
     ]
    },
    {
     "name": "stdout",
     "output_type": "stream",
     "text": [
      "There is no blood pressure data available during the extubated period.\n",
      "(296, 468, 246, 523)\n"
     ]
    },
    {
     "name": "stderr",
     "output_type": "stream",
     "text": [
      "UI2772 visit 2 failed: 'NoneType' object is not subscriptable\n",
      "UZ3879 visit 2 failed: float division by zero\n"
     ]
    },
    {
     "name": "stdout",
     "output_type": "stream",
     "text": [
      "There is no blood pressure data available during the extubated period.\n",
      "(298, 471, 250, 524)\n",
      "(298, 471, 250, 525)\n"
     ]
    },
    {
     "name": "stderr",
     "output_type": "stream",
     "text": [
      "UM3274 visit 2 failed: 'NoneType' object is not subscriptable\n"
     ]
    },
    {
     "name": "stdout",
     "output_type": "stream",
     "text": [
      "There is no blood pressure data available during the extubated period.\n",
      "(301, 471, 250, 526)\n"
     ]
    },
    {
     "name": "stderr",
     "output_type": "stream",
     "text": [
      "UE1977 visit 2 failed: 'NoneType' object is not subscriptable\n"
     ]
    },
    {
     "name": "stdout",
     "output_type": "stream",
     "text": [
      "There is no blood pressure data available during the extubated period.\n",
      "(302, 473, 251, 527)\n"
     ]
    },
    {
     "name": "stderr",
     "output_type": "stream",
     "text": [
      "UP3135 visit 2 failed: 'NoneType' object is not subscriptable\n"
     ]
    },
    {
     "name": "stdout",
     "output_type": "stream",
     "text": [
      "There is no blood pressure data available during the extubated period.\n",
      "(304, 476, 252, 528)\n"
     ]
    },
    {
     "name": "stderr",
     "output_type": "stream",
     "text": [
      "II2900 visit 2 failed: 'NoneType' object is not subscriptable\n",
      "IO2933 visit 2 failed: list index out of range\n"
     ]
    },
    {
     "name": "stdout",
     "output_type": "stream",
     "text": [
      "There is no blood pressure data available during the extubated period.\n",
      "(305, 476, 252, 529)\n",
      "(305, 476, 252, 530)\n"
     ]
    },
    {
     "name": "stderr",
     "output_type": "stream",
     "text": [
      "NG4060 visit 2 failed: 'NoneType' object is not subscriptable\n"
     ]
    },
    {
     "name": "stdout",
     "output_type": "stream",
     "text": [
      "There is no blood pressure data available during the extubated period.\n",
      "(307, 476, 253, 531)\n"
     ]
    },
    {
     "name": "stderr",
     "output_type": "stream",
     "text": [
      "NO0745 visit 2 failed: 'NoneType' object is not subscriptable\n"
     ]
    },
    {
     "name": "stdout",
     "output_type": "stream",
     "text": [
      "There is no blood pressure data available during the extubated period.\n",
      "(307, 477, 253, 532)\n"
     ]
    },
    {
     "name": "stderr",
     "output_type": "stream",
     "text": [
      "NB0532 visit 2 failed: list index out of range\n"
     ]
    },
    {
     "name": "stdout",
     "output_type": "stream",
     "text": [
      "(308, 481, 255, 533)\n"
     ]
    },
    {
     "name": "stderr",
     "output_type": "stream",
     "text": [
      "GF0332 visit 2 failed: 'NoneType' object is not subscriptable\n"
     ]
    },
    {
     "name": "stdout",
     "output_type": "stream",
     "text": [
      "There is no blood pressure data available during the extubated period.\n",
      "(308, 485, 255, 534)\n"
     ]
    },
    {
     "name": "stderr",
     "output_type": "stream",
     "text": [
      "GX3384 visit 2 failed: float division by zero\n"
     ]
    },
    {
     "name": "stdout",
     "output_type": "stream",
     "text": [
      "(310, 486, 256, 535)\n"
     ]
    },
    {
     "name": "stderr",
     "output_type": "stream",
     "text": [
      "ZI0001 visit 2 failed: list index out of range\n",
      "ZZ3819 visit 2 failed: 'NoneType' object is not subscriptable\n"
     ]
    },
    {
     "name": "stdout",
     "output_type": "stream",
     "text": [
      "(311, 486, 256, 536)\n",
      "There is no blood pressure data available during the extubated period.\n",
      "(311, 486, 256, 537)\n"
     ]
    },
    {
     "name": "stderr",
     "output_type": "stream",
     "text": [
      "ZV2143 visit 2 failed: 'NoneType' object is not subscriptable\n"
     ]
    },
    {
     "name": "stdout",
     "output_type": "stream",
     "text": [
      "There is no blood pressure data available during the extubated period.\n",
      "(312, 488, 257, 538)\n"
     ]
    },
    {
     "name": "stderr",
     "output_type": "stream",
     "text": [
      "ZK0210 visit 2 failed: 'NoneType' object is not subscriptable\n"
     ]
    },
    {
     "name": "stdout",
     "output_type": "stream",
     "text": [
      "There is no blood pressure data available during the extubated period.\n",
      "(312, 489, 258, 539)\n"
     ]
    },
    {
     "name": "stderr",
     "output_type": "stream",
     "text": [
      "TM3407 visit 2 failed: list index out of range\n"
     ]
    },
    {
     "name": "stdout",
     "output_type": "stream",
     "text": [
      "(315, 492, 259, 540)\n"
     ]
    },
    {
     "name": "stderr",
     "output_type": "stream",
     "text": [
      "TB3584 visit 2 failed: 'NoneType' object is not subscriptable\n"
     ]
    },
    {
     "name": "stdout",
     "output_type": "stream",
     "text": [
      "There is no blood pressure data available during the extubated period.\n",
      "(318, 493, 260, 541)\n"
     ]
    },
    {
     "name": "stderr",
     "output_type": "stream",
     "text": [
      "SR3669 visit 2 failed: float division by zero\n"
     ]
    },
    {
     "name": "stdout",
     "output_type": "stream",
     "text": [
      "(318, 494, 261, 542)\n"
     ]
    },
    {
     "name": "stderr",
     "output_type": "stream",
     "text": [
      "SG0415 visit 2 failed: list index out of range\n",
      "SJ1282 visit 2 failed: 'NoneType' object is not subscriptable\n"
     ]
    },
    {
     "name": "stdout",
     "output_type": "stream",
     "text": [
      "(318, 495, 262, 543)\n",
      "There is no blood pressure data available during the extubated period.\n",
      "(318, 495, 262, 544)\n"
     ]
    },
    {
     "name": "stderr",
     "output_type": "stream",
     "text": [
      "SY1360 visit 2 failed: float division by zero\n",
      "SW3127 visit 2 failed: 'NoneType' object is not subscriptable\n",
      "AR1658 visit 2 failed: 'NoneType' object is not subscriptable\n"
     ]
    },
    {
     "name": "stdout",
     "output_type": "stream",
     "text": [
      "(319, 498, 262, 545)\n",
      "There is no blood pressure data available during the extubated period.\n",
      "(319, 498, 262, 546)\n",
      "There is no blood pressure data available during the extubated period.\n",
      "(319, 498, 262, 547)\n"
     ]
    },
    {
     "name": "stderr",
     "output_type": "stream",
     "text": [
      "AX2574 visit 2 failed: list index out of range\n"
     ]
    },
    {
     "name": "stdout",
     "output_type": "stream",
     "text": [
      "(320, 501, 263, 548)\n"
     ]
    },
    {
     "name": "stderr",
     "output_type": "stream",
     "text": [
      "FN1631 visit 2 failed: 'NoneType' object is not subscriptable\n"
     ]
    },
    {
     "name": "stdout",
     "output_type": "stream",
     "text": [
      "There is no blood pressure data available during the extubated period.\n",
      "(320, 505, 263, 549)\n"
     ]
    },
    {
     "name": "stderr",
     "output_type": "stream",
     "text": [
      "FA3665 visit 2 failed: 'NoneType' object is not subscriptable\n"
     ]
    },
    {
     "name": "stdout",
     "output_type": "stream",
     "text": [
      "There is no blood pressure data available during the extubated period.\n",
      "(320, 506, 263, 550)\n"
     ]
    },
    {
     "name": "stderr",
     "output_type": "stream",
     "text": [
      "FQ0243 visit 2 failed: 'NoneType' object is not subscriptable\n",
      "FX3187 visit 2 failed: list index out of range\n",
      "FB0142 visit 2 failed: list index out of range\n"
     ]
    },
    {
     "name": "stdout",
     "output_type": "stream",
     "text": [
      "There is no blood pressure data available during the extubated period.\n",
      "(320, 507, 263, 551)\n",
      "(320, 507, 263, 552)\n",
      "(320, 507, 263, 553)\n"
     ]
    },
    {
     "name": "stderr",
     "output_type": "stream",
     "text": [
      "OX1965 visit 2 failed: 'NoneType' object is not subscriptable\n"
     ]
    },
    {
     "name": "stdout",
     "output_type": "stream",
     "text": [
      "There is no blood pressure data available during the extubated period.\n",
      "(323, 509, 264, 554)\n"
     ]
    },
    {
     "name": "stderr",
     "output_type": "stream",
     "text": [
      "OP3050 visit 2 failed: list index out of range\n"
     ]
    },
    {
     "name": "stdout",
     "output_type": "stream",
     "text": [
      "(323, 510, 264, 555)\n"
     ]
    },
    {
     "name": "stderr",
     "output_type": "stream",
     "text": [
      "HI2811 visit 2 failed: float division by zero\n"
     ]
    },
    {
     "name": "stdout",
     "output_type": "stream",
     "text": [
      "(323, 510, 266, 556)\n"
     ]
    },
    {
     "name": "stderr",
     "output_type": "stream",
     "text": [
      "HN2879 visit 2 failed: list index out of range\n"
     ]
    },
    {
     "name": "stdout",
     "output_type": "stream",
     "text": [
      "(324, 510, 267, 557)\n"
     ]
    },
    {
     "name": "stderr",
     "output_type": "stream",
     "text": [
      "HG1370 visit 2 failed: 'NoneType' object is not subscriptable\n",
      "HF1930 visit 2 failed: 'NoneType' object is not subscriptable\n"
     ]
    },
    {
     "name": "stdout",
     "output_type": "stream",
     "text": [
      "There is no blood pressure data available during the extubated period.\n",
      "(324, 511, 267, 558)\n",
      "There is no blood pressure data available during the extubated period.\n",
      "(324, 511, 267, 559)\n"
     ]
    },
    {
     "name": "stderr",
     "output_type": "stream",
     "text": [
      "HH3397 visit 2 failed: 'NoneType' object is not subscriptable\n",
      "HH2517 visit 2 failed: list index out of range\n",
      "HM3001 visit 2 failed: list index out of range\n"
     ]
    },
    {
     "name": "stdout",
     "output_type": "stream",
     "text": [
      "There is no blood pressure data available during the extubated period.\n",
      "(324, 512, 267, 560)\n",
      "(324, 512, 267, 561)\n",
      "(324, 512, 267, 562)\n"
     ]
    },
    {
     "name": "stderr",
     "output_type": "stream",
     "text": [
      "HX1195 visit 2 failed: 'NoneType' object is not subscriptable\n",
      "HW3210 visit 2 failed: 'NoneType' object is not subscriptable\n",
      "MO2268 visit 2 failed: 'NoneType' object is not subscriptable\n"
     ]
    },
    {
     "name": "stdout",
     "output_type": "stream",
     "text": [
      "There is no blood pressure data available during the extubated period.\n",
      "(324, 512, 268, 563)\n",
      "There is no blood pressure data available during the extubated period.\n",
      "(324, 512, 268, 564)\n",
      "There is no blood pressure data available during the extubated period.\n",
      "(324, 512, 268, 565)\n"
     ]
    },
    {
     "name": "stderr",
     "output_type": "stream",
     "text": [
      "MB2234 visit 2 failed: 'NoneType' object is not subscriptable\n",
      "MB1161 visit 2 failed: 'NoneType' object is not subscriptable\n"
     ]
    },
    {
     "name": "stdout",
     "output_type": "stream",
     "text": [
      "There is no blood pressure data available during the extubated period.\n",
      "(324, 514, 269, 566)\n",
      "There is no blood pressure data available during the extubated period.\n",
      "(324, 514, 269, 567)\n"
     ]
    },
    {
     "name": "stderr",
     "output_type": "stream",
     "text": [
      "JU3188 visit 2 failed: 'NoneType' object is not subscriptable\n"
     ]
    },
    {
     "name": "stdout",
     "output_type": "stream",
     "text": [
      "There is no blood pressure data available during the extubated period.\n",
      "(324, 516, 269, 568)\n"
     ]
    },
    {
     "name": "stderr",
     "output_type": "stream",
     "text": [
      "JN0830 visit 2 failed: 'NoneType' object is not subscriptable\n"
     ]
    },
    {
     "name": "stdout",
     "output_type": "stream",
     "text": [
      "There is no blood pressure data available during the extubated period.\n",
      "(325, 516, 269, 569)\n"
     ]
    },
    {
     "name": "stderr",
     "output_type": "stream",
     "text": [
      "JA2458 visit 2 failed: 'NoneType' object is not subscriptable\n"
     ]
    },
    {
     "name": "stdout",
     "output_type": "stream",
     "text": [
      "There is no blood pressure data available during the extubated period.\n",
      "(326, 516, 269, 570)\n"
     ]
    },
    {
     "name": "stderr",
     "output_type": "stream",
     "text": [
      "JF3629 visit 2 failed: 'NoneType' object is not subscriptable\n",
      "JF0436 visit 2 failed: 'NoneType' object is not subscriptable\n"
     ]
    },
    {
     "name": "stdout",
     "output_type": "stream",
     "text": [
      "There is no blood pressure data available during the extubated period.\n",
      "(326, 516, 269, 571)\n",
      "There is no blood pressure data available during the extubated period.\n",
      "(326, 516, 269, 572)\n"
     ]
    },
    {
     "name": "stderr",
     "output_type": "stream",
     "text": [
      "JO1154 visit 2 failed: 'NoneType' object is not subscriptable\n",
      "JC3990 visit 2 failed: 'NoneType' object is not subscriptable\n"
     ]
    },
    {
     "name": "stdout",
     "output_type": "stream",
     "text": [
      "There is no blood pressure data available during the extubated period.\n",
      "(326, 516, 269, 573)\n",
      "There is no blood pressure data available during the extubated period.\n",
      "(326, 516, 269, 574)\n"
     ]
    },
    {
     "name": "stderr",
     "output_type": "stream",
     "text": [
      "JV2802 visit 2 failed: list index out of range\n"
     ]
    },
    {
     "name": "stdout",
     "output_type": "stream",
     "text": [
      "(326, 517, 269, 575)\n"
     ]
    },
    {
     "name": "stderr",
     "output_type": "stream",
     "text": [
      "JL1921 visit 2 failed: list index out of range\n",
      "JY0954 visit 2 failed: 'NoneType' object is not subscriptable\n",
      "JP3087 visit 2 failed: 'NoneType' object is not subscriptable\n"
     ]
    },
    {
     "name": "stdout",
     "output_type": "stream",
     "text": [
      "(327, 517, 269, 576)\n",
      "There is no blood pressure data available during the extubated period.\n",
      "(327, 517, 269, 577)\n",
      "There is no blood pressure data available during the extubated period.\n",
      "(327, 517, 269, 578)\n"
     ]
    },
    {
     "name": "stderr",
     "output_type": "stream",
     "text": [
      "JW2886 visit 2 failed: 'NoneType' object is not subscriptable\n"
     ]
    },
    {
     "name": "stdout",
     "output_type": "stream",
     "text": [
      "There is no blood pressure data available during the extubated period.\n",
      "(327, 517, 270, 579)\n"
     ]
    },
    {
     "name": "stderr",
     "output_type": "stream",
     "text": [
      "CT0571 visit 2 failed: list index out of range\n"
     ]
    },
    {
     "name": "stdout",
     "output_type": "stream",
     "text": [
      "(328, 518, 272, 580)\n"
     ]
    },
    {
     "name": "stderr",
     "output_type": "stream",
     "text": [
      "DR2183 visit 2 failed: list index out of range\n",
      "DI3758 visit 2 failed: 'NoneType' object is not subscriptable\n"
     ]
    },
    {
     "name": "stdout",
     "output_type": "stream",
     "text": [
      "(329, 520, 272, 581)\n",
      "There is no blood pressure data available during the extubated period.\n",
      "(329, 520, 272, 582)\n"
     ]
    },
    {
     "name": "stderr",
     "output_type": "stream",
     "text": [
      "DT1883 visit 2 failed: float division by zero\n"
     ]
    },
    {
     "name": "stdout",
     "output_type": "stream",
     "text": [
      "(329, 521, 273, 583)\n"
     ]
    },
    {
     "name": "stderr",
     "output_type": "stream",
     "text": [
      "DC3605 visit 2 failed: 'NoneType' object is not subscriptable\n"
     ]
    },
    {
     "name": "stdout",
     "output_type": "stream",
     "text": [
      "There is no blood pressure data available during the extubated period.\n",
      "(330, 521, 274, 584)\n"
     ]
    },
    {
     "name": "stderr",
     "output_type": "stream",
     "text": [
      "DL1180 visit 2 failed: 'NoneType' object is not subscriptable\n"
     ]
    },
    {
     "name": "stdout",
     "output_type": "stream",
     "text": [
      "There is no blood pressure data available during the extubated period.\n",
      "(331, 522, 274, 585)\n"
     ]
    },
    {
     "name": "stderr",
     "output_type": "stream",
     "text": [
      "VR4065 visit 2 failed: float division by zero\n"
     ]
    },
    {
     "name": "stdout",
     "output_type": "stream",
     "text": [
      "(331, 523, 274, 586)\n"
     ]
    },
    {
     "name": "stderr",
     "output_type": "stream",
     "text": [
      "VQ3902 visit 2 failed: 'NoneType' object is not subscriptable\n"
     ]
    },
    {
     "name": "stdout",
     "output_type": "stream",
     "text": [
      "There is no blood pressure data available during the extubated period.\n",
      "(332, 527, 276, 587)\n"
     ]
    },
    {
     "name": "stderr",
     "output_type": "stream",
     "text": [
      "VB3080 visit 2 failed: float division by zero\n"
     ]
    },
    {
     "name": "stdout",
     "output_type": "stream",
     "text": [
      "(334, 527, 276, 588)\n"
     ]
    },
    {
     "name": "stderr",
     "output_type": "stream",
     "text": [
      "QG0833 visit 2 failed: list index out of range\n"
     ]
    },
    {
     "name": "stdout",
     "output_type": "stream",
     "text": [
      "(335, 527, 278, 589)\n"
     ]
    },
    {
     "name": "stderr",
     "output_type": "stream",
     "text": [
      "QF2129 visit 2 failed: list index out of range\n"
     ]
    },
    {
     "name": "stdout",
     "output_type": "stream",
     "text": [
      "(336, 527, 278, 590)\n"
     ]
    },
    {
     "name": "stderr",
     "output_type": "stream",
     "text": [
      "QV3251 visit 2 failed: list index out of range\n"
     ]
    },
    {
     "name": "stdout",
     "output_type": "stream",
     "text": [
      "(337, 530, 280, 591)\n"
     ]
    },
    {
     "name": "stderr",
     "output_type": "stream",
     "text": [
      "QV2851 visit 2 failed: 'NoneType' object is not subscriptable\n",
      "QX3047 visit 2 failed: 'NoneType' object is not subscriptable\n",
      "QY0226 visit 2 failed: 'NoneType' object is not subscriptable\n"
     ]
    },
    {
     "name": "stdout",
     "output_type": "stream",
     "text": [
      "There is no blood pressure data available during the extubated period.\n",
      "(337, 531, 280, 592)\n",
      "There is no blood pressure data available during the extubated period.\n",
      "(337, 531, 280, 593)\n",
      "There is no blood pressure data available during the extubated period.\n",
      "(337, 531, 280, 594)\n"
     ]
    },
    {
     "name": "stderr",
     "output_type": "stream",
     "text": [
      "QW2457 visit 2 failed: float division by zero\n"
     ]
    },
    {
     "name": "stdout",
     "output_type": "stream",
     "text": [
      "(338, 531, 280, 595)\n"
     ]
    },
    {
     "name": "stderr",
     "output_type": "stream",
     "text": [
      "XR2694 visit 2 failed: 'NoneType' object is not subscriptable\n"
     ]
    },
    {
     "name": "stdout",
     "output_type": "stream",
     "text": [
      "There is no blood pressure data available during the extubated period.\n",
      "(339, 531, 280, 596)\n"
     ]
    },
    {
     "name": "stderr",
     "output_type": "stream",
     "text": [
      "XF1055 visit 2 failed: 'NoneType' object is not subscriptable\n"
     ]
    },
    {
     "name": "stdout",
     "output_type": "stream",
     "text": [
      "There is no blood pressure data available during the extubated period.\n",
      "(339, 535, 282, 597)\n"
     ]
    },
    {
     "name": "stderr",
     "output_type": "stream",
     "text": [
      "XM3322 visit 2 failed: 'NoneType' object is not subscriptable\n",
      "XC1388 visit 2 failed: list index out of range\n"
     ]
    },
    {
     "name": "stdout",
     "output_type": "stream",
     "text": [
      "There is no blood pressure data available during the extubated period.\n",
      "(340, 535, 283, 598)\n",
      "(340, 535, 283, 599)\n"
     ]
    },
    {
     "name": "stderr",
     "output_type": "stream",
     "text": [
      "XX1525 visit 2 failed: 'NoneType' object is not subscriptable\n"
     ]
    },
    {
     "name": "stdout",
     "output_type": "stream",
     "text": [
      "There is no blood pressure data available during the extubated period.\n",
      "(340, 535, 283, 600)\n"
     ]
    },
    {
     "name": "stderr",
     "output_type": "stream",
     "text": [
      "XL1553 visit 2 failed: list index out of range\n"
     ]
    },
    {
     "name": "stdout",
     "output_type": "stream",
     "text": [
      "(341, 536, 283, 601)\n"
     ]
    },
    {
     "name": "stderr",
     "output_type": "stream",
     "text": [
      "EN3335 visit 2 failed: 'NoneType' object is not subscriptable\n"
     ]
    },
    {
     "name": "stdout",
     "output_type": "stream",
     "text": [
      "There is no blood pressure data available during the extubated period.\n",
      "(341, 537, 283, 602)\n"
     ]
    },
    {
     "name": "stderr",
     "output_type": "stream",
     "text": [
      "EA1186 visit 2 failed: 'NoneType' object is not subscriptable\n"
     ]
    },
    {
     "name": "stdout",
     "output_type": "stream",
     "text": [
      "There is no blood pressure data available during the extubated period.\n",
      "(343, 537, 283, 603)\n"
     ]
    },
    {
     "name": "stderr",
     "output_type": "stream",
     "text": [
      "EF3271 visit 2 failed: list index out of range\n",
      "EM2092 visit 2 failed: 'NoneType' object is not subscriptable\n"
     ]
    },
    {
     "name": "stdout",
     "output_type": "stream",
     "text": [
      "(343, 538, 283, 604)\n",
      "There is no blood pressure data available during the extubated period.\n",
      "(343, 538, 283, 605)\n"
     ]
    },
    {
     "name": "stderr",
     "output_type": "stream",
     "text": [
      "EJ3480 visit 2 failed: float division by zero\n"
     ]
    },
    {
     "name": "stdout",
     "output_type": "stream",
     "text": [
      "(343, 539, 283, 606)\n"
     ]
    },
    {
     "name": "stderr",
     "output_type": "stream",
     "text": [
      "EB2133 visit 2 failed: 'NoneType' object is not subscriptable\n"
     ]
    },
    {
     "name": "stdout",
     "output_type": "stream",
     "text": [
      "There is no blood pressure data available during the extubated period.\n",
      "(343, 539, 286, 607)\n"
     ]
    },
    {
     "name": "stderr",
     "output_type": "stream",
     "text": [
      "EY3880 visit 2 failed: 'NoneType' object is not subscriptable\n"
     ]
    },
    {
     "name": "stdout",
     "output_type": "stream",
     "text": [
      "There is no blood pressure data available during the extubated period.\n",
      "(343, 539, 287, 608)\n"
     ]
    },
    {
     "name": "stderr",
     "output_type": "stream",
     "text": [
      "BS1057 visit 2 failed: 'NoneType' object is not subscriptable\n"
     ]
    },
    {
     "name": "stdout",
     "output_type": "stream",
     "text": [
      "There is no blood pressure data available during the extubated period.\n",
      "(344, 540, 287, 609)\n"
     ]
    },
    {
     "name": "stderr",
     "output_type": "stream",
     "text": [
      "BD3015 visit 2 failed: 'NoneType' object is not subscriptable\n"
     ]
    },
    {
     "name": "stdout",
     "output_type": "stream",
     "text": [
      "There is no blood pressure data available during the extubated period.\n",
      "(345, 540, 289, 610)\n"
     ]
    },
    {
     "name": "stderr",
     "output_type": "stream",
     "text": [
      "BX1752 visit 2 failed: list index out of range\n"
     ]
    },
    {
     "name": "stdout",
     "output_type": "stream",
     "text": [
      "(345, 542, 289, 611)\n"
     ]
    },
    {
     "name": "stderr",
     "output_type": "stream",
     "text": [
      "KI0131 visit 2 failed: 'NoneType' object is not subscriptable\n"
     ]
    },
    {
     "name": "stdout",
     "output_type": "stream",
     "text": [
      "There is no blood pressure data available during the extubated period.\n",
      "(345, 545, 290, 612)\n"
     ]
    },
    {
     "name": "stderr",
     "output_type": "stream",
     "text": [
      "KQ1501 visit 2 failed: list index out of range\n"
     ]
    },
    {
     "name": "stdout",
     "output_type": "stream",
     "text": [
      "(345, 548, 292, 613)\n"
     ]
    },
    {
     "name": "stderr",
     "output_type": "stream",
     "text": [
      "LZ1639 visit 2 failed: list index out of range\n",
      "LA1106 visit 2 failed: float division by zero\n"
     ]
    },
    {
     "name": "stdout",
     "output_type": "stream",
     "text": [
      "(346, 549, 293, 614)\n",
      "(346, 549, 293, 615)\n"
     ]
    },
    {
     "name": "stderr",
     "output_type": "stream",
     "text": [
      "LJ3633 visit 2 failed: 'NoneType' object is not subscriptable\n",
      "LQ1384 visit 2 failed: 'NoneType' object is not subscriptable\n",
      "LB2274 visit 2 failed: list index out of range\n",
      "LK3360 visit 2 failed: list index out of range\n"
     ]
    },
    {
     "name": "stdout",
     "output_type": "stream",
     "text": [
      "There is no blood pressure data available during the extubated period.\n",
      "(346, 549, 293, 616)\n",
      "There is no blood pressure data available during the extubated period.\n",
      "(346, 549, 293, 617)\n",
      "(346, 549, 293, 618)\n",
      "(346, 549, 293, 619)\n"
     ]
    },
    {
     "name": "stderr",
     "output_type": "stream",
     "text": [
      "LY3942 visit 2 failed: 'NoneType' object is not subscriptable\n",
      "YR3611 visit 2 failed: list index out of range\n",
      "YR3736 visit 2 failed: 'NoneType' object is not subscriptable\n"
     ]
    },
    {
     "name": "stdout",
     "output_type": "stream",
     "text": [
      "There is no blood pressure data available during the extubated period.\n",
      "(347, 549, 293, 620)\n",
      "(347, 549, 293, 621)\n",
      "There is no blood pressure data available during the extubated period.\n",
      "(347, 549, 293, 622)\n"
     ]
    },
    {
     "name": "stderr",
     "output_type": "stream",
     "text": [
      "YN0877 visit 2 failed: 'NoneType' object is not subscriptable\n"
     ]
    },
    {
     "name": "stdout",
     "output_type": "stream",
     "text": [
      "There is no blood pressure data available during the extubated period.\n",
      "(347, 550, 293, 623)\n"
     ]
    },
    {
     "name": "stderr",
     "output_type": "stream",
     "text": [
      "YJ1585 visit 2 failed: list index out of range\n"
     ]
    },
    {
     "name": "stdout",
     "output_type": "stream",
     "text": [
      "(347, 551, 294, 624)\n"
     ]
    },
    {
     "name": "stderr",
     "output_type": "stream",
     "text": [
      "YD3777 visit 2 failed: list index out of range\n"
     ]
    },
    {
     "name": "stdout",
     "output_type": "stream",
     "text": [
      "(347, 551, 295, 625)\n"
     ]
    },
    {
     "name": "stderr",
     "output_type": "stream",
     "text": [
      "YX2562 visit 2 failed: 'NoneType' object is not subscriptable\n"
     ]
    },
    {
     "name": "stdout",
     "output_type": "stream",
     "text": [
      "There is no blood pressure data available during the extubated period.\n",
      "(348, 552, 296, 626)\n"
     ]
    },
    {
     "name": "stderr",
     "output_type": "stream",
     "text": [
      "YY1571 visit 2 failed: 'NoneType' object is not subscriptable\n"
     ]
    },
    {
     "name": "stdout",
     "output_type": "stream",
     "text": [
      "There is no blood pressure data available during the extubated period.\n",
      "(348, 552, 297, 627)\n"
     ]
    },
    {
     "name": "stderr",
     "output_type": "stream",
     "text": [
      "PA3979 visit 2 failed: 'NoneType' object is not subscriptable\n",
      "PA3476 visit 2 failed: list index out of range\n"
     ]
    },
    {
     "name": "stdout",
     "output_type": "stream",
     "text": [
      "There is no blood pressure data available during the extubated period.\n",
      "(348, 554, 297, 628)\n",
      "(348, 554, 297, 629)\n"
     ]
    },
    {
     "name": "stderr",
     "output_type": "stream",
     "text": [
      "PV1781 visit 2 failed: 'NoneType' object is not subscriptable\n"
     ]
    },
    {
     "name": "stdout",
     "output_type": "stream",
     "text": [
      "There is no blood pressure data available during the extubated period.\n",
      "(348, 555, 297, 630)\n"
     ]
    },
    {
     "name": "stderr",
     "output_type": "stream",
     "text": [
      "PK2813 visit 2 failed: 'NoneType' object is not subscriptable\n",
      "PL0786 visit 2 failed: list index out of range\n"
     ]
    },
    {
     "name": "stdout",
     "output_type": "stream",
     "text": [
      "There is no blood pressure data available during the extubated period.\n",
      "(348, 555, 297, 631)\n",
      "(348, 555, 297, 632)\n"
     ]
    },
    {
     "name": "stderr",
     "output_type": "stream",
     "text": [
      "WF1607 visit 2 failed: 'NoneType' object is not subscriptable\n"
     ]
    },
    {
     "name": "stdout",
     "output_type": "stream",
     "text": [
      "There is no blood pressure data available during the extubated period.\n",
      "(348, 557, 298, 633)\n"
     ]
    },
    {
     "name": "stderr",
     "output_type": "stream",
     "text": [
      "WD1817 visit 2 failed: 'NoneType' object is not subscriptable\n"
     ]
    },
    {
     "name": "stdout",
     "output_type": "stream",
     "text": [
      "There is no blood pressure data available during the extubated period.\n",
      "(348, 558, 298, 634)\n"
     ]
    },
    {
     "name": "stderr",
     "output_type": "stream",
     "text": [
      "UG1136 visit 3 failed: 'NoneType' object is not subscriptable\n"
     ]
    },
    {
     "name": "stdout",
     "output_type": "stream",
     "text": [
      "There is no blood pressure data available during the extubated period.\n",
      "(349, 560, 299, 635)\n"
     ]
    },
    {
     "name": "stderr",
     "output_type": "stream",
     "text": [
      "US1691 visit 3 failed: 'NoneType' object is not subscriptable\n"
     ]
    },
    {
     "name": "stdout",
     "output_type": "stream",
     "text": [
      "There is no blood pressure data available during the extubated period.\n",
      "(349, 560, 299, 636)\n"
     ]
    },
    {
     "name": "stderr",
     "output_type": "stream",
     "text": [
      "NO0745 visit 3 failed: float division by zero\n"
     ]
    },
    {
     "name": "stdout",
     "output_type": "stream",
     "text": [
      "(351, 564, 299, 637)\n"
     ]
    },
    {
     "name": "stderr",
     "output_type": "stream",
     "text": [
      "GF0332 visit 3 failed: 'NoneType' object is not subscriptable\n"
     ]
    },
    {
     "name": "stdout",
     "output_type": "stream",
     "text": [
      "There is no blood pressure data available during the extubated period.\n",
      "(351, 564, 300, 638)\n"
     ]
    },
    {
     "name": "stderr",
     "output_type": "stream",
     "text": [
      "GH2661 visit 3 failed: 'NoneType' object is not subscriptable\n"
     ]
    },
    {
     "name": "stdout",
     "output_type": "stream",
     "text": [
      "There is no blood pressure data available during the extubated period.\n",
      "(351, 564, 300, 639)\n"
     ]
    },
    {
     "name": "stderr",
     "output_type": "stream",
     "text": [
      "ZV2143 visit 3 failed: 'NoneType' object is not subscriptable\n"
     ]
    },
    {
     "name": "stdout",
     "output_type": "stream",
     "text": [
      "There is no blood pressure data available during the extubated period.\n",
      "(351, 565, 300, 640)\n"
     ]
    },
    {
     "name": "stderr",
     "output_type": "stream",
     "text": [
      "ZB2434 visit 3 failed: list index out of range\n"
     ]
    },
    {
     "name": "stdout",
     "output_type": "stream",
     "text": [
      "(351, 565, 301, 641)\n"
     ]
    },
    {
     "name": "stderr",
     "output_type": "stream",
     "text": [
      "TR1110 visit 3 failed: 'NoneType' object is not subscriptable\n",
      "TU3561 visit 3 failed: 'NoneType' object is not subscriptable\n",
      "TZ3016 visit 3 failed: 'NoneType' object is not subscriptable\n"
     ]
    },
    {
     "name": "stdout",
     "output_type": "stream",
     "text": [
      "There is no blood pressure data available during the extubated period.\n",
      "(351, 565, 301, 642)\n",
      "There is no blood pressure data available during the extubated period.\n",
      "(351, 565, 301, 643)\n",
      "There is no blood pressure data available during the extubated period.\n",
      "(351, 565, 301, 644)\n"
     ]
    },
    {
     "name": "stderr",
     "output_type": "stream",
     "text": [
      "TM3407 visit 3 failed: list index out of range\n"
     ]
    },
    {
     "name": "stdout",
     "output_type": "stream",
     "text": [
      "(351, 566, 301, 645)\n"
     ]
    },
    {
     "name": "stderr",
     "output_type": "stream",
     "text": [
      "TL3114 visit 3 failed: list index out of range\n"
     ]
    },
    {
     "name": "stdout",
     "output_type": "stream",
     "text": [
      "(351, 567, 301, 646)\n"
     ]
    },
    {
     "name": "stderr",
     "output_type": "stream",
     "text": [
      "SF1521 visit 3 failed: list index out of range\n"
     ]
    },
    {
     "name": "stdout",
     "output_type": "stream",
     "text": [
      "(352, 568, 301, 647)\n"
     ]
    },
    {
     "name": "stderr",
     "output_type": "stream",
     "text": [
      "FL1153 visit 3 failed: list index out of range\n"
     ]
    },
    {
     "name": "stdout",
     "output_type": "stream",
     "text": [
      "(354, 573, 302, 648)\n"
     ]
    },
    {
     "name": "stderr",
     "output_type": "stream",
     "text": [
      "MO2561 visit 3 failed: 'NoneType' object is not subscriptable\n",
      "MH1463 visit 3 failed: 'NoneType' object is not subscriptable\n"
     ]
    },
    {
     "name": "stdout",
     "output_type": "stream",
     "text": [
      "There is no blood pressure data available during the extubated period.\n",
      "(355, 579, 302, 649)\n",
      "There is no blood pressure data available during the extubated period.\n",
      "(355, 579, 302, 650)\n"
     ]
    },
    {
     "name": "stderr",
     "output_type": "stream",
     "text": [
      "MC3521 visit 3 failed: 'NoneType' object is not subscriptable\n",
      "MC3085 visit 3 failed: 'NoneType' object is not subscriptable\n"
     ]
    },
    {
     "name": "stdout",
     "output_type": "stream",
     "text": [
      "There is no blood pressure data available during the extubated period.\n",
      "(355, 579, 302, 651)\n",
      "There is no blood pressure data available during the extubated period.\n",
      "(355, 579, 302, 652)\n"
     ]
    },
    {
     "name": "stderr",
     "output_type": "stream",
     "text": [
      "JZ0818 visit 3 failed: list index out of range\n",
      "JF3629 visit 3 failed: list index out of range\n",
      "JV2802 visit 3 failed: 'NoneType' object is not subscriptable\n"
     ]
    },
    {
     "name": "stdout",
     "output_type": "stream",
     "text": [
      "(356, 579, 302, 653)\n",
      "(356, 579, 302, 654)\n",
      "There is no blood pressure data available during the extubated period.\n",
      "(356, 579, 302, 655)\n"
     ]
    },
    {
     "name": "stderr",
     "output_type": "stream",
     "text": [
      "JV2038 visit 3 failed: 'NoneType' object is not subscriptable\n",
      "JY0954 visit 3 failed: 'NoneType' object is not subscriptable\n",
      "JW1624 visit 3 failed: 'NoneType' object is not subscriptable\n"
     ]
    },
    {
     "name": "stdout",
     "output_type": "stream",
     "text": [
      "There is no blood pressure data available during the extubated period.\n",
      "(356, 579, 302, 656)\n",
      "There is no blood pressure data available during the extubated period.\n",
      "(356, 579, 302, 657)\n",
      "There is no blood pressure data available during the extubated period.\n",
      "(356, 579, 302, 658)\n"
     ]
    },
    {
     "name": "stderr",
     "output_type": "stream",
     "text": [
      "DC3605 visit 3 failed: list index out of range\n"
     ]
    },
    {
     "name": "stdout",
     "output_type": "stream",
     "text": [
      "(359, 581, 303, 659)\n"
     ]
    },
    {
     "name": "stderr",
     "output_type": "stream",
     "text": [
      "DD1778 visit 3 failed: 'NoneType' object is not subscriptable\n",
      "DX3720 visit 3 failed: 'NoneType' object is not subscriptable\n",
      "DE0855 visit 3 failed: list index out of range\n"
     ]
    },
    {
     "name": "stdout",
     "output_type": "stream",
     "text": [
      "There is no blood pressure data available during the extubated period.\n",
      "(359, 581, 303, 660)\n",
      "There is no blood pressure data available during the extubated period.\n",
      "(359, 581, 303, 661)\n",
      "(359, 581, 303, 662)\n"
     ]
    },
    {
     "name": "stderr",
     "output_type": "stream",
     "text": [
      "VA1742 visit 3 failed: list index out of range\n"
     ]
    },
    {
     "name": "stdout",
     "output_type": "stream",
     "text": [
      "(362, 581, 303, 663)\n"
     ]
    },
    {
     "name": "stderr",
     "output_type": "stream",
     "text": [
      "VA1606 visit 3 failed: 'NoneType' object is not subscriptable\n"
     ]
    },
    {
     "name": "stdout",
     "output_type": "stream",
     "text": [
      "There is no blood pressure data available during the extubated period.\n",
      "(362, 581, 303, 664)\n"
     ]
    },
    {
     "name": "stderr",
     "output_type": "stream",
     "text": [
      "VV2076 visit 3 failed: 'NoneType' object is not subscriptable\n",
      "VV3912 visit 3 failed: list index out of range\n",
      "VQ3902 visit 3 failed: 'NoneType' object is not subscriptable\n"
     ]
    },
    {
     "name": "stdout",
     "output_type": "stream",
     "text": [
      "There is no blood pressure data available during the extubated period.\n",
      "(362, 581, 303, 665)\n",
      "(362, 581, 303, 666)\n",
      "There is no blood pressure data available during the extubated period.\n",
      "(362, 581, 303, 667)\n"
     ]
    },
    {
     "name": "stderr",
     "output_type": "stream",
     "text": [
      "VW1487 visit 3 failed: 'NoneType' object is not subscriptable\n"
     ]
    },
    {
     "name": "stdout",
     "output_type": "stream",
     "text": [
      "There is no blood pressure data available during the extubated period.\n",
      "(362, 581, 304, 668)\n"
     ]
    },
    {
     "name": "stderr",
     "output_type": "stream",
     "text": [
      "QG3287 visit 3 failed: 'NoneType' object is not subscriptable\n"
     ]
    },
    {
     "name": "stdout",
     "output_type": "stream",
     "text": [
      "There is no blood pressure data available during the extubated period.\n",
      "(362, 581, 304, 669)\n"
     ]
    },
    {
     "name": "stderr",
     "output_type": "stream",
     "text": [
      "QH3453 visit 3 failed: list index out of range\n"
     ]
    },
    {
     "name": "stdout",
     "output_type": "stream",
     "text": [
      "(362, 582, 304, 670)\n"
     ]
    },
    {
     "name": "stderr",
     "output_type": "stream",
     "text": [
      "QY3232 visit 3 failed: list index out of range\n"
     ]
    },
    {
     "name": "stdout",
     "output_type": "stream",
     "text": [
      "(364, 582, 304, 671)\n"
     ]
    },
    {
     "name": "stderr",
     "output_type": "stream",
     "text": [
      "XX1525 visit 3 failed: 'NoneType' object is not subscriptable\n"
     ]
    },
    {
     "name": "stdout",
     "output_type": "stream",
     "text": [
      "There is no blood pressure data available during the extubated period.\n",
      "(364, 583, 304, 672)\n"
     ]
    },
    {
     "name": "stderr",
     "output_type": "stream",
     "text": [
      "EB2133 visit 3 failed: list index out of range\n",
      "BR0715 visit 3 failed: float division by zero\n"
     ]
    },
    {
     "name": "stdout",
     "output_type": "stream",
     "text": [
      "(364, 585, 304, 673)\n",
      "(364, 585, 304, 674)\n"
     ]
    },
    {
     "name": "stderr",
     "output_type": "stream",
     "text": [
      "YI0684 visit 3 failed: list index out of range\n",
      "YN0900 visit 3 failed: 'NoneType' object is not subscriptable\n"
     ]
    },
    {
     "name": "stdout",
     "output_type": "stream",
     "text": [
      "(364, 587, 304, 675)\n",
      "There is no blood pressure data available during the extubated period.\n",
      "(364, 587, 304, 676)\n"
     ]
    },
    {
     "name": "stderr",
     "output_type": "stream",
     "text": [
      "WV3677 visit 3 failed: list index out of range\n"
     ]
    },
    {
     "name": "stdout",
     "output_type": "stream",
     "text": [
      "(366, 590, 304, 677)\n"
     ]
    },
    {
     "name": "stderr",
     "output_type": "stream",
     "text": [
      "NI0065 visit 4 failed: list index out of range\n"
     ]
    },
    {
     "name": "stdout",
     "output_type": "stream",
     "text": [
      "(368, 593, 306, 678)\n"
     ]
    },
    {
     "name": "stderr",
     "output_type": "stream",
     "text": [
      "TH1671 visit 4 failed: 'NoneType' object is not subscriptable\n",
      "TV1508 visit 4 failed: 'NoneType' object is not subscriptable\n"
     ]
    },
    {
     "name": "stdout",
     "output_type": "stream",
     "text": [
      "There is no blood pressure data available during the extubated period.\n",
      "(369, 593, 306, 679)\n",
      "There is no blood pressure data available during the extubated period.\n",
      "(369, 593, 306, 680)\n"
     ]
    },
    {
     "name": "stderr",
     "output_type": "stream",
     "text": [
      "MB2234 visit 4 failed: float division by zero\n",
      "JY0954 visit 4 failed: 'NoneType' object is not subscriptable\n",
      "CT3523 visit 4 failed: float division by zero\n",
      "CT0571 visit 4 failed: list index out of range\n"
     ]
    },
    {
     "name": "stdout",
     "output_type": "stream",
     "text": [
      "(371, 597, 307, 681)\n",
      "There is no blood pressure data available during the extubated period.\n",
      "(371, 597, 307, 682)\n",
      "(371, 597, 307, 683)\n",
      "(371, 597, 307, 684)\n"
     ]
    },
    {
     "name": "stderr",
     "output_type": "stream",
     "text": [
      "VO1955 visit 4 failed: 'NoneType' object is not subscriptable\n",
      "VQ3902 visit 4 failed: 'NoneType' object is not subscriptable\n"
     ]
    },
    {
     "name": "stdout",
     "output_type": "stream",
     "text": [
      "There is no blood pressure data available during the extubated period.\n",
      "(371, 597, 308, 685)\n",
      "There is no blood pressure data available during the extubated period.\n",
      "(371, 597, 308, 686)\n"
     ]
    },
    {
     "name": "stderr",
     "output_type": "stream",
     "text": [
      "EN3335 visit 4 failed: list index out of range\n",
      "EB2223 visit 4 failed: 'NoneType' object is not subscriptable\n",
      "EB2133 visit 4 failed: list index out of range\n",
      "KZ0874 visit 4 failed: 'NoneType' object is not subscriptable\n"
     ]
    },
    {
     "name": "stdout",
     "output_type": "stream",
     "text": [
      "(372, 599, 309, 687)\n",
      "There is no blood pressure data available during the extubated period.\n",
      "(372, 599, 309, 688)\n",
      "(372, 599, 309, 689)\n",
      "There is no blood pressure data available during the extubated period.\n",
      "(372, 599, 309, 690)\n"
     ]
    },
    {
     "name": "stderr",
     "output_type": "stream",
     "text": [
      "YR3736 visit 4 failed: 'NoneType' object is not subscriptable\n"
     ]
    },
    {
     "name": "stdout",
     "output_type": "stream",
     "text": [
      "There is no blood pressure data available during the extubated period.\n",
      "(372, 600, 309, 691)\n"
     ]
    },
    {
     "name": "stderr",
     "output_type": "stream",
     "text": [
      "WV3677 visit 4 failed: list index out of range\n"
     ]
    },
    {
     "name": "stdout",
     "output_type": "stream",
     "text": [
      "(377, 600, 311, 692)\n"
     ]
    },
    {
     "name": "stderr",
     "output_type": "stream",
     "text": [
      "SR3669 visit 5 failed: list index out of range\n"
     ]
    },
    {
     "name": "stdout",
     "output_type": "stream",
     "text": [
      "(377, 604, 311, 693)\n"
     ]
    },
    {
     "name": "stderr",
     "output_type": "stream",
     "text": [
      "DD1778 visit 5 failed: 'NoneType' object is not subscriptable\n"
     ]
    },
    {
     "name": "stdout",
     "output_type": "stream",
     "text": [
      "There is no blood pressure data available during the extubated period.\n",
      "(377, 607, 311, 694)\n"
     ]
    },
    {
     "name": "stderr",
     "output_type": "stream",
     "text": [
      "KY3662 visit 5 failed: float division by zero\n",
      "LD3298 visit 5 failed: list index out of range\n"
     ]
    },
    {
     "name": "stdout",
     "output_type": "stream",
     "text": [
      "(377, 607, 312, 695)\n",
      "(377, 607, 312, 696)\n"
     ]
    },
    {
     "name": "stderr",
     "output_type": "stream",
     "text": [
      "PK2813 visit 5 failed: list index out of range\n"
     ]
    },
    {
     "name": "stdout",
     "output_type": "stream",
     "text": [
      "(378, 607, 313, 697)\n"
     ]
    },
    {
     "data": {
      "text/plain": [
       "(378, 608, 313, 697)"
      ]
     },
     "execution_count": 6,
     "metadata": {},
     "output_type": "execute_result"
    }
   ],
   "source": [
    "cohort2_whole.mean_trend_count(abf = True)"
   ]
  },
  {
   "cell_type": "code",
   "execution_count": null,
   "metadata": {},
   "outputs": [],
   "source": []
  }
 ],
 "metadata": {
  "kernelspec": {
   "display_name": "Python 3.8.12 ('base')",
   "language": "python",
   "name": "python3"
  },
  "language_info": {
   "codemirror_mode": {
    "name": "ipython",
    "version": 3
   },
   "file_extension": ".py",
   "mimetype": "text/x-python",
   "name": "python",
   "nbconvert_exporter": "python",
   "pygments_lexer": "ipython3",
   "version": "3.8.12"
  },
  "orig_nbformat": 4,
  "vscode": {
   "interpreter": {
    "hash": "908e60022c9d4979c292b8b79e14df3460174af298c7d4fb047b137ea57e6458"
   }
  }
 },
 "nbformat": 4,
 "nbformat_minor": 2
}
