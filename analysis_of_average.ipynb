{
 "cells": [
  {
   "cell_type": "code",
   "execution_count": 1,
   "metadata": {},
   "outputs": [],
   "source": [
    "import numpy as np\n",
    "import pandas as pd\n",
    "from visits import Visit, Cohort, rolling_autocorrelation\n",
    "import glob\n",
    "import pymannkendall as mk\n",
    "from datetime import datetime, timedelta\n",
    "import matplotlib.pyplot as plt\n",
    "from scipy import stats"
   ]
  },
  {
   "cell_type": "code",
   "execution_count": 2,
   "metadata": {},
   "outputs": [],
   "source": [
    "hr_averages_c1 = pd.read_csv(\"averages_data/hr_averages_c1.csv\", sep=\",\")\n",
    "rr_averages_c1 = pd.read_csv(\"averages_data/rr_averages_c1.csv\", sep=\",\")\n",
    "abf_averages_c1 = pd.read_csv(\"averages_data/abf_averages_c1.csv\", sep=\",\")\n",
    "\n",
    "hr_averages_c3 = pd.read_csv(\"averages_data/hr_averages_c3.csv\", sep=\",\")\n",
    "rr_averages_c3 = pd.read_csv(\"averages_data/rr_averages_c3.csv\", sep=\",\")\n",
    "abf_averages_c3 = pd.read_csv(\"averages_data/abf_averages_c3.csv\", sep=\",\")\n"
   ]
  },
  {
   "cell_type": "code",
   "execution_count": 3,
   "metadata": {},
   "outputs": [],
   "source": [
    "hr_averages_c1 = hr_averages_c1.dropna()\n",
    "rr_averages_c1 = rr_averages_c1.dropna()\n",
    "abf_averages_c1 = abf_averages_c1.dropna()\n",
    "\n",
    "hr_averages_c3 = hr_averages_c3.dropna()\n",
    "rr_averages_c3 = rr_averages_c3.dropna()\n",
    "abf_averages_c3 = abf_averages_c3.dropna()"
   ]
  },
  {
   "cell_type": "code",
   "execution_count": 4,
   "metadata": {},
   "outputs": [
    {
     "data": {
      "text/plain": [
       "(array([ 1.,  0.,  0.,  0.,  0.,  0.,  0.,  0.,  0.,  0.,  0.,  0.,  0.,\n",
       "         0.,  0.,  0.,  0.,  0.,  0.,  0.,  0.,  1.,  0.,  0.,  0.,  0.,\n",
       "         2.,  0.,  0.,  0.,  0.,  0.,  4.,  2.,  5.,  9., 11., 23., 23.,\n",
       "        12.,  8.,  2.,  2.,  1.,  2.,  0.,  0.,  0.,  0.,  3.]),\n",
       " array([-516.26251483, -502.62244403, -488.98237323, -475.34230242,\n",
       "        -461.70223162, -448.06216082, -434.42209002, -420.78201921,\n",
       "        -407.14194841, -393.50187761, -379.8618068 , -366.221736  ,\n",
       "        -352.5816652 , -338.9415944 , -325.30152359, -311.66145279,\n",
       "        -298.02138199, -284.38131118, -270.74124038, -257.10116958,\n",
       "        -243.46109878, -229.82102797, -216.18095717, -202.54088637,\n",
       "        -188.90081556, -175.26074476, -161.62067396, -147.98060316,\n",
       "        -134.34053235, -120.70046155, -107.06039075,  -93.42031994,\n",
       "         -79.78024914,  -66.14017834,  -52.50010754,  -38.86003673,\n",
       "         -25.21996593,  -11.57989513,    2.06017568,   15.70024648,\n",
       "          29.34031728,   42.98038808,   56.62045889,   70.26052969,\n",
       "          83.90060049,   97.5406713 ,  111.1807421 ,  124.8208129 ,\n",
       "         138.4608837 ,  152.10095451,  165.74102531]),\n",
       " <BarContainer object of 50 artists>)"
      ]
     },
     "execution_count": 4,
     "metadata": {},
     "output_type": "execute_result"
    },
    {
     "data": {
      "image/png": "[encoded data removed]",
      "text/plain": [
       "<Figure size 432x288 with 1 Axes>"
      ]
     },
     "metadata": {
      "needs_background": "light"
     },
     "output_type": "display_data"
    }
   ],
   "source": [
    "plt.hist(hr_averages_c1['var_diff'], bins=50)\n"
   ]
  },
  {
   "cell_type": "code",
   "execution_count": 5,
   "metadata": {},
   "outputs": [],
   "source": [
    "p_vals = []"
   ]
  },
  {
   "cell_type": "code",
   "execution_count": 6,
   "metadata": {},
   "outputs": [],
   "source": [
    "s, p = stats.ttest_rel(hr_averages_c1[\"var_hr_1\"], hr_averages_c1[\"var_hr_2\"], alternative='less')\n",
    "p_vals.append(p)"
   ]
  },
  {
   "cell_type": "code",
   "execution_count": 7,
   "metadata": {},
   "outputs": [],
   "source": [
    "s, p = stats.ttest_rel(hr_averages_c1[\"ac_hr_1\"], hr_averages_c1[\"ac_hr_2\"], alternative='less')\n",
    "p_vals.append(p)"
   ]
  },
  {
   "cell_type": "code",
   "execution_count": 8,
   "metadata": {},
   "outputs": [],
   "source": [
    "s, p = stats.ttest_rel(rr_averages_c1[\"var_hr_1\"], rr_averages_c1[\"var_hr_2\"], alternative='less')\n",
    "p_vals.append(p)"
   ]
  },
  {
   "cell_type": "code",
   "execution_count": 9,
   "metadata": {},
   "outputs": [],
   "source": [
    "s, p = stats.ttest_rel(rr_averages_c1[\"ac_hr_1\"], rr_averages_c1[\"ac_hr_2\"], alternative='less')\n",
    "p_vals.append(p)"
   ]
  },
  {
   "cell_type": "code",
   "execution_count": 10,
   "metadata": {},
   "outputs": [],
   "source": [
    "s, p = stats.ttest_rel(abf_averages_c1[\"var_hr_1\"], abf_averages_c1[\"var_hr_2\"], alternative='less')\n",
    "p_vals.append(p)"
   ]
  },
  {
   "cell_type": "code",
   "execution_count": 11,
   "metadata": {},
   "outputs": [],
   "source": [
    "s, p = stats.ttest_rel(abf_averages_c1[\"ac_hr_1\"], abf_averages_c1[\"ac_hr_2\"], alternative='less')\n",
    "p_vals.append(p)"
   ]
  },
  {
   "cell_type": "code",
   "execution_count": 12,
   "metadata": {},
   "outputs": [
    {
     "data": {
      "text/plain": [
       "[0.7621912976872469,\n",
       " 0.05538305025203344,\n",
       " 0.9489669176671472,\n",
       " 0.39900238970971624,\n",
       " 0.15956791385898536,\n",
       " 0.19889526482169018]"
      ]
     },
     "execution_count": 12,
     "metadata": {},
     "output_type": "execute_result"
    }
   ],
   "source": [
    "p_vals"
   ]
  },
  {
   "cell_type": "code",
   "execution_count": null,
   "metadata": {},
   "outputs": [],
   "source": []
  },
  {
   "cell_type": "code",
   "execution_count": 13,
   "metadata": {},
   "outputs": [],
   "source": [
    "p_vals_c3 = []\n",
    "s, p = stats.ttest_rel(hr_averages_c3[\"var_hr_1\"], hr_averages_c3[\"var_hr_2\"], alternative='less')\n",
    "p_vals_c3.append(p)\n",
    "s, p = stats.ttest_rel(hr_averages_c3[\"ac_hr_1\"], hr_averages_c3[\"ac_hr_2\"], alternative='less')\n",
    "p_vals_c3.append(p)\n",
    "s, p = stats.ttest_rel(rr_averages_c3[\"var_hr_1\"], rr_averages_c3[\"var_hr_2\"], alternative='less')\n",
    "p_vals_c3.append(p)\n",
    "s, p = stats.ttest_rel(rr_averages_c3[\"ac_hr_1\"], rr_averages_c3[\"ac_hr_2\"], alternative='less')\n",
    "p_vals_c3.append(p)\n",
    "s, p = stats.ttest_rel(abf_averages_c3[\"var_hr_1\"], abf_averages_c3[\"var_hr_2\"], alternative='less')\n",
    "p_vals_c3.append(p)\n",
    "s, p = stats.ttest_rel(abf_averages_c3[\"ac_hr_1\"], abf_averages_c3[\"ac_hr_2\"], alternative='less')\n",
    "p_vals_c3.append(p)"
   ]
  },
  {
   "cell_type": "code",
   "execution_count": 14,
   "metadata": {},
   "outputs": [
    {
     "data": {
      "text/plain": [
       "[0.029519011435029014,\n",
       " 0.8620409859332699,\n",
       " 0.012243559947190943,\n",
       " 0.9996346243146884,\n",
       " 0.05017111897281451,\n",
       " 0.28520613999811106]"
      ]
     },
     "execution_count": 14,
     "metadata": {},
     "output_type": "execute_result"
    }
   ],
   "source": [
    "p_vals_c3"
   ]
  },
  {
   "cell_type": "code",
   "execution_count": null,
   "metadata": {},
   "outputs": [],
   "source": []
  }
 ],
 "metadata": {
  "kernelspec": {
   "display_name": "Python 3.8.12 ('base')",
   "language": "python",
   "name": "python3"
  },
  "language_info": {
   "codemirror_mode": {
    "name": "ipython",
    "version": 3
   },
   "file_extension": ".py",
   "mimetype": "text/x-python",
   "name": "python",
   "nbconvert_exporter": "python",
   "pygments_lexer": "ipython3",
   "version": "3.8.12"
  },
  "orig_nbformat": 4,
  "vscode": {
   "interpreter": {
    "hash": "908e60022c9d4979c292b8b79e14df3460174af298c7d4fb047b137ea57e6458"
   }
  }
 },
 "nbformat": 4,
 "nbformat_minor": 2
}
