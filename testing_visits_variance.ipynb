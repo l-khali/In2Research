{
 "cells": [
  {
   "cell_type": "code",
   "execution_count": 2,
   "metadata": {},
   "outputs": [],
   "source": [
    "import numpy as np\n",
    "import pandas as pd\n",
    "from visits import Visit, Cohort, MissingDataError, holm_bonferroni\n",
    "import glob\n",
    "import pymannkendall as mk\n",
    "from datetime import datetime, timedelta"
   ]
  },
  {
   "cell_type": "code",
   "execution_count": 3,
   "metadata": {},
   "outputs": [],
   "source": [
    "cohort_1_details = pd.read_csv(\"cohort_1_details_v5.csv\", sep=',')\n",
    "cohort_2_details = pd.read_csv(\"cohort_2_details_v5.csv\", sep=',')\n",
    "cohort_3_details = pd.read_csv(\"cohort_3_details_v5.csv\", sep=',')\n",
    "cohort_4_details = pd.read_csv(\"cohort_4_details_v5.csv\", sep=',')"
   ]
  },
  {
   "cell_type": "code",
   "execution_count": 4,
   "metadata": {},
   "outputs": [],
   "source": [
    "path = \"../In2Research_data/data/\"\n",
    "\n",
    "all_files = glob.glob(path + \"/*\")\n",
    "\n",
    "cohort_dict = {1: [], 2: [], 3: [], 4: [],}\n",
    "\n",
    "for letter1 in all_files:\n",
    "    for letter2 in glob.glob(letter1 + \"/*\"):\n",
    "        for id in glob.glob(letter2 + \"/*\"):\n",
    "            if any(\"_1_\" in file for file in glob.glob(id + \"/*\")):\n",
    "                visit = Visit(id, 1, cohort_1_details, cohort_2_details, cohort_3_details, cohort_4_details)\n",
    "                if visit.cohort:\n",
    "                    cohort_dict[visit.cohort].append(visit)\n",
    "\n",
    "for letter1 in all_files:\n",
    "    for letter2 in glob.glob(letter1 + \"/*\"):\n",
    "        for id in glob.glob(letter2 + \"/*\"):\n",
    "            if any(\"_2_\" in file for file in glob.glob(id + \"/*\")):\n",
    "                visit = Visit(id, 2, cohort_1_details, cohort_2_details, cohort_3_details, cohort_4_details)\n",
    "                if visit.cohort:\n",
    "                    cohort_dict[visit.cohort].append(visit)\n",
    "\n",
    "for letter1 in all_files:\n",
    "    for letter2 in glob.glob(letter1 + \"/*\"):\n",
    "        for id in glob.glob(letter2 + \"/*\"):\n",
    "            if any(\"_3_\" in file for file in glob.glob(id + \"/*\")):\n",
    "                visit = Visit(id, 3, cohort_1_details, cohort_2_details, cohort_3_details, cohort_4_details)\n",
    "                if visit.cohort:\n",
    "                    cohort_dict[visit.cohort].append(visit)\n",
    "\n",
    "for letter1 in all_files:\n",
    "    for letter2 in glob.glob(letter1 + \"/*\"):\n",
    "        for id in glob.glob(letter2 + \"/*\"):\n",
    "            if any(\"_4_\" in file for file in glob.glob(id + \"/*\")):\n",
    "                visit = Visit(id, 4, cohort_1_details, cohort_2_details, cohort_3_details, cohort_4_details)\n",
    "                if visit.cohort:\n",
    "                    cohort_dict[visit.cohort].append(visit)\n",
    "\n",
    "for letter1 in all_files:\n",
    "    for letter2 in glob.glob(letter1 + \"/*\"):\n",
    "        for id in glob.glob(letter2 + \"/*\"):\n",
    "            if any(\"_5_\" in file for file in glob.glob(id + \"/*\")):\n",
    "                visit = Visit(id, 5, cohort_1_details, cohort_2_details, cohort_3_details, cohort_4_details)\n",
    "                if visit.cohort:\n",
    "                    cohort_dict[visit.cohort].append(visit)"
   ]
  },
  {
   "cell_type": "code",
   "execution_count": 5,
   "metadata": {},
   "outputs": [],
   "source": [
    "cohort1 = Cohort(cohort_dict[1], 1)\n",
    "cohort2 = Cohort(cohort_dict[2][0:1000], 2)\n",
    "cohort3 = Cohort(cohort_dict[3], 3)\n",
    "cohort4 = Cohort(cohort_dict[4], 4)"
   ]
  },
  {
   "cell_type": "code",
   "execution_count": 5,
   "metadata": {},
   "outputs": [
    {
     "name": "stderr",
     "output_type": "stream",
     "text": [
      "/Users/lucindakhalil/opt/anaconda3/lib/python3.8/site-packages/pandas/core/indexing.py:1732: SettingWithCopyWarning: \n",
      "A value is trying to be set on a copy of a slice from a DataFrame\n",
      "\n",
      "See the caveats in the documentation: https://pandas.pydata.org/pandas-docs/stable/user_guide/indexing.html#returning-a-view-versus-a-copy\n",
      "  self._setitem_single_block(indexer, value, name)\n",
      "ZW1285 visit 1 failed: 'NoneType' object has no attribute 'copy'\n"
     ]
    },
    {
     "name": "stdout",
     "output_type": "stream",
     "text": [
      "There is no heart rate data available during the extubated period.\n"
     ]
    },
    {
     "name": "stderr",
     "output_type": "stream",
     "text": [
      "TG1861 visit 1 failed: 'NoneType' object has no attribute 'copy'\n"
     ]
    },
    {
     "name": "stdout",
     "output_type": "stream",
     "text": [
      "There is no heart rate data available during the extubated period.\n"
     ]
    },
    {
     "name": "stderr",
     "output_type": "stream",
     "text": [
      "AS2377 visit 1 failed: 'NoneType' object has no attribute 'copy'\n"
     ]
    },
    {
     "name": "stdout",
     "output_type": "stream",
     "text": [
      "There is no heart rate data available during the extubated period.\n"
     ]
    },
    {
     "name": "stderr",
     "output_type": "stream",
     "text": [
      "DM3147 visit 1 failed: 'NoneType' object has no attribute 'copy'\n"
     ]
    },
    {
     "name": "stdout",
     "output_type": "stream",
     "text": [
      "There is no heart rate data available during the extubated period.\n"
     ]
    },
    {
     "name": "stderr",
     "output_type": "stream",
     "text": [
      "XO3508 visit 1 failed: 'NoneType' object has no attribute 'copy'\n"
     ]
    },
    {
     "name": "stdout",
     "output_type": "stream",
     "text": [
      "There is no heart rate data available during the extubated period.\n"
     ]
    },
    {
     "name": "stderr",
     "output_type": "stream",
     "text": [
      "WV3677 visit 1 failed: 'NoneType' object has no attribute 'copy'\n"
     ]
    },
    {
     "name": "stdout",
     "output_type": "stream",
     "text": [
      "There is no heart rate data available during the extubated period.\n"
     ]
    },
    {
     "name": "stderr",
     "output_type": "stream",
     "text": [
      "MF2056 visit 2 failed: 'NoneType' object has no attribute 'copy'\n"
     ]
    },
    {
     "name": "stdout",
     "output_type": "stream",
     "text": [
      "There is no heart rate data available during the extubated period.\n"
     ]
    },
    {
     "name": "stderr",
     "output_type": "stream",
     "text": [
      "JA2458 visit 3 failed: 'NoneType' object has no attribute 'copy'\n"
     ]
    },
    {
     "name": "stdout",
     "output_type": "stream",
     "text": [
      "There is no heart rate data available during the extubated period.\n"
     ]
    }
   ],
   "source": [
    "var_results_c1 = cohort1.var_results(hr = True)"
   ]
  },
  {
   "cell_type": "code",
   "execution_count": 6,
   "metadata": {},
   "outputs": [
    {
     "name": "stderr",
     "output_type": "stream",
     "text": [
      "/Users/lucindakhalil/opt/anaconda3/lib/python3.8/site-packages/pandas/core/indexing.py:1732: SettingWithCopyWarning: \n",
      "A value is trying to be set on a copy of a slice from a DataFrame\n",
      "\n",
      "See the caveats in the documentation: https://pandas.pydata.org/pandas-docs/stable/user_guide/indexing.html#returning-a-view-versus-a-copy\n",
      "  self._setitem_single_block(indexer, value, name)\n",
      "RX3317 visit 1 failed: 'NoneType' object has no attribute 'copy'\n"
     ]
    },
    {
     "name": "stdout",
     "output_type": "stream",
     "text": [
      "There is no heart rate data available during the extubated period.\n"
     ]
    },
    {
     "name": "stderr",
     "output_type": "stream",
     "text": [
      "UV3178 visit 1 failed: float division by zero\n",
      "UB1609 visit 1 failed: 'NoneType' object has no attribute 'copy'\n"
     ]
    },
    {
     "name": "stdout",
     "output_type": "stream",
     "text": [
      "There is no heart rate data available during the extubated period.\n"
     ]
    },
    {
     "name": "stderr",
     "output_type": "stream",
     "text": [
      "ID1125 visit 1 failed: 'NoneType' object has no attribute 'copy'\n"
     ]
    },
    {
     "name": "stdout",
     "output_type": "stream",
     "text": [
      "There is no heart rate data available during the extubated period.\n"
     ]
    },
    {
     "name": "stderr",
     "output_type": "stream",
     "text": [
      "IQ3266 visit 1 failed: 'NoneType' object has no attribute 'copy'\n"
     ]
    },
    {
     "name": "stdout",
     "output_type": "stream",
     "text": [
      "There is no heart rate data available during the extubated period.\n"
     ]
    },
    {
     "name": "stderr",
     "output_type": "stream",
     "text": [
      "IK2985 visit 1 failed: 'NoneType' object has no attribute 'copy'\n"
     ]
    },
    {
     "name": "stdout",
     "output_type": "stream",
     "text": [
      "There is no heart rate data available during the extubated period.\n"
     ]
    },
    {
     "name": "stderr",
     "output_type": "stream",
     "text": [
      "NF1844 visit 1 failed: float division by zero\n",
      "ZV4114 visit 1 failed: float division by zero\n",
      "TF3238 visit 1 failed: 'NoneType' object has no attribute 'copy'\n"
     ]
    },
    {
     "name": "stdout",
     "output_type": "stream",
     "text": [
      "There is no heart rate data available during the extubated period.\n"
     ]
    },
    {
     "name": "stderr",
     "output_type": "stream",
     "text": [
      "SF0266 visit 1 failed: 'NoneType' object has no attribute 'copy'\n"
     ]
    },
    {
     "name": "stdout",
     "output_type": "stream",
     "text": [
      "There is no heart rate data available during the extubated period.\n"
     ]
    },
    {
     "name": "stderr",
     "output_type": "stream",
     "text": [
      "SQ3401 visit 1 failed: 'NoneType' object has no attribute 'copy'\n"
     ]
    },
    {
     "name": "stdout",
     "output_type": "stream",
     "text": [
      "There is no heart rate data available during the extubated period.\n"
     ]
    },
    {
     "name": "stderr",
     "output_type": "stream",
     "text": [
      "FS1054 visit 1 failed: 'NoneType' object has no attribute 'copy'\n"
     ]
    },
    {
     "name": "stdout",
     "output_type": "stream",
     "text": [
      "There is no heart rate data available during the extubated period.\n"
     ]
    },
    {
     "name": "stderr",
     "output_type": "stream",
     "text": [
      "HL0720 visit 1 failed: float division by zero\n",
      "MB1888 visit 1 failed: 'NoneType' object has no attribute 'copy'\n"
     ]
    },
    {
     "name": "stdout",
     "output_type": "stream",
     "text": [
      "There is no heart rate data available during the extubated period.\n"
     ]
    },
    {
     "name": "stderr",
     "output_type": "stream",
     "text": [
      "JN4074 visit 1 failed: 'NoneType' object has no attribute 'copy'\n"
     ]
    },
    {
     "name": "stdout",
     "output_type": "stream",
     "text": [
      "There is no heart rate data available during the extubated period.\n"
     ]
    },
    {
     "name": "stderr",
     "output_type": "stream",
     "text": [
      "JC2069 visit 1 failed: float division by zero\n",
      "JP1682 visit 1 failed: 'NoneType' object has no attribute 'copy'\n"
     ]
    },
    {
     "name": "stdout",
     "output_type": "stream",
     "text": [
      "There is no heart rate data available during the extubated period.\n"
     ]
    },
    {
     "name": "stderr",
     "output_type": "stream",
     "text": [
      "JP2808 visit 1 failed: 'NoneType' object has no attribute 'copy'\n"
     ]
    },
    {
     "name": "stdout",
     "output_type": "stream",
     "text": [
      "There is no heart rate data available during the extubated period.\n"
     ]
    },
    {
     "name": "stderr",
     "output_type": "stream",
     "text": [
      "CU2107 visit 1 failed: 'NoneType' object has no attribute 'copy'\n"
     ]
    },
    {
     "name": "stdout",
     "output_type": "stream",
     "text": [
      "There is no heart rate data available during the extubated period.\n"
     ]
    },
    {
     "name": "stderr",
     "output_type": "stream",
     "text": [
      "CZ1981 visit 1 failed: 'NoneType' object has no attribute 'copy'\n"
     ]
    },
    {
     "name": "stdout",
     "output_type": "stream",
     "text": [
      "There is no heart rate data available during the extubated period.\n"
     ]
    },
    {
     "name": "stderr",
     "output_type": "stream",
     "text": [
      "CS3617 visit 1 failed: 'NoneType' object has no attribute 'copy'\n"
     ]
    },
    {
     "name": "stdout",
     "output_type": "stream",
     "text": [
      "There is no heart rate data available during the extubated period.\n"
     ]
    },
    {
     "name": "stderr",
     "output_type": "stream",
     "text": [
      "DI0128 visit 1 failed: 'NoneType' object has no attribute 'copy'\n"
     ]
    },
    {
     "name": "stdout",
     "output_type": "stream",
     "text": [
      "There is no heart rate data available during the extubated period.\n"
     ]
    },
    {
     "name": "stderr",
     "output_type": "stream",
     "text": [
      "DZ0633 visit 1 failed: 'NoneType' object has no attribute 'copy'\n"
     ]
    },
    {
     "name": "stdout",
     "output_type": "stream",
     "text": [
      "There is no heart rate data available during the extubated period.\n"
     ]
    },
    {
     "name": "stderr",
     "output_type": "stream",
     "text": [
      "DM2098 visit 1 failed: float division by zero\n",
      "DQ1541 visit 1 failed: float division by zero\n",
      "VA1742 visit 1 failed: 'NoneType' object has no attribute 'copy'\n"
     ]
    },
    {
     "name": "stdout",
     "output_type": "stream",
     "text": [
      "There is no heart rate data available during the extubated period.\n"
     ]
    },
    {
     "name": "stderr",
     "output_type": "stream",
     "text": [
      "VW2869 visit 1 failed: float division by zero\n",
      "VW1487 visit 1 failed: 'NoneType' object has no attribute 'copy'\n"
     ]
    },
    {
     "name": "stdout",
     "output_type": "stream",
     "text": [
      "There is no heart rate data available during the extubated period.\n"
     ]
    },
    {
     "name": "stderr",
     "output_type": "stream",
     "text": [
      "QU0772 visit 1 failed: 'NoneType' object has no attribute 'copy'\n"
     ]
    },
    {
     "name": "stdout",
     "output_type": "stream",
     "text": [
      "There is no heart rate data available during the extubated period.\n"
     ]
    },
    {
     "name": "stderr",
     "output_type": "stream",
     "text": [
      "QF0704 visit 1 failed: float division by zero\n"
     ]
    }
   ],
   "source": [
    "var_results_c2 = cohort2.var_results(hr = True)"
   ]
  },
  {
   "cell_type": "code",
   "execution_count": 1,
   "metadata": {},
   "outputs": [
    {
     "ename": "NameError",
     "evalue": "name 'cohort2' is not defined",
     "output_type": "error",
     "traceback": [
      "\u001b[0;31m---------------------------------------------------------------------------\u001b[0m",
      "\u001b[0;31mNameError\u001b[0m                                 Traceback (most recent call last)",
      "\u001b[0;32m/var/folders/rg/6x4tlzs16c76vmthv_nxc63r0000gn/T/ipykernel_7290/2553441850.py\u001b[0m in \u001b[0;36m<module>\u001b[0;34m\u001b[0m\n\u001b[0;32m----> 1\u001b[0;31m \u001b[0mvar_results_c2\u001b[0m \u001b[0;34m=\u001b[0m \u001b[0mcohort2\u001b[0m\u001b[0;34m.\u001b[0m\u001b[0mvar_results\u001b[0m\u001b[0;34m(\u001b[0m\u001b[0mhr\u001b[0m \u001b[0;34m=\u001b[0m \u001b[0;32mTrue\u001b[0m\u001b[0;34m)\u001b[0m\u001b[0;34m\u001b[0m\u001b[0;34m\u001b[0m\u001b[0m\n\u001b[0m",
      "\u001b[0;31mNameError\u001b[0m: name 'cohort2' is not defined"
     ]
    }
   ],
   "source": [
    "var_results_c2 = cohort2.var_results(hr = True)\n"
   ]
  },
  {
   "cell_type": "code",
   "execution_count": 9,
   "metadata": {},
   "outputs": [],
   "source": [
    "var_results_c1[0].to_csv('variance_results_c1.csv')"
   ]
  },
  {
   "cell_type": "code",
   "execution_count": null,
   "metadata": {},
   "outputs": [],
   "source": [
    "var_results_c2[0].to_csv('variance_results_c2_partial.csv')"
   ]
  },
  {
   "cell_type": "code",
   "execution_count": 12,
   "metadata": {},
   "outputs": [
    {
     "name": "stderr",
     "output_type": "stream",
     "text": [
      "/Users/lucindakhalil/opt/anaconda3/lib/python3.8/site-packages/pandas/core/indexing.py:1732: SettingWithCopyWarning: \n",
      "A value is trying to be set on a copy of a slice from a DataFrame\n",
      "\n",
      "See the caveats in the documentation: https://pandas.pydata.org/pandas-docs/stable/user_guide/indexing.html#returning-a-view-versus-a-copy\n",
      "  self._setitem_single_block(indexer, value, name)\n",
      "RJ3926 visit 1 failed: float division by zero\n",
      "IH2940 visit 1 failed: 'NoneType' object has no attribute 'copy'\n"
     ]
    },
    {
     "name": "stdout",
     "output_type": "stream",
     "text": [
      "There is no heart rate data available during the extubated period.\n"
     ]
    },
    {
     "name": "stderr",
     "output_type": "stream",
     "text": [
      "NB2075 visit 1 failed: 'NoneType' object has no attribute 'copy'\n"
     ]
    },
    {
     "name": "stdout",
     "output_type": "stream",
     "text": [
      "There is no heart rate data available during the extubated period.\n"
     ]
    },
    {
     "name": "stderr",
     "output_type": "stream",
     "text": [
      "ZI1827 visit 1 failed: 'NoneType' object has no attribute 'copy'\n",
      "ZZ2313 visit 1 failed: 'NoneType' object has no attribute 'copy'\n"
     ]
    },
    {
     "name": "stdout",
     "output_type": "stream",
     "text": [
      "There is no heart rate data available during the extubated period.\n",
      "There is no heart rate data available during the extubated period.\n"
     ]
    },
    {
     "name": "stderr",
     "output_type": "stream",
     "text": [
      "TU3358 visit 1 failed: 'NoneType' object has no attribute 'copy'\n"
     ]
    },
    {
     "name": "stdout",
     "output_type": "stream",
     "text": [
      "There is no heart rate data available during the extubated period.\n"
     ]
    },
    {
     "name": "stderr",
     "output_type": "stream",
     "text": [
      "SI1526 visit 1 failed: 'NoneType' object has no attribute 'copy'\n"
     ]
    },
    {
     "name": "stdout",
     "output_type": "stream",
     "text": [
      "There is no heart rate data available during the extubated period.\n"
     ]
    },
    {
     "name": "stderr",
     "output_type": "stream",
     "text": [
      "SD0959 visit 1 failed: 'NoneType' object has no attribute 'copy'\n"
     ]
    },
    {
     "name": "stdout",
     "output_type": "stream",
     "text": [
      "There is no heart rate data available during the extubated period.\n"
     ]
    },
    {
     "name": "stderr",
     "output_type": "stream",
     "text": [
      "OT3362 visit 1 failed: 'NoneType' object has no attribute 'copy'\n"
     ]
    },
    {
     "name": "stdout",
     "output_type": "stream",
     "text": [
      "There is no heart rate data available during the extubated period.\n"
     ]
    }
   ],
   "source": [
    "var_results_c3 = cohort3.var_results(hr = True)"
   ]
  },
  {
   "cell_type": "code",
   "execution_count": null,
   "metadata": {},
   "outputs": [],
   "source": [
    "var_results_c4 = cohort4.var_results(hr = True)"
   ]
  },
  {
   "cell_type": "code",
   "execution_count": null,
   "metadata": {},
   "outputs": [],
   "source": []
  },
  {
   "cell_type": "code",
   "execution_count": null,
   "metadata": {},
   "outputs": [],
   "source": []
  },
  {
   "cell_type": "code",
   "execution_count": null,
   "metadata": {},
   "outputs": [],
   "source": []
  },
  {
   "cell_type": "code",
   "execution_count": 6,
   "metadata": {},
   "outputs": [
    {
     "data": {
      "text/html": [
       "<div>\n",
       "<style scoped>\n",
       "    .dataframe tbody tr th:only-of-type {\n",
       "        vertical-align: middle;\n",
       "    }\n",
       "\n",
       "    .dataframe tbody tr th {\n",
       "        vertical-align: top;\n",
       "    }\n",
       "\n",
       "    .dataframe thead th {\n",
       "        text-align: right;\n",
       "    }\n",
       "</style>\n",
       "<table border=\"1\" class=\"dataframe\">\n",
       "  <thead>\n",
       "    <tr style=\"text-align: right;\">\n",
       "      <th></th>\n",
       "      <th>trend</th>\n",
       "      <th>p-value</th>\n",
       "      <th>tau</th>\n",
       "    </tr>\n",
       "  </thead>\n",
       "  <tbody>\n",
       "    <tr>\n",
       "      <th>0</th>\n",
       "      <td>increasing</td>\n",
       "      <td>0.000030</td>\n",
       "      <td>0.576651</td>\n",
       "    </tr>\n",
       "    <tr>\n",
       "      <th>1</th>\n",
       "      <td>no trend</td>\n",
       "      <td>0.693120</td>\n",
       "      <td>-0.081616</td>\n",
       "    </tr>\n",
       "    <tr>\n",
       "      <th>2</th>\n",
       "      <td>no trend</td>\n",
       "      <td>0.365649</td>\n",
       "      <td>0.201415</td>\n",
       "    </tr>\n",
       "    <tr>\n",
       "      <th>3</th>\n",
       "      <td>no trend</td>\n",
       "      <td>0.870594</td>\n",
       "      <td>-0.032581</td>\n",
       "    </tr>\n",
       "    <tr>\n",
       "      <th>4</th>\n",
       "      <td>increasing</td>\n",
       "      <td>0.000060</td>\n",
       "      <td>0.915406</td>\n",
       "    </tr>\n",
       "    <tr>\n",
       "      <th>...</th>\n",
       "      <td>...</td>\n",
       "      <td>...</td>\n",
       "      <td>...</td>\n",
       "    </tr>\n",
       "    <tr>\n",
       "      <th>107</th>\n",
       "      <td>no trend</td>\n",
       "      <td>0.873990</td>\n",
       "      <td>0.013677</td>\n",
       "    </tr>\n",
       "    <tr>\n",
       "      <th>108</th>\n",
       "      <td>no trend</td>\n",
       "      <td>0.906997</td>\n",
       "      <td>-0.022346</td>\n",
       "    </tr>\n",
       "    <tr>\n",
       "      <th>109</th>\n",
       "      <td>no trend</td>\n",
       "      <td>0.610578</td>\n",
       "      <td>0.046929</td>\n",
       "    </tr>\n",
       "    <tr>\n",
       "      <th>110</th>\n",
       "      <td>no trend</td>\n",
       "      <td>0.967761</td>\n",
       "      <td>-0.003136</td>\n",
       "    </tr>\n",
       "    <tr>\n",
       "      <th>111</th>\n",
       "      <td>no trend</td>\n",
       "      <td>0.563822</td>\n",
       "      <td>0.129236</td>\n",
       "    </tr>\n",
       "  </tbody>\n",
       "</table>\n",
       "<p>112 rows × 3 columns</p>\n",
       "</div>"
      ],
      "text/plain": [
       "          trend   p-value       tau\n",
       "0    increasing  0.000030  0.576651\n",
       "1      no trend  0.693120 -0.081616\n",
       "2      no trend  0.365649  0.201415\n",
       "3      no trend  0.870594 -0.032581\n",
       "4    increasing  0.000060  0.915406\n",
       "..          ...       ...       ...\n",
       "107    no trend  0.873990  0.013677\n",
       "108    no trend  0.906997 -0.022346\n",
       "109    no trend  0.610578  0.046929\n",
       "110    no trend  0.967761 -0.003136\n",
       "111    no trend  0.563822  0.129236\n",
       "\n",
       "[112 rows x 3 columns]"
      ]
     },
     "execution_count": 6,
     "metadata": {},
     "output_type": "execute_result"
    }
   ],
   "source": [
    "var_results_c1[0]"
   ]
  },
  {
   "cell_type": "code",
   "execution_count": 7,
   "metadata": {},
   "outputs": [
    {
     "data": {
      "text/plain": [
       "['increasing',\n",
       " 'no trend',\n",
       " 'no trend',\n",
       " 'no trend',\n",
       " 'increasing',\n",
       " 'increasing',\n",
       " 'decreasing',\n",
       " 'decreasing',\n",
       " 'decreasing',\n",
       " 'decreasing',\n",
       " 'increasing',\n",
       " 'no trend',\n",
       " 'no trend',\n",
       " 'no trend',\n",
       " 'no trend',\n",
       " 'increasing',\n",
       " 'no trend',\n",
       " 'increasing',\n",
       " 'increasing',\n",
       " 'no trend',\n",
       " 'no trend',\n",
       " 'no trend',\n",
       " 'increasing',\n",
       " 'increasing',\n",
       " 'no trend',\n",
       " 'decreasing',\n",
       " 'no trend',\n",
       " 'decreasing',\n",
       " 'no trend',\n",
       " 'no trend',\n",
       " 'decreasing',\n",
       " 'no trend',\n",
       " 'increasing',\n",
       " 'increasing',\n",
       " 'no trend',\n",
       " 'no trend',\n",
       " 'decreasing',\n",
       " 'increasing',\n",
       " 'no trend',\n",
       " 'no trend',\n",
       " 'increasing',\n",
       " 'no trend',\n",
       " 'no trend',\n",
       " 'decreasing',\n",
       " 'no trend',\n",
       " 'increasing',\n",
       " 'increasing',\n",
       " 'increasing',\n",
       " 'no trend',\n",
       " 'decreasing',\n",
       " 'no trend',\n",
       " 'increasing',\n",
       " 'increasing',\n",
       " 'no trend',\n",
       " 'increasing',\n",
       " 'no trend',\n",
       " 'increasing',\n",
       " 'increasing',\n",
       " 'increasing',\n",
       " 'no trend',\n",
       " 'no trend',\n",
       " 'increasing',\n",
       " 'increasing',\n",
       " 'increasing',\n",
       " 'increasing',\n",
       " 'no trend',\n",
       " 'increasing',\n",
       " 'no trend',\n",
       " 'no trend',\n",
       " 'no trend',\n",
       " 'no trend',\n",
       " 'no trend',\n",
       " 'no trend',\n",
       " 'no trend',\n",
       " 'decreasing',\n",
       " 'increasing',\n",
       " 'increasing',\n",
       " 'no trend',\n",
       " 'no trend',\n",
       " 'no trend',\n",
       " 'decreasing',\n",
       " 'no trend',\n",
       " 'increasing',\n",
       " 'no trend',\n",
       " 'no trend',\n",
       " 'no trend',\n",
       " 'decreasing',\n",
       " 'no trend',\n",
       " 'no trend',\n",
       " 'no trend',\n",
       " 'no trend',\n",
       " 'no trend',\n",
       " 'no trend',\n",
       " 'decreasing',\n",
       " 'no trend',\n",
       " 'no trend',\n",
       " 'no trend',\n",
       " 'increasing',\n",
       " 'decreasing',\n",
       " 'decreasing',\n",
       " 'decreasing',\n",
       " 'no trend',\n",
       " 'increasing',\n",
       " 'increasing',\n",
       " 'no trend',\n",
       " 'no trend',\n",
       " 'increasing',\n",
       " 'no trend',\n",
       " 'no trend',\n",
       " 'no trend',\n",
       " 'no trend',\n",
       " 'no trend']"
      ]
     },
     "execution_count": 7,
     "metadata": {},
     "output_type": "execute_result"
    }
   ],
   "source": [
    "list(var_results_c1[0][\"trend\"])"
   ]
  },
  {
   "cell_type": "code",
   "execution_count": 19,
   "metadata": {},
   "outputs": [
    {
     "ename": "TypeError",
     "evalue": "'<' not supported between instances of 'numpy.str_' and 'float'",
     "output_type": "error",
     "traceback": [
      "\u001b[0;31m---------------------------------------------------------------------------\u001b[0m",
      "\u001b[0;31mTypeError\u001b[0m                                 Traceback (most recent call last)",
      "\u001b[0;32m/var/folders/rg/6x4tlzs16c76vmthv_nxc63r0000gn/T/ipykernel_20607/2190411016.py\u001b[0m in \u001b[0;36m<module>\u001b[0;34m\u001b[0m\n\u001b[0;32m----> 1\u001b[0;31m \u001b[0mholm_bonferroni\u001b[0m\u001b[0;34m(\u001b[0m\u001b[0mresults\u001b[0m\u001b[0;34m[\u001b[0m\u001b[0;34m:\u001b[0m\u001b[0;34m,\u001b[0m\u001b[0;36m0\u001b[0m\u001b[0;34m]\u001b[0m\u001b[0;34m,\u001b[0m \u001b[0mresults\u001b[0m\u001b[0;34m[\u001b[0m\u001b[0;34m:\u001b[0m\u001b[0;34m,\u001b[0m\u001b[0;36m1\u001b[0m\u001b[0;34m]\u001b[0m\u001b[0;34m)\u001b[0m\u001b[0;34m\u001b[0m\u001b[0;34m\u001b[0m\u001b[0m\n\u001b[0m",
      "\u001b[0;32m~/Documents/In2Research/visits/visit.py\u001b[0m in \u001b[0;36mholm_bonferroni\u001b[0;34m(p_vals, trends, alpha)\u001b[0m\n\u001b[1;32m    145\u001b[0m \u001b[0;34m\u001b[0m\u001b[0m\n\u001b[1;32m    146\u001b[0m     \u001b[0;32mfor\u001b[0m \u001b[0mi\u001b[0m\u001b[0;34m,\u001b[0m \u001b[0mp\u001b[0m\u001b[0;34m,\u001b[0m \u001b[0mtrend\u001b[0m\u001b[0;34m,\u001b[0m \u001b[0malpha\u001b[0m \u001b[0;32min\u001b[0m \u001b[0mzip\u001b[0m\u001b[0;34m(\u001b[0m\u001b[0mrange\u001b[0m\u001b[0;34m(\u001b[0m\u001b[0;36m1\u001b[0m\u001b[0;34m,\u001b[0m \u001b[0mn\u001b[0m\u001b[0;34m+\u001b[0m\u001b[0;36m1\u001b[0m\u001b[0;34m)\u001b[0m\u001b[0;34m,\u001b[0m \u001b[0mp_vals_sorted\u001b[0m\u001b[0;34m,\u001b[0m \u001b[0mtrends_sorted\u001b[0m\u001b[0;34m,\u001b[0m \u001b[0malphas\u001b[0m\u001b[0;34m)\u001b[0m\u001b[0;34m:\u001b[0m\u001b[0;34m\u001b[0m\u001b[0;34m\u001b[0m\u001b[0m\n\u001b[0;32m--> 147\u001b[0;31m         \u001b[0;32mif\u001b[0m \u001b[0mp\u001b[0m \u001b[0;34m<\u001b[0m \u001b[0malpha\u001b[0m \u001b[0;32mand\u001b[0m \u001b[0mtrend\u001b[0m \u001b[0;34m==\u001b[0m \u001b[0;34m'increasing'\u001b[0m\u001b[0;34m:\u001b[0m\u001b[0;34m\u001b[0m\u001b[0;34m\u001b[0m\u001b[0m\n\u001b[0m\u001b[1;32m    148\u001b[0m             \u001b[0;31m# print(f\"Test {i} passed\")\u001b[0m\u001b[0;34m\u001b[0m\u001b[0;34m\u001b[0m\u001b[0;34m\u001b[0m\u001b[0m\n\u001b[1;32m    149\u001b[0m             \u001b[0;32mpass\u001b[0m\u001b[0;34m\u001b[0m\u001b[0;34m\u001b[0m\u001b[0m\n",
      "\u001b[0;31mTypeError\u001b[0m: '<' not supported between instances of 'numpy.str_' and 'float'"
     ]
    }
   ],
   "source": [
    "holm_bonferroni(results[:,0], results[:,1])"
   ]
  },
  {
   "cell_type": "code",
   "execution_count": null,
   "metadata": {},
   "outputs": [
    {
     "ename": "TypeError",
     "evalue": "Field elements must be 2- or 3-tuples, got ''increasing''",
     "output_type": "error",
     "traceback": [
      "\u001b[0;31m---------------------------------------------------------------------------\u001b[0m",
      "\u001b[0;31mTypeError\u001b[0m                                 Traceback (most recent call last)",
      "\u001b[0;32m/var/folders/rg/6x4tlzs16c76vmthv_nxc63r0000gn/T/ipykernel_20360/4007467083.py\u001b[0m in \u001b[0;36m<module>\u001b[0;34m\u001b[0m\n\u001b[0;32m----> 1\u001b[0;31m \u001b[0mresults\u001b[0m \u001b[0;34m=\u001b[0m \u001b[0mnp\u001b[0m\u001b[0;34m.\u001b[0m\u001b[0marray\u001b[0m\u001b[0;34m(\u001b[0m\u001b[0mlist\u001b[0m\u001b[0;34m(\u001b[0m\u001b[0mvar_results_c1\u001b[0m\u001b[0;34m[\u001b[0m\u001b[0;36m0\u001b[0m\u001b[0;34m]\u001b[0m\u001b[0;34m[\u001b[0m\u001b[0;34m\"p-value\"\u001b[0m\u001b[0;34m]\u001b[0m\u001b[0;34m)\u001b[0m\u001b[0;34m,\u001b[0m \u001b[0mlist\u001b[0m\u001b[0;34m(\u001b[0m\u001b[0mvar_results_c1\u001b[0m\u001b[0;34m[\u001b[0m\u001b[0;36m0\u001b[0m\u001b[0;34m]\u001b[0m\u001b[0;34m[\u001b[0m\u001b[0;34m\"trend\"\u001b[0m\u001b[0;34m]\u001b[0m\u001b[0;34m)\u001b[0m\u001b[0;34m)\u001b[0m\u001b[0;34m\u001b[0m\u001b[0;34m\u001b[0m\u001b[0m\n\u001b[0m",
      "\u001b[0;31mTypeError\u001b[0m: Field elements must be 2- or 3-tuples, got ''increasing''"
     ]
    }
   ],
   "source": [
    "results = np.array(list(var_results_c1[0][\"p-value\"]), list(var_results_c1[0][\"trend\"]))"
   ]
  },
  {
   "cell_type": "code",
   "execution_count": null,
   "metadata": {},
   "outputs": [
    {
     "ename": "NameError",
     "evalue": "name 'results' is not defined",
     "output_type": "error",
     "traceback": [
      "\u001b[0;31m---------------------------------------------------------------------------\u001b[0m",
      "\u001b[0;31mNameError\u001b[0m                                 Traceback (most recent call last)",
      "\u001b[0;32m/var/folders/rg/6x4tlzs16c76vmthv_nxc63r0000gn/T/ipykernel_20360/4196364521.py\u001b[0m in \u001b[0;36m<module>\u001b[0;34m\u001b[0m\n\u001b[0;32m----> 1\u001b[0;31m \u001b[0mresults\u001b[0m\u001b[0;34m[\u001b[0m\u001b[0mresults\u001b[0m\u001b[0;34m[\u001b[0m\u001b[0;34m:\u001b[0m\u001b[0;34m,\u001b[0m \u001b[0;36m0\u001b[0m\u001b[0;34m]\u001b[0m\u001b[0;34m.\u001b[0m\u001b[0margsort\u001b[0m\u001b[0;34m(\u001b[0m\u001b[0;34m)\u001b[0m\u001b[0;34m]\u001b[0m\u001b[0;34m\u001b[0m\u001b[0;34m\u001b[0m\u001b[0m\n\u001b[0m",
      "\u001b[0;31mNameError\u001b[0m: name 'results' is not defined"
     ]
    }
   ],
   "source": [
    "results[results[:, 0].argsort()]"
   ]
  },
  {
   "cell_type": "code",
   "execution_count": 20,
   "metadata": {},
   "outputs": [],
   "source": [
    "np.set_printoptions()"
   ]
  },
  {
   "cell_type": "code",
   "execution_count": 21,
   "metadata": {},
   "outputs": [],
   "source": [
    "results = np.array([[float(p), t] for p, t in zip(var_results_c1[0][\"p-value\"], var_results_c1[0][\"trend\"])])"
   ]
  },
  {
   "cell_type": "code",
   "execution_count": 22,
   "metadata": {},
   "outputs": [],
   "source": [
    "results = results[results[:, 0].argsort()]"
   ]
  },
  {
   "cell_type": "code",
   "execution_count": 25,
   "metadata": {},
   "outputs": [
    {
     "data": {
      "text/plain": [
       "[0.0,\n",
       " 0.0,\n",
       " 0.0,\n",
       " 0.00011051272777451437,\n",
       " 0.00015080234301123596,\n",
       " 0.00020854194418751248,\n",
       " 0.00030536915352774585,\n",
       " 0.00031513454905196525,\n",
       " 0.0003203972890264417,\n",
       " 0.0003647263942314627,\n",
       " 0.00045959428644337663,\n",
       " 0.0005568631392718348,\n",
       " 0.000810034344773447,\n",
       " 0.0010646458677103787,\n",
       " 0.001077499368569601,\n",
       " 0.0011495374804801894,\n",
       " 0.0018404232130790898,\n",
       " 0.002122893914515034,\n",
       " 0.0022879206214512227,\n",
       " 0.002737928397434697,\n",
       " 0.0033920661184239087,\n",
       " 0.0038730744630988134,\n",
       " 0.004559356107457502,\n",
       " 0.00470054868474068,\n",
       " 0.005899443709464158,\n",
       " 0.007366676018956575,\n",
       " 0.007763841759168333,\n",
       " 0.008928432940468856,\n",
       " 0.009600554557952723,\n",
       " 0.015715817889485395,\n",
       " 0.028817051583238662,\n",
       " 0.046467749168211725,\n",
       " 0.049577615197908376,\n",
       " 0.051578573087313506,\n",
       " 0.05877584620505161,\n",
       " 0.06183651963209469,\n",
       " 0.07020006009703494,\n",
       " 0.07067684610745317,\n",
       " 0.08230254937628523,\n",
       " 0.08320502335526414,\n",
       " 0.08595389442755974,\n",
       " 0.09778986814590684,\n",
       " 0.09824605964320843,\n",
       " 0.1027328267883898,\n",
       " 0.11230464127655204,\n",
       " 0.11881129704187599,\n",
       " 0.1230720534351677,\n",
       " 0.14104066442632024,\n",
       " 0.182397845840915,\n",
       " 0.20311271997035352,\n",
       " 0.21422830213755306,\n",
       " 0.2249316162523618,\n",
       " 0.28207102801158435,\n",
       " 0.2960813601894814,\n",
       " 0.30422436880228054,\n",
       " 0.31095829700924327,\n",
       " 0.33446519268036523,\n",
       " 0.3599913370098018,\n",
       " 0.365649274726465,\n",
       " 0.37664658723696576,\n",
       " 0.4788356267618461,\n",
       " 0.500366449331811,\n",
       " 0.5042549426587923,\n",
       " 0.5489714215018897,\n",
       " 0.5638224107565333,\n",
       " 0.575255485261285,\n",
       " 0.5810628655619487,\n",
       " 0.5814637046419979,\n",
       " 0.5889536062892353,\n",
       " 0.6086564530887628,\n",
       " 0.6105781357528688,\n",
       " 0.6305969145332053,\n",
       " 0.631717279851634,\n",
       " 0.6494599239020356,\n",
       " 0.693119864820694,\n",
       " 0.7059094023208778,\n",
       " 0.7462345020683872,\n",
       " 0.7942450356459718,\n",
       " 0.8221849714297906,\n",
       " 0.8252586367279635,\n",
       " 0.8393077829135731,\n",
       " 0.8443291623168059,\n",
       " 0.8508341704661351,\n",
       " 0.8705941567174422,\n",
       " 0.873989661203967,\n",
       " 0.8987115317083645,\n",
       " 0.9069971731203057,\n",
       " 0.933158837061578,\n",
       " 0.9390729442194632,\n",
       " 0.9666798682471445,\n",
       " 0.967198637563784,\n",
       " 0.9677613848456024,\n",
       " 0.9721742045658641,\n",
       " 0.9869937775426496,\n",
       " 1.6142642778049776e-13,\n",
       " 1.877778851300249e-05,\n",
       " 1.96751503978021e-11,\n",
       " 2.039375335272098e-09,\n",
       " 2.3750327806659755e-06,\n",
       " 2.4079120820363897e-05,\n",
       " 3.0047264722332656e-05,\n",
       " 3.3574724556117985e-07,\n",
       " 3.396216416984288e-07,\n",
       " 4.23884899136695e-06,\n",
       " 5.116253553483219e-06,\n",
       " 5.260429126341393e-05,\n",
       " 5.403628500655344e-06,\n",
       " 6.005200102121577e-05,\n",
       " 6.157945264817499e-10,\n",
       " 6.635622300521504e-07,\n",
       " 7.616129948928574e-13,\n",
       " 8.957182311131184e-05]"
      ]
     },
     "execution_count": 25,
     "metadata": {},
     "output_type": "execute_result"
    }
   ],
   "source": [
    "list(map(float,results[:,0]))"
   ]
  },
  {
   "cell_type": "code",
   "execution_count": 26,
   "metadata": {},
   "outputs": [
    {
     "name": "stderr",
     "output_type": "stream",
     "text": [
      "/Users/lucindakhalil/opt/anaconda3/lib/python3.8/site-packages/pandas/core/indexing.py:1732: SettingWithCopyWarning: \n",
      "A value is trying to be set on a copy of a slice from a DataFrame\n",
      "\n",
      "See the caveats in the documentation: https://pandas.pydata.org/pandas-docs/stable/user_guide/indexing.html#returning-a-view-versus-a-copy\n",
      "  self._setitem_single_block(indexer, value, name)\n",
      "NP1006 visit 1 failed: float division by zero\n",
      "GF0332 visit 1 failed: 'NoneType' object has no attribute 'copy'\n"
     ]
    },
    {
     "name": "stdout",
     "output_type": "stream",
     "text": [
      "There is no respiration rate data available during the extubated period.\n"
     ]
    },
    {
     "name": "stderr",
     "output_type": "stream",
     "text": [
      "/Users/lucindakhalil/opt/anaconda3/lib/python3.8/site-packages/pymannkendall/pymannkendall.py:60: RuntimeWarning: invalid value encountered in true_divide\n",
      "  return acov[:nlags+1]/acov[0]\n",
      "ZW1285 visit 1 failed: 'NoneType' object has no attribute 'copy'\n"
     ]
    },
    {
     "name": "stdout",
     "output_type": "stream",
     "text": [
      "There is no respiration rate data available during the extubated period.\n"
     ]
    },
    {
     "name": "stderr",
     "output_type": "stream",
     "text": [
      "TG1861 visit 1 failed: 'NoneType' object has no attribute 'copy'\n"
     ]
    },
    {
     "name": "stdout",
     "output_type": "stream",
     "text": [
      "There is no respiration rate data available during the extubated period.\n"
     ]
    },
    {
     "name": "stderr",
     "output_type": "stream",
     "text": [
      "SQ1612 visit 1 failed: float division by zero\n",
      "SE1569 visit 1 failed: float division by zero\n",
      "AS2377 visit 1 failed: 'NoneType' object has no attribute 'copy'\n"
     ]
    },
    {
     "name": "stdout",
     "output_type": "stream",
     "text": [
      "There is no respiration rate data available during the extubated period.\n"
     ]
    },
    {
     "name": "stderr",
     "output_type": "stream",
     "text": [
      "FG1244 visit 1 failed: float division by zero\n",
      "MV1402 visit 1 failed: 'NoneType' object has no attribute 'copy'\n"
     ]
    },
    {
     "name": "stdout",
     "output_type": "stream",
     "text": [
      "There is no respiration rate data available during the extubated period.\n"
     ]
    },
    {
     "name": "stderr",
     "output_type": "stream",
     "text": [
      "CA1303 visit 1 failed: 'NoneType' object has no attribute 'copy'\n",
      "CQ0905 visit 1 failed: float division by zero\n"
     ]
    },
    {
     "name": "stdout",
     "output_type": "stream",
     "text": [
      "There is no respiration rate data available during the extubated period.\n"
     ]
    },
    {
     "name": "stderr",
     "output_type": "stream",
     "text": [
      "DM3147 visit 1 failed: 'NoneType' object has no attribute 'copy'\n"
     ]
    },
    {
     "name": "stdout",
     "output_type": "stream",
     "text": [
      "There is no respiration rate data available during the extubated period.\n"
     ]
    },
    {
     "name": "stderr",
     "output_type": "stream",
     "text": [
      "XO3508 visit 1 failed: 'NoneType' object has no attribute 'copy'\n"
     ]
    },
    {
     "name": "stdout",
     "output_type": "stream",
     "text": [
      "There is no respiration rate data available during the extubated period.\n"
     ]
    },
    {
     "name": "stderr",
     "output_type": "stream",
     "text": [
      "YK1293 visit 1 failed: float division by zero\n",
      "WV3677 visit 1 failed: 'NoneType' object has no attribute 'copy'\n"
     ]
    },
    {
     "name": "stdout",
     "output_type": "stream",
     "text": [
      "There is no respiration rate data available during the extubated period.\n"
     ]
    },
    {
     "name": "stderr",
     "output_type": "stream",
     "text": [
      "RB0988 visit 2 failed: 'NoneType' object has no attribute 'copy'\n"
     ]
    },
    {
     "name": "stdout",
     "output_type": "stream",
     "text": [
      "There is no respiration rate data available during the extubated period.\n"
     ]
    },
    {
     "name": "stderr",
     "output_type": "stream",
     "text": [
      "MF2056 visit 2 failed: 'NoneType' object has no attribute 'copy'\n"
     ]
    },
    {
     "name": "stdout",
     "output_type": "stream",
     "text": [
      "There is no respiration rate data available during the extubated period.\n"
     ]
    },
    {
     "name": "stderr",
     "output_type": "stream",
     "text": [
      "VV3912 visit 2 failed: float division by zero\n",
      "JA2458 visit 3 failed: 'NoneType' object has no attribute 'copy'\n"
     ]
    },
    {
     "name": "stdout",
     "output_type": "stream",
     "text": [
      "There is no respiration rate data available during the extubated period.\n"
     ]
    },
    {
     "name": "stderr",
     "output_type": "stream",
     "text": [
      "CN1187 visit 4 failed: float division by zero\n"
     ]
    }
   ],
   "source": [
    "var_results_c1_rr = cohort1.var_results(rr = True)"
   ]
  },
  {
   "cell_type": "code",
   "execution_count": 1,
   "metadata": {},
   "outputs": [
    {
     "ename": "NameError",
     "evalue": "name 'var_results_c1_rr' is not defined",
     "output_type": "error",
     "traceback": [
      "\u001b[0;31m---------------------------------------------------------------------------\u001b[0m",
      "\u001b[0;31mNameError\u001b[0m                                 Traceback (most recent call last)",
      "\u001b[0;32m/var/folders/rg/6x4tlzs16c76vmthv_nxc63r0000gn/T/ipykernel_1720/2060110712.py\u001b[0m in \u001b[0;36m<module>\u001b[0;34m\u001b[0m\n\u001b[0;32m----> 1\u001b[0;31m \u001b[0mvar_results_c1_rr\u001b[0m\u001b[0;34m[\u001b[0m\u001b[0;36m0\u001b[0m\u001b[0;34m]\u001b[0m\u001b[0;34m[\u001b[0m\u001b[0;34m'trend'\u001b[0m\u001b[0;34m]\u001b[0m\u001b[0;34m\u001b[0m\u001b[0;34m\u001b[0m\u001b[0m\n\u001b[0m",
      "\u001b[0;31mNameError\u001b[0m: name 'var_results_c1_rr' is not defined"
     ]
    }
   ],
   "source": [
    "var_results_c1_rr[0]['trend']"
   ]
  },
  {
   "cell_type": "code",
   "execution_count": 30,
   "metadata": {},
   "outputs": [
    {
     "name": "stderr",
     "output_type": "stream",
     "text": [
      "RD3976 visit 1 failed: 'NoneType' object has no attribute 'copy'\n"
     ]
    },
    {
     "name": "stdout",
     "output_type": "stream",
     "text": [
      "There is no blood pressure data available during the extubated period.\n"
     ]
    },
    {
     "name": "stderr",
     "output_type": "stream",
     "text": [
      "/Users/lucindakhalil/opt/anaconda3/lib/python3.8/site-packages/pandas/core/indexing.py:1732: SettingWithCopyWarning: \n",
      "A value is trying to be set on a copy of a slice from a DataFrame\n",
      "\n",
      "See the caveats in the documentation: https://pandas.pydata.org/pandas-docs/stable/user_guide/indexing.html#returning-a-view-versus-a-copy\n",
      "  self._setitem_single_block(indexer, value, name)\n",
      "RP0984 visit 1 failed: 'NoneType' object has no attribute 'copy'\n",
      "UI4061 visit 1 failed: float division by zero\n"
     ]
    },
    {
     "name": "stdout",
     "output_type": "stream",
     "text": [
      "There is no blood pressure data available during the extubated period.\n"
     ]
    },
    {
     "name": "stderr",
     "output_type": "stream",
     "text": [
      "UX1362 visit 1 failed: 'NoneType' object has no attribute 'copy'\n"
     ]
    },
    {
     "name": "stdout",
     "output_type": "stream",
     "text": [
      "There is no blood pressure data available during the extubated period.\n"
     ]
    },
    {
     "name": "stderr",
     "output_type": "stream",
     "text": [
      "IZ2966 visit 1 failed: 'NoneType' object has no attribute 'copy'\n"
     ]
    },
    {
     "name": "stdout",
     "output_type": "stream",
     "text": [
      "There is no blood pressure data available during the extubated period.\n"
     ]
    },
    {
     "name": "stderr",
     "output_type": "stream",
     "text": [
      "NQ3290 visit 1 failed: list index out of range\n",
      "NP1006 visit 1 failed: 'NoneType' object has no attribute 'copy'\n"
     ]
    },
    {
     "name": "stdout",
     "output_type": "stream",
     "text": [
      "There is no blood pressure data available during the extubated period.\n"
     ]
    },
    {
     "name": "stderr",
     "output_type": "stream",
     "text": [
      "GF1065 visit 1 failed: 'NoneType' object has no attribute 'copy'\n"
     ]
    },
    {
     "name": "stdout",
     "output_type": "stream",
     "text": [
      "There is no blood pressure data available during the extubated period.\n"
     ]
    },
    {
     "name": "stderr",
     "output_type": "stream",
     "text": [
      "ZW1285 visit 1 failed: 'NoneType' object has no attribute 'copy'\n",
      "TR1110 visit 1 failed: float division by zero\n"
     ]
    },
    {
     "name": "stdout",
     "output_type": "stream",
     "text": [
      "There is no blood pressure data available during the extubated period.\n"
     ]
    },
    {
     "name": "stderr",
     "output_type": "stream",
     "text": [
      "TI3785 visit 1 failed: 'NoneType' object has no attribute 'copy'\n",
      "TG1861 visit 1 failed: list index out of range\n",
      "TV4037 visit 1 failed: float division by zero\n"
     ]
    },
    {
     "name": "stdout",
     "output_type": "stream",
     "text": [
      "There is no blood pressure data available during the extubated period.\n"
     ]
    },
    {
     "name": "stderr",
     "output_type": "stream",
     "text": [
      "SZ0162 visit 1 failed: 'NoneType' object has no attribute 'copy'\n",
      "SQ1612 visit 1 failed: 'NoneType' object has no attribute 'copy'\n"
     ]
    },
    {
     "name": "stdout",
     "output_type": "stream",
     "text": [
      "There is no blood pressure data available during the extubated period.\n",
      "There is no blood pressure data available during the extubated period.\n"
     ]
    },
    {
     "name": "stderr",
     "output_type": "stream",
     "text": [
      "AS2377 visit 1 failed: list index out of range\n",
      "AY3292 visit 1 failed: list index out of range\n",
      "FN3246 visit 1 failed: float division by zero\n",
      "FE3652 visit 1 failed: 'NoneType' object has no attribute 'copy'\n"
     ]
    },
    {
     "name": "stdout",
     "output_type": "stream",
     "text": [
      "There is no blood pressure data available during the extubated period.\n"
     ]
    },
    {
     "name": "stderr",
     "output_type": "stream",
     "text": [
      "MG2402 visit 1 failed: list index out of range\n",
      "MV2170 visit 1 failed: 'NoneType' object has no attribute 'copy'\n"
     ]
    },
    {
     "name": "stdout",
     "output_type": "stream",
     "text": [
      "There is no blood pressure data available during the extubated period.\n"
     ]
    },
    {
     "name": "stderr",
     "output_type": "stream",
     "text": [
      "JZ0818 visit 1 failed: 'NoneType' object has no attribute 'copy'\n"
     ]
    },
    {
     "name": "stdout",
     "output_type": "stream",
     "text": [
      "There is no blood pressure data available during the extubated period.\n"
     ]
    },
    {
     "name": "stderr",
     "output_type": "stream",
     "text": [
      "JT1469 visit 1 failed: 'NoneType' object has no attribute 'copy'\n"
     ]
    },
    {
     "name": "stdout",
     "output_type": "stream",
     "text": [
      "There is no blood pressure data available during the extubated period.\n"
     ]
    },
    {
     "name": "stderr",
     "output_type": "stream",
     "text": [
      "JA2458 visit 1 failed: 'NoneType' object has no attribute 'copy'\n"
     ]
    },
    {
     "name": "stdout",
     "output_type": "stream",
     "text": [
      "There is no blood pressure data available during the extubated period.\n"
     ]
    },
    {
     "name": "stderr",
     "output_type": "stream",
     "text": [
      "DF3079 visit 1 failed: 'NoneType' object has no attribute 'copy'\n",
      "DM3147 visit 1 failed: 'NoneType' object has no attribute 'copy'\n",
      "DQ3738 visit 1 failed: 'NoneType' object has no attribute 'copy'\n"
     ]
    },
    {
     "name": "stdout",
     "output_type": "stream",
     "text": [
      "There is no blood pressure data available during the extubated period.\n",
      "There is no blood pressure data available during the extubated period.\n",
      "There is no blood pressure data available during the extubated period.\n"
     ]
    },
    {
     "name": "stderr",
     "output_type": "stream",
     "text": [
      "DE3827 visit 1 failed: 'NoneType' object has no attribute 'copy'\n"
     ]
    },
    {
     "name": "stdout",
     "output_type": "stream",
     "text": [
      "There is no blood pressure data available during the extubated period.\n"
     ]
    },
    {
     "name": "stderr",
     "output_type": "stream",
     "text": [
      "KZ2558 visit 1 failed: 'NoneType' object has no attribute 'copy'\n"
     ]
    },
    {
     "name": "stdout",
     "output_type": "stream",
     "text": [
      "There is no blood pressure data available during the extubated period.\n"
     ]
    },
    {
     "name": "stderr",
     "output_type": "stream",
     "text": [
      "LJ1685 visit 1 failed: 'NoneType' object has no attribute 'copy'\n",
      "LX3781 visit 1 failed: 'NoneType' object has no attribute 'copy'\n"
     ]
    },
    {
     "name": "stdout",
     "output_type": "stream",
     "text": [
      "There is no blood pressure data available during the extubated period.\n",
      "There is no blood pressure data available during the extubated period.\n"
     ]
    },
    {
     "name": "stderr",
     "output_type": "stream",
     "text": [
      "YE3158 visit 1 failed: 'NoneType' object has no attribute 'copy'\n"
     ]
    },
    {
     "name": "stdout",
     "output_type": "stream",
     "text": [
      "There is no blood pressure data available during the extubated period.\n"
     ]
    },
    {
     "name": "stderr",
     "output_type": "stream",
     "text": [
      "YK1293 visit 1 failed: float division by zero\n",
      "PL3964 visit 1 failed: 'NoneType' object has no attribute 'copy'\n"
     ]
    },
    {
     "name": "stdout",
     "output_type": "stream",
     "text": [
      "There is no blood pressure data available during the extubated period.\n"
     ]
    },
    {
     "name": "stderr",
     "output_type": "stream",
     "text": [
      "WS0898 visit 1 failed: 'NoneType' object has no attribute 'copy'\n",
      "WF2826 visit 1 failed: list index out of range\n",
      "WV3677 visit 1 failed: list index out of range\n"
     ]
    },
    {
     "name": "stdout",
     "output_type": "stream",
     "text": [
      "There is no blood pressure data available during the extubated period.\n"
     ]
    },
    {
     "name": "stderr",
     "output_type": "stream",
     "text": [
      "RZ3023 visit 2 failed: 'NoneType' object has no attribute 'copy'\n"
     ]
    },
    {
     "name": "stdout",
     "output_type": "stream",
     "text": [
      "There is no blood pressure data available during the extubated period.\n"
     ]
    },
    {
     "name": "stderr",
     "output_type": "stream",
     "text": [
      "MF2056 visit 2 failed: 'NoneType' object has no attribute 'copy'\n"
     ]
    },
    {
     "name": "stdout",
     "output_type": "stream",
     "text": [
      "There is no blood pressure data available during the extubated period.\n"
     ]
    },
    {
     "name": "stderr",
     "output_type": "stream",
     "text": [
      "VV3912 visit 2 failed: list index out of range\n",
      "QD2469 visit 2 failed: 'NoneType' object has no attribute 'copy'\n"
     ]
    },
    {
     "name": "stdout",
     "output_type": "stream",
     "text": [
      "There is no blood pressure data available during the extubated period.\n"
     ]
    },
    {
     "name": "stderr",
     "output_type": "stream",
     "text": [
      "LD3298 visit 2 failed: 'NoneType' object has no attribute 'copy'\n"
     ]
    },
    {
     "name": "stdout",
     "output_type": "stream",
     "text": [
      "There is no blood pressure data available during the extubated period.\n"
     ]
    },
    {
     "name": "stderr",
     "output_type": "stream",
     "text": [
      "PM2241 visit 2 failed: list index out of range\n",
      "WP0322 visit 2 failed: 'NoneType' object has no attribute 'copy'\n",
      "JA2458 visit 3 failed: 'NoneType' object has no attribute 'copy'\n",
      "LC1129 visit 3 failed: list index out of range\n",
      "YR3770 visit 3 failed: list index out of range\n",
      "WM2916 visit 3 failed: 'NoneType' object has no attribute 'copy'\n",
      "IC3651 visit 4 failed: 'NoneType' object has no attribute 'copy'\n"
     ]
    },
    {
     "name": "stdout",
     "output_type": "stream",
     "text": [
      "There is no blood pressure data available during the extubated period.\n",
      "There is no blood pressure data available during the extubated period.\n",
      "There is no blood pressure data available during the extubated period.\n",
      "There is no blood pressure data available during the extubated period.\n"
     ]
    },
    {
     "name": "stderr",
     "output_type": "stream",
     "text": [
      "SZ0828 visit 4 failed: 'NoneType' object has no attribute 'copy'\n",
      "CN1187 visit 4 failed: 'NoneType' object has no attribute 'copy'\n",
      "DD1778 visit 4 failed: 'NoneType' object has no attribute 'copy'\n",
      "ST0725 visit 5 failed: 'NoneType' object has no attribute 'copy'\n",
      "QY3232 visit 5 failed: 'NoneType' object has no attribute 'copy'\n"
     ]
    },
    {
     "name": "stdout",
     "output_type": "stream",
     "text": [
      "There is no blood pressure data available during the extubated period.\n",
      "There is no blood pressure data available during the extubated period.\n",
      "There is no blood pressure data available during the extubated period.\n",
      "There is no blood pressure data available during the extubated period.\n",
      "There is no blood pressure data available during the extubated period.\n"
     ]
    }
   ],
   "source": [
    "var_results_c1_abf = cohort1.var_results(abf = True)"
   ]
  },
  {
   "cell_type": "code",
   "execution_count": 32,
   "metadata": {},
   "outputs": [
    {
     "data": {
      "text/plain": [
       "(         trend       p-value       tau\n",
       " 0   increasing  1.395857e-04  0.733591\n",
       " 1   increasing  3.285656e-05  0.868627\n",
       " 2   increasing  1.271876e-10  0.379505\n",
       " 3   increasing  6.641507e-07  0.415038\n",
       " 4   decreasing  6.419803e-06 -0.508762\n",
       " ..         ...           ...       ...\n",
       " 61  decreasing  7.574622e-03 -0.550140\n",
       " 62  decreasing  3.206932e-03 -0.538634\n",
       " 63    no trend  4.124600e-01  0.048533\n",
       " 64  decreasing  5.014905e-05 -0.689356\n",
       " 65    no trend  8.475972e-01  0.023275\n",
       " \n",
       " [66 rows x 3 columns],\n",
       " 'Missing data/errors: 54')"
      ]
     },
     "execution_count": 32,
     "metadata": {},
     "output_type": "execute_result"
    }
   ],
   "source": [
    "var_results_c1_abf"
   ]
  },
  {
   "cell_type": "code",
   "execution_count": null,
   "metadata": {},
   "outputs": [],
   "source": []
  }
 ],
 "metadata": {
  "kernelspec": {
   "display_name": "Python 3.8.12 ('base')",
   "language": "python",
   "name": "python3"
  },
  "language_info": {
   "codemirror_mode": {
    "name": "ipython",
    "version": 3
   },
   "file_extension": ".py",
   "mimetype": "text/x-python",
   "name": "python",
   "nbconvert_exporter": "python",
   "pygments_lexer": "ipython3",
   "version": "3.8.12"
  },
  "orig_nbformat": 4,
  "vscode": {
   "interpreter": {
    "hash": "908e60022c9d4979c292b8b79e14df3460174af298c7d4fb047b137ea57e6458"
   }
  }
 },
 "nbformat": 4,
 "nbformat_minor": 2
}
