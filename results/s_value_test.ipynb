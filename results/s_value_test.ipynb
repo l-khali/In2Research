{
 "cells": [
  {
   "cell_type": "code",
   "execution_count": 1,
   "metadata": {},
   "outputs": [],
   "source": [
    "import numpy as np\n",
    "import pandas as pd\n",
    "from visits import Visit, Cohort, MissingDataError, holm_bonferroni, rolling_variance, rolling_autocorrelation\n",
    "import glob\n",
    "import pymannkendall as mk\n",
    "from datetime import datetime, timedelta\n",
    "import matplotlib.pyplot as plt\n",
    "from scipy.stats import mannwhitneyu, ttest_ind\n",
    "import seaborn as sb\n",
    "from matplotlib import rc"
   ]
  },
  {
   "cell_type": "code",
   "execution_count": 2,
   "metadata": {},
   "outputs": [],
   "source": [
    "c1 = pd.read_csv(\"cohort_1_details_redo.csv\", sep=\",\")\n",
    "c2 = pd.read_csv(\"cohort_2_details_redo.csv\", sep=\",\")\n",
    "c3 = pd.read_csv(\"cohort_3_details_redo.csv\", sep=\",\")"
   ]
  },
  {
   "cell_type": "code",
   "execution_count": 10,
   "metadata": {},
   "outputs": [],
   "source": [
    "c1_s = c1[\"s\"].dropna()\n",
    "c1_s = [x for x in c1_s if x != \"#DIV/0!\"]\n",
    "c1_s = [x for x in c1_s if not pd.isnull(x)]\n",
    "c1_s = [float(x) for x in c1_s]"
   ]
  },
  {
   "cell_type": "code",
   "execution_count": 11,
   "metadata": {},
   "outputs": [],
   "source": [
    "c2_s = c2[\"s\"].dropna()\n",
    "c2_s = [x for x in c2_s if x != \"#DIV/0!\"]\n",
    "c2_s = [x for x in c2_s if not pd.isnull(x)]\n",
    "c2_s = [float(x) for x in c2_s]"
   ]
  },
  {
   "cell_type": "code",
   "execution_count": 12,
   "metadata": {},
   "outputs": [],
   "source": [
    "c3_s = c3[\"s\"].dropna()\n",
    "c3_s = [x for x in c3_s if x != \"#DIV/0!\"]\n",
    "c3_s = [x for x in c3_s if not pd.isnull(x)]\n",
    "c3_s = [float(x) for x in c3_s]"
   ]
  },
  {
   "cell_type": "code",
   "execution_count": 13,
   "metadata": {},
   "outputs": [
    {
     "data": {
      "text/plain": [
       "MannwhitneyuResult(statistic=121234.5, pvalue=0.015067583261891226)"
      ]
     },
     "execution_count": 13,
     "metadata": {},
     "output_type": "execute_result"
    }
   ],
   "source": [
    "mannwhitneyu(c1_s, c2_s, alternative=\"greater\")"
   ]
  },
  {
   "cell_type": "code",
   "execution_count": 14,
   "metadata": {},
   "outputs": [
    {
     "data": {
      "text/plain": [
       "MannwhitneyuResult(statistic=111873.0, pvalue=0.5503025021617594)"
      ]
     },
     "execution_count": 14,
     "metadata": {},
     "output_type": "execute_result"
    }
   ],
   "source": [
    "mannwhitneyu(c3_s, c2_s, alternative=\"greater\")"
   ]
  },
  {
   "cell_type": "code",
   "execution_count": null,
   "metadata": {},
   "outputs": [],
   "source": []
  }
 ],
 "metadata": {
  "kernelspec": {
   "display_name": "Python 3.8.12 ('base')",
   "language": "python",
   "name": "python3"
  },
  "language_info": {
   "codemirror_mode": {
    "name": "ipython",
    "version": 3
   },
   "file_extension": ".py",
   "mimetype": "text/x-python",
   "name": "python",
   "nbconvert_exporter": "python",
   "pygments_lexer": "ipython3",
   "version": "3.8.12"
  },
  "orig_nbformat": 4,
  "vscode": {
   "interpreter": {
    "hash": "908e60022c9d4979c292b8b79e14df3460174af298c7d4fb047b137ea57e6458"
   }
  }
 },
 "nbformat": 4,
 "nbformat_minor": 2
}
