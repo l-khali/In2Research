{
 "cells": [
  {
   "cell_type": "code",
   "execution_count": 2,
   "metadata": {},
   "outputs": [],
   "source": [
    "import numpy as np\n",
    "import pandas as pd\n",
    "from visits import Visit, Cohort, MissingDataError, holm_bonferroni\n",
    "import glob\n",
    "import pymannkendall as mk\n",
    "from datetime import datetime, timedelta"
   ]
  },
  {
   "cell_type": "code",
   "execution_count": 3,
   "metadata": {},
   "outputs": [],
   "source": [
    "cohort_1_details = pd.read_csv(\"cohort_1_details_v5.csv\", sep=',')\n",
    "cohort_2_details = pd.read_csv(\"cohort_2_details_v5.csv\", sep=',')\n",
    "cohort_3_details = pd.read_csv(\"cohort_3_details_v5.csv\", sep=',')\n",
    "cohort_4_details = pd.read_csv(\"cohort_4_details_v5.csv\", sep=',')"
   ]
  },
  {
   "cell_type": "code",
   "execution_count": 4,
   "metadata": {},
   "outputs": [],
   "source": [
    "cohort_4_details = cohort_4_details[cohort_4_details['Project ID']!='EK1591']\n"
   ]
  },
  {
   "cell_type": "code",
   "execution_count": 5,
   "metadata": {},
   "outputs": [],
   "source": [
    "path = \"../In2Research_data/data/\"\n",
    "\n",
    "all_files = glob.glob(path + \"/*\")\n",
    "\n",
    "cohort_dict = {1: [], 2: [], 3: [], 4: [],}\n",
    "\n",
    "for letter1 in all_files:\n",
    "    for letter2 in glob.glob(letter1 + \"/*\"):\n",
    "        for id in glob.glob(letter2 + \"/*\"):\n",
    "            if any(\"_1_\" in file for file in glob.glob(id + \"/*\")):\n",
    "                visit = Visit(id, 1, cohort_1_details, cohort_2_details, cohort_3_details, cohort_4_details)\n",
    "                if visit.cohort:\n",
    "                    cohort_dict[visit.cohort].append(visit)\n",
    "\n",
    "for letter1 in all_files:\n",
    "    for letter2 in glob.glob(letter1 + \"/*\"):\n",
    "        for id in glob.glob(letter2 + \"/*\"):\n",
    "            if any(\"_2_\" in file for file in glob.glob(id + \"/*\")):\n",
    "                visit = Visit(id, 2, cohort_1_details, cohort_2_details, cohort_3_details, cohort_4_details)\n",
    "                if visit.cohort:\n",
    "                    cohort_dict[visit.cohort].append(visit)\n",
    "\n",
    "for letter1 in all_files:\n",
    "    for letter2 in glob.glob(letter1 + \"/*\"):\n",
    "        for id in glob.glob(letter2 + \"/*\"):\n",
    "            if any(\"_3_\" in file for file in glob.glob(id + \"/*\")):\n",
    "                visit = Visit(id, 3, cohort_1_details, cohort_2_details, cohort_3_details, cohort_4_details)\n",
    "                if visit.cohort:\n",
    "                    cohort_dict[visit.cohort].append(visit)\n",
    "\n",
    "for letter1 in all_files:\n",
    "    for letter2 in glob.glob(letter1 + \"/*\"):\n",
    "        for id in glob.glob(letter2 + \"/*\"):\n",
    "            if any(\"_4_\" in file for file in glob.glob(id + \"/*\")):\n",
    "                visit = Visit(id, 4, cohort_1_details, cohort_2_details, cohort_3_details, cohort_4_details)\n",
    "                if visit.cohort:\n",
    "                    cohort_dict[visit.cohort].append(visit)\n",
    "\n",
    "for letter1 in all_files:\n",
    "    for letter2 in glob.glob(letter1 + \"/*\"):\n",
    "        for id in glob.glob(letter2 + \"/*\"):\n",
    "            if any(\"_5_\" in file for file in glob.glob(id + \"/*\")):\n",
    "                visit = Visit(id, 5, cohort_1_details, cohort_2_details, cohort_3_details, cohort_4_details)\n",
    "                if visit.cohort:\n",
    "                    cohort_dict[visit.cohort].append(visit)\n",
    "\n",
    "for letter1 in all_files:\n",
    "    for letter2 in glob.glob(letter1 + \"/*\"):\n",
    "        for id in glob.glob(letter2 + \"/*\"):\n",
    "            if any(\"_6_\" in file for file in glob.glob(id + \"/*\")):\n",
    "                visit = Visit(id, 6, cohort_1_details, cohort_2_details, cohort_3_details, cohort_4_details)\n",
    "                if visit.cohort:\n",
    "                    cohort_dict[visit.cohort].append(visit)\n",
    "\n",
    "for letter1 in all_files:\n",
    "    for letter2 in glob.glob(letter1 + \"/*\"):\n",
    "        for id in glob.glob(letter2 + \"/*\"):\n",
    "            if any(\"_7_\" in file for file in glob.glob(id + \"/*\")):\n",
    "                visit = Visit(id, 7, cohort_1_details, cohort_2_details, cohort_3_details, cohort_4_details)\n",
    "                if visit.cohort:\n",
    "                    cohort_dict[visit.cohort].append(visit)\n",
    "\n",
    "for letter1 in all_files:\n",
    "    for letter2 in glob.glob(letter1 + \"/*\"):\n",
    "        for id in glob.glob(letter2 + \"/*\"):\n",
    "            if any(\"_8_\" in file for file in glob.glob(id + \"/*\")):\n",
    "                visit = Visit(id, 8, cohort_1_details, cohort_2_details, cohort_3_details, cohort_4_details)\n",
    "                if visit.cohort:\n",
    "                    cohort_dict[visit.cohort].append(visit)"
   ]
  },
  {
   "cell_type": "code",
   "execution_count": 6,
   "metadata": {},
   "outputs": [],
   "source": [
    "cohort4 = Cohort(cohort_dict[4], 4)"
   ]
  },
  {
   "cell_type": "code",
   "execution_count": 7,
   "metadata": {},
   "outputs": [
    {
     "data": {
      "text/plain": [
       "[<visits.visit.Visit at 0x7f7f68926c70>,\n",
       " <visits.visit.Visit at 0x7f7f687c8d90>,\n",
       " <visits.visit.Visit at 0x7f7f68ba9f40>,\n",
       " <visits.visit.Visit at 0x7f7f68bb0640>,\n",
       " <visits.visit.Visit at 0x7f7f699a4bb0>,\n",
       " <visits.visit.Visit at 0x7f7f6ba9cac0>,\n",
       " <visits.visit.Visit at 0x7f7f6baaed00>,\n",
       " <visits.visit.Visit at 0x7f7f6bb569d0>,\n",
       " <visits.visit.Visit at 0x7f7f6bb7bf70>,\n",
       " <visits.visit.Visit at 0x7f7f6bc26880>,\n",
       " <visits.visit.Visit at 0x7f7f6bcbff70>,\n",
       " <visits.visit.Visit at 0x7f7f6bedfc70>,\n",
       " <visits.visit.Visit at 0x7f7f6bfbeb20>,\n",
       " <visits.visit.Visit at 0x7f7f6c0274c0>,\n",
       " <visits.visit.Visit at 0x7f7f6c0adbe0>,\n",
       " <visits.visit.Visit at 0x7f7f6c17fc10>,\n",
       " <visits.visit.Visit at 0x7f7f6c19b9a0>,\n",
       " <visits.visit.Visit at 0x7f7f6c1af910>,\n",
       " <visits.visit.Visit at 0x7f7f6c264d30>,\n",
       " <visits.visit.Visit at 0x7f7f6c301d90>,\n",
       " <visits.visit.Visit at 0x7f7f6c30d7f0>,\n",
       " <visits.visit.Visit at 0x7f7f6c34ce80>,\n",
       " <visits.visit.Visit at 0x7f7f6c37ef10>,\n",
       " <visits.visit.Visit at 0x7f7f6c3c96a0>,\n",
       " <visits.visit.Visit at 0x7f7f6c7fdc40>]"
      ]
     },
     "execution_count": 7,
     "metadata": {},
     "output_type": "execute_result"
    }
   ],
   "source": [
    "cohort_dict[4]"
   ]
  },
  {
   "cell_type": "code",
   "execution_count": 8,
   "metadata": {},
   "outputs": [
    {
     "name": "stdout",
     "output_type": "stream",
     "text": [
      "Starting UU1119 visit 1\n"
     ]
    },
    {
     "name": "stderr",
     "output_type": "stream",
     "text": [
      "UU1119 visit 1 failed: Extubated period is too short to carry out analysis.\n"
     ]
    },
    {
     "name": "stdout",
     "output_type": "stream",
     "text": [
      "Starting GV3647 visit 1\n"
     ]
    },
    {
     "name": "stderr",
     "output_type": "stream",
     "text": [
      "/Users/lucindakhalil/opt/anaconda3/lib/python3.8/site-packages/pandas/core/indexing.py:1732: SettingWithCopyWarning: \n",
      "A value is trying to be set on a copy of a slice from a DataFrame\n",
      "\n",
      "See the caveats in the documentation: https://pandas.pydata.org/pandas-docs/stable/user_guide/indexing.html#returning-a-view-versus-a-copy\n",
      "  self._setitem_single_block(indexer, value, name)\n",
      "TF2429 visit 1 failed: Extubated period is too short to carry out analysis.\n"
     ]
    },
    {
     "name": "stdout",
     "output_type": "stream",
     "text": [
      "Starting TF2429 visit 1\n",
      "Starting TH2181 visit 1\n"
     ]
    },
    {
     "name": "stderr",
     "output_type": "stream",
     "text": [
      "TH2181 visit 1 failed: Extubated period is too short to carry out analysis.\n"
     ]
    },
    {
     "name": "stdout",
     "output_type": "stream",
     "text": [
      "Starting TK0564 visit 1\n"
     ]
    },
    {
     "name": "stderr",
     "output_type": "stream",
     "text": [
      "TK0564 visit 1 failed: Extubated period is too short to carry out analysis.\n"
     ]
    },
    {
     "name": "stdout",
     "output_type": "stream",
     "text": [
      "Starting FM2255 visit 1\n",
      "Starting FD3688 visit 1\n"
     ]
    },
    {
     "name": "stderr",
     "output_type": "stream",
     "text": [
      "FD3688 visit 1 failed: Extubated period is too short to carry out analysis.\n"
     ]
    },
    {
     "name": "stdout",
     "output_type": "stream",
     "text": [
      "Starting HH3535 visit 1\n"
     ]
    },
    {
     "name": "stderr",
     "output_type": "stream",
     "text": [
      "HH3535 visit 1 failed: Extubated period is too short to carry out analysis.\n"
     ]
    },
    {
     "name": "stdout",
     "output_type": "stream",
     "text": [
      "Starting HP0630 visit 1\n"
     ]
    },
    {
     "name": "stderr",
     "output_type": "stream",
     "text": [
      "HP0630 visit 1 failed: Extubated period is too short to carry out analysis.\n"
     ]
    },
    {
     "name": "stdout",
     "output_type": "stream",
     "text": [
      "Starting JV3994 visit 1\n",
      "Starting DA1324 visit 1\n",
      "Starting XZ2214 visit 1\n",
      "Starting BY1872 visit 1\n",
      "Starting KP2971 visit 1\n"
     ]
    },
    {
     "name": "stderr",
     "output_type": "stream",
     "text": [
      "KP2971 visit 1 failed: Extubated period is too short to carry out analysis.\n"
     ]
    },
    {
     "name": "stdout",
     "output_type": "stream",
     "text": [
      "Starting LP0324 visit 1\n"
     ]
    },
    {
     "name": "stderr",
     "output_type": "stream",
     "text": [
      "LP0324 visit 1 failed: Extubated period is too short to carry out analysis.\n"
     ]
    },
    {
     "name": "stdout",
     "output_type": "stream",
     "text": [
      "Starting WR2446 visit 1\n",
      "Starting WA0589 visit 1\n"
     ]
    },
    {
     "name": "stderr",
     "output_type": "stream",
     "text": [
      "WH2753 visit 1 failed: Extubated period is too short to carry out analysis.\n"
     ]
    },
    {
     "name": "stdout",
     "output_type": "stream",
     "text": [
      "Starting WH2753 visit 1\n",
      "Starting TM2287 visit 2\n",
      "Starting JL0979 visit 2\n"
     ]
    },
    {
     "name": "stderr",
     "output_type": "stream",
     "text": [
      "JL0979 visit 2 failed: Extubated period is too short to carry out analysis.\n"
     ]
    },
    {
     "name": "stdout",
     "output_type": "stream",
     "text": [
      "Starting CN1142 visit 2\n"
     ]
    },
    {
     "name": "stderr",
     "output_type": "stream",
     "text": [
      "CN1142 visit 2 failed: Extubated period is too short to carry out analysis.\n"
     ]
    },
    {
     "name": "stdout",
     "output_type": "stream",
     "text": [
      "Starting QF1860 visit 2\n"
     ]
    },
    {
     "name": "stderr",
     "output_type": "stream",
     "text": [
      "XP0759 visit 2 failed: Extubated period is too short to carry out analysis.\n"
     ]
    },
    {
     "name": "stdout",
     "output_type": "stream",
     "text": [
      "Starting XP0759 visit 2\n",
      "Starting LC2708 visit 2\n"
     ]
    },
    {
     "name": "stderr",
     "output_type": "stream",
     "text": [
      "LC2708 visit 2 failed: Extubated period is too short to carry out analysis.\n"
     ]
    },
    {
     "name": "stdout",
     "output_type": "stream",
     "text": [
      "Starting AH3026 visit 4\n"
     ]
    }
   ],
   "source": [
    "variance_hr_results_c4 = cohort4.var_results(hr = True)\n",
    "variance_hr_results_c4[0].to_csv('variance_hr_results_c4.csv')"
   ]
  },
  {
   "cell_type": "code",
   "execution_count": 9,
   "metadata": {},
   "outputs": [
    {
     "name": "stdout",
     "output_type": "stream",
     "text": [
      "Starting UU1119 visit 1\n"
     ]
    },
    {
     "name": "stderr",
     "output_type": "stream",
     "text": [
      "UU1119 visit 1 failed: Extubated period is too short to carry out analysis.\n"
     ]
    },
    {
     "name": "stdout",
     "output_type": "stream",
     "text": [
      "Starting GV3647 visit 1\n"
     ]
    },
    {
     "name": "stderr",
     "output_type": "stream",
     "text": [
      "/Users/lucindakhalil/opt/anaconda3/lib/python3.8/site-packages/pandas/core/indexing.py:1732: SettingWithCopyWarning: \n",
      "A value is trying to be set on a copy of a slice from a DataFrame\n",
      "\n",
      "See the caveats in the documentation: https://pandas.pydata.org/pandas-docs/stable/user_guide/indexing.html#returning-a-view-versus-a-copy\n",
      "  self._setitem_single_block(indexer, value, name)\n"
     ]
    },
    {
     "name": "stdout",
     "output_type": "stream",
     "text": [
      "Starting TF2429 visit 1\n"
     ]
    },
    {
     "name": "stderr",
     "output_type": "stream",
     "text": [
      "TF2429 visit 1 failed: Extubated period is too short to carry out analysis.\n"
     ]
    },
    {
     "name": "stdout",
     "output_type": "stream",
     "text": [
      "Starting TH2181 visit 1\n"
     ]
    },
    {
     "name": "stderr",
     "output_type": "stream",
     "text": [
      "TH2181 visit 1 failed: Extubated period is too short to carry out analysis.\n"
     ]
    },
    {
     "name": "stdout",
     "output_type": "stream",
     "text": [
      "Starting TK0564 visit 1\n"
     ]
    },
    {
     "name": "stderr",
     "output_type": "stream",
     "text": [
      "TK0564 visit 1 failed: Extubated period is too short to carry out analysis.\n"
     ]
    },
    {
     "name": "stdout",
     "output_type": "stream",
     "text": [
      "Starting FM2255 visit 1\n",
      "Starting FD3688 visit 1\n"
     ]
    },
    {
     "name": "stderr",
     "output_type": "stream",
     "text": [
      "FD3688 visit 1 failed: Extubated period is too short to carry out analysis.\n"
     ]
    },
    {
     "name": "stdout",
     "output_type": "stream",
     "text": [
      "Starting HH3535 visit 1\n"
     ]
    },
    {
     "name": "stderr",
     "output_type": "stream",
     "text": [
      "HH3535 visit 1 failed: Extubated period is too short to carry out analysis.\n"
     ]
    },
    {
     "name": "stdout",
     "output_type": "stream",
     "text": [
      "Starting HP0630 visit 1\n"
     ]
    },
    {
     "name": "stderr",
     "output_type": "stream",
     "text": [
      "HP0630 visit 1 failed: Extubated period is too short to carry out analysis.\n"
     ]
    },
    {
     "name": "stdout",
     "output_type": "stream",
     "text": [
      "Starting JV3994 visit 1\n",
      "Starting DA1324 visit 1\n",
      "Starting XZ2214 visit 1\n",
      "Starting BY1872 visit 1\n",
      "Starting KP2971 visit 1\n"
     ]
    },
    {
     "name": "stderr",
     "output_type": "stream",
     "text": [
      "KP2971 visit 1 failed: Extubated period is too short to carry out analysis.\n"
     ]
    },
    {
     "name": "stdout",
     "output_type": "stream",
     "text": [
      "Starting LP0324 visit 1\n"
     ]
    },
    {
     "name": "stderr",
     "output_type": "stream",
     "text": [
      "LP0324 visit 1 failed: Extubated period is too short to carry out analysis.\n"
     ]
    },
    {
     "name": "stdout",
     "output_type": "stream",
     "text": [
      "Starting WR2446 visit 1\n",
      "Starting WA0589 visit 1\n",
      "Starting WH2753 visit 1\n"
     ]
    },
    {
     "name": "stderr",
     "output_type": "stream",
     "text": [
      "WH2753 visit 1 failed: Extubated period is too short to carry out analysis.\n"
     ]
    },
    {
     "name": "stdout",
     "output_type": "stream",
     "text": [
      "Starting TM2287 visit 2\n",
      "Starting JL0979 visit 2\n"
     ]
    },
    {
     "name": "stderr",
     "output_type": "stream",
     "text": [
      "JL0979 visit 2 failed: Extubated period is too short to carry out analysis.\n",
      "CN1142 visit 2 failed: Extubated period is too short to carry out analysis.\n"
     ]
    },
    {
     "name": "stdout",
     "output_type": "stream",
     "text": [
      "Starting CN1142 visit 2\n",
      "Starting QF1860 visit 2\n",
      "Starting XP0759 visit 2\n"
     ]
    },
    {
     "name": "stderr",
     "output_type": "stream",
     "text": [
      "XP0759 visit 2 failed: Extubated period is too short to carry out analysis.\n"
     ]
    },
    {
     "name": "stdout",
     "output_type": "stream",
     "text": [
      "Starting LC2708 visit 2\n"
     ]
    },
    {
     "name": "stderr",
     "output_type": "stream",
     "text": [
      "LC2708 visit 2 failed: Extubated period is too short to carry out analysis.\n"
     ]
    },
    {
     "name": "stdout",
     "output_type": "stream",
     "text": [
      "Starting AH3026 visit 4\n"
     ]
    }
   ],
   "source": [
    "variance_rr_results_c4 = cohort4.var_results(rr = True)\n",
    "variance_rr_results_c4[0].to_csv('variance_rr_results_c4.csv')"
   ]
  },
  {
   "cell_type": "code",
   "execution_count": 10,
   "metadata": {},
   "outputs": [
    {
     "name": "stderr",
     "output_type": "stream",
     "text": [
      "UU1119 visit 1 failed: Extubated period is too short to carry out analysis.\n"
     ]
    },
    {
     "name": "stdout",
     "output_type": "stream",
     "text": [
      "Starting UU1119 visit 1\n",
      "Starting GV3647 visit 1\n",
      "Starting TF2429 visit 1\n"
     ]
    },
    {
     "name": "stderr",
     "output_type": "stream",
     "text": [
      "TF2429 visit 1 failed: Extubated period is too short to carry out analysis.\n",
      "TH2181 visit 1 failed: Extubated period is too short to carry out analysis.\n"
     ]
    },
    {
     "name": "stdout",
     "output_type": "stream",
     "text": [
      "Starting TH2181 visit 1\n",
      "Starting TK0564 visit 1\n"
     ]
    },
    {
     "name": "stderr",
     "output_type": "stream",
     "text": [
      "TK0564 visit 1 failed: Extubated period is too short to carry out analysis.\n"
     ]
    },
    {
     "name": "stdout",
     "output_type": "stream",
     "text": [
      "Starting FM2255 visit 1\n",
      "Starting FD3688 visit 1\n"
     ]
    },
    {
     "name": "stderr",
     "output_type": "stream",
     "text": [
      "FD3688 visit 1 failed: Extubated period is too short to carry out analysis.\n"
     ]
    },
    {
     "name": "stdout",
     "output_type": "stream",
     "text": [
      "Starting HH3535 visit 1\n"
     ]
    },
    {
     "name": "stderr",
     "output_type": "stream",
     "text": [
      "HH3535 visit 1 failed: Extubated period is too short to carry out analysis.\n"
     ]
    },
    {
     "name": "stdout",
     "output_type": "stream",
     "text": [
      "Starting HP0630 visit 1\n"
     ]
    },
    {
     "name": "stderr",
     "output_type": "stream",
     "text": [
      "HP0630 visit 1 failed: Extubated period is too short to carry out analysis.\n"
     ]
    },
    {
     "name": "stdout",
     "output_type": "stream",
     "text": [
      "Starting JV3994 visit 1\n",
      "Starting DA1324 visit 1\n",
      "Starting XZ2214 visit 1\n"
     ]
    },
    {
     "name": "stderr",
     "output_type": "stream",
     "text": [
      "XZ2214 visit 1 failed: 'NoneType' object has no attribute 'copy'\n"
     ]
    },
    {
     "name": "stdout",
     "output_type": "stream",
     "text": [
      "There is no blood pressure data available during the extubated period.\n",
      "Starting BY1872 visit 1\n",
      "Starting KP2971 visit 1\n"
     ]
    },
    {
     "name": "stderr",
     "output_type": "stream",
     "text": [
      "KP2971 visit 1 failed: Extubated period is too short to carry out analysis.\n",
      "LP0324 visit 1 failed: Extubated period is too short to carry out analysis.\n"
     ]
    },
    {
     "name": "stdout",
     "output_type": "stream",
     "text": [
      "Starting LP0324 visit 1\n",
      "Starting WR2446 visit 1\n",
      "Starting WA0589 visit 1\n"
     ]
    },
    {
     "name": "stderr",
     "output_type": "stream",
     "text": [
      "WH2753 visit 1 failed: Extubated period is too short to carry out analysis.\n"
     ]
    },
    {
     "name": "stdout",
     "output_type": "stream",
     "text": [
      "Starting WH2753 visit 1\n",
      "Starting TM2287 visit 2\n"
     ]
    },
    {
     "name": "stderr",
     "output_type": "stream",
     "text": [
      "TM2287 visit 2 failed: 'NoneType' object has no attribute 'copy'\n",
      "JL0979 visit 2 failed: Extubated period is too short to carry out analysis.\n"
     ]
    },
    {
     "name": "stdout",
     "output_type": "stream",
     "text": [
      "There is no blood pressure data available during the extubated period.\n",
      "Starting JL0979 visit 2\n",
      "Starting CN1142 visit 2\n"
     ]
    },
    {
     "name": "stderr",
     "output_type": "stream",
     "text": [
      "CN1142 visit 2 failed: Extubated period is too short to carry out analysis.\n"
     ]
    },
    {
     "name": "stdout",
     "output_type": "stream",
     "text": [
      "Starting QF1860 visit 2\n",
      "Starting XP0759 visit 2\n"
     ]
    },
    {
     "name": "stderr",
     "output_type": "stream",
     "text": [
      "XP0759 visit 2 failed: Extubated period is too short to carry out analysis.\n"
     ]
    },
    {
     "name": "stdout",
     "output_type": "stream",
     "text": [
      "Starting LC2708 visit 2\n"
     ]
    },
    {
     "name": "stderr",
     "output_type": "stream",
     "text": [
      "LC2708 visit 2 failed: Extubated period is too short to carry out analysis.\n"
     ]
    },
    {
     "name": "stdout",
     "output_type": "stream",
     "text": [
      "Starting AH3026 visit 4\n"
     ]
    }
   ],
   "source": [
    "variance_abf_results_c4 = cohort4.var_results(abf = True)\n",
    "variance_abf_results_c4[0].to_csv('variance_abf_results_c4.csv')"
   ]
  },
  {
   "cell_type": "code",
   "execution_count": 11,
   "metadata": {},
   "outputs": [
    {
     "name": "stderr",
     "output_type": "stream",
     "text": [
      "UU1119 visit 1 failed: Extubated period is too short to carry out analysis.\n",
      "TF2429 visit 1 failed: Extubated period is too short to carry out analysis.\n",
      "TH2181 visit 1 failed: Extubated period is too short to carry out analysis.\n",
      "TK0564 visit 1 failed: Extubated period is too short to carry out analysis.\n",
      "FD3688 visit 1 failed: Extubated period is too short to carry out analysis.\n",
      "HH3535 visit 1 failed: Extubated period is too short to carry out analysis.\n",
      "HP0630 visit 1 failed: Extubated period is too short to carry out analysis.\n",
      "KP2971 visit 1 failed: Extubated period is too short to carry out analysis.\n",
      "LP0324 visit 1 failed: Extubated period is too short to carry out analysis.\n",
      "WH2753 visit 1 failed: Extubated period is too short to carry out analysis.\n",
      "JL0979 visit 2 failed: Extubated period is too short to carry out analysis.\n",
      "CN1142 visit 2 failed: Extubated period is too short to carry out analysis.\n",
      "XP0759 visit 2 failed: Extubated period is too short to carry out analysis.\n",
      "LC2708 visit 2 failed: Extubated period is too short to carry out analysis.\n"
     ]
    }
   ],
   "source": [
    "autocorrelation_hr_results_c4 = cohort4.ac_results(hr = True)\n",
    "autocorrelation_hr_results_c4[0].to_csv('autocorrelation_hr_results_c4.csv')"
   ]
  },
  {
   "cell_type": "code",
   "execution_count": 12,
   "metadata": {},
   "outputs": [
    {
     "name": "stderr",
     "output_type": "stream",
     "text": [
      "UU1119 visit 1 failed: Extubated period is too short to carry out analysis.\n",
      "TF2429 visit 1 failed: Extubated period is too short to carry out analysis.\n",
      "TH2181 visit 1 failed: Extubated period is too short to carry out analysis.\n",
      "TK0564 visit 1 failed: Extubated period is too short to carry out analysis.\n",
      "FD3688 visit 1 failed: Extubated period is too short to carry out analysis.\n",
      "HH3535 visit 1 failed: Extubated period is too short to carry out analysis.\n",
      "HP0630 visit 1 failed: Extubated period is too short to carry out analysis.\n",
      "KP2971 visit 1 failed: Extubated period is too short to carry out analysis.\n",
      "LP0324 visit 1 failed: Extubated period is too short to carry out analysis.\n",
      "WH2753 visit 1 failed: Extubated period is too short to carry out analysis.\n",
      "JL0979 visit 2 failed: Extubated period is too short to carry out analysis.\n",
      "CN1142 visit 2 failed: Extubated period is too short to carry out analysis.\n",
      "XP0759 visit 2 failed: Extubated period is too short to carry out analysis.\n",
      "LC2708 visit 2 failed: Extubated period is too short to carry out analysis.\n"
     ]
    }
   ],
   "source": [
    "autocorrelation_rr_results_c4 = cohort4.ac_results(rr = True)\n",
    "autocorrelation_rr_results_c4[0].to_csv('autocorrelation_rr_results_c4.csv')"
   ]
  },
  {
   "cell_type": "code",
   "execution_count": 13,
   "metadata": {},
   "outputs": [
    {
     "name": "stderr",
     "output_type": "stream",
     "text": [
      "UU1119 visit 1 failed: Extubated period is too short to carry out analysis.\n",
      "/Users/lucindakhalil/opt/anaconda3/lib/python3.8/site-packages/pandas/core/indexing.py:1732: SettingWithCopyWarning: \n",
      "A value is trying to be set on a copy of a slice from a DataFrame\n",
      "\n",
      "See the caveats in the documentation: https://pandas.pydata.org/pandas-docs/stable/user_guide/indexing.html#returning-a-view-versus-a-copy\n",
      "  self._setitem_single_block(indexer, value, name)\n",
      "TF2429 visit 1 failed: Extubated period is too short to carry out analysis.\n",
      "TH2181 visit 1 failed: Extubated period is too short to carry out analysis.\n",
      "TK0564 visit 1 failed: Extubated period is too short to carry out analysis.\n",
      "FD3688 visit 1 failed: Extubated period is too short to carry out analysis.\n",
      "HH3535 visit 1 failed: Extubated period is too short to carry out analysis.\n",
      "HP0630 visit 1 failed: Extubated period is too short to carry out analysis.\n",
      "XZ2214 visit 1 failed: 'NoneType' object has no attribute 'copy'\n"
     ]
    },
    {
     "name": "stdout",
     "output_type": "stream",
     "text": [
      "There is no blood pressure data available during the extubated period.\n"
     ]
    },
    {
     "name": "stderr",
     "output_type": "stream",
     "text": [
      "KP2971 visit 1 failed: Extubated period is too short to carry out analysis.\n",
      "LP0324 visit 1 failed: Extubated period is too short to carry out analysis.\n",
      "WH2753 visit 1 failed: Extubated period is too short to carry out analysis.\n",
      "TM2287 visit 2 failed: 'NoneType' object has no attribute 'copy'\n",
      "JL0979 visit 2 failed: Extubated period is too short to carry out analysis.\n"
     ]
    },
    {
     "name": "stdout",
     "output_type": "stream",
     "text": [
      "There is no blood pressure data available during the extubated period.\n"
     ]
    },
    {
     "name": "stderr",
     "output_type": "stream",
     "text": [
      "CN1142 visit 2 failed: Extubated period is too short to carry out analysis.\n",
      "XP0759 visit 2 failed: Extubated period is too short to carry out analysis.\n",
      "LC2708 visit 2 failed: Extubated period is too short to carry out analysis.\n"
     ]
    }
   ],
   "source": [
    "autocorrelation_abf_results_c4 = cohort4.ac_results(abf = True)\n",
    "autocorrelation_abf_results_c4[0].to_csv('autocorrelation_abf_results_c4.csv')"
   ]
  },
  {
   "cell_type": "code",
   "execution_count": null,
   "metadata": {},
   "outputs": [],
   "source": []
  }
 ],
 "metadata": {
  "kernelspec": {
   "display_name": "Python 3.8.12 ('base')",
   "language": "python",
   "name": "python3"
  },
  "language_info": {
   "codemirror_mode": {
    "name": "ipython",
    "version": 3
   },
   "file_extension": ".py",
   "mimetype": "text/x-python",
   "name": "python",
   "nbconvert_exporter": "python",
   "pygments_lexer": "ipython3",
   "version": "3.8.12"
  },
  "orig_nbformat": 4,
  "vscode": {
   "interpreter": {
    "hash": "908e60022c9d4979c292b8b79e14df3460174af298c7d4fb047b137ea57e6458"
   }
  }
 },
 "nbformat": 4,
 "nbformat_minor": 2
}
