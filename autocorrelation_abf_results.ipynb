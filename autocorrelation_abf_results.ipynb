{
 "cells": [
  {
   "cell_type": "code",
   "execution_count": 1,
   "metadata": {},
   "outputs": [],
   "source": [
    "import numpy as np\n",
    "import pandas as pd\n",
    "from visits import Visit, Cohort, MissingDataError, holm_bonferroni\n",
    "import glob\n",
    "import pymannkendall as mk\n",
    "from datetime import datetime, timedelta"
   ]
  },
  {
   "cell_type": "code",
   "execution_count": 2,
   "metadata": {},
   "outputs": [],
   "source": [
    "cohort_1_details = pd.read_csv(\"cohort_1_details_v5.csv\", sep=',')\n",
    "cohort_2_details = pd.read_csv(\"cohort_2_details_v5.csv\", sep=',')\n",
    "cohort_3_details = pd.read_csv(\"cohort_3_details_v5.csv\", sep=',')\n",
    "cohort_4_details = pd.read_csv(\"cohort_4_details_v5.csv\", sep=',')"
   ]
  },
  {
   "cell_type": "code",
   "execution_count": 3,
   "metadata": {},
   "outputs": [],
   "source": [
    "path = \"../In2Research_data/data/\"\n",
    "\n",
    "all_files = glob.glob(path + \"/*\")\n",
    "\n",
    "cohort_dict = {1: [], 2: [], 3: [], 4: [],}\n",
    "\n",
    "for letter1 in all_files:\n",
    "    for letter2 in glob.glob(letter1 + \"/*\"):\n",
    "        for id in glob.glob(letter2 + \"/*\"):\n",
    "            if any(\"_1_\" in file for file in glob.glob(id + \"/*\")):\n",
    "                visit = Visit(id, 1, cohort_1_details, cohort_2_details, cohort_3_details, cohort_4_details)\n",
    "                if visit.cohort:\n",
    "                    cohort_dict[visit.cohort].append(visit)\n",
    "\n",
    "for letter1 in all_files:\n",
    "    for letter2 in glob.glob(letter1 + \"/*\"):\n",
    "        for id in glob.glob(letter2 + \"/*\"):\n",
    "            if any(\"_2_\" in file for file in glob.glob(id + \"/*\")):\n",
    "                visit = Visit(id, 2, cohort_1_details, cohort_2_details, cohort_3_details, cohort_4_details)\n",
    "                if visit.cohort:\n",
    "                    cohort_dict[visit.cohort].append(visit)\n",
    "\n",
    "for letter1 in all_files:\n",
    "    for letter2 in glob.glob(letter1 + \"/*\"):\n",
    "        for id in glob.glob(letter2 + \"/*\"):\n",
    "            if any(\"_3_\" in file for file in glob.glob(id + \"/*\")):\n",
    "                visit = Visit(id, 3, cohort_1_details, cohort_2_details, cohort_3_details, cohort_4_details)\n",
    "                if visit.cohort:\n",
    "                    cohort_dict[visit.cohort].append(visit)\n",
    "\n",
    "for letter1 in all_files:\n",
    "    for letter2 in glob.glob(letter1 + \"/*\"):\n",
    "        for id in glob.glob(letter2 + \"/*\"):\n",
    "            if any(\"_4_\" in file for file in glob.glob(id + \"/*\")):\n",
    "                visit = Visit(id, 4, cohort_1_details, cohort_2_details, cohort_3_details, cohort_4_details)\n",
    "                if visit.cohort:\n",
    "                    cohort_dict[visit.cohort].append(visit)\n",
    "\n",
    "for letter1 in all_files:\n",
    "    for letter2 in glob.glob(letter1 + \"/*\"):\n",
    "        for id in glob.glob(letter2 + \"/*\"):\n",
    "            if any(\"_5_\" in file for file in glob.glob(id + \"/*\")):\n",
    "                visit = Visit(id, 5, cohort_1_details, cohort_2_details, cohort_3_details, cohort_4_details)\n",
    "                if visit.cohort:\n",
    "                    cohort_dict[visit.cohort].append(visit)\n",
    "\n",
    "for letter1 in all_files:\n",
    "    for letter2 in glob.glob(letter1 + \"/*\"):\n",
    "        for id in glob.glob(letter2 + \"/*\"):\n",
    "            if any(\"_6_\" in file for file in glob.glob(id + \"/*\")):\n",
    "                visit = Visit(id, 6, cohort_1_details, cohort_2_details, cohort_3_details, cohort_4_details)\n",
    "                if visit.cohort:\n",
    "                    cohort_dict[visit.cohort].append(visit)\n",
    "\n",
    "for letter1 in all_files:\n",
    "    for letter2 in glob.glob(letter1 + \"/*\"):\n",
    "        for id in glob.glob(letter2 + \"/*\"):\n",
    "            if any(\"_7_\" in file for file in glob.glob(id + \"/*\")):\n",
    "                visit = Visit(id, 7, cohort_1_details, cohort_2_details, cohort_3_details, cohort_4_details)\n",
    "                if visit.cohort:\n",
    "                    cohort_dict[visit.cohort].append(visit)\n",
    "\n",
    "for letter1 in all_files:\n",
    "    for letter2 in glob.glob(letter1 + \"/*\"):\n",
    "        for id in glob.glob(letter2 + \"/*\"):\n",
    "            if any(\"_8_\" in file for file in glob.glob(id + \"/*\")):\n",
    "                visit = Visit(id, 8, cohort_1_details, cohort_2_details, cohort_3_details, cohort_4_details)\n",
    "                if visit.cohort:\n",
    "                    cohort_dict[visit.cohort].append(visit)"
   ]
  },
  {
   "cell_type": "code",
   "execution_count": 4,
   "metadata": {},
   "outputs": [],
   "source": [
    "cohort1 = Cohort(cohort_dict[1], 1)\n",
    "cohort2_pt1 = Cohort(cohort_dict[2][0:1970], 2)"
   ]
  },
  {
   "cell_type": "code",
   "execution_count": 5,
   "metadata": {},
   "outputs": [
    {
     "name": "stderr",
     "output_type": "stream",
     "text": [
      "RD3976 visit 1 failed: 'NoneType' object has no attribute 'copy'\n"
     ]
    },
    {
     "name": "stdout",
     "output_type": "stream",
     "text": [
      "There is no blood pressure data available during the extubated period.\n"
     ]
    },
    {
     "name": "stderr",
     "output_type": "stream",
     "text": [
      "/Users/lucindakhalil/opt/anaconda3/lib/python3.8/site-packages/pandas/core/indexing.py:1732: SettingWithCopyWarning: \n",
      "A value is trying to be set on a copy of a slice from a DataFrame\n",
      "\n",
      "See the caveats in the documentation: https://pandas.pydata.org/pandas-docs/stable/user_guide/indexing.html#returning-a-view-versus-a-copy\n",
      "  self._setitem_single_block(indexer, value, name)\n",
      "RP0984 visit 1 failed: 'NoneType' object has no attribute 'copy'\n",
      "UI4061 visit 1 failed: float division by zero\n"
     ]
    },
    {
     "name": "stdout",
     "output_type": "stream",
     "text": [
      "There is no blood pressure data available during the extubated period.\n"
     ]
    },
    {
     "name": "stderr",
     "output_type": "stream",
     "text": [
      "UX1362 visit 1 failed: 'NoneType' object has no attribute 'copy'\n"
     ]
    },
    {
     "name": "stdout",
     "output_type": "stream",
     "text": [
      "There is no blood pressure data available during the extubated period.\n"
     ]
    },
    {
     "name": "stderr",
     "output_type": "stream",
     "text": [
      "IZ2966 visit 1 failed: 'NoneType' object has no attribute 'copy'\n"
     ]
    },
    {
     "name": "stdout",
     "output_type": "stream",
     "text": [
      "There is no blood pressure data available during the extubated period.\n"
     ]
    },
    {
     "name": "stderr",
     "output_type": "stream",
     "text": [
      "NQ3290 visit 1 failed: list index out of range\n",
      "NP1006 visit 1 failed: 'NoneType' object has no attribute 'copy'\n"
     ]
    },
    {
     "name": "stdout",
     "output_type": "stream",
     "text": [
      "There is no blood pressure data available during the extubated period.\n"
     ]
    },
    {
     "name": "stderr",
     "output_type": "stream",
     "text": [
      "GF1065 visit 1 failed: 'NoneType' object has no attribute 'copy'\n"
     ]
    },
    {
     "name": "stdout",
     "output_type": "stream",
     "text": [
      "There is no blood pressure data available during the extubated period.\n"
     ]
    },
    {
     "name": "stderr",
     "output_type": "stream",
     "text": [
      "ZW1285 visit 1 failed: 'NoneType' object has no attribute 'copy'\n",
      "TR1110 visit 1 failed: float division by zero\n"
     ]
    },
    {
     "name": "stdout",
     "output_type": "stream",
     "text": [
      "There is no blood pressure data available during the extubated period.\n"
     ]
    },
    {
     "name": "stderr",
     "output_type": "stream",
     "text": [
      "TI3785 visit 1 failed: 'NoneType' object has no attribute 'copy'\n",
      "TG1861 visit 1 failed: list index out of range\n",
      "TV4037 visit 1 failed: float division by zero\n"
     ]
    },
    {
     "name": "stdout",
     "output_type": "stream",
     "text": [
      "There is no blood pressure data available during the extubated period.\n"
     ]
    },
    {
     "name": "stderr",
     "output_type": "stream",
     "text": [
      "SZ0162 visit 1 failed: 'NoneType' object has no attribute 'copy'\n",
      "SQ1612 visit 1 failed: 'NoneType' object has no attribute 'copy'\n"
     ]
    },
    {
     "name": "stdout",
     "output_type": "stream",
     "text": [
      "There is no blood pressure data available during the extubated period.\n",
      "There is no blood pressure data available during the extubated period.\n"
     ]
    },
    {
     "name": "stderr",
     "output_type": "stream",
     "text": [
      "AS2377 visit 1 failed: list index out of range\n",
      "AY3292 visit 1 failed: list index out of range\n",
      "FN3246 visit 1 failed: float division by zero\n",
      "FE3652 visit 1 failed: 'NoneType' object has no attribute 'copy'\n"
     ]
    },
    {
     "name": "stdout",
     "output_type": "stream",
     "text": [
      "There is no blood pressure data available during the extubated period.\n"
     ]
    },
    {
     "name": "stderr",
     "output_type": "stream",
     "text": [
      "MG2402 visit 1 failed: list index out of range\n",
      "MV2170 visit 1 failed: 'NoneType' object has no attribute 'copy'\n"
     ]
    },
    {
     "name": "stdout",
     "output_type": "stream",
     "text": [
      "There is no blood pressure data available during the extubated period.\n"
     ]
    },
    {
     "name": "stderr",
     "output_type": "stream",
     "text": [
      "JZ0818 visit 1 failed: 'NoneType' object has no attribute 'copy'\n"
     ]
    },
    {
     "name": "stdout",
     "output_type": "stream",
     "text": [
      "There is no blood pressure data available during the extubated period.\n"
     ]
    },
    {
     "name": "stderr",
     "output_type": "stream",
     "text": [
      "JT1469 visit 1 failed: 'NoneType' object has no attribute 'copy'\n"
     ]
    },
    {
     "name": "stdout",
     "output_type": "stream",
     "text": [
      "There is no blood pressure data available during the extubated period.\n"
     ]
    },
    {
     "name": "stderr",
     "output_type": "stream",
     "text": [
      "JA2458 visit 1 failed: 'NoneType' object has no attribute 'copy'\n"
     ]
    },
    {
     "name": "stdout",
     "output_type": "stream",
     "text": [
      "There is no blood pressure data available during the extubated period.\n"
     ]
    },
    {
     "name": "stderr",
     "output_type": "stream",
     "text": [
      "DF3079 visit 1 failed: 'NoneType' object has no attribute 'copy'\n",
      "DM3147 visit 1 failed: 'NoneType' object has no attribute 'copy'\n",
      "DQ3738 visit 1 failed: 'NoneType' object has no attribute 'copy'\n"
     ]
    },
    {
     "name": "stdout",
     "output_type": "stream",
     "text": [
      "There is no blood pressure data available during the extubated period.\n",
      "There is no blood pressure data available during the extubated period.\n",
      "There is no blood pressure data available during the extubated period.\n"
     ]
    },
    {
     "name": "stderr",
     "output_type": "stream",
     "text": [
      "DE3827 visit 1 failed: 'NoneType' object has no attribute 'copy'\n"
     ]
    },
    {
     "name": "stdout",
     "output_type": "stream",
     "text": [
      "There is no blood pressure data available during the extubated period.\n"
     ]
    },
    {
     "name": "stderr",
     "output_type": "stream",
     "text": [
      "KZ2558 visit 1 failed: 'NoneType' object has no attribute 'copy'\n"
     ]
    },
    {
     "name": "stdout",
     "output_type": "stream",
     "text": [
      "There is no blood pressure data available during the extubated period.\n"
     ]
    },
    {
     "name": "stderr",
     "output_type": "stream",
     "text": [
      "LJ1685 visit 1 failed: 'NoneType' object has no attribute 'copy'\n",
      "LX3781 visit 1 failed: 'NoneType' object has no attribute 'copy'\n"
     ]
    },
    {
     "name": "stdout",
     "output_type": "stream",
     "text": [
      "There is no blood pressure data available during the extubated period.\n",
      "There is no blood pressure data available during the extubated period.\n"
     ]
    },
    {
     "name": "stderr",
     "output_type": "stream",
     "text": [
      "YE3158 visit 1 failed: 'NoneType' object has no attribute 'copy'\n",
      "YK1293 visit 1 failed: float division by zero\n"
     ]
    },
    {
     "name": "stdout",
     "output_type": "stream",
     "text": [
      "There is no blood pressure data available during the extubated period.\n"
     ]
    },
    {
     "name": "stderr",
     "output_type": "stream",
     "text": [
      "PL3964 visit 1 failed: 'NoneType' object has no attribute 'copy'\n"
     ]
    },
    {
     "name": "stdout",
     "output_type": "stream",
     "text": [
      "There is no blood pressure data available during the extubated period.\n"
     ]
    },
    {
     "name": "stderr",
     "output_type": "stream",
     "text": [
      "WS0898 visit 1 failed: 'NoneType' object has no attribute 'copy'\n",
      "WF2826 visit 1 failed: list index out of range\n",
      "WV3677 visit 1 failed: list index out of range\n"
     ]
    },
    {
     "name": "stdout",
     "output_type": "stream",
     "text": [
      "There is no blood pressure data available during the extubated period.\n"
     ]
    },
    {
     "name": "stderr",
     "output_type": "stream",
     "text": [
      "RZ3023 visit 2 failed: 'NoneType' object has no attribute 'copy'\n"
     ]
    },
    {
     "name": "stdout",
     "output_type": "stream",
     "text": [
      "There is no blood pressure data available during the extubated period.\n"
     ]
    },
    {
     "name": "stderr",
     "output_type": "stream",
     "text": [
      "MF2056 visit 2 failed: 'NoneType' object has no attribute 'copy'\n"
     ]
    },
    {
     "name": "stdout",
     "output_type": "stream",
     "text": [
      "There is no blood pressure data available during the extubated period.\n"
     ]
    },
    {
     "name": "stderr",
     "output_type": "stream",
     "text": [
      "VV3912 visit 2 failed: list index out of range\n",
      "QD2469 visit 2 failed: 'NoneType' object has no attribute 'copy'\n"
     ]
    },
    {
     "name": "stdout",
     "output_type": "stream",
     "text": [
      "There is no blood pressure data available during the extubated period.\n"
     ]
    },
    {
     "name": "stderr",
     "output_type": "stream",
     "text": [
      "LD3298 visit 2 failed: 'NoneType' object has no attribute 'copy'\n"
     ]
    },
    {
     "name": "stdout",
     "output_type": "stream",
     "text": [
      "There is no blood pressure data available during the extubated period.\n"
     ]
    },
    {
     "name": "stderr",
     "output_type": "stream",
     "text": [
      "PM2241 visit 2 failed: list index out of range\n",
      "WP0322 visit 2 failed: 'NoneType' object has no attribute 'copy'\n",
      "JA2458 visit 3 failed: 'NoneType' object has no attribute 'copy'\n",
      "LC1129 visit 3 failed: list index out of range\n",
      "YR3770 visit 3 failed: list index out of range\n",
      "WM2916 visit 3 failed: 'NoneType' object has no attribute 'copy'\n",
      "IC3651 visit 4 failed: 'NoneType' object has no attribute 'copy'\n"
     ]
    },
    {
     "name": "stdout",
     "output_type": "stream",
     "text": [
      "There is no blood pressure data available during the extubated period.\n",
      "There is no blood pressure data available during the extubated period.\n",
      "There is no blood pressure data available during the extubated period.\n",
      "There is no blood pressure data available during the extubated period.\n"
     ]
    },
    {
     "name": "stderr",
     "output_type": "stream",
     "text": [
      "SZ0828 visit 4 failed: 'NoneType' object has no attribute 'copy'\n",
      "CN1187 visit 4 failed: 'NoneType' object has no attribute 'copy'\n",
      "DD1778 visit 4 failed: 'NoneType' object has no attribute 'copy'\n",
      "ST0725 visit 5 failed: 'NoneType' object has no attribute 'copy'\n",
      "QY3232 visit 5 failed: 'NoneType' object has no attribute 'copy'\n"
     ]
    },
    {
     "name": "stdout",
     "output_type": "stream",
     "text": [
      "There is no blood pressure data available during the extubated period.\n",
      "There is no blood pressure data available during the extubated period.\n",
      "There is no blood pressure data available during the extubated period.\n",
      "There is no blood pressure data available during the extubated period.\n",
      "There is no blood pressure data available during the extubated period.\n"
     ]
    }
   ],
   "source": [
    "ac_abf_results_c1 = cohort1.ac_results(abf = True)"
   ]
  },
  {
   "cell_type": "code",
   "execution_count": 6,
   "metadata": {},
   "outputs": [],
   "source": [
    "ac_abf_results_c1[0].to_csv('autocorrelation_abf_results_c1.csv')"
   ]
  },
  {
   "cell_type": "code",
   "execution_count": 7,
   "metadata": {},
   "outputs": [
    {
     "name": "stderr",
     "output_type": "stream",
     "text": [
      "RR0519 visit 1 failed: list index out of range\n",
      "RU2915 visit 1 failed: list index out of range\n",
      "RI0135 visit 1 failed: 'NoneType' object has no attribute 'copy'\n"
     ]
    },
    {
     "name": "stdout",
     "output_type": "stream",
     "text": [
      "There is no blood pressure data available during the extubated period.\n"
     ]
    },
    {
     "name": "stderr",
     "output_type": "stream",
     "text": [
      "RZ2127 visit 1 failed: 'NoneType' object has no attribute 'copy'\n",
      "RZ3315 visit 1 failed: 'NoneType' object has no attribute 'copy'\n"
     ]
    },
    {
     "name": "stdout",
     "output_type": "stream",
     "text": [
      "There is no blood pressure data available during the extubated period.\n",
      "There is no blood pressure data available during the extubated period.\n"
     ]
    },
    {
     "name": "stderr",
     "output_type": "stream",
     "text": [
      "RT0368 visit 1 failed: 'NoneType' object has no attribute 'copy'\n"
     ]
    },
    {
     "name": "stdout",
     "output_type": "stream",
     "text": [
      "There is no blood pressure data available during the extubated period.\n"
     ]
    },
    {
     "name": "stderr",
     "output_type": "stream",
     "text": [
      "RT0309 visit 1 failed: list index out of range\n",
      "RJ4031 visit 1 failed: list index out of range\n",
      "RC1943 visit 1 failed: float division by zero\n",
      "RX3317 visit 1 failed: 'NoneType' object has no attribute 'copy'\n"
     ]
    },
    {
     "name": "stdout",
     "output_type": "stream",
     "text": [
      "There is no blood pressure data available during the extubated period.\n"
     ]
    },
    {
     "name": "stderr",
     "output_type": "stream",
     "text": [
      "RE1948 visit 1 failed: 'NoneType' object has no attribute 'copy'\n",
      "RB0988 visit 1 failed: 'NoneType' object has no attribute 'copy'\n"
     ]
    },
    {
     "name": "stdout",
     "output_type": "stream",
     "text": [
      "There is no blood pressure data available during the extubated period.\n",
      "There is no blood pressure data available during the extubated period.\n"
     ]
    },
    {
     "name": "stderr",
     "output_type": "stream",
     "text": [
      "RK2029 visit 1 failed: 'NoneType' object has no attribute 'copy'\n"
     ]
    },
    {
     "name": "stdout",
     "output_type": "stream",
     "text": [
      "There is no blood pressure data available during the extubated period.\n"
     ]
    },
    {
     "name": "stderr",
     "output_type": "stream",
     "text": [
      "RL2037 visit 1 failed: 'NoneType' object has no attribute 'copy'\n"
     ]
    },
    {
     "name": "stdout",
     "output_type": "stream",
     "text": [
      "There is no blood pressure data available during the extubated period.\n"
     ]
    },
    {
     "name": "stderr",
     "output_type": "stream",
     "text": [
      "RW2084 visit 1 failed: 'NoneType' object has no attribute 'copy'\n",
      "RW3992 visit 1 failed: 'NoneType' object has no attribute 'copy'\n",
      "RW2284 visit 1 failed: list index out of range\n"
     ]
    },
    {
     "name": "stdout",
     "output_type": "stream",
     "text": [
      "There is no blood pressure data available during the extubated period.\n",
      "There is no blood pressure data available during the extubated period.\n"
     ]
    },
    {
     "name": "stderr",
     "output_type": "stream",
     "text": [
      "UN3498 visit 1 failed: 'NoneType' object has no attribute 'copy'\n"
     ]
    },
    {
     "name": "stdout",
     "output_type": "stream",
     "text": [
      "There is no blood pressure data available during the extubated period.\n"
     ]
    },
    {
     "name": "stderr",
     "output_type": "stream",
     "text": [
      "US1342 visit 1 failed: list index out of range\n",
      "US3515 visit 1 failed: list index out of range\n",
      "UA3527 visit 1 failed: 'NoneType' object has no attribute 'copy'\n"
     ]
    },
    {
     "name": "stdout",
     "output_type": "stream",
     "text": [
      "There is no blood pressure data available during the extubated period.\n"
     ]
    },
    {
     "name": "stderr",
     "output_type": "stream",
     "text": [
      "UM0643 visit 1 failed: 'NoneType' object has no attribute 'copy'\n"
     ]
    },
    {
     "name": "stdout",
     "output_type": "stream",
     "text": [
      "There is no blood pressure data available during the extubated period.\n"
     ]
    },
    {
     "name": "stderr",
     "output_type": "stream",
     "text": [
      "UM3280 visit 1 failed: list index out of range\n",
      "UM3008 visit 1 failed: 'NoneType' object has no attribute 'copy'\n",
      "UM3452 visit 1 failed: list index out of range\n"
     ]
    },
    {
     "name": "stdout",
     "output_type": "stream",
     "text": [
      "There is no blood pressure data available during the extubated period.\n"
     ]
    },
    {
     "name": "stderr",
     "output_type": "stream",
     "text": [
      "UJ3013 visit 1 failed: float division by zero\n",
      "UJ2119 visit 1 failed: 'NoneType' object has no attribute 'copy'\n"
     ]
    },
    {
     "name": "stdout",
     "output_type": "stream",
     "text": [
      "There is no blood pressure data available during the extubated period.\n"
     ]
    },
    {
     "name": "stderr",
     "output_type": "stream",
     "text": [
      "UE2674 visit 1 failed: 'NoneType' object has no attribute 'copy'\n",
      "UE3639 visit 1 failed: 'NoneType' object has no attribute 'copy'\n"
     ]
    },
    {
     "name": "stdout",
     "output_type": "stream",
     "text": [
      "There is no blood pressure data available during the extubated period.\n",
      "There is no blood pressure data available during the extubated period.\n"
     ]
    },
    {
     "name": "stderr",
     "output_type": "stream",
     "text": [
      "UE0528 visit 1 failed: 'NoneType' object has no attribute 'copy'\n"
     ]
    },
    {
     "name": "stdout",
     "output_type": "stream",
     "text": [
      "There is no blood pressure data available during the extubated period.\n"
     ]
    },
    {
     "name": "stderr",
     "output_type": "stream",
     "text": [
      "UB1609 visit 1 failed: list index out of range\n",
      "UK1856 visit 1 failed: list index out of range\n",
      "UK3466 visit 1 failed: list index out of range\n",
      "UY1204 visit 1 failed: list index out of range\n",
      "UP2665 visit 1 failed: 'NoneType' object has no attribute 'copy'\n"
     ]
    },
    {
     "name": "stdout",
     "output_type": "stream",
     "text": [
      "There is no blood pressure data available during the extubated period.\n"
     ]
    },
    {
     "name": "stderr",
     "output_type": "stream",
     "text": [
      "UP1314 visit 1 failed: 'NoneType' object has no attribute 'copy'\n"
     ]
    },
    {
     "name": "stdout",
     "output_type": "stream",
     "text": [
      "There is no blood pressure data available during the extubated period.\n"
     ]
    },
    {
     "name": "stderr",
     "output_type": "stream",
     "text": [
      "IZ4102 visit 1 failed: list index out of range\n",
      "IT1073 visit 1 failed: list index out of range\n",
      "IO1916 visit 1 failed: 'NoneType' object has no attribute 'copy'\n"
     ]
    },
    {
     "name": "stdout",
     "output_type": "stream",
     "text": [
      "There is no blood pressure data available during the extubated period.\n"
     ]
    },
    {
     "name": "stderr",
     "output_type": "stream",
     "text": [
      "IJ3901 visit 1 failed: 'NoneType' object has no attribute 'copy'\n"
     ]
    },
    {
     "name": "stdout",
     "output_type": "stream",
     "text": [
      "There is no blood pressure data available during the extubated period.\n"
     ]
    },
    {
     "name": "stderr",
     "output_type": "stream",
     "text": [
      "IC3109 visit 1 failed: 'NoneType' object has no attribute 'copy'\n"
     ]
    },
    {
     "name": "stdout",
     "output_type": "stream",
     "text": [
      "There is no blood pressure data available during the extubated period.\n"
     ]
    },
    {
     "name": "stderr",
     "output_type": "stream",
     "text": [
      "IC3709 visit 1 failed: list index out of range\n",
      "ID1125 visit 1 failed: 'NoneType' object has no attribute 'copy'\n",
      "ID0698 visit 1 failed: list index out of range\n"
     ]
    },
    {
     "name": "stdout",
     "output_type": "stream",
     "text": [
      "There is no blood pressure data available during the extubated period.\n"
     ]
    },
    {
     "name": "stderr",
     "output_type": "stream",
     "text": [
      "IV3277 visit 1 failed: list index out of range\n",
      "IQ3266 visit 1 failed: 'NoneType' object has no attribute 'copy'\n"
     ]
    },
    {
     "name": "stdout",
     "output_type": "stream",
     "text": [
      "There is no blood pressure data available during the extubated period.\n"
     ]
    },
    {
     "name": "stderr",
     "output_type": "stream",
     "text": [
      "IE1464 visit 1 failed: list index out of range\n",
      "IK2985 visit 1 failed: list index out of range\n",
      "IY2686 visit 1 failed: list index out of range\n",
      "IY3478 visit 1 failed: list index out of range\n",
      "IY3545 visit 1 failed: 'NoneType' object has no attribute 'copy'\n",
      "IP3497 visit 1 failed: 'NoneType' object has no attribute 'copy'\n"
     ]
    },
    {
     "name": "stdout",
     "output_type": "stream",
     "text": [
      "There is no blood pressure data available during the extubated period.\n",
      "There is no blood pressure data available during the extubated period.\n"
     ]
    },
    {
     "name": "stderr",
     "output_type": "stream",
     "text": [
      "IW1663 visit 1 failed: 'NoneType' object has no attribute 'copy'\n"
     ]
    },
    {
     "name": "stdout",
     "output_type": "stream",
     "text": [
      "There is no blood pressure data available during the extubated period.\n"
     ]
    },
    {
     "name": "stderr",
     "output_type": "stream",
     "text": [
      "NR1208 visit 1 failed: float division by zero\n",
      "NU3183 visit 1 failed: 'NoneType' object has no attribute 'copy'\n"
     ]
    },
    {
     "name": "stdout",
     "output_type": "stream",
     "text": [
      "There is no blood pressure data available during the extubated period.\n"
     ]
    },
    {
     "name": "stderr",
     "output_type": "stream",
     "text": [
      "NT2611 visit 1 failed: 'NoneType' object has no attribute 'copy'\n"
     ]
    },
    {
     "name": "stdout",
     "output_type": "stream",
     "text": [
      "There is no blood pressure data available during the extubated period.\n"
     ]
    },
    {
     "name": "stderr",
     "output_type": "stream",
     "text": [
      "NF3332 visit 1 failed: list index out of range\n",
      "NF1576 visit 1 failed: 'NoneType' object has no attribute 'copy'\n"
     ]
    },
    {
     "name": "stdout",
     "output_type": "stream",
     "text": [
      "There is no blood pressure data available during the extubated period.\n"
     ]
    },
    {
     "name": "stderr",
     "output_type": "stream",
     "text": [
      "NO0745 visit 1 failed: float division by zero\n",
      "NJ1555 visit 1 failed: 'NoneType' object has no attribute 'copy'\n"
     ]
    },
    {
     "name": "stdout",
     "output_type": "stream",
     "text": [
      "There is no blood pressure data available during the extubated period.\n"
     ]
    },
    {
     "name": "stderr",
     "output_type": "stream",
     "text": [
      "NJ3690 visit 1 failed: 'NoneType' object has no attribute 'copy'\n",
      "NJ3685 visit 1 failed: float division by zero\n",
      "NC3248 visit 1 failed: 'NoneType' object has no attribute 'copy'\n"
     ]
    },
    {
     "name": "stdout",
     "output_type": "stream",
     "text": [
      "There is no blood pressure data available during the extubated period.\n",
      "There is no blood pressure data available during the extubated period.\n"
     ]
    },
    {
     "name": "stderr",
     "output_type": "stream",
     "text": [
      "NV0521 visit 1 failed: 'NoneType' object has no attribute 'copy'\n"
     ]
    },
    {
     "name": "stdout",
     "output_type": "stream",
     "text": [
      "There is no blood pressure data available during the extubated period.\n"
     ]
    },
    {
     "name": "stderr",
     "output_type": "stream",
     "text": [
      "NV3668 visit 1 failed: 'NoneType' object has no attribute 'copy'\n"
     ]
    },
    {
     "name": "stdout",
     "output_type": "stream",
     "text": [
      "There is no blood pressure data available during the extubated period.\n"
     ]
    },
    {
     "name": "stderr",
     "output_type": "stream",
     "text": [
      "NQ2638 visit 1 failed: 'NoneType' object has no attribute 'copy'\n"
     ]
    },
    {
     "name": "stdout",
     "output_type": "stream",
     "text": [
      "There is no blood pressure data available during the extubated period.\n"
     ]
    },
    {
     "name": "stderr",
     "output_type": "stream",
     "text": [
      "NB1832 visit 1 failed: list index out of range\n",
      "NB0532 visit 1 failed: 'NoneType' object has no attribute 'copy'\n",
      "NK2635 visit 1 failed: list index out of range\n",
      "NK2629 visit 1 failed: 'NoneType' object has no attribute 'copy'\n"
     ]
    },
    {
     "name": "stdout",
     "output_type": "stream",
     "text": [
      "There is no blood pressure data available during the extubated period.\n",
      "There is no blood pressure data available during the extubated period.\n"
     ]
    },
    {
     "name": "stderr",
     "output_type": "stream",
     "text": [
      "NW1579 visit 1 failed: 'NoneType' object has no attribute 'copy'\n"
     ]
    },
    {
     "name": "stdout",
     "output_type": "stream",
     "text": [
      "There is no blood pressure data available during the extubated period.\n"
     ]
    },
    {
     "name": "stderr",
     "output_type": "stream",
     "text": [
      "GU3635 visit 1 failed: 'NoneType' object has no attribute 'copy'\n"
     ]
    },
    {
     "name": "stdout",
     "output_type": "stream",
     "text": [
      "There is no blood pressure data available during the extubated period.\n"
     ]
    },
    {
     "name": "stderr",
     "output_type": "stream",
     "text": [
      "GI3169 visit 1 failed: 'NoneType' object has no attribute 'copy'\n",
      "GN2124 visit 1 failed: 'NoneType' object has no attribute 'copy'\n"
     ]
    },
    {
     "name": "stdout",
     "output_type": "stream",
     "text": [
      "There is no blood pressure data available during the extubated period.\n",
      "There is no blood pressure data available during the extubated period.\n"
     ]
    },
    {
     "name": "stderr",
     "output_type": "stream",
     "text": [
      "GG3284 visit 1 failed: list index out of range\n",
      "GS3981 visit 1 failed: list index out of range\n",
      "GF3324 visit 1 failed: 'NoneType' object has no attribute 'copy'\n"
     ]
    },
    {
     "name": "stdout",
     "output_type": "stream",
     "text": [
      "There is no blood pressure data available during the extubated period.\n"
     ]
    },
    {
     "name": "stderr",
     "output_type": "stream",
     "text": [
      "GC2921 visit 1 failed: 'NoneType' object has no attribute 'copy'\n"
     ]
    },
    {
     "name": "stdout",
     "output_type": "stream",
     "text": [
      "There is no blood pressure data available during the extubated period.\n"
     ]
    },
    {
     "name": "stderr",
     "output_type": "stream",
     "text": [
      "GD3613 visit 1 failed: 'NoneType' object has no attribute 'copy'\n",
      "GD3051 visit 1 failed: list index out of range\n"
     ]
    },
    {
     "name": "stdout",
     "output_type": "stream",
     "text": [
      "There is no blood pressure data available during the extubated period.\n"
     ]
    },
    {
     "name": "stderr",
     "output_type": "stream",
     "text": [
      "GV2526 visit 1 failed: list index out of range\n",
      "GX3384 visit 1 failed: 'NoneType' object has no attribute 'copy'\n"
     ]
    },
    {
     "name": "stdout",
     "output_type": "stream",
     "text": [
      "There is no blood pressure data available during the extubated period.\n"
     ]
    },
    {
     "name": "stderr",
     "output_type": "stream",
     "text": [
      "GX2022 visit 1 failed: 'NoneType' object has no attribute 'copy'\n",
      "GE0407 visit 1 failed: 'NoneType' object has no attribute 'copy'\n"
     ]
    },
    {
     "name": "stdout",
     "output_type": "stream",
     "text": [
      "There is no blood pressure data available during the extubated period.\n",
      "There is no blood pressure data available during the extubated period.\n"
     ]
    },
    {
     "name": "stderr",
     "output_type": "stream",
     "text": [
      "GK3586 visit 1 failed: 'NoneType' object has no attribute 'copy'\n"
     ]
    },
    {
     "name": "stdout",
     "output_type": "stream",
     "text": [
      "There is no blood pressure data available during the extubated period.\n"
     ]
    },
    {
     "name": "stderr",
     "output_type": "stream",
     "text": [
      "GW0170 visit 1 failed: 'NoneType' object has no attribute 'copy'\n"
     ]
    },
    {
     "name": "stdout",
     "output_type": "stream",
     "text": [
      "There is no blood pressure data available during the extubated period.\n"
     ]
    },
    {
     "name": "stderr",
     "output_type": "stream",
     "text": [
      "ZG2343 visit 1 failed: 'NoneType' object has no attribute 'copy'\n"
     ]
    },
    {
     "name": "stdout",
     "output_type": "stream",
     "text": [
      "There is no blood pressure data available during the extubated period.\n"
     ]
    },
    {
     "name": "stderr",
     "output_type": "stream",
     "text": [
      "ZG0432 visit 1 failed: 'NoneType' object has no attribute 'copy'\n"
     ]
    },
    {
     "name": "stdout",
     "output_type": "stream",
     "text": [
      "There is no blood pressure data available during the extubated period.\n"
     ]
    },
    {
     "name": "stderr",
     "output_type": "stream",
     "text": [
      "ZS1353 visit 1 failed: 'NoneType' object has no attribute 'copy'\n"
     ]
    },
    {
     "name": "stdout",
     "output_type": "stream",
     "text": [
      "There is no blood pressure data available during the extubated period.\n"
     ]
    },
    {
     "name": "stderr",
     "output_type": "stream",
     "text": [
      "ZF3608 visit 1 failed: 'NoneType' object has no attribute 'copy'\n",
      "ZF2945 visit 1 failed: 'NoneType' object has no attribute 'copy'\n"
     ]
    },
    {
     "name": "stdout",
     "output_type": "stream",
     "text": [
      "There is no blood pressure data available during the extubated period.\n",
      "There is no blood pressure data available during the extubated period.\n"
     ]
    },
    {
     "name": "stderr",
     "output_type": "stream",
     "text": [
      "ZO2262 visit 1 failed: 'NoneType' object has no attribute 'copy'\n"
     ]
    },
    {
     "name": "stdout",
     "output_type": "stream",
     "text": [
      "There is no blood pressure data available during the extubated period.\n"
     ]
    },
    {
     "name": "stderr",
     "output_type": "stream",
     "text": [
      "ZM3146 visit 1 failed: float division by zero\n",
      "ZJ3533 visit 1 failed: float division by zero\n",
      "ZC0478 visit 1 failed: float division by zero\n",
      "ZD3505 visit 1 failed: 'NoneType' object has no attribute 'copy'\n"
     ]
    },
    {
     "name": "stdout",
     "output_type": "stream",
     "text": [
      "There is no blood pressure data available during the extubated period.\n"
     ]
    },
    {
     "name": "stderr",
     "output_type": "stream",
     "text": [
      "ZV4114 visit 1 failed: list index out of range\n",
      "ZQ1945 visit 1 failed: list index out of range\n",
      "ZB2576 visit 1 failed: 'NoneType' object has no attribute 'copy'\n"
     ]
    },
    {
     "name": "stdout",
     "output_type": "stream",
     "text": [
      "There is no blood pressure data available during the extubated period.\n"
     ]
    },
    {
     "name": "stderr",
     "output_type": "stream",
     "text": [
      "ZK0210 visit 1 failed: 'NoneType' object has no attribute 'copy'\n",
      "ZK4076 visit 1 failed: list index out of range\n"
     ]
    },
    {
     "name": "stdout",
     "output_type": "stream",
     "text": [
      "There is no blood pressure data available during the extubated period.\n"
     ]
    },
    {
     "name": "stderr",
     "output_type": "stream",
     "text": [
      "ZL1090 visit 1 failed: 'NoneType' object has no attribute 'copy'\n"
     ]
    },
    {
     "name": "stdout",
     "output_type": "stream",
     "text": [
      "There is no blood pressure data available during the extubated period.\n"
     ]
    },
    {
     "name": "stderr",
     "output_type": "stream",
     "text": [
      "ZY2892 visit 1 failed: 'NoneType' object has no attribute 'copy'\n"
     ]
    },
    {
     "name": "stdout",
     "output_type": "stream",
     "text": [
      "There is no blood pressure data available during the extubated period.\n"
     ]
    },
    {
     "name": "stderr",
     "output_type": "stream",
     "text": [
      "ZP2767 visit 1 failed: 'NoneType' object has no attribute 'copy'\n"
     ]
    },
    {
     "name": "stdout",
     "output_type": "stream",
     "text": [
      "There is no blood pressure data available during the extubated period.\n"
     ]
    },
    {
     "name": "stderr",
     "output_type": "stream",
     "text": [
      "ZW0516 visit 1 failed: float division by zero\n",
      "TR3044 visit 1 failed: 'NoneType' object has no attribute 'copy'\n",
      "TU0726 visit 1 failed: 'NoneType' object has no attribute 'copy'\n"
     ]
    },
    {
     "name": "stdout",
     "output_type": "stream",
     "text": [
      "There is no blood pressure data available during the extubated period.\n",
      "There is no blood pressure data available during the extubated period.\n"
     ]
    },
    {
     "name": "stderr",
     "output_type": "stream",
     "text": [
      "TA1678 visit 1 failed: 'NoneType' object has no attribute 'copy'\n"
     ]
    },
    {
     "name": "stdout",
     "output_type": "stream",
     "text": [
      "There is no blood pressure data available during the extubated period.\n"
     ]
    },
    {
     "name": "stderr",
     "output_type": "stream",
     "text": [
      "TF3238 visit 1 failed: 'NoneType' object has no attribute 'copy'\n"
     ]
    },
    {
     "name": "stdout",
     "output_type": "stream",
     "text": [
      "There is no blood pressure data available during the extubated period.\n"
     ]
    },
    {
     "name": "stderr",
     "output_type": "stream",
     "text": [
      "TH1976 visit 1 failed: 'NoneType' object has no attribute 'copy'\n"
     ]
    },
    {
     "name": "stdout",
     "output_type": "stream",
     "text": [
      "There is no blood pressure data available during the extubated period.\n"
     ]
    },
    {
     "name": "stderr",
     "output_type": "stream",
     "text": [
      "TH3589 visit 1 failed: 'NoneType' object has no attribute 'copy'\n"
     ]
    },
    {
     "name": "stdout",
     "output_type": "stream",
     "text": [
      "There is no blood pressure data available during the extubated period.\n"
     ]
    },
    {
     "name": "stderr",
     "output_type": "stream",
     "text": [
      "TM1148 visit 1 failed: 'NoneType' object has no attribute 'copy'\n"
     ]
    },
    {
     "name": "stdout",
     "output_type": "stream",
     "text": [
      "There is no blood pressure data available during the extubated period.\n"
     ]
    },
    {
     "name": "stderr",
     "output_type": "stream",
     "text": [
      "TC1839 visit 1 failed: float division by zero\n",
      "TK1724 visit 1 failed: 'NoneType' object has no attribute 'copy'\n"
     ]
    },
    {
     "name": "stdout",
     "output_type": "stream",
     "text": [
      "There is no blood pressure data available during the extubated period.\n"
     ]
    },
    {
     "name": "stderr",
     "output_type": "stream",
     "text": [
      "TL2860 visit 1 failed: 'NoneType' object has no attribute 'copy'\n",
      "TY3304 visit 1 failed: list index out of range\n"
     ]
    },
    {
     "name": "stdout",
     "output_type": "stream",
     "text": [
      "There is no blood pressure data available during the extubated period.\n"
     ]
    },
    {
     "name": "stderr",
     "output_type": "stream",
     "text": [
      "TP4084 visit 1 failed: list index out of range\n",
      "TP3442 visit 1 failed: list index out of range\n",
      "TW3300 visit 1 failed: 'NoneType' object has no attribute 'copy'\n",
      "SU2929 visit 1 failed: 'NoneType' object has no attribute 'copy'\n",
      "SI3194 visit 1 failed: list index out of range\n",
      "SN3782 visit 1 failed: 'NoneType' object has no attribute 'copy'\n",
      "SG4021 visit 1 failed: list index out of range\n"
     ]
    },
    {
     "name": "stdout",
     "output_type": "stream",
     "text": [
      "There is no blood pressure data available during the extubated period.\n",
      "There is no blood pressure data available during the extubated period.\n",
      "There is no blood pressure data available during the extubated period.\n"
     ]
    },
    {
     "name": "stderr",
     "output_type": "stream",
     "text": [
      "SG3094 visit 1 failed: 'NoneType' object has no attribute 'copy'\n"
     ]
    },
    {
     "name": "stdout",
     "output_type": "stream",
     "text": [
      "There is no blood pressure data available during the extubated period.\n"
     ]
    },
    {
     "name": "stderr",
     "output_type": "stream",
     "text": [
      "SZ3712 visit 1 failed: 'NoneType' object has no attribute 'copy'\n"
     ]
    },
    {
     "name": "stdout",
     "output_type": "stream",
     "text": [
      "There is no blood pressure data available during the extubated period.\n"
     ]
    },
    {
     "name": "stderr",
     "output_type": "stream",
     "text": [
      "ST3520 visit 1 failed: 'NoneType' object has no attribute 'copy'\n"
     ]
    },
    {
     "name": "stdout",
     "output_type": "stream",
     "text": [
      "There is no blood pressure data available during the extubated period.\n"
     ]
    },
    {
     "name": "stderr",
     "output_type": "stream",
     "text": [
      "SA0106 visit 1 failed: 'NoneType' object has no attribute 'copy'\n"
     ]
    },
    {
     "name": "stdout",
     "output_type": "stream",
     "text": [
      "There is no blood pressure data available during the extubated period.\n"
     ]
    },
    {
     "name": "stderr",
     "output_type": "stream",
     "text": [
      "SF3936 visit 1 failed: 'NoneType' object has no attribute 'copy'\n"
     ]
    },
    {
     "name": "stdout",
     "output_type": "stream",
     "text": [
      "There is no blood pressure data available during the extubated period.\n"
     ]
    },
    {
     "name": "stderr",
     "output_type": "stream",
     "text": [
      "SF0266 visit 1 failed: 'NoneType' object has no attribute 'copy'\n"
     ]
    },
    {
     "name": "stdout",
     "output_type": "stream",
     "text": [
      "There is no blood pressure data available during the extubated period.\n"
     ]
    },
    {
     "name": "stderr",
     "output_type": "stream",
     "text": [
      "SJ3250 visit 1 failed: list index out of range\n",
      "SC1669 visit 1 failed: float division by zero\n",
      "SD0899 visit 1 failed: 'NoneType' object has no attribute 'copy'\n",
      "SD0624 visit 1 failed: float division by zero\n"
     ]
    },
    {
     "name": "stdout",
     "output_type": "stream",
     "text": [
      "There is no blood pressure data available during the extubated period.\n"
     ]
    },
    {
     "name": "stderr",
     "output_type": "stream",
     "text": [
      "SQ3401 visit 1 failed: float division by zero\n",
      "/Users/lucindakhalil/opt/anaconda3/lib/python3.8/site-packages/numpy/lib/function_base.py:2683: RuntimeWarning: Degrees of freedom <= 0 for slice\n",
      "  c = cov(x, y, rowvar, dtype=dtype)\n",
      "/Users/lucindakhalil/opt/anaconda3/lib/python3.8/site-packages/numpy/lib/function_base.py:2542: RuntimeWarning: divide by zero encountered in true_divide\n",
      "  c *= np.true_divide(1, fact)\n",
      "SQ0287 visit 1 failed: 'NoneType' object has no attribute 'copy'\n"
     ]
    },
    {
     "name": "stdout",
     "output_type": "stream",
     "text": [
      "There is no blood pressure data available during the extubated period.\n"
     ]
    },
    {
     "name": "stderr",
     "output_type": "stream",
     "text": [
      "SE3816 visit 1 failed: 'NoneType' object has no attribute 'copy'\n"
     ]
    },
    {
     "name": "stdout",
     "output_type": "stream",
     "text": [
      "There is no blood pressure data available during the extubated period.\n"
     ]
    },
    {
     "name": "stderr",
     "output_type": "stream",
     "text": [
      "SB2711 visit 1 failed: 'NoneType' object has no attribute 'copy'\n"
     ]
    },
    {
     "name": "stdout",
     "output_type": "stream",
     "text": [
      "There is no blood pressure data available during the extubated period.\n"
     ]
    },
    {
     "name": "stderr",
     "output_type": "stream",
     "text": [
      "SY0409 visit 1 failed: float division by zero\n",
      "SY3048 visit 1 failed: 'NoneType' object has no attribute 'copy'\n"
     ]
    },
    {
     "name": "stdout",
     "output_type": "stream",
     "text": [
      "There is no blood pressure data available during the extubated period.\n"
     ]
    },
    {
     "name": "stderr",
     "output_type": "stream",
     "text": [
      "SP3698 visit 1 failed: 'NoneType' object has no attribute 'copy'\n"
     ]
    },
    {
     "name": "stdout",
     "output_type": "stream",
     "text": [
      "There is no blood pressure data available during the extubated period.\n"
     ]
    },
    {
     "name": "stderr",
     "output_type": "stream",
     "text": [
      "AR0209 visit 1 failed: 'NoneType' object has no attribute 'copy'\n"
     ]
    },
    {
     "name": "stdout",
     "output_type": "stream",
     "text": [
      "There is no blood pressure data available during the extubated period.\n"
     ]
    },
    {
     "name": "stderr",
     "output_type": "stream",
     "text": [
      "AR1946 visit 1 failed: list index out of range\n",
      "AU0752 visit 1 failed: 'NoneType' object has no attribute 'copy'\n",
      "AI2582 visit 1 failed: float division by zero\n"
     ]
    },
    {
     "name": "stdout",
     "output_type": "stream",
     "text": [
      "There is no blood pressure data available during the extubated period.\n"
     ]
    },
    {
     "name": "stderr",
     "output_type": "stream",
     "text": [
      "AN3278 visit 1 failed: list index out of range\n",
      "AN1830 visit 1 failed: float division by zero\n",
      "AZ1749 visit 1 failed: 'NoneType' object has no attribute 'copy'\n"
     ]
    },
    {
     "name": "stdout",
     "output_type": "stream",
     "text": [
      "There is no blood pressure data available during the extubated period.\n"
     ]
    },
    {
     "name": "stderr",
     "output_type": "stream",
     "text": [
      "AA3219 visit 1 failed: 'NoneType' object has no attribute 'copy'\n"
     ]
    },
    {
     "name": "stdout",
     "output_type": "stream",
     "text": [
      "There is no blood pressure data available during the extubated period.\n"
     ]
    },
    {
     "name": "stderr",
     "output_type": "stream",
     "text": [
      "AF0951 visit 1 failed: 'NoneType' object has no attribute 'copy'\n"
     ]
    },
    {
     "name": "stdout",
     "output_type": "stream",
     "text": [
      "There is no blood pressure data available during the extubated period.\n"
     ]
    },
    {
     "name": "stderr",
     "output_type": "stream",
     "text": [
      "AH2759 visit 1 failed: float division by zero\n",
      "AC1846 visit 1 failed: list index out of range\n",
      "AD3256 visit 1 failed: list index out of range\n",
      "AD1926 visit 1 failed: 'NoneType' object has no attribute 'copy'\n"
     ]
    },
    {
     "name": "stdout",
     "output_type": "stream",
     "text": [
      "There is no blood pressure data available during the extubated period.\n"
     ]
    },
    {
     "name": "stderr",
     "output_type": "stream",
     "text": [
      "AV3769 visit 1 failed: 'NoneType' object has no attribute 'copy'\n"
     ]
    },
    {
     "name": "stdout",
     "output_type": "stream",
     "text": [
      "There is no blood pressure data available during the extubated period.\n"
     ]
    },
    {
     "name": "stderr",
     "output_type": "stream",
     "text": [
      "AX4020 visit 1 failed: list index out of range\n",
      "AX1597 visit 1 failed: 'NoneType' object has no attribute 'copy'\n",
      "AE3741 visit 1 failed: 'NoneType' object has no attribute 'copy'\n"
     ]
    },
    {
     "name": "stdout",
     "output_type": "stream",
     "text": [
      "There is no blood pressure data available during the extubated period.\n",
      "There is no blood pressure data available during the extubated period.\n"
     ]
    },
    {
     "name": "stderr",
     "output_type": "stream",
     "text": [
      "AL1386 visit 1 failed: 'NoneType' object has no attribute 'copy'\n",
      "AY0834 visit 1 failed: float division by zero\n"
     ]
    },
    {
     "name": "stdout",
     "output_type": "stream",
     "text": [
      "There is no blood pressure data available during the extubated period.\n"
     ]
    },
    {
     "name": "stderr",
     "output_type": "stream",
     "text": [
      "AY0729 visit 1 failed: float division by zero\n",
      "AP1899 visit 1 failed: 'NoneType' object has no attribute 'copy'\n"
     ]
    },
    {
     "name": "stdout",
     "output_type": "stream",
     "text": [
      "There is no blood pressure data available during the extubated period.\n"
     ]
    },
    {
     "name": "stderr",
     "output_type": "stream",
     "text": [
      "AW2590 visit 1 failed: list index out of range\n",
      "FR2990 visit 1 failed: float division by zero\n",
      "FN1641 visit 1 failed: list index out of range\n",
      "FZ0343 visit 1 failed: 'NoneType' object has no attribute 'copy'\n"
     ]
    },
    {
     "name": "stdout",
     "output_type": "stream",
     "text": [
      "There is no blood pressure data available during the extubated period.\n"
     ]
    },
    {
     "name": "stderr",
     "output_type": "stream",
     "text": [
      "FT0803 visit 1 failed: float division by zero\n",
      "FS1054 visit 1 failed: list index out of range\n",
      "FA1656 visit 1 failed: 'NoneType' object has no attribute 'copy'\n"
     ]
    },
    {
     "name": "stdout",
     "output_type": "stream",
     "text": [
      "There is no blood pressure data available during the extubated period.\n"
     ]
    },
    {
     "name": "stderr",
     "output_type": "stream",
     "text": [
      "FF1433 visit 1 failed: float division by zero\n",
      "FH2482 visit 1 failed: 'NoneType' object has no attribute 'copy'\n"
     ]
    },
    {
     "name": "stdout",
     "output_type": "stream",
     "text": [
      "There is no blood pressure data available during the extubated period.\n"
     ]
    },
    {
     "name": "stderr",
     "output_type": "stream",
     "text": [
      "FH0864 visit 1 failed: list index out of range\n",
      "FJ2987 visit 1 failed: 'NoneType' object has no attribute 'copy'\n"
     ]
    },
    {
     "name": "stdout",
     "output_type": "stream",
     "text": [
      "There is no blood pressure data available during the extubated period.\n"
     ]
    },
    {
     "name": "stderr",
     "output_type": "stream",
     "text": [
      "FQ1610 visit 1 failed: 'NoneType' object has no attribute 'copy'\n"
     ]
    },
    {
     "name": "stdout",
     "output_type": "stream",
     "text": [
      "There is no blood pressure data available during the extubated period.\n"
     ]
    },
    {
     "name": "stderr",
     "output_type": "stream",
     "text": [
      "FX2747 visit 1 failed: 'NoneType' object has no attribute 'copy'\n",
      "FE1630 visit 1 failed: 'NoneType' object has no attribute 'copy'\n"
     ]
    },
    {
     "name": "stdout",
     "output_type": "stream",
     "text": [
      "There is no blood pressure data available during the extubated period.\n",
      "There is no blood pressure data available during the extubated period.\n"
     ]
    },
    {
     "name": "stderr",
     "output_type": "stream",
     "text": [
      "FB3378 visit 1 failed: 'NoneType' object has no attribute 'copy'\n"
     ]
    },
    {
     "name": "stdout",
     "output_type": "stream",
     "text": [
      "There is no blood pressure data available during the extubated period.\n"
     ]
    },
    {
     "name": "stderr",
     "output_type": "stream",
     "text": [
      "FB1791 visit 1 failed: 'NoneType' object has no attribute 'copy'\n",
      "FB0448 visit 1 failed: float division by zero\n"
     ]
    },
    {
     "name": "stdout",
     "output_type": "stream",
     "text": [
      "There is no blood pressure data available during the extubated period.\n"
     ]
    },
    {
     "name": "stderr",
     "output_type": "stream",
     "text": [
      "FK0896 visit 1 failed: 'NoneType' object has no attribute 'copy'\n"
     ]
    },
    {
     "name": "stdout",
     "output_type": "stream",
     "text": [
      "There is no blood pressure data available during the extubated period.\n"
     ]
    },
    {
     "name": "stderr",
     "output_type": "stream",
     "text": [
      "FL1153 visit 1 failed: 'NoneType' object has no attribute 'copy'\n",
      "FY1319 visit 1 failed: 'NoneType' object has no attribute 'copy'\n"
     ]
    },
    {
     "name": "stdout",
     "output_type": "stream",
     "text": [
      "There is no blood pressure data available during the extubated period.\n",
      "There is no blood pressure data available during the extubated period.\n"
     ]
    },
    {
     "name": "stderr",
     "output_type": "stream",
     "text": [
      "FW1169 visit 1 failed: list index out of range\n",
      "OU2954 visit 1 failed: float division by zero\n",
      "OI3222 visit 1 failed: 'NoneType' object has no attribute 'copy'\n"
     ]
    },
    {
     "name": "stdout",
     "output_type": "stream",
     "text": [
      "There is no blood pressure data available during the extubated period.\n"
     ]
    },
    {
     "name": "stderr",
     "output_type": "stream",
     "text": [
      "ON0712 visit 1 failed: 'NoneType' object has no attribute 'copy'\n",
      "OG1572 visit 1 failed: 'NoneType' object has no attribute 'copy'\n"
     ]
    },
    {
     "name": "stdout",
     "output_type": "stream",
     "text": [
      "There is no blood pressure data available during the extubated period.\n",
      "There is no blood pressure data available during the extubated period.\n"
     ]
    },
    {
     "name": "stderr",
     "output_type": "stream",
     "text": [
      "OG2289 visit 1 failed: float division by zero\n",
      "OS3035 visit 1 failed: 'NoneType' object has no attribute 'copy'\n"
     ]
    },
    {
     "name": "stdout",
     "output_type": "stream",
     "text": [
      "There is no blood pressure data available during the extubated period.\n"
     ]
    },
    {
     "name": "stderr",
     "output_type": "stream",
     "text": [
      "OO2812 visit 1 failed: float division by zero\n",
      "OM3226 visit 1 failed: float division by zero\n",
      "OJ2281 visit 1 failed: 'NoneType' object has no attribute 'copy'\n"
     ]
    },
    {
     "name": "stdout",
     "output_type": "stream",
     "text": [
      "There is no blood pressure data available during the extubated period.\n"
     ]
    },
    {
     "name": "stderr",
     "output_type": "stream",
     "text": [
      "OD3985 visit 1 failed: 'NoneType' object has no attribute 'copy'\n"
     ]
    },
    {
     "name": "stdout",
     "output_type": "stream",
     "text": [
      "There is no blood pressure data available during the extubated period.\n"
     ]
    },
    {
     "name": "stderr",
     "output_type": "stream",
     "text": [
      "OV3971 visit 1 failed: 'NoneType' object has no attribute 'copy'\n",
      "OQ4006 visit 1 failed: list index out of range\n",
      "OQ3060 visit 1 failed: 'NoneType' object has no attribute 'copy'\n"
     ]
    },
    {
     "name": "stdout",
     "output_type": "stream",
     "text": [
      "There is no blood pressure data available during the extubated period.\n",
      "There is no blood pressure data available during the extubated period.\n"
     ]
    },
    {
     "name": "stderr",
     "output_type": "stream",
     "text": [
      "OE1168 visit 1 failed: 'NoneType' object has no attribute 'copy'\n",
      "OB1141 visit 1 failed: 'NoneType' object has no attribute 'copy'\n"
     ]
    },
    {
     "name": "stdout",
     "output_type": "stream",
     "text": [
      "There is no blood pressure data available during the extubated period.\n",
      "There is no blood pressure data available during the extubated period.\n"
     ]
    },
    {
     "name": "stderr",
     "output_type": "stream",
     "text": [
      "OL1730 visit 1 failed: 'NoneType' object has no attribute 'copy'\n"
     ]
    },
    {
     "name": "stdout",
     "output_type": "stream",
     "text": [
      "There is no blood pressure data available during the extubated period.\n"
     ]
    },
    {
     "name": "stderr",
     "output_type": "stream",
     "text": [
      "OY3282 visit 1 failed: 'NoneType' object has no attribute 'copy'\n"
     ]
    },
    {
     "name": "stdout",
     "output_type": "stream",
     "text": [
      "There is no blood pressure data available during the extubated period.\n"
     ]
    },
    {
     "name": "stderr",
     "output_type": "stream",
     "text": [
      "OW3722 visit 1 failed: 'NoneType' object has no attribute 'copy'\n"
     ]
    },
    {
     "name": "stdout",
     "output_type": "stream",
     "text": [
      "There is no blood pressure data available during the extubated period.\n"
     ]
    },
    {
     "name": "stderr",
     "output_type": "stream",
     "text": [
      "HU4019 visit 1 failed: list index out of range\n",
      "HN0978 visit 1 failed: 'NoneType' object has no attribute 'copy'\n",
      "HN3253 visit 1 failed: float division by zero\n"
     ]
    },
    {
     "name": "stdout",
     "output_type": "stream",
     "text": [
      "There is no blood pressure data available during the extubated period.\n"
     ]
    },
    {
     "name": "stderr",
     "output_type": "stream",
     "text": [
      "HG2720 visit 1 failed: 'NoneType' object has no attribute 'copy'\n"
     ]
    },
    {
     "name": "stdout",
     "output_type": "stream",
     "text": [
      "There is no blood pressure data available during the extubated period.\n"
     ]
    },
    {
     "name": "stderr",
     "output_type": "stream",
     "text": [
      "HA1706 visit 1 failed: list index out of range\n",
      "HF2005 visit 1 failed: float division by zero\n",
      "HF1183 visit 1 failed: 'NoneType' object has no attribute 'copy'\n",
      "HO2693 visit 1 failed: list index out of range\n"
     ]
    },
    {
     "name": "stdout",
     "output_type": "stream",
     "text": [
      "There is no blood pressure data available during the extubated period.\n"
     ]
    },
    {
     "name": "stderr",
     "output_type": "stream",
     "text": [
      "/Users/lucindakhalil/opt/anaconda3/lib/python3.8/site-packages/pymannkendall/pymannkendall.py:60: RuntimeWarning: invalid value encountered in true_divide\n",
      "  return acov[:nlags+1]/acov[0]\n",
      "HH3554 visit 1 failed: division by zero\n",
      "HH4091 visit 1 failed: list index out of range\n",
      "HM3001 visit 1 failed: 'NoneType' object has no attribute 'copy'\n"
     ]
    },
    {
     "name": "stdout",
     "output_type": "stream",
     "text": [
      "There is no blood pressure data available during the extubated period.\n"
     ]
    },
    {
     "name": "stderr",
     "output_type": "stream",
     "text": [
      "HD0846 visit 1 failed: list index out of range\n",
      "HV2515 visit 1 failed: 'NoneType' object has no attribute 'copy'\n",
      "HV1814 visit 1 failed: list index out of range\n"
     ]
    },
    {
     "name": "stdout",
     "output_type": "stream",
     "text": [
      "There is no blood pressure data available during the extubated period.\n"
     ]
    },
    {
     "name": "stderr",
     "output_type": "stream",
     "text": [
      "HX0093 visit 1 failed: 'NoneType' object has no attribute 'copy'\n",
      "HX1163 visit 1 failed: 'NoneType' object has no attribute 'copy'\n"
     ]
    },
    {
     "name": "stdout",
     "output_type": "stream",
     "text": [
      "There is no blood pressure data available during the extubated period.\n",
      "There is no blood pressure data available during the extubated period.\n"
     ]
    },
    {
     "name": "stderr",
     "output_type": "stream",
     "text": [
      "HK4117 visit 1 failed: 'NoneType' object has no attribute 'copy'\n",
      "HL0720 visit 1 failed: float division by zero\n"
     ]
    },
    {
     "name": "stdout",
     "output_type": "stream",
     "text": [
      "There is no blood pressure data available during the extubated period.\n"
     ]
    },
    {
     "name": "stderr",
     "output_type": "stream",
     "text": [
      "HW1171 visit 1 failed: 'NoneType' object has no attribute 'copy'\n"
     ]
    },
    {
     "name": "stdout",
     "output_type": "stream",
     "text": [
      "There is no blood pressure data available during the extubated period.\n"
     ]
    },
    {
     "name": "stderr",
     "output_type": "stream",
     "text": [
      "MU3616 visit 1 failed: list index out of range\n",
      "MI3404 visit 1 failed: 'NoneType' object has no attribute 'copy'\n",
      "MN1694 visit 1 failed: list index out of range\n"
     ]
    },
    {
     "name": "stdout",
     "output_type": "stream",
     "text": [
      "There is no blood pressure data available during the extubated period.\n"
     ]
    },
    {
     "name": "stderr",
     "output_type": "stream",
     "text": [
      "MZ3011 visit 1 failed: 'NoneType' object has no attribute 'copy'\n"
     ]
    },
    {
     "name": "stdout",
     "output_type": "stream",
     "text": [
      "There is no blood pressure data available during the extubated period.\n"
     ]
    },
    {
     "name": "stderr",
     "output_type": "stream",
     "text": [
      "MF2056 visit 1 failed: 'NoneType' object has no attribute 'copy'\n",
      "MF2044 visit 1 failed: list index out of range\n"
     ]
    },
    {
     "name": "stdout",
     "output_type": "stream",
     "text": [
      "There is no blood pressure data available during the extubated period.\n"
     ]
    },
    {
     "name": "stderr",
     "output_type": "stream",
     "text": [
      "MO0621 visit 1 failed: 'NoneType' object has no attribute 'copy'\n",
      "MO0677 visit 1 failed: list index out of range\n"
     ]
    },
    {
     "name": "stdout",
     "output_type": "stream",
     "text": [
      "There is no blood pressure data available during the extubated period.\n"
     ]
    },
    {
     "name": "stderr",
     "output_type": "stream",
     "text": [
      "MM3974 visit 1 failed: 'NoneType' object has no attribute 'copy'\n"
     ]
    },
    {
     "name": "stdout",
     "output_type": "stream",
     "text": [
      "There is no blood pressure data available during the extubated period.\n"
     ]
    },
    {
     "name": "stderr",
     "output_type": "stream",
     "text": [
      "MD3233 visit 1 failed: 'NoneType' object has no attribute 'copy'\n",
      "MV3090 visit 1 failed: 'NoneType' object has no attribute 'copy'\n"
     ]
    },
    {
     "name": "stdout",
     "output_type": "stream",
     "text": [
      "There is no blood pressure data available during the extubated period.\n",
      "There is no blood pressure data available during the extubated period.\n"
     ]
    },
    {
     "name": "stderr",
     "output_type": "stream",
     "text": [
      "MV3641 visit 1 failed: list index out of range\n",
      "MX3551 visit 1 failed: 'NoneType' object has no attribute 'copy'\n"
     ]
    },
    {
     "name": "stdout",
     "output_type": "stream",
     "text": [
      "There is no blood pressure data available during the extubated period.\n"
     ]
    },
    {
     "name": "stderr",
     "output_type": "stream",
     "text": [
      "ME3825 visit 1 failed: 'NoneType' object has no attribute 'copy'\n"
     ]
    },
    {
     "name": "stdout",
     "output_type": "stream",
     "text": [
      "There is no blood pressure data available during the extubated period.\n"
     ]
    },
    {
     "name": "stderr",
     "output_type": "stream",
     "text": [
      "MB1888 visit 1 failed: list index out of range\n",
      "MY3214 visit 1 failed: 'NoneType' object has no attribute 'copy'\n"
     ]
    },
    {
     "name": "stdout",
     "output_type": "stream",
     "text": [
      "There is no blood pressure data available during the extubated period.\n"
     ]
    },
    {
     "name": "stderr",
     "output_type": "stream",
     "text": [
      "JR4079 visit 1 failed: list index out of range\n",
      "JR3896 visit 1 failed: float division by zero\n",
      "JI0536 visit 1 failed: float division by zero\n",
      "JN4074 visit 1 failed: 'NoneType' object has no attribute 'copy'\n",
      "JG2427 visit 1 failed: float division by zero\n"
     ]
    },
    {
     "name": "stdout",
     "output_type": "stream",
     "text": [
      "There is no blood pressure data available during the extubated period.\n"
     ]
    },
    {
     "name": "stderr",
     "output_type": "stream",
     "text": [
      "JT2461 visit 1 failed: list index out of range\n",
      "JO0242 visit 1 failed: list index out of range\n",
      "JO3713 visit 1 failed: 'NoneType' object has no attribute 'copy'\n"
     ]
    },
    {
     "name": "stdout",
     "output_type": "stream",
     "text": [
      "There is no blood pressure data available during the extubated period.\n"
     ]
    },
    {
     "name": "stderr",
     "output_type": "stream",
     "text": [
      "JJ3420 visit 1 failed: 'NoneType' object has no attribute 'copy'\n"
     ]
    },
    {
     "name": "stdout",
     "output_type": "stream",
     "text": [
      "There is no blood pressure data available during the extubated period.\n"
     ]
    },
    {
     "name": "stderr",
     "output_type": "stream",
     "text": [
      "JC0572 visit 1 failed: list index out of range\n",
      "JC2069 visit 1 failed: 'NoneType' object has no attribute 'copy'\n"
     ]
    },
    {
     "name": "stdout",
     "output_type": "stream",
     "text": [
      "There is no blood pressure data available during the extubated period.\n"
     ]
    },
    {
     "name": "stderr",
     "output_type": "stream",
     "text": [
      "JD0865 visit 1 failed: list index out of range\n",
      "JX1025 visit 1 failed: 'NoneType' object has no attribute 'copy'\n",
      "JX3473 visit 1 failed: 'NoneType' object has no attribute 'copy'\n"
     ]
    },
    {
     "name": "stdout",
     "output_type": "stream",
     "text": [
      "There is no blood pressure data available during the extubated period.\n",
      "There is no blood pressure data available during the extubated period.\n"
     ]
    },
    {
     "name": "stderr",
     "output_type": "stream",
     "text": [
      "JX2804 visit 1 failed: float division by zero\n",
      "JE2164 visit 1 failed: division by zero\n",
      "JE1818 visit 1 failed: list index out of range\n",
      "JL3664 visit 1 failed: 'NoneType' object has no attribute 'copy'\n"
     ]
    },
    {
     "name": "stdout",
     "output_type": "stream",
     "text": [
      "There is no blood pressure data available during the extubated period.\n"
     ]
    },
    {
     "name": "stderr",
     "output_type": "stream",
     "text": [
      "JL1921 visit 1 failed: 'NoneType' object has no attribute 'copy'\n"
     ]
    },
    {
     "name": "stdout",
     "output_type": "stream",
     "text": [
      "There is no blood pressure data available during the extubated period.\n"
     ]
    },
    {
     "name": "stderr",
     "output_type": "stream",
     "text": [
      "JY0954 visit 1 failed: 'NoneType' object has no attribute 'copy'\n"
     ]
    },
    {
     "name": "stdout",
     "output_type": "stream",
     "text": [
      "There is no blood pressure data available during the extubated period.\n"
     ]
    },
    {
     "name": "stderr",
     "output_type": "stream",
     "text": [
      "JP1682 visit 1 failed: list index out of range\n",
      "JP2808 visit 1 failed: list index out of range\n",
      "JW1624 visit 1 failed: 'NoneType' object has no attribute 'copy'\n"
     ]
    },
    {
     "name": "stdout",
     "output_type": "stream",
     "text": [
      "There is no blood pressure data available during the extubated period.\n"
     ]
    },
    {
     "name": "stderr",
     "output_type": "stream",
     "text": [
      "CR0945 visit 1 failed: list index out of range\n",
      "CU2107 visit 1 failed: 'NoneType' object has no attribute 'copy'\n"
     ]
    },
    {
     "name": "stdout",
     "output_type": "stream",
     "text": [
      "There is no blood pressure data available during the extubated period.\n"
     ]
    },
    {
     "name": "stderr",
     "output_type": "stream",
     "text": [
      "CG3824 visit 1 failed: 'NoneType' object has no attribute 'copy'\n",
      "CG1503 visit 1 failed: list index out of range\n",
      "CZ1981 visit 1 failed: float division by zero\n"
     ]
    },
    {
     "name": "stdout",
     "output_type": "stream",
     "text": [
      "There is no blood pressure data available during the extubated period.\n"
     ]
    },
    {
     "name": "stderr",
     "output_type": "stream",
     "text": [
      "CS3617 visit 1 failed: 'NoneType' object has no attribute 'copy'\n"
     ]
    },
    {
     "name": "stdout",
     "output_type": "stream",
     "text": [
      "There is no blood pressure data available during the extubated period.\n"
     ]
    },
    {
     "name": "stderr",
     "output_type": "stream",
     "text": [
      "CM2697 visit 1 failed: 'NoneType' object has no attribute 'copy'\n"
     ]
    },
    {
     "name": "stdout",
     "output_type": "stream",
     "text": [
      "There is no blood pressure data available during the extubated period.\n"
     ]
    },
    {
     "name": "stderr",
     "output_type": "stream",
     "text": [
      "CJ3402 visit 1 failed: 'NoneType' object has no attribute 'copy'\n"
     ]
    },
    {
     "name": "stdout",
     "output_type": "stream",
     "text": [
      "There is no blood pressure data available during the extubated period.\n"
     ]
    },
    {
     "name": "stderr",
     "output_type": "stream",
     "text": [
      "CD2595 visit 1 failed: 'NoneType' object has no attribute 'copy'\n",
      "CD3446 visit 1 failed: 'NoneType' object has no attribute 'copy'\n"
     ]
    },
    {
     "name": "stdout",
     "output_type": "stream",
     "text": [
      "There is no blood pressure data available during the extubated period.\n",
      "There is no blood pressure data available during the extubated period.\n"
     ]
    },
    {
     "name": "stderr",
     "output_type": "stream",
     "text": [
      "CX2266 visit 1 failed: 'NoneType' object has no attribute 'copy'\n"
     ]
    },
    {
     "name": "stdout",
     "output_type": "stream",
     "text": [
      "There is no blood pressure data available during the extubated period.\n"
     ]
    },
    {
     "name": "stderr",
     "output_type": "stream",
     "text": [
      "CY4113 visit 1 failed: 'NoneType' object has no attribute 'copy'\n"
     ]
    },
    {
     "name": "stdout",
     "output_type": "stream",
     "text": [
      "There is no blood pressure data available during the extubated period.\n"
     ]
    },
    {
     "name": "stderr",
     "output_type": "stream",
     "text": [
      "CW1337 visit 1 failed: 'NoneType' object has no attribute 'copy'\n",
      "CW3244 visit 1 failed: 'NoneType' object has no attribute 'copy'\n"
     ]
    },
    {
     "name": "stdout",
     "output_type": "stream",
     "text": [
      "There is no blood pressure data available during the extubated period.\n",
      "There is no blood pressure data available during the extubated period.\n"
     ]
    },
    {
     "name": "stderr",
     "output_type": "stream",
     "text": [
      "DU0944 visit 1 failed: 'NoneType' object has no attribute 'copy'\n"
     ]
    },
    {
     "name": "stdout",
     "output_type": "stream",
     "text": [
      "There is no blood pressure data available during the extubated period.\n"
     ]
    },
    {
     "name": "stderr",
     "output_type": "stream",
     "text": [
      "DI0128 visit 1 failed: 'NoneType' object has no attribute 'copy'\n"
     ]
    },
    {
     "name": "stdout",
     "output_type": "stream",
     "text": [
      "There is no blood pressure data available during the extubated period.\n"
     ]
    },
    {
     "name": "stderr",
     "output_type": "stream",
     "text": [
      "DZ2516 visit 1 failed: 'NoneType' object has no attribute 'copy'\n",
      "DZ1734 visit 1 failed: 'NoneType' object has no attribute 'copy'\n",
      "DZ0633 visit 1 failed: 'NoneType' object has no attribute 'copy'\n"
     ]
    },
    {
     "name": "stdout",
     "output_type": "stream",
     "text": [
      "There is no blood pressure data available during the extubated period.\n",
      "There is no blood pressure data available during the extubated period.\n",
      "There is no blood pressure data available during the extubated period.\n"
     ]
    },
    {
     "name": "stderr",
     "output_type": "stream",
     "text": [
      "DT3357 visit 1 failed: 'NoneType' object has no attribute 'copy'\n"
     ]
    },
    {
     "name": "stdout",
     "output_type": "stream",
     "text": [
      "There is no blood pressure data available during the extubated period.\n"
     ]
    },
    {
     "name": "stderr",
     "output_type": "stream",
     "text": [
      "DA2137 visit 1 failed: 'NoneType' object has no attribute 'copy'\n"
     ]
    },
    {
     "name": "stdout",
     "output_type": "stream",
     "text": [
      "There is no blood pressure data available during the extubated period.\n"
     ]
    },
    {
     "name": "stderr",
     "output_type": "stream",
     "text": [
      "DF3138 visit 1 failed: 'NoneType' object has no attribute 'copy'\n"
     ]
    },
    {
     "name": "stdout",
     "output_type": "stream",
     "text": [
      "There is no blood pressure data available during the extubated period.\n"
     ]
    },
    {
     "name": "stderr",
     "output_type": "stream",
     "text": [
      "DO3364 visit 1 failed: list index out of range\n",
      "DO2406 visit 1 failed: 'NoneType' object has no attribute 'copy'\n"
     ]
    },
    {
     "name": "stdout",
     "output_type": "stream",
     "text": [
      "There is no blood pressure data available during the extubated period.\n"
     ]
    },
    {
     "name": "stderr",
     "output_type": "stream",
     "text": [
      "DM2098 visit 1 failed: list index out of range\n",
      "DM1288 visit 1 failed: 'NoneType' object has no attribute 'copy'\n",
      "DC4072 visit 1 failed: 'NoneType' object has no attribute 'copy'\n",
      "DD2404 visit 1 failed: list index out of range\n"
     ]
    },
    {
     "name": "stdout",
     "output_type": "stream",
     "text": [
      "There is no blood pressure data available during the extubated period.\n",
      "There is no blood pressure data available during the extubated period.\n"
     ]
    },
    {
     "name": "stderr",
     "output_type": "stream",
     "text": [
      "DD2838 visit 1 failed: 'NoneType' object has no attribute 'copy'\n",
      "DD3139 visit 1 failed: 'NoneType' object has no attribute 'copy'\n",
      "DD3163 visit 1 failed: 'NoneType' object has no attribute 'copy'\n"
     ]
    },
    {
     "name": "stdout",
     "output_type": "stream",
     "text": [
      "There is no blood pressure data available during the extubated period.\n",
      "There is no blood pressure data available during the extubated period.\n",
      "There is no blood pressure data available during the extubated period.\n"
     ]
    },
    {
     "name": "stderr",
     "output_type": "stream",
     "text": [
      "DQ1541 visit 1 failed: 'NoneType' object has no attribute 'copy'\n",
      "DQ2273 visit 1 failed: 'NoneType' object has no attribute 'copy'\n"
     ]
    },
    {
     "name": "stdout",
     "output_type": "stream",
     "text": [
      "There is no blood pressure data available during the extubated period.\n",
      "There is no blood pressure data available during the extubated period.\n"
     ]
    },
    {
     "name": "stderr",
     "output_type": "stream",
     "text": [
      "DX3720 visit 1 failed: 'NoneType' object has no attribute 'copy'\n",
      "DE3684 visit 1 failed: list index out of range\n"
     ]
    },
    {
     "name": "stdout",
     "output_type": "stream",
     "text": [
      "There is no blood pressure data available during the extubated period.\n"
     ]
    },
    {
     "name": "stderr",
     "output_type": "stream",
     "text": [
      "DE3706 visit 1 failed: float division by zero\n",
      "DK2633 visit 1 failed: list index out of range\n",
      "DP2543 visit 1 failed: 'NoneType' object has no attribute 'copy'\n",
      "DP2371 visit 1 failed: 'NoneType' object has no attribute 'copy'\n",
      "DW1049 visit 1 failed: list index out of range\n"
     ]
    },
    {
     "name": "stdout",
     "output_type": "stream",
     "text": [
      "There is no blood pressure data available during the extubated period.\n",
      "There is no blood pressure data available during the extubated period.\n"
     ]
    },
    {
     "name": "stderr",
     "output_type": "stream",
     "text": [
      "VU2216 visit 1 failed: list index out of range\n",
      "VU0647 visit 1 failed: float division by zero\n",
      "VN4024 visit 1 failed: 'NoneType' object has no attribute 'copy'\n"
     ]
    },
    {
     "name": "stdout",
     "output_type": "stream",
     "text": [
      "There is no blood pressure data available during the extubated period.\n"
     ]
    },
    {
     "name": "stderr",
     "output_type": "stream",
     "text": [
      "VT1843 visit 1 failed: 'NoneType' object has no attribute 'copy'\n"
     ]
    },
    {
     "name": "stdout",
     "output_type": "stream",
     "text": [
      "There is no blood pressure data available during the extubated period.\n"
     ]
    },
    {
     "name": "stderr",
     "output_type": "stream",
     "text": [
      "VA2331 visit 1 failed: 'NoneType' object has no attribute 'copy'\n",
      "VA1742 visit 1 failed: 'NoneType' object has no attribute 'copy'\n"
     ]
    },
    {
     "name": "stdout",
     "output_type": "stream",
     "text": [
      "There is no blood pressure data available during the extubated period.\n",
      "There is no blood pressure data available during the extubated period.\n"
     ]
    },
    {
     "name": "stderr",
     "output_type": "stream",
     "text": [
      "VF2251 visit 1 failed: 'NoneType' object has no attribute 'copy'\n"
     ]
    },
    {
     "name": "stdout",
     "output_type": "stream",
     "text": [
      "There is no blood pressure data available during the extubated period.\n"
     ]
    },
    {
     "name": "stderr",
     "output_type": "stream",
     "text": [
      "VM2705 visit 1 failed: 'NoneType' object has no attribute 'copy'\n",
      "VJ3157 visit 1 failed: list index out of range\n"
     ]
    },
    {
     "name": "stdout",
     "output_type": "stream",
     "text": [
      "There is no blood pressure data available during the extubated period.\n"
     ]
    },
    {
     "name": "stderr",
     "output_type": "stream",
     "text": [
      "VV1257 visit 1 failed: 'NoneType' object has no attribute 'copy'\n",
      "VV3912 visit 1 failed: float division by zero\n"
     ]
    },
    {
     "name": "stdout",
     "output_type": "stream",
     "text": [
      "There is no blood pressure data available during the extubated period.\n"
     ]
    },
    {
     "name": "stderr",
     "output_type": "stream",
     "text": [
      "VQ2949 visit 1 failed: 'NoneType' object has no attribute 'copy'\n",
      "VQ3313 visit 1 failed: list index out of range\n",
      "VX3821 visit 1 failed: 'NoneType' object has no attribute 'copy'\n"
     ]
    },
    {
     "name": "stdout",
     "output_type": "stream",
     "text": [
      "There is no blood pressure data available during the extubated period.\n",
      "There is no blood pressure data available during the extubated period.\n"
     ]
    },
    {
     "name": "stderr",
     "output_type": "stream",
     "text": [
      "VE3150 visit 1 failed: 'NoneType' object has no attribute 'copy'\n",
      "VE1255 visit 1 failed: 'NoneType' object has no attribute 'copy'\n",
      "VE4042 visit 1 failed: list index out of range\n"
     ]
    },
    {
     "name": "stdout",
     "output_type": "stream",
     "text": [
      "There is no blood pressure data available during the extubated period.\n",
      "There is no blood pressure data available during the extubated period.\n"
     ]
    },
    {
     "name": "stderr",
     "output_type": "stream",
     "text": [
      "VK3917 visit 1 failed: 'NoneType' object has no attribute 'copy'\n",
      "VL3728 visit 1 failed: 'NoneType' object has no attribute 'copy'\n"
     ]
    },
    {
     "name": "stdout",
     "output_type": "stream",
     "text": [
      "There is no blood pressure data available during the extubated period.\n",
      "There is no blood pressure data available during the extubated period.\n"
     ]
    },
    {
     "name": "stderr",
     "output_type": "stream",
     "text": [
      "VP3995 visit 1 failed: 'NoneType' object has no attribute 'copy'\n"
     ]
    },
    {
     "name": "stdout",
     "output_type": "stream",
     "text": [
      "There is no blood pressure data available during the extubated period.\n"
     ]
    },
    {
     "name": "stderr",
     "output_type": "stream",
     "text": [
      "VW2869 visit 1 failed: float division by zero\n",
      "VW1487 visit 1 failed: float division by zero\n",
      "QR3000 visit 1 failed: 'NoneType' object has no attribute 'copy'\n",
      "QU0772 visit 1 failed: list index out of range\n"
     ]
    },
    {
     "name": "stdout",
     "output_type": "stream",
     "text": [
      "There is no blood pressure data available during the extubated period.\n"
     ]
    },
    {
     "name": "stderr",
     "output_type": "stream",
     "text": [
      "QI3342 visit 1 failed: list index out of range\n",
      "QT2835 visit 1 failed: list index out of range\n",
      "QF0704 visit 1 failed: 'NoneType' object has no attribute 'copy'\n"
     ]
    },
    {
     "name": "stdout",
     "output_type": "stream",
     "text": [
      "There is no blood pressure data available during the extubated period.\n"
     ]
    },
    {
     "name": "stderr",
     "output_type": "stream",
     "text": [
      "QJ3009 visit 1 failed: float division by zero\n",
      "QJ1559 visit 1 failed: list index out of range\n",
      "QC3326 visit 1 failed: list index out of range\n",
      "QD2469 visit 1 failed: list index out of range\n",
      "QV3251 visit 1 failed: list index out of range\n",
      "QX2620 visit 1 failed: 'NoneType' object has no attribute 'copy'\n"
     ]
    },
    {
     "name": "stdout",
     "output_type": "stream",
     "text": [
      "There is no blood pressure data available during the extubated period.\n"
     ]
    },
    {
     "name": "stderr",
     "output_type": "stream",
     "text": [
      "QX2405 visit 1 failed: 'NoneType' object has no attribute 'copy'\n"
     ]
    },
    {
     "name": "stdout",
     "output_type": "stream",
     "text": [
      "There is no blood pressure data available during the extubated period.\n"
     ]
    },
    {
     "name": "stderr",
     "output_type": "stream",
     "text": [
      "QL2883 visit 1 failed: 'NoneType' object has no attribute 'copy'\n"
     ]
    },
    {
     "name": "stdout",
     "output_type": "stream",
     "text": [
      "There is no blood pressure data available during the extubated period.\n"
     ]
    },
    {
     "name": "stderr",
     "output_type": "stream",
     "text": [
      "QY3833 visit 1 failed: 'NoneType' object has no attribute 'copy'\n"
     ]
    },
    {
     "name": "stdout",
     "output_type": "stream",
     "text": [
      "There is no blood pressure data available during the extubated period.\n"
     ]
    },
    {
     "name": "stderr",
     "output_type": "stream",
     "text": [
      "QY0842 visit 1 failed: list index out of range\n",
      "QP3576 visit 1 failed: list index out of range\n",
      "QP3369 visit 1 failed: list index out of range\n",
      "QW2329 visit 1 failed: 'NoneType' object has no attribute 'copy'\n"
     ]
    },
    {
     "name": "stdout",
     "output_type": "stream",
     "text": [
      "There is no blood pressure data available during the extubated period.\n"
     ]
    },
    {
     "name": "stderr",
     "output_type": "stream",
     "text": [
      "QW1810 visit 1 failed: list index out of range\n",
      "XR1428 visit 1 failed: 'NoneType' object has no attribute 'copy'\n"
     ]
    },
    {
     "name": "stdout",
     "output_type": "stream",
     "text": [
      "There is no blood pressure data available during the extubated period.\n"
     ]
    },
    {
     "name": "stderr",
     "output_type": "stream",
     "text": [
      "XU3692 visit 1 failed: 'NoneType' object has no attribute 'copy'\n"
     ]
    },
    {
     "name": "stdout",
     "output_type": "stream",
     "text": [
      "There is no blood pressure data available during the extubated period.\n"
     ]
    },
    {
     "name": "stderr",
     "output_type": "stream",
     "text": [
      "XI0248 visit 1 failed: 'NoneType' object has no attribute 'copy'\n"
     ]
    },
    {
     "name": "stdout",
     "output_type": "stream",
     "text": [
      "There is no blood pressure data available during the extubated period.\n"
     ]
    },
    {
     "name": "stderr",
     "output_type": "stream",
     "text": [
      "XN2935 visit 1 failed: float division by zero\n",
      "XZ0166 visit 1 failed: 'NoneType' object has no attribute 'copy'\n",
      "XZ4092 visit 1 failed: list index out of range\n"
     ]
    },
    {
     "name": "stdout",
     "output_type": "stream",
     "text": [
      "There is no blood pressure data available during the extubated period.\n"
     ]
    },
    {
     "name": "stderr",
     "output_type": "stream",
     "text": [
      "XZ1733 visit 1 failed: 'NoneType' object has no attribute 'copy'\n"
     ]
    },
    {
     "name": "stdout",
     "output_type": "stream",
     "text": [
      "There is no blood pressure data available during the extubated period.\n"
     ]
    },
    {
     "name": "stderr",
     "output_type": "stream",
     "text": [
      "XS2050 visit 1 failed: float division by zero\n",
      "XC1388 visit 1 failed: 'NoneType' object has no attribute 'copy'\n"
     ]
    },
    {
     "name": "stdout",
     "output_type": "stream",
     "text": [
      "There is no blood pressure data available during the extubated period.\n"
     ]
    },
    {
     "name": "stderr",
     "output_type": "stream",
     "text": [
      "XD2914 visit 1 failed: 'NoneType' object has no attribute 'copy'\n"
     ]
    },
    {
     "name": "stdout",
     "output_type": "stream",
     "text": [
      "There is no blood pressure data available during the extubated period.\n"
     ]
    },
    {
     "name": "stderr",
     "output_type": "stream",
     "text": [
      "XD1783 visit 1 failed: 'NoneType' object has no attribute 'copy'\n"
     ]
    },
    {
     "name": "stdout",
     "output_type": "stream",
     "text": [
      "There is no blood pressure data available during the extubated period.\n"
     ]
    },
    {
     "name": "stderr",
     "output_type": "stream",
     "text": [
      "XQ1350 visit 1 failed: 'NoneType' object has no attribute 'copy'\n",
      "XQ1938 visit 1 failed: 'NoneType' object has no attribute 'copy'\n"
     ]
    },
    {
     "name": "stdout",
     "output_type": "stream",
     "text": [
      "There is no blood pressure data available during the extubated period.\n",
      "There is no blood pressure data available during the extubated period.\n"
     ]
    },
    {
     "name": "stderr",
     "output_type": "stream",
     "text": [
      "XQ0997 visit 1 failed: float division by zero\n",
      "XQ3812 visit 1 failed: 'NoneType' object has no attribute 'copy'\n",
      "XX3614 visit 1 failed: 'NoneType' object has no attribute 'copy'\n"
     ]
    },
    {
     "name": "stdout",
     "output_type": "stream",
     "text": [
      "There is no blood pressure data available during the extubated period.\n",
      "There is no blood pressure data available during the extubated period.\n"
     ]
    },
    {
     "name": "stderr",
     "output_type": "stream",
     "text": [
      "XX0468 visit 1 failed: 'NoneType' object has no attribute 'copy'\n",
      "XE4045 visit 1 failed: 'NoneType' object has no attribute 'copy'\n",
      "XE1578 visit 1 failed: 'NoneType' object has no attribute 'copy'\n"
     ]
    },
    {
     "name": "stdout",
     "output_type": "stream",
     "text": [
      "There is no blood pressure data available during the extubated period.\n",
      "There is no blood pressure data available during the extubated period.\n",
      "There is no blood pressure data available during the extubated period.\n"
     ]
    },
    {
     "name": "stderr",
     "output_type": "stream",
     "text": [
      "XL2646 visit 1 failed: float division by zero\n",
      "XL1553 visit 1 failed: 'NoneType' object has no attribute 'copy'\n",
      "XY2614 visit 1 failed: 'NoneType' object has no attribute 'copy'\n"
     ]
    },
    {
     "name": "stdout",
     "output_type": "stream",
     "text": [
      "There is no blood pressure data available during the extubated period.\n",
      "There is no blood pressure data available during the extubated period.\n"
     ]
    },
    {
     "name": "stderr",
     "output_type": "stream",
     "text": [
      "XP3208 visit 1 failed: 'NoneType' object has no attribute 'copy'\n"
     ]
    },
    {
     "name": "stdout",
     "output_type": "stream",
     "text": [
      "There is no blood pressure data available during the extubated period.\n"
     ]
    },
    {
     "name": "stderr",
     "output_type": "stream",
     "text": [
      "XW1297 visit 1 failed: float division by zero\n",
      "XW0782 visit 1 failed: list index out of range\n",
      "EN1451 visit 1 failed: list index out of range\n",
      "ET3027 visit 1 failed: list index out of range\n",
      "ES3776 visit 1 failed: 'NoneType' object has no attribute 'copy'\n",
      "EA1186 visit 1 failed: list index out of range\n"
     ]
    },
    {
     "name": "stdout",
     "output_type": "stream",
     "text": [
      "There is no blood pressure data available during the extubated period.\n"
     ]
    },
    {
     "name": "stderr",
     "output_type": "stream",
     "text": [
      "EO3227 visit 1 failed: list index out of range\n",
      "EM2756 visit 1 failed: 'NoneType' object has no attribute 'copy'\n"
     ]
    },
    {
     "name": "stdout",
     "output_type": "stream",
     "text": [
      "There is no blood pressure data available during the extubated period.\n"
     ]
    },
    {
     "name": "stderr",
     "output_type": "stream",
     "text": [
      "EM2092 visit 1 failed: 'NoneType' object has no attribute 'copy'\n"
     ]
    },
    {
     "name": "stdout",
     "output_type": "stream",
     "text": [
      "There is no blood pressure data available during the extubated period.\n"
     ]
    },
    {
     "name": "stderr",
     "output_type": "stream",
     "text": [
      "EC1657 visit 1 failed: 'NoneType' object has no attribute 'copy'\n"
     ]
    },
    {
     "name": "stdout",
     "output_type": "stream",
     "text": [
      "There is no blood pressure data available during the extubated period.\n"
     ]
    },
    {
     "name": "stderr",
     "output_type": "stream",
     "text": [
      "ED3175 visit 1 failed: 'NoneType' object has no attribute 'copy'\n",
      "EV3800 visit 1 failed: 'NoneType' object has no attribute 'copy'\n",
      "EV0843 visit 1 failed: 'NoneType' object has no attribute 'copy'\n"
     ]
    },
    {
     "name": "stdout",
     "output_type": "stream",
     "text": [
      "There is no blood pressure data available during the extubated period.\n",
      "There is no blood pressure data available during the extubated period.\n",
      "There is no blood pressure data available during the extubated period.\n"
     ]
    },
    {
     "name": "stderr",
     "output_type": "stream",
     "text": [
      "EX3204 visit 1 failed: list index out of range\n",
      "EE2147 visit 1 failed: 'NoneType' object has no attribute 'copy'\n"
     ]
    },
    {
     "name": "stdout",
     "output_type": "stream",
     "text": [
      "There is no blood pressure data available during the extubated period.\n"
     ]
    },
    {
     "name": "stderr",
     "output_type": "stream",
     "text": [
      "EB3056 visit 1 failed: list index out of range\n",
      "EK0479 visit 1 failed: 'NoneType' object has no attribute 'copy'\n"
     ]
    },
    {
     "name": "stdout",
     "output_type": "stream",
     "text": [
      "There is no blood pressure data available during the extubated period.\n"
     ]
    },
    {
     "name": "stderr",
     "output_type": "stream",
     "text": [
      "EL2366 visit 1 failed: 'NoneType' object has no attribute 'copy'\n"
     ]
    },
    {
     "name": "stdout",
     "output_type": "stream",
     "text": [
      "There is no blood pressure data available during the extubated period.\n"
     ]
    },
    {
     "name": "stderr",
     "output_type": "stream",
     "text": [
      "EP3696 visit 1 failed: 'NoneType' object has no attribute 'copy'\n",
      "EP3461 visit 1 failed: list index out of range\n"
     ]
    },
    {
     "name": "stdout",
     "output_type": "stream",
     "text": [
      "There is no blood pressure data available during the extubated period.\n"
     ]
    },
    {
     "name": "stderr",
     "output_type": "stream",
     "text": [
      "EW1835 visit 1 failed: 'NoneType' object has no attribute 'copy'\n"
     ]
    },
    {
     "name": "stdout",
     "output_type": "stream",
     "text": [
      "There is no blood pressure data available during the extubated period.\n"
     ]
    },
    {
     "name": "stderr",
     "output_type": "stream",
     "text": [
      "BR0401 visit 1 failed: 'NoneType' object has no attribute 'copy'\n"
     ]
    },
    {
     "name": "stdout",
     "output_type": "stream",
     "text": [
      "There is no blood pressure data available during the extubated period.\n"
     ]
    },
    {
     "name": "stderr",
     "output_type": "stream",
     "text": [
      "BR2514 visit 1 failed: list index out of range\n",
      "BR3036 visit 1 failed: 'NoneType' object has no attribute 'copy'\n"
     ]
    },
    {
     "name": "stdout",
     "output_type": "stream",
     "text": [
      "There is no blood pressure data available during the extubated period.\n"
     ]
    },
    {
     "name": "stderr",
     "output_type": "stream",
     "text": [
      "BU1721 visit 1 failed: 'NoneType' object has no attribute 'copy'\n"
     ]
    },
    {
     "name": "stdout",
     "output_type": "stream",
     "text": [
      "There is no blood pressure data available during the extubated period.\n"
     ]
    },
    {
     "name": "stderr",
     "output_type": "stream",
     "text": [
      "BI1913 visit 1 failed: list index out of range\n",
      "BG1412 visit 1 failed: list index out of range\n",
      "BG2689 visit 1 failed: float division by zero\n",
      "BZ2337 visit 1 failed: list index out of range\n",
      "BZ3386 visit 1 failed: 'NoneType' object has no attribute 'copy'\n"
     ]
    },
    {
     "name": "stdout",
     "output_type": "stream",
     "text": [
      "There is no blood pressure data available during the extubated period.\n"
     ]
    },
    {
     "name": "stderr",
     "output_type": "stream",
     "text": [
      "BT3582 visit 1 failed: 'NoneType' object has no attribute 'copy'\n"
     ]
    },
    {
     "name": "stdout",
     "output_type": "stream",
     "text": [
      "There is no blood pressure data available during the extubated period.\n"
     ]
    },
    {
     "name": "stderr",
     "output_type": "stream",
     "text": [
      "BT3143 visit 1 failed: 'NoneType' object has no attribute 'copy'\n"
     ]
    },
    {
     "name": "stdout",
     "output_type": "stream",
     "text": [
      "There is no blood pressure data available during the extubated period.\n"
     ]
    },
    {
     "name": "stderr",
     "output_type": "stream",
     "text": [
      "BS3312 visit 1 failed: list index out of range\n",
      "BF2616 visit 1 failed: 'NoneType' object has no attribute 'copy'\n"
     ]
    },
    {
     "name": "stdout",
     "output_type": "stream",
     "text": [
      "There is no blood pressure data available during the extubated period.\n"
     ]
    },
    {
     "name": "stderr",
     "output_type": "stream",
     "text": [
      "BH3859 visit 1 failed: list index out of range\n",
      "BJ2150 visit 1 failed: 'NoneType' object has no attribute 'copy'\n"
     ]
    },
    {
     "name": "stdout",
     "output_type": "stream",
     "text": [
      "There is no blood pressure data available during the extubated period.\n"
     ]
    },
    {
     "name": "stderr",
     "output_type": "stream",
     "text": [
      "BJ4054 visit 1 failed: 'NoneType' object has no attribute 'copy'\n"
     ]
    },
    {
     "name": "stdout",
     "output_type": "stream",
     "text": [
      "There is no blood pressure data available during the extubated period.\n"
     ]
    },
    {
     "name": "stderr",
     "output_type": "stream",
     "text": [
      "BC3142 visit 1 failed: list index out of range\n",
      "BD1804 visit 1 failed: 'NoneType' object has no attribute 'copy'\n"
     ]
    },
    {
     "name": "stdout",
     "output_type": "stream",
     "text": [
      "There is no blood pressure data available during the extubated period.\n"
     ]
    },
    {
     "name": "stderr",
     "output_type": "stream",
     "text": [
      "BD3015 visit 1 failed: 'NoneType' object has no attribute 'copy'\n",
      "BD3347 visit 1 failed: 'NoneType' object has no attribute 'copy'\n"
     ]
    },
    {
     "name": "stdout",
     "output_type": "stream",
     "text": [
      "There is no blood pressure data available during the extubated period.\n",
      "There is no blood pressure data available during the extubated period.\n"
     ]
    },
    {
     "name": "stderr",
     "output_type": "stream",
     "text": [
      "BQ2807 visit 1 failed: 'NoneType' object has no attribute 'copy'\n"
     ]
    },
    {
     "name": "stdout",
     "output_type": "stream",
     "text": [
      "There is no blood pressure data available during the extubated period.\n"
     ]
    },
    {
     "name": "stderr",
     "output_type": "stream",
     "text": [
      "BK0070 visit 1 failed: 'NoneType' object has no attribute 'copy'\n",
      "BL3474 visit 1 failed: 'NoneType' object has no attribute 'copy'\n",
      "BY2508 visit 1 failed: 'NoneType' object has no attribute 'copy'\n"
     ]
    },
    {
     "name": "stdout",
     "output_type": "stream",
     "text": [
      "There is no blood pressure data available during the extubated period.\n",
      "There is no blood pressure data available during the extubated period.\n",
      "There is no blood pressure data available during the extubated period.\n"
     ]
    },
    {
     "name": "stderr",
     "output_type": "stream",
     "text": [
      "BP2844 visit 1 failed: float division by zero\n",
      "BW3852 visit 1 failed: list index out of range\n",
      "BW0372 visit 1 failed: 'NoneType' object has no attribute 'copy'\n"
     ]
    },
    {
     "name": "stdout",
     "output_type": "stream",
     "text": [
      "There is no blood pressure data available during the extubated period.\n"
     ]
    },
    {
     "name": "stderr",
     "output_type": "stream",
     "text": [
      "KR1086 visit 1 failed: 'NoneType' object has no attribute 'copy'\n"
     ]
    },
    {
     "name": "stdout",
     "output_type": "stream",
     "text": [
      "There is no blood pressure data available during the extubated period.\n"
     ]
    },
    {
     "name": "stderr",
     "output_type": "stream",
     "text": [
      "KU2937 visit 1 failed: 'NoneType' object has no attribute 'copy'\n"
     ]
    },
    {
     "name": "stdout",
     "output_type": "stream",
     "text": [
      "There is no blood pressure data available during the extubated period.\n"
     ]
    },
    {
     "name": "stderr",
     "output_type": "stream",
     "text": [
      "KI0883 visit 1 failed: list index out of range\n",
      "KN1869 visit 1 failed: 'NoneType' object has no attribute 'copy'\n"
     ]
    },
    {
     "name": "stdout",
     "output_type": "stream",
     "text": [
      "There is no blood pressure data available during the extubated period.\n"
     ]
    },
    {
     "name": "stderr",
     "output_type": "stream",
     "text": [
      "KZ3726 visit 1 failed: 'NoneType' object has no attribute 'copy'\n",
      "KZ3988 visit 1 failed: float division by zero\n",
      "KZ4111 visit 1 failed: 'NoneType' object has no attribute 'copy'\n"
     ]
    },
    {
     "name": "stdout",
     "output_type": "stream",
     "text": [
      "There is no blood pressure data available during the extubated period.\n",
      "There is no blood pressure data available during the extubated period.\n"
     ]
    },
    {
     "name": "stderr",
     "output_type": "stream",
     "text": [
      "KA3656 visit 1 failed: 'NoneType' object has no attribute 'copy'\n",
      "KF2192 visit 1 failed: 'NoneType' object has no attribute 'copy'\n",
      "KF1038 visit 1 failed: 'NoneType' object has no attribute 'copy'\n"
     ]
    },
    {
     "name": "stdout",
     "output_type": "stream",
     "text": [
      "There is no blood pressure data available during the extubated period.\n",
      "There is no blood pressure data available during the extubated period.\n",
      "There is no blood pressure data available during the extubated period.\n"
     ]
    },
    {
     "name": "stderr",
     "output_type": "stream",
     "text": [
      "KH3073 visit 1 failed: 'NoneType' object has no attribute 'copy'\n",
      "KH0067 visit 1 failed: 'NoneType' object has no attribute 'copy'\n"
     ]
    },
    {
     "name": "stdout",
     "output_type": "stream",
     "text": [
      "There is no blood pressure data available during the extubated period.\n",
      "There is no blood pressure data available during the extubated period.\n"
     ]
    },
    {
     "name": "stderr",
     "output_type": "stream",
     "text": [
      "KM2479 visit 1 failed: 'NoneType' object has no attribute 'copy'\n"
     ]
    },
    {
     "name": "stdout",
     "output_type": "stream",
     "text": [
      "There is no blood pressure data available during the extubated period.\n"
     ]
    },
    {
     "name": "stderr",
     "output_type": "stream",
     "text": [
      "KC2473 visit 1 failed: 'NoneType' object has no attribute 'copy'\n"
     ]
    },
    {
     "name": "stdout",
     "output_type": "stream",
     "text": [
      "There is no blood pressure data available during the extubated period.\n"
     ]
    },
    {
     "name": "stderr",
     "output_type": "stream",
     "text": [
      "KV1281 visit 1 failed: 'NoneType' object has no attribute 'copy'\n"
     ]
    },
    {
     "name": "stdout",
     "output_type": "stream",
     "text": [
      "There is no blood pressure data available during the extubated period.\n"
     ]
    },
    {
     "name": "stderr",
     "output_type": "stream",
     "text": [
      "KQ3427 visit 1 failed: list index out of range\n",
      "KE1093 visit 1 failed: 'NoneType' object has no attribute 'copy'\n"
     ]
    },
    {
     "name": "stdout",
     "output_type": "stream",
     "text": [
      "There is no blood pressure data available during the extubated period.\n"
     ]
    },
    {
     "name": "stderr",
     "output_type": "stream",
     "text": [
      "KL2148 visit 1 failed: 'NoneType' object has no attribute 'copy'\n"
     ]
    },
    {
     "name": "stdout",
     "output_type": "stream",
     "text": [
      "There is no blood pressure data available during the extubated period.\n"
     ]
    },
    {
     "name": "stderr",
     "output_type": "stream",
     "text": [
      "KL0146 visit 1 failed: 'NoneType' object has no attribute 'copy'\n",
      "KY3662 visit 1 failed: 'NoneType' object has no attribute 'copy'\n",
      "KY3182 visit 1 failed: 'NoneType' object has no attribute 'copy'\n",
      "KY0008 visit 1 failed: float division by zero\n"
     ]
    },
    {
     "name": "stdout",
     "output_type": "stream",
     "text": [
      "There is no blood pressure data available during the extubated period.\n",
      "There is no blood pressure data available during the extubated period.\n",
      "There is no blood pressure data available during the extubated period.\n"
     ]
    },
    {
     "name": "stderr",
     "output_type": "stream",
     "text": [
      "KW1920 visit 1 failed: 'NoneType' object has no attribute 'copy'\n"
     ]
    },
    {
     "name": "stdout",
     "output_type": "stream",
     "text": [
      "There is no blood pressure data available during the extubated period.\n"
     ]
    },
    {
     "name": "stderr",
     "output_type": "stream",
     "text": [
      "KW3189 visit 1 failed: float division by zero\n",
      "KW3198 visit 1 failed: 'NoneType' object has no attribute 'copy'\n"
     ]
    },
    {
     "name": "stdout",
     "output_type": "stream",
     "text": [
      "There is no blood pressure data available during the extubated period.\n"
     ]
    },
    {
     "name": "stderr",
     "output_type": "stream",
     "text": [
      "LR2724 visit 1 failed: 'NoneType' object has no attribute 'copy'\n",
      "LR3906 visit 1 failed: 'NoneType' object has no attribute 'copy'\n"
     ]
    },
    {
     "name": "stdout",
     "output_type": "stream",
     "text": [
      "There is no blood pressure data available during the extubated period.\n",
      "There is no blood pressure data available during the extubated period.\n"
     ]
    },
    {
     "name": "stderr",
     "output_type": "stream",
     "text": [
      "LU3672 visit 1 failed: list index out of range\n",
      "LG1815 visit 1 failed: list index out of range\n",
      "LZ0869 visit 1 failed: 'NoneType' object has no attribute 'copy'\n",
      "LZ1802 visit 1 failed: list index out of range\n"
     ]
    },
    {
     "name": "stdout",
     "output_type": "stream",
     "text": [
      "There is no blood pressure data available during the extubated period.\n"
     ]
    },
    {
     "name": "stderr",
     "output_type": "stream",
     "text": [
      "LT1552 visit 1 failed: 'NoneType' object has no attribute 'copy'\n"
     ]
    },
    {
     "name": "stdout",
     "output_type": "stream",
     "text": [
      "There is no blood pressure data available during the extubated period.\n"
     ]
    },
    {
     "name": "stderr",
     "output_type": "stream",
     "text": [
      "LT0036 visit 1 failed: float division by zero\n",
      "LA4073 visit 1 failed: 'NoneType' object has no attribute 'copy'\n"
     ]
    },
    {
     "name": "stdout",
     "output_type": "stream",
     "text": [
      "There is no blood pressure data available during the extubated period.\n"
     ]
    },
    {
     "name": "stderr",
     "output_type": "stream",
     "text": [
      "LA1700 visit 1 failed: 'NoneType' object has no attribute 'copy'\n",
      "LF1369 visit 1 failed: 'NoneType' object has no attribute 'copy'\n"
     ]
    },
    {
     "name": "stdout",
     "output_type": "stream",
     "text": [
      "There is no blood pressure data available during the extubated period.\n",
      "There is no blood pressure data available during the extubated period.\n"
     ]
    },
    {
     "name": "stderr",
     "output_type": "stream",
     "text": [
      "LO0573 visit 1 failed: 'NoneType' object has no attribute 'copy'\n",
      "LH3789 visit 1 failed: 'NoneType' object has no attribute 'copy'\n"
     ]
    },
    {
     "name": "stdout",
     "output_type": "stream",
     "text": [
      "There is no blood pressure data available during the extubated period.\n",
      "There is no blood pressure data available during the extubated period.\n"
     ]
    },
    {
     "name": "stderr",
     "output_type": "stream",
     "text": [
      "LM3507 visit 1 failed: list index out of range\n",
      "LC2912 visit 1 failed: list index out of range\n",
      "LD2631 visit 1 failed: 'NoneType' object has no attribute 'copy'\n"
     ]
    },
    {
     "name": "stdout",
     "output_type": "stream",
     "text": [
      "There is no blood pressure data available during the extubated period.\n"
     ]
    },
    {
     "name": "stderr",
     "output_type": "stream",
     "text": [
      "LV1629 visit 1 failed: 'NoneType' object has no attribute 'copy'\n",
      "LV1315 visit 1 failed: 'NoneType' object has no attribute 'copy'\n",
      "LV2334 visit 1 failed: 'NoneType' object has no attribute 'copy'\n",
      "LV1770 visit 1 failed: float division by zero\n",
      "LQ3893 visit 1 failed: list index out of range\n",
      "LQ2589 visit 1 failed: 'NoneType' object has no attribute 'copy'\n"
     ]
    },
    {
     "name": "stdout",
     "output_type": "stream",
     "text": [
      "There is no blood pressure data available during the extubated period.\n",
      "There is no blood pressure data available during the extubated period.\n",
      "There is no blood pressure data available during the extubated period.\n",
      "There is no blood pressure data available during the extubated period.\n"
     ]
    },
    {
     "name": "stderr",
     "output_type": "stream",
     "text": [
      "LQ2483 visit 1 failed: 'NoneType' object has no attribute 'copy'\n"
     ]
    },
    {
     "name": "stdout",
     "output_type": "stream",
     "text": [
      "There is no blood pressure data available during the extubated period.\n"
     ]
    },
    {
     "name": "stderr",
     "output_type": "stream",
     "text": [
      "LQ1306 visit 1 failed: 'NoneType' object has no attribute 'copy'\n"
     ]
    },
    {
     "name": "stdout",
     "output_type": "stream",
     "text": [
      "There is no blood pressure data available during the extubated period.\n"
     ]
    },
    {
     "name": "stderr",
     "output_type": "stream",
     "text": [
      "LX0321 visit 1 failed: 'NoneType' object has no attribute 'copy'\n"
     ]
    },
    {
     "name": "stdout",
     "output_type": "stream",
     "text": [
      "There is no blood pressure data available during the extubated period.\n"
     ]
    },
    {
     "name": "stderr",
     "output_type": "stream",
     "text": [
      "LB1845 visit 1 failed: float division by zero\n",
      "LB2896 visit 1 failed: 'NoneType' object has no attribute 'copy'\n",
      "LB3481 visit 1 failed: 'NoneType' object has no attribute 'copy'\n"
     ]
    },
    {
     "name": "stdout",
     "output_type": "stream",
     "text": [
      "There is no blood pressure data available during the extubated period.\n",
      "There is no blood pressure data available during the extubated period.\n"
     ]
    },
    {
     "name": "stderr",
     "output_type": "stream",
     "text": [
      "LK1182 visit 1 failed: list index out of range\n",
      "YR3736 visit 1 failed: 'NoneType' object has no attribute 'copy'\n"
     ]
    },
    {
     "name": "stdout",
     "output_type": "stream",
     "text": [
      "There is no blood pressure data available during the extubated period.\n"
     ]
    },
    {
     "name": "stderr",
     "output_type": "stream",
     "text": [
      "YR4082 visit 1 failed: list index out of range\n",
      "YU3940 visit 1 failed: 'NoneType' object has no attribute 'copy'\n"
     ]
    },
    {
     "name": "stdout",
     "output_type": "stream",
     "text": [
      "There is no blood pressure data available during the extubated period.\n"
     ]
    },
    {
     "name": "stderr",
     "output_type": "stream",
     "text": [
      "YU3486 visit 1 failed: 'NoneType' object has no attribute 'copy'\n"
     ]
    },
    {
     "name": "stdout",
     "output_type": "stream",
     "text": [
      "There is no blood pressure data available during the extubated period.\n"
     ]
    },
    {
     "name": "stderr",
     "output_type": "stream",
     "text": [
      "YU1341 visit 1 failed: 'NoneType' object has no attribute 'copy'\n"
     ]
    },
    {
     "name": "stdout",
     "output_type": "stream",
     "text": [
      "There is no blood pressure data available during the extubated period.\n"
     ]
    },
    {
     "name": "stderr",
     "output_type": "stream",
     "text": [
      "YN0900 visit 1 failed: float division by zero\n",
      "YN0877 visit 1 failed: list index out of range\n",
      "YT2217 visit 1 failed: 'NoneType' object has no attribute 'copy'\n"
     ]
    },
    {
     "name": "stdout",
     "output_type": "stream",
     "text": [
      "There is no blood pressure data available during the extubated period.\n"
     ]
    },
    {
     "name": "stderr",
     "output_type": "stream",
     "text": [
      "YS3621 visit 1 failed: 'NoneType' object has no attribute 'copy'\n",
      "YA4001 visit 1 failed: 'NoneType' object has no attribute 'copy'\n"
     ]
    },
    {
     "name": "stdout",
     "output_type": "stream",
     "text": [
      "There is no blood pressure data available during the extubated period.\n",
      "There is no blood pressure data available during the extubated period.\n"
     ]
    },
    {
     "name": "stderr",
     "output_type": "stream",
     "text": [
      "YF1474 visit 1 failed: 'NoneType' object has no attribute 'copy'\n"
     ]
    },
    {
     "name": "stdout",
     "output_type": "stream",
     "text": [
      "There is no blood pressure data available during the extubated period.\n"
     ]
    },
    {
     "name": "stderr",
     "output_type": "stream",
     "text": [
      "YJ2470 visit 1 failed: 'NoneType' object has no attribute 'copy'\n"
     ]
    },
    {
     "name": "stdout",
     "output_type": "stream",
     "text": [
      "There is no blood pressure data available during the extubated period.\n"
     ]
    },
    {
     "name": "stderr",
     "output_type": "stream",
     "text": [
      "YD3052 visit 1 failed: 'NoneType' object has no attribute 'copy'\n"
     ]
    },
    {
     "name": "stdout",
     "output_type": "stream",
     "text": [
      "There is no blood pressure data available during the extubated period.\n"
     ]
    },
    {
     "name": "stderr",
     "output_type": "stream",
     "text": [
      "YX2562 visit 1 failed: list index out of range\n",
      "YX3166 visit 1 failed: 'NoneType' object has no attribute 'copy'\n"
     ]
    },
    {
     "name": "stdout",
     "output_type": "stream",
     "text": [
      "There is no blood pressure data available during the extubated period.\n"
     ]
    },
    {
     "name": "stderr",
     "output_type": "stream",
     "text": [
      "YB4088 visit 1 failed: 'NoneType' object has no attribute 'copy'\n"
     ]
    },
    {
     "name": "stdout",
     "output_type": "stream",
     "text": [
      "There is no blood pressure data available during the extubated period.\n"
     ]
    },
    {
     "name": "stderr",
     "output_type": "stream",
     "text": [
      "YK1936 visit 1 failed: list index out of range\n",
      "YL1515 visit 1 failed: 'NoneType' object has no attribute 'copy'\n"
     ]
    },
    {
     "name": "stdout",
     "output_type": "stream",
     "text": [
      "There is no blood pressure data available during the extubated period.\n"
     ]
    },
    {
     "name": "stderr",
     "output_type": "stream",
     "text": [
      "YY3837 visit 1 failed: 'NoneType' object has no attribute 'copy'\n"
     ]
    },
    {
     "name": "stdout",
     "output_type": "stream",
     "text": [
      "There is no blood pressure data available during the extubated period.\n"
     ]
    },
    {
     "name": "stderr",
     "output_type": "stream",
     "text": [
      "YP1031 visit 1 failed: 'NoneType' object has no attribute 'copy'\n"
     ]
    },
    {
     "name": "stdout",
     "output_type": "stream",
     "text": [
      "There is no blood pressure data available during the extubated period.\n"
     ]
    },
    {
     "name": "stderr",
     "output_type": "stream",
     "text": [
      "PR1516 visit 1 failed: 'NoneType' object has no attribute 'copy'\n"
     ]
    },
    {
     "name": "stdout",
     "output_type": "stream",
     "text": [
      "There is no blood pressure data available during the extubated period.\n"
     ]
    },
    {
     "name": "stderr",
     "output_type": "stream",
     "text": [
      "PI0750 visit 1 failed: list index out of range\n",
      "PI1961 visit 1 failed: list index out of range\n",
      "PS2511 visit 1 failed: 'NoneType' object has no attribute 'copy'\n",
      "PS2602 visit 1 failed: 'NoneType' object has no attribute 'copy'\n"
     ]
    },
    {
     "name": "stdout",
     "output_type": "stream",
     "text": [
      "There is no blood pressure data available during the extubated period.\n",
      "There is no blood pressure data available during the extubated period.\n"
     ]
    },
    {
     "name": "stderr",
     "output_type": "stream",
     "text": [
      "PF3299 visit 1 failed: 'NoneType' object has no attribute 'copy'\n"
     ]
    },
    {
     "name": "stdout",
     "output_type": "stream",
     "text": [
      "There is no blood pressure data available during the extubated period.\n"
     ]
    },
    {
     "name": "stderr",
     "output_type": "stream",
     "text": [
      "PH3025 visit 1 failed: 'NoneType' object has no attribute 'copy'\n",
      "PH4062 visit 1 failed: 'NoneType' object has no attribute 'copy'\n"
     ]
    },
    {
     "name": "stdout",
     "output_type": "stream",
     "text": [
      "There is no blood pressure data available during the extubated period.\n",
      "There is no blood pressure data available during the extubated period.\n"
     ]
    },
    {
     "name": "stderr",
     "output_type": "stream",
     "text": [
      "PC1484 visit 1 failed: float division by zero\n",
      "PC1459 visit 1 failed: 'NoneType' object has no attribute 'copy'\n"
     ]
    },
    {
     "name": "stdout",
     "output_type": "stream",
     "text": [
      "There is no blood pressure data available during the extubated period.\n"
     ]
    },
    {
     "name": "stderr",
     "output_type": "stream",
     "text": [
      "PE2728 visit 1 failed: 'NoneType' object has no attribute 'copy'\n"
     ]
    },
    {
     "name": "stdout",
     "output_type": "stream",
     "text": [
      "There is no blood pressure data available during the extubated period.\n"
     ]
    },
    {
     "name": "stderr",
     "output_type": "stream",
     "text": [
      "PB0425 visit 1 failed: float division by zero\n",
      "PP3112 visit 1 failed: list index out of range\n",
      "PW2951 visit 1 failed: 'NoneType' object has no attribute 'copy'\n",
      "WR1634 visit 1 failed: 'NoneType' object has no attribute 'copy'\n",
      "WR3619 visit 1 failed: list index out of range\n",
      "WR1774 visit 1 failed: float division by zero\n",
      "WU0851 visit 1 failed: 'NoneType' object has no attribute 'copy'\n"
     ]
    },
    {
     "name": "stdout",
     "output_type": "stream",
     "text": [
      "There is no blood pressure data available during the extubated period.\n",
      "There is no blood pressure data available during the extubated period.\n",
      "There is no blood pressure data available during the extubated period.\n"
     ]
    },
    {
     "name": "stderr",
     "output_type": "stream",
     "text": [
      "WI1670 visit 1 failed: 'NoneType' object has no attribute 'copy'\n"
     ]
    },
    {
     "name": "stdout",
     "output_type": "stream",
     "text": [
      "There is no blood pressure data available during the extubated period.\n"
     ]
    },
    {
     "name": "stderr",
     "output_type": "stream",
     "text": [
      "WN3482 visit 1 failed: 'NoneType' object has no attribute 'copy'\n"
     ]
    },
    {
     "name": "stdout",
     "output_type": "stream",
     "text": [
      "There is no blood pressure data available during the extubated period.\n"
     ]
    },
    {
     "name": "stderr",
     "output_type": "stream",
     "text": [
      "WT2392 visit 1 failed: float division by zero\n",
      "WA3344 visit 1 failed: 'NoneType' object has no attribute 'copy'\n"
     ]
    },
    {
     "name": "stdout",
     "output_type": "stream",
     "text": [
      "There is no blood pressure data available during the extubated period.\n"
     ]
    },
    {
     "name": "stderr",
     "output_type": "stream",
     "text": [
      "WA0767 visit 1 failed: 'NoneType' object has no attribute 'copy'\n",
      "WA3543 visit 1 failed: 'NoneType' object has no attribute 'copy'\n"
     ]
    },
    {
     "name": "stdout",
     "output_type": "stream",
     "text": [
      "There is no blood pressure data available during the extubated period.\n",
      "There is no blood pressure data available during the extubated period.\n"
     ]
    },
    {
     "name": "stderr",
     "output_type": "stream",
     "text": [
      "WO2369 visit 1 failed: list index out of range\n",
      "WH3849 visit 1 failed: list index out of range\n",
      "WM2218 visit 1 failed: 'NoneType' object has no attribute 'copy'\n",
      "WM1819 visit 1 failed: float division by zero\n"
     ]
    },
    {
     "name": "stdout",
     "output_type": "stream",
     "text": [
      "There is no blood pressure data available during the extubated period.\n"
     ]
    },
    {
     "name": "stderr",
     "output_type": "stream",
     "text": [
      "WV0832 visit 1 failed: 'NoneType' object has no attribute 'copy'\n"
     ]
    },
    {
     "name": "stdout",
     "output_type": "stream",
     "text": [
      "There is no blood pressure data available during the extubated period.\n"
     ]
    },
    {
     "name": "stderr",
     "output_type": "stream",
     "text": [
      "WV2604 visit 1 failed: 'NoneType' object has no attribute 'copy'\n"
     ]
    },
    {
     "name": "stdout",
     "output_type": "stream",
     "text": [
      "There is no blood pressure data available during the extubated period.\n"
     ]
    },
    {
     "name": "stderr",
     "output_type": "stream",
     "text": [
      "WQ0872 visit 1 failed: 'NoneType' object has no attribute 'copy'\n"
     ]
    },
    {
     "name": "stdout",
     "output_type": "stream",
     "text": [
      "There is no blood pressure data available during the extubated period.\n"
     ]
    },
    {
     "name": "stderr",
     "output_type": "stream",
     "text": [
      "WX1717 visit 1 failed: float division by zero\n",
      "WB0858 visit 1 failed: 'NoneType' object has no attribute 'copy'\n"
     ]
    },
    {
     "name": "stdout",
     "output_type": "stream",
     "text": [
      "There is no blood pressure data available during the extubated period.\n"
     ]
    },
    {
     "name": "stderr",
     "output_type": "stream",
     "text": [
      "WK2025 visit 1 failed: 'NoneType' object has no attribute 'copy'\n",
      "WK3216 visit 1 failed: 'NoneType' object has no attribute 'copy'\n",
      "WK1266 visit 1 failed: list index out of range\n"
     ]
    },
    {
     "name": "stdout",
     "output_type": "stream",
     "text": [
      "There is no blood pressure data available during the extubated period.\n",
      "There is no blood pressure data available during the extubated period.\n"
     ]
    },
    {
     "name": "stderr",
     "output_type": "stream",
     "text": [
      "WP0322 visit 1 failed: 'NoneType' object has no attribute 'copy'\n"
     ]
    },
    {
     "name": "stdout",
     "output_type": "stream",
     "text": [
      "There is no blood pressure data available during the extubated period.\n"
     ]
    },
    {
     "name": "stderr",
     "output_type": "stream",
     "text": [
      "RU3374 visit 2 failed: 'NoneType' object has no attribute 'copy'\n"
     ]
    },
    {
     "name": "stdout",
     "output_type": "stream",
     "text": [
      "There is no blood pressure data available during the extubated period.\n"
     ]
    },
    {
     "name": "stderr",
     "output_type": "stream",
     "text": [
      "RF3191 visit 2 failed: 'NoneType' object has no attribute 'copy'\n"
     ]
    },
    {
     "name": "stdout",
     "output_type": "stream",
     "text": [
      "There is no blood pressure data available during the extubated period.\n"
     ]
    },
    {
     "name": "stderr",
     "output_type": "stream",
     "text": [
      "UI2772 visit 2 failed: 'NoneType' object has no attribute 'copy'\n",
      "UZ3879 visit 2 failed: float division by zero\n"
     ]
    },
    {
     "name": "stdout",
     "output_type": "stream",
     "text": [
      "There is no blood pressure data available during the extubated period.\n"
     ]
    },
    {
     "name": "stderr",
     "output_type": "stream",
     "text": [
      "UM3274 visit 2 failed: 'NoneType' object has no attribute 'copy'\n"
     ]
    },
    {
     "name": "stdout",
     "output_type": "stream",
     "text": [
      "There is no blood pressure data available during the extubated period.\n"
     ]
    },
    {
     "name": "stderr",
     "output_type": "stream",
     "text": [
      "UE1977 visit 2 failed: 'NoneType' object has no attribute 'copy'\n"
     ]
    },
    {
     "name": "stdout",
     "output_type": "stream",
     "text": [
      "There is no blood pressure data available during the extubated period.\n"
     ]
    },
    {
     "name": "stderr",
     "output_type": "stream",
     "text": [
      "UP3135 visit 2 failed: 'NoneType' object has no attribute 'copy'\n"
     ]
    },
    {
     "name": "stdout",
     "output_type": "stream",
     "text": [
      "There is no blood pressure data available during the extubated period.\n"
     ]
    },
    {
     "name": "stderr",
     "output_type": "stream",
     "text": [
      "II2900 visit 2 failed: 'NoneType' object has no attribute 'copy'\n",
      "IO2933 visit 2 failed: list index out of range\n"
     ]
    },
    {
     "name": "stdout",
     "output_type": "stream",
     "text": [
      "There is no blood pressure data available during the extubated period.\n"
     ]
    },
    {
     "name": "stderr",
     "output_type": "stream",
     "text": [
      "NG4060 visit 2 failed: 'NoneType' object has no attribute 'copy'\n"
     ]
    },
    {
     "name": "stdout",
     "output_type": "stream",
     "text": [
      "There is no blood pressure data available during the extubated period.\n"
     ]
    },
    {
     "name": "stderr",
     "output_type": "stream",
     "text": [
      "NO0745 visit 2 failed: 'NoneType' object has no attribute 'copy'\n"
     ]
    },
    {
     "name": "stdout",
     "output_type": "stream",
     "text": [
      "There is no blood pressure data available during the extubated period.\n"
     ]
    },
    {
     "name": "stderr",
     "output_type": "stream",
     "text": [
      "NB0532 visit 2 failed: list index out of range\n",
      "GF0332 visit 2 failed: 'NoneType' object has no attribute 'copy'\n"
     ]
    },
    {
     "name": "stdout",
     "output_type": "stream",
     "text": [
      "There is no blood pressure data available during the extubated period.\n"
     ]
    },
    {
     "name": "stderr",
     "output_type": "stream",
     "text": [
      "GX3384 visit 2 failed: float division by zero\n",
      "ZI0001 visit 2 failed: list index out of range\n",
      "ZZ3819 visit 2 failed: 'NoneType' object has no attribute 'copy'\n"
     ]
    },
    {
     "name": "stdout",
     "output_type": "stream",
     "text": [
      "There is no blood pressure data available during the extubated period.\n"
     ]
    },
    {
     "name": "stderr",
     "output_type": "stream",
     "text": [
      "ZV2143 visit 2 failed: 'NoneType' object has no attribute 'copy'\n"
     ]
    },
    {
     "name": "stdout",
     "output_type": "stream",
     "text": [
      "There is no blood pressure data available during the extubated period.\n"
     ]
    },
    {
     "name": "stderr",
     "output_type": "stream",
     "text": [
      "ZK0210 visit 2 failed: 'NoneType' object has no attribute 'copy'\n"
     ]
    },
    {
     "name": "stdout",
     "output_type": "stream",
     "text": [
      "There is no blood pressure data available during the extubated period.\n"
     ]
    },
    {
     "name": "stderr",
     "output_type": "stream",
     "text": [
      "TM3407 visit 2 failed: list index out of range\n",
      "TB3584 visit 2 failed: 'NoneType' object has no attribute 'copy'\n"
     ]
    },
    {
     "name": "stdout",
     "output_type": "stream",
     "text": [
      "There is no blood pressure data available during the extubated period.\n"
     ]
    },
    {
     "name": "stderr",
     "output_type": "stream",
     "text": [
      "SR3669 visit 2 failed: float division by zero\n",
      "SG0415 visit 2 failed: list index out of range\n",
      "SJ1282 visit 2 failed: 'NoneType' object has no attribute 'copy'\n"
     ]
    },
    {
     "name": "stdout",
     "output_type": "stream",
     "text": [
      "There is no blood pressure data available during the extubated period.\n"
     ]
    },
    {
     "name": "stderr",
     "output_type": "stream",
     "text": [
      "SY1360 visit 2 failed: float division by zero\n",
      "SW3127 visit 2 failed: 'NoneType' object has no attribute 'copy'\n",
      "AR1658 visit 2 failed: 'NoneType' object has no attribute 'copy'\n"
     ]
    },
    {
     "name": "stdout",
     "output_type": "stream",
     "text": [
      "There is no blood pressure data available during the extubated period.\n",
      "There is no blood pressure data available during the extubated period.\n"
     ]
    },
    {
     "name": "stderr",
     "output_type": "stream",
     "text": [
      "AX2574 visit 2 failed: list index out of range\n",
      "FN1631 visit 2 failed: 'NoneType' object has no attribute 'copy'\n"
     ]
    },
    {
     "name": "stdout",
     "output_type": "stream",
     "text": [
      "There is no blood pressure data available during the extubated period.\n"
     ]
    },
    {
     "name": "stderr",
     "output_type": "stream",
     "text": [
      "FA3665 visit 2 failed: 'NoneType' object has no attribute 'copy'\n"
     ]
    },
    {
     "name": "stdout",
     "output_type": "stream",
     "text": [
      "There is no blood pressure data available during the extubated period.\n"
     ]
    },
    {
     "name": "stderr",
     "output_type": "stream",
     "text": [
      "FQ0243 visit 2 failed: 'NoneType' object has no attribute 'copy'\n",
      "FX3187 visit 2 failed: list index out of range\n",
      "FB0142 visit 2 failed: list index out of range\n"
     ]
    },
    {
     "name": "stdout",
     "output_type": "stream",
     "text": [
      "There is no blood pressure data available during the extubated period.\n"
     ]
    },
    {
     "name": "stderr",
     "output_type": "stream",
     "text": [
      "OX1965 visit 2 failed: 'NoneType' object has no attribute 'copy'\n"
     ]
    },
    {
     "name": "stdout",
     "output_type": "stream",
     "text": [
      "There is no blood pressure data available during the extubated period.\n"
     ]
    },
    {
     "name": "stderr",
     "output_type": "stream",
     "text": [
      "OP3050 visit 2 failed: list index out of range\n",
      "HI2811 visit 2 failed: float division by zero\n",
      "HN2879 visit 2 failed: list index out of range\n",
      "HG1370 visit 2 failed: 'NoneType' object has no attribute 'copy'\n",
      "HF1930 visit 2 failed: 'NoneType' object has no attribute 'copy'\n"
     ]
    },
    {
     "name": "stdout",
     "output_type": "stream",
     "text": [
      "There is no blood pressure data available during the extubated period.\n",
      "There is no blood pressure data available during the extubated period.\n"
     ]
    },
    {
     "name": "stderr",
     "output_type": "stream",
     "text": [
      "HH3397 visit 2 failed: 'NoneType' object has no attribute 'copy'\n",
      "HH2517 visit 2 failed: list index out of range\n",
      "HM3001 visit 2 failed: list index out of range\n"
     ]
    },
    {
     "name": "stdout",
     "output_type": "stream",
     "text": [
      "There is no blood pressure data available during the extubated period.\n"
     ]
    },
    {
     "name": "stderr",
     "output_type": "stream",
     "text": [
      "HX1195 visit 2 failed: 'NoneType' object has no attribute 'copy'\n",
      "HW3210 visit 2 failed: 'NoneType' object has no attribute 'copy'\n",
      "MO2268 visit 2 failed: 'NoneType' object has no attribute 'copy'\n"
     ]
    },
    {
     "name": "stdout",
     "output_type": "stream",
     "text": [
      "There is no blood pressure data available during the extubated period.\n",
      "There is no blood pressure data available during the extubated period.\n",
      "There is no blood pressure data available during the extubated period.\n"
     ]
    },
    {
     "name": "stderr",
     "output_type": "stream",
     "text": [
      "MB2234 visit 2 failed: 'NoneType' object has no attribute 'copy'\n",
      "MB1161 visit 2 failed: 'NoneType' object has no attribute 'copy'\n"
     ]
    },
    {
     "name": "stdout",
     "output_type": "stream",
     "text": [
      "There is no blood pressure data available during the extubated period.\n",
      "There is no blood pressure data available during the extubated period.\n"
     ]
    },
    {
     "name": "stderr",
     "output_type": "stream",
     "text": [
      "JU3188 visit 2 failed: 'NoneType' object has no attribute 'copy'\n"
     ]
    },
    {
     "name": "stdout",
     "output_type": "stream",
     "text": [
      "There is no blood pressure data available during the extubated period.\n"
     ]
    },
    {
     "name": "stderr",
     "output_type": "stream",
     "text": [
      "JN0830 visit 2 failed: 'NoneType' object has no attribute 'copy'\n"
     ]
    },
    {
     "name": "stdout",
     "output_type": "stream",
     "text": [
      "There is no blood pressure data available during the extubated period.\n"
     ]
    },
    {
     "name": "stderr",
     "output_type": "stream",
     "text": [
      "JA2458 visit 2 failed: 'NoneType' object has no attribute 'copy'\n"
     ]
    },
    {
     "name": "stdout",
     "output_type": "stream",
     "text": [
      "There is no blood pressure data available during the extubated period.\n"
     ]
    },
    {
     "name": "stderr",
     "output_type": "stream",
     "text": [
      "JF3629 visit 2 failed: 'NoneType' object has no attribute 'copy'\n",
      "JF0436 visit 2 failed: 'NoneType' object has no attribute 'copy'\n"
     ]
    },
    {
     "name": "stdout",
     "output_type": "stream",
     "text": [
      "There is no blood pressure data available during the extubated period.\n",
      "There is no blood pressure data available during the extubated period.\n"
     ]
    },
    {
     "name": "stderr",
     "output_type": "stream",
     "text": [
      "JO1154 visit 2 failed: 'NoneType' object has no attribute 'copy'\n",
      "JC3990 visit 2 failed: 'NoneType' object has no attribute 'copy'\n"
     ]
    },
    {
     "name": "stdout",
     "output_type": "stream",
     "text": [
      "There is no blood pressure data available during the extubated period.\n",
      "There is no blood pressure data available during the extubated period.\n"
     ]
    },
    {
     "name": "stderr",
     "output_type": "stream",
     "text": [
      "JV2802 visit 2 failed: list index out of range\n",
      "JL1921 visit 2 failed: list index out of range\n",
      "JY0954 visit 2 failed: 'NoneType' object has no attribute 'copy'\n",
      "JP3087 visit 2 failed: 'NoneType' object has no attribute 'copy'\n"
     ]
    },
    {
     "name": "stdout",
     "output_type": "stream",
     "text": [
      "There is no blood pressure data available during the extubated period.\n",
      "There is no blood pressure data available during the extubated period.\n"
     ]
    },
    {
     "name": "stderr",
     "output_type": "stream",
     "text": [
      "JW2886 visit 2 failed: 'NoneType' object has no attribute 'copy'\n"
     ]
    },
    {
     "name": "stdout",
     "output_type": "stream",
     "text": [
      "There is no blood pressure data available during the extubated period.\n"
     ]
    },
    {
     "name": "stderr",
     "output_type": "stream",
     "text": [
      "CT0571 visit 2 failed: list index out of range\n",
      "DR2183 visit 2 failed: list index out of range\n",
      "DI3758 visit 2 failed: 'NoneType' object has no attribute 'copy'\n"
     ]
    },
    {
     "name": "stdout",
     "output_type": "stream",
     "text": [
      "There is no blood pressure data available during the extubated period.\n"
     ]
    },
    {
     "name": "stderr",
     "output_type": "stream",
     "text": [
      "DT1883 visit 2 failed: float division by zero\n",
      "DC3605 visit 2 failed: 'NoneType' object has no attribute 'copy'\n"
     ]
    },
    {
     "name": "stdout",
     "output_type": "stream",
     "text": [
      "There is no blood pressure data available during the extubated period.\n"
     ]
    },
    {
     "name": "stderr",
     "output_type": "stream",
     "text": [
      "DL1180 visit 2 failed: 'NoneType' object has no attribute 'copy'\n"
     ]
    },
    {
     "name": "stdout",
     "output_type": "stream",
     "text": [
      "There is no blood pressure data available during the extubated period.\n"
     ]
    },
    {
     "name": "stderr",
     "output_type": "stream",
     "text": [
      "VR4065 visit 2 failed: float division by zero\n",
      "VQ3902 visit 2 failed: 'NoneType' object has no attribute 'copy'\n"
     ]
    },
    {
     "name": "stdout",
     "output_type": "stream",
     "text": [
      "There is no blood pressure data available during the extubated period.\n"
     ]
    },
    {
     "name": "stderr",
     "output_type": "stream",
     "text": [
      "VB3080 visit 2 failed: float division by zero\n",
      "QG0833 visit 2 failed: list index out of range\n",
      "QF2129 visit 2 failed: list index out of range\n",
      "QV3251 visit 2 failed: list index out of range\n",
      "QV2851 visit 2 failed: 'NoneType' object has no attribute 'copy'\n",
      "QX3047 visit 2 failed: 'NoneType' object has no attribute 'copy'\n",
      "QY0226 visit 2 failed: 'NoneType' object has no attribute 'copy'\n"
     ]
    },
    {
     "name": "stdout",
     "output_type": "stream",
     "text": [
      "There is no blood pressure data available during the extubated period.\n",
      "There is no blood pressure data available during the extubated period.\n",
      "There is no blood pressure data available during the extubated period.\n"
     ]
    },
    {
     "name": "stderr",
     "output_type": "stream",
     "text": [
      "QW2457 visit 2 failed: float division by zero\n",
      "XR2694 visit 2 failed: 'NoneType' object has no attribute 'copy'\n"
     ]
    },
    {
     "name": "stdout",
     "output_type": "stream",
     "text": [
      "There is no blood pressure data available during the extubated period.\n"
     ]
    },
    {
     "name": "stderr",
     "output_type": "stream",
     "text": [
      "XF1055 visit 2 failed: 'NoneType' object has no attribute 'copy'\n"
     ]
    },
    {
     "name": "stdout",
     "output_type": "stream",
     "text": [
      "There is no blood pressure data available during the extubated period.\n"
     ]
    },
    {
     "name": "stderr",
     "output_type": "stream",
     "text": [
      "XM3322 visit 2 failed: 'NoneType' object has no attribute 'copy'\n",
      "XC1388 visit 2 failed: list index out of range\n"
     ]
    },
    {
     "name": "stdout",
     "output_type": "stream",
     "text": [
      "There is no blood pressure data available during the extubated period.\n"
     ]
    },
    {
     "name": "stderr",
     "output_type": "stream",
     "text": [
      "XX1525 visit 2 failed: 'NoneType' object has no attribute 'copy'\n"
     ]
    },
    {
     "name": "stdout",
     "output_type": "stream",
     "text": [
      "There is no blood pressure data available during the extubated period.\n"
     ]
    },
    {
     "name": "stderr",
     "output_type": "stream",
     "text": [
      "XL1553 visit 2 failed: list index out of range\n",
      "EN3335 visit 2 failed: 'NoneType' object has no attribute 'copy'\n"
     ]
    },
    {
     "name": "stdout",
     "output_type": "stream",
     "text": [
      "There is no blood pressure data available during the extubated period.\n"
     ]
    },
    {
     "name": "stderr",
     "output_type": "stream",
     "text": [
      "EA1186 visit 2 failed: 'NoneType' object has no attribute 'copy'\n"
     ]
    },
    {
     "name": "stdout",
     "output_type": "stream",
     "text": [
      "There is no blood pressure data available during the extubated period.\n"
     ]
    },
    {
     "name": "stderr",
     "output_type": "stream",
     "text": [
      "EF3271 visit 2 failed: list index out of range\n",
      "EM2092 visit 2 failed: 'NoneType' object has no attribute 'copy'\n"
     ]
    },
    {
     "name": "stdout",
     "output_type": "stream",
     "text": [
      "There is no blood pressure data available during the extubated period.\n"
     ]
    },
    {
     "name": "stderr",
     "output_type": "stream",
     "text": [
      "EJ3480 visit 2 failed: float division by zero\n",
      "EB2133 visit 2 failed: 'NoneType' object has no attribute 'copy'\n"
     ]
    },
    {
     "name": "stdout",
     "output_type": "stream",
     "text": [
      "There is no blood pressure data available during the extubated period.\n"
     ]
    },
    {
     "name": "stderr",
     "output_type": "stream",
     "text": [
      "EY3880 visit 2 failed: 'NoneType' object has no attribute 'copy'\n"
     ]
    },
    {
     "name": "stdout",
     "output_type": "stream",
     "text": [
      "There is no blood pressure data available during the extubated period.\n"
     ]
    },
    {
     "name": "stderr",
     "output_type": "stream",
     "text": [
      "BS1057 visit 2 failed: 'NoneType' object has no attribute 'copy'\n"
     ]
    },
    {
     "name": "stdout",
     "output_type": "stream",
     "text": [
      "There is no blood pressure data available during the extubated period.\n"
     ]
    },
    {
     "name": "stderr",
     "output_type": "stream",
     "text": [
      "BD3015 visit 2 failed: 'NoneType' object has no attribute 'copy'\n"
     ]
    },
    {
     "name": "stdout",
     "output_type": "stream",
     "text": [
      "There is no blood pressure data available during the extubated period.\n"
     ]
    },
    {
     "name": "stderr",
     "output_type": "stream",
     "text": [
      "BX1752 visit 2 failed: list index out of range\n",
      "KI0131 visit 2 failed: 'NoneType' object has no attribute 'copy'\n"
     ]
    },
    {
     "name": "stdout",
     "output_type": "stream",
     "text": [
      "There is no blood pressure data available during the extubated period.\n"
     ]
    },
    {
     "name": "stderr",
     "output_type": "stream",
     "text": [
      "KQ1501 visit 2 failed: list index out of range\n",
      "LZ1639 visit 2 failed: list index out of range\n",
      "LA1106 visit 2 failed: float division by zero\n",
      "LJ3633 visit 2 failed: 'NoneType' object has no attribute 'copy'\n",
      "LQ1384 visit 2 failed: 'NoneType' object has no attribute 'copy'\n",
      "LB2274 visit 2 failed: list index out of range\n",
      "LK3360 visit 2 failed: list index out of range\n"
     ]
    },
    {
     "name": "stdout",
     "output_type": "stream",
     "text": [
      "There is no blood pressure data available during the extubated period.\n",
      "There is no blood pressure data available during the extubated period.\n"
     ]
    },
    {
     "name": "stderr",
     "output_type": "stream",
     "text": [
      "LY3942 visit 2 failed: 'NoneType' object has no attribute 'copy'\n",
      "YR3611 visit 2 failed: list index out of range\n",
      "YR3736 visit 2 failed: 'NoneType' object has no attribute 'copy'\n"
     ]
    },
    {
     "name": "stdout",
     "output_type": "stream",
     "text": [
      "There is no blood pressure data available during the extubated period.\n",
      "There is no blood pressure data available during the extubated period.\n"
     ]
    },
    {
     "name": "stderr",
     "output_type": "stream",
     "text": [
      "YN0877 visit 2 failed: 'NoneType' object has no attribute 'copy'\n"
     ]
    },
    {
     "name": "stdout",
     "output_type": "stream",
     "text": [
      "There is no blood pressure data available during the extubated period.\n"
     ]
    },
    {
     "name": "stderr",
     "output_type": "stream",
     "text": [
      "YJ1585 visit 2 failed: list index out of range\n",
      "YD3777 visit 2 failed: list index out of range\n",
      "YX2562 visit 2 failed: 'NoneType' object has no attribute 'copy'\n"
     ]
    },
    {
     "name": "stdout",
     "output_type": "stream",
     "text": [
      "There is no blood pressure data available during the extubated period.\n"
     ]
    },
    {
     "name": "stderr",
     "output_type": "stream",
     "text": [
      "YY1571 visit 2 failed: 'NoneType' object has no attribute 'copy'\n"
     ]
    },
    {
     "name": "stdout",
     "output_type": "stream",
     "text": [
      "There is no blood pressure data available during the extubated period.\n"
     ]
    },
    {
     "name": "stderr",
     "output_type": "stream",
     "text": [
      "PA3979 visit 2 failed: 'NoneType' object has no attribute 'copy'\n",
      "PA3476 visit 2 failed: list index out of range\n"
     ]
    },
    {
     "name": "stdout",
     "output_type": "stream",
     "text": [
      "There is no blood pressure data available during the extubated period.\n"
     ]
    },
    {
     "name": "stderr",
     "output_type": "stream",
     "text": [
      "PV1781 visit 2 failed: 'NoneType' object has no attribute 'copy'\n"
     ]
    },
    {
     "name": "stdout",
     "output_type": "stream",
     "text": [
      "There is no blood pressure data available during the extubated period.\n"
     ]
    },
    {
     "name": "stderr",
     "output_type": "stream",
     "text": [
      "PK2813 visit 2 failed: 'NoneType' object has no attribute 'copy'\n",
      "PL0786 visit 2 failed: list index out of range\n"
     ]
    },
    {
     "name": "stdout",
     "output_type": "stream",
     "text": [
      "There is no blood pressure data available during the extubated period.\n"
     ]
    },
    {
     "name": "stderr",
     "output_type": "stream",
     "text": [
      "WF1607 visit 2 failed: 'NoneType' object has no attribute 'copy'\n"
     ]
    },
    {
     "name": "stdout",
     "output_type": "stream",
     "text": [
      "There is no blood pressure data available during the extubated period.\n"
     ]
    },
    {
     "name": "stderr",
     "output_type": "stream",
     "text": [
      "WD1817 visit 2 failed: 'NoneType' object has no attribute 'copy'\n"
     ]
    },
    {
     "name": "stdout",
     "output_type": "stream",
     "text": [
      "There is no blood pressure data available during the extubated period.\n"
     ]
    },
    {
     "name": "stderr",
     "output_type": "stream",
     "text": [
      "UG1136 visit 3 failed: 'NoneType' object has no attribute 'copy'\n"
     ]
    },
    {
     "name": "stdout",
     "output_type": "stream",
     "text": [
      "There is no blood pressure data available during the extubated period.\n"
     ]
    },
    {
     "name": "stderr",
     "output_type": "stream",
     "text": [
      "US1691 visit 3 failed: 'NoneType' object has no attribute 'copy'\n"
     ]
    },
    {
     "name": "stdout",
     "output_type": "stream",
     "text": [
      "There is no blood pressure data available during the extubated period.\n"
     ]
    },
    {
     "name": "stderr",
     "output_type": "stream",
     "text": [
      "NO0745 visit 3 failed: float division by zero\n",
      "GF0332 visit 3 failed: 'NoneType' object has no attribute 'copy'\n"
     ]
    },
    {
     "name": "stdout",
     "output_type": "stream",
     "text": [
      "There is no blood pressure data available during the extubated period.\n"
     ]
    },
    {
     "name": "stderr",
     "output_type": "stream",
     "text": [
      "GH2661 visit 3 failed: 'NoneType' object has no attribute 'copy'\n"
     ]
    },
    {
     "name": "stdout",
     "output_type": "stream",
     "text": [
      "There is no blood pressure data available during the extubated period.\n"
     ]
    },
    {
     "name": "stderr",
     "output_type": "stream",
     "text": [
      "ZV2143 visit 3 failed: 'NoneType' object has no attribute 'copy'\n"
     ]
    },
    {
     "name": "stdout",
     "output_type": "stream",
     "text": [
      "There is no blood pressure data available during the extubated period.\n"
     ]
    },
    {
     "name": "stderr",
     "output_type": "stream",
     "text": [
      "ZB2434 visit 3 failed: list index out of range\n",
      "TR1110 visit 3 failed: 'NoneType' object has no attribute 'copy'\n",
      "TU3561 visit 3 failed: 'NoneType' object has no attribute 'copy'\n",
      "TZ3016 visit 3 failed: 'NoneType' object has no attribute 'copy'\n"
     ]
    },
    {
     "name": "stdout",
     "output_type": "stream",
     "text": [
      "There is no blood pressure data available during the extubated period.\n",
      "There is no blood pressure data available during the extubated period.\n",
      "There is no blood pressure data available during the extubated period.\n"
     ]
    },
    {
     "name": "stderr",
     "output_type": "stream",
     "text": [
      "TM3407 visit 3 failed: list index out of range\n",
      "TL3114 visit 3 failed: list index out of range\n",
      "SF1521 visit 3 failed: list index out of range\n",
      "FL1153 visit 3 failed: list index out of range\n",
      "MO2561 visit 3 failed: 'NoneType' object has no attribute 'copy'\n",
      "MH1463 visit 3 failed: 'NoneType' object has no attribute 'copy'\n",
      "MC3521 visit 3 failed: 'NoneType' object has no attribute 'copy'\n",
      "MC3085 visit 3 failed: 'NoneType' object has no attribute 'copy'\n"
     ]
    },
    {
     "name": "stdout",
     "output_type": "stream",
     "text": [
      "There is no blood pressure data available during the extubated period.\n",
      "There is no blood pressure data available during the extubated period.\n",
      "There is no blood pressure data available during the extubated period.\n",
      "There is no blood pressure data available during the extubated period.\n"
     ]
    },
    {
     "name": "stderr",
     "output_type": "stream",
     "text": [
      "JZ0818 visit 3 failed: list index out of range\n",
      "JF3629 visit 3 failed: list index out of range\n",
      "JV2802 visit 3 failed: 'NoneType' object has no attribute 'copy'\n"
     ]
    },
    {
     "name": "stdout",
     "output_type": "stream",
     "text": [
      "There is no blood pressure data available during the extubated period.\n"
     ]
    },
    {
     "name": "stderr",
     "output_type": "stream",
     "text": [
      "JV2038 visit 3 failed: 'NoneType' object has no attribute 'copy'\n",
      "JY0954 visit 3 failed: 'NoneType' object has no attribute 'copy'\n",
      "JW1624 visit 3 failed: 'NoneType' object has no attribute 'copy'\n"
     ]
    },
    {
     "name": "stdout",
     "output_type": "stream",
     "text": [
      "There is no blood pressure data available during the extubated period.\n",
      "There is no blood pressure data available during the extubated period.\n",
      "There is no blood pressure data available during the extubated period.\n"
     ]
    },
    {
     "name": "stderr",
     "output_type": "stream",
     "text": [
      "DC3605 visit 3 failed: list index out of range\n",
      "DD1778 visit 3 failed: 'NoneType' object has no attribute 'copy'\n",
      "DX3720 visit 3 failed: 'NoneType' object has no attribute 'copy'\n",
      "DE0855 visit 3 failed: list index out of range\n"
     ]
    },
    {
     "name": "stdout",
     "output_type": "stream",
     "text": [
      "There is no blood pressure data available during the extubated period.\n",
      "There is no blood pressure data available during the extubated period.\n"
     ]
    },
    {
     "name": "stderr",
     "output_type": "stream",
     "text": [
      "VA1742 visit 3 failed: list index out of range\n",
      "VA1606 visit 3 failed: 'NoneType' object has no attribute 'copy'\n"
     ]
    },
    {
     "name": "stdout",
     "output_type": "stream",
     "text": [
      "There is no blood pressure data available during the extubated period.\n"
     ]
    },
    {
     "name": "stderr",
     "output_type": "stream",
     "text": [
      "VV2076 visit 3 failed: 'NoneType' object has no attribute 'copy'\n",
      "VV3912 visit 3 failed: list index out of range\n",
      "VQ3902 visit 3 failed: 'NoneType' object has no attribute 'copy'\n"
     ]
    },
    {
     "name": "stdout",
     "output_type": "stream",
     "text": [
      "There is no blood pressure data available during the extubated period.\n",
      "There is no blood pressure data available during the extubated period.\n"
     ]
    },
    {
     "name": "stderr",
     "output_type": "stream",
     "text": [
      "VW1487 visit 3 failed: 'NoneType' object has no attribute 'copy'\n",
      "QG3287 visit 3 failed: 'NoneType' object has no attribute 'copy'\n"
     ]
    },
    {
     "name": "stdout",
     "output_type": "stream",
     "text": [
      "There is no blood pressure data available during the extubated period.\n",
      "There is no blood pressure data available during the extubated period.\n"
     ]
    },
    {
     "name": "stderr",
     "output_type": "stream",
     "text": [
      "QH3453 visit 3 failed: list index out of range\n",
      "QY3232 visit 3 failed: list index out of range\n",
      "XX1525 visit 3 failed: 'NoneType' object has no attribute 'copy'\n"
     ]
    },
    {
     "name": "stdout",
     "output_type": "stream",
     "text": [
      "There is no blood pressure data available during the extubated period.\n"
     ]
    },
    {
     "name": "stderr",
     "output_type": "stream",
     "text": [
      "EB2133 visit 3 failed: list index out of range\n",
      "BR0715 visit 3 failed: float division by zero\n",
      "YI0684 visit 3 failed: list index out of range\n",
      "YN0900 visit 3 failed: 'NoneType' object has no attribute 'copy'\n"
     ]
    },
    {
     "name": "stdout",
     "output_type": "stream",
     "text": [
      "There is no blood pressure data available during the extubated period.\n"
     ]
    },
    {
     "name": "stderr",
     "output_type": "stream",
     "text": [
      "WV3677 visit 3 failed: list index out of range\n",
      "NI0065 visit 4 failed: list index out of range\n",
      "TH1671 visit 4 failed: 'NoneType' object has no attribute 'copy'\n",
      "TV1508 visit 4 failed: 'NoneType' object has no attribute 'copy'\n"
     ]
    },
    {
     "name": "stdout",
     "output_type": "stream",
     "text": [
      "There is no blood pressure data available during the extubated period.\n",
      "There is no blood pressure data available during the extubated period.\n"
     ]
    },
    {
     "name": "stderr",
     "output_type": "stream",
     "text": [
      "MB2234 visit 4 failed: float division by zero\n",
      "JY0954 visit 4 failed: 'NoneType' object has no attribute 'copy'\n",
      "CT3523 visit 4 failed: float division by zero\n",
      "CT0571 visit 4 failed: list index out of range\n"
     ]
    },
    {
     "name": "stdout",
     "output_type": "stream",
     "text": [
      "There is no blood pressure data available during the extubated period.\n"
     ]
    },
    {
     "name": "stderr",
     "output_type": "stream",
     "text": [
      "VO1955 visit 4 failed: 'NoneType' object has no attribute 'copy'\n",
      "VQ3902 visit 4 failed: 'NoneType' object has no attribute 'copy'\n"
     ]
    },
    {
     "name": "stdout",
     "output_type": "stream",
     "text": [
      "There is no blood pressure data available during the extubated period.\n",
      "There is no blood pressure data available during the extubated period.\n"
     ]
    },
    {
     "name": "stderr",
     "output_type": "stream",
     "text": [
      "EN3335 visit 4 failed: list index out of range\n",
      "EB2223 visit 4 failed: 'NoneType' object has no attribute 'copy'\n",
      "EB2133 visit 4 failed: list index out of range\n",
      "KZ0874 visit 4 failed: 'NoneType' object has no attribute 'copy'\n"
     ]
    },
    {
     "name": "stdout",
     "output_type": "stream",
     "text": [
      "There is no blood pressure data available during the extubated period.\n",
      "There is no blood pressure data available during the extubated period.\n"
     ]
    }
   ],
   "source": [
    "ac_abf_results_c2_partial = cohort2_pt1.ac_results(abf = True)"
   ]
  },
  {
   "cell_type": "code",
   "execution_count": 8,
   "metadata": {},
   "outputs": [],
   "source": [
    "ac_abf_results_c2_partial[0].to_csv('autocorrelation_abf_results_c2_partial.csv')"
   ]
  },
  {
   "cell_type": "code",
   "execution_count": null,
   "metadata": {},
   "outputs": [],
   "source": []
  }
 ],
 "metadata": {
  "kernelspec": {
   "display_name": "Python 3.8.12 ('base')",
   "language": "python",
   "name": "python3"
  },
  "language_info": {
   "codemirror_mode": {
    "name": "ipython",
    "version": 3
   },
   "file_extension": ".py",
   "mimetype": "text/x-python",
   "name": "python",
   "nbconvert_exporter": "python",
   "pygments_lexer": "ipython3",
   "version": "3.8.12"
  },
  "orig_nbformat": 4,
  "vscode": {
   "interpreter": {
    "hash": "908e60022c9d4979c292b8b79e14df3460174af298c7d4fb047b137ea57e6458"
   }
  }
 },
 "nbformat": 4,
 "nbformat_minor": 2
}
