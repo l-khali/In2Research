{
 "cells": [
  {
   "cell_type": "code",
   "execution_count": 1,
   "metadata": {},
   "outputs": [],
   "source": [
    "import numpy as np\n",
    "import pandas as pd\n",
    "from visits import Visit, Cohort, MissingDataError, holm_bonferroni\n",
    "import glob\n",
    "import pymannkendall as mk\n",
    "from datetime import datetime, timedelta"
   ]
  },
  {
   "cell_type": "code",
   "execution_count": 2,
   "metadata": {},
   "outputs": [],
   "source": [
    "cohort_1_details = pd.read_csv(\"cohort_1_details_v5.csv\", sep=',')\n",
    "cohort_2_details = pd.read_csv(\"cohort_2_details_v5.csv\", sep=',')\n",
    "cohort_3_details = pd.read_csv(\"cohort_3_details_v5.csv\", sep=',')\n",
    "cohort_4_details = pd.read_csv(\"cohort_4_details_v5.csv\", sep=',')"
   ]
  },
  {
   "cell_type": "code",
   "execution_count": 3,
   "metadata": {},
   "outputs": [],
   "source": [
    "path = \"../In2Research_data/data/\"\n",
    "\n",
    "all_files = glob.glob(path + \"/*\")\n",
    "\n",
    "cohort_dict = {1: [], 2: [], 3: [], 4: [],}\n",
    "\n",
    "for letter1 in all_files:\n",
    "    for letter2 in glob.glob(letter1 + \"/*\"):\n",
    "        for id in glob.glob(letter2 + \"/*\"):\n",
    "            if any(\"_1_\" in file for file in glob.glob(id + \"/*\")):\n",
    "                visit = Visit(id, 1, cohort_1_details, cohort_2_details, cohort_3_details, cohort_4_details)\n",
    "                if visit.cohort:\n",
    "                    cohort_dict[visit.cohort].append(visit)\n",
    "\n",
    "for letter1 in all_files:\n",
    "    for letter2 in glob.glob(letter1 + \"/*\"):\n",
    "        for id in glob.glob(letter2 + \"/*\"):\n",
    "            if any(\"_2_\" in file for file in glob.glob(id + \"/*\")):\n",
    "                visit = Visit(id, 2, cohort_1_details, cohort_2_details, cohort_3_details, cohort_4_details)\n",
    "                if visit.cohort:\n",
    "                    cohort_dict[visit.cohort].append(visit)\n",
    "\n",
    "for letter1 in all_files:\n",
    "    for letter2 in glob.glob(letter1 + \"/*\"):\n",
    "        for id in glob.glob(letter2 + \"/*\"):\n",
    "            if any(\"_3_\" in file for file in glob.glob(id + \"/*\")):\n",
    "                visit = Visit(id, 3, cohort_1_details, cohort_2_details, cohort_3_details, cohort_4_details)\n",
    "                if visit.cohort:\n",
    "                    cohort_dict[visit.cohort].append(visit)\n",
    "\n",
    "for letter1 in all_files:\n",
    "    for letter2 in glob.glob(letter1 + \"/*\"):\n",
    "        for id in glob.glob(letter2 + \"/*\"):\n",
    "            if any(\"_4_\" in file for file in glob.glob(id + \"/*\")):\n",
    "                visit = Visit(id, 4, cohort_1_details, cohort_2_details, cohort_3_details, cohort_4_details)\n",
    "                if visit.cohort:\n",
    "                    cohort_dict[visit.cohort].append(visit)\n",
    "\n",
    "for letter1 in all_files:\n",
    "    for letter2 in glob.glob(letter1 + \"/*\"):\n",
    "        for id in glob.glob(letter2 + \"/*\"):\n",
    "            if any(\"_5_\" in file for file in glob.glob(id + \"/*\")):\n",
    "                visit = Visit(id, 5, cohort_1_details, cohort_2_details, cohort_3_details, cohort_4_details)\n",
    "                if visit.cohort:\n",
    "                    cohort_dict[visit.cohort].append(visit)\n",
    "\n",
    "for letter1 in all_files:\n",
    "    for letter2 in glob.glob(letter1 + \"/*\"):\n",
    "        for id in glob.glob(letter2 + \"/*\"):\n",
    "            if any(\"_6_\" in file for file in glob.glob(id + \"/*\")):\n",
    "                visit = Visit(id, 6, cohort_1_details, cohort_2_details, cohort_3_details, cohort_4_details)\n",
    "                if visit.cohort:\n",
    "                    cohort_dict[visit.cohort].append(visit)\n",
    "\n",
    "for letter1 in all_files:\n",
    "    for letter2 in glob.glob(letter1 + \"/*\"):\n",
    "        for id in glob.glob(letter2 + \"/*\"):\n",
    "            if any(\"_7_\" in file for file in glob.glob(id + \"/*\")):\n",
    "                visit = Visit(id, 7, cohort_1_details, cohort_2_details, cohort_3_details, cohort_4_details)\n",
    "                if visit.cohort:\n",
    "                    cohort_dict[visit.cohort].append(visit)\n",
    "\n",
    "for letter1 in all_files:\n",
    "    for letter2 in glob.glob(letter1 + \"/*\"):\n",
    "        for id in glob.glob(letter2 + \"/*\"):\n",
    "            if any(\"_8_\" in file for file in glob.glob(id + \"/*\")):\n",
    "                visit = Visit(id, 8, cohort_1_details, cohort_2_details, cohort_3_details, cohort_4_details)\n",
    "                if visit.cohort:\n",
    "                    cohort_dict[visit.cohort].append(visit)"
   ]
  },
  {
   "cell_type": "code",
   "execution_count": 4,
   "metadata": {},
   "outputs": [],
   "source": [
    "cohort1 = Cohort(cohort_dict[1], 1)\n",
    "cohort2_pt1 = Cohort(cohort_dict[2][0:1970], 2)\n",
    "cohort2_pt2 = Cohort()"
   ]
  },
  {
   "cell_type": "code",
   "execution_count": 5,
   "metadata": {},
   "outputs": [
    {
     "name": "stderr",
     "output_type": "stream",
     "text": [
      "RD3976 visit 1 failed: 'NoneType' object has no attribute 'copy'\n"
     ]
    },
    {
     "name": "stdout",
     "output_type": "stream",
     "text": [
      "There is no blood pressure data available during the extubated period.\n"
     ]
    },
    {
     "name": "stderr",
     "output_type": "stream",
     "text": [
      "/Users/lucindakhalil/opt/anaconda3/lib/python3.8/site-packages/pandas/core/indexing.py:1732: SettingWithCopyWarning: \n",
      "A value is trying to be set on a copy of a slice from a DataFrame\n",
      "\n",
      "See the caveats in the documentation: https://pandas.pydata.org/pandas-docs/stable/user_guide/indexing.html#returning-a-view-versus-a-copy\n",
      "  self._setitem_single_block(indexer, value, name)\n",
      "RP0984 visit 1 failed: 'NoneType' object has no attribute 'copy'\n",
      "UI4061 visit 1 failed: float division by zero\n"
     ]
    },
    {
     "name": "stdout",
     "output_type": "stream",
     "text": [
      "There is no blood pressure data available during the extubated period.\n"
     ]
    },
    {
     "name": "stderr",
     "output_type": "stream",
     "text": [
      "UX1362 visit 1 failed: 'NoneType' object has no attribute 'copy'\n"
     ]
    },
    {
     "name": "stdout",
     "output_type": "stream",
     "text": [
      "There is no blood pressure data available during the extubated period.\n"
     ]
    },
    {
     "name": "stderr",
     "output_type": "stream",
     "text": [
      "IZ2966 visit 1 failed: 'NoneType' object has no attribute 'copy'\n"
     ]
    },
    {
     "name": "stdout",
     "output_type": "stream",
     "text": [
      "There is no blood pressure data available during the extubated period.\n"
     ]
    },
    {
     "name": "stderr",
     "output_type": "stream",
     "text": [
      "NQ3290 visit 1 failed: list index out of range\n",
      "NP1006 visit 1 failed: 'NoneType' object has no attribute 'copy'\n"
     ]
    },
    {
     "name": "stdout",
     "output_type": "stream",
     "text": [
      "There is no blood pressure data available during the extubated period.\n"
     ]
    },
    {
     "name": "stderr",
     "output_type": "stream",
     "text": [
      "GF1065 visit 1 failed: 'NoneType' object has no attribute 'copy'\n"
     ]
    },
    {
     "name": "stdout",
     "output_type": "stream",
     "text": [
      "There is no blood pressure data available during the extubated period.\n"
     ]
    },
    {
     "name": "stderr",
     "output_type": "stream",
     "text": [
      "ZW1285 visit 1 failed: 'NoneType' object has no attribute 'copy'\n",
      "TR1110 visit 1 failed: float division by zero\n"
     ]
    },
    {
     "name": "stdout",
     "output_type": "stream",
     "text": [
      "There is no blood pressure data available during the extubated period.\n"
     ]
    },
    {
     "name": "stderr",
     "output_type": "stream",
     "text": [
      "TI3785 visit 1 failed: 'NoneType' object has no attribute 'copy'\n",
      "TG1861 visit 1 failed: list index out of range\n",
      "TV4037 visit 1 failed: float division by zero\n"
     ]
    },
    {
     "name": "stdout",
     "output_type": "stream",
     "text": [
      "There is no blood pressure data available during the extubated period.\n"
     ]
    },
    {
     "name": "stderr",
     "output_type": "stream",
     "text": [
      "SZ0162 visit 1 failed: 'NoneType' object has no attribute 'copy'\n",
      "SQ1612 visit 1 failed: 'NoneType' object has no attribute 'copy'\n"
     ]
    },
    {
     "name": "stdout",
     "output_type": "stream",
     "text": [
      "There is no blood pressure data available during the extubated period.\n",
      "There is no blood pressure data available during the extubated period.\n"
     ]
    },
    {
     "name": "stderr",
     "output_type": "stream",
     "text": [
      "AS2377 visit 1 failed: list index out of range\n",
      "AY3292 visit 1 failed: list index out of range\n",
      "FN3246 visit 1 failed: float division by zero\n",
      "FE3652 visit 1 failed: 'NoneType' object has no attribute 'copy'\n"
     ]
    },
    {
     "name": "stdout",
     "output_type": "stream",
     "text": [
      "There is no blood pressure data available during the extubated period.\n"
     ]
    },
    {
     "name": "stderr",
     "output_type": "stream",
     "text": [
      "MG2402 visit 1 failed: list index out of range\n",
      "MV2170 visit 1 failed: 'NoneType' object has no attribute 'copy'\n"
     ]
    },
    {
     "name": "stdout",
     "output_type": "stream",
     "text": [
      "There is no blood pressure data available during the extubated period.\n"
     ]
    },
    {
     "name": "stderr",
     "output_type": "stream",
     "text": [
      "JZ0818 visit 1 failed: 'NoneType' object has no attribute 'copy'\n"
     ]
    },
    {
     "name": "stdout",
     "output_type": "stream",
     "text": [
      "There is no blood pressure data available during the extubated period.\n"
     ]
    },
    {
     "name": "stderr",
     "output_type": "stream",
     "text": [
      "JT1469 visit 1 failed: 'NoneType' object has no attribute 'copy'\n"
     ]
    },
    {
     "name": "stdout",
     "output_type": "stream",
     "text": [
      "There is no blood pressure data available during the extubated period.\n"
     ]
    },
    {
     "name": "stderr",
     "output_type": "stream",
     "text": [
      "JA2458 visit 1 failed: 'NoneType' object has no attribute 'copy'\n"
     ]
    },
    {
     "name": "stdout",
     "output_type": "stream",
     "text": [
      "There is no blood pressure data available during the extubated period.\n"
     ]
    },
    {
     "name": "stderr",
     "output_type": "stream",
     "text": [
      "DF3079 visit 1 failed: 'NoneType' object has no attribute 'copy'\n",
      "DM3147 visit 1 failed: 'NoneType' object has no attribute 'copy'\n",
      "DQ3738 visit 1 failed: 'NoneType' object has no attribute 'copy'\n"
     ]
    },
    {
     "name": "stdout",
     "output_type": "stream",
     "text": [
      "There is no blood pressure data available during the extubated period.\n",
      "There is no blood pressure data available during the extubated period.\n",
      "There is no blood pressure data available during the extubated period.\n"
     ]
    },
    {
     "name": "stderr",
     "output_type": "stream",
     "text": [
      "DE3827 visit 1 failed: 'NoneType' object has no attribute 'copy'\n"
     ]
    },
    {
     "name": "stdout",
     "output_type": "stream",
     "text": [
      "There is no blood pressure data available during the extubated period.\n"
     ]
    },
    {
     "name": "stderr",
     "output_type": "stream",
     "text": [
      "KZ2558 visit 1 failed: 'NoneType' object has no attribute 'copy'\n"
     ]
    },
    {
     "name": "stdout",
     "output_type": "stream",
     "text": [
      "There is no blood pressure data available during the extubated period.\n"
     ]
    },
    {
     "name": "stderr",
     "output_type": "stream",
     "text": [
      "LJ1685 visit 1 failed: 'NoneType' object has no attribute 'copy'\n",
      "LX3781 visit 1 failed: 'NoneType' object has no attribute 'copy'\n"
     ]
    },
    {
     "name": "stdout",
     "output_type": "stream",
     "text": [
      "There is no blood pressure data available during the extubated period.\n",
      "There is no blood pressure data available during the extubated period.\n"
     ]
    },
    {
     "name": "stderr",
     "output_type": "stream",
     "text": [
      "YE3158 visit 1 failed: 'NoneType' object has no attribute 'copy'\n"
     ]
    },
    {
     "name": "stdout",
     "output_type": "stream",
     "text": [
      "There is no blood pressure data available during the extubated period.\n"
     ]
    },
    {
     "name": "stderr",
     "output_type": "stream",
     "text": [
      "YK1293 visit 1 failed: float division by zero\n",
      "PL3964 visit 1 failed: 'NoneType' object has no attribute 'copy'\n"
     ]
    },
    {
     "name": "stdout",
     "output_type": "stream",
     "text": [
      "There is no blood pressure data available during the extubated period.\n"
     ]
    },
    {
     "name": "stderr",
     "output_type": "stream",
     "text": [
      "WS0898 visit 1 failed: 'NoneType' object has no attribute 'copy'\n",
      "WF2826 visit 1 failed: list index out of range\n",
      "WV3677 visit 1 failed: list index out of range\n"
     ]
    },
    {
     "name": "stdout",
     "output_type": "stream",
     "text": [
      "There is no blood pressure data available during the extubated period.\n"
     ]
    },
    {
     "name": "stderr",
     "output_type": "stream",
     "text": [
      "RZ3023 visit 2 failed: 'NoneType' object has no attribute 'copy'\n"
     ]
    },
    {
     "name": "stdout",
     "output_type": "stream",
     "text": [
      "There is no blood pressure data available during the extubated period.\n"
     ]
    },
    {
     "name": "stderr",
     "output_type": "stream",
     "text": [
      "MF2056 visit 2 failed: 'NoneType' object has no attribute 'copy'\n"
     ]
    },
    {
     "name": "stdout",
     "output_type": "stream",
     "text": [
      "There is no blood pressure data available during the extubated period.\n"
     ]
    },
    {
     "name": "stderr",
     "output_type": "stream",
     "text": [
      "VV3912 visit 2 failed: list index out of range\n",
      "QD2469 visit 2 failed: 'NoneType' object has no attribute 'copy'\n"
     ]
    },
    {
     "name": "stdout",
     "output_type": "stream",
     "text": [
      "There is no blood pressure data available during the extubated period.\n"
     ]
    },
    {
     "name": "stderr",
     "output_type": "stream",
     "text": [
      "LD3298 visit 2 failed: 'NoneType' object has no attribute 'copy'\n"
     ]
    },
    {
     "name": "stdout",
     "output_type": "stream",
     "text": [
      "There is no blood pressure data available during the extubated period.\n"
     ]
    },
    {
     "name": "stderr",
     "output_type": "stream",
     "text": [
      "PM2241 visit 2 failed: list index out of range\n",
      "WP0322 visit 2 failed: 'NoneType' object has no attribute 'copy'\n",
      "JA2458 visit 3 failed: 'NoneType' object has no attribute 'copy'\n",
      "LC1129 visit 3 failed: list index out of range\n",
      "YR3770 visit 3 failed: list index out of range\n",
      "WM2916 visit 3 failed: 'NoneType' object has no attribute 'copy'\n",
      "IC3651 visit 4 failed: 'NoneType' object has no attribute 'copy'\n"
     ]
    },
    {
     "name": "stdout",
     "output_type": "stream",
     "text": [
      "There is no blood pressure data available during the extubated period.\n",
      "There is no blood pressure data available during the extubated period.\n",
      "There is no blood pressure data available during the extubated period.\n",
      "There is no blood pressure data available during the extubated period.\n"
     ]
    },
    {
     "name": "stderr",
     "output_type": "stream",
     "text": [
      "SZ0828 visit 4 failed: 'NoneType' object has no attribute 'copy'\n",
      "CN1187 visit 4 failed: 'NoneType' object has no attribute 'copy'\n",
      "DD1778 visit 4 failed: 'NoneType' object has no attribute 'copy'\n",
      "ST0725 visit 5 failed: 'NoneType' object has no attribute 'copy'\n",
      "QY3232 visit 5 failed: 'NoneType' object has no attribute 'copy'\n"
     ]
    },
    {
     "name": "stdout",
     "output_type": "stream",
     "text": [
      "There is no blood pressure data available during the extubated period.\n",
      "There is no blood pressure data available during the extubated period.\n",
      "There is no blood pressure data available during the extubated period.\n",
      "There is no blood pressure data available during the extubated period.\n",
      "There is no blood pressure data available during the extubated period.\n"
     ]
    }
   ],
   "source": [
    "var_abf_results_c1 = cohort1.var_results(abf = True)\n"
   ]
  },
  {
   "cell_type": "code",
   "execution_count": 6,
   "metadata": {},
   "outputs": [
    {
     "name": "stderr",
     "output_type": "stream",
     "text": [
      "RR0519 visit 1 failed: list index out of range\n",
      "RU2915 visit 1 failed: list index out of range\n",
      "RI0135 visit 1 failed: 'NoneType' object has no attribute 'copy'\n"
     ]
    },
    {
     "name": "stdout",
     "output_type": "stream",
     "text": [
      "There is no blood pressure data available during the extubated period.\n"
     ]
    },
    {
     "name": "stderr",
     "output_type": "stream",
     "text": [
      "RZ2127 visit 1 failed: 'NoneType' object has no attribute 'copy'\n",
      "RZ3315 visit 1 failed: 'NoneType' object has no attribute 'copy'\n"
     ]
    },
    {
     "name": "stdout",
     "output_type": "stream",
     "text": [
      "There is no blood pressure data available during the extubated period.\n",
      "There is no blood pressure data available during the extubated period.\n"
     ]
    },
    {
     "name": "stderr",
     "output_type": "stream",
     "text": [
      "RT0368 visit 1 failed: 'NoneType' object has no attribute 'copy'\n"
     ]
    },
    {
     "name": "stdout",
     "output_type": "stream",
     "text": [
      "There is no blood pressure data available during the extubated period.\n"
     ]
    },
    {
     "name": "stderr",
     "output_type": "stream",
     "text": [
      "RT0309 visit 1 failed: list index out of range\n",
      "RJ4031 visit 1 failed: list index out of range\n",
      "RC1943 visit 1 failed: float division by zero\n",
      "RX3317 visit 1 failed: 'NoneType' object has no attribute 'copy'\n"
     ]
    },
    {
     "name": "stdout",
     "output_type": "stream",
     "text": [
      "There is no blood pressure data available during the extubated period.\n"
     ]
    },
    {
     "name": "stderr",
     "output_type": "stream",
     "text": [
      "RE1948 visit 1 failed: 'NoneType' object has no attribute 'copy'\n",
      "RB0988 visit 1 failed: 'NoneType' object has no attribute 'copy'\n"
     ]
    },
    {
     "name": "stdout",
     "output_type": "stream",
     "text": [
      "There is no blood pressure data available during the extubated period.\n",
      "There is no blood pressure data available during the extubated period.\n"
     ]
    },
    {
     "name": "stderr",
     "output_type": "stream",
     "text": [
      "RK2029 visit 1 failed: 'NoneType' object has no attribute 'copy'\n"
     ]
    },
    {
     "name": "stdout",
     "output_type": "stream",
     "text": [
      "There is no blood pressure data available during the extubated period.\n"
     ]
    },
    {
     "name": "stderr",
     "output_type": "stream",
     "text": [
      "RL2037 visit 1 failed: 'NoneType' object has no attribute 'copy'\n"
     ]
    },
    {
     "name": "stdout",
     "output_type": "stream",
     "text": [
      "There is no blood pressure data available during the extubated period.\n"
     ]
    },
    {
     "name": "stderr",
     "output_type": "stream",
     "text": [
      "RW2084 visit 1 failed: 'NoneType' object has no attribute 'copy'\n",
      "RW3992 visit 1 failed: 'NoneType' object has no attribute 'copy'\n",
      "RW2284 visit 1 failed: list index out of range\n"
     ]
    },
    {
     "name": "stdout",
     "output_type": "stream",
     "text": [
      "There is no blood pressure data available during the extubated period.\n",
      "There is no blood pressure data available during the extubated period.\n"
     ]
    },
    {
     "name": "stderr",
     "output_type": "stream",
     "text": [
      "UN3498 visit 1 failed: 'NoneType' object has no attribute 'copy'\n"
     ]
    },
    {
     "name": "stdout",
     "output_type": "stream",
     "text": [
      "There is no blood pressure data available during the extubated period.\n"
     ]
    },
    {
     "name": "stderr",
     "output_type": "stream",
     "text": [
      "US1342 visit 1 failed: list index out of range\n",
      "US3515 visit 1 failed: list index out of range\n",
      "UA3527 visit 1 failed: 'NoneType' object has no attribute 'copy'\n"
     ]
    },
    {
     "name": "stdout",
     "output_type": "stream",
     "text": [
      "There is no blood pressure data available during the extubated period.\n"
     ]
    },
    {
     "name": "stderr",
     "output_type": "stream",
     "text": [
      "UM0643 visit 1 failed: 'NoneType' object has no attribute 'copy'\n"
     ]
    },
    {
     "name": "stdout",
     "output_type": "stream",
     "text": [
      "There is no blood pressure data available during the extubated period.\n"
     ]
    },
    {
     "name": "stderr",
     "output_type": "stream",
     "text": [
      "UM3280 visit 1 failed: list index out of range\n",
      "UM3008 visit 1 failed: 'NoneType' object has no attribute 'copy'\n",
      "UM3452 visit 1 failed: list index out of range\n"
     ]
    },
    {
     "name": "stdout",
     "output_type": "stream",
     "text": [
      "There is no blood pressure data available during the extubated period.\n"
     ]
    },
    {
     "name": "stderr",
     "output_type": "stream",
     "text": [
      "UJ3013 visit 1 failed: float division by zero\n",
      "UJ2119 visit 1 failed: 'NoneType' object has no attribute 'copy'\n"
     ]
    },
    {
     "name": "stdout",
     "output_type": "stream",
     "text": [
      "There is no blood pressure data available during the extubated period.\n"
     ]
    },
    {
     "name": "stderr",
     "output_type": "stream",
     "text": [
      "UE2674 visit 1 failed: 'NoneType' object has no attribute 'copy'\n",
      "UE3639 visit 1 failed: 'NoneType' object has no attribute 'copy'\n"
     ]
    },
    {
     "name": "stdout",
     "output_type": "stream",
     "text": [
      "There is no blood pressure data available during the extubated period.\n",
      "There is no blood pressure data available during the extubated period.\n"
     ]
    },
    {
     "name": "stderr",
     "output_type": "stream",
     "text": [
      "UE0528 visit 1 failed: 'NoneType' object has no attribute 'copy'\n"
     ]
    },
    {
     "name": "stdout",
     "output_type": "stream",
     "text": [
      "There is no blood pressure data available during the extubated period.\n"
     ]
    },
    {
     "name": "stderr",
     "output_type": "stream",
     "text": [
      "UB1609 visit 1 failed: list index out of range\n",
      "UK1856 visit 1 failed: list index out of range\n",
      "UK3466 visit 1 failed: list index out of range\n",
      "UY1204 visit 1 failed: list index out of range\n",
      "UP2665 visit 1 failed: 'NoneType' object has no attribute 'copy'\n"
     ]
    },
    {
     "name": "stdout",
     "output_type": "stream",
     "text": [
      "There is no blood pressure data available during the extubated period.\n"
     ]
    },
    {
     "name": "stderr",
     "output_type": "stream",
     "text": [
      "UP1314 visit 1 failed: 'NoneType' object has no attribute 'copy'\n"
     ]
    },
    {
     "name": "stdout",
     "output_type": "stream",
     "text": [
      "There is no blood pressure data available during the extubated period.\n"
     ]
    },
    {
     "name": "stderr",
     "output_type": "stream",
     "text": [
      "IZ4102 visit 1 failed: list index out of range\n",
      "IT1073 visit 1 failed: list index out of range\n",
      "IO1916 visit 1 failed: 'NoneType' object has no attribute 'copy'\n"
     ]
    },
    {
     "name": "stdout",
     "output_type": "stream",
     "text": [
      "There is no blood pressure data available during the extubated period.\n"
     ]
    },
    {
     "name": "stderr",
     "output_type": "stream",
     "text": [
      "IJ3901 visit 1 failed: 'NoneType' object has no attribute 'copy'\n"
     ]
    },
    {
     "name": "stdout",
     "output_type": "stream",
     "text": [
      "There is no blood pressure data available during the extubated period.\n"
     ]
    },
    {
     "name": "stderr",
     "output_type": "stream",
     "text": [
      "IC3109 visit 1 failed: 'NoneType' object has no attribute 'copy'\n"
     ]
    },
    {
     "name": "stdout",
     "output_type": "stream",
     "text": [
      "There is no blood pressure data available during the extubated period.\n"
     ]
    },
    {
     "name": "stderr",
     "output_type": "stream",
     "text": [
      "IC3709 visit 1 failed: list index out of range\n",
      "ID1125 visit 1 failed: 'NoneType' object has no attribute 'copy'\n",
      "ID0698 visit 1 failed: list index out of range\n"
     ]
    },
    {
     "name": "stdout",
     "output_type": "stream",
     "text": [
      "There is no blood pressure data available during the extubated period.\n"
     ]
    },
    {
     "name": "stderr",
     "output_type": "stream",
     "text": [
      "IV3277 visit 1 failed: list index out of range\n",
      "IQ3266 visit 1 failed: 'NoneType' object has no attribute 'copy'\n"
     ]
    },
    {
     "name": "stdout",
     "output_type": "stream",
     "text": [
      "There is no blood pressure data available during the extubated period.\n"
     ]
    },
    {
     "name": "stderr",
     "output_type": "stream",
     "text": [
      "IE1464 visit 1 failed: list index out of range\n",
      "IK2985 visit 1 failed: list index out of range\n",
      "IY2686 visit 1 failed: list index out of range\n",
      "IY3478 visit 1 failed: list index out of range\n",
      "IY3545 visit 1 failed: 'NoneType' object has no attribute 'copy'\n",
      "IP3497 visit 1 failed: 'NoneType' object has no attribute 'copy'\n"
     ]
    },
    {
     "name": "stdout",
     "output_type": "stream",
     "text": [
      "There is no blood pressure data available during the extubated period.\n",
      "There is no blood pressure data available during the extubated period.\n"
     ]
    },
    {
     "name": "stderr",
     "output_type": "stream",
     "text": [
      "IW1663 visit 1 failed: 'NoneType' object has no attribute 'copy'\n"
     ]
    },
    {
     "name": "stdout",
     "output_type": "stream",
     "text": [
      "There is no blood pressure data available during the extubated period.\n"
     ]
    },
    {
     "name": "stderr",
     "output_type": "stream",
     "text": [
      "NR1208 visit 1 failed: float division by zero\n",
      "NU3183 visit 1 failed: 'NoneType' object has no attribute 'copy'\n"
     ]
    },
    {
     "name": "stdout",
     "output_type": "stream",
     "text": [
      "There is no blood pressure data available during the extubated period.\n"
     ]
    },
    {
     "name": "stderr",
     "output_type": "stream",
     "text": [
      "NT2611 visit 1 failed: 'NoneType' object has no attribute 'copy'\n"
     ]
    },
    {
     "name": "stdout",
     "output_type": "stream",
     "text": [
      "There is no blood pressure data available during the extubated period.\n"
     ]
    },
    {
     "name": "stderr",
     "output_type": "stream",
     "text": [
      "NF3332 visit 1 failed: list index out of range\n",
      "NF1576 visit 1 failed: 'NoneType' object has no attribute 'copy'\n"
     ]
    },
    {
     "name": "stdout",
     "output_type": "stream",
     "text": [
      "There is no blood pressure data available during the extubated period.\n"
     ]
    },
    {
     "name": "stderr",
     "output_type": "stream",
     "text": [
      "NO0745 visit 1 failed: float division by zero\n",
      "NJ1555 visit 1 failed: 'NoneType' object has no attribute 'copy'\n"
     ]
    },
    {
     "name": "stdout",
     "output_type": "stream",
     "text": [
      "There is no blood pressure data available during the extubated period.\n"
     ]
    },
    {
     "name": "stderr",
     "output_type": "stream",
     "text": [
      "NJ3690 visit 1 failed: 'NoneType' object has no attribute 'copy'\n",
      "NJ3685 visit 1 failed: float division by zero\n",
      "NC3248 visit 1 failed: 'NoneType' object has no attribute 'copy'\n"
     ]
    },
    {
     "name": "stdout",
     "output_type": "stream",
     "text": [
      "There is no blood pressure data available during the extubated period.\n",
      "There is no blood pressure data available during the extubated period.\n"
     ]
    },
    {
     "name": "stderr",
     "output_type": "stream",
     "text": [
      "NV0521 visit 1 failed: 'NoneType' object has no attribute 'copy'\n"
     ]
    },
    {
     "name": "stdout",
     "output_type": "stream",
     "text": [
      "There is no blood pressure data available during the extubated period.\n"
     ]
    },
    {
     "name": "stderr",
     "output_type": "stream",
     "text": [
      "NV3668 visit 1 failed: 'NoneType' object has no attribute 'copy'\n"
     ]
    },
    {
     "name": "stdout",
     "output_type": "stream",
     "text": [
      "There is no blood pressure data available during the extubated period.\n"
     ]
    },
    {
     "name": "stderr",
     "output_type": "stream",
     "text": [
      "NQ2638 visit 1 failed: 'NoneType' object has no attribute 'copy'\n"
     ]
    },
    {
     "name": "stdout",
     "output_type": "stream",
     "text": [
      "There is no blood pressure data available during the extubated period.\n"
     ]
    },
    {
     "name": "stderr",
     "output_type": "stream",
     "text": [
      "NB1832 visit 1 failed: list index out of range\n",
      "NB0532 visit 1 failed: 'NoneType' object has no attribute 'copy'\n",
      "NK2635 visit 1 failed: list index out of range\n",
      "NK2629 visit 1 failed: 'NoneType' object has no attribute 'copy'\n"
     ]
    },
    {
     "name": "stdout",
     "output_type": "stream",
     "text": [
      "There is no blood pressure data available during the extubated period.\n",
      "There is no blood pressure data available during the extubated period.\n"
     ]
    },
    {
     "name": "stderr",
     "output_type": "stream",
     "text": [
      "NW1579 visit 1 failed: 'NoneType' object has no attribute 'copy'\n"
     ]
    },
    {
     "name": "stdout",
     "output_type": "stream",
     "text": [
      "There is no blood pressure data available during the extubated period.\n"
     ]
    },
    {
     "name": "stderr",
     "output_type": "stream",
     "text": [
      "GU3635 visit 1 failed: 'NoneType' object has no attribute 'copy'\n"
     ]
    },
    {
     "name": "stdout",
     "output_type": "stream",
     "text": [
      "There is no blood pressure data available during the extubated period.\n"
     ]
    },
    {
     "name": "stderr",
     "output_type": "stream",
     "text": [
      "GI3169 visit 1 failed: 'NoneType' object has no attribute 'copy'\n",
      "GN2124 visit 1 failed: 'NoneType' object has no attribute 'copy'\n"
     ]
    },
    {
     "name": "stdout",
     "output_type": "stream",
     "text": [
      "There is no blood pressure data available during the extubated period.\n",
      "There is no blood pressure data available during the extubated period.\n"
     ]
    },
    {
     "name": "stderr",
     "output_type": "stream",
     "text": [
      "GG3284 visit 1 failed: list index out of range\n",
      "GS3981 visit 1 failed: list index out of range\n",
      "GF3324 visit 1 failed: 'NoneType' object has no attribute 'copy'\n"
     ]
    },
    {
     "name": "stdout",
     "output_type": "stream",
     "text": [
      "There is no blood pressure data available during the extubated period.\n"
     ]
    },
    {
     "name": "stderr",
     "output_type": "stream",
     "text": [
      "GC2921 visit 1 failed: 'NoneType' object has no attribute 'copy'\n"
     ]
    },
    {
     "name": "stdout",
     "output_type": "stream",
     "text": [
      "There is no blood pressure data available during the extubated period.\n"
     ]
    },
    {
     "name": "stderr",
     "output_type": "stream",
     "text": [
      "GD3613 visit 1 failed: 'NoneType' object has no attribute 'copy'\n",
      "GD3051 visit 1 failed: list index out of range\n"
     ]
    },
    {
     "name": "stdout",
     "output_type": "stream",
     "text": [
      "There is no blood pressure data available during the extubated period.\n"
     ]
    },
    {
     "name": "stderr",
     "output_type": "stream",
     "text": [
      "GV2526 visit 1 failed: list index out of range\n",
      "GX3384 visit 1 failed: 'NoneType' object has no attribute 'copy'\n"
     ]
    },
    {
     "name": "stdout",
     "output_type": "stream",
     "text": [
      "There is no blood pressure data available during the extubated period.\n"
     ]
    },
    {
     "name": "stderr",
     "output_type": "stream",
     "text": [
      "GX2022 visit 1 failed: 'NoneType' object has no attribute 'copy'\n",
      "GE0407 visit 1 failed: 'NoneType' object has no attribute 'copy'\n"
     ]
    },
    {
     "name": "stdout",
     "output_type": "stream",
     "text": [
      "There is no blood pressure data available during the extubated period.\n",
      "There is no blood pressure data available during the extubated period.\n"
     ]
    },
    {
     "name": "stderr",
     "output_type": "stream",
     "text": [
      "GK3586 visit 1 failed: 'NoneType' object has no attribute 'copy'\n"
     ]
    },
    {
     "name": "stdout",
     "output_type": "stream",
     "text": [
      "There is no blood pressure data available during the extubated period.\n"
     ]
    },
    {
     "name": "stderr",
     "output_type": "stream",
     "text": [
      "GW0170 visit 1 failed: 'NoneType' object has no attribute 'copy'\n"
     ]
    },
    {
     "name": "stdout",
     "output_type": "stream",
     "text": [
      "There is no blood pressure data available during the extubated period.\n"
     ]
    },
    {
     "name": "stderr",
     "output_type": "stream",
     "text": [
      "ZG2343 visit 1 failed: 'NoneType' object has no attribute 'copy'\n"
     ]
    },
    {
     "name": "stdout",
     "output_type": "stream",
     "text": [
      "There is no blood pressure data available during the extubated period.\n"
     ]
    },
    {
     "name": "stderr",
     "output_type": "stream",
     "text": [
      "ZG0432 visit 1 failed: 'NoneType' object has no attribute 'copy'\n"
     ]
    },
    {
     "name": "stdout",
     "output_type": "stream",
     "text": [
      "There is no blood pressure data available during the extubated period.\n"
     ]
    },
    {
     "name": "stderr",
     "output_type": "stream",
     "text": [
      "ZS1353 visit 1 failed: 'NoneType' object has no attribute 'copy'\n"
     ]
    },
    {
     "name": "stdout",
     "output_type": "stream",
     "text": [
      "There is no blood pressure data available during the extubated period.\n"
     ]
    },
    {
     "name": "stderr",
     "output_type": "stream",
     "text": [
      "ZF3608 visit 1 failed: 'NoneType' object has no attribute 'copy'\n",
      "ZF2945 visit 1 failed: 'NoneType' object has no attribute 'copy'\n"
     ]
    },
    {
     "name": "stdout",
     "output_type": "stream",
     "text": [
      "There is no blood pressure data available during the extubated period.\n",
      "There is no blood pressure data available during the extubated period.\n"
     ]
    },
    {
     "name": "stderr",
     "output_type": "stream",
     "text": [
      "ZO2262 visit 1 failed: 'NoneType' object has no attribute 'copy'\n"
     ]
    },
    {
     "name": "stdout",
     "output_type": "stream",
     "text": [
      "There is no blood pressure data available during the extubated period.\n"
     ]
    },
    {
     "name": "stderr",
     "output_type": "stream",
     "text": [
      "ZM3146 visit 1 failed: float division by zero\n",
      "ZJ3533 visit 1 failed: float division by zero\n",
      "ZC0478 visit 1 failed: float division by zero\n",
      "ZD3505 visit 1 failed: 'NoneType' object has no attribute 'copy'\n"
     ]
    },
    {
     "name": "stdout",
     "output_type": "stream",
     "text": [
      "There is no blood pressure data available during the extubated period.\n"
     ]
    },
    {
     "name": "stderr",
     "output_type": "stream",
     "text": [
      "ZV4114 visit 1 failed: list index out of range\n",
      "ZQ1945 visit 1 failed: list index out of range\n",
      "ZB2576 visit 1 failed: 'NoneType' object has no attribute 'copy'\n"
     ]
    },
    {
     "name": "stdout",
     "output_type": "stream",
     "text": [
      "There is no blood pressure data available during the extubated period.\n"
     ]
    },
    {
     "name": "stderr",
     "output_type": "stream",
     "text": [
      "ZK0210 visit 1 failed: 'NoneType' object has no attribute 'copy'\n",
      "ZK4076 visit 1 failed: list index out of range\n"
     ]
    },
    {
     "name": "stdout",
     "output_type": "stream",
     "text": [
      "There is no blood pressure data available during the extubated period.\n"
     ]
    },
    {
     "name": "stderr",
     "output_type": "stream",
     "text": [
      "ZL1090 visit 1 failed: 'NoneType' object has no attribute 'copy'\n"
     ]
    },
    {
     "name": "stdout",
     "output_type": "stream",
     "text": [
      "There is no blood pressure data available during the extubated period.\n"
     ]
    },
    {
     "name": "stderr",
     "output_type": "stream",
     "text": [
      "ZY2892 visit 1 failed: 'NoneType' object has no attribute 'copy'\n"
     ]
    },
    {
     "name": "stdout",
     "output_type": "stream",
     "text": [
      "There is no blood pressure data available during the extubated period.\n"
     ]
    },
    {
     "name": "stderr",
     "output_type": "stream",
     "text": [
      "ZP2767 visit 1 failed: 'NoneType' object has no attribute 'copy'\n"
     ]
    },
    {
     "name": "stdout",
     "output_type": "stream",
     "text": [
      "There is no blood pressure data available during the extubated period.\n"
     ]
    },
    {
     "name": "stderr",
     "output_type": "stream",
     "text": [
      "ZW0516 visit 1 failed: float division by zero\n",
      "TR3044 visit 1 failed: 'NoneType' object has no attribute 'copy'\n",
      "TU0726 visit 1 failed: 'NoneType' object has no attribute 'copy'\n"
     ]
    },
    {
     "name": "stdout",
     "output_type": "stream",
     "text": [
      "There is no blood pressure data available during the extubated period.\n",
      "There is no blood pressure data available during the extubated period.\n"
     ]
    },
    {
     "name": "stderr",
     "output_type": "stream",
     "text": [
      "TA1678 visit 1 failed: 'NoneType' object has no attribute 'copy'\n"
     ]
    },
    {
     "name": "stdout",
     "output_type": "stream",
     "text": [
      "There is no blood pressure data available during the extubated period.\n"
     ]
    },
    {
     "name": "stderr",
     "output_type": "stream",
     "text": [
      "TF3238 visit 1 failed: 'NoneType' object has no attribute 'copy'\n"
     ]
    },
    {
     "name": "stdout",
     "output_type": "stream",
     "text": [
      "There is no blood pressure data available during the extubated period.\n"
     ]
    },
    {
     "name": "stderr",
     "output_type": "stream",
     "text": [
      "TH1976 visit 1 failed: 'NoneType' object has no attribute 'copy'\n"
     ]
    },
    {
     "name": "stdout",
     "output_type": "stream",
     "text": [
      "There is no blood pressure data available during the extubated period.\n"
     ]
    },
    {
     "name": "stderr",
     "output_type": "stream",
     "text": [
      "TH3589 visit 1 failed: 'NoneType' object has no attribute 'copy'\n"
     ]
    },
    {
     "name": "stdout",
     "output_type": "stream",
     "text": [
      "There is no blood pressure data available during the extubated period.\n"
     ]
    },
    {
     "name": "stderr",
     "output_type": "stream",
     "text": [
      "TM1148 visit 1 failed: 'NoneType' object has no attribute 'copy'\n"
     ]
    },
    {
     "name": "stdout",
     "output_type": "stream",
     "text": [
      "There is no blood pressure data available during the extubated period.\n"
     ]
    },
    {
     "name": "stderr",
     "output_type": "stream",
     "text": [
      "TC1839 visit 1 failed: float division by zero\n",
      "TK1724 visit 1 failed: 'NoneType' object has no attribute 'copy'\n"
     ]
    },
    {
     "name": "stdout",
     "output_type": "stream",
     "text": [
      "There is no blood pressure data available during the extubated period.\n"
     ]
    },
    {
     "name": "stderr",
     "output_type": "stream",
     "text": [
      "TL2860 visit 1 failed: 'NoneType' object has no attribute 'copy'\n",
      "TY3304 visit 1 failed: list index out of range\n"
     ]
    },
    {
     "name": "stdout",
     "output_type": "stream",
     "text": [
      "There is no blood pressure data available during the extubated period.\n"
     ]
    },
    {
     "name": "stderr",
     "output_type": "stream",
     "text": [
      "TP4084 visit 1 failed: list index out of range\n",
      "TP3442 visit 1 failed: list index out of range\n",
      "TW3300 visit 1 failed: 'NoneType' object has no attribute 'copy'\n",
      "SU2929 visit 1 failed: 'NoneType' object has no attribute 'copy'\n",
      "SI3194 visit 1 failed: list index out of range\n",
      "SN3782 visit 1 failed: 'NoneType' object has no attribute 'copy'\n",
      "SG4021 visit 1 failed: list index out of range\n"
     ]
    },
    {
     "name": "stdout",
     "output_type": "stream",
     "text": [
      "There is no blood pressure data available during the extubated period.\n",
      "There is no blood pressure data available during the extubated period.\n",
      "There is no blood pressure data available during the extubated period.\n"
     ]
    },
    {
     "name": "stderr",
     "output_type": "stream",
     "text": [
      "SG3094 visit 1 failed: 'NoneType' object has no attribute 'copy'\n"
     ]
    },
    {
     "name": "stdout",
     "output_type": "stream",
     "text": [
      "There is no blood pressure data available during the extubated period.\n"
     ]
    },
    {
     "name": "stderr",
     "output_type": "stream",
     "text": [
      "SZ3712 visit 1 failed: 'NoneType' object has no attribute 'copy'\n"
     ]
    },
    {
     "name": "stdout",
     "output_type": "stream",
     "text": [
      "There is no blood pressure data available during the extubated period.\n"
     ]
    },
    {
     "name": "stderr",
     "output_type": "stream",
     "text": [
      "ST3520 visit 1 failed: 'NoneType' object has no attribute 'copy'\n"
     ]
    },
    {
     "name": "stdout",
     "output_type": "stream",
     "text": [
      "There is no blood pressure data available during the extubated period.\n"
     ]
    },
    {
     "name": "stderr",
     "output_type": "stream",
     "text": [
      "SA0106 visit 1 failed: 'NoneType' object has no attribute 'copy'\n"
     ]
    },
    {
     "name": "stdout",
     "output_type": "stream",
     "text": [
      "There is no blood pressure data available during the extubated period.\n"
     ]
    },
    {
     "name": "stderr",
     "output_type": "stream",
     "text": [
      "SF3936 visit 1 failed: 'NoneType' object has no attribute 'copy'\n"
     ]
    },
    {
     "name": "stdout",
     "output_type": "stream",
     "text": [
      "There is no blood pressure data available during the extubated period.\n"
     ]
    },
    {
     "name": "stderr",
     "output_type": "stream",
     "text": [
      "SF0266 visit 1 failed: 'NoneType' object has no attribute 'copy'\n"
     ]
    },
    {
     "name": "stdout",
     "output_type": "stream",
     "text": [
      "There is no blood pressure data available during the extubated period.\n"
     ]
    },
    {
     "name": "stderr",
     "output_type": "stream",
     "text": [
      "SJ3250 visit 1 failed: list index out of range\n",
      "SC1669 visit 1 failed: float division by zero\n",
      "SD0899 visit 1 failed: 'NoneType' object has no attribute 'copy'\n",
      "SD0624 visit 1 failed: float division by zero\n"
     ]
    },
    {
     "name": "stdout",
     "output_type": "stream",
     "text": [
      "There is no blood pressure data available during the extubated period.\n"
     ]
    },
    {
     "name": "stderr",
     "output_type": "stream",
     "text": [
      "SQ3401 visit 1 failed: float division by zero\n",
      "SQ0287 visit 1 failed: 'NoneType' object has no attribute 'copy'\n"
     ]
    },
    {
     "name": "stdout",
     "output_type": "stream",
     "text": [
      "There is no blood pressure data available during the extubated period.\n"
     ]
    },
    {
     "name": "stderr",
     "output_type": "stream",
     "text": [
      "SE3816 visit 1 failed: 'NoneType' object has no attribute 'copy'\n"
     ]
    },
    {
     "name": "stdout",
     "output_type": "stream",
     "text": [
      "There is no blood pressure data available during the extubated period.\n"
     ]
    },
    {
     "name": "stderr",
     "output_type": "stream",
     "text": [
      "SB2711 visit 1 failed: 'NoneType' object has no attribute 'copy'\n"
     ]
    },
    {
     "name": "stdout",
     "output_type": "stream",
     "text": [
      "There is no blood pressure data available during the extubated period.\n"
     ]
    },
    {
     "name": "stderr",
     "output_type": "stream",
     "text": [
      "SY0409 visit 1 failed: float division by zero\n",
      "SY3048 visit 1 failed: 'NoneType' object has no attribute 'copy'\n"
     ]
    },
    {
     "name": "stdout",
     "output_type": "stream",
     "text": [
      "There is no blood pressure data available during the extubated period.\n"
     ]
    },
    {
     "name": "stderr",
     "output_type": "stream",
     "text": [
      "SP3698 visit 1 failed: 'NoneType' object has no attribute 'copy'\n"
     ]
    },
    {
     "name": "stdout",
     "output_type": "stream",
     "text": [
      "There is no blood pressure data available during the extubated period.\n"
     ]
    },
    {
     "name": "stderr",
     "output_type": "stream",
     "text": [
      "AR0209 visit 1 failed: 'NoneType' object has no attribute 'copy'\n"
     ]
    },
    {
     "name": "stdout",
     "output_type": "stream",
     "text": [
      "There is no blood pressure data available during the extubated period.\n"
     ]
    },
    {
     "name": "stderr",
     "output_type": "stream",
     "text": [
      "AR1946 visit 1 failed: list index out of range\n",
      "AU0752 visit 1 failed: 'NoneType' object has no attribute 'copy'\n",
      "AI2582 visit 1 failed: float division by zero\n"
     ]
    },
    {
     "name": "stdout",
     "output_type": "stream",
     "text": [
      "There is no blood pressure data available during the extubated period.\n"
     ]
    },
    {
     "name": "stderr",
     "output_type": "stream",
     "text": [
      "AN3278 visit 1 failed: list index out of range\n",
      "AN1830 visit 1 failed: float division by zero\n",
      "AZ1749 visit 1 failed: 'NoneType' object has no attribute 'copy'\n"
     ]
    },
    {
     "name": "stdout",
     "output_type": "stream",
     "text": [
      "There is no blood pressure data available during the extubated period.\n"
     ]
    },
    {
     "name": "stderr",
     "output_type": "stream",
     "text": [
      "AA3219 visit 1 failed: 'NoneType' object has no attribute 'copy'\n"
     ]
    },
    {
     "name": "stdout",
     "output_type": "stream",
     "text": [
      "There is no blood pressure data available during the extubated period.\n"
     ]
    },
    {
     "name": "stderr",
     "output_type": "stream",
     "text": [
      "AF0951 visit 1 failed: 'NoneType' object has no attribute 'copy'\n"
     ]
    },
    {
     "name": "stdout",
     "output_type": "stream",
     "text": [
      "There is no blood pressure data available during the extubated period.\n"
     ]
    },
    {
     "name": "stderr",
     "output_type": "stream",
     "text": [
      "AH2759 visit 1 failed: float division by zero\n",
      "AC1846 visit 1 failed: list index out of range\n",
      "AD3256 visit 1 failed: list index out of range\n",
      "AD1926 visit 1 failed: 'NoneType' object has no attribute 'copy'\n"
     ]
    },
    {
     "name": "stdout",
     "output_type": "stream",
     "text": [
      "There is no blood pressure data available during the extubated period.\n"
     ]
    },
    {
     "name": "stderr",
     "output_type": "stream",
     "text": [
      "AV3769 visit 1 failed: 'NoneType' object has no attribute 'copy'\n"
     ]
    },
    {
     "name": "stdout",
     "output_type": "stream",
     "text": [
      "There is no blood pressure data available during the extubated period.\n"
     ]
    },
    {
     "name": "stderr",
     "output_type": "stream",
     "text": [
      "AX4020 visit 1 failed: list index out of range\n",
      "AX1597 visit 1 failed: 'NoneType' object has no attribute 'copy'\n",
      "AE3741 visit 1 failed: 'NoneType' object has no attribute 'copy'\n"
     ]
    },
    {
     "name": "stdout",
     "output_type": "stream",
     "text": [
      "There is no blood pressure data available during the extubated period.\n",
      "There is no blood pressure data available during the extubated period.\n"
     ]
    },
    {
     "name": "stderr",
     "output_type": "stream",
     "text": [
      "AL1386 visit 1 failed: 'NoneType' object has no attribute 'copy'\n",
      "AY0834 visit 1 failed: float division by zero\n"
     ]
    },
    {
     "name": "stdout",
     "output_type": "stream",
     "text": [
      "There is no blood pressure data available during the extubated period.\n"
     ]
    },
    {
     "name": "stderr",
     "output_type": "stream",
     "text": [
      "AY0729 visit 1 failed: float division by zero\n",
      "AP1899 visit 1 failed: 'NoneType' object has no attribute 'copy'\n"
     ]
    },
    {
     "name": "stdout",
     "output_type": "stream",
     "text": [
      "There is no blood pressure data available during the extubated period.\n"
     ]
    },
    {
     "name": "stderr",
     "output_type": "stream",
     "text": [
      "AW2590 visit 1 failed: list index out of range\n",
      "FR2990 visit 1 failed: float division by zero\n",
      "FN1641 visit 1 failed: list index out of range\n",
      "FZ0343 visit 1 failed: 'NoneType' object has no attribute 'copy'\n"
     ]
    },
    {
     "name": "stdout",
     "output_type": "stream",
     "text": [
      "There is no blood pressure data available during the extubated period.\n"
     ]
    },
    {
     "name": "stderr",
     "output_type": "stream",
     "text": [
      "FT0803 visit 1 failed: float division by zero\n",
      "FS1054 visit 1 failed: list index out of range\n",
      "FA1656 visit 1 failed: 'NoneType' object has no attribute 'copy'\n"
     ]
    },
    {
     "name": "stdout",
     "output_type": "stream",
     "text": [
      "There is no blood pressure data available during the extubated period.\n"
     ]
    },
    {
     "name": "stderr",
     "output_type": "stream",
     "text": [
      "FF1433 visit 1 failed: float division by zero\n",
      "FH2482 visit 1 failed: 'NoneType' object has no attribute 'copy'\n"
     ]
    },
    {
     "name": "stdout",
     "output_type": "stream",
     "text": [
      "There is no blood pressure data available during the extubated period.\n"
     ]
    },
    {
     "name": "stderr",
     "output_type": "stream",
     "text": [
      "FH0864 visit 1 failed: list index out of range\n",
      "FJ2987 visit 1 failed: 'NoneType' object has no attribute 'copy'\n"
     ]
    },
    {
     "name": "stdout",
     "output_type": "stream",
     "text": [
      "There is no blood pressure data available during the extubated period.\n"
     ]
    },
    {
     "name": "stderr",
     "output_type": "stream",
     "text": [
      "FQ1610 visit 1 failed: 'NoneType' object has no attribute 'copy'\n"
     ]
    },
    {
     "name": "stdout",
     "output_type": "stream",
     "text": [
      "There is no blood pressure data available during the extubated period.\n"
     ]
    },
    {
     "name": "stderr",
     "output_type": "stream",
     "text": [
      "FX2747 visit 1 failed: 'NoneType' object has no attribute 'copy'\n",
      "FE1630 visit 1 failed: 'NoneType' object has no attribute 'copy'\n"
     ]
    },
    {
     "name": "stdout",
     "output_type": "stream",
     "text": [
      "There is no blood pressure data available during the extubated period.\n",
      "There is no blood pressure data available during the extubated period.\n"
     ]
    },
    {
     "name": "stderr",
     "output_type": "stream",
     "text": [
      "FB3378 visit 1 failed: 'NoneType' object has no attribute 'copy'\n"
     ]
    },
    {
     "name": "stdout",
     "output_type": "stream",
     "text": [
      "There is no blood pressure data available during the extubated period.\n"
     ]
    },
    {
     "name": "stderr",
     "output_type": "stream",
     "text": [
      "FB1791 visit 1 failed: 'NoneType' object has no attribute 'copy'\n",
      "FB0448 visit 1 failed: float division by zero\n"
     ]
    },
    {
     "name": "stdout",
     "output_type": "stream",
     "text": [
      "There is no blood pressure data available during the extubated period.\n"
     ]
    },
    {
     "name": "stderr",
     "output_type": "stream",
     "text": [
      "FK0896 visit 1 failed: 'NoneType' object has no attribute 'copy'\n"
     ]
    },
    {
     "name": "stdout",
     "output_type": "stream",
     "text": [
      "There is no blood pressure data available during the extubated period.\n"
     ]
    },
    {
     "name": "stderr",
     "output_type": "stream",
     "text": [
      "FL1153 visit 1 failed: 'NoneType' object has no attribute 'copy'\n",
      "FY1319 visit 1 failed: 'NoneType' object has no attribute 'copy'\n"
     ]
    },
    {
     "name": "stdout",
     "output_type": "stream",
     "text": [
      "There is no blood pressure data available during the extubated period.\n",
      "There is no blood pressure data available during the extubated period.\n"
     ]
    },
    {
     "name": "stderr",
     "output_type": "stream",
     "text": [
      "FW1169 visit 1 failed: list index out of range\n",
      "OU2954 visit 1 failed: float division by zero\n",
      "OI3222 visit 1 failed: 'NoneType' object has no attribute 'copy'\n"
     ]
    },
    {
     "name": "stdout",
     "output_type": "stream",
     "text": [
      "There is no blood pressure data available during the extubated period.\n"
     ]
    },
    {
     "name": "stderr",
     "output_type": "stream",
     "text": [
      "ON0712 visit 1 failed: 'NoneType' object has no attribute 'copy'\n",
      "OG1572 visit 1 failed: 'NoneType' object has no attribute 'copy'\n"
     ]
    },
    {
     "name": "stdout",
     "output_type": "stream",
     "text": [
      "There is no blood pressure data available during the extubated period.\n",
      "There is no blood pressure data available during the extubated period.\n"
     ]
    },
    {
     "name": "stderr",
     "output_type": "stream",
     "text": [
      "OG2289 visit 1 failed: float division by zero\n",
      "OS3035 visit 1 failed: 'NoneType' object has no attribute 'copy'\n"
     ]
    },
    {
     "name": "stdout",
     "output_type": "stream",
     "text": [
      "There is no blood pressure data available during the extubated period.\n"
     ]
    },
    {
     "name": "stderr",
     "output_type": "stream",
     "text": [
      "OO2812 visit 1 failed: float division by zero\n",
      "OM3226 visit 1 failed: float division by zero\n",
      "OJ2281 visit 1 failed: 'NoneType' object has no attribute 'copy'\n"
     ]
    },
    {
     "name": "stdout",
     "output_type": "stream",
     "text": [
      "There is no blood pressure data available during the extubated period.\n"
     ]
    },
    {
     "name": "stderr",
     "output_type": "stream",
     "text": [
      "OD3985 visit 1 failed: 'NoneType' object has no attribute 'copy'\n"
     ]
    },
    {
     "name": "stdout",
     "output_type": "stream",
     "text": [
      "There is no blood pressure data available during the extubated period.\n"
     ]
    },
    {
     "name": "stderr",
     "output_type": "stream",
     "text": [
      "OV3971 visit 1 failed: 'NoneType' object has no attribute 'copy'\n",
      "OQ4006 visit 1 failed: list index out of range\n",
      "OQ3060 visit 1 failed: 'NoneType' object has no attribute 'copy'\n"
     ]
    },
    {
     "name": "stdout",
     "output_type": "stream",
     "text": [
      "There is no blood pressure data available during the extubated period.\n",
      "There is no blood pressure data available during the extubated period.\n"
     ]
    },
    {
     "name": "stderr",
     "output_type": "stream",
     "text": [
      "OE1168 visit 1 failed: 'NoneType' object has no attribute 'copy'\n",
      "OB1141 visit 1 failed: 'NoneType' object has no attribute 'copy'\n"
     ]
    },
    {
     "name": "stdout",
     "output_type": "stream",
     "text": [
      "There is no blood pressure data available during the extubated period.\n",
      "There is no blood pressure data available during the extubated period.\n"
     ]
    },
    {
     "name": "stderr",
     "output_type": "stream",
     "text": [
      "OL1730 visit 1 failed: 'NoneType' object has no attribute 'copy'\n"
     ]
    },
    {
     "name": "stdout",
     "output_type": "stream",
     "text": [
      "There is no blood pressure data available during the extubated period.\n"
     ]
    },
    {
     "name": "stderr",
     "output_type": "stream",
     "text": [
      "OY3282 visit 1 failed: 'NoneType' object has no attribute 'copy'\n"
     ]
    },
    {
     "name": "stdout",
     "output_type": "stream",
     "text": [
      "There is no blood pressure data available during the extubated period.\n"
     ]
    },
    {
     "name": "stderr",
     "output_type": "stream",
     "text": [
      "OW3722 visit 1 failed: 'NoneType' object has no attribute 'copy'\n"
     ]
    },
    {
     "name": "stdout",
     "output_type": "stream",
     "text": [
      "There is no blood pressure data available during the extubated period.\n"
     ]
    },
    {
     "name": "stderr",
     "output_type": "stream",
     "text": [
      "HU4019 visit 1 failed: list index out of range\n",
      "HN0978 visit 1 failed: 'NoneType' object has no attribute 'copy'\n",
      "HN3253 visit 1 failed: float division by zero\n"
     ]
    },
    {
     "name": "stdout",
     "output_type": "stream",
     "text": [
      "There is no blood pressure data available during the extubated period.\n"
     ]
    },
    {
     "name": "stderr",
     "output_type": "stream",
     "text": [
      "HG2720 visit 1 failed: 'NoneType' object has no attribute 'copy'\n"
     ]
    },
    {
     "name": "stdout",
     "output_type": "stream",
     "text": [
      "There is no blood pressure data available during the extubated period.\n"
     ]
    },
    {
     "name": "stderr",
     "output_type": "stream",
     "text": [
      "HA1706 visit 1 failed: list index out of range\n",
      "HF2005 visit 1 failed: float division by zero\n",
      "HF1183 visit 1 failed: 'NoneType' object has no attribute 'copy'\n",
      "HO2693 visit 1 failed: list index out of range\n"
     ]
    },
    {
     "name": "stdout",
     "output_type": "stream",
     "text": [
      "There is no blood pressure data available during the extubated period.\n"
     ]
    },
    {
     "name": "stderr",
     "output_type": "stream",
     "text": [
      "/Users/lucindakhalil/opt/anaconda3/lib/python3.8/site-packages/pymannkendall/pymannkendall.py:60: RuntimeWarning: invalid value encountered in true_divide\n",
      "  return acov[:nlags+1]/acov[0]\n",
      "HH3554 visit 1 failed: division by zero\n",
      "HH4091 visit 1 failed: list index out of range\n",
      "HM3001 visit 1 failed: 'NoneType' object has no attribute 'copy'\n"
     ]
    },
    {
     "name": "stdout",
     "output_type": "stream",
     "text": [
      "There is no blood pressure data available during the extubated period.\n"
     ]
    },
    {
     "name": "stderr",
     "output_type": "stream",
     "text": [
      "HD0846 visit 1 failed: list index out of range\n",
      "HV2515 visit 1 failed: 'NoneType' object has no attribute 'copy'\n",
      "HV1814 visit 1 failed: list index out of range\n"
     ]
    },
    {
     "name": "stdout",
     "output_type": "stream",
     "text": [
      "There is no blood pressure data available during the extubated period.\n"
     ]
    },
    {
     "name": "stderr",
     "output_type": "stream",
     "text": [
      "HX0093 visit 1 failed: 'NoneType' object has no attribute 'copy'\n",
      "HX1163 visit 1 failed: 'NoneType' object has no attribute 'copy'\n"
     ]
    },
    {
     "name": "stdout",
     "output_type": "stream",
     "text": [
      "There is no blood pressure data available during the extubated period.\n",
      "There is no blood pressure data available during the extubated period.\n"
     ]
    },
    {
     "name": "stderr",
     "output_type": "stream",
     "text": [
      "HK4117 visit 1 failed: 'NoneType' object has no attribute 'copy'\n",
      "HL0720 visit 1 failed: float division by zero\n"
     ]
    },
    {
     "name": "stdout",
     "output_type": "stream",
     "text": [
      "There is no blood pressure data available during the extubated period.\n"
     ]
    },
    {
     "name": "stderr",
     "output_type": "stream",
     "text": [
      "HW1171 visit 1 failed: 'NoneType' object has no attribute 'copy'\n"
     ]
    },
    {
     "name": "stdout",
     "output_type": "stream",
     "text": [
      "There is no blood pressure data available during the extubated period.\n"
     ]
    },
    {
     "name": "stderr",
     "output_type": "stream",
     "text": [
      "MU3616 visit 1 failed: list index out of range\n",
      "MI3404 visit 1 failed: 'NoneType' object has no attribute 'copy'\n",
      "MN1694 visit 1 failed: list index out of range\n"
     ]
    },
    {
     "name": "stdout",
     "output_type": "stream",
     "text": [
      "There is no blood pressure data available during the extubated period.\n"
     ]
    },
    {
     "name": "stderr",
     "output_type": "stream",
     "text": [
      "MZ3011 visit 1 failed: 'NoneType' object has no attribute 'copy'\n"
     ]
    },
    {
     "name": "stdout",
     "output_type": "stream",
     "text": [
      "There is no blood pressure data available during the extubated period.\n"
     ]
    },
    {
     "name": "stderr",
     "output_type": "stream",
     "text": [
      "MF2056 visit 1 failed: 'NoneType' object has no attribute 'copy'\n",
      "MF2044 visit 1 failed: list index out of range\n"
     ]
    },
    {
     "name": "stdout",
     "output_type": "stream",
     "text": [
      "There is no blood pressure data available during the extubated period.\n"
     ]
    },
    {
     "name": "stderr",
     "output_type": "stream",
     "text": [
      "MO0621 visit 1 failed: 'NoneType' object has no attribute 'copy'\n",
      "MO0677 visit 1 failed: list index out of range\n"
     ]
    },
    {
     "name": "stdout",
     "output_type": "stream",
     "text": [
      "There is no blood pressure data available during the extubated period.\n"
     ]
    },
    {
     "name": "stderr",
     "output_type": "stream",
     "text": [
      "MM3974 visit 1 failed: 'NoneType' object has no attribute 'copy'\n"
     ]
    },
    {
     "name": "stdout",
     "output_type": "stream",
     "text": [
      "There is no blood pressure data available during the extubated period.\n"
     ]
    },
    {
     "name": "stderr",
     "output_type": "stream",
     "text": [
      "MD3233 visit 1 failed: 'NoneType' object has no attribute 'copy'\n",
      "MV3090 visit 1 failed: 'NoneType' object has no attribute 'copy'\n"
     ]
    },
    {
     "name": "stdout",
     "output_type": "stream",
     "text": [
      "There is no blood pressure data available during the extubated period.\n",
      "There is no blood pressure data available during the extubated period.\n"
     ]
    },
    {
     "name": "stderr",
     "output_type": "stream",
     "text": [
      "MV3641 visit 1 failed: list index out of range\n",
      "MX3551 visit 1 failed: 'NoneType' object has no attribute 'copy'\n"
     ]
    },
    {
     "name": "stdout",
     "output_type": "stream",
     "text": [
      "There is no blood pressure data available during the extubated period.\n"
     ]
    },
    {
     "name": "stderr",
     "output_type": "stream",
     "text": [
      "ME3825 visit 1 failed: 'NoneType' object has no attribute 'copy'\n"
     ]
    },
    {
     "name": "stdout",
     "output_type": "stream",
     "text": [
      "There is no blood pressure data available during the extubated period.\n"
     ]
    },
    {
     "name": "stderr",
     "output_type": "stream",
     "text": [
      "MB1888 visit 1 failed: list index out of range\n",
      "MY3214 visit 1 failed: 'NoneType' object has no attribute 'copy'\n"
     ]
    },
    {
     "name": "stdout",
     "output_type": "stream",
     "text": [
      "There is no blood pressure data available during the extubated period.\n"
     ]
    },
    {
     "name": "stderr",
     "output_type": "stream",
     "text": [
      "JR4079 visit 1 failed: list index out of range\n",
      "JR3896 visit 1 failed: float division by zero\n",
      "JI0536 visit 1 failed: float division by zero\n",
      "JN4074 visit 1 failed: 'NoneType' object has no attribute 'copy'\n",
      "JG2427 visit 1 failed: float division by zero\n"
     ]
    },
    {
     "name": "stdout",
     "output_type": "stream",
     "text": [
      "There is no blood pressure data available during the extubated period.\n"
     ]
    },
    {
     "name": "stderr",
     "output_type": "stream",
     "text": [
      "JT2461 visit 1 failed: list index out of range\n",
      "JO0242 visit 1 failed: list index out of range\n",
      "JO3713 visit 1 failed: 'NoneType' object has no attribute 'copy'\n"
     ]
    },
    {
     "name": "stdout",
     "output_type": "stream",
     "text": [
      "There is no blood pressure data available during the extubated period.\n"
     ]
    },
    {
     "name": "stderr",
     "output_type": "stream",
     "text": [
      "JJ3420 visit 1 failed: 'NoneType' object has no attribute 'copy'\n"
     ]
    },
    {
     "name": "stdout",
     "output_type": "stream",
     "text": [
      "There is no blood pressure data available during the extubated period.\n"
     ]
    },
    {
     "name": "stderr",
     "output_type": "stream",
     "text": [
      "JC0572 visit 1 failed: list index out of range\n",
      "JC2069 visit 1 failed: 'NoneType' object has no attribute 'copy'\n"
     ]
    },
    {
     "name": "stdout",
     "output_type": "stream",
     "text": [
      "There is no blood pressure data available during the extubated period.\n"
     ]
    },
    {
     "name": "stderr",
     "output_type": "stream",
     "text": [
      "JD0865 visit 1 failed: list index out of range\n",
      "JX1025 visit 1 failed: 'NoneType' object has no attribute 'copy'\n",
      "JX3473 visit 1 failed: 'NoneType' object has no attribute 'copy'\n"
     ]
    },
    {
     "name": "stdout",
     "output_type": "stream",
     "text": [
      "There is no blood pressure data available during the extubated period.\n",
      "There is no blood pressure data available during the extubated period.\n"
     ]
    },
    {
     "name": "stderr",
     "output_type": "stream",
     "text": [
      "JX2804 visit 1 failed: float division by zero\n",
      "JE2164 visit 1 failed: division by zero\n",
      "JE1818 visit 1 failed: list index out of range\n",
      "JL3664 visit 1 failed: 'NoneType' object has no attribute 'copy'\n"
     ]
    },
    {
     "name": "stdout",
     "output_type": "stream",
     "text": [
      "There is no blood pressure data available during the extubated period.\n"
     ]
    },
    {
     "name": "stderr",
     "output_type": "stream",
     "text": [
      "JL1921 visit 1 failed: 'NoneType' object has no attribute 'copy'\n"
     ]
    },
    {
     "name": "stdout",
     "output_type": "stream",
     "text": [
      "There is no blood pressure data available during the extubated period.\n"
     ]
    },
    {
     "name": "stderr",
     "output_type": "stream",
     "text": [
      "JY0954 visit 1 failed: 'NoneType' object has no attribute 'copy'\n"
     ]
    },
    {
     "name": "stdout",
     "output_type": "stream",
     "text": [
      "There is no blood pressure data available during the extubated period.\n"
     ]
    },
    {
     "name": "stderr",
     "output_type": "stream",
     "text": [
      "JP1682 visit 1 failed: list index out of range\n",
      "JP2808 visit 1 failed: list index out of range\n",
      "JW1624 visit 1 failed: 'NoneType' object has no attribute 'copy'\n"
     ]
    },
    {
     "name": "stdout",
     "output_type": "stream",
     "text": [
      "There is no blood pressure data available during the extubated period.\n"
     ]
    },
    {
     "name": "stderr",
     "output_type": "stream",
     "text": [
      "CR0945 visit 1 failed: list index out of range\n",
      "CU2107 visit 1 failed: 'NoneType' object has no attribute 'copy'\n"
     ]
    },
    {
     "name": "stdout",
     "output_type": "stream",
     "text": [
      "There is no blood pressure data available during the extubated period.\n"
     ]
    },
    {
     "name": "stderr",
     "output_type": "stream",
     "text": [
      "CG3824 visit 1 failed: 'NoneType' object has no attribute 'copy'\n",
      "CG1503 visit 1 failed: list index out of range\n",
      "CZ1981 visit 1 failed: float division by zero\n"
     ]
    },
    {
     "name": "stdout",
     "output_type": "stream",
     "text": [
      "There is no blood pressure data available during the extubated period.\n"
     ]
    },
    {
     "name": "stderr",
     "output_type": "stream",
     "text": [
      "CS3617 visit 1 failed: 'NoneType' object has no attribute 'copy'\n"
     ]
    },
    {
     "name": "stdout",
     "output_type": "stream",
     "text": [
      "There is no blood pressure data available during the extubated period.\n"
     ]
    },
    {
     "name": "stderr",
     "output_type": "stream",
     "text": [
      "CM2697 visit 1 failed: 'NoneType' object has no attribute 'copy'\n"
     ]
    },
    {
     "name": "stdout",
     "output_type": "stream",
     "text": [
      "There is no blood pressure data available during the extubated period.\n"
     ]
    },
    {
     "name": "stderr",
     "output_type": "stream",
     "text": [
      "CJ3402 visit 1 failed: 'NoneType' object has no attribute 'copy'\n"
     ]
    },
    {
     "name": "stdout",
     "output_type": "stream",
     "text": [
      "There is no blood pressure data available during the extubated period.\n"
     ]
    },
    {
     "name": "stderr",
     "output_type": "stream",
     "text": [
      "CD2595 visit 1 failed: 'NoneType' object has no attribute 'copy'\n",
      "CD3446 visit 1 failed: 'NoneType' object has no attribute 'copy'\n"
     ]
    },
    {
     "name": "stdout",
     "output_type": "stream",
     "text": [
      "There is no blood pressure data available during the extubated period.\n",
      "There is no blood pressure data available during the extubated period.\n"
     ]
    },
    {
     "name": "stderr",
     "output_type": "stream",
     "text": [
      "CX2266 visit 1 failed: 'NoneType' object has no attribute 'copy'\n"
     ]
    },
    {
     "name": "stdout",
     "output_type": "stream",
     "text": [
      "There is no blood pressure data available during the extubated period.\n"
     ]
    },
    {
     "name": "stderr",
     "output_type": "stream",
     "text": [
      "CY4113 visit 1 failed: 'NoneType' object has no attribute 'copy'\n"
     ]
    },
    {
     "name": "stdout",
     "output_type": "stream",
     "text": [
      "There is no blood pressure data available during the extubated period.\n"
     ]
    },
    {
     "name": "stderr",
     "output_type": "stream",
     "text": [
      "CW1337 visit 1 failed: 'NoneType' object has no attribute 'copy'\n",
      "CW3244 visit 1 failed: 'NoneType' object has no attribute 'copy'\n"
     ]
    },
    {
     "name": "stdout",
     "output_type": "stream",
     "text": [
      "There is no blood pressure data available during the extubated period.\n",
      "There is no blood pressure data available during the extubated period.\n"
     ]
    },
    {
     "name": "stderr",
     "output_type": "stream",
     "text": [
      "DU0944 visit 1 failed: 'NoneType' object has no attribute 'copy'\n"
     ]
    },
    {
     "name": "stdout",
     "output_type": "stream",
     "text": [
      "There is no blood pressure data available during the extubated period.\n"
     ]
    },
    {
     "name": "stderr",
     "output_type": "stream",
     "text": [
      "DI0128 visit 1 failed: 'NoneType' object has no attribute 'copy'\n"
     ]
    },
    {
     "name": "stdout",
     "output_type": "stream",
     "text": [
      "There is no blood pressure data available during the extubated period.\n"
     ]
    },
    {
     "name": "stderr",
     "output_type": "stream",
     "text": [
      "DZ2516 visit 1 failed: 'NoneType' object has no attribute 'copy'\n",
      "DZ1734 visit 1 failed: 'NoneType' object has no attribute 'copy'\n"
     ]
    },
    {
     "name": "stdout",
     "output_type": "stream",
     "text": [
      "There is no blood pressure data available during the extubated period.\n",
      "There is no blood pressure data available during the extubated period.\n"
     ]
    },
    {
     "name": "stderr",
     "output_type": "stream",
     "text": [
      "DZ0633 visit 1 failed: 'NoneType' object has no attribute 'copy'\n"
     ]
    },
    {
     "name": "stdout",
     "output_type": "stream",
     "text": [
      "There is no blood pressure data available during the extubated period.\n"
     ]
    },
    {
     "name": "stderr",
     "output_type": "stream",
     "text": [
      "DT3357 visit 1 failed: 'NoneType' object has no attribute 'copy'\n"
     ]
    },
    {
     "name": "stdout",
     "output_type": "stream",
     "text": [
      "There is no blood pressure data available during the extubated period.\n"
     ]
    },
    {
     "name": "stderr",
     "output_type": "stream",
     "text": [
      "DA2137 visit 1 failed: 'NoneType' object has no attribute 'copy'\n"
     ]
    },
    {
     "name": "stdout",
     "output_type": "stream",
     "text": [
      "There is no blood pressure data available during the extubated period.\n"
     ]
    },
    {
     "name": "stderr",
     "output_type": "stream",
     "text": [
      "DF3138 visit 1 failed: 'NoneType' object has no attribute 'copy'\n"
     ]
    },
    {
     "name": "stdout",
     "output_type": "stream",
     "text": [
      "There is no blood pressure data available during the extubated period.\n"
     ]
    },
    {
     "name": "stderr",
     "output_type": "stream",
     "text": [
      "DO3364 visit 1 failed: list index out of range\n",
      "DO2406 visit 1 failed: 'NoneType' object has no attribute 'copy'\n"
     ]
    },
    {
     "name": "stdout",
     "output_type": "stream",
     "text": [
      "There is no blood pressure data available during the extubated period.\n"
     ]
    },
    {
     "name": "stderr",
     "output_type": "stream",
     "text": [
      "DM2098 visit 1 failed: list index out of range\n",
      "DM1288 visit 1 failed: 'NoneType' object has no attribute 'copy'\n",
      "DC4072 visit 1 failed: 'NoneType' object has no attribute 'copy'\n",
      "DD2404 visit 1 failed: list index out of range\n"
     ]
    },
    {
     "name": "stdout",
     "output_type": "stream",
     "text": [
      "There is no blood pressure data available during the extubated period.\n",
      "There is no blood pressure data available during the extubated period.\n"
     ]
    },
    {
     "name": "stderr",
     "output_type": "stream",
     "text": [
      "DD2838 visit 1 failed: 'NoneType' object has no attribute 'copy'\n",
      "DD3139 visit 1 failed: 'NoneType' object has no attribute 'copy'\n",
      "DD3163 visit 1 failed: 'NoneType' object has no attribute 'copy'\n"
     ]
    },
    {
     "name": "stdout",
     "output_type": "stream",
     "text": [
      "There is no blood pressure data available during the extubated period.\n",
      "There is no blood pressure data available during the extubated period.\n",
      "There is no blood pressure data available during the extubated period.\n"
     ]
    },
    {
     "name": "stderr",
     "output_type": "stream",
     "text": [
      "DQ1541 visit 1 failed: 'NoneType' object has no attribute 'copy'\n",
      "DQ2273 visit 1 failed: 'NoneType' object has no attribute 'copy'\n"
     ]
    },
    {
     "name": "stdout",
     "output_type": "stream",
     "text": [
      "There is no blood pressure data available during the extubated period.\n",
      "There is no blood pressure data available during the extubated period.\n"
     ]
    },
    {
     "name": "stderr",
     "output_type": "stream",
     "text": [
      "DX3720 visit 1 failed: 'NoneType' object has no attribute 'copy'\n",
      "DE3684 visit 1 failed: list index out of range\n"
     ]
    },
    {
     "name": "stdout",
     "output_type": "stream",
     "text": [
      "There is no blood pressure data available during the extubated period.\n"
     ]
    },
    {
     "name": "stderr",
     "output_type": "stream",
     "text": [
      "DE3706 visit 1 failed: float division by zero\n",
      "DK2633 visit 1 failed: list index out of range\n",
      "DP2543 visit 1 failed: 'NoneType' object has no attribute 'copy'\n",
      "DP2371 visit 1 failed: 'NoneType' object has no attribute 'copy'\n",
      "DW1049 visit 1 failed: list index out of range\n"
     ]
    },
    {
     "name": "stdout",
     "output_type": "stream",
     "text": [
      "There is no blood pressure data available during the extubated period.\n",
      "There is no blood pressure data available during the extubated period.\n"
     ]
    },
    {
     "name": "stderr",
     "output_type": "stream",
     "text": [
      "VU2216 visit 1 failed: list index out of range\n",
      "VU0647 visit 1 failed: float division by zero\n",
      "VN4024 visit 1 failed: 'NoneType' object has no attribute 'copy'\n"
     ]
    },
    {
     "name": "stdout",
     "output_type": "stream",
     "text": [
      "There is no blood pressure data available during the extubated period.\n"
     ]
    },
    {
     "name": "stderr",
     "output_type": "stream",
     "text": [
      "VT1843 visit 1 failed: 'NoneType' object has no attribute 'copy'\n"
     ]
    },
    {
     "name": "stdout",
     "output_type": "stream",
     "text": [
      "There is no blood pressure data available during the extubated period.\n"
     ]
    },
    {
     "name": "stderr",
     "output_type": "stream",
     "text": [
      "VA2331 visit 1 failed: 'NoneType' object has no attribute 'copy'\n",
      "VA1742 visit 1 failed: 'NoneType' object has no attribute 'copy'\n"
     ]
    },
    {
     "name": "stdout",
     "output_type": "stream",
     "text": [
      "There is no blood pressure data available during the extubated period.\n",
      "There is no blood pressure data available during the extubated period.\n"
     ]
    },
    {
     "name": "stderr",
     "output_type": "stream",
     "text": [
      "VF2251 visit 1 failed: 'NoneType' object has no attribute 'copy'\n"
     ]
    },
    {
     "name": "stdout",
     "output_type": "stream",
     "text": [
      "There is no blood pressure data available during the extubated period.\n"
     ]
    },
    {
     "name": "stderr",
     "output_type": "stream",
     "text": [
      "VM2705 visit 1 failed: 'NoneType' object has no attribute 'copy'\n",
      "VJ3157 visit 1 failed: list index out of range\n"
     ]
    },
    {
     "name": "stdout",
     "output_type": "stream",
     "text": [
      "There is no blood pressure data available during the extubated period.\n"
     ]
    },
    {
     "name": "stderr",
     "output_type": "stream",
     "text": [
      "VV1257 visit 1 failed: 'NoneType' object has no attribute 'copy'\n",
      "VV3912 visit 1 failed: float division by zero\n"
     ]
    },
    {
     "name": "stdout",
     "output_type": "stream",
     "text": [
      "There is no blood pressure data available during the extubated period.\n"
     ]
    },
    {
     "name": "stderr",
     "output_type": "stream",
     "text": [
      "VQ2949 visit 1 failed: 'NoneType' object has no attribute 'copy'\n",
      "VQ3313 visit 1 failed: list index out of range\n",
      "VX3821 visit 1 failed: 'NoneType' object has no attribute 'copy'\n"
     ]
    },
    {
     "name": "stdout",
     "output_type": "stream",
     "text": [
      "There is no blood pressure data available during the extubated period.\n",
      "There is no blood pressure data available during the extubated period.\n"
     ]
    },
    {
     "name": "stderr",
     "output_type": "stream",
     "text": [
      "VE3150 visit 1 failed: 'NoneType' object has no attribute 'copy'\n",
      "VE1255 visit 1 failed: 'NoneType' object has no attribute 'copy'\n",
      "VE4042 visit 1 failed: list index out of range\n"
     ]
    },
    {
     "name": "stdout",
     "output_type": "stream",
     "text": [
      "There is no blood pressure data available during the extubated period.\n",
      "There is no blood pressure data available during the extubated period.\n"
     ]
    },
    {
     "name": "stderr",
     "output_type": "stream",
     "text": [
      "VK3917 visit 1 failed: 'NoneType' object has no attribute 'copy'\n",
      "VL3728 visit 1 failed: 'NoneType' object has no attribute 'copy'\n"
     ]
    },
    {
     "name": "stdout",
     "output_type": "stream",
     "text": [
      "There is no blood pressure data available during the extubated period.\n",
      "There is no blood pressure data available during the extubated period.\n"
     ]
    },
    {
     "name": "stderr",
     "output_type": "stream",
     "text": [
      "VP3995 visit 1 failed: 'NoneType' object has no attribute 'copy'\n"
     ]
    },
    {
     "name": "stdout",
     "output_type": "stream",
     "text": [
      "There is no blood pressure data available during the extubated period.\n"
     ]
    },
    {
     "name": "stderr",
     "output_type": "stream",
     "text": [
      "VW2869 visit 1 failed: float division by zero\n",
      "VW1487 visit 1 failed: float division by zero\n",
      "QR3000 visit 1 failed: 'NoneType' object has no attribute 'copy'\n",
      "QU0772 visit 1 failed: list index out of range\n"
     ]
    },
    {
     "name": "stdout",
     "output_type": "stream",
     "text": [
      "There is no blood pressure data available during the extubated period.\n"
     ]
    },
    {
     "name": "stderr",
     "output_type": "stream",
     "text": [
      "QI3342 visit 1 failed: list index out of range\n",
      "QT2835 visit 1 failed: list index out of range\n",
      "QF0704 visit 1 failed: 'NoneType' object has no attribute 'copy'\n"
     ]
    },
    {
     "name": "stdout",
     "output_type": "stream",
     "text": [
      "There is no blood pressure data available during the extubated period.\n"
     ]
    },
    {
     "name": "stderr",
     "output_type": "stream",
     "text": [
      "QJ3009 visit 1 failed: float division by zero\n",
      "QJ1559 visit 1 failed: list index out of range\n",
      "QC3326 visit 1 failed: list index out of range\n",
      "QD2469 visit 1 failed: list index out of range\n",
      "QV3251 visit 1 failed: list index out of range\n",
      "QX2620 visit 1 failed: 'NoneType' object has no attribute 'copy'\n"
     ]
    },
    {
     "name": "stdout",
     "output_type": "stream",
     "text": [
      "There is no blood pressure data available during the extubated period.\n"
     ]
    },
    {
     "name": "stderr",
     "output_type": "stream",
     "text": [
      "QX2405 visit 1 failed: 'NoneType' object has no attribute 'copy'\n"
     ]
    },
    {
     "name": "stdout",
     "output_type": "stream",
     "text": [
      "There is no blood pressure data available during the extubated period.\n"
     ]
    },
    {
     "name": "stderr",
     "output_type": "stream",
     "text": [
      "QL2883 visit 1 failed: 'NoneType' object has no attribute 'copy'\n"
     ]
    },
    {
     "name": "stdout",
     "output_type": "stream",
     "text": [
      "There is no blood pressure data available during the extubated period.\n"
     ]
    },
    {
     "name": "stderr",
     "output_type": "stream",
     "text": [
      "QY3833 visit 1 failed: 'NoneType' object has no attribute 'copy'\n"
     ]
    },
    {
     "name": "stdout",
     "output_type": "stream",
     "text": [
      "There is no blood pressure data available during the extubated period.\n"
     ]
    },
    {
     "name": "stderr",
     "output_type": "stream",
     "text": [
      "QY0842 visit 1 failed: list index out of range\n",
      "QP3576 visit 1 failed: list index out of range\n",
      "QP3369 visit 1 failed: list index out of range\n",
      "QW2329 visit 1 failed: 'NoneType' object has no attribute 'copy'\n"
     ]
    },
    {
     "name": "stdout",
     "output_type": "stream",
     "text": [
      "There is no blood pressure data available during the extubated period.\n"
     ]
    },
    {
     "name": "stderr",
     "output_type": "stream",
     "text": [
      "QW1810 visit 1 failed: list index out of range\n",
      "XR1428 visit 1 failed: 'NoneType' object has no attribute 'copy'\n"
     ]
    },
    {
     "name": "stdout",
     "output_type": "stream",
     "text": [
      "There is no blood pressure data available during the extubated period.\n"
     ]
    },
    {
     "name": "stderr",
     "output_type": "stream",
     "text": [
      "XU3692 visit 1 failed: 'NoneType' object has no attribute 'copy'\n"
     ]
    },
    {
     "name": "stdout",
     "output_type": "stream",
     "text": [
      "There is no blood pressure data available during the extubated period.\n"
     ]
    },
    {
     "name": "stderr",
     "output_type": "stream",
     "text": [
      "XI0248 visit 1 failed: 'NoneType' object has no attribute 'copy'\n"
     ]
    },
    {
     "name": "stdout",
     "output_type": "stream",
     "text": [
      "There is no blood pressure data available during the extubated period.\n"
     ]
    },
    {
     "name": "stderr",
     "output_type": "stream",
     "text": [
      "XN2935 visit 1 failed: float division by zero\n",
      "XZ0166 visit 1 failed: 'NoneType' object has no attribute 'copy'\n",
      "XZ4092 visit 1 failed: list index out of range\n"
     ]
    },
    {
     "name": "stdout",
     "output_type": "stream",
     "text": [
      "There is no blood pressure data available during the extubated period.\n"
     ]
    },
    {
     "name": "stderr",
     "output_type": "stream",
     "text": [
      "XZ1733 visit 1 failed: 'NoneType' object has no attribute 'copy'\n"
     ]
    },
    {
     "name": "stdout",
     "output_type": "stream",
     "text": [
      "There is no blood pressure data available during the extubated period.\n"
     ]
    },
    {
     "name": "stderr",
     "output_type": "stream",
     "text": [
      "XS2050 visit 1 failed: float division by zero\n",
      "XC1388 visit 1 failed: 'NoneType' object has no attribute 'copy'\n"
     ]
    },
    {
     "name": "stdout",
     "output_type": "stream",
     "text": [
      "There is no blood pressure data available during the extubated period.\n"
     ]
    },
    {
     "name": "stderr",
     "output_type": "stream",
     "text": [
      "XD2914 visit 1 failed: 'NoneType' object has no attribute 'copy'\n"
     ]
    },
    {
     "name": "stdout",
     "output_type": "stream",
     "text": [
      "There is no blood pressure data available during the extubated period.\n"
     ]
    },
    {
     "name": "stderr",
     "output_type": "stream",
     "text": [
      "XD1783 visit 1 failed: 'NoneType' object has no attribute 'copy'\n"
     ]
    },
    {
     "name": "stdout",
     "output_type": "stream",
     "text": [
      "There is no blood pressure data available during the extubated period.\n"
     ]
    },
    {
     "name": "stderr",
     "output_type": "stream",
     "text": [
      "XQ1350 visit 1 failed: 'NoneType' object has no attribute 'copy'\n",
      "XQ1938 visit 1 failed: 'NoneType' object has no attribute 'copy'\n"
     ]
    },
    {
     "name": "stdout",
     "output_type": "stream",
     "text": [
      "There is no blood pressure data available during the extubated period.\n",
      "There is no blood pressure data available during the extubated period.\n"
     ]
    },
    {
     "name": "stderr",
     "output_type": "stream",
     "text": [
      "XQ0997 visit 1 failed: float division by zero\n",
      "XQ3812 visit 1 failed: 'NoneType' object has no attribute 'copy'\n",
      "XX3614 visit 1 failed: 'NoneType' object has no attribute 'copy'\n"
     ]
    },
    {
     "name": "stdout",
     "output_type": "stream",
     "text": [
      "There is no blood pressure data available during the extubated period.\n",
      "There is no blood pressure data available during the extubated period.\n"
     ]
    },
    {
     "name": "stderr",
     "output_type": "stream",
     "text": [
      "XX0468 visit 1 failed: 'NoneType' object has no attribute 'copy'\n",
      "XE4045 visit 1 failed: 'NoneType' object has no attribute 'copy'\n",
      "XE1578 visit 1 failed: 'NoneType' object has no attribute 'copy'\n"
     ]
    },
    {
     "name": "stdout",
     "output_type": "stream",
     "text": [
      "There is no blood pressure data available during the extubated period.\n",
      "There is no blood pressure data available during the extubated period.\n",
      "There is no blood pressure data available during the extubated period.\n"
     ]
    },
    {
     "name": "stderr",
     "output_type": "stream",
     "text": [
      "XL2646 visit 1 failed: float division by zero\n",
      "XL1553 visit 1 failed: 'NoneType' object has no attribute 'copy'\n",
      "XY2614 visit 1 failed: 'NoneType' object has no attribute 'copy'\n"
     ]
    },
    {
     "name": "stdout",
     "output_type": "stream",
     "text": [
      "There is no blood pressure data available during the extubated period.\n",
      "There is no blood pressure data available during the extubated period.\n"
     ]
    },
    {
     "name": "stderr",
     "output_type": "stream",
     "text": [
      "XP3208 visit 1 failed: 'NoneType' object has no attribute 'copy'\n"
     ]
    },
    {
     "name": "stdout",
     "output_type": "stream",
     "text": [
      "There is no blood pressure data available during the extubated period.\n"
     ]
    },
    {
     "name": "stderr",
     "output_type": "stream",
     "text": [
      "XW1297 visit 1 failed: float division by zero\n",
      "XW0782 visit 1 failed: list index out of range\n",
      "EN1451 visit 1 failed: list index out of range\n",
      "ET3027 visit 1 failed: list index out of range\n",
      "ES3776 visit 1 failed: 'NoneType' object has no attribute 'copy'\n",
      "EA1186 visit 1 failed: list index out of range\n"
     ]
    },
    {
     "name": "stdout",
     "output_type": "stream",
     "text": [
      "There is no blood pressure data available during the extubated period.\n"
     ]
    },
    {
     "name": "stderr",
     "output_type": "stream",
     "text": [
      "EO3227 visit 1 failed: list index out of range\n",
      "EM2756 visit 1 failed: 'NoneType' object has no attribute 'copy'\n"
     ]
    },
    {
     "name": "stdout",
     "output_type": "stream",
     "text": [
      "There is no blood pressure data available during the extubated period.\n"
     ]
    },
    {
     "name": "stderr",
     "output_type": "stream",
     "text": [
      "EM2092 visit 1 failed: 'NoneType' object has no attribute 'copy'\n"
     ]
    },
    {
     "name": "stdout",
     "output_type": "stream",
     "text": [
      "There is no blood pressure data available during the extubated period.\n"
     ]
    },
    {
     "name": "stderr",
     "output_type": "stream",
     "text": [
      "EC1657 visit 1 failed: 'NoneType' object has no attribute 'copy'\n"
     ]
    },
    {
     "name": "stdout",
     "output_type": "stream",
     "text": [
      "There is no blood pressure data available during the extubated period.\n"
     ]
    },
    {
     "name": "stderr",
     "output_type": "stream",
     "text": [
      "ED3175 visit 1 failed: 'NoneType' object has no attribute 'copy'\n",
      "EV3800 visit 1 failed: 'NoneType' object has no attribute 'copy'\n",
      "EV0843 visit 1 failed: 'NoneType' object has no attribute 'copy'\n"
     ]
    },
    {
     "name": "stdout",
     "output_type": "stream",
     "text": [
      "There is no blood pressure data available during the extubated period.\n",
      "There is no blood pressure data available during the extubated period.\n",
      "There is no blood pressure data available during the extubated period.\n"
     ]
    },
    {
     "name": "stderr",
     "output_type": "stream",
     "text": [
      "EX3204 visit 1 failed: list index out of range\n",
      "EE2147 visit 1 failed: 'NoneType' object has no attribute 'copy'\n"
     ]
    },
    {
     "name": "stdout",
     "output_type": "stream",
     "text": [
      "There is no blood pressure data available during the extubated period.\n"
     ]
    },
    {
     "name": "stderr",
     "output_type": "stream",
     "text": [
      "EB3056 visit 1 failed: list index out of range\n",
      "EK0479 visit 1 failed: 'NoneType' object has no attribute 'copy'\n",
      "EL2366 visit 1 failed: 'NoneType' object has no attribute 'copy'\n"
     ]
    },
    {
     "name": "stdout",
     "output_type": "stream",
     "text": [
      "There is no blood pressure data available during the extubated period.\n",
      "There is no blood pressure data available during the extubated period.\n"
     ]
    },
    {
     "name": "stderr",
     "output_type": "stream",
     "text": [
      "EP3696 visit 1 failed: 'NoneType' object has no attribute 'copy'\n",
      "EP3461 visit 1 failed: list index out of range\n"
     ]
    },
    {
     "name": "stdout",
     "output_type": "stream",
     "text": [
      "There is no blood pressure data available during the extubated period.\n"
     ]
    },
    {
     "name": "stderr",
     "output_type": "stream",
     "text": [
      "EW1835 visit 1 failed: 'NoneType' object has no attribute 'copy'\n"
     ]
    },
    {
     "name": "stdout",
     "output_type": "stream",
     "text": [
      "There is no blood pressure data available during the extubated period.\n"
     ]
    },
    {
     "name": "stderr",
     "output_type": "stream",
     "text": [
      "BR0401 visit 1 failed: 'NoneType' object has no attribute 'copy'\n"
     ]
    },
    {
     "name": "stdout",
     "output_type": "stream",
     "text": [
      "There is no blood pressure data available during the extubated period.\n"
     ]
    },
    {
     "name": "stderr",
     "output_type": "stream",
     "text": [
      "BR2514 visit 1 failed: list index out of range\n",
      "BR3036 visit 1 failed: 'NoneType' object has no attribute 'copy'\n"
     ]
    },
    {
     "name": "stdout",
     "output_type": "stream",
     "text": [
      "There is no blood pressure data available during the extubated period.\n"
     ]
    },
    {
     "name": "stderr",
     "output_type": "stream",
     "text": [
      "BU1721 visit 1 failed: 'NoneType' object has no attribute 'copy'\n"
     ]
    },
    {
     "name": "stdout",
     "output_type": "stream",
     "text": [
      "There is no blood pressure data available during the extubated period.\n"
     ]
    },
    {
     "name": "stderr",
     "output_type": "stream",
     "text": [
      "BI1913 visit 1 failed: list index out of range\n",
      "BG1412 visit 1 failed: list index out of range\n",
      "BG2689 visit 1 failed: float division by zero\n",
      "BZ2337 visit 1 failed: list index out of range\n",
      "BZ3386 visit 1 failed: 'NoneType' object has no attribute 'copy'\n"
     ]
    },
    {
     "name": "stdout",
     "output_type": "stream",
     "text": [
      "There is no blood pressure data available during the extubated period.\n"
     ]
    },
    {
     "name": "stderr",
     "output_type": "stream",
     "text": [
      "BT3582 visit 1 failed: 'NoneType' object has no attribute 'copy'\n",
      "BT3143 visit 1 failed: 'NoneType' object has no attribute 'copy'\n"
     ]
    },
    {
     "name": "stdout",
     "output_type": "stream",
     "text": [
      "There is no blood pressure data available during the extubated period.\n",
      "There is no blood pressure data available during the extubated period.\n"
     ]
    },
    {
     "name": "stderr",
     "output_type": "stream",
     "text": [
      "BS3312 visit 1 failed: list index out of range\n",
      "BF2616 visit 1 failed: 'NoneType' object has no attribute 'copy'\n"
     ]
    },
    {
     "name": "stdout",
     "output_type": "stream",
     "text": [
      "There is no blood pressure data available during the extubated period.\n"
     ]
    },
    {
     "name": "stderr",
     "output_type": "stream",
     "text": [
      "BH3859 visit 1 failed: list index out of range\n",
      "BJ2150 visit 1 failed: 'NoneType' object has no attribute 'copy'\n"
     ]
    },
    {
     "name": "stdout",
     "output_type": "stream",
     "text": [
      "There is no blood pressure data available during the extubated period.\n"
     ]
    },
    {
     "name": "stderr",
     "output_type": "stream",
     "text": [
      "BJ4054 visit 1 failed: 'NoneType' object has no attribute 'copy'\n"
     ]
    },
    {
     "name": "stdout",
     "output_type": "stream",
     "text": [
      "There is no blood pressure data available during the extubated period.\n"
     ]
    },
    {
     "name": "stderr",
     "output_type": "stream",
     "text": [
      "BC3142 visit 1 failed: list index out of range\n",
      "BD1804 visit 1 failed: 'NoneType' object has no attribute 'copy'\n"
     ]
    },
    {
     "name": "stdout",
     "output_type": "stream",
     "text": [
      "There is no blood pressure data available during the extubated period.\n"
     ]
    },
    {
     "name": "stderr",
     "output_type": "stream",
     "text": [
      "BD3015 visit 1 failed: 'NoneType' object has no attribute 'copy'\n",
      "BD3347 visit 1 failed: 'NoneType' object has no attribute 'copy'\n"
     ]
    },
    {
     "name": "stdout",
     "output_type": "stream",
     "text": [
      "There is no blood pressure data available during the extubated period.\n",
      "There is no blood pressure data available during the extubated period.\n"
     ]
    },
    {
     "name": "stderr",
     "output_type": "stream",
     "text": [
      "BQ2807 visit 1 failed: 'NoneType' object has no attribute 'copy'\n"
     ]
    },
    {
     "name": "stdout",
     "output_type": "stream",
     "text": [
      "There is no blood pressure data available during the extubated period.\n"
     ]
    },
    {
     "name": "stderr",
     "output_type": "stream",
     "text": [
      "BK0070 visit 1 failed: 'NoneType' object has no attribute 'copy'\n",
      "BL3474 visit 1 failed: 'NoneType' object has no attribute 'copy'\n",
      "BY2508 visit 1 failed: 'NoneType' object has no attribute 'copy'\n"
     ]
    },
    {
     "name": "stdout",
     "output_type": "stream",
     "text": [
      "There is no blood pressure data available during the extubated period.\n",
      "There is no blood pressure data available during the extubated period.\n",
      "There is no blood pressure data available during the extubated period.\n"
     ]
    },
    {
     "name": "stderr",
     "output_type": "stream",
     "text": [
      "BP2844 visit 1 failed: float division by zero\n",
      "BW3852 visit 1 failed: list index out of range\n",
      "BW0372 visit 1 failed: 'NoneType' object has no attribute 'copy'\n"
     ]
    },
    {
     "name": "stdout",
     "output_type": "stream",
     "text": [
      "There is no blood pressure data available during the extubated period.\n"
     ]
    },
    {
     "name": "stderr",
     "output_type": "stream",
     "text": [
      "KR1086 visit 1 failed: 'NoneType' object has no attribute 'copy'\n"
     ]
    },
    {
     "name": "stdout",
     "output_type": "stream",
     "text": [
      "There is no blood pressure data available during the extubated period.\n"
     ]
    },
    {
     "name": "stderr",
     "output_type": "stream",
     "text": [
      "KU2937 visit 1 failed: 'NoneType' object has no attribute 'copy'\n"
     ]
    },
    {
     "name": "stdout",
     "output_type": "stream",
     "text": [
      "There is no blood pressure data available during the extubated period.\n"
     ]
    },
    {
     "name": "stderr",
     "output_type": "stream",
     "text": [
      "KI0883 visit 1 failed: list index out of range\n",
      "KN1869 visit 1 failed: 'NoneType' object has no attribute 'copy'\n"
     ]
    },
    {
     "name": "stdout",
     "output_type": "stream",
     "text": [
      "There is no blood pressure data available during the extubated period.\n"
     ]
    },
    {
     "name": "stderr",
     "output_type": "stream",
     "text": [
      "KZ3726 visit 1 failed: 'NoneType' object has no attribute 'copy'\n",
      "KZ3988 visit 1 failed: float division by zero\n",
      "KZ4111 visit 1 failed: 'NoneType' object has no attribute 'copy'\n"
     ]
    },
    {
     "name": "stdout",
     "output_type": "stream",
     "text": [
      "There is no blood pressure data available during the extubated period.\n",
      "There is no blood pressure data available during the extubated period.\n"
     ]
    },
    {
     "name": "stderr",
     "output_type": "stream",
     "text": [
      "KA3656 visit 1 failed: 'NoneType' object has no attribute 'copy'\n",
      "KF2192 visit 1 failed: 'NoneType' object has no attribute 'copy'\n",
      "KF1038 visit 1 failed: 'NoneType' object has no attribute 'copy'\n"
     ]
    },
    {
     "name": "stdout",
     "output_type": "stream",
     "text": [
      "There is no blood pressure data available during the extubated period.\n",
      "There is no blood pressure data available during the extubated period.\n",
      "There is no blood pressure data available during the extubated period.\n"
     ]
    },
    {
     "name": "stderr",
     "output_type": "stream",
     "text": [
      "KH3073 visit 1 failed: 'NoneType' object has no attribute 'copy'\n",
      "KH0067 visit 1 failed: 'NoneType' object has no attribute 'copy'\n"
     ]
    },
    {
     "name": "stdout",
     "output_type": "stream",
     "text": [
      "There is no blood pressure data available during the extubated period.\n",
      "There is no blood pressure data available during the extubated period.\n"
     ]
    },
    {
     "name": "stderr",
     "output_type": "stream",
     "text": [
      "KM2479 visit 1 failed: 'NoneType' object has no attribute 'copy'\n"
     ]
    },
    {
     "name": "stdout",
     "output_type": "stream",
     "text": [
      "There is no blood pressure data available during the extubated period.\n"
     ]
    },
    {
     "name": "stderr",
     "output_type": "stream",
     "text": [
      "KC2473 visit 1 failed: 'NoneType' object has no attribute 'copy'\n"
     ]
    },
    {
     "name": "stdout",
     "output_type": "stream",
     "text": [
      "There is no blood pressure data available during the extubated period.\n"
     ]
    },
    {
     "name": "stderr",
     "output_type": "stream",
     "text": [
      "KV1281 visit 1 failed: 'NoneType' object has no attribute 'copy'\n"
     ]
    },
    {
     "name": "stdout",
     "output_type": "stream",
     "text": [
      "There is no blood pressure data available during the extubated period.\n"
     ]
    },
    {
     "name": "stderr",
     "output_type": "stream",
     "text": [
      "KQ3427 visit 1 failed: list index out of range\n",
      "KE1093 visit 1 failed: 'NoneType' object has no attribute 'copy'\n"
     ]
    },
    {
     "name": "stdout",
     "output_type": "stream",
     "text": [
      "There is no blood pressure data available during the extubated period.\n"
     ]
    },
    {
     "name": "stderr",
     "output_type": "stream",
     "text": [
      "KL2148 visit 1 failed: 'NoneType' object has no attribute 'copy'\n"
     ]
    },
    {
     "name": "stdout",
     "output_type": "stream",
     "text": [
      "There is no blood pressure data available during the extubated period.\n"
     ]
    },
    {
     "name": "stderr",
     "output_type": "stream",
     "text": [
      "KL0146 visit 1 failed: 'NoneType' object has no attribute 'copy'\n",
      "KY3662 visit 1 failed: 'NoneType' object has no attribute 'copy'\n",
      "KY3182 visit 1 failed: 'NoneType' object has no attribute 'copy'\n",
      "KY0008 visit 1 failed: float division by zero\n"
     ]
    },
    {
     "name": "stdout",
     "output_type": "stream",
     "text": [
      "There is no blood pressure data available during the extubated period.\n",
      "There is no blood pressure data available during the extubated period.\n",
      "There is no blood pressure data available during the extubated period.\n"
     ]
    },
    {
     "name": "stderr",
     "output_type": "stream",
     "text": [
      "KW1920 visit 1 failed: 'NoneType' object has no attribute 'copy'\n"
     ]
    },
    {
     "name": "stdout",
     "output_type": "stream",
     "text": [
      "There is no blood pressure data available during the extubated period.\n"
     ]
    },
    {
     "name": "stderr",
     "output_type": "stream",
     "text": [
      "KW3189 visit 1 failed: float division by zero\n",
      "KW3198 visit 1 failed: 'NoneType' object has no attribute 'copy'\n"
     ]
    },
    {
     "name": "stdout",
     "output_type": "stream",
     "text": [
      "There is no blood pressure data available during the extubated period.\n"
     ]
    },
    {
     "name": "stderr",
     "output_type": "stream",
     "text": [
      "LR2724 visit 1 failed: 'NoneType' object has no attribute 'copy'\n",
      "LR3906 visit 1 failed: 'NoneType' object has no attribute 'copy'\n"
     ]
    },
    {
     "name": "stdout",
     "output_type": "stream",
     "text": [
      "There is no blood pressure data available during the extubated period.\n",
      "There is no blood pressure data available during the extubated period.\n"
     ]
    },
    {
     "name": "stderr",
     "output_type": "stream",
     "text": [
      "LU3672 visit 1 failed: list index out of range\n",
      "LG1815 visit 1 failed: list index out of range\n",
      "LZ0869 visit 1 failed: 'NoneType' object has no attribute 'copy'\n",
      "LZ1802 visit 1 failed: list index out of range\n"
     ]
    },
    {
     "name": "stdout",
     "output_type": "stream",
     "text": [
      "There is no blood pressure data available during the extubated period.\n"
     ]
    },
    {
     "name": "stderr",
     "output_type": "stream",
     "text": [
      "LT1552 visit 1 failed: 'NoneType' object has no attribute 'copy'\n"
     ]
    },
    {
     "name": "stdout",
     "output_type": "stream",
     "text": [
      "There is no blood pressure data available during the extubated period.\n"
     ]
    },
    {
     "name": "stderr",
     "output_type": "stream",
     "text": [
      "LT0036 visit 1 failed: float division by zero\n",
      "LA4073 visit 1 failed: 'NoneType' object has no attribute 'copy'\n"
     ]
    },
    {
     "name": "stdout",
     "output_type": "stream",
     "text": [
      "There is no blood pressure data available during the extubated period.\n"
     ]
    },
    {
     "name": "stderr",
     "output_type": "stream",
     "text": [
      "LA1700 visit 1 failed: 'NoneType' object has no attribute 'copy'\n",
      "LF1369 visit 1 failed: 'NoneType' object has no attribute 'copy'\n"
     ]
    },
    {
     "name": "stdout",
     "output_type": "stream",
     "text": [
      "There is no blood pressure data available during the extubated period.\n",
      "There is no blood pressure data available during the extubated period.\n"
     ]
    },
    {
     "name": "stderr",
     "output_type": "stream",
     "text": [
      "LO0573 visit 1 failed: 'NoneType' object has no attribute 'copy'\n",
      "LH3789 visit 1 failed: 'NoneType' object has no attribute 'copy'\n"
     ]
    },
    {
     "name": "stdout",
     "output_type": "stream",
     "text": [
      "There is no blood pressure data available during the extubated period.\n",
      "There is no blood pressure data available during the extubated period.\n"
     ]
    },
    {
     "name": "stderr",
     "output_type": "stream",
     "text": [
      "LM3507 visit 1 failed: list index out of range\n",
      "LC2912 visit 1 failed: list index out of range\n",
      "LD2631 visit 1 failed: 'NoneType' object has no attribute 'copy'\n",
      "LV1629 visit 1 failed: 'NoneType' object has no attribute 'copy'\n"
     ]
    },
    {
     "name": "stdout",
     "output_type": "stream",
     "text": [
      "There is no blood pressure data available during the extubated period.\n",
      "There is no blood pressure data available during the extubated period.\n"
     ]
    },
    {
     "name": "stderr",
     "output_type": "stream",
     "text": [
      "LV1315 visit 1 failed: 'NoneType' object has no attribute 'copy'\n",
      "LV2334 visit 1 failed: 'NoneType' object has no attribute 'copy'\n",
      "LV1770 visit 1 failed: float division by zero\n",
      "LQ3893 visit 1 failed: list index out of range\n",
      "LQ2589 visit 1 failed: 'NoneType' object has no attribute 'copy'\n"
     ]
    },
    {
     "name": "stdout",
     "output_type": "stream",
     "text": [
      "There is no blood pressure data available during the extubated period.\n",
      "There is no blood pressure data available during the extubated period.\n",
      "There is no blood pressure data available during the extubated period.\n"
     ]
    },
    {
     "name": "stderr",
     "output_type": "stream",
     "text": [
      "LQ2483 visit 1 failed: 'NoneType' object has no attribute 'copy'\n"
     ]
    },
    {
     "name": "stdout",
     "output_type": "stream",
     "text": [
      "There is no blood pressure data available during the extubated period.\n"
     ]
    },
    {
     "name": "stderr",
     "output_type": "stream",
     "text": [
      "LQ1306 visit 1 failed: 'NoneType' object has no attribute 'copy'\n"
     ]
    },
    {
     "name": "stdout",
     "output_type": "stream",
     "text": [
      "There is no blood pressure data available during the extubated period.\n"
     ]
    },
    {
     "name": "stderr",
     "output_type": "stream",
     "text": [
      "LX0321 visit 1 failed: 'NoneType' object has no attribute 'copy'\n"
     ]
    },
    {
     "name": "stdout",
     "output_type": "stream",
     "text": [
      "There is no blood pressure data available during the extubated period.\n"
     ]
    },
    {
     "name": "stderr",
     "output_type": "stream",
     "text": [
      "LB1845 visit 1 failed: float division by zero\n",
      "LB2896 visit 1 failed: 'NoneType' object has no attribute 'copy'\n",
      "LB3481 visit 1 failed: 'NoneType' object has no attribute 'copy'\n"
     ]
    },
    {
     "name": "stdout",
     "output_type": "stream",
     "text": [
      "There is no blood pressure data available during the extubated period.\n",
      "There is no blood pressure data available during the extubated period.\n"
     ]
    },
    {
     "name": "stderr",
     "output_type": "stream",
     "text": [
      "LK1182 visit 1 failed: list index out of range\n",
      "YR3736 visit 1 failed: 'NoneType' object has no attribute 'copy'\n"
     ]
    },
    {
     "name": "stdout",
     "output_type": "stream",
     "text": [
      "There is no blood pressure data available during the extubated period.\n"
     ]
    },
    {
     "name": "stderr",
     "output_type": "stream",
     "text": [
      "YR4082 visit 1 failed: list index out of range\n",
      "YU3940 visit 1 failed: 'NoneType' object has no attribute 'copy'\n"
     ]
    },
    {
     "name": "stdout",
     "output_type": "stream",
     "text": [
      "There is no blood pressure data available during the extubated period.\n"
     ]
    },
    {
     "name": "stderr",
     "output_type": "stream",
     "text": [
      "YU3486 visit 1 failed: 'NoneType' object has no attribute 'copy'\n"
     ]
    },
    {
     "name": "stdout",
     "output_type": "stream",
     "text": [
      "There is no blood pressure data available during the extubated period.\n"
     ]
    },
    {
     "name": "stderr",
     "output_type": "stream",
     "text": [
      "YU1341 visit 1 failed: 'NoneType' object has no attribute 'copy'\n"
     ]
    },
    {
     "name": "stdout",
     "output_type": "stream",
     "text": [
      "There is no blood pressure data available during the extubated period.\n"
     ]
    },
    {
     "name": "stderr",
     "output_type": "stream",
     "text": [
      "YN0900 visit 1 failed: float division by zero\n",
      "YN0877 visit 1 failed: list index out of range\n",
      "YT2217 visit 1 failed: 'NoneType' object has no attribute 'copy'\n"
     ]
    },
    {
     "name": "stdout",
     "output_type": "stream",
     "text": [
      "There is no blood pressure data available during the extubated period.\n"
     ]
    },
    {
     "name": "stderr",
     "output_type": "stream",
     "text": [
      "YS3621 visit 1 failed: 'NoneType' object has no attribute 'copy'\n",
      "YA4001 visit 1 failed: 'NoneType' object has no attribute 'copy'\n"
     ]
    },
    {
     "name": "stdout",
     "output_type": "stream",
     "text": [
      "There is no blood pressure data available during the extubated period.\n",
      "There is no blood pressure data available during the extubated period.\n"
     ]
    },
    {
     "name": "stderr",
     "output_type": "stream",
     "text": [
      "YF1474 visit 1 failed: 'NoneType' object has no attribute 'copy'\n"
     ]
    },
    {
     "name": "stdout",
     "output_type": "stream",
     "text": [
      "There is no blood pressure data available during the extubated period.\n"
     ]
    },
    {
     "name": "stderr",
     "output_type": "stream",
     "text": [
      "YJ2470 visit 1 failed: 'NoneType' object has no attribute 'copy'\n"
     ]
    },
    {
     "name": "stdout",
     "output_type": "stream",
     "text": [
      "There is no blood pressure data available during the extubated period.\n"
     ]
    },
    {
     "name": "stderr",
     "output_type": "stream",
     "text": [
      "YD3052 visit 1 failed: 'NoneType' object has no attribute 'copy'\n"
     ]
    },
    {
     "name": "stdout",
     "output_type": "stream",
     "text": [
      "There is no blood pressure data available during the extubated period.\n"
     ]
    },
    {
     "name": "stderr",
     "output_type": "stream",
     "text": [
      "YX2562 visit 1 failed: list index out of range\n",
      "YX3166 visit 1 failed: 'NoneType' object has no attribute 'copy'\n"
     ]
    },
    {
     "name": "stdout",
     "output_type": "stream",
     "text": [
      "There is no blood pressure data available during the extubated period.\n"
     ]
    },
    {
     "name": "stderr",
     "output_type": "stream",
     "text": [
      "YB4088 visit 1 failed: 'NoneType' object has no attribute 'copy'\n"
     ]
    },
    {
     "name": "stdout",
     "output_type": "stream",
     "text": [
      "There is no blood pressure data available during the extubated period.\n"
     ]
    },
    {
     "name": "stderr",
     "output_type": "stream",
     "text": [
      "YK1936 visit 1 failed: list index out of range\n",
      "YL1515 visit 1 failed: 'NoneType' object has no attribute 'copy'\n"
     ]
    },
    {
     "name": "stdout",
     "output_type": "stream",
     "text": [
      "There is no blood pressure data available during the extubated period.\n"
     ]
    },
    {
     "name": "stderr",
     "output_type": "stream",
     "text": [
      "YY3837 visit 1 failed: 'NoneType' object has no attribute 'copy'\n"
     ]
    },
    {
     "name": "stdout",
     "output_type": "stream",
     "text": [
      "There is no blood pressure data available during the extubated period.\n"
     ]
    },
    {
     "name": "stderr",
     "output_type": "stream",
     "text": [
      "YP1031 visit 1 failed: 'NoneType' object has no attribute 'copy'\n"
     ]
    },
    {
     "name": "stdout",
     "output_type": "stream",
     "text": [
      "There is no blood pressure data available during the extubated period.\n"
     ]
    },
    {
     "name": "stderr",
     "output_type": "stream",
     "text": [
      "PR1516 visit 1 failed: 'NoneType' object has no attribute 'copy'\n"
     ]
    },
    {
     "name": "stdout",
     "output_type": "stream",
     "text": [
      "There is no blood pressure data available during the extubated period.\n"
     ]
    },
    {
     "name": "stderr",
     "output_type": "stream",
     "text": [
      "PI0750 visit 1 failed: list index out of range\n",
      "PI1961 visit 1 failed: list index out of range\n",
      "PS2511 visit 1 failed: 'NoneType' object has no attribute 'copy'\n",
      "PS2602 visit 1 failed: 'NoneType' object has no attribute 'copy'\n"
     ]
    },
    {
     "name": "stdout",
     "output_type": "stream",
     "text": [
      "There is no blood pressure data available during the extubated period.\n",
      "There is no blood pressure data available during the extubated period.\n"
     ]
    },
    {
     "name": "stderr",
     "output_type": "stream",
     "text": [
      "PF3299 visit 1 failed: 'NoneType' object has no attribute 'copy'\n"
     ]
    },
    {
     "name": "stdout",
     "output_type": "stream",
     "text": [
      "There is no blood pressure data available during the extubated period.\n"
     ]
    },
    {
     "name": "stderr",
     "output_type": "stream",
     "text": [
      "PH3025 visit 1 failed: 'NoneType' object has no attribute 'copy'\n",
      "PH4062 visit 1 failed: 'NoneType' object has no attribute 'copy'\n"
     ]
    },
    {
     "name": "stdout",
     "output_type": "stream",
     "text": [
      "There is no blood pressure data available during the extubated period.\n",
      "There is no blood pressure data available during the extubated period.\n"
     ]
    },
    {
     "name": "stderr",
     "output_type": "stream",
     "text": [
      "PC1484 visit 1 failed: float division by zero\n",
      "PC1459 visit 1 failed: 'NoneType' object has no attribute 'copy'\n"
     ]
    },
    {
     "name": "stdout",
     "output_type": "stream",
     "text": [
      "There is no blood pressure data available during the extubated period.\n"
     ]
    },
    {
     "name": "stderr",
     "output_type": "stream",
     "text": [
      "PE2728 visit 1 failed: 'NoneType' object has no attribute 'copy'\n"
     ]
    },
    {
     "name": "stdout",
     "output_type": "stream",
     "text": [
      "There is no blood pressure data available during the extubated period.\n"
     ]
    },
    {
     "name": "stderr",
     "output_type": "stream",
     "text": [
      "PB0425 visit 1 failed: float division by zero\n",
      "PP3112 visit 1 failed: list index out of range\n",
      "PW2951 visit 1 failed: 'NoneType' object has no attribute 'copy'\n",
      "WR1634 visit 1 failed: 'NoneType' object has no attribute 'copy'\n",
      "WR3619 visit 1 failed: list index out of range\n",
      "WR1774 visit 1 failed: float division by zero\n",
      "WU0851 visit 1 failed: 'NoneType' object has no attribute 'copy'\n"
     ]
    },
    {
     "name": "stdout",
     "output_type": "stream",
     "text": [
      "There is no blood pressure data available during the extubated period.\n",
      "There is no blood pressure data available during the extubated period.\n",
      "There is no blood pressure data available during the extubated period.\n"
     ]
    },
    {
     "name": "stderr",
     "output_type": "stream",
     "text": [
      "WI1670 visit 1 failed: 'NoneType' object has no attribute 'copy'\n"
     ]
    },
    {
     "name": "stdout",
     "output_type": "stream",
     "text": [
      "There is no blood pressure data available during the extubated period.\n"
     ]
    },
    {
     "name": "stderr",
     "output_type": "stream",
     "text": [
      "WN3482 visit 1 failed: 'NoneType' object has no attribute 'copy'\n"
     ]
    },
    {
     "name": "stdout",
     "output_type": "stream",
     "text": [
      "There is no blood pressure data available during the extubated period.\n"
     ]
    },
    {
     "name": "stderr",
     "output_type": "stream",
     "text": [
      "WT2392 visit 1 failed: float division by zero\n",
      "WA3344 visit 1 failed: 'NoneType' object has no attribute 'copy'\n"
     ]
    },
    {
     "name": "stdout",
     "output_type": "stream",
     "text": [
      "There is no blood pressure data available during the extubated period.\n"
     ]
    },
    {
     "name": "stderr",
     "output_type": "stream",
     "text": [
      "WA0767 visit 1 failed: 'NoneType' object has no attribute 'copy'\n",
      "WA3543 visit 1 failed: 'NoneType' object has no attribute 'copy'\n"
     ]
    },
    {
     "name": "stdout",
     "output_type": "stream",
     "text": [
      "There is no blood pressure data available during the extubated period.\n",
      "There is no blood pressure data available during the extubated period.\n"
     ]
    },
    {
     "name": "stderr",
     "output_type": "stream",
     "text": [
      "WO2369 visit 1 failed: list index out of range\n",
      "WH3849 visit 1 failed: list index out of range\n",
      "WM2218 visit 1 failed: 'NoneType' object has no attribute 'copy'\n",
      "WM1819 visit 1 failed: float division by zero\n"
     ]
    },
    {
     "name": "stdout",
     "output_type": "stream",
     "text": [
      "There is no blood pressure data available during the extubated period.\n"
     ]
    },
    {
     "name": "stderr",
     "output_type": "stream",
     "text": [
      "WV0832 visit 1 failed: 'NoneType' object has no attribute 'copy'\n"
     ]
    },
    {
     "name": "stdout",
     "output_type": "stream",
     "text": [
      "There is no blood pressure data available during the extubated period.\n"
     ]
    },
    {
     "name": "stderr",
     "output_type": "stream",
     "text": [
      "WV2604 visit 1 failed: 'NoneType' object has no attribute 'copy'\n"
     ]
    },
    {
     "name": "stdout",
     "output_type": "stream",
     "text": [
      "There is no blood pressure data available during the extubated period.\n"
     ]
    },
    {
     "name": "stderr",
     "output_type": "stream",
     "text": [
      "WQ0872 visit 1 failed: 'NoneType' object has no attribute 'copy'\n"
     ]
    },
    {
     "name": "stdout",
     "output_type": "stream",
     "text": [
      "There is no blood pressure data available during the extubated period.\n"
     ]
    },
    {
     "name": "stderr",
     "output_type": "stream",
     "text": [
      "WX1717 visit 1 failed: float division by zero\n",
      "WB0858 visit 1 failed: 'NoneType' object has no attribute 'copy'\n"
     ]
    },
    {
     "name": "stdout",
     "output_type": "stream",
     "text": [
      "There is no blood pressure data available during the extubated period.\n"
     ]
    },
    {
     "name": "stderr",
     "output_type": "stream",
     "text": [
      "WK2025 visit 1 failed: 'NoneType' object has no attribute 'copy'\n",
      "WK3216 visit 1 failed: 'NoneType' object has no attribute 'copy'\n",
      "WK1266 visit 1 failed: list index out of range\n"
     ]
    },
    {
     "name": "stdout",
     "output_type": "stream",
     "text": [
      "There is no blood pressure data available during the extubated period.\n",
      "There is no blood pressure data available during the extubated period.\n"
     ]
    },
    {
     "name": "stderr",
     "output_type": "stream",
     "text": [
      "WP0322 visit 1 failed: 'NoneType' object has no attribute 'copy'\n"
     ]
    },
    {
     "name": "stdout",
     "output_type": "stream",
     "text": [
      "There is no blood pressure data available during the extubated period.\n"
     ]
    },
    {
     "name": "stderr",
     "output_type": "stream",
     "text": [
      "RU3374 visit 2 failed: 'NoneType' object has no attribute 'copy'\n"
     ]
    },
    {
     "name": "stdout",
     "output_type": "stream",
     "text": [
      "There is no blood pressure data available during the extubated period.\n"
     ]
    },
    {
     "name": "stderr",
     "output_type": "stream",
     "text": [
      "RF3191 visit 2 failed: 'NoneType' object has no attribute 'copy'\n"
     ]
    },
    {
     "name": "stdout",
     "output_type": "stream",
     "text": [
      "There is no blood pressure data available during the extubated period.\n"
     ]
    },
    {
     "name": "stderr",
     "output_type": "stream",
     "text": [
      "UI2772 visit 2 failed: 'NoneType' object has no attribute 'copy'\n",
      "UZ3879 visit 2 failed: float division by zero\n"
     ]
    },
    {
     "name": "stdout",
     "output_type": "stream",
     "text": [
      "There is no blood pressure data available during the extubated period.\n"
     ]
    },
    {
     "name": "stderr",
     "output_type": "stream",
     "text": [
      "UM3274 visit 2 failed: 'NoneType' object has no attribute 'copy'\n"
     ]
    },
    {
     "name": "stdout",
     "output_type": "stream",
     "text": [
      "There is no blood pressure data available during the extubated period.\n"
     ]
    },
    {
     "name": "stderr",
     "output_type": "stream",
     "text": [
      "UE1977 visit 2 failed: 'NoneType' object has no attribute 'copy'\n"
     ]
    },
    {
     "name": "stdout",
     "output_type": "stream",
     "text": [
      "There is no blood pressure data available during the extubated period.\n"
     ]
    },
    {
     "name": "stderr",
     "output_type": "stream",
     "text": [
      "UP3135 visit 2 failed: 'NoneType' object has no attribute 'copy'\n"
     ]
    },
    {
     "name": "stdout",
     "output_type": "stream",
     "text": [
      "There is no blood pressure data available during the extubated period.\n"
     ]
    },
    {
     "name": "stderr",
     "output_type": "stream",
     "text": [
      "II2900 visit 2 failed: 'NoneType' object has no attribute 'copy'\n",
      "IO2933 visit 2 failed: list index out of range\n"
     ]
    },
    {
     "name": "stdout",
     "output_type": "stream",
     "text": [
      "There is no blood pressure data available during the extubated period.\n"
     ]
    },
    {
     "name": "stderr",
     "output_type": "stream",
     "text": [
      "NG4060 visit 2 failed: 'NoneType' object has no attribute 'copy'\n"
     ]
    },
    {
     "name": "stdout",
     "output_type": "stream",
     "text": [
      "There is no blood pressure data available during the extubated period.\n"
     ]
    },
    {
     "name": "stderr",
     "output_type": "stream",
     "text": [
      "NO0745 visit 2 failed: 'NoneType' object has no attribute 'copy'\n"
     ]
    },
    {
     "name": "stdout",
     "output_type": "stream",
     "text": [
      "There is no blood pressure data available during the extubated period.\n"
     ]
    },
    {
     "name": "stderr",
     "output_type": "stream",
     "text": [
      "NB0532 visit 2 failed: list index out of range\n",
      "GF0332 visit 2 failed: 'NoneType' object has no attribute 'copy'\n"
     ]
    },
    {
     "name": "stdout",
     "output_type": "stream",
     "text": [
      "There is no blood pressure data available during the extubated period.\n"
     ]
    },
    {
     "name": "stderr",
     "output_type": "stream",
     "text": [
      "GX3384 visit 2 failed: float division by zero\n",
      "ZI0001 visit 2 failed: list index out of range\n",
      "ZZ3819 visit 2 failed: 'NoneType' object has no attribute 'copy'\n"
     ]
    },
    {
     "name": "stdout",
     "output_type": "stream",
     "text": [
      "There is no blood pressure data available during the extubated period.\n"
     ]
    },
    {
     "name": "stderr",
     "output_type": "stream",
     "text": [
      "ZV2143 visit 2 failed: 'NoneType' object has no attribute 'copy'\n"
     ]
    },
    {
     "name": "stdout",
     "output_type": "stream",
     "text": [
      "There is no blood pressure data available during the extubated period.\n"
     ]
    },
    {
     "name": "stderr",
     "output_type": "stream",
     "text": [
      "ZK0210 visit 2 failed: 'NoneType' object has no attribute 'copy'\n"
     ]
    },
    {
     "name": "stdout",
     "output_type": "stream",
     "text": [
      "There is no blood pressure data available during the extubated period.\n"
     ]
    },
    {
     "name": "stderr",
     "output_type": "stream",
     "text": [
      "TM3407 visit 2 failed: list index out of range\n",
      "TB3584 visit 2 failed: 'NoneType' object has no attribute 'copy'\n"
     ]
    },
    {
     "name": "stdout",
     "output_type": "stream",
     "text": [
      "There is no blood pressure data available during the extubated period.\n"
     ]
    },
    {
     "name": "stderr",
     "output_type": "stream",
     "text": [
      "SR3669 visit 2 failed: float division by zero\n",
      "SG0415 visit 2 failed: list index out of range\n",
      "SJ1282 visit 2 failed: 'NoneType' object has no attribute 'copy'\n"
     ]
    },
    {
     "name": "stdout",
     "output_type": "stream",
     "text": [
      "There is no blood pressure data available during the extubated period.\n"
     ]
    },
    {
     "name": "stderr",
     "output_type": "stream",
     "text": [
      "SY1360 visit 2 failed: float division by zero\n",
      "SW3127 visit 2 failed: 'NoneType' object has no attribute 'copy'\n",
      "AR1658 visit 2 failed: 'NoneType' object has no attribute 'copy'\n"
     ]
    },
    {
     "name": "stdout",
     "output_type": "stream",
     "text": [
      "There is no blood pressure data available during the extubated period.\n",
      "There is no blood pressure data available during the extubated period.\n"
     ]
    },
    {
     "name": "stderr",
     "output_type": "stream",
     "text": [
      "AX2574 visit 2 failed: list index out of range\n",
      "FN1631 visit 2 failed: 'NoneType' object has no attribute 'copy'\n"
     ]
    },
    {
     "name": "stdout",
     "output_type": "stream",
     "text": [
      "There is no blood pressure data available during the extubated period.\n"
     ]
    },
    {
     "name": "stderr",
     "output_type": "stream",
     "text": [
      "FA3665 visit 2 failed: 'NoneType' object has no attribute 'copy'\n"
     ]
    },
    {
     "name": "stdout",
     "output_type": "stream",
     "text": [
      "There is no blood pressure data available during the extubated period.\n"
     ]
    },
    {
     "name": "stderr",
     "output_type": "stream",
     "text": [
      "FQ0243 visit 2 failed: 'NoneType' object has no attribute 'copy'\n",
      "FX3187 visit 2 failed: list index out of range\n",
      "FB0142 visit 2 failed: list index out of range\n"
     ]
    },
    {
     "name": "stdout",
     "output_type": "stream",
     "text": [
      "There is no blood pressure data available during the extubated period.\n"
     ]
    },
    {
     "name": "stderr",
     "output_type": "stream",
     "text": [
      "OX1965 visit 2 failed: 'NoneType' object has no attribute 'copy'\n"
     ]
    },
    {
     "name": "stdout",
     "output_type": "stream",
     "text": [
      "There is no blood pressure data available during the extubated period.\n"
     ]
    },
    {
     "name": "stderr",
     "output_type": "stream",
     "text": [
      "OP3050 visit 2 failed: list index out of range\n",
      "HI2811 visit 2 failed: float division by zero\n",
      "HN2879 visit 2 failed: list index out of range\n",
      "HG1370 visit 2 failed: 'NoneType' object has no attribute 'copy'\n",
      "HF1930 visit 2 failed: 'NoneType' object has no attribute 'copy'\n"
     ]
    },
    {
     "name": "stdout",
     "output_type": "stream",
     "text": [
      "There is no blood pressure data available during the extubated period.\n",
      "There is no blood pressure data available during the extubated period.\n"
     ]
    },
    {
     "name": "stderr",
     "output_type": "stream",
     "text": [
      "HH3397 visit 2 failed: 'NoneType' object has no attribute 'copy'\n",
      "HH2517 visit 2 failed: list index out of range\n",
      "HM3001 visit 2 failed: list index out of range\n"
     ]
    },
    {
     "name": "stdout",
     "output_type": "stream",
     "text": [
      "There is no blood pressure data available during the extubated period.\n"
     ]
    },
    {
     "name": "stderr",
     "output_type": "stream",
     "text": [
      "HX1195 visit 2 failed: 'NoneType' object has no attribute 'copy'\n",
      "HW3210 visit 2 failed: 'NoneType' object has no attribute 'copy'\n",
      "MO2268 visit 2 failed: 'NoneType' object has no attribute 'copy'\n"
     ]
    },
    {
     "name": "stdout",
     "output_type": "stream",
     "text": [
      "There is no blood pressure data available during the extubated period.\n",
      "There is no blood pressure data available during the extubated period.\n",
      "There is no blood pressure data available during the extubated period.\n"
     ]
    },
    {
     "name": "stderr",
     "output_type": "stream",
     "text": [
      "MB2234 visit 2 failed: 'NoneType' object has no attribute 'copy'\n",
      "MB1161 visit 2 failed: 'NoneType' object has no attribute 'copy'\n"
     ]
    },
    {
     "name": "stdout",
     "output_type": "stream",
     "text": [
      "There is no blood pressure data available during the extubated period.\n",
      "There is no blood pressure data available during the extubated period.\n"
     ]
    },
    {
     "name": "stderr",
     "output_type": "stream",
     "text": [
      "JU3188 visit 2 failed: 'NoneType' object has no attribute 'copy'\n"
     ]
    },
    {
     "name": "stdout",
     "output_type": "stream",
     "text": [
      "There is no blood pressure data available during the extubated period.\n"
     ]
    },
    {
     "name": "stderr",
     "output_type": "stream",
     "text": [
      "JN0830 visit 2 failed: 'NoneType' object has no attribute 'copy'\n"
     ]
    },
    {
     "name": "stdout",
     "output_type": "stream",
     "text": [
      "There is no blood pressure data available during the extubated period.\n"
     ]
    },
    {
     "name": "stderr",
     "output_type": "stream",
     "text": [
      "JA2458 visit 2 failed: 'NoneType' object has no attribute 'copy'\n",
      "JF3629 visit 2 failed: 'NoneType' object has no attribute 'copy'\n",
      "JF0436 visit 2 failed: 'NoneType' object has no attribute 'copy'\n"
     ]
    },
    {
     "name": "stdout",
     "output_type": "stream",
     "text": [
      "There is no blood pressure data available during the extubated period.\n",
      "There is no blood pressure data available during the extubated period.\n",
      "There is no blood pressure data available during the extubated period.\n"
     ]
    },
    {
     "name": "stderr",
     "output_type": "stream",
     "text": [
      "JO1154 visit 2 failed: 'NoneType' object has no attribute 'copy'\n",
      "JC3990 visit 2 failed: 'NoneType' object has no attribute 'copy'\n"
     ]
    },
    {
     "name": "stdout",
     "output_type": "stream",
     "text": [
      "There is no blood pressure data available during the extubated period.\n",
      "There is no blood pressure data available during the extubated period.\n"
     ]
    },
    {
     "name": "stderr",
     "output_type": "stream",
     "text": [
      "JV2802 visit 2 failed: list index out of range\n",
      "JL1921 visit 2 failed: list index out of range\n",
      "JY0954 visit 2 failed: 'NoneType' object has no attribute 'copy'\n",
      "JP3087 visit 2 failed: 'NoneType' object has no attribute 'copy'\n"
     ]
    },
    {
     "name": "stdout",
     "output_type": "stream",
     "text": [
      "There is no blood pressure data available during the extubated period.\n",
      "There is no blood pressure data available during the extubated period.\n"
     ]
    },
    {
     "name": "stderr",
     "output_type": "stream",
     "text": [
      "JW2886 visit 2 failed: 'NoneType' object has no attribute 'copy'\n"
     ]
    },
    {
     "name": "stdout",
     "output_type": "stream",
     "text": [
      "There is no blood pressure data available during the extubated period.\n"
     ]
    },
    {
     "name": "stderr",
     "output_type": "stream",
     "text": [
      "CT0571 visit 2 failed: list index out of range\n",
      "DR2183 visit 2 failed: list index out of range\n",
      "DI3758 visit 2 failed: 'NoneType' object has no attribute 'copy'\n"
     ]
    },
    {
     "name": "stdout",
     "output_type": "stream",
     "text": [
      "There is no blood pressure data available during the extubated period.\n"
     ]
    },
    {
     "name": "stderr",
     "output_type": "stream",
     "text": [
      "DT1883 visit 2 failed: float division by zero\n",
      "DC3605 visit 2 failed: 'NoneType' object has no attribute 'copy'\n"
     ]
    },
    {
     "name": "stdout",
     "output_type": "stream",
     "text": [
      "There is no blood pressure data available during the extubated period.\n"
     ]
    },
    {
     "name": "stderr",
     "output_type": "stream",
     "text": [
      "DL1180 visit 2 failed: 'NoneType' object has no attribute 'copy'\n"
     ]
    },
    {
     "name": "stdout",
     "output_type": "stream",
     "text": [
      "There is no blood pressure data available during the extubated period.\n"
     ]
    },
    {
     "name": "stderr",
     "output_type": "stream",
     "text": [
      "VR4065 visit 2 failed: float division by zero\n",
      "VQ3902 visit 2 failed: 'NoneType' object has no attribute 'copy'\n"
     ]
    },
    {
     "name": "stdout",
     "output_type": "stream",
     "text": [
      "There is no blood pressure data available during the extubated period.\n"
     ]
    },
    {
     "name": "stderr",
     "output_type": "stream",
     "text": [
      "VB3080 visit 2 failed: float division by zero\n",
      "QG0833 visit 2 failed: list index out of range\n",
      "QF2129 visit 2 failed: list index out of range\n",
      "QV3251 visit 2 failed: list index out of range\n",
      "QV2851 visit 2 failed: 'NoneType' object has no attribute 'copy'\n",
      "QX3047 visit 2 failed: 'NoneType' object has no attribute 'copy'\n",
      "QY0226 visit 2 failed: 'NoneType' object has no attribute 'copy'\n"
     ]
    },
    {
     "name": "stdout",
     "output_type": "stream",
     "text": [
      "There is no blood pressure data available during the extubated period.\n",
      "There is no blood pressure data available during the extubated period.\n",
      "There is no blood pressure data available during the extubated period.\n"
     ]
    },
    {
     "name": "stderr",
     "output_type": "stream",
     "text": [
      "QW2457 visit 2 failed: float division by zero\n",
      "XR2694 visit 2 failed: 'NoneType' object has no attribute 'copy'\n"
     ]
    },
    {
     "name": "stdout",
     "output_type": "stream",
     "text": [
      "There is no blood pressure data available during the extubated period.\n"
     ]
    },
    {
     "name": "stderr",
     "output_type": "stream",
     "text": [
      "XF1055 visit 2 failed: 'NoneType' object has no attribute 'copy'\n"
     ]
    },
    {
     "name": "stdout",
     "output_type": "stream",
     "text": [
      "There is no blood pressure data available during the extubated period.\n"
     ]
    },
    {
     "name": "stderr",
     "output_type": "stream",
     "text": [
      "XM3322 visit 2 failed: 'NoneType' object has no attribute 'copy'\n",
      "XC1388 visit 2 failed: list index out of range\n"
     ]
    },
    {
     "name": "stdout",
     "output_type": "stream",
     "text": [
      "There is no blood pressure data available during the extubated period.\n"
     ]
    },
    {
     "name": "stderr",
     "output_type": "stream",
     "text": [
      "XX1525 visit 2 failed: 'NoneType' object has no attribute 'copy'\n"
     ]
    },
    {
     "name": "stdout",
     "output_type": "stream",
     "text": [
      "There is no blood pressure data available during the extubated period.\n"
     ]
    },
    {
     "name": "stderr",
     "output_type": "stream",
     "text": [
      "XL1553 visit 2 failed: list index out of range\n",
      "EN3335 visit 2 failed: 'NoneType' object has no attribute 'copy'\n"
     ]
    },
    {
     "name": "stdout",
     "output_type": "stream",
     "text": [
      "There is no blood pressure data available during the extubated period.\n"
     ]
    },
    {
     "name": "stderr",
     "output_type": "stream",
     "text": [
      "EA1186 visit 2 failed: 'NoneType' object has no attribute 'copy'\n"
     ]
    },
    {
     "name": "stdout",
     "output_type": "stream",
     "text": [
      "There is no blood pressure data available during the extubated period.\n"
     ]
    },
    {
     "name": "stderr",
     "output_type": "stream",
     "text": [
      "EF3271 visit 2 failed: list index out of range\n",
      "EM2092 visit 2 failed: 'NoneType' object has no attribute 'copy'\n"
     ]
    },
    {
     "name": "stdout",
     "output_type": "stream",
     "text": [
      "There is no blood pressure data available during the extubated period.\n"
     ]
    },
    {
     "name": "stderr",
     "output_type": "stream",
     "text": [
      "EJ3480 visit 2 failed: float division by zero\n",
      "EB2133 visit 2 failed: 'NoneType' object has no attribute 'copy'\n"
     ]
    },
    {
     "name": "stdout",
     "output_type": "stream",
     "text": [
      "There is no blood pressure data available during the extubated period.\n"
     ]
    },
    {
     "name": "stderr",
     "output_type": "stream",
     "text": [
      "EY3880 visit 2 failed: 'NoneType' object has no attribute 'copy'\n"
     ]
    },
    {
     "name": "stdout",
     "output_type": "stream",
     "text": [
      "There is no blood pressure data available during the extubated period.\n"
     ]
    },
    {
     "name": "stderr",
     "output_type": "stream",
     "text": [
      "BS1057 visit 2 failed: 'NoneType' object has no attribute 'copy'\n"
     ]
    },
    {
     "name": "stdout",
     "output_type": "stream",
     "text": [
      "There is no blood pressure data available during the extubated period.\n"
     ]
    },
    {
     "name": "stderr",
     "output_type": "stream",
     "text": [
      "BD3015 visit 2 failed: 'NoneType' object has no attribute 'copy'\n"
     ]
    },
    {
     "name": "stdout",
     "output_type": "stream",
     "text": [
      "There is no blood pressure data available during the extubated period.\n"
     ]
    },
    {
     "name": "stderr",
     "output_type": "stream",
     "text": [
      "BX1752 visit 2 failed: list index out of range\n",
      "KI0131 visit 2 failed: 'NoneType' object has no attribute 'copy'\n"
     ]
    },
    {
     "name": "stdout",
     "output_type": "stream",
     "text": [
      "There is no blood pressure data available during the extubated period.\n"
     ]
    },
    {
     "name": "stderr",
     "output_type": "stream",
     "text": [
      "KQ1501 visit 2 failed: list index out of range\n",
      "LZ1639 visit 2 failed: list index out of range\n",
      "LA1106 visit 2 failed: float division by zero\n",
      "LJ3633 visit 2 failed: 'NoneType' object has no attribute 'copy'\n",
      "LQ1384 visit 2 failed: 'NoneType' object has no attribute 'copy'\n",
      "LB2274 visit 2 failed: list index out of range\n",
      "LK3360 visit 2 failed: list index out of range\n"
     ]
    },
    {
     "name": "stdout",
     "output_type": "stream",
     "text": [
      "There is no blood pressure data available during the extubated period.\n",
      "There is no blood pressure data available during the extubated period.\n"
     ]
    },
    {
     "name": "stderr",
     "output_type": "stream",
     "text": [
      "LY3942 visit 2 failed: 'NoneType' object has no attribute 'copy'\n",
      "YR3611 visit 2 failed: list index out of range\n",
      "YR3736 visit 2 failed: 'NoneType' object has no attribute 'copy'\n"
     ]
    },
    {
     "name": "stdout",
     "output_type": "stream",
     "text": [
      "There is no blood pressure data available during the extubated period.\n",
      "There is no blood pressure data available during the extubated period.\n"
     ]
    },
    {
     "name": "stderr",
     "output_type": "stream",
     "text": [
      "YN0877 visit 2 failed: 'NoneType' object has no attribute 'copy'\n"
     ]
    },
    {
     "name": "stdout",
     "output_type": "stream",
     "text": [
      "There is no blood pressure data available during the extubated period.\n"
     ]
    },
    {
     "name": "stderr",
     "output_type": "stream",
     "text": [
      "YJ1585 visit 2 failed: list index out of range\n",
      "YD3777 visit 2 failed: list index out of range\n",
      "YX2562 visit 2 failed: 'NoneType' object has no attribute 'copy'\n"
     ]
    },
    {
     "name": "stdout",
     "output_type": "stream",
     "text": [
      "There is no blood pressure data available during the extubated period.\n"
     ]
    },
    {
     "name": "stderr",
     "output_type": "stream",
     "text": [
      "YY1571 visit 2 failed: 'NoneType' object has no attribute 'copy'\n"
     ]
    },
    {
     "name": "stdout",
     "output_type": "stream",
     "text": [
      "There is no blood pressure data available during the extubated period.\n"
     ]
    },
    {
     "name": "stderr",
     "output_type": "stream",
     "text": [
      "PA3979 visit 2 failed: 'NoneType' object has no attribute 'copy'\n",
      "PA3476 visit 2 failed: list index out of range\n"
     ]
    },
    {
     "name": "stdout",
     "output_type": "stream",
     "text": [
      "There is no blood pressure data available during the extubated period.\n"
     ]
    },
    {
     "name": "stderr",
     "output_type": "stream",
     "text": [
      "PV1781 visit 2 failed: 'NoneType' object has no attribute 'copy'\n",
      "PK2813 visit 2 failed: 'NoneType' object has no attribute 'copy'\n",
      "PL0786 visit 2 failed: list index out of range\n"
     ]
    },
    {
     "name": "stdout",
     "output_type": "stream",
     "text": [
      "There is no blood pressure data available during the extubated period.\n",
      "There is no blood pressure data available during the extubated period.\n"
     ]
    },
    {
     "name": "stderr",
     "output_type": "stream",
     "text": [
      "WF1607 visit 2 failed: 'NoneType' object has no attribute 'copy'\n"
     ]
    },
    {
     "name": "stdout",
     "output_type": "stream",
     "text": [
      "There is no blood pressure data available during the extubated period.\n"
     ]
    },
    {
     "name": "stderr",
     "output_type": "stream",
     "text": [
      "WD1817 visit 2 failed: 'NoneType' object has no attribute 'copy'\n"
     ]
    },
    {
     "name": "stdout",
     "output_type": "stream",
     "text": [
      "There is no blood pressure data available during the extubated period.\n"
     ]
    },
    {
     "name": "stderr",
     "output_type": "stream",
     "text": [
      "UG1136 visit 3 failed: 'NoneType' object has no attribute 'copy'\n"
     ]
    },
    {
     "name": "stdout",
     "output_type": "stream",
     "text": [
      "There is no blood pressure data available during the extubated period.\n"
     ]
    },
    {
     "name": "stderr",
     "output_type": "stream",
     "text": [
      "US1691 visit 3 failed: 'NoneType' object has no attribute 'copy'\n"
     ]
    },
    {
     "name": "stdout",
     "output_type": "stream",
     "text": [
      "There is no blood pressure data available during the extubated period.\n"
     ]
    },
    {
     "name": "stderr",
     "output_type": "stream",
     "text": [
      "NO0745 visit 3 failed: float division by zero\n",
      "GF0332 visit 3 failed: 'NoneType' object has no attribute 'copy'\n"
     ]
    },
    {
     "name": "stdout",
     "output_type": "stream",
     "text": [
      "There is no blood pressure data available during the extubated period.\n"
     ]
    },
    {
     "name": "stderr",
     "output_type": "stream",
     "text": [
      "GH2661 visit 3 failed: 'NoneType' object has no attribute 'copy'\n"
     ]
    },
    {
     "name": "stdout",
     "output_type": "stream",
     "text": [
      "There is no blood pressure data available during the extubated period.\n"
     ]
    },
    {
     "name": "stderr",
     "output_type": "stream",
     "text": [
      "ZV2143 visit 3 failed: 'NoneType' object has no attribute 'copy'\n"
     ]
    },
    {
     "name": "stdout",
     "output_type": "stream",
     "text": [
      "There is no blood pressure data available during the extubated period.\n"
     ]
    },
    {
     "name": "stderr",
     "output_type": "stream",
     "text": [
      "ZB2434 visit 3 failed: list index out of range\n",
      "TR1110 visit 3 failed: 'NoneType' object has no attribute 'copy'\n",
      "TU3561 visit 3 failed: 'NoneType' object has no attribute 'copy'\n",
      "TZ3016 visit 3 failed: 'NoneType' object has no attribute 'copy'\n"
     ]
    },
    {
     "name": "stdout",
     "output_type": "stream",
     "text": [
      "There is no blood pressure data available during the extubated period.\n",
      "There is no blood pressure data available during the extubated period.\n",
      "There is no blood pressure data available during the extubated period.\n"
     ]
    },
    {
     "name": "stderr",
     "output_type": "stream",
     "text": [
      "TM3407 visit 3 failed: list index out of range\n",
      "TL3114 visit 3 failed: list index out of range\n",
      "SF1521 visit 3 failed: list index out of range\n",
      "FL1153 visit 3 failed: list index out of range\n",
      "MO2561 visit 3 failed: 'NoneType' object has no attribute 'copy'\n",
      "MH1463 visit 3 failed: 'NoneType' object has no attribute 'copy'\n",
      "MC3521 visit 3 failed: 'NoneType' object has no attribute 'copy'\n",
      "MC3085 visit 3 failed: 'NoneType' object has no attribute 'copy'\n"
     ]
    },
    {
     "name": "stdout",
     "output_type": "stream",
     "text": [
      "There is no blood pressure data available during the extubated period.\n",
      "There is no blood pressure data available during the extubated period.\n",
      "There is no blood pressure data available during the extubated period.\n",
      "There is no blood pressure data available during the extubated period.\n"
     ]
    },
    {
     "name": "stderr",
     "output_type": "stream",
     "text": [
      "JZ0818 visit 3 failed: list index out of range\n",
      "JF3629 visit 3 failed: list index out of range\n",
      "JV2802 visit 3 failed: 'NoneType' object has no attribute 'copy'\n"
     ]
    },
    {
     "name": "stdout",
     "output_type": "stream",
     "text": [
      "There is no blood pressure data available during the extubated period.\n"
     ]
    },
    {
     "name": "stderr",
     "output_type": "stream",
     "text": [
      "JV2038 visit 3 failed: 'NoneType' object has no attribute 'copy'\n",
      "JY0954 visit 3 failed: 'NoneType' object has no attribute 'copy'\n",
      "JW1624 visit 3 failed: 'NoneType' object has no attribute 'copy'\n"
     ]
    },
    {
     "name": "stdout",
     "output_type": "stream",
     "text": [
      "There is no blood pressure data available during the extubated period.\n",
      "There is no blood pressure data available during the extubated period.\n",
      "There is no blood pressure data available during the extubated period.\n"
     ]
    },
    {
     "name": "stderr",
     "output_type": "stream",
     "text": [
      "DC3605 visit 3 failed: list index out of range\n",
      "DD1778 visit 3 failed: 'NoneType' object has no attribute 'copy'\n",
      "DX3720 visit 3 failed: 'NoneType' object has no attribute 'copy'\n",
      "DE0855 visit 3 failed: list index out of range\n"
     ]
    },
    {
     "name": "stdout",
     "output_type": "stream",
     "text": [
      "There is no blood pressure data available during the extubated period.\n",
      "There is no blood pressure data available during the extubated period.\n"
     ]
    },
    {
     "name": "stderr",
     "output_type": "stream",
     "text": [
      "VA1742 visit 3 failed: list index out of range\n",
      "VA1606 visit 3 failed: 'NoneType' object has no attribute 'copy'\n"
     ]
    },
    {
     "name": "stdout",
     "output_type": "stream",
     "text": [
      "There is no blood pressure data available during the extubated period.\n"
     ]
    },
    {
     "name": "stderr",
     "output_type": "stream",
     "text": [
      "VV2076 visit 3 failed: 'NoneType' object has no attribute 'copy'\n",
      "VV3912 visit 3 failed: list index out of range\n",
      "VQ3902 visit 3 failed: 'NoneType' object has no attribute 'copy'\n"
     ]
    },
    {
     "name": "stdout",
     "output_type": "stream",
     "text": [
      "There is no blood pressure data available during the extubated period.\n",
      "There is no blood pressure data available during the extubated period.\n"
     ]
    },
    {
     "name": "stderr",
     "output_type": "stream",
     "text": [
      "VW1487 visit 3 failed: 'NoneType' object has no attribute 'copy'\n",
      "QG3287 visit 3 failed: 'NoneType' object has no attribute 'copy'\n"
     ]
    },
    {
     "name": "stdout",
     "output_type": "stream",
     "text": [
      "There is no blood pressure data available during the extubated period.\n",
      "There is no blood pressure data available during the extubated period.\n"
     ]
    },
    {
     "name": "stderr",
     "output_type": "stream",
     "text": [
      "QH3453 visit 3 failed: list index out of range\n",
      "QY3232 visit 3 failed: list index out of range\n",
      "XX1525 visit 3 failed: 'NoneType' object has no attribute 'copy'\n"
     ]
    },
    {
     "name": "stdout",
     "output_type": "stream",
     "text": [
      "There is no blood pressure data available during the extubated period.\n"
     ]
    },
    {
     "name": "stderr",
     "output_type": "stream",
     "text": [
      "EB2133 visit 3 failed: list index out of range\n",
      "BR0715 visit 3 failed: float division by zero\n",
      "YI0684 visit 3 failed: list index out of range\n",
      "YN0900 visit 3 failed: 'NoneType' object has no attribute 'copy'\n"
     ]
    },
    {
     "name": "stdout",
     "output_type": "stream",
     "text": [
      "There is no blood pressure data available during the extubated period.\n"
     ]
    },
    {
     "name": "stderr",
     "output_type": "stream",
     "text": [
      "WV3677 visit 3 failed: list index out of range\n",
      "NI0065 visit 4 failed: list index out of range\n",
      "TH1671 visit 4 failed: 'NoneType' object has no attribute 'copy'\n",
      "TV1508 visit 4 failed: 'NoneType' object has no attribute 'copy'\n"
     ]
    },
    {
     "name": "stdout",
     "output_type": "stream",
     "text": [
      "There is no blood pressure data available during the extubated period.\n",
      "There is no blood pressure data available during the extubated period.\n"
     ]
    },
    {
     "name": "stderr",
     "output_type": "stream",
     "text": [
      "MB2234 visit 4 failed: float division by zero\n",
      "JY0954 visit 4 failed: 'NoneType' object has no attribute 'copy'\n",
      "CT3523 visit 4 failed: float division by zero\n",
      "CT0571 visit 4 failed: list index out of range\n"
     ]
    },
    {
     "name": "stdout",
     "output_type": "stream",
     "text": [
      "There is no blood pressure data available during the extubated period.\n"
     ]
    },
    {
     "name": "stderr",
     "output_type": "stream",
     "text": [
      "VO1955 visit 4 failed: 'NoneType' object has no attribute 'copy'\n",
      "VQ3902 visit 4 failed: 'NoneType' object has no attribute 'copy'\n"
     ]
    },
    {
     "name": "stdout",
     "output_type": "stream",
     "text": [
      "There is no blood pressure data available during the extubated period.\n",
      "There is no blood pressure data available during the extubated period.\n"
     ]
    },
    {
     "name": "stderr",
     "output_type": "stream",
     "text": [
      "EN3335 visit 4 failed: list index out of range\n",
      "EB2223 visit 4 failed: 'NoneType' object has no attribute 'copy'\n",
      "EB2133 visit 4 failed: list index out of range\n",
      "KZ0874 visit 4 failed: 'NoneType' object has no attribute 'copy'\n"
     ]
    },
    {
     "name": "stdout",
     "output_type": "stream",
     "text": [
      "There is no blood pressure data available during the extubated period.\n",
      "There is no blood pressure data available during the extubated period.\n"
     ]
    }
   ],
   "source": [
    "var_abf_results_c2_pt1 = cohort2_pt1.var_results(abf = True)"
   ]
  },
  {
   "cell_type": "code",
   "execution_count": 8,
   "metadata": {},
   "outputs": [],
   "source": [
    "var_abf_results_c1[0].to_csv(\"variance_abf_results_c1.csv\")"
   ]
  },
  {
   "cell_type": "code",
   "execution_count": 9,
   "metadata": {},
   "outputs": [],
   "source": [
    "var_abf_results_c2_pt1[0].to_csv(\"variance_abf_results_c2_pt1.csv\")"
   ]
  },
  {
   "cell_type": "code",
   "execution_count": 10,
   "metadata": {},
   "outputs": [
    {
     "name": "stdout",
     "output_type": "stream",
     "text": [
      "Test 22 of 66 failed: (0.002033,increasing)\n",
      "Test 23 of 66 failed: (0.003207,decreasing)\n",
      "Test 24 of 66 failed: (0.005037,decreasing)\n",
      "Test 25 of 66 failed: (0.007575,decreasing)\n",
      "Test 26 of 66 failed: (0.008007,decreasing)\n",
      "Test 27 of 66 failed: (0.010042,increasing)\n",
      "Test 28 of 66 failed: (0.012078,decreasing)\n",
      "Test 29 of 66 failed: (0.013986,increasing)\n",
      "Test 30 of 66 failed: (0.014597,decreasing)\n",
      "Test 31 of 66 failed: (0.020175,increasing)\n",
      "Test 32 of 66 failed: (0.036256,increasing)\n",
      "Test 33 of 66 failed: (0.045895,decreasing)\n",
      "Test 34 of 66 failed: (0.053247,no trend)\n",
      "Test 35 of 66 failed: (0.056034,no trend)\n",
      "Test 36 of 66 failed: (0.070017,no trend)\n",
      "Test 37 of 66 failed: (0.094757,no trend)\n",
      "Test 38 of 66 failed: (0.097242,no trend)\n",
      "Test 39 of 66 failed: (0.107342,no trend)\n",
      "Test 40 of 66 failed: (0.123788,no trend)\n",
      "Test 41 of 66 failed: (0.164072,no trend)\n",
      "Test 42 of 66 failed: (0.188887,no trend)\n",
      "Test 43 of 66 failed: (0.226808,no trend)\n",
      "Test 44 of 66 failed: (0.238517,no trend)\n",
      "Test 45 of 66 failed: (0.270105,no trend)\n",
      "Test 46 of 66 failed: (0.275396,no trend)\n",
      "Test 47 of 66 failed: (0.292189,no trend)\n",
      "Test 48 of 66 failed: (0.300636,no trend)\n",
      "Test 49 of 66 failed: (0.316762,no trend)\n",
      "Test 50 of 66 failed: (0.387344,no trend)\n",
      "Test 51 of 66 failed: (0.388723,no trend)\n",
      "Test 52 of 66 failed: (0.408066,no trend)\n",
      "Test 53 of 66 failed: (0.412460,no trend)\n",
      "Test 54 of 66 failed: (0.431389,no trend)\n",
      "Test 55 of 66 failed: (0.438252,no trend)\n",
      "Test 56 of 66 failed: (0.438987,no trend)\n",
      "Test 57 of 66 failed: (0.564210,no trend)\n",
      "Test 58 of 66 failed: (0.587966,no trend)\n",
      "Test 59 of 66 failed: (0.681004,no trend)\n",
      "Test 60 of 66 failed: (0.772635,no trend)\n",
      "Test 61 of 66 failed: (0.835472,no trend)\n",
      "Test 62 of 66 failed: (0.847597,no trend)\n",
      "Test 63 of 66 failed: (0.857996,no trend)\n",
      "Test 64 of 66 failed: (0.907596,no trend)\n",
      "Test 65 of 66 failed: (0.950818,no trend)\n",
      "Test 66 of 66 failed: (0.959304,no trend)\n"
     ]
    }
   ],
   "source": [
    "var_abf_c1_failed = holm_bonferroni(var_abf_results_c1[0][\"Project ID\"], var_abf_results_c1[0][\"visit_no\"], var_abf_results_c1[0][\"p-value\"], var_abf_results_c1[0][\"trend\"])"
   ]
  },
  {
   "cell_type": "code",
   "execution_count": 11,
   "metadata": {},
   "outputs": [
    {
     "name": "stdout",
     "output_type": "stream",
     "text": [
      "Test 154 of 1280 failed: (0.000045,increasing)\n",
      "Test 155 of 1280 failed: (0.000045,decreasing)\n",
      "Test 156 of 1280 failed: (0.000047,increasing)\n",
      "Test 157 of 1280 failed: (0.000048,decreasing)\n",
      "Test 158 of 1280 failed: (0.000048,decreasing)\n",
      "Test 159 of 1280 failed: (0.000048,increasing)\n",
      "Test 160 of 1280 failed: (0.000050,increasing)\n",
      "Test 161 of 1280 failed: (0.000052,decreasing)\n",
      "Test 162 of 1280 failed: (0.000053,decreasing)\n",
      "Test 163 of 1280 failed: (0.000054,increasing)\n",
      "Test 164 of 1280 failed: (0.000056,increasing)\n",
      "Test 165 of 1280 failed: (0.000057,increasing)\n",
      "Test 166 of 1280 failed: (0.000058,decreasing)\n",
      "Test 167 of 1280 failed: (0.000059,decreasing)\n",
      "Test 168 of 1280 failed: (0.000061,increasing)\n",
      "Test 169 of 1280 failed: (0.000064,decreasing)\n",
      "Test 170 of 1280 failed: (0.000067,increasing)\n",
      "Test 171 of 1280 failed: (0.000069,increasing)\n",
      "Test 172 of 1280 failed: (0.000070,decreasing)\n",
      "Test 173 of 1280 failed: (0.000071,decreasing)\n",
      "Test 174 of 1280 failed: (0.000075,increasing)\n",
      "Test 175 of 1280 failed: (0.000076,increasing)\n",
      "Test 176 of 1280 failed: (0.000080,decreasing)\n",
      "Test 177 of 1280 failed: (0.000087,increasing)\n",
      "Test 178 of 1280 failed: (0.000091,increasing)\n",
      "Test 179 of 1280 failed: (0.000092,decreasing)\n",
      "Test 180 of 1280 failed: (0.000092,decreasing)\n",
      "Test 181 of 1280 failed: (0.000099,increasing)\n",
      "Test 182 of 1280 failed: (0.000116,increasing)\n",
      "Test 183 of 1280 failed: (0.000117,increasing)\n",
      "Test 184 of 1280 failed: (0.000126,increasing)\n",
      "Test 185 of 1280 failed: (0.000127,increasing)\n",
      "Test 186 of 1280 failed: (0.000130,decreasing)\n",
      "Test 187 of 1280 failed: (0.000136,increasing)\n",
      "Test 188 of 1280 failed: (0.000137,increasing)\n",
      "Test 189 of 1280 failed: (0.000142,decreasing)\n",
      "Test 190 of 1280 failed: (0.000148,decreasing)\n",
      "Test 191 of 1280 failed: (0.000156,decreasing)\n",
      "Test 192 of 1280 failed: (0.000165,increasing)\n",
      "Test 193 of 1280 failed: (0.000165,decreasing)\n",
      "Test 194 of 1280 failed: (0.000168,increasing)\n",
      "Test 195 of 1280 failed: (0.000173,decreasing)\n",
      "Test 196 of 1280 failed: (0.000175,increasing)\n",
      "Test 197 of 1280 failed: (0.000176,increasing)\n",
      "Test 198 of 1280 failed: (0.000180,increasing)\n",
      "Test 199 of 1280 failed: (0.000182,increasing)\n",
      "Test 200 of 1280 failed: (0.000197,decreasing)\n",
      "Test 201 of 1280 failed: (0.000204,decreasing)\n",
      "Test 202 of 1280 failed: (0.000204,decreasing)\n",
      "Test 203 of 1280 failed: (0.000210,decreasing)\n",
      "Test 204 of 1280 failed: (0.000212,increasing)\n",
      "Test 205 of 1280 failed: (0.000227,decreasing)\n",
      "Test 206 of 1280 failed: (0.000229,decreasing)\n",
      "Test 207 of 1280 failed: (0.000230,decreasing)\n",
      "Test 208 of 1280 failed: (0.000230,decreasing)\n",
      "Test 209 of 1280 failed: (0.000237,decreasing)\n",
      "Test 210 of 1280 failed: (0.000247,decreasing)\n",
      "Test 211 of 1280 failed: (0.000249,decreasing)\n",
      "Test 212 of 1280 failed: (0.000255,decreasing)\n",
      "Test 213 of 1280 failed: (0.000257,increasing)\n",
      "Test 214 of 1280 failed: (0.000259,decreasing)\n",
      "Test 215 of 1280 failed: (0.000261,increasing)\n",
      "Test 216 of 1280 failed: (0.000261,decreasing)\n",
      "Test 217 of 1280 failed: (0.000271,increasing)\n",
      "Test 218 of 1280 failed: (0.000273,decreasing)\n",
      "Test 219 of 1280 failed: (0.000290,increasing)\n",
      "Test 220 of 1280 failed: (0.000293,decreasing)\n",
      "Test 221 of 1280 failed: (0.000300,decreasing)\n",
      "Test 222 of 1280 failed: (0.000303,decreasing)\n",
      "Test 223 of 1280 failed: (0.000304,decreasing)\n",
      "Test 224 of 1280 failed: (0.000313,decreasing)\n",
      "Test 225 of 1280 failed: (0.000318,decreasing)\n",
      "Test 226 of 1280 failed: (0.000318,increasing)\n",
      "Test 227 of 1280 failed: (0.000319,decreasing)\n",
      "Test 228 of 1280 failed: (0.000341,decreasing)\n",
      "Test 229 of 1280 failed: (0.000352,increasing)\n",
      "Test 230 of 1280 failed: (0.000373,decreasing)\n",
      "Test 231 of 1280 failed: (0.000375,decreasing)\n",
      "Test 232 of 1280 failed: (0.000388,increasing)\n",
      "Test 233 of 1280 failed: (0.000393,decreasing)\n",
      "Test 234 of 1280 failed: (0.000401,decreasing)\n",
      "Test 235 of 1280 failed: (0.000408,decreasing)\n",
      "Test 236 of 1280 failed: (0.000410,increasing)\n",
      "Test 237 of 1280 failed: (0.000410,decreasing)\n",
      "Test 238 of 1280 failed: (0.000427,decreasing)\n",
      "Test 239 of 1280 failed: (0.000429,decreasing)\n",
      "Test 240 of 1280 failed: (0.000437,increasing)\n",
      "Test 241 of 1280 failed: (0.000437,decreasing)\n",
      "Test 242 of 1280 failed: (0.000466,decreasing)\n",
      "Test 243 of 1280 failed: (0.000500,increasing)\n",
      "Test 244 of 1280 failed: (0.000511,decreasing)\n",
      "Test 245 of 1280 failed: (0.000559,increasing)\n",
      "Test 246 of 1280 failed: (0.000573,decreasing)\n",
      "Test 247 of 1280 failed: (0.000599,increasing)\n",
      "Test 248 of 1280 failed: (0.000663,increasing)\n",
      "Test 249 of 1280 failed: (0.000665,decreasing)\n",
      "Test 250 of 1280 failed: (0.000668,increasing)\n",
      "Test 251 of 1280 failed: (0.000674,decreasing)\n",
      "Test 252 of 1280 failed: (0.000680,decreasing)\n",
      "Test 253 of 1280 failed: (0.000684,increasing)\n",
      "Test 254 of 1280 failed: (0.000716,increasing)\n",
      "Test 255 of 1280 failed: (0.000756,decreasing)\n",
      "Test 256 of 1280 failed: (0.000759,increasing)\n",
      "Test 257 of 1280 failed: (0.000760,increasing)\n",
      "Test 258 of 1280 failed: (0.000765,decreasing)\n",
      "Test 259 of 1280 failed: (0.000803,decreasing)\n",
      "Test 260 of 1280 failed: (0.000809,decreasing)\n",
      "Test 261 of 1280 failed: (0.000815,increasing)\n",
      "Test 262 of 1280 failed: (0.000822,decreasing)\n",
      "Test 263 of 1280 failed: (0.000845,decreasing)\n",
      "Test 264 of 1280 failed: (0.000877,increasing)\n",
      "Test 265 of 1280 failed: (0.000897,decreasing)\n",
      "Test 266 of 1280 failed: (0.000913,decreasing)\n",
      "Test 267 of 1280 failed: (0.000919,decreasing)\n",
      "Test 268 of 1280 failed: (0.000977,increasing)\n",
      "Test 269 of 1280 failed: (0.000989,increasing)\n",
      "Test 270 of 1280 failed: (0.000993,increasing)\n",
      "Test 271 of 1280 failed: (0.001028,increasing)\n",
      "Test 272 of 1280 failed: (0.001057,increasing)\n",
      "Test 273 of 1280 failed: (0.001084,decreasing)\n",
      "Test 274 of 1280 failed: (0.001101,decreasing)\n",
      "Test 275 of 1280 failed: (0.001127,decreasing)\n",
      "Test 276 of 1280 failed: (0.001133,decreasing)\n",
      "Test 277 of 1280 failed: (0.001163,decreasing)\n",
      "Test 278 of 1280 failed: (0.001166,increasing)\n",
      "Test 279 of 1280 failed: (0.001170,increasing)\n",
      "Test 280 of 1280 failed: (0.001233,decreasing)\n",
      "Test 281 of 1280 failed: (0.001267,increasing)\n",
      "Test 282 of 1280 failed: (0.001305,decreasing)\n",
      "Test 283 of 1280 failed: (0.001333,increasing)\n",
      "Test 284 of 1280 failed: (0.001334,decreasing)\n",
      "Test 285 of 1280 failed: (0.001344,decreasing)\n",
      "Test 286 of 1280 failed: (0.001380,increasing)\n",
      "Test 287 of 1280 failed: (0.001388,increasing)\n",
      "Test 288 of 1280 failed: (0.001392,increasing)\n",
      "Test 289 of 1280 failed: (0.001412,decreasing)\n",
      "Test 290 of 1280 failed: (0.001469,decreasing)\n",
      "Test 291 of 1280 failed: (0.001519,increasing)\n",
      "Test 292 of 1280 failed: (0.001519,increasing)\n",
      "Test 293 of 1280 failed: (0.001527,decreasing)\n",
      "Test 294 of 1280 failed: (0.001654,increasing)\n",
      "Test 295 of 1280 failed: (0.001666,increasing)\n",
      "Test 296 of 1280 failed: (0.001715,decreasing)\n",
      "Test 297 of 1280 failed: (0.001753,decreasing)\n",
      "Test 298 of 1280 failed: (0.001768,decreasing)\n",
      "Test 299 of 1280 failed: (0.001779,increasing)\n",
      "Test 300 of 1280 failed: (0.001784,decreasing)\n",
      "Test 301 of 1280 failed: (0.001804,decreasing)\n",
      "Test 302 of 1280 failed: (0.001818,increasing)\n",
      "Test 303 of 1280 failed: (0.001861,increasing)\n",
      "Test 304 of 1280 failed: (0.001874,decreasing)\n",
      "Test 305 of 1280 failed: (0.001943,decreasing)\n",
      "Test 306 of 1280 failed: (0.001965,decreasing)\n",
      "Test 307 of 1280 failed: (0.002001,decreasing)\n",
      "Test 308 of 1280 failed: (0.002013,increasing)\n",
      "Test 309 of 1280 failed: (0.002037,decreasing)\n",
      "Test 310 of 1280 failed: (0.002153,decreasing)\n",
      "Test 311 of 1280 failed: (0.002200,decreasing)\n",
      "Test 312 of 1280 failed: (0.002214,decreasing)\n",
      "Test 313 of 1280 failed: (0.002254,decreasing)\n",
      "Test 314 of 1280 failed: (0.002256,increasing)\n",
      "Test 315 of 1280 failed: (0.002299,decreasing)\n",
      "Test 316 of 1280 failed: (0.002301,increasing)\n",
      "Test 317 of 1280 failed: (0.002476,decreasing)\n",
      "Test 318 of 1280 failed: (0.002492,increasing)\n",
      "Test 319 of 1280 failed: (0.002568,decreasing)\n",
      "Test 320 of 1280 failed: (0.002599,decreasing)\n",
      "Test 321 of 1280 failed: (0.002635,increasing)\n",
      "Test 322 of 1280 failed: (0.002640,decreasing)\n",
      "Test 323 of 1280 failed: (0.002667,increasing)\n",
      "Test 324 of 1280 failed: (0.002674,decreasing)\n",
      "Test 325 of 1280 failed: (0.002766,increasing)\n",
      "Test 326 of 1280 failed: (0.002774,decreasing)\n",
      "Test 327 of 1280 failed: (0.002782,increasing)\n",
      "Test 328 of 1280 failed: (0.002866,increasing)\n",
      "Test 329 of 1280 failed: (0.002889,increasing)\n",
      "Test 330 of 1280 failed: (0.002922,decreasing)\n",
      "Test 331 of 1280 failed: (0.002966,decreasing)\n",
      "Test 332 of 1280 failed: (0.003070,increasing)\n",
      "Test 333 of 1280 failed: (0.003190,decreasing)\n",
      "Test 334 of 1280 failed: (0.003216,decreasing)\n",
      "Test 335 of 1280 failed: (0.003252,decreasing)\n",
      "Test 336 of 1280 failed: (0.003329,decreasing)\n",
      "Test 337 of 1280 failed: (0.003479,increasing)\n",
      "Test 338 of 1280 failed: (0.003520,increasing)\n",
      "Test 339 of 1280 failed: (0.003550,decreasing)\n",
      "Test 340 of 1280 failed: (0.003550,decreasing)\n",
      "Test 341 of 1280 failed: (0.003585,increasing)\n",
      "Test 342 of 1280 failed: (0.003610,increasing)\n",
      "Test 343 of 1280 failed: (0.003724,decreasing)\n",
      "Test 344 of 1280 failed: (0.003737,increasing)\n",
      "Test 345 of 1280 failed: (0.003861,increasing)\n",
      "Test 346 of 1280 failed: (0.003895,increasing)\n",
      "Test 347 of 1280 failed: (0.003999,decreasing)\n",
      "Test 348 of 1280 failed: (0.004017,increasing)\n",
      "Test 349 of 1280 failed: (0.004065,decreasing)\n",
      "Test 350 of 1280 failed: (0.004144,increasing)\n",
      "Test 351 of 1280 failed: (0.004159,decreasing)\n",
      "Test 352 of 1280 failed: (0.004171,decreasing)\n",
      "Test 353 of 1280 failed: (0.004225,decreasing)\n",
      "Test 354 of 1280 failed: (0.004266,increasing)\n",
      "Test 355 of 1280 failed: (0.004314,decreasing)\n",
      "Test 356 of 1280 failed: (0.004361,decreasing)\n",
      "Test 357 of 1280 failed: (0.004380,decreasing)\n",
      "Test 358 of 1280 failed: (0.004399,increasing)\n",
      "Test 359 of 1280 failed: (0.004543,increasing)\n",
      "Test 360 of 1280 failed: (0.004592,increasing)\n",
      "Test 361 of 1280 failed: (0.004601,increasing)\n",
      "Test 362 of 1280 failed: (0.004731,increasing)\n",
      "Test 363 of 1280 failed: (0.004878,increasing)\n",
      "Test 364 of 1280 failed: (0.004976,increasing)\n",
      "Test 365 of 1280 failed: (0.005041,increasing)\n",
      "Test 366 of 1280 failed: (0.005059,increasing)\n",
      "Test 367 of 1280 failed: (0.005112,decreasing)\n",
      "Test 368 of 1280 failed: (0.005119,decreasing)\n",
      "Test 369 of 1280 failed: (0.005187,decreasing)\n",
      "Test 370 of 1280 failed: (0.005232,decreasing)\n",
      "Test 371 of 1280 failed: (0.005394,decreasing)\n",
      "Test 372 of 1280 failed: (0.005436,increasing)\n",
      "Test 373 of 1280 failed: (0.005497,decreasing)\n",
      "Test 374 of 1280 failed: (0.005514,increasing)\n",
      "Test 375 of 1280 failed: (0.005527,increasing)\n",
      "Test 376 of 1280 failed: (0.005600,increasing)\n",
      "Test 377 of 1280 failed: (0.005678,decreasing)\n",
      "Test 378 of 1280 failed: (0.005711,increasing)\n",
      "Test 379 of 1280 failed: (0.005780,decreasing)\n",
      "Test 380 of 1280 failed: (0.005798,increasing)\n",
      "Test 381 of 1280 failed: (0.005819,decreasing)\n",
      "Test 382 of 1280 failed: (0.006022,increasing)\n",
      "Test 383 of 1280 failed: (0.006038,increasing)\n",
      "Test 384 of 1280 failed: (0.006334,increasing)\n",
      "Test 385 of 1280 failed: (0.006558,decreasing)\n",
      "Test 386 of 1280 failed: (0.006650,increasing)\n",
      "Test 387 of 1280 failed: (0.006898,increasing)\n",
      "Test 388 of 1280 failed: (0.007056,increasing)\n",
      "Test 389 of 1280 failed: (0.007176,increasing)\n",
      "Test 390 of 1280 failed: (0.007245,increasing)\n",
      "Test 391 of 1280 failed: (0.007256,increasing)\n",
      "Test 392 of 1280 failed: (0.007342,increasing)\n",
      "Test 393 of 1280 failed: (0.007651,increasing)\n",
      "Test 394 of 1280 failed: (0.007664,decreasing)\n",
      "Test 395 of 1280 failed: (0.007690,increasing)\n",
      "Test 396 of 1280 failed: (0.007726,increasing)\n",
      "Test 397 of 1280 failed: (0.007921,increasing)\n",
      "Test 398 of 1280 failed: (0.007951,decreasing)\n",
      "Test 399 of 1280 failed: (0.008281,decreasing)\n",
      "Test 400 of 1280 failed: (0.008328,decreasing)\n",
      "Test 401 of 1280 failed: (0.008535,increasing)\n",
      "Test 402 of 1280 failed: (0.008851,increasing)\n",
      "Test 403 of 1280 failed: (0.008877,increasing)\n",
      "Test 404 of 1280 failed: (0.009229,decreasing)\n",
      "Test 405 of 1280 failed: (0.009276,decreasing)\n",
      "Test 406 of 1280 failed: (0.009287,increasing)\n",
      "Test 407 of 1280 failed: (0.009431,decreasing)\n",
      "Test 408 of 1280 failed: (0.009463,decreasing)\n",
      "Test 409 of 1280 failed: (0.009582,increasing)\n",
      "Test 410 of 1280 failed: (0.009591,increasing)\n",
      "Test 411 of 1280 failed: (0.009672,decreasing)\n",
      "Test 412 of 1280 failed: (0.009714,increasing)\n",
      "Test 413 of 1280 failed: (0.009771,decreasing)\n",
      "Test 414 of 1280 failed: (0.009786,decreasing)\n",
      "Test 415 of 1280 failed: (0.009834,increasing)\n",
      "Test 416 of 1280 failed: (0.009918,increasing)\n",
      "Test 417 of 1280 failed: (0.009923,decreasing)\n",
      "Test 418 of 1280 failed: (0.009941,increasing)\n",
      "Test 419 of 1280 failed: (0.009945,increasing)\n",
      "Test 420 of 1280 failed: (0.010119,decreasing)\n",
      "Test 421 of 1280 failed: (0.010223,decreasing)\n",
      "Test 422 of 1280 failed: (0.010232,decreasing)\n",
      "Test 423 of 1280 failed: (0.010341,increasing)\n",
      "Test 424 of 1280 failed: (0.010434,increasing)\n",
      "Test 425 of 1280 failed: (0.010448,decreasing)\n",
      "Test 426 of 1280 failed: (0.010526,decreasing)\n",
      "Test 427 of 1280 failed: (0.010678,decreasing)\n",
      "Test 428 of 1280 failed: (0.010680,increasing)\n",
      "Test 429 of 1280 failed: (0.011600,decreasing)\n",
      "Test 430 of 1280 failed: (0.011741,decreasing)\n",
      "Test 431 of 1280 failed: (0.011844,increasing)\n",
      "Test 432 of 1280 failed: (0.011920,decreasing)\n",
      "Test 433 of 1280 failed: (0.012093,decreasing)\n",
      "Test 434 of 1280 failed: (0.012114,decreasing)\n",
      "Test 435 of 1280 failed: (0.012159,decreasing)\n",
      "Test 436 of 1280 failed: (0.012175,decreasing)\n",
      "Test 437 of 1280 failed: (0.012257,decreasing)\n",
      "Test 438 of 1280 failed: (0.012324,increasing)\n",
      "Test 439 of 1280 failed: (0.012554,decreasing)\n",
      "Test 440 of 1280 failed: (0.012682,increasing)\n",
      "Test 441 of 1280 failed: (0.012798,decreasing)\n",
      "Test 442 of 1280 failed: (0.013144,decreasing)\n",
      "Test 443 of 1280 failed: (0.013267,decreasing)\n",
      "Test 444 of 1280 failed: (0.013501,decreasing)\n",
      "Test 445 of 1280 failed: (0.013760,increasing)\n",
      "Test 446 of 1280 failed: (0.013879,increasing)\n",
      "Test 447 of 1280 failed: (0.014002,decreasing)\n",
      "Test 448 of 1280 failed: (0.014228,decreasing)\n",
      "Test 449 of 1280 failed: (0.014272,decreasing)\n",
      "Test 450 of 1280 failed: (0.014434,decreasing)\n",
      "Test 451 of 1280 failed: (0.014492,increasing)\n",
      "Test 452 of 1280 failed: (0.014553,increasing)\n",
      "Test 453 of 1280 failed: (0.014591,increasing)\n",
      "Test 454 of 1280 failed: (0.014663,increasing)\n",
      "Test 455 of 1280 failed: (0.014734,increasing)\n",
      "Test 456 of 1280 failed: (0.014898,decreasing)\n",
      "Test 457 of 1280 failed: (0.015117,increasing)\n",
      "Test 458 of 1280 failed: (0.015520,increasing)\n",
      "Test 459 of 1280 failed: (0.016009,decreasing)\n",
      "Test 460 of 1280 failed: (0.016074,decreasing)\n",
      "Test 461 of 1280 failed: (0.016075,increasing)\n",
      "Test 462 of 1280 failed: (0.016252,decreasing)\n",
      "Test 463 of 1280 failed: (0.016612,increasing)\n",
      "Test 464 of 1280 failed: (0.017026,increasing)\n",
      "Test 465 of 1280 failed: (0.017161,decreasing)\n",
      "Test 466 of 1280 failed: (0.017222,increasing)\n",
      "Test 467 of 1280 failed: (0.017293,increasing)\n",
      "Test 468 of 1280 failed: (0.017491,decreasing)\n",
      "Test 469 of 1280 failed: (0.017796,decreasing)\n",
      "Test 470 of 1280 failed: (0.017857,decreasing)\n",
      "Test 471 of 1280 failed: (0.017912,decreasing)\n",
      "Test 472 of 1280 failed: (0.018232,increasing)\n",
      "Test 473 of 1280 failed: (0.018251,decreasing)\n",
      "Test 474 of 1280 failed: (0.018297,decreasing)\n",
      "Test 475 of 1280 failed: (0.018473,decreasing)\n",
      "Test 476 of 1280 failed: (0.018611,increasing)\n",
      "Test 477 of 1280 failed: (0.018707,increasing)\n",
      "Test 478 of 1280 failed: (0.018840,increasing)\n",
      "Test 479 of 1280 failed: (0.019121,decreasing)\n",
      "Test 480 of 1280 failed: (0.019134,increasing)\n",
      "Test 481 of 1280 failed: (0.019140,decreasing)\n",
      "Test 482 of 1280 failed: (0.019187,increasing)\n",
      "Test 483 of 1280 failed: (0.019387,decreasing)\n",
      "Test 484 of 1280 failed: (0.019493,decreasing)\n",
      "Test 485 of 1280 failed: (0.019960,increasing)\n",
      "Test 486 of 1280 failed: (0.019962,decreasing)\n",
      "Test 487 of 1280 failed: (0.020442,decreasing)\n",
      "Test 488 of 1280 failed: (0.020736,decreasing)\n",
      "Test 489 of 1280 failed: (0.020777,increasing)\n",
      "Test 490 of 1280 failed: (0.020831,decreasing)\n",
      "Test 491 of 1280 failed: (0.021572,increasing)\n",
      "Test 492 of 1280 failed: (0.021939,increasing)\n",
      "Test 493 of 1280 failed: (0.022310,decreasing)\n",
      "Test 494 of 1280 failed: (0.022312,decreasing)\n",
      "Test 495 of 1280 failed: (0.022578,decreasing)\n",
      "Test 496 of 1280 failed: (0.022860,increasing)\n",
      "Test 497 of 1280 failed: (0.022863,increasing)\n",
      "Test 498 of 1280 failed: (0.022998,increasing)\n",
      "Test 499 of 1280 failed: (0.023135,decreasing)\n",
      "Test 500 of 1280 failed: (0.023296,decreasing)\n",
      "Test 501 of 1280 failed: (0.023657,increasing)\n",
      "Test 502 of 1280 failed: (0.024843,decreasing)\n",
      "Test 503 of 1280 failed: (0.024947,increasing)\n",
      "Test 504 of 1280 failed: (0.025065,decreasing)\n",
      "Test 505 of 1280 failed: (0.025120,decreasing)\n",
      "Test 506 of 1280 failed: (0.025220,decreasing)\n",
      "Test 507 of 1280 failed: (0.025442,decreasing)\n",
      "Test 508 of 1280 failed: (0.026111,increasing)\n",
      "Test 509 of 1280 failed: (0.026411,decreasing)\n",
      "Test 510 of 1280 failed: (0.026581,increasing)\n",
      "Test 511 of 1280 failed: (0.026713,increasing)\n",
      "Test 512 of 1280 failed: (0.026773,decreasing)\n",
      "Test 513 of 1280 failed: (0.026863,decreasing)\n",
      "Test 514 of 1280 failed: (0.027754,increasing)\n",
      "Test 515 of 1280 failed: (0.028084,increasing)\n",
      "Test 516 of 1280 failed: (0.028238,decreasing)\n",
      "Test 517 of 1280 failed: (0.028570,decreasing)\n",
      "Test 518 of 1280 failed: (0.029129,decreasing)\n",
      "Test 519 of 1280 failed: (0.029172,increasing)\n",
      "Test 520 of 1280 failed: (0.029199,increasing)\n",
      "Test 521 of 1280 failed: (0.029882,decreasing)\n",
      "Test 522 of 1280 failed: (0.030037,decreasing)\n",
      "Test 523 of 1280 failed: (0.030087,decreasing)\n",
      "Test 524 of 1280 failed: (0.031129,increasing)\n",
      "Test 525 of 1280 failed: (0.032110,increasing)\n",
      "Test 526 of 1280 failed: (0.032189,decreasing)\n",
      "Test 527 of 1280 failed: (0.032739,increasing)\n",
      "Test 528 of 1280 failed: (0.032872,increasing)\n",
      "Test 529 of 1280 failed: (0.033387,increasing)\n",
      "Test 530 of 1280 failed: (0.033797,increasing)\n",
      "Test 531 of 1280 failed: (0.034057,decreasing)\n",
      "Test 532 of 1280 failed: (0.034763,increasing)\n",
      "Test 533 of 1280 failed: (0.035227,decreasing)\n",
      "Test 534 of 1280 failed: (0.035249,increasing)\n",
      "Test 535 of 1280 failed: (0.035730,increasing)\n",
      "Test 536 of 1280 failed: (0.035910,decreasing)\n",
      "Test 537 of 1280 failed: (0.037228,decreasing)\n",
      "Test 538 of 1280 failed: (0.037246,increasing)\n",
      "Test 539 of 1280 failed: (0.037484,increasing)\n",
      "Test 540 of 1280 failed: (0.037693,decreasing)\n",
      "Test 541 of 1280 failed: (0.037738,increasing)\n",
      "Test 542 of 1280 failed: (0.037993,increasing)\n",
      "Test 543 of 1280 failed: (0.038009,increasing)\n",
      "Test 544 of 1280 failed: (0.038017,increasing)\n",
      "Test 545 of 1280 failed: (0.038040,increasing)\n",
      "Test 546 of 1280 failed: (0.038858,increasing)\n",
      "Test 547 of 1280 failed: (0.038869,decreasing)\n",
      "Test 548 of 1280 failed: (0.038967,increasing)\n",
      "Test 549 of 1280 failed: (0.039670,increasing)\n",
      "Test 550 of 1280 failed: (0.039694,increasing)\n",
      "Test 551 of 1280 failed: (0.040135,increasing)\n",
      "Test 552 of 1280 failed: (0.041024,increasing)\n",
      "Test 553 of 1280 failed: (0.041865,decreasing)\n",
      "Test 554 of 1280 failed: (0.041949,increasing)\n",
      "Test 555 of 1280 failed: (0.042031,decreasing)\n",
      "Test 556 of 1280 failed: (0.042149,decreasing)\n",
      "Test 557 of 1280 failed: (0.042260,increasing)\n",
      "Test 558 of 1280 failed: (0.043138,increasing)\n",
      "Test 559 of 1280 failed: (0.044047,decreasing)\n",
      "Test 560 of 1280 failed: (0.044432,increasing)\n",
      "Test 561 of 1280 failed: (0.044441,decreasing)\n",
      "Test 562 of 1280 failed: (0.045000,increasing)\n",
      "Test 563 of 1280 failed: (0.045048,increasing)\n",
      "Test 564 of 1280 failed: (0.045417,increasing)\n",
      "Test 565 of 1280 failed: (0.045786,decreasing)\n",
      "Test 566 of 1280 failed: (0.046127,increasing)\n",
      "Test 567 of 1280 failed: (0.046367,increasing)\n",
      "Test 568 of 1280 failed: (0.046572,decreasing)\n",
      "Test 569 of 1280 failed: (0.047709,decreasing)\n",
      "Test 570 of 1280 failed: (0.047986,increasing)\n",
      "Test 571 of 1280 failed: (0.048229,decreasing)\n",
      "Test 572 of 1280 failed: (0.048326,increasing)\n",
      "Test 573 of 1280 failed: (0.048742,increasing)\n",
      "Test 574 of 1280 failed: (0.048971,decreasing)\n",
      "Test 575 of 1280 failed: (0.049047,decreasing)\n",
      "Test 576 of 1280 failed: (0.049228,decreasing)\n",
      "Test 577 of 1280 failed: (0.049470,decreasing)\n",
      "Test 578 of 1280 failed: (0.050165,no trend)\n",
      "Test 579 of 1280 failed: (0.050481,no trend)\n",
      "Test 580 of 1280 failed: (0.051385,no trend)\n",
      "Test 581 of 1280 failed: (0.051604,no trend)\n",
      "Test 582 of 1280 failed: (0.051848,no trend)\n",
      "Test 583 of 1280 failed: (0.052514,no trend)\n",
      "Test 584 of 1280 failed: (0.052760,no trend)\n",
      "Test 585 of 1280 failed: (0.053325,no trend)\n",
      "Test 586 of 1280 failed: (0.054020,no trend)\n",
      "Test 587 of 1280 failed: (0.054344,no trend)\n",
      "Test 588 of 1280 failed: (0.054631,no trend)\n",
      "Test 589 of 1280 failed: (0.054899,no trend)\n",
      "Test 590 of 1280 failed: (0.054973,no trend)\n",
      "Test 591 of 1280 failed: (0.055221,no trend)\n",
      "Test 592 of 1280 failed: (0.056173,no trend)\n",
      "Test 593 of 1280 failed: (0.056328,no trend)\n",
      "Test 594 of 1280 failed: (0.056559,no trend)\n",
      "Test 595 of 1280 failed: (0.057069,no trend)\n",
      "Test 596 of 1280 failed: (0.057089,no trend)\n",
      "Test 597 of 1280 failed: (0.058783,no trend)\n",
      "Test 598 of 1280 failed: (0.058810,no trend)\n",
      "Test 599 of 1280 failed: (0.059077,no trend)\n",
      "Test 600 of 1280 failed: (0.059101,no trend)\n",
      "Test 601 of 1280 failed: (0.059379,no trend)\n",
      "Test 602 of 1280 failed: (0.059608,no trend)\n",
      "Test 603 of 1280 failed: (0.060067,no trend)\n",
      "Test 604 of 1280 failed: (0.060158,no trend)\n",
      "Test 605 of 1280 failed: (0.061210,no trend)\n",
      "Test 606 of 1280 failed: (0.061306,no trend)\n",
      "Test 607 of 1280 failed: (0.062310,no trend)\n",
      "Test 608 of 1280 failed: (0.063024,no trend)\n",
      "Test 609 of 1280 failed: (0.063132,no trend)\n",
      "Test 610 of 1280 failed: (0.063239,no trend)\n",
      "Test 611 of 1280 failed: (0.063584,no trend)\n",
      "Test 612 of 1280 failed: (0.064115,no trend)\n",
      "Test 613 of 1280 failed: (0.065199,no trend)\n",
      "Test 614 of 1280 failed: (0.066518,no trend)\n",
      "Test 615 of 1280 failed: (0.066696,no trend)\n",
      "Test 616 of 1280 failed: (0.067395,no trend)\n",
      "Test 617 of 1280 failed: (0.067545,no trend)\n",
      "Test 618 of 1280 failed: (0.068192,no trend)\n",
      "Test 619 of 1280 failed: (0.068423,no trend)\n",
      "Test 620 of 1280 failed: (0.069024,no trend)\n",
      "Test 621 of 1280 failed: (0.069100,no trend)\n",
      "Test 622 of 1280 failed: (0.069815,no trend)\n",
      "Test 623 of 1280 failed: (0.070204,no trend)\n",
      "Test 624 of 1280 failed: (0.070557,no trend)\n",
      "Test 625 of 1280 failed: (0.070825,no trend)\n",
      "Test 626 of 1280 failed: (0.071185,no trend)\n",
      "Test 627 of 1280 failed: (0.071300,no trend)\n",
      "Test 628 of 1280 failed: (0.071898,no trend)\n",
      "Test 629 of 1280 failed: (0.072536,no trend)\n",
      "Test 630 of 1280 failed: (0.073704,no trend)\n",
      "Test 631 of 1280 failed: (0.075350,no trend)\n",
      "Test 632 of 1280 failed: (0.075628,no trend)\n",
      "Test 633 of 1280 failed: (0.075749,no trend)\n",
      "Test 634 of 1280 failed: (0.076358,no trend)\n",
      "Test 635 of 1280 failed: (0.076950,no trend)\n",
      "Test 636 of 1280 failed: (0.077191,no trend)\n",
      "Test 637 of 1280 failed: (0.077955,no trend)\n",
      "Test 638 of 1280 failed: (0.078236,no trend)\n",
      "Test 639 of 1280 failed: (0.079109,no trend)\n",
      "Test 640 of 1280 failed: (0.079780,no trend)\n",
      "Test 641 of 1280 failed: (0.081227,no trend)\n",
      "Test 642 of 1280 failed: (0.081446,no trend)\n",
      "Test 643 of 1280 failed: (0.081704,no trend)\n",
      "Test 644 of 1280 failed: (0.082695,no trend)\n",
      "Test 645 of 1280 failed: (0.083323,no trend)\n",
      "Test 646 of 1280 failed: (0.083641,no trend)\n",
      "Test 647 of 1280 failed: (0.084701,no trend)\n",
      "Test 648 of 1280 failed: (0.086295,no trend)\n",
      "Test 649 of 1280 failed: (0.086348,no trend)\n",
      "Test 650 of 1280 failed: (0.086986,no trend)\n",
      "Test 651 of 1280 failed: (0.088097,no trend)\n",
      "Test 652 of 1280 failed: (0.088250,no trend)\n",
      "Test 653 of 1280 failed: (0.088505,no trend)\n",
      "Test 654 of 1280 failed: (0.088516,no trend)\n",
      "Test 655 of 1280 failed: (0.089347,no trend)\n",
      "Test 656 of 1280 failed: (0.089941,no trend)\n",
      "Test 657 of 1280 failed: (0.090168,no trend)\n",
      "Test 658 of 1280 failed: (0.092116,no trend)\n",
      "Test 659 of 1280 failed: (0.092434,no trend)\n",
      "Test 660 of 1280 failed: (0.092681,no trend)\n",
      "Test 661 of 1280 failed: (0.093819,no trend)\n",
      "Test 662 of 1280 failed: (0.093884,no trend)\n",
      "Test 663 of 1280 failed: (0.094249,no trend)\n",
      "Test 664 of 1280 failed: (0.095151,no trend)\n",
      "Test 665 of 1280 failed: (0.095488,no trend)\n",
      "Test 666 of 1280 failed: (0.096443,no trend)\n",
      "Test 667 of 1280 failed: (0.096617,no trend)\n",
      "Test 668 of 1280 failed: (0.097069,no trend)\n",
      "Test 669 of 1280 failed: (0.097631,no trend)\n",
      "Test 670 of 1280 failed: (0.098404,no trend)\n",
      "Test 671 of 1280 failed: (0.098562,no trend)\n",
      "Test 672 of 1280 failed: (0.098995,no trend)\n",
      "Test 673 of 1280 failed: (0.099228,no trend)\n",
      "Test 674 of 1280 failed: (0.099634,no trend)\n",
      "Test 675 of 1280 failed: (0.099788,no trend)\n",
      "Test 676 of 1280 failed: (0.100198,no trend)\n",
      "Test 677 of 1280 failed: (0.100267,no trend)\n",
      "Test 678 of 1280 failed: (0.100484,no trend)\n",
      "Test 679 of 1280 failed: (0.100673,no trend)\n",
      "Test 680 of 1280 failed: (0.101046,no trend)\n",
      "Test 681 of 1280 failed: (0.101137,no trend)\n",
      "Test 682 of 1280 failed: (0.101557,no trend)\n",
      "Test 683 of 1280 failed: (0.101770,no trend)\n",
      "Test 684 of 1280 failed: (0.102204,no trend)\n",
      "Test 685 of 1280 failed: (0.102503,no trend)\n",
      "Test 686 of 1280 failed: (0.102643,no trend)\n",
      "Test 687 of 1280 failed: (0.102986,no trend)\n",
      "Test 688 of 1280 failed: (0.103247,no trend)\n",
      "Test 689 of 1280 failed: (0.103754,no trend)\n",
      "Test 690 of 1280 failed: (0.104383,no trend)\n",
      "Test 691 of 1280 failed: (0.104496,no trend)\n",
      "Test 692 of 1280 failed: (0.105405,no trend)\n",
      "Test 693 of 1280 failed: (0.105988,no trend)\n",
      "Test 694 of 1280 failed: (0.107101,no trend)\n",
      "Test 695 of 1280 failed: (0.107289,no trend)\n",
      "Test 696 of 1280 failed: (0.107580,no trend)\n",
      "Test 697 of 1280 failed: (0.107648,no trend)\n",
      "Test 698 of 1280 failed: (0.108343,no trend)\n",
      "Test 699 of 1280 failed: (0.108541,no trend)\n",
      "Test 700 of 1280 failed: (0.108730,no trend)\n",
      "Test 701 of 1280 failed: (0.109453,no trend)\n",
      "Test 702 of 1280 failed: (0.110881,no trend)\n",
      "Test 703 of 1280 failed: (0.111124,no trend)\n",
      "Test 704 of 1280 failed: (0.111900,no trend)\n",
      "Test 705 of 1280 failed: (0.112278,no trend)\n",
      "Test 706 of 1280 failed: (0.112814,no trend)\n",
      "Test 707 of 1280 failed: (0.113231,no trend)\n",
      "Test 708 of 1280 failed: (0.114065,no trend)\n",
      "Test 709 of 1280 failed: (0.114740,no trend)\n",
      "Test 710 of 1280 failed: (0.116483,no trend)\n",
      "Test 711 of 1280 failed: (0.117007,no trend)\n",
      "Test 712 of 1280 failed: (0.117197,no trend)\n",
      "Test 713 of 1280 failed: (0.117342,no trend)\n",
      "Test 714 of 1280 failed: (0.117373,no trend)\n",
      "Test 715 of 1280 failed: (0.117850,no trend)\n",
      "Test 716 of 1280 failed: (0.118231,no trend)\n",
      "Test 717 of 1280 failed: (0.118321,no trend)\n",
      "Test 718 of 1280 failed: (0.119091,no trend)\n",
      "Test 719 of 1280 failed: (0.120202,no trend)\n",
      "Test 720 of 1280 failed: (0.120334,no trend)\n",
      "Test 721 of 1280 failed: (0.120527,no trend)\n",
      "Test 722 of 1280 failed: (0.120974,no trend)\n",
      "Test 723 of 1280 failed: (0.120991,no trend)\n",
      "Test 724 of 1280 failed: (0.121505,no trend)\n",
      "Test 725 of 1280 failed: (0.124667,no trend)\n",
      "Test 726 of 1280 failed: (0.125293,no trend)\n",
      "Test 727 of 1280 failed: (0.126855,no trend)\n",
      "Test 728 of 1280 failed: (0.127032,no trend)\n",
      "Test 729 of 1280 failed: (0.127151,no trend)\n",
      "Test 730 of 1280 failed: (0.127393,no trend)\n",
      "Test 731 of 1280 failed: (0.127686,no trend)\n",
      "Test 732 of 1280 failed: (0.128222,no trend)\n",
      "Test 733 of 1280 failed: (0.128784,no trend)\n",
      "Test 734 of 1280 failed: (0.130460,no trend)\n",
      "Test 735 of 1280 failed: (0.131376,no trend)\n",
      "Test 736 of 1280 failed: (0.131969,no trend)\n",
      "Test 737 of 1280 failed: (0.134992,no trend)\n",
      "Test 738 of 1280 failed: (0.135359,no trend)\n",
      "Test 739 of 1280 failed: (0.135515,no trend)\n",
      "Test 740 of 1280 failed: (0.136551,no trend)\n",
      "Test 741 of 1280 failed: (0.136628,no trend)\n",
      "Test 742 of 1280 failed: (0.137556,no trend)\n",
      "Test 743 of 1280 failed: (0.137826,no trend)\n",
      "Test 744 of 1280 failed: (0.137925,no trend)\n",
      "Test 745 of 1280 failed: (0.138246,no trend)\n",
      "Test 746 of 1280 failed: (0.139408,no trend)\n",
      "Test 747 of 1280 failed: (0.139557,no trend)\n",
      "Test 748 of 1280 failed: (0.142193,no trend)\n",
      "Test 749 of 1280 failed: (0.142574,no trend)\n",
      "Test 750 of 1280 failed: (0.143483,no trend)\n",
      "Test 751 of 1280 failed: (0.144190,no trend)\n",
      "Test 752 of 1280 failed: (0.145557,no trend)\n",
      "Test 753 of 1280 failed: (0.148424,no trend)\n",
      "Test 754 of 1280 failed: (0.149919,no trend)\n",
      "Test 755 of 1280 failed: (0.150246,no trend)\n",
      "Test 756 of 1280 failed: (0.152287,no trend)\n",
      "Test 757 of 1280 failed: (0.153094,no trend)\n",
      "Test 758 of 1280 failed: (0.154051,no trend)\n",
      "Test 759 of 1280 failed: (0.154279,no trend)\n",
      "Test 760 of 1280 failed: (0.154609,no trend)\n",
      "Test 761 of 1280 failed: (0.156153,no trend)\n",
      "Test 762 of 1280 failed: (0.158961,no trend)\n",
      "Test 763 of 1280 failed: (0.159704,no trend)\n",
      "Test 764 of 1280 failed: (0.159993,no trend)\n",
      "Test 765 of 1280 failed: (0.160152,no trend)\n",
      "Test 766 of 1280 failed: (0.161279,no trend)\n",
      "Test 767 of 1280 failed: (0.162121,no trend)\n",
      "Test 768 of 1280 failed: (0.163764,no trend)\n",
      "Test 769 of 1280 failed: (0.164982,no trend)\n",
      "Test 770 of 1280 failed: (0.165679,no trend)\n",
      "Test 771 of 1280 failed: (0.166003,no trend)\n",
      "Test 772 of 1280 failed: (0.166442,no trend)\n",
      "Test 773 of 1280 failed: (0.166881,no trend)\n",
      "Test 774 of 1280 failed: (0.168409,no trend)\n",
      "Test 775 of 1280 failed: (0.168642,no trend)\n",
      "Test 776 of 1280 failed: (0.168723,no trend)\n",
      "Test 777 of 1280 failed: (0.169257,no trend)\n",
      "Test 778 of 1280 failed: (0.169786,no trend)\n",
      "Test 779 of 1280 failed: (0.169912,no trend)\n",
      "Test 780 of 1280 failed: (0.169964,no trend)\n",
      "Test 781 of 1280 failed: (0.173230,no trend)\n",
      "Test 782 of 1280 failed: (0.174435,no trend)\n",
      "Test 783 of 1280 failed: (0.174942,no trend)\n",
      "Test 784 of 1280 failed: (0.175439,no trend)\n",
      "Test 785 of 1280 failed: (0.176814,no trend)\n",
      "Test 786 of 1280 failed: (0.176972,no trend)\n",
      "Test 787 of 1280 failed: (0.177023,no trend)\n",
      "Test 788 of 1280 failed: (0.177624,no trend)\n",
      "Test 789 of 1280 failed: (0.179477,no trend)\n",
      "Test 790 of 1280 failed: (0.179620,no trend)\n",
      "Test 791 of 1280 failed: (0.179773,no trend)\n",
      "Test 792 of 1280 failed: (0.179915,no trend)\n",
      "Test 793 of 1280 failed: (0.181055,no trend)\n",
      "Test 794 of 1280 failed: (0.181215,no trend)\n",
      "Test 795 of 1280 failed: (0.182271,no trend)\n",
      "Test 796 of 1280 failed: (0.182375,no trend)\n",
      "Test 797 of 1280 failed: (0.182749,no trend)\n",
      "Test 798 of 1280 failed: (0.183113,no trend)\n",
      "Test 799 of 1280 failed: (0.186284,no trend)\n",
      "Test 800 of 1280 failed: (0.187124,no trend)\n",
      "Test 801 of 1280 failed: (0.188544,no trend)\n",
      "Test 802 of 1280 failed: (0.188844,no trend)\n",
      "Test 803 of 1280 failed: (0.189125,no trend)\n",
      "Test 804 of 1280 failed: (0.191259,no trend)\n",
      "Test 805 of 1280 failed: (0.191720,no trend)\n",
      "Test 806 of 1280 failed: (0.193343,no trend)\n",
      "Test 807 of 1280 failed: (0.193438,no trend)\n",
      "Test 808 of 1280 failed: (0.193633,no trend)\n",
      "Test 809 of 1280 failed: (0.193694,no trend)\n",
      "Test 810 of 1280 failed: (0.193738,no trend)\n",
      "Test 811 of 1280 failed: (0.194258,no trend)\n",
      "Test 812 of 1280 failed: (0.197393,no trend)\n",
      "Test 813 of 1280 failed: (0.197574,no trend)\n",
      "Test 814 of 1280 failed: (0.197834,no trend)\n",
      "Test 815 of 1280 failed: (0.197860,no trend)\n",
      "Test 816 of 1280 failed: (0.198373,no trend)\n",
      "Test 817 of 1280 failed: (0.198574,no trend)\n",
      "Test 818 of 1280 failed: (0.200400,no trend)\n",
      "Test 819 of 1280 failed: (0.200575,no trend)\n",
      "Test 820 of 1280 failed: (0.200649,no trend)\n",
      "Test 821 of 1280 failed: (0.200842,no trend)\n",
      "Test 822 of 1280 failed: (0.201361,no trend)\n",
      "Test 823 of 1280 failed: (0.201458,no trend)\n",
      "Test 824 of 1280 failed: (0.202005,no trend)\n",
      "Test 825 of 1280 failed: (0.206199,no trend)\n",
      "Test 826 of 1280 failed: (0.209836,no trend)\n",
      "Test 827 of 1280 failed: (0.210216,no trend)\n",
      "Test 828 of 1280 failed: (0.210868,no trend)\n",
      "Test 829 of 1280 failed: (0.212423,no trend)\n",
      "Test 830 of 1280 failed: (0.212582,no trend)\n",
      "Test 831 of 1280 failed: (0.212771,no trend)\n",
      "Test 832 of 1280 failed: (0.213885,no trend)\n",
      "Test 833 of 1280 failed: (0.213914,no trend)\n",
      "Test 834 of 1280 failed: (0.215372,no trend)\n",
      "Test 835 of 1280 failed: (0.215805,no trend)\n",
      "Test 836 of 1280 failed: (0.219396,no trend)\n",
      "Test 837 of 1280 failed: (0.219458,no trend)\n",
      "Test 838 of 1280 failed: (0.221814,no trend)\n",
      "Test 839 of 1280 failed: (0.222603,no trend)\n",
      "Test 840 of 1280 failed: (0.222706,no trend)\n",
      "Test 841 of 1280 failed: (0.222907,no trend)\n",
      "Test 842 of 1280 failed: (0.223629,no trend)\n",
      "Test 843 of 1280 failed: (0.225504,no trend)\n",
      "Test 844 of 1280 failed: (0.227351,no trend)\n",
      "Test 845 of 1280 failed: (0.229699,no trend)\n",
      "Test 846 of 1280 failed: (0.230061,no trend)\n",
      "Test 847 of 1280 failed: (0.231900,no trend)\n",
      "Test 848 of 1280 failed: (0.232595,no trend)\n",
      "Test 849 of 1280 failed: (0.235740,no trend)\n",
      "Test 850 of 1280 failed: (0.239487,no trend)\n",
      "Test 851 of 1280 failed: (0.239832,no trend)\n",
      "Test 852 of 1280 failed: (0.239975,no trend)\n",
      "Test 853 of 1280 failed: (0.242559,no trend)\n",
      "Test 854 of 1280 failed: (0.245112,no trend)\n",
      "Test 855 of 1280 failed: (0.246271,no trend)\n",
      "Test 856 of 1280 failed: (0.246542,no trend)\n",
      "Test 857 of 1280 failed: (0.246884,no trend)\n",
      "Test 858 of 1280 failed: (0.249466,no trend)\n",
      "Test 859 of 1280 failed: (0.250296,no trend)\n",
      "Test 860 of 1280 failed: (0.250315,no trend)\n",
      "Test 861 of 1280 failed: (0.252942,no trend)\n",
      "Test 862 of 1280 failed: (0.252994,no trend)\n",
      "Test 863 of 1280 failed: (0.257440,no trend)\n",
      "Test 864 of 1280 failed: (0.257857,no trend)\n",
      "Test 865 of 1280 failed: (0.258556,no trend)\n",
      "Test 866 of 1280 failed: (0.261468,no trend)\n",
      "Test 867 of 1280 failed: (0.262202,no trend)\n",
      "Test 868 of 1280 failed: (0.263218,no trend)\n",
      "Test 869 of 1280 failed: (0.263826,no trend)\n",
      "Test 870 of 1280 failed: (0.264846,no trend)\n",
      "Test 871 of 1280 failed: (0.266823,no trend)\n",
      "Test 872 of 1280 failed: (0.267380,no trend)\n",
      "Test 873 of 1280 failed: (0.273703,no trend)\n",
      "Test 874 of 1280 failed: (0.274909,no trend)\n",
      "Test 875 of 1280 failed: (0.275142,no trend)\n",
      "Test 876 of 1280 failed: (0.275363,no trend)\n",
      "Test 877 of 1280 failed: (0.275769,no trend)\n",
      "Test 878 of 1280 failed: (0.277034,no trend)\n",
      "Test 879 of 1280 failed: (0.280708,no trend)\n",
      "Test 880 of 1280 failed: (0.280912,no trend)\n",
      "Test 881 of 1280 failed: (0.281500,no trend)\n",
      "Test 882 of 1280 failed: (0.283313,no trend)\n",
      "Test 883 of 1280 failed: (0.283835,no trend)\n",
      "Test 884 of 1280 failed: (0.284229,no trend)\n",
      "Test 885 of 1280 failed: (0.287030,no trend)\n",
      "Test 886 of 1280 failed: (0.287106,no trend)\n",
      "Test 887 of 1280 failed: (0.287552,no trend)\n",
      "Test 888 of 1280 failed: (0.288201,no trend)\n",
      "Test 889 of 1280 failed: (0.289103,no trend)\n",
      "Test 890 of 1280 failed: (0.289373,no trend)\n",
      "Test 891 of 1280 failed: (0.290811,no trend)\n",
      "Test 892 of 1280 failed: (0.292024,no trend)\n",
      "Test 893 of 1280 failed: (0.294107,no trend)\n",
      "Test 894 of 1280 failed: (0.298324,no trend)\n",
      "Test 895 of 1280 failed: (0.298627,no trend)\n",
      "Test 896 of 1280 failed: (0.298955,no trend)\n",
      "Test 897 of 1280 failed: (0.300876,no trend)\n",
      "Test 898 of 1280 failed: (0.301644,no trend)\n",
      "Test 899 of 1280 failed: (0.303007,no trend)\n",
      "Test 900 of 1280 failed: (0.303146,no trend)\n",
      "Test 901 of 1280 failed: (0.303693,no trend)\n",
      "Test 902 of 1280 failed: (0.303994,no trend)\n",
      "Test 903 of 1280 failed: (0.305160,no trend)\n",
      "Test 904 of 1280 failed: (0.306884,no trend)\n",
      "Test 905 of 1280 failed: (0.306914,no trend)\n",
      "Test 906 of 1280 failed: (0.308866,no trend)\n",
      "Test 907 of 1280 failed: (0.310766,no trend)\n",
      "Test 908 of 1280 failed: (0.311249,no trend)\n",
      "Test 909 of 1280 failed: (0.312057,no trend)\n",
      "Test 910 of 1280 failed: (0.313203,no trend)\n",
      "Test 911 of 1280 failed: (0.313410,no trend)\n",
      "Test 912 of 1280 failed: (0.314309,no trend)\n",
      "Test 913 of 1280 failed: (0.314390,no trend)\n",
      "Test 914 of 1280 failed: (0.315037,no trend)\n",
      "Test 915 of 1280 failed: (0.316176,no trend)\n",
      "Test 916 of 1280 failed: (0.318772,no trend)\n",
      "Test 917 of 1280 failed: (0.318797,no trend)\n",
      "Test 918 of 1280 failed: (0.319057,no trend)\n",
      "Test 919 of 1280 failed: (0.320513,no trend)\n",
      "Test 920 of 1280 failed: (0.321282,no trend)\n",
      "Test 921 of 1280 failed: (0.321416,no trend)\n",
      "Test 922 of 1280 failed: (0.321887,no trend)\n",
      "Test 923 of 1280 failed: (0.323689,no trend)\n",
      "Test 924 of 1280 failed: (0.324309,no trend)\n",
      "Test 925 of 1280 failed: (0.324690,no trend)\n",
      "Test 926 of 1280 failed: (0.325521,no trend)\n",
      "Test 927 of 1280 failed: (0.326225,no trend)\n",
      "Test 928 of 1280 failed: (0.330675,no trend)\n",
      "Test 929 of 1280 failed: (0.331170,no trend)\n",
      "Test 930 of 1280 failed: (0.331195,no trend)\n",
      "Test 931 of 1280 failed: (0.332380,no trend)\n",
      "Test 932 of 1280 failed: (0.333748,no trend)\n",
      "Test 933 of 1280 failed: (0.333936,no trend)\n",
      "Test 934 of 1280 failed: (0.334302,no trend)\n",
      "Test 935 of 1280 failed: (0.337684,no trend)\n",
      "Test 936 of 1280 failed: (0.337742,no trend)\n",
      "Test 937 of 1280 failed: (0.339310,no trend)\n",
      "Test 938 of 1280 failed: (0.344331,no trend)\n",
      "Test 939 of 1280 failed: (0.347692,no trend)\n",
      "Test 940 of 1280 failed: (0.348634,no trend)\n",
      "Test 941 of 1280 failed: (0.351118,no trend)\n",
      "Test 942 of 1280 failed: (0.352254,no trend)\n",
      "Test 943 of 1280 failed: (0.352464,no trend)\n",
      "Test 944 of 1280 failed: (0.353169,no trend)\n",
      "Test 945 of 1280 failed: (0.353933,no trend)\n",
      "Test 946 of 1280 failed: (0.358106,no trend)\n",
      "Test 947 of 1280 failed: (0.359584,no trend)\n",
      "Test 948 of 1280 failed: (0.360787,no trend)\n",
      "Test 949 of 1280 failed: (0.361701,no trend)\n",
      "Test 950 of 1280 failed: (0.361793,no trend)\n",
      "Test 951 of 1280 failed: (0.361945,no trend)\n",
      "Test 952 of 1280 failed: (0.362787,no trend)\n",
      "Test 953 of 1280 failed: (0.363940,no trend)\n",
      "Test 954 of 1280 failed: (0.364781,no trend)\n",
      "Test 955 of 1280 failed: (0.366011,no trend)\n",
      "Test 956 of 1280 failed: (0.366666,no trend)\n",
      "Test 957 of 1280 failed: (0.368579,no trend)\n",
      "Test 958 of 1280 failed: (0.370772,no trend)\n",
      "Test 959 of 1280 failed: (0.371845,no trend)\n",
      "Test 960 of 1280 failed: (0.375099,no trend)\n",
      "Test 961 of 1280 failed: (0.376251,no trend)\n",
      "Test 962 of 1280 failed: (0.380721,no trend)\n",
      "Test 963 of 1280 failed: (0.382641,no trend)\n",
      "Test 964 of 1280 failed: (0.383543,no trend)\n",
      "Test 965 of 1280 failed: (0.385326,no trend)\n",
      "Test 966 of 1280 failed: (0.385359,no trend)\n",
      "Test 967 of 1280 failed: (0.385371,no trend)\n",
      "Test 968 of 1280 failed: (0.386586,no trend)\n",
      "Test 969 of 1280 failed: (0.386951,no trend)\n",
      "Test 970 of 1280 failed: (0.389570,no trend)\n",
      "Test 971 of 1280 failed: (0.390149,no trend)\n",
      "Test 972 of 1280 failed: (0.395115,no trend)\n",
      "Test 973 of 1280 failed: (0.395228,no trend)\n",
      "Test 974 of 1280 failed: (0.401041,no trend)\n",
      "Test 975 of 1280 failed: (0.401358,no trend)\n",
      "Test 976 of 1280 failed: (0.401903,no trend)\n",
      "Test 977 of 1280 failed: (0.402491,no trend)\n",
      "Test 978 of 1280 failed: (0.403852,no trend)\n",
      "Test 979 of 1280 failed: (0.404126,no trend)\n",
      "Test 980 of 1280 failed: (0.404952,no trend)\n",
      "Test 981 of 1280 failed: (0.405409,no trend)\n",
      "Test 982 of 1280 failed: (0.409939,no trend)\n",
      "Test 983 of 1280 failed: (0.411923,no trend)\n",
      "Test 984 of 1280 failed: (0.413274,no trend)\n",
      "Test 985 of 1280 failed: (0.416844,no trend)\n",
      "Test 986 of 1280 failed: (0.417530,no trend)\n",
      "Test 987 of 1280 failed: (0.421217,no trend)\n",
      "Test 988 of 1280 failed: (0.423367,no trend)\n",
      "Test 989 of 1280 failed: (0.423419,no trend)\n",
      "Test 990 of 1280 failed: (0.425354,no trend)\n",
      "Test 991 of 1280 failed: (0.426087,no trend)\n",
      "Test 992 of 1280 failed: (0.427732,no trend)\n",
      "Test 993 of 1280 failed: (0.428804,no trend)\n",
      "Test 994 of 1280 failed: (0.429581,no trend)\n",
      "Test 995 of 1280 failed: (0.429830,no trend)\n",
      "Test 996 of 1280 failed: (0.429883,no trend)\n",
      "Test 997 of 1280 failed: (0.430394,no trend)\n",
      "Test 998 of 1280 failed: (0.430898,no trend)\n",
      "Test 999 of 1280 failed: (0.431577,no trend)\n",
      "Test 1000 of 1280 failed: (0.434133,no trend)\n",
      "Test 1001 of 1280 failed: (0.435490,no trend)\n",
      "Test 1002 of 1280 failed: (0.436993,no trend)\n",
      "Test 1003 of 1280 failed: (0.437827,no trend)\n",
      "Test 1004 of 1280 failed: (0.438629,no trend)\n",
      "Test 1005 of 1280 failed: (0.440712,no trend)\n",
      "Test 1006 of 1280 failed: (0.441546,no trend)\n",
      "Test 1007 of 1280 failed: (0.442778,no trend)\n",
      "Test 1008 of 1280 failed: (0.444858,no trend)\n",
      "Test 1009 of 1280 failed: (0.451440,no trend)\n",
      "Test 1010 of 1280 failed: (0.451579,no trend)\n",
      "Test 1011 of 1280 failed: (0.454863,no trend)\n",
      "Test 1012 of 1280 failed: (0.463490,no trend)\n",
      "Test 1013 of 1280 failed: (0.463530,no trend)\n",
      "Test 1014 of 1280 failed: (0.465878,no trend)\n",
      "Test 1015 of 1280 failed: (0.467232,no trend)\n",
      "Test 1016 of 1280 failed: (0.467234,no trend)\n",
      "Test 1017 of 1280 failed: (0.467445,no trend)\n",
      "Test 1018 of 1280 failed: (0.468131,no trend)\n",
      "Test 1019 of 1280 failed: (0.470895,no trend)\n",
      "Test 1020 of 1280 failed: (0.474136,no trend)\n",
      "Test 1021 of 1280 failed: (0.477571,no trend)\n",
      "Test 1022 of 1280 failed: (0.482804,no trend)\n",
      "Test 1023 of 1280 failed: (0.484220,no trend)\n",
      "Test 1024 of 1280 failed: (0.484907,no trend)\n",
      "Test 1025 of 1280 failed: (0.492753,no trend)\n",
      "Test 1026 of 1280 failed: (0.494366,no trend)\n",
      "Test 1027 of 1280 failed: (0.495459,no trend)\n",
      "Test 1028 of 1280 failed: (0.495490,no trend)\n",
      "Test 1029 of 1280 failed: (0.499284,no trend)\n",
      "Test 1030 of 1280 failed: (0.500362,no trend)\n",
      "Test 1031 of 1280 failed: (0.501077,no trend)\n",
      "Test 1032 of 1280 failed: (0.501688,no trend)\n",
      "Test 1033 of 1280 failed: (0.509964,no trend)\n",
      "Test 1034 of 1280 failed: (0.512221,no trend)\n",
      "Test 1035 of 1280 failed: (0.515893,no trend)\n",
      "Test 1036 of 1280 failed: (0.519149,no trend)\n",
      "Test 1037 of 1280 failed: (0.522357,no trend)\n",
      "Test 1038 of 1280 failed: (0.523398,no trend)\n",
      "Test 1039 of 1280 failed: (0.525201,no trend)\n",
      "Test 1040 of 1280 failed: (0.528339,no trend)\n",
      "Test 1041 of 1280 failed: (0.529628,no trend)\n",
      "Test 1042 of 1280 failed: (0.532068,no trend)\n",
      "Test 1043 of 1280 failed: (0.533103,no trend)\n",
      "Test 1044 of 1280 failed: (0.533303,no trend)\n",
      "Test 1045 of 1280 failed: (0.533637,no trend)\n",
      "Test 1046 of 1280 failed: (0.534094,no trend)\n",
      "Test 1047 of 1280 failed: (0.536666,no trend)\n",
      "Test 1048 of 1280 failed: (0.536911,no trend)\n",
      "Test 1049 of 1280 failed: (0.540120,no trend)\n",
      "Test 1050 of 1280 failed: (0.546880,no trend)\n",
      "Test 1051 of 1280 failed: (0.548620,no trend)\n",
      "Test 1052 of 1280 failed: (0.549453,no trend)\n",
      "Test 1053 of 1280 failed: (0.551509,no trend)\n",
      "Test 1054 of 1280 failed: (0.552575,no trend)\n",
      "Test 1055 of 1280 failed: (0.556985,no trend)\n",
      "Test 1056 of 1280 failed: (0.559645,no trend)\n",
      "Test 1057 of 1280 failed: (0.559894,no trend)\n",
      "Test 1058 of 1280 failed: (0.563206,no trend)\n",
      "Test 1059 of 1280 failed: (0.563541,no trend)\n",
      "Test 1060 of 1280 failed: (0.565809,no trend)\n",
      "Test 1061 of 1280 failed: (0.569802,no trend)\n",
      "Test 1062 of 1280 failed: (0.572510,no trend)\n",
      "Test 1063 of 1280 failed: (0.572638,no trend)\n",
      "Test 1064 of 1280 failed: (0.572759,no trend)\n",
      "Test 1065 of 1280 failed: (0.574591,no trend)\n",
      "Test 1066 of 1280 failed: (0.575353,no trend)\n",
      "Test 1067 of 1280 failed: (0.576786,no trend)\n",
      "Test 1068 of 1280 failed: (0.577321,no trend)\n",
      "Test 1069 of 1280 failed: (0.578280,no trend)\n",
      "Test 1070 of 1280 failed: (0.580933,no trend)\n",
      "Test 1071 of 1280 failed: (0.581835,no trend)\n",
      "Test 1072 of 1280 failed: (0.584321,no trend)\n",
      "Test 1073 of 1280 failed: (0.586012,no trend)\n",
      "Test 1074 of 1280 failed: (0.588557,no trend)\n",
      "Test 1075 of 1280 failed: (0.589946,no trend)\n",
      "Test 1076 of 1280 failed: (0.594235,no trend)\n",
      "Test 1077 of 1280 failed: (0.599302,no trend)\n",
      "Test 1078 of 1280 failed: (0.599664,no trend)\n",
      "Test 1079 of 1280 failed: (0.601701,no trend)\n",
      "Test 1080 of 1280 failed: (0.601940,no trend)\n",
      "Test 1081 of 1280 failed: (0.602801,no trend)\n",
      "Test 1082 of 1280 failed: (0.604447,no trend)\n",
      "Test 1083 of 1280 failed: (0.605275,no trend)\n",
      "Test 1084 of 1280 failed: (0.605349,no trend)\n",
      "Test 1085 of 1280 failed: (0.606064,no trend)\n",
      "Test 1086 of 1280 failed: (0.606424,no trend)\n",
      "Test 1087 of 1280 failed: (0.606787,no trend)\n",
      "Test 1088 of 1280 failed: (0.607310,no trend)\n",
      "Test 1089 of 1280 failed: (0.610021,no trend)\n",
      "Test 1090 of 1280 failed: (0.614808,no trend)\n",
      "Test 1091 of 1280 failed: (0.615833,no trend)\n",
      "Test 1092 of 1280 failed: (0.617195,no trend)\n",
      "Test 1093 of 1280 failed: (0.619516,no trend)\n",
      "Test 1094 of 1280 failed: (0.620505,no trend)\n",
      "Test 1095 of 1280 failed: (0.621315,no trend)\n",
      "Test 1096 of 1280 failed: (0.624028,no trend)\n",
      "Test 1097 of 1280 failed: (0.624529,no trend)\n",
      "Test 1098 of 1280 failed: (0.629236,no trend)\n",
      "Test 1099 of 1280 failed: (0.630774,no trend)\n",
      "Test 1100 of 1280 failed: (0.632581,no trend)\n",
      "Test 1101 of 1280 failed: (0.633124,no trend)\n",
      "Test 1102 of 1280 failed: (0.633321,no trend)\n",
      "Test 1103 of 1280 failed: (0.638943,no trend)\n",
      "Test 1104 of 1280 failed: (0.639691,no trend)\n",
      "Test 1105 of 1280 failed: (0.642060,no trend)\n",
      "Test 1106 of 1280 failed: (0.642637,no trend)\n",
      "Test 1107 of 1280 failed: (0.644199,no trend)\n",
      "Test 1108 of 1280 failed: (0.647148,no trend)\n",
      "Test 1109 of 1280 failed: (0.647297,no trend)\n",
      "Test 1110 of 1280 failed: (0.647717,no trend)\n",
      "Test 1111 of 1280 failed: (0.647778,no trend)\n",
      "Test 1112 of 1280 failed: (0.647965,no trend)\n",
      "Test 1113 of 1280 failed: (0.648506,no trend)\n",
      "Test 1114 of 1280 failed: (0.652329,no trend)\n",
      "Test 1115 of 1280 failed: (0.652785,no trend)\n",
      "Test 1116 of 1280 failed: (0.652990,no trend)\n",
      "Test 1117 of 1280 failed: (0.653511,no trend)\n",
      "Test 1118 of 1280 failed: (0.654915,no trend)\n",
      "Test 1119 of 1280 failed: (0.655497,no trend)\n",
      "Test 1120 of 1280 failed: (0.660837,no trend)\n",
      "Test 1121 of 1280 failed: (0.661769,no trend)\n",
      "Test 1122 of 1280 failed: (0.661982,no trend)\n",
      "Test 1123 of 1280 failed: (0.663184,no trend)\n",
      "Test 1124 of 1280 failed: (0.664953,no trend)\n",
      "Test 1125 of 1280 failed: (0.666491,no trend)\n",
      "Test 1126 of 1280 failed: (0.671142,no trend)\n",
      "Test 1127 of 1280 failed: (0.674173,no trend)\n",
      "Test 1128 of 1280 failed: (0.675457,no trend)\n",
      "Test 1129 of 1280 failed: (0.676691,no trend)\n",
      "Test 1130 of 1280 failed: (0.677348,no trend)\n",
      "Test 1131 of 1280 failed: (0.680488,no trend)\n",
      "Test 1132 of 1280 failed: (0.680692,no trend)\n",
      "Test 1133 of 1280 failed: (0.682082,no trend)\n",
      "Test 1134 of 1280 failed: (0.686127,no trend)\n",
      "Test 1135 of 1280 failed: (0.686151,no trend)\n",
      "Test 1136 of 1280 failed: (0.687743,no trend)\n",
      "Test 1137 of 1280 failed: (0.690849,no trend)\n",
      "Test 1138 of 1280 failed: (0.692069,no trend)\n",
      "Test 1139 of 1280 failed: (0.692272,no trend)\n",
      "Test 1140 of 1280 failed: (0.698434,no trend)\n",
      "Test 1141 of 1280 failed: (0.698705,no trend)\n",
      "Test 1142 of 1280 failed: (0.698845,no trend)\n",
      "Test 1143 of 1280 failed: (0.700174,no trend)\n",
      "Test 1144 of 1280 failed: (0.700300,no trend)\n",
      "Test 1145 of 1280 failed: (0.707715,no trend)\n",
      "Test 1146 of 1280 failed: (0.708714,no trend)\n",
      "Test 1147 of 1280 failed: (0.710947,no trend)\n",
      "Test 1148 of 1280 failed: (0.711230,no trend)\n",
      "Test 1149 of 1280 failed: (0.714071,no trend)\n",
      "Test 1150 of 1280 failed: (0.716959,no trend)\n",
      "Test 1151 of 1280 failed: (0.718625,no trend)\n",
      "Test 1152 of 1280 failed: (0.722119,no trend)\n",
      "Test 1153 of 1280 failed: (0.723474,no trend)\n",
      "Test 1154 of 1280 failed: (0.724859,no trend)\n",
      "Test 1155 of 1280 failed: (0.728821,no trend)\n",
      "Test 1156 of 1280 failed: (0.730887,no trend)\n",
      "Test 1157 of 1280 failed: (0.734634,no trend)\n",
      "Test 1158 of 1280 failed: (0.735941,no trend)\n",
      "Test 1159 of 1280 failed: (0.736863,no trend)\n",
      "Test 1160 of 1280 failed: (0.738196,no trend)\n",
      "Test 1161 of 1280 failed: (0.739647,no trend)\n",
      "Test 1162 of 1280 failed: (0.740602,no trend)\n",
      "Test 1163 of 1280 failed: (0.744024,no trend)\n",
      "Test 1164 of 1280 failed: (0.744208,no trend)\n",
      "Test 1165 of 1280 failed: (0.744640,no trend)\n",
      "Test 1166 of 1280 failed: (0.744854,no trend)\n",
      "Test 1167 of 1280 failed: (0.745034,no trend)\n",
      "Test 1168 of 1280 failed: (0.745835,no trend)\n",
      "Test 1169 of 1280 failed: (0.747626,no trend)\n",
      "Test 1170 of 1280 failed: (0.748279,no trend)\n",
      "Test 1171 of 1280 failed: (0.748308,no trend)\n",
      "Test 1172 of 1280 failed: (0.750194,no trend)\n",
      "Test 1173 of 1280 failed: (0.750779,no trend)\n",
      "Test 1174 of 1280 failed: (0.751824,no trend)\n",
      "Test 1175 of 1280 failed: (0.756607,no trend)\n",
      "Test 1176 of 1280 failed: (0.758598,no trend)\n",
      "Test 1177 of 1280 failed: (0.759116,no trend)\n",
      "Test 1178 of 1280 failed: (0.767051,no trend)\n",
      "Test 1179 of 1280 failed: (0.770287,no trend)\n",
      "Test 1180 of 1280 failed: (0.770712,no trend)\n",
      "Test 1181 of 1280 failed: (0.772100,no trend)\n",
      "Test 1182 of 1280 failed: (0.775096,no trend)\n",
      "Test 1183 of 1280 failed: (0.775400,no trend)\n",
      "Test 1184 of 1280 failed: (0.776055,no trend)\n",
      "Test 1185 of 1280 failed: (0.778759,no trend)\n",
      "Test 1186 of 1280 failed: (0.780491,no trend)\n",
      "Test 1187 of 1280 failed: (0.788569,no trend)\n",
      "Test 1188 of 1280 failed: (0.791732,no trend)\n",
      "Test 1189 of 1280 failed: (0.792431,no trend)\n",
      "Test 1190 of 1280 failed: (0.794257,no trend)\n",
      "Test 1191 of 1280 failed: (0.798831,no trend)\n",
      "Test 1192 of 1280 failed: (0.802370,no trend)\n",
      "Test 1193 of 1280 failed: (0.809140,no trend)\n",
      "Test 1194 of 1280 failed: (0.812081,no trend)\n",
      "Test 1195 of 1280 failed: (0.812548,no trend)\n",
      "Test 1196 of 1280 failed: (0.813512,no trend)\n",
      "Test 1197 of 1280 failed: (0.818863,no trend)\n",
      "Test 1198 of 1280 failed: (0.820914,no trend)\n",
      "Test 1199 of 1280 failed: (0.823282,no trend)\n",
      "Test 1200 of 1280 failed: (0.824627,no trend)\n",
      "Test 1201 of 1280 failed: (0.824853,no trend)\n",
      "Test 1202 of 1280 failed: (0.825655,no trend)\n",
      "Test 1203 of 1280 failed: (0.829979,no trend)\n",
      "Test 1204 of 1280 failed: (0.834041,no trend)\n",
      "Test 1205 of 1280 failed: (0.837733,no trend)\n",
      "Test 1206 of 1280 failed: (0.838396,no trend)\n",
      "Test 1207 of 1280 failed: (0.838780,no trend)\n",
      "Test 1208 of 1280 failed: (0.842017,no trend)\n",
      "Test 1209 of 1280 failed: (0.846158,no trend)\n",
      "Test 1210 of 1280 failed: (0.847946,no trend)\n",
      "Test 1211 of 1280 failed: (0.848591,no trend)\n",
      "Test 1212 of 1280 failed: (0.849856,no trend)\n",
      "Test 1213 of 1280 failed: (0.854602,no trend)\n",
      "Test 1214 of 1280 failed: (0.856898,no trend)\n",
      "Test 1215 of 1280 failed: (0.860570,no trend)\n",
      "Test 1216 of 1280 failed: (0.862716,no trend)\n",
      "Test 1217 of 1280 failed: (0.862805,no trend)\n",
      "Test 1218 of 1280 failed: (0.865076,no trend)\n",
      "Test 1219 of 1280 failed: (0.867268,no trend)\n",
      "Test 1220 of 1280 failed: (0.868296,no trend)\n",
      "Test 1221 of 1280 failed: (0.870024,no trend)\n",
      "Test 1222 of 1280 failed: (0.874790,no trend)\n",
      "Test 1223 of 1280 failed: (0.874975,no trend)\n",
      "Test 1224 of 1280 failed: (0.881284,no trend)\n",
      "Test 1225 of 1280 failed: (0.881674,no trend)\n",
      "Test 1226 of 1280 failed: (0.884535,no trend)\n",
      "Test 1227 of 1280 failed: (0.885185,no trend)\n",
      "Test 1228 of 1280 failed: (0.885367,no trend)\n",
      "Test 1229 of 1280 failed: (0.885634,no trend)\n",
      "Test 1230 of 1280 failed: (0.885915,no trend)\n",
      "Test 1231 of 1280 failed: (0.890531,no trend)\n",
      "Test 1232 of 1280 failed: (0.896714,no trend)\n",
      "Test 1233 of 1280 failed: (0.898242,no trend)\n",
      "Test 1234 of 1280 failed: (0.898265,no trend)\n",
      "Test 1235 of 1280 failed: (0.900573,no trend)\n",
      "Test 1236 of 1280 failed: (0.903681,no trend)\n",
      "Test 1237 of 1280 failed: (0.904836,no trend)\n",
      "Test 1238 of 1280 failed: (0.906261,no trend)\n",
      "Test 1239 of 1280 failed: (0.912294,no trend)\n",
      "Test 1240 of 1280 failed: (0.912477,no trend)\n",
      "Test 1241 of 1280 failed: (0.913808,no trend)\n",
      "Test 1242 of 1280 failed: (0.914025,no trend)\n",
      "Test 1243 of 1280 failed: (0.916852,no trend)\n",
      "Test 1244 of 1280 failed: (0.920366,no trend)\n",
      "Test 1245 of 1280 failed: (0.921327,no trend)\n",
      "Test 1246 of 1280 failed: (0.921772,no trend)\n",
      "Test 1247 of 1280 failed: (0.932095,no trend)\n",
      "Test 1248 of 1280 failed: (0.935897,no trend)\n",
      "Test 1249 of 1280 failed: (0.936134,no trend)\n",
      "Test 1250 of 1280 failed: (0.940501,no trend)\n",
      "Test 1251 of 1280 failed: (0.942406,no trend)\n",
      "Test 1252 of 1280 failed: (0.942482,no trend)\n",
      "Test 1253 of 1280 failed: (0.943833,no trend)\n",
      "Test 1254 of 1280 failed: (0.944988,no trend)\n",
      "Test 1255 of 1280 failed: (0.945669,no trend)\n",
      "Test 1256 of 1280 failed: (0.946525,no trend)\n",
      "Test 1257 of 1280 failed: (0.950041,no trend)\n",
      "Test 1258 of 1280 failed: (0.950296,no trend)\n",
      "Test 1259 of 1280 failed: (0.950442,no trend)\n",
      "Test 1260 of 1280 failed: (0.950749,no trend)\n",
      "Test 1261 of 1280 failed: (0.951936,no trend)\n",
      "Test 1262 of 1280 failed: (0.955958,no trend)\n",
      "Test 1263 of 1280 failed: (0.956691,no trend)\n",
      "Test 1264 of 1280 failed: (0.956731,no trend)\n",
      "Test 1265 of 1280 failed: (0.956824,no trend)\n",
      "Test 1266 of 1280 failed: (0.956892,no trend)\n",
      "Test 1267 of 1280 failed: (0.959766,no trend)\n",
      "Test 1268 of 1280 failed: (0.968478,no trend)\n",
      "Test 1269 of 1280 failed: (0.970100,no trend)\n",
      "Test 1270 of 1280 failed: (0.973268,no trend)\n",
      "Test 1271 of 1280 failed: (0.974919,no trend)\n",
      "Test 1272 of 1280 failed: (0.976131,no trend)\n",
      "Test 1273 of 1280 failed: (0.977630,no trend)\n",
      "Test 1274 of 1280 failed: (0.981822,no trend)\n",
      "Test 1275 of 1280 failed: (0.986209,no trend)\n",
      "Test 1276 of 1280 failed: (0.992169,no trend)\n",
      "Test 1277 of 1280 failed: (0.997885,no trend)\n",
      "Test 1278 of 1280 failed: (0.998276,no trend)\n",
      "Test 1279 of 1280 failed: (0.998982,no trend)\n",
      "Test 1280 of 1280 failed: (0.999952,no trend)\n"
     ]
    }
   ],
   "source": [
    "var_abf_c2_failed_pt1 = holm_bonferroni(var_abf_results_c2_pt1[0][\"Project ID\"], var_abf_results_c2_pt1[0][\"visit_no\"], var_abf_results_c2_pt1[0][\"p-value\"], var_abf_results_c2_pt1[0][\"trend\"])"
   ]
  },
  {
   "cell_type": "code",
   "execution_count": 12,
   "metadata": {},
   "outputs": [],
   "source": [
    "var_abf_c1_failed = pd.DataFrame(var_abf_c1_failed, columns=[\"Index\", \"Project ID\", \"visit_no\", \"p-value\", \"trend\"])"
   ]
  },
  {
   "cell_type": "code",
   "execution_count": 16,
   "metadata": {},
   "outputs": [
    {
     "data": {
      "text/html": [
       "<div>\n",
       "<style scoped>\n",
       "    .dataframe tbody tr th:only-of-type {\n",
       "        vertical-align: middle;\n",
       "    }\n",
       "\n",
       "    .dataframe tbody tr th {\n",
       "        vertical-align: top;\n",
       "    }\n",
       "\n",
       "    .dataframe thead th {\n",
       "        text-align: right;\n",
       "    }\n",
       "</style>\n",
       "<table border=\"1\" class=\"dataframe\">\n",
       "  <thead>\n",
       "    <tr style=\"text-align: right;\">\n",
       "      <th></th>\n",
       "      <th>Index</th>\n",
       "      <th>Project ID</th>\n",
       "      <th>visit_no</th>\n",
       "      <th>p-value</th>\n",
       "      <th>trend</th>\n",
       "    </tr>\n",
       "  </thead>\n",
       "  <tbody>\n",
       "    <tr>\n",
       "      <th>0</th>\n",
       "      <td>22</td>\n",
       "      <td>LW2245</td>\n",
       "      <td>1</td>\n",
       "      <td>0.002033</td>\n",
       "      <td>increasing</td>\n",
       "    </tr>\n",
       "    <tr>\n",
       "      <th>1</th>\n",
       "      <td>23</td>\n",
       "      <td>CM2086</td>\n",
       "      <td>2</td>\n",
       "      <td>0.003207</td>\n",
       "      <td>decreasing</td>\n",
       "    </tr>\n",
       "    <tr>\n",
       "      <th>2</th>\n",
       "      <td>24</td>\n",
       "      <td>IF3856</td>\n",
       "      <td>1</td>\n",
       "      <td>0.005037</td>\n",
       "      <td>decreasing</td>\n",
       "    </tr>\n",
       "    <tr>\n",
       "      <th>3</th>\n",
       "      <td>25</td>\n",
       "      <td>CG1503</td>\n",
       "      <td>2</td>\n",
       "      <td>0.007575</td>\n",
       "      <td>decreasing</td>\n",
       "    </tr>\n",
       "    <tr>\n",
       "      <th>4</th>\n",
       "      <td>26</td>\n",
       "      <td>WX3231</td>\n",
       "      <td>1</td>\n",
       "      <td>0.008007</td>\n",
       "      <td>decreasing</td>\n",
       "    </tr>\n",
       "    <tr>\n",
       "      <th>5</th>\n",
       "      <td>27</td>\n",
       "      <td>HU2552</td>\n",
       "      <td>1</td>\n",
       "      <td>0.010042</td>\n",
       "      <td>increasing</td>\n",
       "    </tr>\n",
       "    <tr>\n",
       "      <th>6</th>\n",
       "      <td>28</td>\n",
       "      <td>JJ0136</td>\n",
       "      <td>2</td>\n",
       "      <td>0.012078</td>\n",
       "      <td>decreasing</td>\n",
       "    </tr>\n",
       "    <tr>\n",
       "      <th>7</th>\n",
       "      <td>29</td>\n",
       "      <td>SE1569</td>\n",
       "      <td>1</td>\n",
       "      <td>0.013986</td>\n",
       "      <td>increasing</td>\n",
       "    </tr>\n",
       "    <tr>\n",
       "      <th>8</th>\n",
       "      <td>30</td>\n",
       "      <td>CA1303</td>\n",
       "      <td>1</td>\n",
       "      <td>0.014597</td>\n",
       "      <td>decreasing</td>\n",
       "    </tr>\n",
       "    <tr>\n",
       "      <th>9</th>\n",
       "      <td>31</td>\n",
       "      <td>ZN2706</td>\n",
       "      <td>1</td>\n",
       "      <td>0.020175</td>\n",
       "      <td>increasing</td>\n",
       "    </tr>\n",
       "    <tr>\n",
       "      <th>10</th>\n",
       "      <td>32</td>\n",
       "      <td>DR2183</td>\n",
       "      <td>1</td>\n",
       "      <td>0.036256</td>\n",
       "      <td>increasing</td>\n",
       "    </tr>\n",
       "    <tr>\n",
       "      <th>11</th>\n",
       "      <td>33</td>\n",
       "      <td>OH1674</td>\n",
       "      <td>1</td>\n",
       "      <td>0.045895</td>\n",
       "      <td>decreasing</td>\n",
       "    </tr>\n",
       "    <tr>\n",
       "      <th>12</th>\n",
       "      <td>34</td>\n",
       "      <td>NX0632</td>\n",
       "      <td>1</td>\n",
       "      <td>0.053247</td>\n",
       "      <td>no trend</td>\n",
       "    </tr>\n",
       "    <tr>\n",
       "      <th>13</th>\n",
       "      <td>35</td>\n",
       "      <td>XE0430</td>\n",
       "      <td>1</td>\n",
       "      <td>0.056034</td>\n",
       "      <td>no trend</td>\n",
       "    </tr>\n",
       "    <tr>\n",
       "      <th>14</th>\n",
       "      <td>36</td>\n",
       "      <td>JB1116</td>\n",
       "      <td>1</td>\n",
       "      <td>0.070017</td>\n",
       "      <td>no trend</td>\n",
       "    </tr>\n",
       "    <tr>\n",
       "      <th>15</th>\n",
       "      <td>37</td>\n",
       "      <td>ZR0822</td>\n",
       "      <td>1</td>\n",
       "      <td>0.094757</td>\n",
       "      <td>no trend</td>\n",
       "    </tr>\n",
       "    <tr>\n",
       "      <th>16</th>\n",
       "      <td>38</td>\n",
       "      <td>VJ3003</td>\n",
       "      <td>1</td>\n",
       "      <td>0.097242</td>\n",
       "      <td>no trend</td>\n",
       "    </tr>\n",
       "    <tr>\n",
       "      <th>17</th>\n",
       "      <td>39</td>\n",
       "      <td>QT2598</td>\n",
       "      <td>1</td>\n",
       "      <td>0.107342</td>\n",
       "      <td>no trend</td>\n",
       "    </tr>\n",
       "    <tr>\n",
       "      <th>18</th>\n",
       "      <td>40</td>\n",
       "      <td>GP0251</td>\n",
       "      <td>1</td>\n",
       "      <td>0.123788</td>\n",
       "      <td>no trend</td>\n",
       "    </tr>\n",
       "    <tr>\n",
       "      <th>19</th>\n",
       "      <td>41</td>\n",
       "      <td>XO3508</td>\n",
       "      <td>1</td>\n",
       "      <td>0.164072</td>\n",
       "      <td>no trend</td>\n",
       "    </tr>\n",
       "    <tr>\n",
       "      <th>20</th>\n",
       "      <td>42</td>\n",
       "      <td>XG0429</td>\n",
       "      <td>1</td>\n",
       "      <td>0.188887</td>\n",
       "      <td>no trend</td>\n",
       "    </tr>\n",
       "    <tr>\n",
       "      <th>21</th>\n",
       "      <td>43</td>\n",
       "      <td>ZK0529</td>\n",
       "      <td>1</td>\n",
       "      <td>0.226808</td>\n",
       "      <td>no trend</td>\n",
       "    </tr>\n",
       "    <tr>\n",
       "      <th>22</th>\n",
       "      <td>44</td>\n",
       "      <td>TP3224</td>\n",
       "      <td>1</td>\n",
       "      <td>0.238517</td>\n",
       "      <td>no trend</td>\n",
       "    </tr>\n",
       "    <tr>\n",
       "      <th>23</th>\n",
       "      <td>45</td>\n",
       "      <td>ML1270</td>\n",
       "      <td>1</td>\n",
       "      <td>0.270105</td>\n",
       "      <td>no trend</td>\n",
       "    </tr>\n",
       "    <tr>\n",
       "      <th>24</th>\n",
       "      <td>46</td>\n",
       "      <td>RB0988</td>\n",
       "      <td>2</td>\n",
       "      <td>0.275396</td>\n",
       "      <td>no trend</td>\n",
       "    </tr>\n",
       "    <tr>\n",
       "      <th>25</th>\n",
       "      <td>47</td>\n",
       "      <td>DS0690</td>\n",
       "      <td>1</td>\n",
       "      <td>0.292189</td>\n",
       "      <td>no trend</td>\n",
       "    </tr>\n",
       "    <tr>\n",
       "      <th>26</th>\n",
       "      <td>48</td>\n",
       "      <td>AX3634</td>\n",
       "      <td>1</td>\n",
       "      <td>0.300636</td>\n",
       "      <td>no trend</td>\n",
       "    </tr>\n",
       "    <tr>\n",
       "      <th>27</th>\n",
       "      <td>49</td>\n",
       "      <td>FN1648</td>\n",
       "      <td>1</td>\n",
       "      <td>0.316762</td>\n",
       "      <td>no trend</td>\n",
       "    </tr>\n",
       "    <tr>\n",
       "      <th>28</th>\n",
       "      <td>50</td>\n",
       "      <td>OX3102</td>\n",
       "      <td>2</td>\n",
       "      <td>0.387344</td>\n",
       "      <td>no trend</td>\n",
       "    </tr>\n",
       "    <tr>\n",
       "      <th>29</th>\n",
       "      <td>51</td>\n",
       "      <td>OS1758</td>\n",
       "      <td>1</td>\n",
       "      <td>0.388723</td>\n",
       "      <td>no trend</td>\n",
       "    </tr>\n",
       "    <tr>\n",
       "      <th>30</th>\n",
       "      <td>52</td>\n",
       "      <td>IJ2643</td>\n",
       "      <td>1</td>\n",
       "      <td>0.408066</td>\n",
       "      <td>no trend</td>\n",
       "    </tr>\n",
       "    <tr>\n",
       "      <th>31</th>\n",
       "      <td>53</td>\n",
       "      <td>KH0067</td>\n",
       "      <td>2</td>\n",
       "      <td>0.412460</td>\n",
       "      <td>no trend</td>\n",
       "    </tr>\n",
       "    <tr>\n",
       "      <th>32</th>\n",
       "      <td>54</td>\n",
       "      <td>PC0600</td>\n",
       "      <td>1</td>\n",
       "      <td>0.431389</td>\n",
       "      <td>no trend</td>\n",
       "    </tr>\n",
       "    <tr>\n",
       "      <th>33</th>\n",
       "      <td>55</td>\n",
       "      <td>OX3102</td>\n",
       "      <td>1</td>\n",
       "      <td>0.438252</td>\n",
       "      <td>no trend</td>\n",
       "    </tr>\n",
       "    <tr>\n",
       "      <th>34</th>\n",
       "      <td>56</td>\n",
       "      <td>NE0450</td>\n",
       "      <td>1</td>\n",
       "      <td>0.438987</td>\n",
       "      <td>no trend</td>\n",
       "    </tr>\n",
       "    <tr>\n",
       "      <th>35</th>\n",
       "      <td>57</td>\n",
       "      <td>CS1062</td>\n",
       "      <td>1</td>\n",
       "      <td>0.564210</td>\n",
       "      <td>no trend</td>\n",
       "    </tr>\n",
       "    <tr>\n",
       "      <th>36</th>\n",
       "      <td>58</td>\n",
       "      <td>MV1402</td>\n",
       "      <td>1</td>\n",
       "      <td>0.587966</td>\n",
       "      <td>no trend</td>\n",
       "    </tr>\n",
       "    <tr>\n",
       "      <th>37</th>\n",
       "      <td>59</td>\n",
       "      <td>CR2546</td>\n",
       "      <td>2</td>\n",
       "      <td>0.681004</td>\n",
       "      <td>no trend</td>\n",
       "    </tr>\n",
       "    <tr>\n",
       "      <th>38</th>\n",
       "      <td>60</td>\n",
       "      <td>CQ0905</td>\n",
       "      <td>1</td>\n",
       "      <td>0.772635</td>\n",
       "      <td>no trend</td>\n",
       "    </tr>\n",
       "    <tr>\n",
       "      <th>39</th>\n",
       "      <td>61</td>\n",
       "      <td>GF0332</td>\n",
       "      <td>1</td>\n",
       "      <td>0.835472</td>\n",
       "      <td>no trend</td>\n",
       "    </tr>\n",
       "    <tr>\n",
       "      <th>40</th>\n",
       "      <td>62</td>\n",
       "      <td>YY0580</td>\n",
       "      <td>2</td>\n",
       "      <td>0.847597</td>\n",
       "      <td>no trend</td>\n",
       "    </tr>\n",
       "    <tr>\n",
       "      <th>41</th>\n",
       "      <td>63</td>\n",
       "      <td>QW2457</td>\n",
       "      <td>1</td>\n",
       "      <td>0.857996</td>\n",
       "      <td>no trend</td>\n",
       "    </tr>\n",
       "    <tr>\n",
       "      <th>42</th>\n",
       "      <td>64</td>\n",
       "      <td>YC1602</td>\n",
       "      <td>1</td>\n",
       "      <td>0.907596</td>\n",
       "      <td>no trend</td>\n",
       "    </tr>\n",
       "    <tr>\n",
       "      <th>43</th>\n",
       "      <td>65</td>\n",
       "      <td>OL2236</td>\n",
       "      <td>1</td>\n",
       "      <td>0.950818</td>\n",
       "      <td>no trend</td>\n",
       "    </tr>\n",
       "    <tr>\n",
       "      <th>44</th>\n",
       "      <td>66</td>\n",
       "      <td>OQ3385</td>\n",
       "      <td>1</td>\n",
       "      <td>0.959304</td>\n",
       "      <td>no trend</td>\n",
       "    </tr>\n",
       "  </tbody>\n",
       "</table>\n",
       "</div>"
      ],
      "text/plain": [
       "    Index Project ID visit_no   p-value       trend\n",
       "0      22     LW2245        1  0.002033  increasing\n",
       "1      23     CM2086        2  0.003207  decreasing\n",
       "2      24     IF3856        1  0.005037  decreasing\n",
       "3      25     CG1503        2  0.007575  decreasing\n",
       "4      26     WX3231        1  0.008007  decreasing\n",
       "5      27     HU2552        1  0.010042  increasing\n",
       "6      28     JJ0136        2  0.012078  decreasing\n",
       "7      29     SE1569        1  0.013986  increasing\n",
       "8      30     CA1303        1  0.014597  decreasing\n",
       "9      31     ZN2706        1  0.020175  increasing\n",
       "10     32     DR2183        1  0.036256  increasing\n",
       "11     33     OH1674        1  0.045895  decreasing\n",
       "12     34     NX0632        1  0.053247    no trend\n",
       "13     35     XE0430        1  0.056034    no trend\n",
       "14     36     JB1116        1  0.070017    no trend\n",
       "15     37     ZR0822        1  0.094757    no trend\n",
       "16     38     VJ3003        1  0.097242    no trend\n",
       "17     39     QT2598        1  0.107342    no trend\n",
       "18     40     GP0251        1  0.123788    no trend\n",
       "19     41     XO3508        1  0.164072    no trend\n",
       "20     42     XG0429        1  0.188887    no trend\n",
       "21     43     ZK0529        1  0.226808    no trend\n",
       "22     44     TP3224        1  0.238517    no trend\n",
       "23     45     ML1270        1  0.270105    no trend\n",
       "24     46     RB0988        2  0.275396    no trend\n",
       "25     47     DS0690        1  0.292189    no trend\n",
       "26     48     AX3634        1  0.300636    no trend\n",
       "27     49     FN1648        1  0.316762    no trend\n",
       "28     50     OX3102        2  0.387344    no trend\n",
       "29     51     OS1758        1  0.388723    no trend\n",
       "30     52     IJ2643        1  0.408066    no trend\n",
       "31     53     KH0067        2  0.412460    no trend\n",
       "32     54     PC0600        1  0.431389    no trend\n",
       "33     55     OX3102        1  0.438252    no trend\n",
       "34     56     NE0450        1  0.438987    no trend\n",
       "35     57     CS1062        1  0.564210    no trend\n",
       "36     58     MV1402        1  0.587966    no trend\n",
       "37     59     CR2546        2  0.681004    no trend\n",
       "38     60     CQ0905        1  0.772635    no trend\n",
       "39     61     GF0332        1  0.835472    no trend\n",
       "40     62     YY0580        2  0.847597    no trend\n",
       "41     63     QW2457        1  0.857996    no trend\n",
       "42     64     YC1602        1  0.907596    no trend\n",
       "43     65     OL2236        1  0.950818    no trend\n",
       "44     66     OQ3385        1  0.959304    no trend"
      ]
     },
     "execution_count": 16,
     "metadata": {},
     "output_type": "execute_result"
    }
   ],
   "source": [
    "var_abf_c1_failed"
   ]
  },
  {
   "cell_type": "code",
   "execution_count": 13,
   "metadata": {},
   "outputs": [],
   "source": [
    "var_abf_c2_failed_pt1 = pd.DataFrame(var_abf_c2_failed_pt1, columns=[\"Index\", \"Project ID\", \"visit_no\", \"p-value\", \"trend\"])"
   ]
  },
  {
   "cell_type": "code",
   "execution_count": 17,
   "metadata": {},
   "outputs": [
    {
     "data": {
      "text/html": [
       "<div>\n",
       "<style scoped>\n",
       "    .dataframe tbody tr th:only-of-type {\n",
       "        vertical-align: middle;\n",
       "    }\n",
       "\n",
       "    .dataframe tbody tr th {\n",
       "        vertical-align: top;\n",
       "    }\n",
       "\n",
       "    .dataframe thead th {\n",
       "        text-align: right;\n",
       "    }\n",
       "</style>\n",
       "<table border=\"1\" class=\"dataframe\">\n",
       "  <thead>\n",
       "    <tr style=\"text-align: right;\">\n",
       "      <th></th>\n",
       "      <th>Index</th>\n",
       "      <th>Project ID</th>\n",
       "      <th>visit_no</th>\n",
       "      <th>p-value</th>\n",
       "      <th>trend</th>\n",
       "    </tr>\n",
       "  </thead>\n",
       "  <tbody>\n",
       "    <tr>\n",
       "      <th>0</th>\n",
       "      <td>154</td>\n",
       "      <td>AI1640</td>\n",
       "      <td>1</td>\n",
       "      <td>0.000045</td>\n",
       "      <td>increasing</td>\n",
       "    </tr>\n",
       "    <tr>\n",
       "      <th>1</th>\n",
       "      <td>155</td>\n",
       "      <td>GY0921</td>\n",
       "      <td>1</td>\n",
       "      <td>0.000045</td>\n",
       "      <td>decreasing</td>\n",
       "    </tr>\n",
       "    <tr>\n",
       "      <th>2</th>\n",
       "      <td>156</td>\n",
       "      <td>OI3222</td>\n",
       "      <td>3</td>\n",
       "      <td>0.000047</td>\n",
       "      <td>increasing</td>\n",
       "    </tr>\n",
       "    <tr>\n",
       "      <th>3</th>\n",
       "      <td>157</td>\n",
       "      <td>BT1947</td>\n",
       "      <td>1</td>\n",
       "      <td>0.000048</td>\n",
       "      <td>decreasing</td>\n",
       "    </tr>\n",
       "    <tr>\n",
       "      <th>4</th>\n",
       "      <td>158</td>\n",
       "      <td>RW1911</td>\n",
       "      <td>1</td>\n",
       "      <td>0.000048</td>\n",
       "      <td>decreasing</td>\n",
       "    </tr>\n",
       "    <tr>\n",
       "      <th>...</th>\n",
       "      <td>...</td>\n",
       "      <td>...</td>\n",
       "      <td>...</td>\n",
       "      <td>...</td>\n",
       "      <td>...</td>\n",
       "    </tr>\n",
       "    <tr>\n",
       "      <th>1122</th>\n",
       "      <td>1276</td>\n",
       "      <td>TD0889</td>\n",
       "      <td>1</td>\n",
       "      <td>0.992169</td>\n",
       "      <td>no trend</td>\n",
       "    </tr>\n",
       "    <tr>\n",
       "      <th>1123</th>\n",
       "      <td>1277</td>\n",
       "      <td>BQ0175</td>\n",
       "      <td>1</td>\n",
       "      <td>0.997885</td>\n",
       "      <td>no trend</td>\n",
       "    </tr>\n",
       "    <tr>\n",
       "      <th>1124</th>\n",
       "      <td>1278</td>\n",
       "      <td>IN2261</td>\n",
       "      <td>1</td>\n",
       "      <td>0.998276</td>\n",
       "      <td>no trend</td>\n",
       "    </tr>\n",
       "    <tr>\n",
       "      <th>1125</th>\n",
       "      <td>1279</td>\n",
       "      <td>QN3432</td>\n",
       "      <td>2</td>\n",
       "      <td>0.998982</td>\n",
       "      <td>no trend</td>\n",
       "    </tr>\n",
       "    <tr>\n",
       "      <th>1126</th>\n",
       "      <td>1280</td>\n",
       "      <td>BD3885</td>\n",
       "      <td>1</td>\n",
       "      <td>0.999952</td>\n",
       "      <td>no trend</td>\n",
       "    </tr>\n",
       "  </tbody>\n",
       "</table>\n",
       "<p>1127 rows × 5 columns</p>\n",
       "</div>"
      ],
      "text/plain": [
       "      Index Project ID visit_no   p-value       trend\n",
       "0       154     AI1640        1  0.000045  increasing\n",
       "1       155     GY0921        1  0.000045  decreasing\n",
       "2       156     OI3222        3  0.000047  increasing\n",
       "3       157     BT1947        1  0.000048  decreasing\n",
       "4       158     RW1911        1  0.000048  decreasing\n",
       "...     ...        ...      ...       ...         ...\n",
       "1122   1276     TD0889        1  0.992169    no trend\n",
       "1123   1277     BQ0175        1  0.997885    no trend\n",
       "1124   1278     IN2261        1  0.998276    no trend\n",
       "1125   1279     QN3432        2  0.998982    no trend\n",
       "1126   1280     BD3885        1  0.999952    no trend\n",
       "\n",
       "[1127 rows x 5 columns]"
      ]
     },
     "execution_count": 17,
     "metadata": {},
     "output_type": "execute_result"
    }
   ],
   "source": [
    "var_abf_c2_failed_pt1"
   ]
  },
  {
   "cell_type": "code",
   "execution_count": 14,
   "metadata": {},
   "outputs": [],
   "source": [
    "var_abf_c1_failed.to_csv(\"variance_abf_failed_tests_c1.csv\")"
   ]
  },
  {
   "cell_type": "code",
   "execution_count": 15,
   "metadata": {},
   "outputs": [],
   "source": [
    "var_abf_c2_failed_pt1.to_csv(\"variance_abf_failed_tests_c2_pt1.csv\")"
   ]
  },
  {
   "cell_type": "code",
   "execution_count": 18,
   "metadata": {},
   "outputs": [
    {
     "data": {
      "text/plain": [
       "'1.7.1'"
      ]
     },
     "execution_count": 18,
     "metadata": {},
     "output_type": "execute_result"
    }
   ],
   "source": [
    "import scipy as sp\n",
    "sp.__version__"
   ]
  },
  {
   "cell_type": "code",
   "execution_count": null,
   "metadata": {},
   "outputs": [],
   "source": []
  }
 ],
 "metadata": {
  "kernelspec": {
   "display_name": "Python 3.8.12 ('base')",
   "language": "python",
   "name": "python3"
  },
  "language_info": {
   "codemirror_mode": {
    "name": "ipython",
    "version": 3
   },
   "file_extension": ".py",
   "mimetype": "text/x-python",
   "name": "python",
   "nbconvert_exporter": "python",
   "pygments_lexer": "ipython3",
   "version": "3.8.12"
  },
  "orig_nbformat": 4,
  "vscode": {
   "interpreter": {
    "hash": "908e60022c9d4979c292b8b79e14df3460174af298c7d4fb047b137ea57e6458"
   }
  }
 },
 "nbformat": 4,
 "nbformat_minor": 2
}
