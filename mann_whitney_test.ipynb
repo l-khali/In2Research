{
 "cells": [
  {
   "cell_type": "code",
   "execution_count": 2,
   "metadata": {},
   "outputs": [],
   "source": [
    "from scipy.stats import mannwhitneyu, ttest_ind\n",
    "import pandas as pd"
   ]
  },
  {
   "cell_type": "markdown",
   "metadata": {},
   "source": [
    "# HR Variance"
   ]
  },
  {
   "cell_type": "code",
   "execution_count": 3,
   "metadata": {},
   "outputs": [],
   "source": [
    "var_hr_results_c1 = pd.read_csv(\"variance_results_c1.csv\", sep=',')"
   ]
  },
  {
   "cell_type": "code",
   "execution_count": 4,
   "metadata": {},
   "outputs": [],
   "source": [
    "var_hr_results_c2 = pd.read_csv(\"variance_results_c2_entire.csv\", sep=',')"
   ]
  },
  {
   "cell_type": "code",
   "execution_count": 5,
   "metadata": {},
   "outputs": [
    {
     "data": {
      "text/plain": [
       "MannwhitneyuResult(statistic=110471.0, pvalue=0.30576164176355086)"
      ]
     },
     "execution_count": 5,
     "metadata": {},
     "output_type": "execute_result"
    }
   ],
   "source": [
    "mannwhitneyu(var_hr_results_c1[\"tau\"], var_hr_results_c2[\"tau\"], alternative=\"greater\")"
   ]
  },
  {
   "cell_type": "code",
   "execution_count": 6,
   "metadata": {},
   "outputs": [
    {
     "data": {
      "text/plain": [
       "Ttest_indResult(statistic=0.5043511269148192, pvalue=0.6149048300398818)"
      ]
     },
     "execution_count": 6,
     "metadata": {},
     "output_type": "execute_result"
    }
   ],
   "source": [
    "ttest_ind(var_hr_results_c1[\"tau\"], var_hr_results_c2[\"tau\"], equal_var=False)\n",
    "# this is Welch's test (unequal var)"
   ]
  },
  {
   "cell_type": "code",
   "execution_count": 7,
   "metadata": {},
   "outputs": [
    {
     "data": {
      "text/plain": [
       "Ttest_indResult(statistic=-1.5814024210360225, pvalue=0.11600230453017023)"
      ]
     },
     "execution_count": 7,
     "metadata": {},
     "output_type": "execute_result"
    }
   ],
   "source": [
    "var_hr_results_c3 = pd.read_csv(\"variance_hr_results_c3_entire.csv\", sep=',')\n",
    "mannwhitneyu(var_hr_results_c3[\"tau\"], var_hr_results_c2[\"tau\"], alternative=\"greater\")\n",
    "ttest_ind(var_hr_results_c3[\"tau\"], var_hr_results_c2[\"tau\"], equal_var=False)"
   ]
  },
  {
   "cell_type": "code",
   "execution_count": 9,
   "metadata": {},
   "outputs": [
    {
     "data": {
      "text/plain": [
       "MannwhitneyuResult(statistic=11566.0, pvalue=0.29053528848258603)"
      ]
     },
     "execution_count": 9,
     "metadata": {},
     "output_type": "execute_result"
    }
   ],
   "source": [
    "var_hr_results_c4 = pd.read_csv(\"variance_hr_results_c4.csv\", sep=',')\n",
    "mannwhitneyu(var_hr_results_c4[\"tau\"], var_hr_results_c2[\"tau\"], alternative=\"greater\")\n",
    "# ttest_ind(var_hr_results_c4[\"tau\"], var_hr_results_c2[\"tau\"], equal_var=False)"
   ]
  },
  {
   "cell_type": "markdown",
   "metadata": {},
   "source": [
    "# RR Variance"
   ]
  },
  {
   "cell_type": "code",
   "execution_count": 12,
   "metadata": {},
   "outputs": [],
   "source": [
    "var_rr_results_c1 = pd.read_csv(\"variance_rr_results_c1.csv\", sep=',')"
   ]
  },
  {
   "cell_type": "code",
   "execution_count": 11,
   "metadata": {},
   "outputs": [],
   "source": [
    "var_rr_results_c2 = pd.read_csv(\"variance_rr_results_c2_pt1.csv\", sep=',')"
   ]
  },
  {
   "cell_type": "code",
   "execution_count": 12,
   "metadata": {},
   "outputs": [
    {
     "ename": "NameError",
     "evalue": "name 'var_rr_results_c1' is not defined",
     "output_type": "error",
     "traceback": [
      "\u001b[0;31m---------------------------------------------------------------------------\u001b[0m",
      "\u001b[0;31mNameError\u001b[0m                                 Traceback (most recent call last)",
      "\u001b[0;32m/var/folders/rg/6x4tlzs16c76vmthv_nxc63r0000gn/T/ipykernel_77444/4218258103.py\u001b[0m in \u001b[0;36m<module>\u001b[0;34m\u001b[0m\n\u001b[0;32m----> 1\u001b[0;31m \u001b[0mmannwhitneyu\u001b[0m\u001b[0;34m(\u001b[0m\u001b[0mvar_rr_results_c1\u001b[0m\u001b[0;34m[\u001b[0m\u001b[0;34m\"tau\"\u001b[0m\u001b[0;34m]\u001b[0m\u001b[0;34m,\u001b[0m \u001b[0mvar_rr_results_c2\u001b[0m\u001b[0;34m[\u001b[0m\u001b[0;34m\"tau\"\u001b[0m\u001b[0;34m]\u001b[0m\u001b[0;34m,\u001b[0m \u001b[0malternative\u001b[0m\u001b[0;34m=\u001b[0m\u001b[0;34m\"greater\"\u001b[0m\u001b[0;34m)\u001b[0m\u001b[0;34m\u001b[0m\u001b[0;34m\u001b[0m\u001b[0m\n\u001b[0m",
      "\u001b[0;31mNameError\u001b[0m: name 'var_rr_results_c1' is not defined"
     ]
    }
   ],
   "source": [
    "mannwhitneyu(var_rr_results_c1[\"tau\"], var_rr_results_c2[\"tau\"], alternative=\"greater\")"
   ]
  },
  {
   "cell_type": "code",
   "execution_count": null,
   "metadata": {},
   "outputs": [
    {
     "data": {
      "text/plain": [
       "Ttest_indResult(statistic=-0.5620724149929046, pvalue=0.5752052452326872)"
      ]
     },
     "execution_count": 26,
     "metadata": {},
     "output_type": "execute_result"
    }
   ],
   "source": [
    "ttest_ind(var_rr_results_c1[\"tau\"], var_rr_results_c2[\"tau\"], equal_var=False)"
   ]
  },
  {
   "cell_type": "code",
   "execution_count": 14,
   "metadata": {},
   "outputs": [
    {
     "data": {
      "text/plain": [
       "Ttest_indResult(statistic=-1.3714762151725794, pvalue=0.19935423630613952)"
      ]
     },
     "execution_count": 14,
     "metadata": {},
     "output_type": "execute_result"
    }
   ],
   "source": [
    "var_rr_results_c4 = pd.read_csv(\"variance_rr_results_c4.csv\", sep=',')\n",
    "mannwhitneyu(var_rr_results_c4[\"tau\"], var_rr_results_c2[\"tau\"], alternative=\"greater\")\n",
    "ttest_ind(var_rr_results_c4[\"tau\"], var_rr_results_c2[\"tau\"], equal_var=False)"
   ]
  },
  {
   "cell_type": "markdown",
   "metadata": {},
   "source": [
    "# ABF Variance"
   ]
  },
  {
   "cell_type": "code",
   "execution_count": 6,
   "metadata": {},
   "outputs": [],
   "source": [
    "var_abf_results_c1 = pd.read_csv(\"variance_abf_results_c1.csv\", sep=',')"
   ]
  },
  {
   "cell_type": "code",
   "execution_count": 15,
   "metadata": {},
   "outputs": [],
   "source": [
    "var_abf_results_c2 = pd.read_csv(\"variance_abf_results_c2_pt1.csv\", sep=',')"
   ]
  },
  {
   "cell_type": "code",
   "execution_count": 8,
   "metadata": {},
   "outputs": [
    {
     "data": {
      "text/plain": [
       "MannwhitneyuResult(statistic=47977.0, pvalue=0.031241991494250484)"
      ]
     },
     "execution_count": 8,
     "metadata": {},
     "output_type": "execute_result"
    }
   ],
   "source": [
    "mannwhitneyu(var_abf_results_c1[\"tau\"], var_abf_results_c2[\"tau\"], alternative=\"greater\")"
   ]
  },
  {
   "cell_type": "code",
   "execution_count": 27,
   "metadata": {},
   "outputs": [
    {
     "data": {
      "text/plain": [
       "Ttest_indResult(statistic=1.8953069672016345, pvalue=0.06208976553606263)"
      ]
     },
     "execution_count": 27,
     "metadata": {},
     "output_type": "execute_result"
    }
   ],
   "source": [
    "ttest_ind(var_abf_results_c1[\"tau\"], var_abf_results_c2[\"tau\"], equal_var=False)"
   ]
  },
  {
   "cell_type": "code",
   "execution_count": 13,
   "metadata": {},
   "outputs": [
    {
     "data": {
      "text/plain": [
       "MannwhitneyuResult(statistic=47959.0, pvalue=0.07795949073761796)"
      ]
     },
     "execution_count": 13,
     "metadata": {},
     "output_type": "execute_result"
    }
   ],
   "source": [
    "var_abf_results_c3 = pd.read_csv(\"variance_abf_results_c3.csv\", sep=',')\n",
    "mannwhitneyu(var_abf_results_c3[\"tau\"], var_abf_results_c2[\"tau\"], alternative=\"greater\")\n",
    "# ttest_ind(var_abf_results_c3[\"tau\"], var_abf_results_c2[\"tau\"], equal_var=False)"
   ]
  },
  {
   "cell_type": "code",
   "execution_count": 17,
   "metadata": {},
   "outputs": [
    {
     "data": {
      "text/plain": [
       "MannwhitneyuResult(statistic=7615.0, pvalue=0.04781034994085486)"
      ]
     },
     "execution_count": 17,
     "metadata": {},
     "output_type": "execute_result"
    }
   ],
   "source": [
    "var_abf_results_c4 = pd.read_csv(\"variance_abf_results_c4.csv\", sep=',')\n",
    "mannwhitneyu(var_abf_results_c4[\"tau\"], var_abf_results_c2[\"tau\"], alternative=\"greater\")\n",
    "# ttest_ind(var_abf_results_c4[\"tau\"], var_abf_results_c2[\"tau\"], equal_var=False)"
   ]
  },
  {
   "cell_type": "markdown",
   "metadata": {},
   "source": [
    "# HR Autocorrelation"
   ]
  },
  {
   "cell_type": "code",
   "execution_count": 19,
   "metadata": {},
   "outputs": [],
   "source": [
    "ac_hr_results_c1 = pd.read_csv(\"autocorrelation_hr_results_c1.csv\", sep=',')"
   ]
  },
  {
   "cell_type": "code",
   "execution_count": 18,
   "metadata": {},
   "outputs": [],
   "source": [
    "ac_hr_results_c2 = pd.read_csv(\"autocorrelation_hr_results_c2_partial.csv\", sep=',')"
   ]
  },
  {
   "cell_type": "code",
   "execution_count": 21,
   "metadata": {},
   "outputs": [
    {
     "data": {
      "text/plain": [
       "MannwhitneyuResult(statistic=125684.0, pvalue=0.0012191296934678617)"
      ]
     },
     "execution_count": 21,
     "metadata": {},
     "output_type": "execute_result"
    }
   ],
   "source": [
    "mannwhitneyu(ac_hr_results_c1[\"tau\"], ac_hr_results_c2_partial[\"tau\"], alternative=\"greater\")"
   ]
  },
  {
   "cell_type": "code",
   "execution_count": 28,
   "metadata": {},
   "outputs": [
    {
     "data": {
      "text/plain": [
       "Ttest_indResult(statistic=3.2668204198979875, pvalue=0.0014027188995708766)"
      ]
     },
     "execution_count": 28,
     "metadata": {},
     "output_type": "execute_result"
    }
   ],
   "source": [
    "ttest_ind(ac_hr_results_c1[\"tau\"], ac_hr_results_c2_partial[\"tau\"], equal_var=False)"
   ]
  },
  {
   "cell_type": "code",
   "execution_count": null,
   "metadata": {},
   "outputs": [],
   "source": []
  },
  {
   "cell_type": "code",
   "execution_count": 16,
   "metadata": {},
   "outputs": [
    {
     "data": {
      "text/plain": [
       "MannwhitneyuResult(statistic=109114.0, pvalue=0.6356464821222764)"
      ]
     },
     "execution_count": 16,
     "metadata": {},
     "output_type": "execute_result"
    }
   ],
   "source": [
    "ac_hr_results_c3 = pd.read_csv(\"autocorrelation_hr_results_c3.csv\", sep=',')\n",
    "mannwhitneyu(ac_hr_results_c3[\"tau\"], ac_hr_results_c2_partial[\"tau\"], alternative=\"greater\")\n",
    "# ttest_ind(ac_hr_results_c3[\"tau\"], ac_hr_results_c2_partial[\"tau\"], equal_var=False)"
   ]
  },
  {
   "cell_type": "code",
   "execution_count": null,
   "metadata": {},
   "outputs": [],
   "source": []
  },
  {
   "cell_type": "code",
   "execution_count": 20,
   "metadata": {},
   "outputs": [
    {
     "data": {
      "text/plain": [
       "Ttest_indResult(statistic=2.422418674817172, pvalue=0.035476443879958616)"
      ]
     },
     "execution_count": 20,
     "metadata": {},
     "output_type": "execute_result"
    }
   ],
   "source": [
    "ac_hr_results_c4 = pd.read_csv(\"autocorrelation_hr_results_c4.csv\", sep=',')\n",
    "mannwhitneyu(ac_hr_results_c4[\"tau\"], ac_hr_results_c2[\"tau\"], alternative=\"greater\")\n",
    "ttest_ind(ac_hr_results_c4[\"tau\"], ac_hr_results_c2[\"tau\"], equal_var=False)"
   ]
  },
  {
   "cell_type": "markdown",
   "metadata": {},
   "source": [
    "# RR Autocorrelation"
   ]
  },
  {
   "cell_type": "code",
   "execution_count": 46,
   "metadata": {},
   "outputs": [],
   "source": [
    "ac_rr_results_c1 = pd.read_csv(\"autocorrelation_rr_results_c1.csv\", sep=',')"
   ]
  },
  {
   "cell_type": "code",
   "execution_count": 22,
   "metadata": {},
   "outputs": [],
   "source": [
    "ac_rr_results_c2 = pd.read_csv(\"autocorrelation_rr_results_c2_partial.csv\", sep=',')"
   ]
  },
  {
   "cell_type": "code",
   "execution_count": 23,
   "metadata": {},
   "outputs": [
    {
     "ename": "NameError",
     "evalue": "name 'ac_rr_results_c1' is not defined",
     "output_type": "error",
     "traceback": [
      "\u001b[0;31m---------------------------------------------------------------------------\u001b[0m",
      "\u001b[0;31mNameError\u001b[0m                                 Traceback (most recent call last)",
      "\u001b[0;32m/var/folders/rg/6x4tlzs16c76vmthv_nxc63r0000gn/T/ipykernel_77444/2323339790.py\u001b[0m in \u001b[0;36m<module>\u001b[0;34m\u001b[0m\n\u001b[0;32m----> 1\u001b[0;31m \u001b[0mmannwhitneyu\u001b[0m\u001b[0;34m(\u001b[0m\u001b[0mac_rr_results_c1\u001b[0m\u001b[0;34m[\u001b[0m\u001b[0;34m\"tau\"\u001b[0m\u001b[0;34m]\u001b[0m\u001b[0;34m,\u001b[0m \u001b[0mac_rr_results_c2_partial\u001b[0m\u001b[0;34m[\u001b[0m\u001b[0;34m\"tau\"\u001b[0m\u001b[0;34m]\u001b[0m\u001b[0;34m,\u001b[0m \u001b[0malternative\u001b[0m\u001b[0;34m=\u001b[0m\u001b[0;34m\"greater\"\u001b[0m\u001b[0;34m)\u001b[0m\u001b[0;34m\u001b[0m\u001b[0;34m\u001b[0m\u001b[0m\n\u001b[0m",
      "\u001b[0;31mNameError\u001b[0m: name 'ac_rr_results_c1' is not defined"
     ]
    }
   ],
   "source": [
    "mannwhitneyu(ac_rr_results_c1[\"tau\"], ac_rr_results_c2_partial[\"tau\"], alternative=\"greater\")"
   ]
  },
  {
   "cell_type": "code",
   "execution_count": 24,
   "metadata": {},
   "outputs": [
    {
     "ename": "NameError",
     "evalue": "name 'ac_rr_results_c1' is not defined",
     "output_type": "error",
     "traceback": [
      "\u001b[0;31m---------------------------------------------------------------------------\u001b[0m",
      "\u001b[0;31mNameError\u001b[0m                                 Traceback (most recent call last)",
      "\u001b[0;32m/var/folders/rg/6x4tlzs16c76vmthv_nxc63r0000gn/T/ipykernel_77444/121216778.py\u001b[0m in \u001b[0;36m<module>\u001b[0;34m\u001b[0m\n\u001b[0;32m----> 1\u001b[0;31m \u001b[0mttest_ind\u001b[0m\u001b[0;34m(\u001b[0m\u001b[0mac_rr_results_c1\u001b[0m\u001b[0;34m[\u001b[0m\u001b[0;34m\"tau\"\u001b[0m\u001b[0;34m]\u001b[0m\u001b[0;34m,\u001b[0m \u001b[0mac_rr_results_c2_partial\u001b[0m\u001b[0;34m[\u001b[0m\u001b[0;34m\"tau\"\u001b[0m\u001b[0;34m]\u001b[0m\u001b[0;34m,\u001b[0m \u001b[0mequal_var\u001b[0m\u001b[0;34m=\u001b[0m\u001b[0;32mFalse\u001b[0m\u001b[0;34m)\u001b[0m\u001b[0;34m\u001b[0m\u001b[0;34m\u001b[0m\u001b[0m\n\u001b[0m",
      "\u001b[0;31mNameError\u001b[0m: name 'ac_rr_results_c1' is not defined"
     ]
    }
   ],
   "source": [
    "ttest_ind(ac_rr_results_c1[\"tau\"], ac_rr_results_c2_partial[\"tau\"], equal_var=False)"
   ]
  },
  {
   "cell_type": "code",
   "execution_count": null,
   "metadata": {},
   "outputs": [],
   "source": []
  },
  {
   "cell_type": "code",
   "execution_count": 25,
   "metadata": {},
   "outputs": [
    {
     "ename": "NameError",
     "evalue": "name 'ac_rr_results_c2_partial' is not defined",
     "output_type": "error",
     "traceback": [
      "\u001b[0;31m---------------------------------------------------------------------------\u001b[0m",
      "\u001b[0;31mNameError\u001b[0m                                 Traceback (most recent call last)",
      "\u001b[0;32m/var/folders/rg/6x4tlzs16c76vmthv_nxc63r0000gn/T/ipykernel_77444/2639627088.py\u001b[0m in \u001b[0;36m<module>\u001b[0;34m\u001b[0m\n\u001b[1;32m      1\u001b[0m \u001b[0mac_rr_results_c3\u001b[0m \u001b[0;34m=\u001b[0m \u001b[0mpd\u001b[0m\u001b[0;34m.\u001b[0m\u001b[0mread_csv\u001b[0m\u001b[0;34m(\u001b[0m\u001b[0;34m\"autocorrelation_rr_results_c3.csv\"\u001b[0m\u001b[0;34m,\u001b[0m \u001b[0msep\u001b[0m\u001b[0;34m=\u001b[0m\u001b[0;34m','\u001b[0m\u001b[0;34m)\u001b[0m\u001b[0;34m\u001b[0m\u001b[0;34m\u001b[0m\u001b[0m\n\u001b[0;32m----> 2\u001b[0;31m \u001b[0mmannwhitneyu\u001b[0m\u001b[0;34m(\u001b[0m\u001b[0mac_rr_results_c3\u001b[0m\u001b[0;34m[\u001b[0m\u001b[0;34m\"tau\"\u001b[0m\u001b[0;34m]\u001b[0m\u001b[0;34m,\u001b[0m \u001b[0mac_rr_results_c2_partial\u001b[0m\u001b[0;34m[\u001b[0m\u001b[0;34m\"tau\"\u001b[0m\u001b[0;34m]\u001b[0m\u001b[0;34m,\u001b[0m \u001b[0malternative\u001b[0m\u001b[0;34m=\u001b[0m\u001b[0;34m\"greater\"\u001b[0m\u001b[0;34m)\u001b[0m\u001b[0;34m\u001b[0m\u001b[0;34m\u001b[0m\u001b[0m\n\u001b[0m\u001b[1;32m      3\u001b[0m \u001b[0;31m# ttest_ind(ac_rr_results_c3[\"tau\"], ac_rr_results_c2_partial[\"tau\"], equal_var=False)\u001b[0m\u001b[0;34m\u001b[0m\u001b[0;34m\u001b[0m\u001b[0;34m\u001b[0m\u001b[0m\n",
      "\u001b[0;31mNameError\u001b[0m: name 'ac_rr_results_c2_partial' is not defined"
     ]
    }
   ],
   "source": [
    "ac_rr_results_c3 = pd.read_csv(\"autocorrelation_rr_results_c3.csv\", sep=',')\n",
    "mannwhitneyu(ac_rr_results_c3[\"tau\"], ac_rr_results_c2_partial[\"tau\"], alternative=\"greater\")\n",
    "# ttest_ind(ac_rr_results_c3[\"tau\"], ac_rr_results_c2_partial[\"tau\"], equal_var=False)"
   ]
  },
  {
   "cell_type": "code",
   "execution_count": null,
   "metadata": {},
   "outputs": [],
   "source": []
  },
  {
   "cell_type": "code",
   "execution_count": 27,
   "metadata": {},
   "outputs": [
    {
     "data": {
      "text/plain": [
       "MannwhitneyuResult(statistic=11474.0, pvalue=0.05922502033026184)"
      ]
     },
     "execution_count": 27,
     "metadata": {},
     "output_type": "execute_result"
    }
   ],
   "source": [
    "ac_rr_results_c4 = pd.read_csv(\"autocorrelation_rr_results_c4.csv\", sep=',')\n",
    "mannwhitneyu(ac_rr_results_c4[\"tau\"], ac_rr_results_c2[\"tau\"], alternative=\"greater\")\n",
    "# ttest_ind(ac_rr_results_c4[\"tau\"], ac_rr_results_c2[\"tau\"], equal_var=False)"
   ]
  },
  {
   "cell_type": "markdown",
   "metadata": {},
   "source": [
    "# ABF Autocorrelation"
   ]
  },
  {
   "cell_type": "code",
   "execution_count": 29,
   "metadata": {},
   "outputs": [],
   "source": [
    "ac_abf_results_c1 = pd.read_csv(\"autocorrelation_abf_results_c1.csv\", sep=\",\")\n",
    "ac_abf_results_c2 = pd.read_csv(\"autocorrelation_abf_results_c2_partial.csv\", sep=\",\")"
   ]
  },
  {
   "cell_type": "code",
   "execution_count": 30,
   "metadata": {},
   "outputs": [
    {
     "data": {
      "text/plain": [
       "MannwhitneyuResult(statistic=44243.0, pvalue=0.25775471963323576)"
      ]
     },
     "execution_count": 30,
     "metadata": {},
     "output_type": "execute_result"
    }
   ],
   "source": [
    "mannwhitneyu(ac_abf_results_c1[\"tau\"], ac_abf_results_c2_partial[\"tau\"], alternative=\"greater\")"
   ]
  },
  {
   "cell_type": "markdown",
   "metadata": {},
   "source": []
  },
  {
   "cell_type": "code",
   "execution_count": 31,
   "metadata": {},
   "outputs": [
    {
     "data": {
      "text/plain": [
       "Ttest_indResult(statistic=1.1312545780160155, pvalue=0.26150634063983996)"
      ]
     },
     "execution_count": 31,
     "metadata": {},
     "output_type": "execute_result"
    }
   ],
   "source": [
    "ttest_ind(ac_abf_results_c1[\"tau\"], ac_abf_results_c2_partial[\"tau\"], equal_var=False)"
   ]
  },
  {
   "cell_type": "code",
   "execution_count": null,
   "metadata": {},
   "outputs": [],
   "source": []
  },
  {
   "cell_type": "code",
   "execution_count": 31,
   "metadata": {},
   "outputs": [
    {
     "data": {
      "text/plain": [
       "Ttest_indResult(statistic=3.876015353399602, pvalue=0.004518520794073467)"
      ]
     },
     "execution_count": 31,
     "metadata": {},
     "output_type": "execute_result"
    }
   ],
   "source": [
    "ac_abf_results_c4 = pd.read_csv(\"autocorrelation_abf_results_c4.csv\", sep=',')\n",
    "mannwhitneyu(ac_abf_results_c4[\"tau\"], ac_abf_results_c2[\"tau\"], alternative=\"greater\")\n",
    "ttest_ind(ac_abf_results_c4[\"tau\"], ac_abf_results_c2[\"tau\"], equal_var=False)"
   ]
  },
  {
   "cell_type": "code",
   "execution_count": null,
   "metadata": {},
   "outputs": [],
   "source": []
  },
  {
   "cell_type": "code",
   "execution_count": 33,
   "metadata": {},
   "outputs": [
    {
     "data": {
      "text/plain": [
       "MannwhitneyuResult(statistic=85685.0, pvalue=0.3352842592349721)"
      ]
     },
     "execution_count": 33,
     "metadata": {},
     "output_type": "execute_result"
    }
   ],
   "source": [
    "var_rr_results_c3 = pd.read_csv(\"variance_rr_results_c3.csv\", sep=',')\n",
    "mannwhitneyu(var_rr_results_c3[\"tau\"], var_rr_results_c2[\"tau\"], alternative=\"greater\")\n",
    "ttest_ind(var_rr_results_c3[\"tau\"], var_rr_results_c2[\"tau\"], equal_var=False)"
   ]
  },
  {
   "cell_type": "code",
   "execution_count": 35,
   "metadata": {},
   "outputs": [
    {
     "data": {
      "text/plain": [
       "MannwhitneyuResult(statistic=42123.0, pvalue=0.5964055004844703)"
      ]
     },
     "execution_count": 35,
     "metadata": {},
     "output_type": "execute_result"
    }
   ],
   "source": [
    "ac_abf_results_c3 = pd.read_csv(\"autocorrelation_abf_results_c3.csv\", sep=',')\n",
    "mannwhitneyu(ac_abf_results_c3[\"tau\"], ac_abf_results_c2[\"tau\"], alternative=\"greater\")\n",
    "# ttest_ind(ac_abf_results_c3[\"tau\"], ac_abf_results_c2[\"tau\"], equal_var=False)"
   ]
  },
  {
   "cell_type": "code",
   "execution_count": null,
   "metadata": {},
   "outputs": [],
   "source": []
  }
 ],
 "metadata": {
  "kernelspec": {
   "display_name": "Python 3.8.12 ('base')",
   "language": "python",
   "name": "python3"
  },
  "language_info": {
   "codemirror_mode": {
    "name": "ipython",
    "version": 3
   },
   "file_extension": ".py",
   "mimetype": "text/x-python",
   "name": "python",
   "nbconvert_exporter": "python",
   "pygments_lexer": "ipython3",
   "version": "3.8.12"
  },
  "orig_nbformat": 4,
  "vscode": {
   "interpreter": {
    "hash": "908e60022c9d4979c292b8b79e14df3460174af298c7d4fb047b137ea57e6458"
   }
  }
 },
 "nbformat": 4,
 "nbformat_minor": 2
}
